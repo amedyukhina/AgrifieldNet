{
  "cells": [
    {
      "cell_type": "markdown",
      "metadata": {
        "id": "view-in-github",
        "colab_type": "text"
      },
      "source": [
        "<a href=\"https://colab.research.google.com/github/amedyukhina/AgrifieldNet/blob/main/landslidenet.ipynb\" target=\"_parent\"><img src=\"https://colab.research.google.com/assets/colab-badge.svg\" alt=\"Open In Colab\"/></a>"
      ]
    },
    {
      "cell_type": "markdown",
      "id": "b832c8d9-62f3-4979-8b1d-ce1d84e382b1",
      "metadata": {
        "id": "b832c8d9-62f3-4979-8b1d-ce1d84e382b1"
      },
      "source": [
        "# Landslide Prevention and Innovation Challenge"
      ]
    },
    {
      "cell_type": "markdown",
      "id": "a0aed401-8e40-499c-989e-239190e96076",
      "metadata": {
        "id": "a0aed401-8e40-499c-989e-239190e96076"
      },
      "source": [
        "## Install and import dependencies"
      ]
    },
    {
      "cell_type": "code",
      "source": [
        "%%writefile requirements.txt\n",
        "\n",
        "monai==0.9.1"
      ],
      "metadata": {
        "colab": {
          "base_uri": "https://localhost:8080/"
        },
        "id": "cuJBRhtRCdig",
        "outputId": "317fbc84-8f1f-42b8-fee4-2490ae0700cb"
      },
      "id": "cuJBRhtRCdig",
      "execution_count": 1,
      "outputs": [
        {
          "output_type": "stream",
          "name": "stdout",
          "text": [
            "Overwriting requirements.txt\n"
          ]
        }
      ]
    },
    {
      "cell_type": "code",
      "source": [
        "!pip install -r requirements.txt"
      ],
      "metadata": {
        "colab": {
          "base_uri": "https://localhost:8080/"
        },
        "id": "fkmYO5TBCfUn",
        "outputId": "412e60b2-a587-41f8-b808-c0221719ae3c"
      },
      "id": "fkmYO5TBCfUn",
      "execution_count": 2,
      "outputs": [
        {
          "output_type": "stream",
          "name": "stdout",
          "text": [
            "Looking in indexes: https://pypi.org/simple, https://us-python.pkg.dev/colab-wheels/public/simple/\n",
            "Requirement already satisfied: monai==0.9.1 in /usr/local/lib/python3.7/dist-packages (from -r requirements.txt (line 2)) (0.9.1)\n",
            "Requirement already satisfied: numpy>=1.17 in /usr/local/lib/python3.7/dist-packages (from monai==0.9.1->-r requirements.txt (line 2)) (1.21.6)\n",
            "Requirement already satisfied: torch>=1.7 in /usr/local/lib/python3.7/dist-packages (from monai==0.9.1->-r requirements.txt (line 2)) (1.12.1+cu113)\n",
            "Requirement already satisfied: typing-extensions in /usr/local/lib/python3.7/dist-packages (from torch>=1.7->monai==0.9.1->-r requirements.txt (line 2)) (4.1.1)\n"
          ]
        }
      ]
    },
    {
      "cell_type": "code",
      "execution_count": 3,
      "id": "7347a57e-214d-4886-bd0c-88bfa8eac56b",
      "metadata": {
        "id": "7347a57e-214d-4886-bd0c-88bfa8eac56b"
      },
      "outputs": [],
      "source": [
        "import numpy as np\n",
        "import os\n",
        "import pandas as pd\n",
        "from skimage import io\n",
        "import pylab as plt\n",
        "from tqdm import tqdm\n",
        "import re\n",
        "import torch\n",
        "import torch.utils.data\n",
        "from torch import nn\n",
        "from torchvision import transforms as torch_transforms\n",
        "from monai.networks.nets import DenseNet\n",
        "from sklearn.metrics import f1_score\n",
        "from google.colab import files"
      ]
    },
    {
      "cell_type": "code",
      "execution_count": 4,
      "id": "7fb1a61a-07a6-4bbf-96d8-a75cdf27e65b",
      "metadata": {
        "id": "7fb1a61a-07a6-4bbf-96d8-a75cdf27e65b"
      },
      "outputs": [],
      "source": [
        "random_seed = 42"
      ]
    },
    {
      "cell_type": "markdown",
      "id": "bc8d81b5-e6ff-4771-b89c-ae9ded762bf4",
      "metadata": {
        "id": "bc8d81b5-e6ff-4771-b89c-ae9ded762bf4"
      },
      "source": [
        "## Load and transform training data"
      ]
    },
    {
      "cell_type": "code",
      "execution_count": 5,
      "id": "f0a71491-2e9b-4302-b430-648a8df71a6b",
      "metadata": {
        "id": "f0a71491-2e9b-4302-b430-648a8df71a6b"
      },
      "outputs": [],
      "source": [
        "# upload training data\n",
        "if not os.path.exists('Train.csv'):\n",
        "    uploaded = files.upload()"
      ]
    },
    {
      "cell_type": "code",
      "execution_count": 6,
      "id": "89f45d48-72d8-4841-ae60-174f6365e777",
      "metadata": {
        "id": "89f45d48-72d8-4841-ae60-174f6365e777"
      },
      "outputs": [],
      "source": [
        "# upload test data\n",
        "if not os.path.exists('Test.csv'):\n",
        "    uploaded = files.upload()"
      ]
    },
    {
      "cell_type": "code",
      "execution_count": 7,
      "id": "5c43acf1-887a-49a5-b0b1-07067812bd98",
      "metadata": {
        "id": "5c43acf1-887a-49a5-b0b1-07067812bd98"
      },
      "outputs": [],
      "source": [
        "# Read files to pandas dataframes\n",
        "df = pd.read_csv('Train.csv')"
      ]
    },
    {
      "cell_type": "code",
      "execution_count": 8,
      "id": "a829a3a8-29d8-4322-99c1-8b50e8d628eb",
      "metadata": {
        "id": "a829a3a8-29d8-4322-99c1-8b50e8d628eb"
      },
      "outputs": [],
      "source": [
        "def transform_table(df):\n",
        "    features = np.array([re.findall('(\\d+)_(.+)', c)[0] for c in df.columns \n",
        "            if len(re.findall('(\\d+)_(.+)', c)) > 0]).transpose()\n",
        "    unique_cells = np.unique(features[0])\n",
        "    unique_features = np.unique(features[1])\n",
        "    df['id'] = df.index\n",
        "    # move the features to rows\n",
        "    df = pd.wide_to_long(df, list(unique_cells), i=\"id\", \n",
        "                     j=\"feature\", sep='_', suffix='\\w+').reset_index()\n",
        "    # move the cells to rows\n",
        "    df = df.melt(id_vars=['feature', 'Sample_ID', 'Label'], \n",
        "        value_vars=list(unique_cells),\n",
        "        var_name='cell', value_name='feature_value')\n",
        "    \n",
        "    # convert cell ids to int and sort\n",
        "    df['cell'] = np.int_(df['cell'])\n",
        "    df = df.sort_values(['Sample_ID', 'cell']).reset_index(drop=True)\n",
        "    \n",
        "    # move features back to columns\n",
        "    df = df.pivot(index=['Sample_ID', 'cell', 'Label'], \n",
        "         columns='feature', values='feature_value').reset_index()\n",
        "    df.columns.name = None\n",
        "    \n",
        "    return df"
      ]
    },
    {
      "cell_type": "code",
      "execution_count": 9,
      "id": "7f0a869d-fa4a-4691-828a-5399dc93e2b0",
      "metadata": {
        "id": "7f0a869d-fa4a-4691-828a-5399dc93e2b0",
        "outputId": "902ef72c-3d69-42e5-b6fe-a1e780c31dbe",
        "colab": {
          "base_uri": "https://localhost:8080/",
          "height": 206
        }
      },
      "outputs": [
        {
          "output_type": "execute_result",
          "data": {
            "text/plain": [
              "   Sample_ID  cell  Label    aspect  elevation  geology  lsfactor   placurv  \\\n",
              "0          1     1      0   98.1301      130.0      3.0  8.045186  0.038514   \n",
              "1          1     2      0  113.1986      129.0      3.0  8.333038  0.029463   \n",
              "2          1     3      0  116.5650      127.0      3.0  7.819405  0.031405   \n",
              "3          1     4      0  123.6901      126.0      3.0  8.032228  0.025771   \n",
              "4          1     5      0  135.0000      123.0      3.0  9.818933  0.010453   \n",
              "\n",
              "    procurv     sdoif     slope       twi  \n",
              "0  0.013903  1.281767  35.26439  3.173340  \n",
              "1  0.014674  1.281743  37.29208  2.961406  \n",
              "2  0.018249  1.281708  33.85452  3.315935  \n",
              "3  0.018368  1.281684  35.79576  3.061250  \n",
              "4  0.003341  1.281649  40.31554  3.246914  "
            ],
            "text/html": [
              "\n",
              "  <div id=\"df-1820b25c-b2dd-41ba-9466-62f62a6d21f1\">\n",
              "    <div class=\"colab-df-container\">\n",
              "      <div>\n",
              "<style scoped>\n",
              "    .dataframe tbody tr th:only-of-type {\n",
              "        vertical-align: middle;\n",
              "    }\n",
              "\n",
              "    .dataframe tbody tr th {\n",
              "        vertical-align: top;\n",
              "    }\n",
              "\n",
              "    .dataframe thead th {\n",
              "        text-align: right;\n",
              "    }\n",
              "</style>\n",
              "<table border=\"1\" class=\"dataframe\">\n",
              "  <thead>\n",
              "    <tr style=\"text-align: right;\">\n",
              "      <th></th>\n",
              "      <th>Sample_ID</th>\n",
              "      <th>cell</th>\n",
              "      <th>Label</th>\n",
              "      <th>aspect</th>\n",
              "      <th>elevation</th>\n",
              "      <th>geology</th>\n",
              "      <th>lsfactor</th>\n",
              "      <th>placurv</th>\n",
              "      <th>procurv</th>\n",
              "      <th>sdoif</th>\n",
              "      <th>slope</th>\n",
              "      <th>twi</th>\n",
              "    </tr>\n",
              "  </thead>\n",
              "  <tbody>\n",
              "    <tr>\n",
              "      <th>0</th>\n",
              "      <td>1</td>\n",
              "      <td>1</td>\n",
              "      <td>0</td>\n",
              "      <td>98.1301</td>\n",
              "      <td>130.0</td>\n",
              "      <td>3.0</td>\n",
              "      <td>8.045186</td>\n",
              "      <td>0.038514</td>\n",
              "      <td>0.013903</td>\n",
              "      <td>1.281767</td>\n",
              "      <td>35.26439</td>\n",
              "      <td>3.173340</td>\n",
              "    </tr>\n",
              "    <tr>\n",
              "      <th>1</th>\n",
              "      <td>1</td>\n",
              "      <td>2</td>\n",
              "      <td>0</td>\n",
              "      <td>113.1986</td>\n",
              "      <td>129.0</td>\n",
              "      <td>3.0</td>\n",
              "      <td>8.333038</td>\n",
              "      <td>0.029463</td>\n",
              "      <td>0.014674</td>\n",
              "      <td>1.281743</td>\n",
              "      <td>37.29208</td>\n",
              "      <td>2.961406</td>\n",
              "    </tr>\n",
              "    <tr>\n",
              "      <th>2</th>\n",
              "      <td>1</td>\n",
              "      <td>3</td>\n",
              "      <td>0</td>\n",
              "      <td>116.5650</td>\n",
              "      <td>127.0</td>\n",
              "      <td>3.0</td>\n",
              "      <td>7.819405</td>\n",
              "      <td>0.031405</td>\n",
              "      <td>0.018249</td>\n",
              "      <td>1.281708</td>\n",
              "      <td>33.85452</td>\n",
              "      <td>3.315935</td>\n",
              "    </tr>\n",
              "    <tr>\n",
              "      <th>3</th>\n",
              "      <td>1</td>\n",
              "      <td>4</td>\n",
              "      <td>0</td>\n",
              "      <td>123.6901</td>\n",
              "      <td>126.0</td>\n",
              "      <td>3.0</td>\n",
              "      <td>8.032228</td>\n",
              "      <td>0.025771</td>\n",
              "      <td>0.018368</td>\n",
              "      <td>1.281684</td>\n",
              "      <td>35.79576</td>\n",
              "      <td>3.061250</td>\n",
              "    </tr>\n",
              "    <tr>\n",
              "      <th>4</th>\n",
              "      <td>1</td>\n",
              "      <td>5</td>\n",
              "      <td>0</td>\n",
              "      <td>135.0000</td>\n",
              "      <td>123.0</td>\n",
              "      <td>3.0</td>\n",
              "      <td>9.818933</td>\n",
              "      <td>0.010453</td>\n",
              "      <td>0.003341</td>\n",
              "      <td>1.281649</td>\n",
              "      <td>40.31554</td>\n",
              "      <td>3.246914</td>\n",
              "    </tr>\n",
              "  </tbody>\n",
              "</table>\n",
              "</div>\n",
              "      <button class=\"colab-df-convert\" onclick=\"convertToInteractive('df-1820b25c-b2dd-41ba-9466-62f62a6d21f1')\"\n",
              "              title=\"Convert this dataframe to an interactive table.\"\n",
              "              style=\"display:none;\">\n",
              "        \n",
              "  <svg xmlns=\"http://www.w3.org/2000/svg\" height=\"24px\"viewBox=\"0 0 24 24\"\n",
              "       width=\"24px\">\n",
              "    <path d=\"M0 0h24v24H0V0z\" fill=\"none\"/>\n",
              "    <path d=\"M18.56 5.44l.94 2.06.94-2.06 2.06-.94-2.06-.94-.94-2.06-.94 2.06-2.06.94zm-11 1L8.5 8.5l.94-2.06 2.06-.94-2.06-.94L8.5 2.5l-.94 2.06-2.06.94zm10 10l.94 2.06.94-2.06 2.06-.94-2.06-.94-.94-2.06-.94 2.06-2.06.94z\"/><path d=\"M17.41 7.96l-1.37-1.37c-.4-.4-.92-.59-1.43-.59-.52 0-1.04.2-1.43.59L10.3 9.45l-7.72 7.72c-.78.78-.78 2.05 0 2.83L4 21.41c.39.39.9.59 1.41.59.51 0 1.02-.2 1.41-.59l7.78-7.78 2.81-2.81c.8-.78.8-2.07 0-2.86zM5.41 20L4 18.59l7.72-7.72 1.47 1.35L5.41 20z\"/>\n",
              "  </svg>\n",
              "      </button>\n",
              "      \n",
              "  <style>\n",
              "    .colab-df-container {\n",
              "      display:flex;\n",
              "      flex-wrap:wrap;\n",
              "      gap: 12px;\n",
              "    }\n",
              "\n",
              "    .colab-df-convert {\n",
              "      background-color: #E8F0FE;\n",
              "      border: none;\n",
              "      border-radius: 50%;\n",
              "      cursor: pointer;\n",
              "      display: none;\n",
              "      fill: #1967D2;\n",
              "      height: 32px;\n",
              "      padding: 0 0 0 0;\n",
              "      width: 32px;\n",
              "    }\n",
              "\n",
              "    .colab-df-convert:hover {\n",
              "      background-color: #E2EBFA;\n",
              "      box-shadow: 0px 1px 2px rgba(60, 64, 67, 0.3), 0px 1px 3px 1px rgba(60, 64, 67, 0.15);\n",
              "      fill: #174EA6;\n",
              "    }\n",
              "\n",
              "    [theme=dark] .colab-df-convert {\n",
              "      background-color: #3B4455;\n",
              "      fill: #D2E3FC;\n",
              "    }\n",
              "\n",
              "    [theme=dark] .colab-df-convert:hover {\n",
              "      background-color: #434B5C;\n",
              "      box-shadow: 0px 1px 3px 1px rgba(0, 0, 0, 0.15);\n",
              "      filter: drop-shadow(0px 1px 2px rgba(0, 0, 0, 0.3));\n",
              "      fill: #FFFFFF;\n",
              "    }\n",
              "  </style>\n",
              "\n",
              "      <script>\n",
              "        const buttonEl =\n",
              "          document.querySelector('#df-1820b25c-b2dd-41ba-9466-62f62a6d21f1 button.colab-df-convert');\n",
              "        buttonEl.style.display =\n",
              "          google.colab.kernel.accessAllowed ? 'block' : 'none';\n",
              "\n",
              "        async function convertToInteractive(key) {\n",
              "          const element = document.querySelector('#df-1820b25c-b2dd-41ba-9466-62f62a6d21f1');\n",
              "          const dataTable =\n",
              "            await google.colab.kernel.invokeFunction('convertToInteractive',\n",
              "                                                     [key], {});\n",
              "          if (!dataTable) return;\n",
              "\n",
              "          const docLinkHtml = 'Like what you see? Visit the ' +\n",
              "            '<a target=\"_blank\" href=https://colab.research.google.com/notebooks/data_table.ipynb>data table notebook</a>'\n",
              "            + ' to learn more about interactive tables.';\n",
              "          element.innerHTML = '';\n",
              "          dataTable['output_type'] = 'display_data';\n",
              "          await google.colab.output.renderOutput(dataTable, element);\n",
              "          const docLink = document.createElement('div');\n",
              "          docLink.innerHTML = docLinkHtml;\n",
              "          element.appendChild(docLink);\n",
              "        }\n",
              "      </script>\n",
              "    </div>\n",
              "  </div>\n",
              "  "
            ]
          },
          "metadata": {},
          "execution_count": 9
        }
      ],
      "source": [
        "df = transform_table(df)\n",
        "df.head()"
      ]
    },
    {
      "cell_type": "markdown",
      "id": "f57079e4-ff76-4cfe-8524-1563d32ddb32",
      "metadata": {
        "id": "f57079e4-ff76-4cfe-8524-1563d32ddb32"
      },
      "source": [
        "## Split into train and validation"
      ]
    },
    {
      "cell_type": "code",
      "execution_count": 10,
      "id": "cd111498-c13d-4e28-91e0-1ef17484fa07",
      "metadata": {
        "id": "cd111498-c13d-4e28-91e0-1ef17484fa07"
      },
      "outputs": [],
      "source": [
        "val_fraction = 0.2"
      ]
    },
    {
      "cell_type": "code",
      "execution_count": 11,
      "id": "58c5d774-0aff-4177-b464-2a1fa9bab84a",
      "metadata": {
        "id": "58c5d774-0aff-4177-b464-2a1fa9bab84a"
      },
      "outputs": [],
      "source": [
        "np.random.seed(random_seed)"
      ]
    },
    {
      "cell_type": "code",
      "execution_count": 12,
      "id": "df7604fa-4ef1-43cb-b7ff-6819ec56217f",
      "metadata": {
        "id": "df7604fa-4ef1-43cb-b7ff-6819ec56217f"
      },
      "outputs": [],
      "source": [
        "ind = np.unique(df['Sample_ID'])\n",
        "np.random.shuffle(ind)"
      ]
    },
    {
      "cell_type": "code",
      "execution_count": 13,
      "id": "fc1a69a5-0e51-44a5-a06a-b001af23b45d",
      "metadata": {
        "id": "fc1a69a5-0e51-44a5-a06a-b001af23b45d",
        "outputId": "9762da8d-6ab2-492f-d086-79c96fa5f45c",
        "colab": {
          "base_uri": "https://localhost:8080/"
        }
      },
      "outputs": [
        {
          "output_type": "execute_result",
          "data": {
            "text/plain": [
              "2172"
            ]
          },
          "metadata": {},
          "execution_count": 13
        }
      ],
      "source": [
        "n_val = int(val_fraction * len(ind))\n",
        "n_val"
      ]
    },
    {
      "cell_type": "code",
      "execution_count": 14,
      "id": "992c5ef7-6d64-41b7-a7a4-fc0bbcf17bd6",
      "metadata": {
        "id": "992c5ef7-6d64-41b7-a7a4-fc0bbcf17bd6"
      },
      "outputs": [],
      "source": [
        "df_train = df[df['Sample_ID'].isin(ind[n_val:])].reset_index(drop=True)\n",
        "df_val = df[df['Sample_ID'].isin(ind[:n_val])].reset_index(drop=True)"
      ]
    },
    {
      "cell_type": "code",
      "execution_count": 15,
      "id": "7b713457-86f0-48e9-8470-f9fe663e4546",
      "metadata": {
        "id": "7b713457-86f0-48e9-8470-f9fe663e4546",
        "outputId": "65a9a99b-7b18-4932-a0c3-6314e5106abf",
        "colab": {
          "base_uri": "https://localhost:8080/"
        }
      },
      "outputs": [
        {
          "output_type": "execute_result",
          "data": {
            "text/plain": [
              "array([1.        , 3.02407407])"
            ]
          },
          "metadata": {},
          "execution_count": 15
        }
      ],
      "source": [
        "weights = df_train.groupby(['Label']).count()['Sample_ID'].values\n",
        "weights = np.max(weights) / weights\n",
        "weights"
      ]
    },
    {
      "cell_type": "markdown",
      "id": "955ca830-5cc8-4f89-9f03-52350ca79bc1",
      "metadata": {
        "id": "955ca830-5cc8-4f89-9f03-52350ca79bc1"
      },
      "source": [
        "## Set up data pipeline"
      ]
    },
    {
      "cell_type": "code",
      "execution_count": 16,
      "id": "c11da571-8e06-4211-a53e-d03f79d6574b",
      "metadata": {
        "id": "c11da571-8e06-4211-a53e-d03f79d6574b"
      },
      "outputs": [],
      "source": [
        "batch_size = 64"
      ]
    },
    {
      "cell_type": "code",
      "execution_count": 17,
      "id": "11ac4e73-c810-42c1-b831-8286fa5253fc",
      "metadata": {
        "id": "11ac4e73-c810-42c1-b831-8286fa5253fc"
      },
      "outputs": [],
      "source": [
        "class DatasetTrain(torch.utils.data.Dataset):\n",
        "\n",
        "    def __init__(self, df, transforms=None):\n",
        "        self.df = df\n",
        "        self.sample_ids = np.unique(df['Sample_ID'])\n",
        "        self.features = [c for c in df.columns if not c in ['Sample_ID', 'cell', 'Label']]\n",
        "        self.transforms = transforms\n",
        "\n",
        "    def __getitem__(self, index):\n",
        "        data = self.df[self.df['Sample_ID'] == self.sample_ids[index]]\n",
        "        label = torch.tensor(data['Label'].iloc[0], dtype=torch.int64)\n",
        "        data = data[self.features].values\n",
        "        data = data.transpose()\n",
        "        data = torch.tensor(data.reshape((-1, 5, 5)), dtype=torch.float64)\n",
        "\n",
        "        if self.transforms:\n",
        "            seed = np.random.randint(np.iinfo('int32').max)\n",
        "            torch.manual_seed(seed)\n",
        "            data = self.transforms(data)\n",
        "\n",
        "        return data.float(), label, self.sample_ids[index]\n",
        "\n",
        "\n",
        "    def __len__(self):\n",
        "        return len(self.sample_ids)"
      ]
    },
    {
      "cell_type": "code",
      "execution_count": 18,
      "id": "9d20981d-7c72-4f38-bb6d-521ccc11444e",
      "metadata": {
        "id": "9d20981d-7c72-4f38-bb6d-521ccc11444e"
      },
      "outputs": [],
      "source": [
        "train_val_transforms = torch_transforms.Compose([\n",
        "        torch_transforms.Resize(125),\n",
        "        torch_transforms.RandomHorizontalFlip(),\n",
        "        torch_transforms.RandomVerticalFlip(),\n",
        "    ])\n",
        "test_transforms = torch_transforms.Compose([\n",
        "        torch_transforms.Resize(125)\n",
        "    ])"
      ]
    },
    {
      "cell_type": "code",
      "execution_count": 19,
      "id": "829395f9-c927-4d64-a3b5-eb543d467c7e",
      "metadata": {
        "id": "829395f9-c927-4d64-a3b5-eb543d467c7e"
      },
      "outputs": [],
      "source": [
        "np.random.seed(random_seed)\n",
        "dl_train = torch.utils.data.DataLoader(\n",
        "    DatasetTrain(df_train, transforms=train_val_transforms), \n",
        "    shuffle=True, batch_size=batch_size, num_workers=2\n",
        "    )\n",
        "dl_val = torch.utils.data.DataLoader(\n",
        "    DatasetTrain(df_val, transforms=train_val_transforms), \n",
        "    shuffle=False, batch_size=batch_size, num_workers=2\n",
        "    )"
      ]
    },
    {
      "cell_type": "markdown",
      "id": "62f6f6de-ee4a-4d89-b5eb-fbdefc12f620",
      "metadata": {
        "id": "62f6f6de-ee4a-4d89-b5eb-fbdefc12f620"
      },
      "source": [
        "## Specify training pipeline"
      ]
    },
    {
      "cell_type": "code",
      "execution_count": 20,
      "id": "3b202a85-483a-47f4-a826-b115deb869c0",
      "metadata": {
        "id": "3b202a85-483a-47f4-a826-b115deb869c0"
      },
      "outputs": [],
      "source": [
        "lr = 0.0001\n",
        "weight_decay = 0.0005\n",
        "factor = 0.1\n",
        "patience = 5\n",
        "epochs = 100"
      ]
    },
    {
      "cell_type": "code",
      "execution_count": 21,
      "id": "8932de4e-0a15-4bc7-a617-5228bb7272ab",
      "metadata": {
        "id": "8932de4e-0a15-4bc7-a617-5228bb7272ab"
      },
      "outputs": [],
      "source": [
        "net = DenseNet(spatial_dims=2, \n",
        "               in_channels=len([c for c in df_train.columns \n",
        "                                if not c in ['Sample_ID', 'cell', 'Label']]), \n",
        "               out_channels=2).cuda()"
      ]
    },
    {
      "cell_type": "code",
      "execution_count": 22,
      "id": "08c9d074-9574-4189-8b7a-64aad1b9d5f9",
      "metadata": {
        "id": "08c9d074-9574-4189-8b7a-64aad1b9d5f9"
      },
      "outputs": [],
      "source": [
        "loss_fn = nn.CrossEntropyLoss(weight=torch.tensor(weights).float()).cuda()\n",
        "optimizer = torch.optim.AdamW(\n",
        "    params=[{\"params\": [p for p in net.parameters() if p.requires_grad]}],\n",
        "            lr=lr, weight_decay=weight_decay\n",
        "            )\n",
        "lr_scheduler = torch.optim.lr_scheduler.ReduceLROnPlateau(\n",
        "    optimizer, mode='min', factor=factor, patience=patience\n",
        "    )"
      ]
    },
    {
      "cell_type": "code",
      "execution_count": 23,
      "id": "13075cce-b5fe-42b4-b6cb-826957372229",
      "metadata": {
        "id": "13075cce-b5fe-42b4-b6cb-826957372229"
      },
      "outputs": [],
      "source": [
        "def train_epoch(net, loss_fn, dl_train, optimizer):\n",
        "    net.train()\n",
        "    loss_fn.train()\n",
        "    epoch_loss = 0\n",
        "    step = 0\n",
        "    for imgs, targets, ids in tqdm(dl_train):\n",
        "        step += 1\n",
        "        optimizer.zero_grad()\n",
        "        outputs = net(imgs.cuda())\n",
        "        losses = loss_fn(outputs, targets.cuda())\n",
        "        losses.backward()\n",
        "        optimizer.step()\n",
        "        epoch_loss += losses.item()\n",
        "        epoch_loss /= step\n",
        "        return epoch_loss"
      ]
    },
    {
      "cell_type": "code",
      "execution_count": 24,
      "id": "e52b62d5-92ae-4d6d-9301-9dfbc05af1c5",
      "metadata": {
        "id": "e52b62d5-92ae-4d6d-9301-9dfbc05af1c5"
      },
      "outputs": [],
      "source": [
        "def validate_epoch(net, loss_fn, dl_val):\n",
        "    net.eval()\n",
        "    loss_fn.eval()\n",
        "    epoch_loss = 0\n",
        "    step = 0\n",
        "\n",
        "    metric = 0\n",
        "    with torch.no_grad():\n",
        "        for imgs, targets, ids in tqdm(dl_val):\n",
        "            step += 1\n",
        "            outputs = net(imgs.cuda())\n",
        "            losses = loss_fn(outputs, targets.cuda())\n",
        "            epoch_loss += losses.item()\n",
        "            metric += f1_score(outputs.argmax(1).cpu().numpy(), \n",
        "                               targets.cpu().numpy())\n",
        "        epoch_loss /= step\n",
        "        metric /= step\n",
        "    return epoch_loss, metric"
      ]
    },
    {
      "cell_type": "markdown",
      "id": "e96de9a7-577d-4e16-89dd-d36373df7117",
      "metadata": {
        "id": "e96de9a7-577d-4e16-89dd-d36373df7117"
      },
      "source": [
        "## Train"
      ]
    },
    {
      "cell_type": "code",
      "execution_count": 25,
      "id": "39f889b4-c039-438b-9c31-e14fb0996071",
      "metadata": {
        "id": "39f889b4-c039-438b-9c31-e14fb0996071",
        "colab": {
          "base_uri": "https://localhost:8080/"
        },
        "outputId": "6be5287b-9523-4e7c-b173-d6aaa2415b2c"
      },
      "outputs": [
        {
          "output_type": "stream",
          "name": "stderr",
          "text": [
            "  0%|          | 0/136 [00:03<?, ?it/s]\n",
            "100%|██████████| 34/34 [00:09<00:00,  3.63it/s]\n"
          ]
        },
        {
          "output_type": "stream",
          "name": "stdout",
          "text": [
            "epoch 1 training loss: 0.7898; validation loss: 0.8758; F1 Score: 0.4037; lr: 0.0001\n",
            "saving best model\n"
          ]
        },
        {
          "output_type": "stream",
          "name": "stderr",
          "text": [
            "  0%|          | 0/136 [00:01<?, ?it/s]\n",
            "100%|██████████| 34/34 [00:05<00:00,  5.76it/s]\n"
          ]
        },
        {
          "output_type": "stream",
          "name": "stdout",
          "text": [
            "epoch 2 training loss: 0.8421; validation loss: 0.7608; F1 Score: 0.0057; lr: 0.0001\n"
          ]
        },
        {
          "output_type": "stream",
          "name": "stderr",
          "text": [
            "  0%|          | 0/136 [00:00<?, ?it/s]\n",
            "100%|██████████| 34/34 [00:05<00:00,  6.43it/s]\n"
          ]
        },
        {
          "output_type": "stream",
          "name": "stdout",
          "text": [
            "epoch 3 training loss: 0.7440; validation loss: 0.9222; F1 Score: 0.0278; lr: 0.0001\n"
          ]
        },
        {
          "output_type": "stream",
          "name": "stderr",
          "text": [
            "  0%|          | 0/136 [00:00<?, ?it/s]\n",
            "100%|██████████| 34/34 [00:05<00:00,  6.33it/s]\n"
          ]
        },
        {
          "output_type": "stream",
          "name": "stdout",
          "text": [
            "epoch 4 training loss: 0.6861; validation loss: 1.0640; F1 Score: 0.0515; lr: 0.0001\n"
          ]
        },
        {
          "output_type": "stream",
          "name": "stderr",
          "text": [
            "  0%|          | 0/136 [00:00<?, ?it/s]\n",
            "100%|██████████| 34/34 [00:06<00:00,  5.64it/s]\n"
          ]
        },
        {
          "output_type": "stream",
          "name": "stdout",
          "text": [
            "epoch 5 training loss: 0.7643; validation loss: 1.0879; F1 Score: 0.1037; lr: 0.0001\n"
          ]
        },
        {
          "output_type": "stream",
          "name": "stderr",
          "text": [
            "  0%|          | 0/136 [00:00<?, ?it/s]\n",
            "100%|██████████| 34/34 [00:05<00:00,  5.88it/s]\n"
          ]
        },
        {
          "output_type": "stream",
          "name": "stdout",
          "text": [
            "epoch 6 training loss: 0.6430; validation loss: 1.0515; F1 Score: 0.1498; lr: 0.0001\n"
          ]
        },
        {
          "output_type": "stream",
          "name": "stderr",
          "text": [
            "  0%|          | 0/136 [00:00<?, ?it/s]\n",
            "100%|██████████| 34/34 [00:05<00:00,  6.38it/s]\n"
          ]
        },
        {
          "output_type": "stream",
          "name": "stdout",
          "text": [
            "epoch 7 training loss: 0.6962; validation loss: 0.9846; F1 Score: 0.2177; lr: 0.0001\n"
          ]
        },
        {
          "output_type": "stream",
          "name": "stderr",
          "text": [
            "  0%|          | 0/136 [00:00<?, ?it/s]\n",
            "100%|██████████| 34/34 [00:05<00:00,  6.44it/s]\n"
          ]
        },
        {
          "output_type": "stream",
          "name": "stdout",
          "text": [
            "epoch 8 training loss: 0.7027; validation loss: 0.8809; F1 Score: 0.2770; lr: 1e-05\n"
          ]
        },
        {
          "output_type": "stream",
          "name": "stderr",
          "text": [
            "  0%|          | 0/136 [00:00<?, ?it/s]\n",
            "100%|██████████| 34/34 [00:05<00:00,  6.36it/s]\n"
          ]
        },
        {
          "output_type": "stream",
          "name": "stdout",
          "text": [
            "epoch 9 training loss: 0.7443; validation loss: 0.8116; F1 Score: 0.3355; lr: 1e-05\n"
          ]
        },
        {
          "output_type": "stream",
          "name": "stderr",
          "text": [
            "  0%|          | 0/136 [00:00<?, ?it/s]\n",
            "100%|██████████| 34/34 [00:05<00:00,  6.30it/s]\n"
          ]
        },
        {
          "output_type": "stream",
          "name": "stdout",
          "text": [
            "epoch 10 training loss: 0.6755; validation loss: 0.7677; F1 Score: 0.3641; lr: 1e-05\n"
          ]
        },
        {
          "output_type": "stream",
          "name": "stderr",
          "text": [
            "  0%|          | 0/136 [00:00<?, ?it/s]\n",
            "100%|██████████| 34/34 [00:05<00:00,  6.44it/s]\n"
          ]
        },
        {
          "output_type": "stream",
          "name": "stdout",
          "text": [
            "epoch 11 training loss: 0.6879; validation loss: 0.7335; F1 Score: 0.3859; lr: 1e-05\n"
          ]
        },
        {
          "output_type": "stream",
          "name": "stderr",
          "text": [
            "  0%|          | 0/136 [00:00<?, ?it/s]\n",
            "100%|██████████| 34/34 [00:05<00:00,  6.30it/s]\n"
          ]
        },
        {
          "output_type": "stream",
          "name": "stdout",
          "text": [
            "epoch 12 training loss: 0.7153; validation loss: 0.7122; F1 Score: 0.4036; lr: 1e-05\n"
          ]
        },
        {
          "output_type": "stream",
          "name": "stderr",
          "text": [
            "  0%|          | 0/136 [00:00<?, ?it/s]\n",
            "100%|██████████| 34/34 [00:05<00:00,  6.37it/s]\n"
          ]
        },
        {
          "output_type": "stream",
          "name": "stdout",
          "text": [
            "epoch 13 training loss: 0.6445; validation loss: 0.6957; F1 Score: 0.4244; lr: 1e-05\n",
            "saving best model\n"
          ]
        },
        {
          "output_type": "stream",
          "name": "stderr",
          "text": [
            "  0%|          | 0/136 [00:00<?, ?it/s]\n",
            "100%|██████████| 34/34 [00:05<00:00,  6.35it/s]\n"
          ]
        },
        {
          "output_type": "stream",
          "name": "stdout",
          "text": [
            "epoch 14 training loss: 0.6245; validation loss: 0.6873; F1 Score: 0.4280; lr: 1e-05\n",
            "saving best model\n"
          ]
        },
        {
          "output_type": "stream",
          "name": "stderr",
          "text": [
            "  0%|          | 0/136 [00:00<?, ?it/s]\n",
            "100%|██████████| 34/34 [00:06<00:00,  4.91it/s]\n"
          ]
        },
        {
          "output_type": "stream",
          "name": "stdout",
          "text": [
            "epoch 15 training loss: 0.5913; validation loss: 0.6784; F1 Score: 0.4350; lr: 1e-05\n",
            "saving best model\n"
          ]
        },
        {
          "output_type": "stream",
          "name": "stderr",
          "text": [
            "  0%|          | 0/136 [00:00<?, ?it/s]\n",
            "100%|██████████| 34/34 [00:05<00:00,  6.34it/s]\n"
          ]
        },
        {
          "output_type": "stream",
          "name": "stdout",
          "text": [
            "epoch 16 training loss: 0.6565; validation loss: 0.6735; F1 Score: 0.4407; lr: 1e-05\n",
            "saving best model\n"
          ]
        },
        {
          "output_type": "stream",
          "name": "stderr",
          "text": [
            "  0%|          | 0/136 [00:00<?, ?it/s]\n",
            "100%|██████████| 34/34 [00:05<00:00,  6.30it/s]\n"
          ]
        },
        {
          "output_type": "stream",
          "name": "stdout",
          "text": [
            "epoch 17 training loss: 0.6749; validation loss: 0.6679; F1 Score: 0.4431; lr: 1e-05\n",
            "saving best model\n"
          ]
        },
        {
          "output_type": "stream",
          "name": "stderr",
          "text": [
            "  0%|          | 0/136 [00:00<?, ?it/s]\n",
            "100%|██████████| 34/34 [00:05<00:00,  6.25it/s]\n"
          ]
        },
        {
          "output_type": "stream",
          "name": "stdout",
          "text": [
            "epoch 18 training loss: 0.6282; validation loss: 0.6649; F1 Score: 0.4457; lr: 1e-05\n",
            "saving best model\n"
          ]
        },
        {
          "output_type": "stream",
          "name": "stderr",
          "text": [
            "  0%|          | 0/136 [00:00<?, ?it/s]\n",
            "100%|██████████| 34/34 [00:05<00:00,  6.29it/s]\n"
          ]
        },
        {
          "output_type": "stream",
          "name": "stdout",
          "text": [
            "epoch 19 training loss: 0.6083; validation loss: 0.6622; F1 Score: 0.4469; lr: 1e-05\n",
            "saving best model\n"
          ]
        },
        {
          "output_type": "stream",
          "name": "stderr",
          "text": [
            "  0%|          | 0/136 [00:00<?, ?it/s]\n",
            "100%|██████████| 34/34 [00:05<00:00,  6.39it/s]\n"
          ]
        },
        {
          "output_type": "stream",
          "name": "stdout",
          "text": [
            "epoch 20 training loss: 0.6296; validation loss: 0.6601; F1 Score: 0.4489; lr: 1e-05\n",
            "saving best model\n"
          ]
        },
        {
          "output_type": "stream",
          "name": "stderr",
          "text": [
            "  0%|          | 0/136 [00:00<?, ?it/s]\n",
            "100%|██████████| 34/34 [00:05<00:00,  6.32it/s]\n"
          ]
        },
        {
          "output_type": "stream",
          "name": "stdout",
          "text": [
            "epoch 21 training loss: 0.6418; validation loss: 0.6565; F1 Score: 0.4531; lr: 1e-05\n",
            "saving best model\n"
          ]
        },
        {
          "output_type": "stream",
          "name": "stderr",
          "text": [
            "  0%|          | 0/136 [00:00<?, ?it/s]\n",
            "100%|██████████| 34/34 [00:05<00:00,  6.38it/s]\n"
          ]
        },
        {
          "output_type": "stream",
          "name": "stdout",
          "text": [
            "epoch 22 training loss: 0.6591; validation loss: 0.6543; F1 Score: 0.4494; lr: 1e-05\n"
          ]
        },
        {
          "output_type": "stream",
          "name": "stderr",
          "text": [
            "  0%|          | 0/136 [00:00<?, ?it/s]\n",
            "100%|██████████| 34/34 [00:05<00:00,  6.36it/s]\n"
          ]
        },
        {
          "output_type": "stream",
          "name": "stdout",
          "text": [
            "epoch 23 training loss: 0.5924; validation loss: 0.6516; F1 Score: 0.4549; lr: 1e-05\n",
            "saving best model\n"
          ]
        },
        {
          "output_type": "stream",
          "name": "stderr",
          "text": [
            "  0%|          | 0/136 [00:00<?, ?it/s]\n",
            "100%|██████████| 34/34 [00:05<00:00,  6.39it/s]\n"
          ]
        },
        {
          "output_type": "stream",
          "name": "stdout",
          "text": [
            "epoch 24 training loss: 0.6770; validation loss: 0.6491; F1 Score: 0.4590; lr: 1e-05\n",
            "saving best model\n"
          ]
        },
        {
          "output_type": "stream",
          "name": "stderr",
          "text": [
            "  0%|          | 0/136 [00:00<?, ?it/s]\n",
            "100%|██████████| 34/34 [00:05<00:00,  6.31it/s]\n"
          ]
        },
        {
          "output_type": "stream",
          "name": "stdout",
          "text": [
            "epoch 25 training loss: 0.6255; validation loss: 0.6476; F1 Score: 0.4573; lr: 1e-05\n"
          ]
        },
        {
          "output_type": "stream",
          "name": "stderr",
          "text": [
            "  0%|          | 0/136 [00:00<?, ?it/s]\n",
            "100%|██████████| 34/34 [00:05<00:00,  6.37it/s]\n"
          ]
        },
        {
          "output_type": "stream",
          "name": "stdout",
          "text": [
            "epoch 26 training loss: 0.6768; validation loss: 0.6458; F1 Score: 0.4567; lr: 1e-05\n"
          ]
        },
        {
          "output_type": "stream",
          "name": "stderr",
          "text": [
            "  0%|          | 0/136 [00:00<?, ?it/s]\n",
            "100%|██████████| 34/34 [00:05<00:00,  6.33it/s]\n"
          ]
        },
        {
          "output_type": "stream",
          "name": "stdout",
          "text": [
            "epoch 27 training loss: 0.6010; validation loss: 0.6458; F1 Score: 0.4557; lr: 1e-05\n"
          ]
        },
        {
          "output_type": "stream",
          "name": "stderr",
          "text": [
            "  0%|          | 0/136 [00:00<?, ?it/s]\n",
            "100%|██████████| 34/34 [00:05<00:00,  6.31it/s]\n"
          ]
        },
        {
          "output_type": "stream",
          "name": "stdout",
          "text": [
            "epoch 28 training loss: 0.5716; validation loss: 0.6439; F1 Score: 0.4605; lr: 1e-05\n",
            "saving best model\n"
          ]
        },
        {
          "output_type": "stream",
          "name": "stderr",
          "text": [
            "  0%|          | 0/136 [00:00<?, ?it/s]\n",
            "100%|██████████| 34/34 [00:05<00:00,  6.30it/s]\n"
          ]
        },
        {
          "output_type": "stream",
          "name": "stdout",
          "text": [
            "epoch 29 training loss: 0.5700; validation loss: 0.6422; F1 Score: 0.4612; lr: 1e-05\n",
            "saving best model\n"
          ]
        },
        {
          "output_type": "stream",
          "name": "stderr",
          "text": [
            "  0%|          | 0/136 [00:00<?, ?it/s]\n",
            "100%|██████████| 34/34 [00:05<00:00,  6.23it/s]\n"
          ]
        },
        {
          "output_type": "stream",
          "name": "stdout",
          "text": [
            "epoch 30 training loss: 0.5961; validation loss: 0.6407; F1 Score: 0.4651; lr: 1e-05\n",
            "saving best model\n"
          ]
        },
        {
          "output_type": "stream",
          "name": "stderr",
          "text": [
            "  0%|          | 0/136 [00:00<?, ?it/s]\n",
            "100%|██████████| 34/34 [00:06<00:00,  5.27it/s]\n"
          ]
        },
        {
          "output_type": "stream",
          "name": "stdout",
          "text": [
            "epoch 31 training loss: 0.5754; validation loss: 0.6387; F1 Score: 0.4691; lr: 1e-05\n",
            "saving best model\n"
          ]
        },
        {
          "output_type": "stream",
          "name": "stderr",
          "text": [
            "  0%|          | 0/136 [00:00<?, ?it/s]\n",
            "100%|██████████| 34/34 [00:05<00:00,  6.35it/s]\n"
          ]
        },
        {
          "output_type": "stream",
          "name": "stdout",
          "text": [
            "epoch 32 training loss: 0.6786; validation loss: 0.6376; F1 Score: 0.4702; lr: 1e-05\n",
            "saving best model\n"
          ]
        },
        {
          "output_type": "stream",
          "name": "stderr",
          "text": [
            "  0%|          | 0/136 [00:00<?, ?it/s]\n",
            "100%|██████████| 34/34 [00:05<00:00,  6.32it/s]\n"
          ]
        },
        {
          "output_type": "stream",
          "name": "stdout",
          "text": [
            "epoch 33 training loss: 0.6140; validation loss: 0.6373; F1 Score: 0.4652; lr: 1e-05\n"
          ]
        },
        {
          "output_type": "stream",
          "name": "stderr",
          "text": [
            "  0%|          | 0/136 [00:00<?, ?it/s]\n",
            "100%|██████████| 34/34 [00:05<00:00,  6.38it/s]\n"
          ]
        },
        {
          "output_type": "stream",
          "name": "stdout",
          "text": [
            "epoch 34 training loss: 0.7205; validation loss: 0.6380; F1 Score: 0.4672; lr: 1e-05\n"
          ]
        },
        {
          "output_type": "stream",
          "name": "stderr",
          "text": [
            "  0%|          | 0/136 [00:00<?, ?it/s]\n",
            "100%|██████████| 34/34 [00:05<00:00,  6.28it/s]\n"
          ]
        },
        {
          "output_type": "stream",
          "name": "stdout",
          "text": [
            "epoch 35 training loss: 0.5806; validation loss: 0.6368; F1 Score: 0.4670; lr: 1e-05\n"
          ]
        },
        {
          "output_type": "stream",
          "name": "stderr",
          "text": [
            "  0%|          | 0/136 [00:00<?, ?it/s]\n",
            "100%|██████████| 34/34 [00:05<00:00,  6.33it/s]\n"
          ]
        },
        {
          "output_type": "stream",
          "name": "stdout",
          "text": [
            "epoch 36 training loss: 0.6004; validation loss: 0.6361; F1 Score: 0.4717; lr: 1e-05\n",
            "saving best model\n"
          ]
        },
        {
          "output_type": "stream",
          "name": "stderr",
          "text": [
            "  0%|          | 0/136 [00:00<?, ?it/s]\n",
            "100%|██████████| 34/34 [00:05<00:00,  6.37it/s]\n"
          ]
        },
        {
          "output_type": "stream",
          "name": "stdout",
          "text": [
            "epoch 37 training loss: 0.6517; validation loss: 0.6353; F1 Score: 0.4663; lr: 1e-05\n"
          ]
        },
        {
          "output_type": "stream",
          "name": "stderr",
          "text": [
            "  0%|          | 0/136 [00:00<?, ?it/s]\n",
            "100%|██████████| 34/34 [00:05<00:00,  6.26it/s]\n"
          ]
        },
        {
          "output_type": "stream",
          "name": "stdout",
          "text": [
            "epoch 38 training loss: 0.6152; validation loss: 0.6368; F1 Score: 0.4647; lr: 1e-05\n"
          ]
        },
        {
          "output_type": "stream",
          "name": "stderr",
          "text": [
            "  0%|          | 0/136 [00:00<?, ?it/s]\n",
            "100%|██████████| 34/34 [00:05<00:00,  6.33it/s]\n"
          ]
        },
        {
          "output_type": "stream",
          "name": "stdout",
          "text": [
            "epoch 39 training loss: 0.6675; validation loss: 0.6354; F1 Score: 0.4722; lr: 1e-05\n",
            "saving best model\n"
          ]
        },
        {
          "output_type": "stream",
          "name": "stderr",
          "text": [
            "  0%|          | 0/136 [00:00<?, ?it/s]\n",
            "100%|██████████| 34/34 [00:05<00:00,  6.35it/s]\n"
          ]
        },
        {
          "output_type": "stream",
          "name": "stdout",
          "text": [
            "epoch 40 training loss: 0.5678; validation loss: 0.6334; F1 Score: 0.4774; lr: 1e-05\n",
            "saving best model\n"
          ]
        },
        {
          "output_type": "stream",
          "name": "stderr",
          "text": [
            "  0%|          | 0/136 [00:00<?, ?it/s]\n",
            "100%|██████████| 34/34 [00:05<00:00,  6.29it/s]\n"
          ]
        },
        {
          "output_type": "stream",
          "name": "stdout",
          "text": [
            "epoch 41 training loss: 0.6257; validation loss: 0.6334; F1 Score: 0.4722; lr: 1e-05\n"
          ]
        },
        {
          "output_type": "stream",
          "name": "stderr",
          "text": [
            "  0%|          | 0/136 [00:00<?, ?it/s]\n",
            "100%|██████████| 34/34 [00:05<00:00,  6.35it/s]\n"
          ]
        },
        {
          "output_type": "stream",
          "name": "stdout",
          "text": [
            "epoch 42 training loss: 0.5952; validation loss: 0.6318; F1 Score: 0.4714; lr: 1e-05\n"
          ]
        },
        {
          "output_type": "stream",
          "name": "stderr",
          "text": [
            "  0%|          | 0/136 [00:00<?, ?it/s]\n",
            "100%|██████████| 34/34 [00:05<00:00,  6.30it/s]\n"
          ]
        },
        {
          "output_type": "stream",
          "name": "stdout",
          "text": [
            "epoch 43 training loss: 0.6368; validation loss: 0.6340; F1 Score: 0.4707; lr: 1e-05\n"
          ]
        },
        {
          "output_type": "stream",
          "name": "stderr",
          "text": [
            "  0%|          | 0/136 [00:00<?, ?it/s]\n",
            "100%|██████████| 34/34 [00:05<00:00,  6.20it/s]\n"
          ]
        },
        {
          "output_type": "stream",
          "name": "stdout",
          "text": [
            "epoch 44 training loss: 0.5991; validation loss: 0.6329; F1 Score: 0.4737; lr: 1e-05\n"
          ]
        },
        {
          "output_type": "stream",
          "name": "stderr",
          "text": [
            "  0%|          | 0/136 [00:00<?, ?it/s]\n",
            "100%|██████████| 34/34 [00:05<00:00,  6.31it/s]\n"
          ]
        },
        {
          "output_type": "stream",
          "name": "stdout",
          "text": [
            "epoch 45 training loss: 0.5799; validation loss: 0.6329; F1 Score: 0.4783; lr: 1e-05\n",
            "saving best model\n"
          ]
        },
        {
          "output_type": "stream",
          "name": "stderr",
          "text": [
            "  0%|          | 0/136 [00:00<?, ?it/s]\n",
            "100%|██████████| 34/34 [00:05<00:00,  6.34it/s]\n"
          ]
        },
        {
          "output_type": "stream",
          "name": "stdout",
          "text": [
            "epoch 46 training loss: 0.6215; validation loss: 0.6311; F1 Score: 0.4729; lr: 1e-05\n"
          ]
        },
        {
          "output_type": "stream",
          "name": "stderr",
          "text": [
            "  0%|          | 0/136 [00:00<?, ?it/s]\n",
            "100%|██████████| 34/34 [00:05<00:00,  6.29it/s]\n"
          ]
        },
        {
          "output_type": "stream",
          "name": "stdout",
          "text": [
            "epoch 47 training loss: 0.5770; validation loss: 0.6289; F1 Score: 0.4775; lr: 1e-05\n"
          ]
        },
        {
          "output_type": "stream",
          "name": "stderr",
          "text": [
            "  0%|          | 0/136 [00:00<?, ?it/s]\n",
            "100%|██████████| 34/34 [00:05<00:00,  6.36it/s]\n"
          ]
        },
        {
          "output_type": "stream",
          "name": "stdout",
          "text": [
            "epoch 48 training loss: 0.5938; validation loss: 0.6300; F1 Score: 0.4737; lr: 1e-05\n"
          ]
        },
        {
          "output_type": "stream",
          "name": "stderr",
          "text": [
            "  0%|          | 0/136 [00:00<?, ?it/s]\n",
            "100%|██████████| 34/34 [00:05<00:00,  6.23it/s]\n"
          ]
        },
        {
          "output_type": "stream",
          "name": "stdout",
          "text": [
            "epoch 49 training loss: 0.6952; validation loss: 0.6313; F1 Score: 0.4780; lr: 1e-05\n"
          ]
        },
        {
          "output_type": "stream",
          "name": "stderr",
          "text": [
            "  0%|          | 0/136 [00:00<?, ?it/s]\n",
            "100%|██████████| 34/34 [00:05<00:00,  6.27it/s]\n"
          ]
        },
        {
          "output_type": "stream",
          "name": "stdout",
          "text": [
            "epoch 50 training loss: 0.6029; validation loss: 0.6306; F1 Score: 0.4743; lr: 1e-05\n"
          ]
        },
        {
          "output_type": "stream",
          "name": "stderr",
          "text": [
            "  0%|          | 0/136 [00:00<?, ?it/s]\n",
            "100%|██████████| 34/34 [00:05<00:00,  6.33it/s]\n"
          ]
        },
        {
          "output_type": "stream",
          "name": "stdout",
          "text": [
            "epoch 51 training loss: 0.6100; validation loss: 0.6287; F1 Score: 0.4804; lr: 1e-05\n",
            "saving best model\n"
          ]
        },
        {
          "output_type": "stream",
          "name": "stderr",
          "text": [
            "  0%|          | 0/136 [00:00<?, ?it/s]\n",
            "100%|██████████| 34/34 [00:05<00:00,  6.37it/s]\n"
          ]
        },
        {
          "output_type": "stream",
          "name": "stdout",
          "text": [
            "epoch 52 training loss: 0.6718; validation loss: 0.6292; F1 Score: 0.4778; lr: 1e-05\n"
          ]
        },
        {
          "output_type": "stream",
          "name": "stderr",
          "text": [
            "  0%|          | 0/136 [00:00<?, ?it/s]\n",
            "100%|██████████| 34/34 [00:05<00:00,  6.21it/s]\n"
          ]
        },
        {
          "output_type": "stream",
          "name": "stdout",
          "text": [
            "epoch 53 training loss: 0.6627; validation loss: 0.6285; F1 Score: 0.4775; lr: 1e-05\n"
          ]
        },
        {
          "output_type": "stream",
          "name": "stderr",
          "text": [
            "  0%|          | 0/136 [00:00<?, ?it/s]\n",
            "100%|██████████| 34/34 [00:05<00:00,  6.34it/s]\n"
          ]
        },
        {
          "output_type": "stream",
          "name": "stdout",
          "text": [
            "epoch 54 training loss: 0.5943; validation loss: 0.6273; F1 Score: 0.4733; lr: 1e-05\n"
          ]
        },
        {
          "output_type": "stream",
          "name": "stderr",
          "text": [
            "  0%|          | 0/136 [00:00<?, ?it/s]\n",
            "100%|██████████| 34/34 [00:05<00:00,  6.37it/s]\n"
          ]
        },
        {
          "output_type": "stream",
          "name": "stdout",
          "text": [
            "epoch 55 training loss: 0.6486; validation loss: 0.6290; F1 Score: 0.4786; lr: 1e-05\n"
          ]
        },
        {
          "output_type": "stream",
          "name": "stderr",
          "text": [
            "  0%|          | 0/136 [00:00<?, ?it/s]\n",
            "100%|██████████| 34/34 [00:05<00:00,  6.29it/s]\n"
          ]
        },
        {
          "output_type": "stream",
          "name": "stdout",
          "text": [
            "epoch 56 training loss: 0.7297; validation loss: 0.6297; F1 Score: 0.4710; lr: 1e-05\n"
          ]
        },
        {
          "output_type": "stream",
          "name": "stderr",
          "text": [
            "  0%|          | 0/136 [00:00<?, ?it/s]\n",
            "100%|██████████| 34/34 [00:05<00:00,  6.26it/s]\n"
          ]
        },
        {
          "output_type": "stream",
          "name": "stdout",
          "text": [
            "epoch 57 training loss: 0.5660; validation loss: 0.6283; F1 Score: 0.4766; lr: 1e-05\n"
          ]
        },
        {
          "output_type": "stream",
          "name": "stderr",
          "text": [
            "  0%|          | 0/136 [00:00<?, ?it/s]\n",
            "100%|██████████| 34/34 [00:06<00:00,  5.35it/s]\n"
          ]
        },
        {
          "output_type": "stream",
          "name": "stdout",
          "text": [
            "epoch 58 training loss: 0.5627; validation loss: 0.6286; F1 Score: 0.4725; lr: 1e-05\n"
          ]
        },
        {
          "output_type": "stream",
          "name": "stderr",
          "text": [
            "  0%|          | 0/136 [00:00<?, ?it/s]\n",
            "100%|██████████| 34/34 [00:05<00:00,  6.34it/s]\n"
          ]
        },
        {
          "output_type": "stream",
          "name": "stdout",
          "text": [
            "epoch 59 training loss: 0.7232; validation loss: 0.6276; F1 Score: 0.4821; lr: 1e-05\n",
            "saving best model\n"
          ]
        },
        {
          "output_type": "stream",
          "name": "stderr",
          "text": [
            "  0%|          | 0/136 [00:00<?, ?it/s]\n",
            "100%|██████████| 34/34 [00:05<00:00,  6.40it/s]\n"
          ]
        },
        {
          "output_type": "stream",
          "name": "stdout",
          "text": [
            "epoch 60 training loss: 0.7314; validation loss: 0.6285; F1 Score: 0.4765; lr: 1.0000000000000002e-06\n"
          ]
        },
        {
          "output_type": "stream",
          "name": "stderr",
          "text": [
            "  0%|          | 0/136 [00:00<?, ?it/s]\n",
            "100%|██████████| 34/34 [00:05<00:00,  6.27it/s]\n"
          ]
        },
        {
          "output_type": "stream",
          "name": "stdout",
          "text": [
            "epoch 61 training loss: 0.6003; validation loss: 0.6276; F1 Score: 0.4756; lr: 1.0000000000000002e-06\n"
          ]
        },
        {
          "output_type": "stream",
          "name": "stderr",
          "text": [
            "  0%|          | 0/136 [00:00<?, ?it/s]\n",
            "100%|██████████| 34/34 [00:05<00:00,  6.48it/s]\n"
          ]
        },
        {
          "output_type": "stream",
          "name": "stdout",
          "text": [
            "epoch 62 training loss: 0.5664; validation loss: 0.6300; F1 Score: 0.4761; lr: 1.0000000000000002e-06\n"
          ]
        },
        {
          "output_type": "stream",
          "name": "stderr",
          "text": [
            "  0%|          | 0/136 [00:00<?, ?it/s]\n",
            "100%|██████████| 34/34 [00:05<00:00,  6.31it/s]\n"
          ]
        },
        {
          "output_type": "stream",
          "name": "stdout",
          "text": [
            "epoch 63 training loss: 0.6263; validation loss: 0.6277; F1 Score: 0.4782; lr: 1.0000000000000002e-06\n"
          ]
        },
        {
          "output_type": "stream",
          "name": "stderr",
          "text": [
            "  0%|          | 0/136 [00:00<?, ?it/s]\n",
            "100%|██████████| 34/34 [00:05<00:00,  6.33it/s]\n"
          ]
        },
        {
          "output_type": "stream",
          "name": "stdout",
          "text": [
            "epoch 64 training loss: 0.6110; validation loss: 0.6273; F1 Score: 0.4849; lr: 1.0000000000000002e-06\n",
            "saving best model\n"
          ]
        },
        {
          "output_type": "stream",
          "name": "stderr",
          "text": [
            "  0%|          | 0/136 [00:00<?, ?it/s]\n",
            "100%|██████████| 34/34 [00:05<00:00,  6.35it/s]\n"
          ]
        },
        {
          "output_type": "stream",
          "name": "stdout",
          "text": [
            "epoch 65 training loss: 0.5976; validation loss: 0.6279; F1 Score: 0.4776; lr: 1.0000000000000002e-06\n"
          ]
        },
        {
          "output_type": "stream",
          "name": "stderr",
          "text": [
            "  0%|          | 0/136 [00:00<?, ?it/s]\n",
            "100%|██████████| 34/34 [00:05<00:00,  6.38it/s]\n"
          ]
        },
        {
          "output_type": "stream",
          "name": "stdout",
          "text": [
            "epoch 66 training loss: 0.6405; validation loss: 0.6285; F1 Score: 0.4811; lr: 1.0000000000000002e-07\n"
          ]
        },
        {
          "output_type": "stream",
          "name": "stderr",
          "text": [
            "  0%|          | 0/136 [00:00<?, ?it/s]\n",
            "100%|██████████| 34/34 [00:05<00:00,  6.25it/s]\n"
          ]
        },
        {
          "output_type": "stream",
          "name": "stdout",
          "text": [
            "epoch 67 training loss: 0.6683; validation loss: 0.6281; F1 Score: 0.4789; lr: 1.0000000000000002e-07\n"
          ]
        },
        {
          "output_type": "stream",
          "name": "stderr",
          "text": [
            "  0%|          | 0/136 [00:00<?, ?it/s]\n",
            "100%|██████████| 34/34 [00:05<00:00,  6.29it/s]\n"
          ]
        },
        {
          "output_type": "stream",
          "name": "stdout",
          "text": [
            "epoch 68 training loss: 0.6073; validation loss: 0.6273; F1 Score: 0.4789; lr: 1.0000000000000002e-07\n"
          ]
        },
        {
          "output_type": "stream",
          "name": "stderr",
          "text": [
            "  0%|          | 0/136 [00:00<?, ?it/s]\n",
            "100%|██████████| 34/34 [00:05<00:00,  6.18it/s]\n"
          ]
        },
        {
          "output_type": "stream",
          "name": "stdout",
          "text": [
            "epoch 69 training loss: 0.6153; validation loss: 0.6260; F1 Score: 0.4772; lr: 1.0000000000000002e-07\n"
          ]
        },
        {
          "output_type": "stream",
          "name": "stderr",
          "text": [
            "  0%|          | 0/136 [00:00<?, ?it/s]\n",
            "100%|██████████| 34/34 [00:05<00:00,  6.23it/s]\n"
          ]
        },
        {
          "output_type": "stream",
          "name": "stdout",
          "text": [
            "epoch 70 training loss: 0.6118; validation loss: 0.6267; F1 Score: 0.4804; lr: 1.0000000000000002e-07\n"
          ]
        },
        {
          "output_type": "stream",
          "name": "stderr",
          "text": [
            "  0%|          | 0/136 [00:00<?, ?it/s]\n",
            "100%|██████████| 34/34 [00:05<00:00,  6.40it/s]\n"
          ]
        },
        {
          "output_type": "stream",
          "name": "stdout",
          "text": [
            "epoch 71 training loss: 0.5449; validation loss: 0.6247; F1 Score: 0.4866; lr: 1.0000000000000002e-07\n",
            "saving best model\n"
          ]
        },
        {
          "output_type": "stream",
          "name": "stderr",
          "text": [
            "  0%|          | 0/136 [00:00<?, ?it/s]\n",
            "100%|██████████| 34/34 [00:05<00:00,  6.27it/s]\n"
          ]
        },
        {
          "output_type": "stream",
          "name": "stdout",
          "text": [
            "epoch 72 training loss: 0.6677; validation loss: 0.6236; F1 Score: 0.4881; lr: 1.0000000000000002e-07\n",
            "saving best model\n"
          ]
        },
        {
          "output_type": "stream",
          "name": "stderr",
          "text": [
            "  0%|          | 0/136 [00:00<?, ?it/s]\n",
            "100%|██████████| 34/34 [00:05<00:00,  6.27it/s]\n"
          ]
        },
        {
          "output_type": "stream",
          "name": "stdout",
          "text": [
            "epoch 73 training loss: 0.6598; validation loss: 0.6234; F1 Score: 0.4854; lr: 1.0000000000000002e-07\n"
          ]
        },
        {
          "output_type": "stream",
          "name": "stderr",
          "text": [
            "  0%|          | 0/136 [00:00<?, ?it/s]\n",
            "100%|██████████| 34/34 [00:05<00:00,  6.29it/s]\n"
          ]
        },
        {
          "output_type": "stream",
          "name": "stdout",
          "text": [
            "epoch 74 training loss: 0.6766; validation loss: 0.6238; F1 Score: 0.4857; lr: 1.0000000000000002e-07\n"
          ]
        },
        {
          "output_type": "stream",
          "name": "stderr",
          "text": [
            "  0%|          | 0/136 [00:00<?, ?it/s]\n",
            "100%|██████████| 34/34 [00:05<00:00,  6.33it/s]\n"
          ]
        },
        {
          "output_type": "stream",
          "name": "stdout",
          "text": [
            "epoch 75 training loss: 0.6033; validation loss: 0.6256; F1 Score: 0.4896; lr: 1.0000000000000002e-07\n",
            "saving best model\n"
          ]
        },
        {
          "output_type": "stream",
          "name": "stderr",
          "text": [
            "  0%|          | 0/136 [00:00<?, ?it/s]\n",
            "100%|██████████| 34/34 [00:05<00:00,  6.38it/s]\n"
          ]
        },
        {
          "output_type": "stream",
          "name": "stdout",
          "text": [
            "epoch 76 training loss: 0.6439; validation loss: 0.6242; F1 Score: 0.4856; lr: 1.0000000000000002e-07\n"
          ]
        },
        {
          "output_type": "stream",
          "name": "stderr",
          "text": [
            "  0%|          | 0/136 [00:00<?, ?it/s]\n",
            "100%|██████████| 34/34 [00:05<00:00,  6.30it/s]\n"
          ]
        },
        {
          "output_type": "stream",
          "name": "stdout",
          "text": [
            "epoch 77 training loss: 0.5614; validation loss: 0.6249; F1 Score: 0.4829; lr: 1.0000000000000002e-07\n"
          ]
        },
        {
          "output_type": "stream",
          "name": "stderr",
          "text": [
            "  0%|          | 0/136 [00:00<?, ?it/s]\n",
            "100%|██████████| 34/34 [00:05<00:00,  6.25it/s]\n"
          ]
        },
        {
          "output_type": "stream",
          "name": "stdout",
          "text": [
            "epoch 78 training loss: 0.6574; validation loss: 0.6249; F1 Score: 0.4837; lr: 1.0000000000000002e-07\n"
          ]
        },
        {
          "output_type": "stream",
          "name": "stderr",
          "text": [
            "  0%|          | 0/136 [00:00<?, ?it/s]\n",
            "100%|██████████| 34/34 [00:05<00:00,  6.33it/s]\n"
          ]
        },
        {
          "output_type": "stream",
          "name": "stdout",
          "text": [
            "epoch 79 training loss: 0.6067; validation loss: 0.6226; F1 Score: 0.4853; lr: 1.0000000000000002e-07\n"
          ]
        },
        {
          "output_type": "stream",
          "name": "stderr",
          "text": [
            "  0%|          | 0/136 [00:00<?, ?it/s]\n",
            "100%|██████████| 34/34 [00:05<00:00,  6.43it/s]\n"
          ]
        },
        {
          "output_type": "stream",
          "name": "stdout",
          "text": [
            "epoch 80 training loss: 0.6149; validation loss: 0.6251; F1 Score: 0.4886; lr: 1.0000000000000002e-07\n"
          ]
        },
        {
          "output_type": "stream",
          "name": "stderr",
          "text": [
            "  0%|          | 0/136 [00:00<?, ?it/s]\n",
            "100%|██████████| 34/34 [00:05<00:00,  6.28it/s]\n"
          ]
        },
        {
          "output_type": "stream",
          "name": "stdout",
          "text": [
            "epoch 81 training loss: 0.6074; validation loss: 0.6263; F1 Score: 0.4825; lr: 1.0000000000000002e-07\n"
          ]
        },
        {
          "output_type": "stream",
          "name": "stderr",
          "text": [
            "  0%|          | 0/136 [00:00<?, ?it/s]\n",
            "100%|██████████| 34/34 [00:05<00:00,  6.26it/s]\n"
          ]
        },
        {
          "output_type": "stream",
          "name": "stdout",
          "text": [
            "epoch 82 training loss: 0.5976; validation loss: 0.6279; F1 Score: 0.4829; lr: 1.0000000000000002e-07\n"
          ]
        },
        {
          "output_type": "stream",
          "name": "stderr",
          "text": [
            "  0%|          | 0/136 [00:00<?, ?it/s]\n",
            "100%|██████████| 34/34 [00:05<00:00,  6.25it/s]\n"
          ]
        },
        {
          "output_type": "stream",
          "name": "stdout",
          "text": [
            "epoch 83 training loss: 0.6503; validation loss: 0.6256; F1 Score: 0.4884; lr: 1.0000000000000002e-07\n"
          ]
        },
        {
          "output_type": "stream",
          "name": "stderr",
          "text": [
            "  0%|          | 0/136 [00:00<?, ?it/s]\n",
            "100%|██████████| 34/34 [00:06<00:00,  5.31it/s]\n"
          ]
        },
        {
          "output_type": "stream",
          "name": "stdout",
          "text": [
            "epoch 84 training loss: 0.6752; validation loss: 0.6271; F1 Score: 0.4867; lr: 1.0000000000000002e-07\n"
          ]
        },
        {
          "output_type": "stream",
          "name": "stderr",
          "text": [
            "  0%|          | 0/136 [00:00<?, ?it/s]\n",
            "100%|██████████| 34/34 [00:05<00:00,  6.30it/s]\n"
          ]
        },
        {
          "output_type": "stream",
          "name": "stdout",
          "text": [
            "epoch 85 training loss: 0.6888; validation loss: 0.6256; F1 Score: 0.4853; lr: 1.0000000000000004e-08\n"
          ]
        },
        {
          "output_type": "stream",
          "name": "stderr",
          "text": [
            "  0%|          | 0/136 [00:00<?, ?it/s]\n",
            "100%|██████████| 34/34 [00:05<00:00,  6.37it/s]\n"
          ]
        },
        {
          "output_type": "stream",
          "name": "stdout",
          "text": [
            "epoch 86 training loss: 0.6024; validation loss: 0.6276; F1 Score: 0.4817; lr: 1.0000000000000004e-08\n"
          ]
        },
        {
          "output_type": "stream",
          "name": "stderr",
          "text": [
            "  0%|          | 0/136 [00:00<?, ?it/s]\n",
            "100%|██████████| 34/34 [00:05<00:00,  6.21it/s]\n"
          ]
        },
        {
          "output_type": "stream",
          "name": "stdout",
          "text": [
            "epoch 87 training loss: 0.5984; validation loss: 0.6274; F1 Score: 0.4798; lr: 1.0000000000000004e-08\n"
          ]
        },
        {
          "output_type": "stream",
          "name": "stderr",
          "text": [
            "  0%|          | 0/136 [00:00<?, ?it/s]\n",
            "100%|██████████| 34/34 [00:05<00:00,  6.32it/s]\n"
          ]
        },
        {
          "output_type": "stream",
          "name": "stdout",
          "text": [
            "epoch 88 training loss: 0.5880; validation loss: 0.6271; F1 Score: 0.4852; lr: 1.0000000000000004e-08\n"
          ]
        },
        {
          "output_type": "stream",
          "name": "stderr",
          "text": [
            "  0%|          | 0/136 [00:00<?, ?it/s]\n",
            "100%|██████████| 34/34 [00:05<00:00,  6.22it/s]\n"
          ]
        },
        {
          "output_type": "stream",
          "name": "stdout",
          "text": [
            "epoch 89 training loss: 0.6590; validation loss: 0.6255; F1 Score: 0.4815; lr: 1.0000000000000004e-08\n"
          ]
        },
        {
          "output_type": "stream",
          "name": "stderr",
          "text": [
            "  0%|          | 0/136 [00:00<?, ?it/s]\n",
            "100%|██████████| 34/34 [00:05<00:00,  6.26it/s]\n"
          ]
        },
        {
          "output_type": "stream",
          "name": "stdout",
          "text": [
            "epoch 90 training loss: 0.6690; validation loss: 0.6246; F1 Score: 0.4863; lr: 1.0000000000000004e-08\n"
          ]
        },
        {
          "output_type": "stream",
          "name": "stderr",
          "text": [
            "  0%|          | 0/136 [00:00<?, ?it/s]\n",
            "100%|██████████| 34/34 [00:05<00:00,  6.35it/s]\n"
          ]
        },
        {
          "output_type": "stream",
          "name": "stdout",
          "text": [
            "epoch 91 training loss: 0.6420; validation loss: 0.6259; F1 Score: 0.4850; lr: 1.0000000000000004e-08\n"
          ]
        },
        {
          "output_type": "stream",
          "name": "stderr",
          "text": [
            "  0%|          | 0/136 [00:00<?, ?it/s]\n",
            "100%|██████████| 34/34 [00:05<00:00,  6.21it/s]\n"
          ]
        },
        {
          "output_type": "stream",
          "name": "stdout",
          "text": [
            "epoch 92 training loss: 0.5386; validation loss: 0.6261; F1 Score: 0.4842; lr: 1.0000000000000004e-08\n"
          ]
        },
        {
          "output_type": "stream",
          "name": "stderr",
          "text": [
            "  0%|          | 0/136 [00:00<?, ?it/s]\n",
            "100%|██████████| 34/34 [00:05<00:00,  6.33it/s]\n"
          ]
        },
        {
          "output_type": "stream",
          "name": "stdout",
          "text": [
            "epoch 93 training loss: 0.5966; validation loss: 0.6270; F1 Score: 0.4804; lr: 1.0000000000000004e-08\n"
          ]
        },
        {
          "output_type": "stream",
          "name": "stderr",
          "text": [
            "  0%|          | 0/136 [00:00<?, ?it/s]\n",
            "100%|██████████| 34/34 [00:05<00:00,  6.26it/s]\n"
          ]
        },
        {
          "output_type": "stream",
          "name": "stdout",
          "text": [
            "epoch 94 training loss: 0.6819; validation loss: 0.6256; F1 Score: 0.4829; lr: 1.0000000000000004e-08\n"
          ]
        },
        {
          "output_type": "stream",
          "name": "stderr",
          "text": [
            "  0%|          | 0/136 [00:00<?, ?it/s]\n",
            "100%|██████████| 34/34 [00:05<00:00,  6.21it/s]\n"
          ]
        },
        {
          "output_type": "stream",
          "name": "stdout",
          "text": [
            "epoch 95 training loss: 0.5628; validation loss: 0.6233; F1 Score: 0.4935; lr: 1.0000000000000004e-08\n",
            "saving best model\n"
          ]
        },
        {
          "output_type": "stream",
          "name": "stderr",
          "text": [
            "  0%|          | 0/136 [00:00<?, ?it/s]\n",
            "100%|██████████| 34/34 [00:05<00:00,  6.38it/s]\n"
          ]
        },
        {
          "output_type": "stream",
          "name": "stdout",
          "text": [
            "epoch 96 training loss: 0.6066; validation loss: 0.6245; F1 Score: 0.4881; lr: 1.0000000000000004e-08\n"
          ]
        },
        {
          "output_type": "stream",
          "name": "stderr",
          "text": [
            "  0%|          | 0/136 [00:00<?, ?it/s]\n",
            "100%|██████████| 34/34 [00:05<00:00,  6.32it/s]\n"
          ]
        },
        {
          "output_type": "stream",
          "name": "stdout",
          "text": [
            "epoch 97 training loss: 0.5955; validation loss: 0.6256; F1 Score: 0.4853; lr: 1.0000000000000004e-08\n"
          ]
        },
        {
          "output_type": "stream",
          "name": "stderr",
          "text": [
            "  0%|          | 0/136 [00:00<?, ?it/s]\n",
            "100%|██████████| 34/34 [00:05<00:00,  6.27it/s]\n"
          ]
        },
        {
          "output_type": "stream",
          "name": "stdout",
          "text": [
            "epoch 98 training loss: 0.5763; validation loss: 0.6246; F1 Score: 0.4814; lr: 1.0000000000000004e-08\n"
          ]
        },
        {
          "output_type": "stream",
          "name": "stderr",
          "text": [
            "  0%|          | 0/136 [00:00<?, ?it/s]\n",
            "100%|██████████| 34/34 [00:05<00:00,  6.34it/s]\n"
          ]
        },
        {
          "output_type": "stream",
          "name": "stdout",
          "text": [
            "epoch 99 training loss: 0.5927; validation loss: 0.6243; F1 Score: 0.4913; lr: 1.0000000000000004e-08\n"
          ]
        },
        {
          "output_type": "stream",
          "name": "stderr",
          "text": [
            "  0%|          | 0/136 [00:00<?, ?it/s]\n",
            "100%|██████████| 34/34 [00:05<00:00,  6.33it/s]"
          ]
        },
        {
          "output_type": "stream",
          "name": "stdout",
          "text": [
            "epoch 100 training loss: 0.6264; validation loss: 0.6228; F1 Score: 0.4859; lr: 1.0000000000000004e-08\n",
            "CPU times: user 3min 9s, sys: 51 s, total: 4min\n",
            "Wall time: 10min 42s\n"
          ]
        },
        {
          "output_type": "stream",
          "name": "stderr",
          "text": [
            "\n"
          ]
        }
      ],
      "source": [
        "%%time\n",
        "best_metric = 0\n",
        "train_losses = []\n",
        "val_losses = []\n",
        "val_metrics = []\n",
        "for epoch in range(epochs):\n",
        "    # training pass\n",
        "    train_loss = train_epoch(net, loss_fn, dl_train, optimizer)\n",
        "\n",
        "    # validation pass\n",
        "    val_loss, val_metric = validate_epoch(net, loss_fn, dl_val)\n",
        "\n",
        "    # update learning rate\n",
        "    lr_scheduler.step(val_loss)\n",
        "\n",
        "    # output\n",
        "    print(f\"epoch {epoch + 1} training loss: {train_loss:.4f}; \"\n",
        "          f\"validation loss: {val_loss:.4f}; F1 Score: {val_metric:.4f}; \"\n",
        "          f\"lr: {optimizer.param_groups[0]['lr']}\")\n",
        "    train_losses.append(train_loss)\n",
        "    val_losses.append(val_loss)\n",
        "    val_metrics.append(val_metric)\n",
        "    if val_metric >= best_metric:\n",
        "        best_metric = val_metric\n",
        "        torch.save(net.state_dict(), 'model.pth')\n",
        "        print('saving best model')"
      ]
    },
    {
      "cell_type": "code",
      "execution_count": 26,
      "id": "e77ee48d-5b8c-4473-9af0-f2dd844e121a",
      "metadata": {
        "id": "e77ee48d-5b8c-4473-9af0-f2dd844e121a",
        "colab": {
          "base_uri": "https://localhost:8080/",
          "height": 338
        },
        "outputId": "c834b55a-13ed-4bab-c5c6-bb4ca71dc098"
      },
      "outputs": [
        {
          "output_type": "execute_result",
          "data": {
            "text/plain": [
              "[<matplotlib.lines.Line2D at 0x7f474e345850>]"
            ]
          },
          "metadata": {},
          "execution_count": 26
        },
        {
          "output_type": "display_data",
          "data": {
            "text/plain": [
              "<Figure size 720x360 with 1 Axes>"
            ],
            "image/png": "[encoded data removed]"
          },
          "metadata": {
            "needs_background": "light"
          }
        }
      ],
      "source": [
        "plt.figure(figsize=(10, 5))\n",
        "plt.plot(train_losses,'r')\n",
        "plt.plot(val_losses, 'b')"
      ]
    },
    {
      "cell_type": "code",
      "source": [
        "plt.figure(figsize=(10, 5))\n",
        "plt.plot(val_metrics)"
      ],
      "metadata": {
        "colab": {
          "base_uri": "https://localhost:8080/",
          "height": 338
        },
        "id": "zlGga5zlEc9I",
        "outputId": "8b3a45a0-987c-49df-87b5-d52aa9f33e3e"
      },
      "id": "zlGga5zlEc9I",
      "execution_count": 27,
      "outputs": [
        {
          "output_type": "execute_result",
          "data": {
            "text/plain": [
              "[<matplotlib.lines.Line2D at 0x7f474e235450>]"
            ]
          },
          "metadata": {},
          "execution_count": 27
        },
        {
          "output_type": "display_data",
          "data": {
            "text/plain": [
              "<Figure size 720x360 with 1 Axes>"
            ],
            "image/png": "[encoded data removed]"
          },
          "metadata": {
            "needs_background": "light"
          }
        }
      ]
    },
    {
      "cell_type": "markdown",
      "id": "aaf944e1-124c-4f13-9e22-1f19f16779bf",
      "metadata": {
        "id": "aaf944e1-124c-4f13-9e22-1f19f16779bf"
      },
      "source": [
        "## Evaluate"
      ]
    },
    {
      "cell_type": "code",
      "execution_count": 28,
      "id": "96b72da2-38c2-4f3f-b312-b0a247f00316",
      "metadata": {
        "id": "96b72da2-38c2-4f3f-b312-b0a247f00316"
      },
      "outputs": [],
      "source": [
        "dl_test = torch.utils.data.DataLoader(\n",
        "    DatasetTrain(df_val, transforms=test_transforms),\n",
        "    shuffle=False, batch_size=batch_size, num_workers=2\n",
        "    )"
      ]
    },
    {
      "cell_type": "code",
      "execution_count": 29,
      "id": "f4cf3956-d958-4ab6-8250-0dd2018d7b3b",
      "metadata": {
        "id": "f4cf3956-d958-4ab6-8250-0dd2018d7b3b"
      },
      "outputs": [],
      "source": [
        "# net.load_state_dict(torch.load('model.pth'))\n",
        "net.eval();"
      ]
    },
    {
      "cell_type": "code",
      "execution_count": 30,
      "id": "51ab4325-4cd8-4d5f-a1f3-ad3d6509f4fc",
      "metadata": {
        "id": "51ab4325-4cd8-4d5f-a1f3-ad3d6509f4fc",
        "outputId": "0108d060-f5d8-408d-edd9-b308231135c0",
        "colab": {
          "base_uri": "https://localhost:8080/"
        }
      },
      "outputs": [
        {
          "output_type": "stream",
          "name": "stderr",
          "text": [
            "100%|██████████| 34/34 [00:04<00:00,  7.13it/s]\n"
          ]
        }
      ],
      "source": [
        "gt = []\n",
        "predictions = []\n",
        "with torch.no_grad():\n",
        "    for imgs, labels, ids in tqdm(dl_test):\n",
        "        output = net(imgs.cuda()).cpu().argmax(1)\n",
        "        predictions += list(output.cpu().numpy())\n",
        "        gt += list(labels.numpy())"
      ]
    },
    {
      "cell_type": "code",
      "execution_count": 31,
      "id": "b1497366-d266-492b-8d2f-458afa5a76df",
      "metadata": {
        "id": "b1497366-d266-492b-8d2f-458afa5a76df",
        "outputId": "966366cd-967d-4f7b-abe6-2f0372f66aca",
        "colab": {
          "base_uri": "https://localhost:8080/"
        }
      },
      "outputs": [
        {
          "output_type": "execute_result",
          "data": {
            "text/plain": [
              "0.49423963133640547"
            ]
          },
          "metadata": {},
          "execution_count": 31
        }
      ],
      "source": [
        "f1_score(predictions, gt)"
      ]
    },
    {
      "cell_type": "code",
      "execution_count": 32,
      "id": "b55c692b-234e-42ce-85ae-6740febf55bd",
      "metadata": {
        "id": "b55c692b-234e-42ce-85ae-6740febf55bd",
        "outputId": "95eee116-9d16-46a1-9215-052a04c5fabe",
        "colab": {
          "base_uri": "https://localhost:8080/"
        }
      },
      "outputs": [
        {
          "output_type": "stream",
          "name": "stdout",
          "text": [
            "              precision    recall  f1-score   support\n",
            "\n",
            "           0       0.87      0.54      0.66      1616\n",
            "           1       0.36      0.77      0.49       556\n",
            "\n",
            "    accuracy                           0.60      2172\n",
            "   macro avg       0.62      0.65      0.58      2172\n",
            "weighted avg       0.74      0.60      0.62      2172\n",
            "\n"
          ]
        }
      ],
      "source": [
        "from sklearn.metrics import classification_report\n",
        "\n",
        "print(classification_report(gt, predictions))"
      ]
    },
    {
      "cell_type": "markdown",
      "id": "6a65a4b4-3d47-42f1-92e4-ae72f57ceca4",
      "metadata": {
        "id": "6a65a4b4-3d47-42f1-92e4-ae72f57ceca4"
      },
      "source": [
        "## Prepare test submissions"
      ]
    },
    {
      "cell_type": "code",
      "execution_count": 33,
      "id": "728ccd08-4f3c-4eb5-a9ef-b928b23cfd82",
      "metadata": {
        "id": "728ccd08-4f3c-4eb5-a9ef-b928b23cfd82"
      },
      "outputs": [],
      "source": [
        "df = pd.read_csv('Test.csv')\n",
        "df['Label'] = 1"
      ]
    },
    {
      "cell_type": "code",
      "execution_count": 34,
      "id": "dd52654b-1580-4ed9-a094-ade72e72b017",
      "metadata": {
        "id": "dd52654b-1580-4ed9-a094-ade72e72b017",
        "outputId": "d6bc297d-1eb3-45b3-b777-c3cbcbdfc0bb",
        "colab": {
          "base_uri": "https://localhost:8080/",
          "height": 206
        }
      },
      "outputs": [
        {
          "output_type": "execute_result",
          "data": {
            "text/plain": [
              "   Sample_ID  cell  Label    aspect  elevation  geology   lsfactor   placurv  \\\n",
              "0      10865     1      1  240.9454      111.0      2.0   9.667106  0.035766   \n",
              "1      10865     2      1  254.0546      109.0      2.0   8.181493 -0.013152   \n",
              "2      10865     3      1  281.3099      109.0      2.0   7.782584 -0.037572   \n",
              "3      10865     4      1  315.0000      110.0      2.0   8.776177 -0.062401   \n",
              "4      10865     5      1  348.6901      112.0      2.0  10.954420 -0.055791   \n",
              "\n",
              "    procurv     sdoif     slope       twi  \n",
              "0 -0.016483  1.310570  45.83452  2.682646  \n",
              "1 -0.044767  1.310638  36.05503  4.814003  \n",
              "2 -0.042420  1.310684  27.01712  6.252043  \n",
              "3 -0.053476  1.310752  22.98977  6.667844  \n",
              "4 -0.043530  1.310797  27.01712  6.602260  "
            ],
            "text/html": [
              "\n",
              "  <div id=\"df-6f34d378-381d-4719-bbf7-a3a5392fba9e\">\n",
              "    <div class=\"colab-df-container\">\n",
              "      <div>\n",
              "<style scoped>\n",
              "    .dataframe tbody tr th:only-of-type {\n",
              "        vertical-align: middle;\n",
              "    }\n",
              "\n",
              "    .dataframe tbody tr th {\n",
              "        vertical-align: top;\n",
              "    }\n",
              "\n",
              "    .dataframe thead th {\n",
              "        text-align: right;\n",
              "    }\n",
              "</style>\n",
              "<table border=\"1\" class=\"dataframe\">\n",
              "  <thead>\n",
              "    <tr style=\"text-align: right;\">\n",
              "      <th></th>\n",
              "      <th>Sample_ID</th>\n",
              "      <th>cell</th>\n",
              "      <th>Label</th>\n",
              "      <th>aspect</th>\n",
              "      <th>elevation</th>\n",
              "      <th>geology</th>\n",
              "      <th>lsfactor</th>\n",
              "      <th>placurv</th>\n",
              "      <th>procurv</th>\n",
              "      <th>sdoif</th>\n",
              "      <th>slope</th>\n",
              "      <th>twi</th>\n",
              "    </tr>\n",
              "  </thead>\n",
              "  <tbody>\n",
              "    <tr>\n",
              "      <th>0</th>\n",
              "      <td>10865</td>\n",
              "      <td>1</td>\n",
              "      <td>1</td>\n",
              "      <td>240.9454</td>\n",
              "      <td>111.0</td>\n",
              "      <td>2.0</td>\n",
              "      <td>9.667106</td>\n",
              "      <td>0.035766</td>\n",
              "      <td>-0.016483</td>\n",
              "      <td>1.310570</td>\n",
              "      <td>45.83452</td>\n",
              "      <td>2.682646</td>\n",
              "    </tr>\n",
              "    <tr>\n",
              "      <th>1</th>\n",
              "      <td>10865</td>\n",
              "      <td>2</td>\n",
              "      <td>1</td>\n",
              "      <td>254.0546</td>\n",
              "      <td>109.0</td>\n",
              "      <td>2.0</td>\n",
              "      <td>8.181493</td>\n",
              "      <td>-0.013152</td>\n",
              "      <td>-0.044767</td>\n",
              "      <td>1.310638</td>\n",
              "      <td>36.05503</td>\n",
              "      <td>4.814003</td>\n",
              "    </tr>\n",
              "    <tr>\n",
              "      <th>2</th>\n",
              "      <td>10865</td>\n",
              "      <td>3</td>\n",
              "      <td>1</td>\n",
              "      <td>281.3099</td>\n",
              "      <td>109.0</td>\n",
              "      <td>2.0</td>\n",
              "      <td>7.782584</td>\n",
              "      <td>-0.037572</td>\n",
              "      <td>-0.042420</td>\n",
              "      <td>1.310684</td>\n",
              "      <td>27.01712</td>\n",
              "      <td>6.252043</td>\n",
              "    </tr>\n",
              "    <tr>\n",
              "      <th>3</th>\n",
              "      <td>10865</td>\n",
              "      <td>4</td>\n",
              "      <td>1</td>\n",
              "      <td>315.0000</td>\n",
              "      <td>110.0</td>\n",
              "      <td>2.0</td>\n",
              "      <td>8.776177</td>\n",
              "      <td>-0.062401</td>\n",
              "      <td>-0.053476</td>\n",
              "      <td>1.310752</td>\n",
              "      <td>22.98977</td>\n",
              "      <td>6.667844</td>\n",
              "    </tr>\n",
              "    <tr>\n",
              "      <th>4</th>\n",
              "      <td>10865</td>\n",
              "      <td>5</td>\n",
              "      <td>1</td>\n",
              "      <td>348.6901</td>\n",
              "      <td>112.0</td>\n",
              "      <td>2.0</td>\n",
              "      <td>10.954420</td>\n",
              "      <td>-0.055791</td>\n",
              "      <td>-0.043530</td>\n",
              "      <td>1.310797</td>\n",
              "      <td>27.01712</td>\n",
              "      <td>6.602260</td>\n",
              "    </tr>\n",
              "  </tbody>\n",
              "</table>\n",
              "</div>\n",
              "      <button class=\"colab-df-convert\" onclick=\"convertToInteractive('df-6f34d378-381d-4719-bbf7-a3a5392fba9e')\"\n",
              "              title=\"Convert this dataframe to an interactive table.\"\n",
              "              style=\"display:none;\">\n",
              "        \n",
              "  <svg xmlns=\"http://www.w3.org/2000/svg\" height=\"24px\"viewBox=\"0 0 24 24\"\n",
              "       width=\"24px\">\n",
              "    <path d=\"M0 0h24v24H0V0z\" fill=\"none\"/>\n",
              "    <path d=\"M18.56 5.44l.94 2.06.94-2.06 2.06-.94-2.06-.94-.94-2.06-.94 2.06-2.06.94zm-11 1L8.5 8.5l.94-2.06 2.06-.94-2.06-.94L8.5 2.5l-.94 2.06-2.06.94zm10 10l.94 2.06.94-2.06 2.06-.94-2.06-.94-.94-2.06-.94 2.06-2.06.94z\"/><path d=\"M17.41 7.96l-1.37-1.37c-.4-.4-.92-.59-1.43-.59-.52 0-1.04.2-1.43.59L10.3 9.45l-7.72 7.72c-.78.78-.78 2.05 0 2.83L4 21.41c.39.39.9.59 1.41.59.51 0 1.02-.2 1.41-.59l7.78-7.78 2.81-2.81c.8-.78.8-2.07 0-2.86zM5.41 20L4 18.59l7.72-7.72 1.47 1.35L5.41 20z\"/>\n",
              "  </svg>\n",
              "      </button>\n",
              "      \n",
              "  <style>\n",
              "    .colab-df-container {\n",
              "      display:flex;\n",
              "      flex-wrap:wrap;\n",
              "      gap: 12px;\n",
              "    }\n",
              "\n",
              "    .colab-df-convert {\n",
              "      background-color: #E8F0FE;\n",
              "      border: none;\n",
              "      border-radius: 50%;\n",
              "      cursor: pointer;\n",
              "      display: none;\n",
              "      fill: #1967D2;\n",
              "      height: 32px;\n",
              "      padding: 0 0 0 0;\n",
              "      width: 32px;\n",
              "    }\n",
              "\n",
              "    .colab-df-convert:hover {\n",
              "      background-color: #E2EBFA;\n",
              "      box-shadow: 0px 1px 2px rgba(60, 64, 67, 0.3), 0px 1px 3px 1px rgba(60, 64, 67, 0.15);\n",
              "      fill: #174EA6;\n",
              "    }\n",
              "\n",
              "    [theme=dark] .colab-df-convert {\n",
              "      background-color: #3B4455;\n",
              "      fill: #D2E3FC;\n",
              "    }\n",
              "\n",
              "    [theme=dark] .colab-df-convert:hover {\n",
              "      background-color: #434B5C;\n",
              "      box-shadow: 0px 1px 3px 1px rgba(0, 0, 0, 0.15);\n",
              "      filter: drop-shadow(0px 1px 2px rgba(0, 0, 0, 0.3));\n",
              "      fill: #FFFFFF;\n",
              "    }\n",
              "  </style>\n",
              "\n",
              "      <script>\n",
              "        const buttonEl =\n",
              "          document.querySelector('#df-6f34d378-381d-4719-bbf7-a3a5392fba9e button.colab-df-convert');\n",
              "        buttonEl.style.display =\n",
              "          google.colab.kernel.accessAllowed ? 'block' : 'none';\n",
              "\n",
              "        async function convertToInteractive(key) {\n",
              "          const element = document.querySelector('#df-6f34d378-381d-4719-bbf7-a3a5392fba9e');\n",
              "          const dataTable =\n",
              "            await google.colab.kernel.invokeFunction('convertToInteractive',\n",
              "                                                     [key], {});\n",
              "          if (!dataTable) return;\n",
              "\n",
              "          const docLinkHtml = 'Like what you see? Visit the ' +\n",
              "            '<a target=\"_blank\" href=https://colab.research.google.com/notebooks/data_table.ipynb>data table notebook</a>'\n",
              "            + ' to learn more about interactive tables.';\n",
              "          element.innerHTML = '';\n",
              "          dataTable['output_type'] = 'display_data';\n",
              "          await google.colab.output.renderOutput(dataTable, element);\n",
              "          const docLink = document.createElement('div');\n",
              "          docLink.innerHTML = docLinkHtml;\n",
              "          element.appendChild(docLink);\n",
              "        }\n",
              "      </script>\n",
              "    </div>\n",
              "  </div>\n",
              "  "
            ]
          },
          "metadata": {},
          "execution_count": 34
        }
      ],
      "source": [
        "df = transform_table(df)\n",
        "df.head()"
      ]
    },
    {
      "cell_type": "code",
      "execution_count": 35,
      "id": "154d6725-63c6-48b1-8f43-3321a65c8513",
      "metadata": {
        "id": "154d6725-63c6-48b1-8f43-3321a65c8513"
      },
      "outputs": [],
      "source": [
        "dl_test = torch.utils.data.DataLoader(\n",
        "    DatasetTrain(df, transforms=test_transforms),\n",
        "    shuffle=False, batch_size=batch_size, num_workers=2\n",
        "    )"
      ]
    },
    {
      "cell_type": "code",
      "execution_count": 36,
      "id": "7dd598b7-ea6d-4b76-9122-e2e1bdeca3eb",
      "metadata": {
        "id": "7dd598b7-ea6d-4b76-9122-e2e1bdeca3eb",
        "outputId": "18f0564b-93c5-48c6-844f-d43806dde238",
        "colab": {
          "base_uri": "https://localhost:8080/"
        }
      },
      "outputs": [
        {
          "output_type": "stream",
          "name": "stderr",
          "text": [
            "100%|██████████| 85/85 [00:11<00:00,  7.27it/s]\n"
          ]
        }
      ],
      "source": [
        "sample_ids = []\n",
        "predictions = []\n",
        "with torch.no_grad():\n",
        "    for imgs, labels, ids in tqdm(dl_test):\n",
        "        output = net(imgs.cuda()).cpu().argmax(1)\n",
        "        predictions += list(output.cpu().numpy())\n",
        "        sample_ids += list(ids.numpy())"
      ]
    },
    {
      "cell_type": "code",
      "execution_count": 37,
      "id": "60af1d3b-163b-405f-9b10-dd3fd610473b",
      "metadata": {
        "id": "60af1d3b-163b-405f-9b10-dd3fd610473b",
        "colab": {
          "base_uri": "https://localhost:8080/",
          "height": 206
        },
        "outputId": "bbf88b28-9d18-41d3-e68d-30942bb5bd16"
      },
      "outputs": [
        {
          "output_type": "execute_result",
          "data": {
            "text/plain": [
              "   Sample_ID  Label\n",
              "0      10865      1\n",
              "1      10866      1\n",
              "2      10867      0\n",
              "3      10868      0\n",
              "4      10869      1"
            ],
            "text/html": [
              "\n",
              "  <div id=\"df-9871ee3e-4213-434b-8c8f-dcec2a330a06\">\n",
              "    <div class=\"colab-df-container\">\n",
              "      <div>\n",
              "<style scoped>\n",
              "    .dataframe tbody tr th:only-of-type {\n",
              "        vertical-align: middle;\n",
              "    }\n",
              "\n",
              "    .dataframe tbody tr th {\n",
              "        vertical-align: top;\n",
              "    }\n",
              "\n",
              "    .dataframe thead th {\n",
              "        text-align: right;\n",
              "    }\n",
              "</style>\n",
              "<table border=\"1\" class=\"dataframe\">\n",
              "  <thead>\n",
              "    <tr style=\"text-align: right;\">\n",
              "      <th></th>\n",
              "      <th>Sample_ID</th>\n",
              "      <th>Label</th>\n",
              "    </tr>\n",
              "  </thead>\n",
              "  <tbody>\n",
              "    <tr>\n",
              "      <th>0</th>\n",
              "      <td>10865</td>\n",
              "      <td>1</td>\n",
              "    </tr>\n",
              "    <tr>\n",
              "      <th>1</th>\n",
              "      <td>10866</td>\n",
              "      <td>1</td>\n",
              "    </tr>\n",
              "    <tr>\n",
              "      <th>2</th>\n",
              "      <td>10867</td>\n",
              "      <td>0</td>\n",
              "    </tr>\n",
              "    <tr>\n",
              "      <th>3</th>\n",
              "      <td>10868</td>\n",
              "      <td>0</td>\n",
              "    </tr>\n",
              "    <tr>\n",
              "      <th>4</th>\n",
              "      <td>10869</td>\n",
              "      <td>1</td>\n",
              "    </tr>\n",
              "  </tbody>\n",
              "</table>\n",
              "</div>\n",
              "      <button class=\"colab-df-convert\" onclick=\"convertToInteractive('df-9871ee3e-4213-434b-8c8f-dcec2a330a06')\"\n",
              "              title=\"Convert this dataframe to an interactive table.\"\n",
              "              style=\"display:none;\">\n",
              "        \n",
              "  <svg xmlns=\"http://www.w3.org/2000/svg\" height=\"24px\"viewBox=\"0 0 24 24\"\n",
              "       width=\"24px\">\n",
              "    <path d=\"M0 0h24v24H0V0z\" fill=\"none\"/>\n",
              "    <path d=\"M18.56 5.44l.94 2.06.94-2.06 2.06-.94-2.06-.94-.94-2.06-.94 2.06-2.06.94zm-11 1L8.5 8.5l.94-2.06 2.06-.94-2.06-.94L8.5 2.5l-.94 2.06-2.06.94zm10 10l.94 2.06.94-2.06 2.06-.94-2.06-.94-.94-2.06-.94 2.06-2.06.94z\"/><path d=\"M17.41 7.96l-1.37-1.37c-.4-.4-.92-.59-1.43-.59-.52 0-1.04.2-1.43.59L10.3 9.45l-7.72 7.72c-.78.78-.78 2.05 0 2.83L4 21.41c.39.39.9.59 1.41.59.51 0 1.02-.2 1.41-.59l7.78-7.78 2.81-2.81c.8-.78.8-2.07 0-2.86zM5.41 20L4 18.59l7.72-7.72 1.47 1.35L5.41 20z\"/>\n",
              "  </svg>\n",
              "      </button>\n",
              "      \n",
              "  <style>\n",
              "    .colab-df-container {\n",
              "      display:flex;\n",
              "      flex-wrap:wrap;\n",
              "      gap: 12px;\n",
              "    }\n",
              "\n",
              "    .colab-df-convert {\n",
              "      background-color: #E8F0FE;\n",
              "      border: none;\n",
              "      border-radius: 50%;\n",
              "      cursor: pointer;\n",
              "      display: none;\n",
              "      fill: #1967D2;\n",
              "      height: 32px;\n",
              "      padding: 0 0 0 0;\n",
              "      width: 32px;\n",
              "    }\n",
              "\n",
              "    .colab-df-convert:hover {\n",
              "      background-color: #E2EBFA;\n",
              "      box-shadow: 0px 1px 2px rgba(60, 64, 67, 0.3), 0px 1px 3px 1px rgba(60, 64, 67, 0.15);\n",
              "      fill: #174EA6;\n",
              "    }\n",
              "\n",
              "    [theme=dark] .colab-df-convert {\n",
              "      background-color: #3B4455;\n",
              "      fill: #D2E3FC;\n",
              "    }\n",
              "\n",
              "    [theme=dark] .colab-df-convert:hover {\n",
              "      background-color: #434B5C;\n",
              "      box-shadow: 0px 1px 3px 1px rgba(0, 0, 0, 0.15);\n",
              "      filter: drop-shadow(0px 1px 2px rgba(0, 0, 0, 0.3));\n",
              "      fill: #FFFFFF;\n",
              "    }\n",
              "  </style>\n",
              "\n",
              "      <script>\n",
              "        const buttonEl =\n",
              "          document.querySelector('#df-9871ee3e-4213-434b-8c8f-dcec2a330a06 button.colab-df-convert');\n",
              "        buttonEl.style.display =\n",
              "          google.colab.kernel.accessAllowed ? 'block' : 'none';\n",
              "\n",
              "        async function convertToInteractive(key) {\n",
              "          const element = document.querySelector('#df-9871ee3e-4213-434b-8c8f-dcec2a330a06');\n",
              "          const dataTable =\n",
              "            await google.colab.kernel.invokeFunction('convertToInteractive',\n",
              "                                                     [key], {});\n",
              "          if (!dataTable) return;\n",
              "\n",
              "          const docLinkHtml = 'Like what you see? Visit the ' +\n",
              "            '<a target=\"_blank\" href=https://colab.research.google.com/notebooks/data_table.ipynb>data table notebook</a>'\n",
              "            + ' to learn more about interactive tables.';\n",
              "          element.innerHTML = '';\n",
              "          dataTable['output_type'] = 'display_data';\n",
              "          await google.colab.output.renderOutput(dataTable, element);\n",
              "          const docLink = document.createElement('div');\n",
              "          docLink.innerHTML = docLinkHtml;\n",
              "          element.appendChild(docLink);\n",
              "        }\n",
              "      </script>\n",
              "    </div>\n",
              "  </div>\n",
              "  "
            ]
          },
          "metadata": {},
          "execution_count": 37
        }
      ],
      "source": [
        "df_out = pd.DataFrame(np.array([sample_ids, predictions]).transpose(),\n",
        "                      columns=['Sample_ID', 'Label'])\n",
        "df_out.head()"
      ]
    },
    {
      "cell_type": "code",
      "execution_count": 38,
      "id": "af652ae3-4412-4acc-b80a-4073685f05f4",
      "metadata": {
        "id": "af652ae3-4412-4acc-b80a-4073685f05f4"
      },
      "outputs": [],
      "source": [
        "df_out.to_csv('submission_landslide.csv', index=False)"
      ]
    },
    {
      "cell_type": "code",
      "execution_count": 39,
      "id": "967d36ca-8148-4450-8e6f-5d005bcd359e",
      "metadata": {
        "id": "967d36ca-8148-4450-8e6f-5d005bcd359e",
        "colab": {
          "base_uri": "https://localhost:8080/",
          "height": 17
        },
        "outputId": "79e0d935-f7b8-4bb4-ddf1-c1f5c4a3d7e0"
      },
      "outputs": [
        {
          "output_type": "display_data",
          "data": {
            "text/plain": [
              "<IPython.core.display.Javascript object>"
            ],
            "application/javascript": [
              "\n",
              "    async function download(id, filename, size) {\n",
              "      if (!google.colab.kernel.accessAllowed) {\n",
              "        return;\n",
              "      }\n",
              "      const div = document.createElement('div');\n",
              "      const label = document.createElement('label');\n",
              "      label.textContent = `Downloading \"${filename}\": `;\n",
              "      div.appendChild(label);\n",
              "      const progress = document.createElement('progress');\n",
              "      progress.max = size;\n",
              "      div.appendChild(progress);\n",
              "      document.body.appendChild(div);\n",
              "\n",
              "      const buffers = [];\n",
              "      let downloaded = 0;\n",
              "\n",
              "      const channel = await google.colab.kernel.comms.open(id);\n",
              "      // Send a message to notify the kernel that we're ready.\n",
              "      channel.send({})\n",
              "\n",
              "      for await (const message of channel.messages) {\n",
              "        // Send a message to notify the kernel that we're ready.\n",
              "        channel.send({})\n",
              "        if (message.buffers) {\n",
              "          for (const buffer of message.buffers) {\n",
              "            buffers.push(buffer);\n",
              "            downloaded += buffer.byteLength;\n",
              "            progress.value = downloaded;\n",
              "          }\n",
              "        }\n",
              "      }\n",
              "      const blob = new Blob(buffers, {type: 'application/binary'});\n",
              "      const a = document.createElement('a');\n",
              "      a.href = window.URL.createObjectURL(blob);\n",
              "      a.download = filename;\n",
              "      div.appendChild(a);\n",
              "      a.click();\n",
              "      div.remove();\n",
              "    }\n",
              "  "
            ]
          },
          "metadata": {}
        },
        {
          "output_type": "display_data",
          "data": {
            "text/plain": [
              "<IPython.core.display.Javascript object>"
            ],
            "application/javascript": [
              "download(\"download_d89f244f-d409-49d6-b220-5b6aa77ab2db\", \"submission_landslide.csv\", 43456)"
            ]
          },
          "metadata": {}
        }
      ],
      "source": [
        "from google.colab import files\n",
        "files.download('submission_landslide.csv')"
      ]
    },
    {
      "cell_type": "code",
      "source": [],
      "metadata": {
        "id": "iKpYIbUeE-W4"
      },
      "id": "iKpYIbUeE-W4",
      "execution_count": 39,
      "outputs": []
    }
  ],
  "metadata": {
    "kernelspec": {
      "display_name": "Python 3 (ipykernel)",
      "language": "python",
      "name": "python3"
    },
    "language_info": {
      "codemirror_mode": {
        "name": "ipython",
        "version": 3
      },
      "file_extension": ".py",
      "mimetype": "text/x-python",
      "name": "python",
      "nbconvert_exporter": "python",
      "pygments_lexer": "ipython3",
      "version": "3.7.13"
    },
    "colab": {
      "provenance": [],
      "collapsed_sections": [],
      "include_colab_link": true
    },
    "accelerator": "GPU",
    "gpuClass": "standard"
  },
  "nbformat": 4,
  "nbformat_minor": 5
}