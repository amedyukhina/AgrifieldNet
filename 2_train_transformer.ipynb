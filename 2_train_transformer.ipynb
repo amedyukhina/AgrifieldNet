{
  "cells": [
    {
      "cell_type": "markdown",
      "metadata": {
        "id": "view-in-github",
        "colab_type": "text"
      },
      "source": [
        "<a href=\"https://colab.research.google.com/github/amedyukhina/AgrifieldNet/blob/main/2_train_transformer.ipynb\" target=\"_parent\"><img src=\"https://colab.research.google.com/assets/colab-badge.svg\" alt=\"Open In Colab\"/></a>"
      ]
    },
    {
      "cell_type": "markdown",
      "id": "77b4743b",
      "metadata": {
        "id": "77b4743b"
      },
      "source": [
        "# AgrifieldNet India Competition: training"
      ]
    },
    {
      "cell_type": "markdown",
      "id": "be36e335",
      "metadata": {
        "id": "be36e335"
      },
      "source": [
        "## Install and import dependencies\n"
      ]
    },
    {
      "cell_type": "code",
      "execution_count": 1,
      "id": "KiwG2IraDe6h",
      "metadata": {
        "colab": {
          "base_uri": "https://localhost:8080/"
        },
        "id": "KiwG2IraDe6h",
        "outputId": "0b682c76-228b-4c39-837f-6d3dd2969836"
      },
      "outputs": [
        {
          "output_type": "stream",
          "name": "stdout",
          "text": [
            "Overwriting requirements.txt\n"
          ]
        }
      ],
      "source": [
        "%%writefile requirements.txt\n",
        "\n",
        "pandas==1.3.5\n",
        "scikit-learn==1.0.2\n",
        "tqdm==4.64.0\n",
        "numpy==1.21.6\n",
        "torch==1.12.1\n",
        "torchvision==0.13.1\n",
        "scikit-image==0.18.3\n",
        "matplotlib==3.2.2"
      ]
    },
    {
      "cell_type": "code",
      "execution_count": 2,
      "id": "qafN0lN8D-_N",
      "metadata": {
        "colab": {
          "base_uri": "https://localhost:8080/"
        },
        "id": "qafN0lN8D-_N",
        "outputId": "f228f521-22da-4e53-e071-1c168e8f7a54"
      },
      "outputs": [
        {
          "output_type": "stream",
          "name": "stdout",
          "text": [
            "Looking in indexes: https://pypi.org/simple, https://us-python.pkg.dev/colab-wheels/public/simple/\n",
            "Requirement already satisfied: pandas==1.3.5 in /usr/local/lib/python3.7/dist-packages (from -r requirements.txt (line 2)) (1.3.5)\n",
            "Requirement already satisfied: scikit-learn==1.0.2 in /usr/local/lib/python3.7/dist-packages (from -r requirements.txt (line 3)) (1.0.2)\n",
            "Requirement already satisfied: tqdm==4.64.0 in /usr/local/lib/python3.7/dist-packages (from -r requirements.txt (line 4)) (4.64.0)\n",
            "Requirement already satisfied: numpy==1.21.6 in /usr/local/lib/python3.7/dist-packages (from -r requirements.txt (line 5)) (1.21.6)\n",
            "Requirement already satisfied: torch==1.12.1 in /usr/local/lib/python3.7/dist-packages (from -r requirements.txt (line 6)) (1.12.1+cu113)\n",
            "Requirement already satisfied: torchvision==0.13.1 in /usr/local/lib/python3.7/dist-packages (from -r requirements.txt (line 7)) (0.13.1+cu113)\n",
            "Requirement already satisfied: scikit-image==0.18.3 in /usr/local/lib/python3.7/dist-packages (from -r requirements.txt (line 8)) (0.18.3)\n",
            "Requirement already satisfied: matplotlib==3.2.2 in /usr/local/lib/python3.7/dist-packages (from -r requirements.txt (line 9)) (3.2.2)\n",
            "Requirement already satisfied: python-dateutil>=2.7.3 in /usr/local/lib/python3.7/dist-packages (from pandas==1.3.5->-r requirements.txt (line 2)) (2.8.2)\n",
            "Requirement already satisfied: pytz>=2017.3 in /usr/local/lib/python3.7/dist-packages (from pandas==1.3.5->-r requirements.txt (line 2)) (2022.5)\n",
            "Requirement already satisfied: threadpoolctl>=2.0.0 in /usr/local/lib/python3.7/dist-packages (from scikit-learn==1.0.2->-r requirements.txt (line 3)) (3.1.0)\n",
            "Requirement already satisfied: scipy>=1.1.0 in /usr/local/lib/python3.7/dist-packages (from scikit-learn==1.0.2->-r requirements.txt (line 3)) (1.7.3)\n",
            "Requirement already satisfied: joblib>=0.11 in /usr/local/lib/python3.7/dist-packages (from scikit-learn==1.0.2->-r requirements.txt (line 3)) (1.2.0)\n",
            "Requirement already satisfied: typing-extensions in /usr/local/lib/python3.7/dist-packages (from torch==1.12.1->-r requirements.txt (line 6)) (4.1.1)\n",
            "Requirement already satisfied: pillow!=8.3.*,>=5.3.0 in /usr/local/lib/python3.7/dist-packages (from torchvision==0.13.1->-r requirements.txt (line 7)) (7.1.2)\n",
            "Requirement already satisfied: requests in /usr/local/lib/python3.7/dist-packages (from torchvision==0.13.1->-r requirements.txt (line 7)) (2.23.0)\n",
            "Requirement already satisfied: networkx>=2.0 in /usr/local/lib/python3.7/dist-packages (from scikit-image==0.18.3->-r requirements.txt (line 8)) (2.6.3)\n",
            "Requirement already satisfied: PyWavelets>=1.1.1 in /usr/local/lib/python3.7/dist-packages (from scikit-image==0.18.3->-r requirements.txt (line 8)) (1.3.0)\n",
            "Requirement already satisfied: imageio>=2.3.0 in /usr/local/lib/python3.7/dist-packages (from scikit-image==0.18.3->-r requirements.txt (line 8)) (2.9.0)\n",
            "Requirement already satisfied: tifffile>=2019.7.26 in /usr/local/lib/python3.7/dist-packages (from scikit-image==0.18.3->-r requirements.txt (line 8)) (2021.11.2)\n",
            "Requirement already satisfied: kiwisolver>=1.0.1 in /usr/local/lib/python3.7/dist-packages (from matplotlib==3.2.2->-r requirements.txt (line 9)) (1.4.4)\n",
            "Requirement already satisfied: cycler>=0.10 in /usr/local/lib/python3.7/dist-packages (from matplotlib==3.2.2->-r requirements.txt (line 9)) (0.11.0)\n",
            "Requirement already satisfied: pyparsing!=2.0.4,!=2.1.2,!=2.1.6,>=2.0.1 in /usr/local/lib/python3.7/dist-packages (from matplotlib==3.2.2->-r requirements.txt (line 9)) (3.0.9)\n",
            "Requirement already satisfied: six>=1.5 in /usr/local/lib/python3.7/dist-packages (from python-dateutil>=2.7.3->pandas==1.3.5->-r requirements.txt (line 2)) (1.15.0)\n",
            "Requirement already satisfied: idna<3,>=2.5 in /usr/local/lib/python3.7/dist-packages (from requests->torchvision==0.13.1->-r requirements.txt (line 7)) (2.10)\n",
            "Requirement already satisfied: chardet<4,>=3.0.2 in /usr/local/lib/python3.7/dist-packages (from requests->torchvision==0.13.1->-r requirements.txt (line 7)) (3.0.4)\n",
            "Requirement already satisfied: certifi>=2017.4.17 in /usr/local/lib/python3.7/dist-packages (from requests->torchvision==0.13.1->-r requirements.txt (line 7)) (2022.9.24)\n",
            "Requirement already satisfied: urllib3!=1.25.0,!=1.25.1,<1.26,>=1.21.1 in /usr/local/lib/python3.7/dist-packages (from requests->torchvision==0.13.1->-r requirements.txt (line 7)) (1.24.3)\n"
          ]
        }
      ],
      "source": [
        "!pip install -r requirements.txt"
      ]
    },
    {
      "cell_type": "code",
      "execution_count": 3,
      "id": "28ea6e7d",
      "metadata": {
        "id": "28ea6e7d"
      },
      "outputs": [],
      "source": [
        "import os\n",
        "import time\n",
        "import json\n",
        "import numpy as np\n",
        "import pandas as pd\n",
        "from tqdm import tqdm\n",
        "import shutil\n",
        "import numpy as np\n",
        "import pandas as pd\n",
        "import torch\n",
        "import torch.utils.data\n",
        "from torch import nn\n",
        "from skimage import io\n",
        "from torchvision import transforms as torch_transforms\n",
        "from torchvision import models\n",
        "import pylab as plt\n",
        "from skimage.segmentation import mark_boundaries"
      ]
    },
    {
      "cell_type": "markdown",
      "id": "fQpDLC79m5A4",
      "metadata": {
        "id": "fQpDLC79m5A4"
      },
      "source": [
        "## Specify path, random seed, and band names"
      ]
    },
    {
      "cell_type": "code",
      "source": [
        "# path = 'agrifield_data/'\n",
        "path = 'gdrive/MyDrive/agrifield_data/'"
      ],
      "metadata": {
        "id": "vaxBqi27H2j3"
      },
      "id": "vaxBqi27H2j3",
      "execution_count": 4,
      "outputs": []
    },
    {
      "cell_type": "code",
      "source": [
        "if 'gdrive' in path:\n",
        "    from google.colab import drive\n",
        "    drive.mount('/content/gdrive')"
      ],
      "metadata": {
        "colab": {
          "base_uri": "https://localhost:8080/"
        },
        "id": "XaKPrmT7mK4X",
        "outputId": "1dfb5453-fa6e-427e-823a-d33a6bf77a78"
      },
      "id": "XaKPrmT7mK4X",
      "execution_count": 5,
      "outputs": [
        {
          "output_type": "stream",
          "name": "stdout",
          "text": [
            "Drive already mounted at /content/gdrive; to attempt to forcibly remount, call drive.mount(\"/content/gdrive\", force_remount=True).\n"
          ]
        }
      ]
    },
    {
      "cell_type": "code",
      "execution_count": 6,
      "id": "rKuZKO3em_Av",
      "metadata": {
        "id": "rKuZKO3em_Av"
      },
      "outputs": [],
      "source": [
        "random_seed = 42\n",
        "\n",
        "BAND_NAMES = ['B01', 'B02', 'B03', 'B04','B05', 'B06', 'B07', \n",
        "              'B08','B8A', 'B09', 'B11', 'B12']"
      ]
    },
    {
      "cell_type": "code",
      "execution_count": 7,
      "id": "S-_SPonZnI8f",
      "metadata": {
        "id": "S-_SPonZnI8f"
      },
      "outputs": [],
      "source": [
        "np.random.seed(random_seed)"
      ]
    },
    {
      "cell_type": "markdown",
      "source": [
        "## Load datasets"
      ],
      "metadata": {
        "id": "zQ2vnDDIITKZ"
      },
      "id": "zQ2vnDDIITKZ"
    },
    {
      "cell_type": "code",
      "source": [
        "df_train = pd.read_csv(path + 'df_train.csv')\n",
        "df_val = pd.read_csv(path + 'df_val.csv')\n",
        "df_test = pd.read_csv(path + 'df_test.csv')"
      ],
      "metadata": {
        "id": "_ijYxwbHIWWE"
      },
      "id": "_ijYxwbHIWWE",
      "execution_count": 8,
      "outputs": []
    },
    {
      "cell_type": "code",
      "source": [
        "if not os.path.exists('data_cropped'):\n",
        "  shutil.copytree(path + 'data_cropped', 'data_cropped')"
      ],
      "metadata": {
        "id": "rnEdn-0-NBx4"
      },
      "id": "rnEdn-0-NBx4",
      "execution_count": 9,
      "outputs": []
    },
    {
      "cell_type": "code",
      "source": [
        "df_train['data_path'] = df_train['data_path'].apply(lambda x: x.replace(path, ''))\n",
        "df_val['data_path'] = df_val['data_path'].apply(lambda x: x.replace(path, ''))\n",
        "df_test['data_path'] = df_test['data_path'].apply(lambda x: x.replace(path, ''))"
      ],
      "metadata": {
        "id": "nFM6On_pNixI"
      },
      "id": "nFM6On_pNixI",
      "execution_count": 10,
      "outputs": []
    },
    {
      "cell_type": "markdown",
      "source": [
        "## Calculate weights for balancing"
      ],
      "metadata": {
        "id": "Cuc6-fTMIxhR"
      },
      "id": "Cuc6-fTMIxhR"
    },
    {
      "cell_type": "code",
      "execution_count": 11,
      "id": "e39b9856-01db-4d36-9864-b94c5fb6e94c",
      "metadata": {
        "id": "e39b9856-01db-4d36-9864-b94c5fb6e94c",
        "colab": {
          "base_uri": "https://localhost:8080/"
        },
        "outputId": "24ffcc71-b57a-4f99-e6c0-0db45b1ebad4"
      },
      "outputs": [
        {
          "output_type": "execute_result",
          "data": {
            "text/plain": [
              "(array([ 1,  2,  3,  4,  5,  6,  8,  9, 13, 14, 15, 16, 36]),\n",
              " array([1675,  809,   81, 1259,   17,  134,   37,  239,   51,   11,   34,\n",
              "          13,   96]),\n",
              " array([  1.        ,   2.07045735,  20.67901235,   1.33042097,\n",
              "         98.52941176,  12.5       ,  45.27027027,   7.0083682 ,\n",
              "         32.84313725, 152.27272727,  49.26470588, 128.84615385,\n",
              "         17.44791667]))"
            ]
          },
          "metadata": {},
          "execution_count": 11
        }
      ],
      "source": [
        "n_fields = np.array(df_train.groupby('crop_type').count()['field_id'])\n",
        "weights = np.max(n_fields) / n_fields\n",
        "crop_labels = np.unique(df_train['crop_type'])\n",
        "crop_labels, n_fields, weights"
      ]
    },
    {
      "cell_type": "code",
      "execution_count": 12,
      "id": "01d13012-267b-4c53-9f8e-43c3bea62c1e",
      "metadata": {
        "id": "01d13012-267b-4c53-9f8e-43c3bea62c1e",
        "outputId": "ce4c9d8e-15aa-49b5-b12f-f98ba06c57c0",
        "colab": {
          "base_uri": "https://localhost:8080/"
        }
      },
      "outputs": [
        {
          "output_type": "execute_result",
          "data": {
            "text/plain": [
              "array([  0.        ,   1.        ,   2.07045735,  20.67901235,\n",
              "         1.33042097,  98.52941176,  12.5       ,   0.        ,\n",
              "        45.27027027,   7.0083682 ,   0.        ,   0.        ,\n",
              "         0.        ,  32.84313725, 152.27272727,  49.26470588,\n",
              "       128.84615385,   0.        ,   0.        ,   0.        ,\n",
              "         0.        ,   0.        ,   0.        ,   0.        ,\n",
              "         0.        ,   0.        ,   0.        ,   0.        ,\n",
              "         0.        ,   0.        ,   0.        ,   0.        ,\n",
              "         0.        ,   0.        ,   0.        ,   0.        ,\n",
              "        17.44791667])"
            ]
          },
          "metadata": {},
          "execution_count": 12
        }
      ],
      "source": [
        "loss_weights = np.zeros(int(crop_labels.max()) + 1)\n",
        "loss_weights[list(np.int_(crop_labels))] = weights\n",
        "loss_weights"
      ]
    },
    {
      "cell_type": "code",
      "source": [
        "df_train['weight'] = df_train['crop_type'].apply(lambda x: loss_weights[int(x)])\n",
        "df_val['weight'] = df_val['crop_type'].apply(lambda x: loss_weights[int(x)])"
      ],
      "metadata": {
        "id": "NOlbf1L885z_"
      },
      "id": "NOlbf1L885z_",
      "execution_count": 13,
      "outputs": []
    },
    {
      "cell_type": "markdown",
      "id": "lLqI5XgBOyxE",
      "metadata": {
        "id": "lLqI5XgBOyxE"
      },
      "source": [
        "## Extract labels"
      ]
    },
    {
      "cell_type": "code",
      "source": [
        "data_dir = path + 'data'\n",
        "train_label_collection = 'ref_agrifieldnet_competition_v1_labels_train'"
      ],
      "metadata": {
        "id": "u_Z6wsgJI5fC"
      },
      "id": "u_Z6wsgJI5fC",
      "execution_count": 14,
      "outputs": []
    },
    {
      "cell_type": "code",
      "execution_count": 15,
      "id": "p9s-spgZO12F",
      "metadata": {
        "id": "p9s-spgZO12F"
      },
      "outputs": [],
      "source": [
        "f = os.listdir(os.path.join(data_dir, train_label_collection))[0]\n",
        "with open(os.path.join(data_dir, train_label_collection, f, 'stac.json')) as ll:\n",
        "    label_json = json.load(ll)"
      ]
    },
    {
      "cell_type": "code",
      "execution_count": 16,
      "id": "7rjt5idSPvjH",
      "metadata": {
        "colab": {
          "base_uri": "https://localhost:8080/"
        },
        "id": "7rjt5idSPvjH",
        "outputId": "8c972050-fcd4-45df-c8b8-75dd775edb3a"
      },
      "outputs": [
        {
          "output_type": "execute_result",
          "data": {
            "text/plain": [
              "{1: 'Wheat',\n",
              " 2: 'Mustard',\n",
              " 3: 'Lentil',\n",
              " 4: 'No Crop',\n",
              " 6: 'Sugarcane',\n",
              " 8: 'Garlic',\n",
              " 15: 'Potato',\n",
              " 5: 'Green pea',\n",
              " 16: 'Bersem',\n",
              " 14: 'Coriander',\n",
              " 13: 'Gram',\n",
              " 9: 'Maize',\n",
              " 36: 'Rice'}"
            ]
          },
          "metadata": {},
          "execution_count": 16
        }
      ],
      "source": [
        "crop_dict = {asset.get('values')[0]:asset.get('summary') \n",
        "  for asset in label_json['assets']['raster_labels']['file:values']}\n",
        "crop_dict"
      ]
    },
    {
      "cell_type": "markdown",
      "id": "Etysg8Y8m0H5",
      "metadata": {
        "id": "Etysg8Y8m0H5"
      },
      "source": [
        "## Specify Data Loading pipeline"
      ]
    },
    {
      "cell_type": "markdown",
      "source": [
        "### Specify dataset and transforms"
      ],
      "metadata": {
        "id": "L35_myNlKayj"
      },
      "id": "L35_myNlKayj"
    },
    {
      "cell_type": "code",
      "execution_count": 17,
      "id": "4MbR7RMSzRpO",
      "metadata": {
        "id": "4MbR7RMSzRpO"
      },
      "outputs": [],
      "source": [
        "train_transforms = torch_transforms.Compose([\n",
        "        torch_transforms.RandomHorizontalFlip(),\n",
        "        torch_transforms.RandomVerticalFlip(),\n",
        "        torch_transforms.RandomRotation(degrees=90),\n",
        "    ])\n",
        "\n",
        "validation_transforms = torch_transforms.Compose([\n",
        "        torch_transforms.RandomHorizontalFlip(),\n",
        "        torch_transforms.RandomVerticalFlip(),\n",
        "    ])"
      ]
    },
    {
      "cell_type": "code",
      "source": [
        "class AgriDataset(torch.utils.data.Dataset):\n",
        "\n",
        "  def __init__(self, df, transforms=None):\n",
        "    self.df = df\n",
        "    self.transforms = transforms\n",
        "\n",
        "  def __getitem__(self, index):\n",
        "    x = io.imread(self.df['data_path'][index])\n",
        "    x = torch.tensor(x, dtype=torch.float64)\n",
        "    \n",
        "    label = torch.tensor(self.df.iloc[index]['crop_ind'], dtype=torch.int64)\n",
        "    field_id = torch.tensor(self.df.iloc[index]['field_id'], dtype=torch.int64)\n",
        "      \n",
        "    # apply transforms\n",
        "    if self.transforms:\n",
        "      x = self.transforms(x)\n",
        "\n",
        "    imgs = x[:-1]\n",
        "    mask = x[-1]\n",
        "    return imgs.float(), mask.float(), label, field_id\n",
        "    \n",
        "\n",
        "  def __len__(self):\n",
        "    return len(self.df)"
      ],
      "metadata": {
        "id": "Zofur_HczvrH"
      },
      "id": "Zofur_HczvrH",
      "execution_count": 18,
      "outputs": []
    },
    {
      "cell_type": "markdown",
      "id": "TMWu0HGHLciF",
      "metadata": {
        "id": "TMWu0HGHLciF"
      },
      "source": [
        "### Test the loaders"
      ]
    },
    {
      "cell_type": "code",
      "source": [
        "batch_size = 8"
      ],
      "metadata": {
        "id": "eF_Z4eAt3Isj"
      },
      "id": "eF_Z4eAt3Isj",
      "execution_count": 19,
      "outputs": []
    },
    {
      "cell_type": "code",
      "execution_count": 20,
      "id": "CF_RmPV7mywU",
      "metadata": {
        "id": "CF_RmPV7mywU"
      },
      "outputs": [],
      "source": [
        "np.random.seed(random_seed)\n",
        "torch.manual_seed(random_seed)\n",
        "dl_train0 = torch.utils.data.DataLoader(\n",
        "    AgriDataset(df_train, \n",
        "                ), \n",
        "    shuffle=False, batch_size=batch_size, num_workers=2,\n",
        "    )\n",
        "dl_train = torch.utils.data.DataLoader(\n",
        "    AgriDataset(df_train,\n",
        "                transforms=train_transforms,\n",
        "                ), \n",
        "    shuffle=False, batch_size=batch_size, num_workers=2,\n",
        "    )"
      ]
    },
    {
      "cell_type": "code",
      "execution_count": 21,
      "id": "-im5bMRLr8Zq",
      "metadata": {
        "id": "-im5bMRLr8Zq"
      },
      "outputs": [],
      "source": [
        "torch.manual_seed(random_seed)\n",
        "imgs, masks, labels, _ = next(iter(dl_train))\n",
        "torch.manual_seed(random_seed)\n",
        "imgs0, masks0, labels0, _ = next(iter(dl_train0))"
      ]
    },
    {
      "cell_type": "code",
      "execution_count": 22,
      "id": "u9iid9I7sPsF",
      "metadata": {
        "id": "u9iid9I7sPsF",
        "colab": {
          "base_uri": "https://localhost:8080/"
        },
        "outputId": "d7082562-7ccc-4de0-c7a0-8763eb3914af"
      },
      "outputs": [
        {
          "output_type": "execute_result",
          "data": {
            "text/plain": [
              "(torch.Size([8, 12, 16, 16]), torch.Size([8, 16, 16]), torch.Size([8]))"
            ]
          },
          "metadata": {},
          "execution_count": 22
        }
      ],
      "source": [
        "imgs.shape, masks.shape, labels.shape"
      ]
    },
    {
      "cell_type": "code",
      "execution_count": 23,
      "id": "Q4mkN3NawctR",
      "metadata": {
        "id": "Q4mkN3NawctR"
      },
      "outputs": [],
      "source": [
        "ind = 0\n",
        "s = 3"
      ]
    },
    {
      "cell_type": "code",
      "execution_count": 24,
      "id": "L3ssR_ibGyeG",
      "metadata": {
        "id": "L3ssR_ibGyeG",
        "colab": {
          "base_uri": "https://localhost:8080/",
          "height": 696
        },
        "outputId": "0d1e1f1a-1135-495a-9d2a-7be3d5fac186"
      },
      "outputs": [
        {
          "output_type": "stream",
          "name": "stdout",
          "text": [
            "tensor(1) Mustard\n"
          ]
        },
        {
          "output_type": "stream",
          "name": "stderr",
          "text": [
            "/usr/local/lib/python3.7/dist-packages/skimage/io/_plugins/matplotlib_plugin.py:150: UserWarning: Float image out of standard range; displaying image with stretched contrast.\n",
            "  lo, hi, cmap = _get_display_range(image)\n"
          ]
        },
        {
          "output_type": "display_data",
          "data": {
            "text/plain": [
              "<Figure size 1080x648 with 27 Axes>"
            ],
            "image/png": "[encoded data removed]"
          },
          "metadata": {
            "needs_background": "light"
          }
        }
      ],
      "source": [
        "fig, axes = plt.subplots(3, 5, figsize=(s*5, s*3))\n",
        "print(labels0[ind], crop_dict[crop_labels[labels0[ind].item()]])\n",
        "for ax, img in zip(axes.ravel(), torch.concat([imgs0[ind], masks0[ind].unsqueeze(0)])):\n",
        "  plt.sca(ax)\n",
        "  im = img.numpy()\n",
        "  io.imshow(im)"
      ]
    },
    {
      "cell_type": "code",
      "execution_count": 25,
      "id": "2zh4jKUlB_85",
      "metadata": {
        "id": "2zh4jKUlB_85",
        "colab": {
          "base_uri": "https://localhost:8080/",
          "height": 644
        },
        "outputId": "8335b69e-51eb-4f12-81b2-e798a94a4bd6"
      },
      "outputs": [
        {
          "output_type": "stream",
          "name": "stdout",
          "text": [
            "tensor(1) Mustard\n"
          ]
        },
        {
          "output_type": "display_data",
          "data": {
            "text/plain": [
              "<Figure size 1080x648 with 27 Axes>"
            ],
            "image/png": "[encoded data removed]"
          },
          "metadata": {
            "needs_background": "light"
          }
        }
      ],
      "source": [
        "fig, axes = plt.subplots(3, 5, figsize=(s*5, s*3))\n",
        "print(labels[ind], crop_dict[crop_labels[labels[ind].item()]])\n",
        "for ax, img in zip(axes.ravel(), torch.concat([imgs[ind], masks[ind].unsqueeze(0)])):\n",
        "  plt.sca(ax)\n",
        "  im = img.numpy()\n",
        "  io.imshow(im)"
      ]
    },
    {
      "cell_type": "markdown",
      "id": "zrW5YsCYLkei",
      "metadata": {
        "id": "zrW5YsCYLkei"
      },
      "source": [
        "### Specify the loaders"
      ]
    },
    {
      "cell_type": "code",
      "source": [
        "batch_size = 256"
      ],
      "metadata": {
        "id": "uWBY0-f0Ls-N"
      },
      "id": "uWBY0-f0Ls-N",
      "execution_count": 26,
      "outputs": []
    },
    {
      "cell_type": "code",
      "execution_count": 27,
      "id": "Oo8c96-bFVaT",
      "metadata": {
        "id": "Oo8c96-bFVaT"
      },
      "outputs": [],
      "source": [
        "np.random.seed(random_seed)\n",
        "torch.manual_seed(random_seed)\n",
        "sampler_tr = torch.utils.data.WeightedRandomSampler(df_train['weight'], \n",
        "                                                    len(df_train))\n",
        "sampler_val = torch.utils.data.WeightedRandomSampler(df_val['weight'],\n",
        "                                                     len(df_val))\n",
        "\n",
        "dl_train = torch.utils.data.DataLoader(\n",
        "    AgriDataset(df_train, \n",
        "                transforms=train_transforms,\n",
        "                ), \n",
        "    batch_size=batch_size, num_workers=2,\n",
        "    drop_last=False,\n",
        "    sampler=sampler_tr\n",
        "    )\n",
        "dl_val = torch.utils.data.DataLoader(\n",
        "    AgriDataset(df_val, \n",
        "                transforms=validation_transforms,\n",
        "                ), \n",
        "    batch_size=batch_size, num_workers=2,\n",
        "    shuffle=False,\n",
        "    drop_last=False,\n",
        "    sampler=sampler_val\n",
        "    )"
      ]
    },
    {
      "cell_type": "markdown",
      "id": "ewYce_-h3SaV",
      "metadata": {
        "id": "ewYce_-h3SaV"
      },
      "source": [
        "## Specify the training pipeline"
      ]
    },
    {
      "cell_type": "markdown",
      "id": "0St9WaOKAEYu",
      "metadata": {
        "id": "0St9WaOKAEYu"
      },
      "source": [
        "### Model and loss"
      ]
    },
    {
      "cell_type": "code",
      "source": [
        "import math\n",
        "\n",
        "class PositionEmbeddingSine(nn.Module):\n",
        "    \"\"\"\n",
        "    Adapted from https://github.com/facebookresearch/detr/blob/main/models/position_encoding.py\n",
        "    \"\"\"\n",
        "\n",
        "    def __init__(self, num_pos_feats=64, temperature=10000, normalize=False, scale=None):\n",
        "        super().__init__()\n",
        "        self.num_pos_feats = num_pos_feats\n",
        "        self.temperature = temperature\n",
        "        self.normalize = normalize\n",
        "        if scale is not None and normalize is False:\n",
        "            raise ValueError(\"normalize should be True if scale is passed\")\n",
        "        if scale is None:\n",
        "            scale = 2 * math.pi\n",
        "        self.scale = scale\n",
        "\n",
        "    def forward(self, x):\n",
        "        not_mask = torch.ones((x.shape[0],) + x.shape[-2:])\n",
        "        y_embed = not_mask.cumsum(1, dtype=torch.float32).to(x.device)\n",
        "        x_embed = not_mask.cumsum(2, dtype=torch.float32).to(x.device)\n",
        "        if self.normalize:\n",
        "            eps = 1e-6\n",
        "            y_embed = y_embed / (y_embed[:, -1:, :] + eps) * self.scale\n",
        "            x_embed = x_embed / (x_embed[:, :, -1:] + eps) * self.scale\n",
        "\n",
        "        dim_t = torch.arange(self.num_pos_feats, dtype=torch.float32, device=x.device)\n",
        "        dim_t = self.temperature ** (2 * torch.div(dim_t, 2, rounding_mode='trunc') / self.num_pos_feats)\n",
        "\n",
        "        pos_x = x_embed[:, :, :, None] / dim_t\n",
        "        pos_y = y_embed[:, :, :, None] / dim_t\n",
        "        pos_x = torch.stack((pos_x[:, :, :, 0::2].sin(), pos_x[:, :, :, 1::2].cos()), dim=4).flatten(3)\n",
        "        pos_y = torch.stack((pos_y[:, :, :, 0::2].sin(), pos_y[:, :, :, 1::2].cos()), dim=4).flatten(3)\n",
        "        pos = torch.cat((pos_y, pos_x), dim=3).permute(0, 3, 1, 2)\n",
        "        return pos\n"
      ],
      "metadata": {
        "id": "RA5QL6gqhsmC"
      },
      "id": "RA5QL6gqhsmC",
      "execution_count": 28,
      "outputs": []
    },
    {
      "cell_type": "code",
      "source": [
        "class Transformer(nn.Module):\n",
        "\n",
        "    def __init__(self, in_channels, hidden_dim, nheads=8, num_layers=6):\n",
        "        super().__init__()\n",
        "        encoder_layer = nn.TransformerEncoderLayer(d_model=hidden_dim, \n",
        "                                                   nhead=nheads, batch_first=True)\n",
        "        self.transformer_encoder = nn.TransformerEncoder(encoder_layer, \n",
        "                                                         num_layers=num_layers)\n",
        "        self.input_embed = nn.Conv2d(in_channels, hidden_dim, 1)\n",
        "        \n",
        "        # spatial positional encodings\n",
        "        self.position_encodings = PositionEmbeddingSine(torch.div(hidden_dim, \n",
        "                                                                  2, \n",
        "                                                                  rounding_mode='trunc'),\n",
        "                                                        normalize=True)\n",
        "\n",
        "    def forward(self, x, mask):\n",
        "        x = self.input_embed(x)\n",
        "        mask = (1 - mask).flatten(-2, -1)\n",
        "        mask[:,0] = 0\n",
        "        pos = self.position_encodings(x)\n",
        "        out = self.transformer_encoder((pos + x).flatten(-2, -1).transpose(-1, -2),\n",
        "                                       src_key_padding_mask=mask)\n",
        "        return out[:,0]\n",
        "\n",
        "class TransformerClassifier(nn.Module):\n",
        "\n",
        "    def __init__(self, in_channels, hidden_dim, num_classes, \n",
        "                 nheads=8, num_layers=6):\n",
        "        super().__init__()\n",
        "        self.transformer = Transformer(in_channels, hidden_dim, nheads=4)\n",
        "        self.class_embed = nn.Linear(hidden_dim, num_classes)\n",
        "\n",
        "\n",
        "    def forward(self, x, mask):\n",
        "        out = self.transformer(x, mask)\n",
        "        class_prob = self.class_embed(out)\n",
        "        return class_prob   "
      ],
      "metadata": {
        "id": "uQUJ-eZvhsuy"
      },
      "id": "uQUJ-eZvhsuy",
      "execution_count": 29,
      "outputs": []
    },
    {
      "cell_type": "code",
      "source": [
        "net = TransformerClassifier(in_channels=len(BAND_NAMES), \n",
        "                            hidden_dim=len(BAND_NAMES), \n",
        "                            num_classes=len(crop_labels),\n",
        "                            nheads=4).cuda()"
      ],
      "metadata": {
        "id": "VMsO6F88lvPO"
      },
      "id": "VMsO6F88lvPO",
      "execution_count": 30,
      "outputs": []
    },
    {
      "cell_type": "code",
      "source": [
        "net.transformer.load_state_dict(\n",
        "    torch.load(os.path.join(path, 'models/1667150366_Sun Oct 30 17:19:26 2022_pretraining/best_model.pth'))\n",
        "    )"
      ],
      "metadata": {
        "colab": {
          "base_uri": "https://localhost:8080/"
        },
        "id": "Auz51AUcXfIu",
        "outputId": "c185bb93-9d03-4d8e-d4f2-f78e3930f712"
      },
      "id": "Auz51AUcXfIu",
      "execution_count": 31,
      "outputs": [
        {
          "output_type": "execute_result",
          "data": {
            "text/plain": [
              "<All keys matched successfully>"
            ]
          },
          "metadata": {},
          "execution_count": 31
        }
      ]
    },
    {
      "cell_type": "code",
      "execution_count": 32,
      "id": "5_Rns_Wa41hR",
      "metadata": {
        "id": "5_Rns_Wa41hR"
      },
      "outputs": [],
      "source": [
        "loss_fn = nn.CrossEntropyLoss().cuda()"
      ]
    },
    {
      "cell_type": "markdown",
      "id": "4Ez9CUTN9cYo",
      "metadata": {
        "id": "4Ez9CUTN9cYo"
      },
      "source": [
        "### Optimizer and scheduler"
      ]
    },
    {
      "cell_type": "code",
      "source": [
        "lr = 0.0001\n",
        "weight_decay = 0.05\n",
        "epochs = 50\n",
        "# patience = 5\n",
        "# factor = 0.1\n",
        "gamma = 0.9"
      ],
      "metadata": {
        "id": "bb0n2dM0rqLM"
      },
      "id": "bb0n2dM0rqLM",
      "execution_count": 33,
      "outputs": []
    },
    {
      "cell_type": "code",
      "execution_count": 34,
      "id": "69pKnisc4nyy",
      "metadata": {
        "id": "69pKnisc4nyy"
      },
      "outputs": [],
      "source": [
        "optimizer = torch.optim.AdamW(\n",
        "    params=[{\"params\": [p for p in net.parameters() if p.requires_grad]}],\n",
        "            lr=lr, weight_decay=weight_decay\n",
        ")\n",
        "# lr_scheduler = torch.optim.lr_scheduler.ReduceLROnPlateau(\n",
        "#     optimizer, mode='min', factor=factor, patience=patience\n",
        "#     )\n",
        "lr_scheduler = torch.optim.lr_scheduler.ExponentialLR(\n",
        "    optimizer, gamma=gamma\n",
        "    )"
      ]
    },
    {
      "cell_type": "markdown",
      "id": "bkfDGGNQBg4G",
      "metadata": {
        "id": "bkfDGGNQBg4G"
      },
      "source": [
        "### Training step"
      ]
    },
    {
      "cell_type": "code",
      "execution_count": 35,
      "id": "xsBjaMOWDh1r",
      "metadata": {
        "id": "xsBjaMOWDh1r"
      },
      "outputs": [],
      "source": [
        "def train_epoch(net, loss_fn, dl_train, optimizer, lr_scheduler):\n",
        "  net.train()\n",
        "  loss_fn.train()\n",
        "  epoch_loss = 0\n",
        "  step = 0\n",
        "  for imgs, masks, targets, _ in tqdm(dl_train):\n",
        "    step += 1\n",
        "    optimizer.zero_grad()\n",
        "    outputs = net(imgs.cuda(), masks.cuda())\n",
        "    losses = loss_fn(outputs, targets.cuda())\n",
        "    losses.backward()\n",
        "    optimizer.step()\n",
        "    epoch_loss += losses.item()\n",
        "    # lr_scheduler.step()\n",
        "  epoch_loss /= step\n",
        "  return epoch_loss"
      ]
    },
    {
      "cell_type": "markdown",
      "id": "J04gxD4jBmvj",
      "metadata": {
        "id": "J04gxD4jBmvj"
      },
      "source": [
        "### Validation step"
      ]
    },
    {
      "cell_type": "code",
      "execution_count": 36,
      "id": "NDl3BucGGCVn",
      "metadata": {
        "id": "NDl3BucGGCVn"
      },
      "outputs": [],
      "source": [
        "def validate_epoch(net, loss_fn, dl_val):\n",
        "  net.eval()\n",
        "  loss_fn.eval()\n",
        "  epoch_loss = 0\n",
        "  step = 0\n",
        "\n",
        "  with torch.no_grad():\n",
        "    for imgs, masks, targets, _ in tqdm(dl_val):\n",
        "      step += 1\n",
        "      outputs = net(imgs.cuda(), masks.cuda())\n",
        "      losses = loss_fn(outputs, targets.cuda())\n",
        "      epoch_loss += losses.item()\n",
        "  epoch_loss /= step\n",
        "  return epoch_loss"
      ]
    },
    {
      "cell_type": "markdown",
      "id": "1Vyi8pDqG_xg",
      "metadata": {
        "id": "1Vyi8pDqG_xg"
      },
      "source": [
        "## Train the model"
      ]
    },
    {
      "cell_type": "code",
      "source": [
        "model_name = rf'{int(time.time())}_{time.ctime()}_transformer'\n",
        "model_dir = os.path.join(path, 'models', model_name)\n",
        "os.makedirs(model_dir, exist_ok=True)"
      ],
      "metadata": {
        "id": "XkRcgAe8bsnI"
      },
      "id": "XkRcgAe8bsnI",
      "execution_count": 37,
      "outputs": []
    },
    {
      "cell_type": "code",
      "execution_count": 38,
      "id": "gCL8_nUXG_GS",
      "metadata": {
        "colab": {
          "base_uri": "https://localhost:8080/"
        },
        "id": "gCL8_nUXG_GS",
        "outputId": "6ca0c8ec-b5f7-4be4-d7bc-c99b34aa6ba0"
      },
      "outputs": [
        {
          "output_type": "stream",
          "name": "stderr",
          "text": [
            "100%|██████████| 18/18 [00:15<00:00,  1.15it/s]\n",
            "  0%|          | 0/5 [00:00<?, ?it/s]/usr/local/lib/python3.7/dist-packages/torch/nn/modules/transformer.py:456: UserWarning: Converting mask without torch.bool dtype to bool; this will negatively affect performance. Prefer to use a boolean mask directly. (Triggered internally at  ../aten/src/ATen/native/transformers/attention.cpp:141.)\n",
            "  src_mask if src_mask is not None else src_key_padding_mask,  # TODO: split into two args\n",
            "100%|██████████| 5/5 [00:01<00:00,  3.33it/s]\n"
          ]
        },
        {
          "output_type": "stream",
          "name": "stdout",
          "text": [
            "epoch 1 training loss: 2.6352; validation loss: 2.6493; lr: 9e-05\n",
            "saving best model\n"
          ]
        },
        {
          "output_type": "stream",
          "name": "stderr",
          "text": [
            "100%|██████████| 18/18 [00:09<00:00,  1.99it/s]\n",
            "100%|██████████| 5/5 [00:01<00:00,  3.29it/s]\n"
          ]
        },
        {
          "output_type": "stream",
          "name": "stdout",
          "text": [
            "epoch 2 training loss: 2.5317; validation loss: 2.6422; lr: 8.1e-05\n",
            "saving best model\n"
          ]
        },
        {
          "output_type": "stream",
          "name": "stderr",
          "text": [
            "100%|██████████| 18/18 [00:09<00:00,  1.97it/s]\n",
            "100%|██████████| 5/5 [00:01<00:00,  3.21it/s]\n"
          ]
        },
        {
          "output_type": "stream",
          "name": "stdout",
          "text": [
            "epoch 3 training loss: 2.4883; validation loss: 2.6397; lr: 7.290000000000001e-05\n",
            "saving best model\n"
          ]
        },
        {
          "output_type": "stream",
          "name": "stderr",
          "text": [
            "100%|██████████| 18/18 [00:09<00:00,  1.97it/s]\n",
            "100%|██████████| 5/5 [00:01<00:00,  3.34it/s]\n"
          ]
        },
        {
          "output_type": "stream",
          "name": "stdout",
          "text": [
            "epoch 4 training loss: 2.4493; validation loss: 2.6138; lr: 6.561000000000002e-05\n",
            "saving best model\n"
          ]
        },
        {
          "output_type": "stream",
          "name": "stderr",
          "text": [
            "100%|██████████| 18/18 [00:09<00:00,  1.97it/s]\n",
            "100%|██████████| 5/5 [00:01<00:00,  3.22it/s]\n"
          ]
        },
        {
          "output_type": "stream",
          "name": "stdout",
          "text": [
            "epoch 5 training loss: 2.4473; validation loss: 2.5982; lr: 5.904900000000002e-05\n",
            "saving best model\n"
          ]
        },
        {
          "output_type": "stream",
          "name": "stderr",
          "text": [
            "100%|██████████| 18/18 [00:09<00:00,  1.96it/s]\n",
            "100%|██████████| 5/5 [00:01<00:00,  3.19it/s]\n"
          ]
        },
        {
          "output_type": "stream",
          "name": "stdout",
          "text": [
            "epoch 6 training loss: 2.4299; validation loss: 2.6313; lr: 5.314410000000002e-05\n"
          ]
        },
        {
          "output_type": "stream",
          "name": "stderr",
          "text": [
            "100%|██████████| 18/18 [00:09<00:00,  1.93it/s]\n",
            "100%|██████████| 5/5 [00:02<00:00,  2.26it/s]\n"
          ]
        },
        {
          "output_type": "stream",
          "name": "stdout",
          "text": [
            "epoch 7 training loss: 2.4182; validation loss: 2.6023; lr: 4.782969000000002e-05\n"
          ]
        },
        {
          "output_type": "stream",
          "name": "stderr",
          "text": [
            "100%|██████████| 18/18 [00:09<00:00,  1.91it/s]\n",
            "100%|██████████| 5/5 [00:01<00:00,  3.22it/s]\n"
          ]
        },
        {
          "output_type": "stream",
          "name": "stdout",
          "text": [
            "epoch 8 training loss: 2.4197; validation loss: 2.5925; lr: 4.304672100000002e-05\n",
            "saving best model\n"
          ]
        },
        {
          "output_type": "stream",
          "name": "stderr",
          "text": [
            "100%|██████████| 18/18 [00:09<00:00,  1.96it/s]\n",
            "100%|██████████| 5/5 [00:01<00:00,  3.27it/s]\n"
          ]
        },
        {
          "output_type": "stream",
          "name": "stdout",
          "text": [
            "epoch 9 training loss: 2.4163; validation loss: 2.5888; lr: 3.874204890000002e-05\n",
            "saving best model\n"
          ]
        },
        {
          "output_type": "stream",
          "name": "stderr",
          "text": [
            "100%|██████████| 18/18 [00:09<00:00,  1.97it/s]\n",
            "100%|██████████| 5/5 [00:01<00:00,  3.14it/s]\n"
          ]
        },
        {
          "output_type": "stream",
          "name": "stdout",
          "text": [
            "epoch 10 training loss: 2.4028; validation loss: 2.5931; lr: 3.4867844010000016e-05\n"
          ]
        },
        {
          "output_type": "stream",
          "name": "stderr",
          "text": [
            "100%|██████████| 18/18 [00:09<00:00,  1.97it/s]\n",
            "100%|██████████| 5/5 [00:01<00:00,  3.24it/s]\n"
          ]
        },
        {
          "output_type": "stream",
          "name": "stdout",
          "text": [
            "epoch 11 training loss: 2.3794; validation loss: 2.5834; lr: 3.138105960900002e-05\n",
            "saving best model\n"
          ]
        },
        {
          "output_type": "stream",
          "name": "stderr",
          "text": [
            "100%|██████████| 18/18 [00:09<00:00,  1.97it/s]\n",
            "100%|██████████| 5/5 [00:01<00:00,  3.28it/s]\n"
          ]
        },
        {
          "output_type": "stream",
          "name": "stdout",
          "text": [
            "epoch 12 training loss: 2.3857; validation loss: 2.5869; lr: 2.8242953648100018e-05\n"
          ]
        },
        {
          "output_type": "stream",
          "name": "stderr",
          "text": [
            "100%|██████████| 18/18 [00:09<00:00,  1.97it/s]\n",
            "100%|██████████| 5/5 [00:01<00:00,  3.22it/s]\n"
          ]
        },
        {
          "output_type": "stream",
          "name": "stdout",
          "text": [
            "epoch 13 training loss: 2.3873; validation loss: 2.5824; lr: 2.5418658283290016e-05\n",
            "saving best model\n"
          ]
        },
        {
          "output_type": "stream",
          "name": "stderr",
          "text": [
            "100%|██████████| 18/18 [00:09<00:00,  1.98it/s]\n",
            "100%|██████████| 5/5 [00:01<00:00,  3.25it/s]\n"
          ]
        },
        {
          "output_type": "stream",
          "name": "stdout",
          "text": [
            "epoch 14 training loss: 2.3662; validation loss: 2.5593; lr: 2.2876792454961016e-05\n",
            "saving best model\n"
          ]
        },
        {
          "output_type": "stream",
          "name": "stderr",
          "text": [
            "100%|██████████| 18/18 [00:09<00:00,  1.97it/s]\n",
            "100%|██████████| 5/5 [00:01<00:00,  3.22it/s]\n"
          ]
        },
        {
          "output_type": "stream",
          "name": "stdout",
          "text": [
            "epoch 15 training loss: 2.3702; validation loss: 2.5632; lr: 2.0589113209464913e-05\n"
          ]
        },
        {
          "output_type": "stream",
          "name": "stderr",
          "text": [
            "100%|██████████| 18/18 [00:09<00:00,  1.96it/s]\n",
            "100%|██████████| 5/5 [00:01<00:00,  3.38it/s]\n"
          ]
        },
        {
          "output_type": "stream",
          "name": "stdout",
          "text": [
            "epoch 16 training loss: 2.3569; validation loss: 2.5946; lr: 1.8530201888518422e-05\n"
          ]
        },
        {
          "output_type": "stream",
          "name": "stderr",
          "text": [
            "100%|██████████| 18/18 [00:09<00:00,  1.97it/s]\n",
            "100%|██████████| 5/5 [00:01<00:00,  3.08it/s]\n"
          ]
        },
        {
          "output_type": "stream",
          "name": "stdout",
          "text": [
            "epoch 17 training loss: 2.3657; validation loss: 2.5591; lr: 1.667718169966658e-05\n",
            "saving best model\n"
          ]
        },
        {
          "output_type": "stream",
          "name": "stderr",
          "text": [
            "100%|██████████| 18/18 [00:10<00:00,  1.74it/s]\n",
            "100%|██████████| 5/5 [00:01<00:00,  3.32it/s]\n"
          ]
        },
        {
          "output_type": "stream",
          "name": "stdout",
          "text": [
            "epoch 18 training loss: 2.3763; validation loss: 2.5803; lr: 1.5009463529699922e-05\n"
          ]
        },
        {
          "output_type": "stream",
          "name": "stderr",
          "text": [
            "100%|██████████| 18/18 [00:09<00:00,  1.97it/s]\n",
            "100%|██████████| 5/5 [00:01<00:00,  3.26it/s]\n"
          ]
        },
        {
          "output_type": "stream",
          "name": "stdout",
          "text": [
            "epoch 19 training loss: 2.3574; validation loss: 2.5775; lr: 1.350851717672993e-05\n"
          ]
        },
        {
          "output_type": "stream",
          "name": "stderr",
          "text": [
            "100%|██████████| 18/18 [00:09<00:00,  1.96it/s]\n",
            "100%|██████████| 5/5 [00:01<00:00,  3.18it/s]\n"
          ]
        },
        {
          "output_type": "stream",
          "name": "stdout",
          "text": [
            "epoch 20 training loss: 2.3474; validation loss: 2.5929; lr: 1.2157665459056937e-05\n"
          ]
        },
        {
          "output_type": "stream",
          "name": "stderr",
          "text": [
            "100%|██████████| 18/18 [00:09<00:00,  1.97it/s]\n",
            "100%|██████████| 5/5 [00:01<00:00,  3.27it/s]\n"
          ]
        },
        {
          "output_type": "stream",
          "name": "stdout",
          "text": [
            "epoch 21 training loss: 2.3506; validation loss: 2.5674; lr: 1.0941898913151244e-05\n"
          ]
        },
        {
          "output_type": "stream",
          "name": "stderr",
          "text": [
            "100%|██████████| 18/18 [00:09<00:00,  1.97it/s]\n",
            "100%|██████████| 5/5 [00:01<00:00,  3.24it/s]\n"
          ]
        },
        {
          "output_type": "stream",
          "name": "stdout",
          "text": [
            "epoch 22 training loss: 2.3523; validation loss: 2.5585; lr: 9.84770902183612e-06\n",
            "saving best model\n"
          ]
        },
        {
          "output_type": "stream",
          "name": "stderr",
          "text": [
            "100%|██████████| 18/18 [00:09<00:00,  1.97it/s]\n",
            "100%|██████████| 5/5 [00:01<00:00,  3.39it/s]\n"
          ]
        },
        {
          "output_type": "stream",
          "name": "stdout",
          "text": [
            "epoch 23 training loss: 2.3558; validation loss: 2.5516; lr: 8.862938119652508e-06\n",
            "saving best model\n"
          ]
        },
        {
          "output_type": "stream",
          "name": "stderr",
          "text": [
            "100%|██████████| 18/18 [00:09<00:00,  1.97it/s]\n",
            "100%|██████████| 5/5 [00:01<00:00,  3.13it/s]\n"
          ]
        },
        {
          "output_type": "stream",
          "name": "stdout",
          "text": [
            "epoch 24 training loss: 2.3598; validation loss: 2.5724; lr: 7.976644307687257e-06\n"
          ]
        },
        {
          "output_type": "stream",
          "name": "stderr",
          "text": [
            "100%|██████████| 18/18 [00:09<00:00,  1.97it/s]\n",
            "100%|██████████| 5/5 [00:01<00:00,  3.24it/s]\n"
          ]
        },
        {
          "output_type": "stream",
          "name": "stdout",
          "text": [
            "epoch 25 training loss: 2.3565; validation loss: 2.5693; lr: 7.1789798769185315e-06\n"
          ]
        },
        {
          "output_type": "stream",
          "name": "stderr",
          "text": [
            "100%|██████████| 18/18 [00:09<00:00,  1.96it/s]\n",
            "100%|██████████| 5/5 [00:01<00:00,  3.39it/s]\n"
          ]
        },
        {
          "output_type": "stream",
          "name": "stdout",
          "text": [
            "epoch 26 training loss: 2.3349; validation loss: 2.5700; lr: 6.461081889226678e-06\n"
          ]
        },
        {
          "output_type": "stream",
          "name": "stderr",
          "text": [
            "100%|██████████| 18/18 [00:09<00:00,  1.97it/s]\n",
            "100%|██████████| 5/5 [00:01<00:00,  3.25it/s]\n"
          ]
        },
        {
          "output_type": "stream",
          "name": "stdout",
          "text": [
            "epoch 27 training loss: 2.3425; validation loss: 2.5495; lr: 5.81497370030401e-06\n",
            "saving best model\n"
          ]
        },
        {
          "output_type": "stream",
          "name": "stderr",
          "text": [
            "100%|██████████| 18/18 [00:09<00:00,  1.98it/s]\n",
            "100%|██████████| 5/5 [00:01<00:00,  3.34it/s]\n"
          ]
        },
        {
          "output_type": "stream",
          "name": "stdout",
          "text": [
            "epoch 28 training loss: 2.3547; validation loss: 2.5555; lr: 5.23347633027361e-06\n"
          ]
        },
        {
          "output_type": "stream",
          "name": "stderr",
          "text": [
            "100%|██████████| 18/18 [00:09<00:00,  1.97it/s]\n",
            "100%|██████████| 5/5 [00:01<00:00,  3.36it/s]\n"
          ]
        },
        {
          "output_type": "stream",
          "name": "stdout",
          "text": [
            "epoch 29 training loss: 2.3493; validation loss: 2.5351; lr: 4.710128697246249e-06\n",
            "saving best model\n"
          ]
        },
        {
          "output_type": "stream",
          "name": "stderr",
          "text": [
            "100%|██████████| 18/18 [00:09<00:00,  1.97it/s]\n",
            "100%|██████████| 5/5 [00:01<00:00,  3.22it/s]\n"
          ]
        },
        {
          "output_type": "stream",
          "name": "stdout",
          "text": [
            "epoch 30 training loss: 2.3342; validation loss: 2.5708; lr: 4.239115827521624e-06\n"
          ]
        },
        {
          "output_type": "stream",
          "name": "stderr",
          "text": [
            "100%|██████████| 18/18 [00:09<00:00,  1.98it/s]\n",
            "100%|██████████| 5/5 [00:01<00:00,  3.18it/s]\n"
          ]
        },
        {
          "output_type": "stream",
          "name": "stdout",
          "text": [
            "epoch 31 training loss: 2.3582; validation loss: 2.5308; lr: 3.815204244769462e-06\n",
            "saving best model\n"
          ]
        },
        {
          "output_type": "stream",
          "name": "stderr",
          "text": [
            "100%|██████████| 18/18 [00:09<00:00,  1.96it/s]\n",
            "100%|██████████| 5/5 [00:01<00:00,  3.24it/s]\n"
          ]
        },
        {
          "output_type": "stream",
          "name": "stdout",
          "text": [
            "epoch 32 training loss: 2.3549; validation loss: 2.5799; lr: 3.4336838202925156e-06\n"
          ]
        },
        {
          "output_type": "stream",
          "name": "stderr",
          "text": [
            "100%|██████████| 18/18 [00:09<00:00,  1.96it/s]\n",
            "100%|██████████| 5/5 [00:01<00:00,  3.18it/s]\n"
          ]
        },
        {
          "output_type": "stream",
          "name": "stdout",
          "text": [
            "epoch 33 training loss: 2.3483; validation loss: 2.5524; lr: 3.090315438263264e-06\n"
          ]
        },
        {
          "output_type": "stream",
          "name": "stderr",
          "text": [
            "100%|██████████| 18/18 [00:09<00:00,  1.82it/s]\n",
            "100%|██████████| 5/5 [00:01<00:00,  3.27it/s]\n"
          ]
        },
        {
          "output_type": "stream",
          "name": "stdout",
          "text": [
            "epoch 34 training loss: 2.3369; validation loss: 2.5750; lr: 2.7812838944369375e-06\n"
          ]
        },
        {
          "output_type": "stream",
          "name": "stderr",
          "text": [
            "100%|██████████| 18/18 [00:09<00:00,  1.96it/s]\n",
            "100%|██████████| 5/5 [00:01<00:00,  3.28it/s]\n"
          ]
        },
        {
          "output_type": "stream",
          "name": "stdout",
          "text": [
            "epoch 35 training loss: 2.3406; validation loss: 2.5572; lr: 2.503155504993244e-06\n"
          ]
        },
        {
          "output_type": "stream",
          "name": "stderr",
          "text": [
            "100%|██████████| 18/18 [00:09<00:00,  1.95it/s]\n",
            "100%|██████████| 5/5 [00:01<00:00,  3.21it/s]\n"
          ]
        },
        {
          "output_type": "stream",
          "name": "stdout",
          "text": [
            "epoch 36 training loss: 2.3338; validation loss: 2.5529; lr: 2.2528399544939195e-06\n"
          ]
        },
        {
          "output_type": "stream",
          "name": "stderr",
          "text": [
            "100%|██████████| 18/18 [00:09<00:00,  1.97it/s]\n",
            "100%|██████████| 5/5 [00:01<00:00,  3.22it/s]\n"
          ]
        },
        {
          "output_type": "stream",
          "name": "stdout",
          "text": [
            "epoch 37 training loss: 2.3105; validation loss: 2.5254; lr: 2.0275559590445276e-06\n",
            "saving best model\n"
          ]
        },
        {
          "output_type": "stream",
          "name": "stderr",
          "text": [
            "100%|██████████| 18/18 [00:09<00:00,  1.97it/s]\n",
            "100%|██████████| 5/5 [00:01<00:00,  3.29it/s]\n"
          ]
        },
        {
          "output_type": "stream",
          "name": "stdout",
          "text": [
            "epoch 38 training loss: 2.3282; validation loss: 2.5498; lr: 1.824800363140075e-06\n"
          ]
        },
        {
          "output_type": "stream",
          "name": "stderr",
          "text": [
            "100%|██████████| 18/18 [00:09<00:00,  1.97it/s]\n",
            "100%|██████████| 5/5 [00:01<00:00,  3.27it/s]\n"
          ]
        },
        {
          "output_type": "stream",
          "name": "stdout",
          "text": [
            "epoch 39 training loss: 2.3395; validation loss: 2.5472; lr: 1.6423203268260674e-06\n"
          ]
        },
        {
          "output_type": "stream",
          "name": "stderr",
          "text": [
            "100%|██████████| 18/18 [00:09<00:00,  1.97it/s]\n",
            "100%|██████████| 5/5 [00:01<00:00,  3.30it/s]\n"
          ]
        },
        {
          "output_type": "stream",
          "name": "stdout",
          "text": [
            "epoch 40 training loss: 2.3332; validation loss: 2.5629; lr: 1.4780882941434607e-06\n"
          ]
        },
        {
          "output_type": "stream",
          "name": "stderr",
          "text": [
            "100%|██████████| 18/18 [00:09<00:00,  1.96it/s]\n",
            "100%|██████████| 5/5 [00:01<00:00,  3.21it/s]\n"
          ]
        },
        {
          "output_type": "stream",
          "name": "stdout",
          "text": [
            "epoch 41 training loss: 2.3489; validation loss: 2.5646; lr: 1.3302794647291146e-06\n"
          ]
        },
        {
          "output_type": "stream",
          "name": "stderr",
          "text": [
            "100%|██████████| 18/18 [00:09<00:00,  1.96it/s]\n",
            "100%|██████████| 5/5 [00:01<00:00,  3.34it/s]\n"
          ]
        },
        {
          "output_type": "stream",
          "name": "stdout",
          "text": [
            "epoch 42 training loss: 2.3229; validation loss: 2.5562; lr: 1.1972515182562032e-06\n"
          ]
        },
        {
          "output_type": "stream",
          "name": "stderr",
          "text": [
            "100%|██████████| 18/18 [00:09<00:00,  1.98it/s]\n",
            "100%|██████████| 5/5 [00:01<00:00,  3.27it/s]\n"
          ]
        },
        {
          "output_type": "stream",
          "name": "stdout",
          "text": [
            "epoch 43 training loss: 2.3344; validation loss: 2.5679; lr: 1.0775263664305828e-06\n"
          ]
        },
        {
          "output_type": "stream",
          "name": "stderr",
          "text": [
            "100%|██████████| 18/18 [00:09<00:00,  1.98it/s]\n",
            "100%|██████████| 5/5 [00:01<00:00,  3.22it/s]\n"
          ]
        },
        {
          "output_type": "stream",
          "name": "stdout",
          "text": [
            "epoch 44 training loss: 2.3330; validation loss: 2.5695; lr: 9.697737297875246e-07\n"
          ]
        },
        {
          "output_type": "stream",
          "name": "stderr",
          "text": [
            "100%|██████████| 18/18 [00:09<00:00,  1.97it/s]\n",
            "100%|██████████| 5/5 [00:01<00:00,  3.20it/s]\n"
          ]
        },
        {
          "output_type": "stream",
          "name": "stdout",
          "text": [
            "epoch 45 training loss: 2.3327; validation loss: 2.5706; lr: 8.727963568087721e-07\n"
          ]
        },
        {
          "output_type": "stream",
          "name": "stderr",
          "text": [
            "100%|██████████| 18/18 [00:09<00:00,  1.97it/s]\n",
            "100%|██████████| 5/5 [00:01<00:00,  3.25it/s]\n"
          ]
        },
        {
          "output_type": "stream",
          "name": "stdout",
          "text": [
            "epoch 46 training loss: 2.3370; validation loss: 2.5613; lr: 7.855167211278949e-07\n"
          ]
        },
        {
          "output_type": "stream",
          "name": "stderr",
          "text": [
            "100%|██████████| 18/18 [00:09<00:00,  1.96it/s]\n",
            "100%|██████████| 5/5 [00:01<00:00,  3.15it/s]\n"
          ]
        },
        {
          "output_type": "stream",
          "name": "stdout",
          "text": [
            "epoch 47 training loss: 2.3394; validation loss: 2.5700; lr: 7.069650490151055e-07\n"
          ]
        },
        {
          "output_type": "stream",
          "name": "stderr",
          "text": [
            "100%|██████████| 18/18 [00:09<00:00,  1.97it/s]\n",
            "100%|██████████| 5/5 [00:01<00:00,  3.27it/s]\n"
          ]
        },
        {
          "output_type": "stream",
          "name": "stdout",
          "text": [
            "epoch 48 training loss: 2.3349; validation loss: 2.5609; lr: 6.362685441135949e-07\n"
          ]
        },
        {
          "output_type": "stream",
          "name": "stderr",
          "text": [
            "100%|██████████| 18/18 [00:09<00:00,  1.97it/s]\n",
            "100%|██████████| 5/5 [00:01<00:00,  3.18it/s]\n"
          ]
        },
        {
          "output_type": "stream",
          "name": "stdout",
          "text": [
            "epoch 49 training loss: 2.3340; validation loss: 2.5392; lr: 5.726416897022355e-07\n"
          ]
        },
        {
          "output_type": "stream",
          "name": "stderr",
          "text": [
            "100%|██████████| 18/18 [00:09<00:00,  1.94it/s]\n",
            "100%|██████████| 5/5 [00:01<00:00,  2.54it/s]"
          ]
        },
        {
          "output_type": "stream",
          "name": "stdout",
          "text": [
            "epoch 50 training loss: 2.3304; validation loss: 2.5331; lr: 5.15377520732012e-07\n",
            "CPU times: user 5min 35s, sys: 12.8 s, total: 5min 48s\n",
            "Wall time: 9min 6s\n"
          ]
        },
        {
          "output_type": "stream",
          "name": "stderr",
          "text": [
            "\n"
          ]
        }
      ],
      "source": [
        "%%time\n",
        "torch.manual_seed(random_seed)\n",
        "np.random.seed(random_seed)\n",
        "best_loss = 10**10\n",
        "train_losses = []\n",
        "val_losses = []\n",
        "for epoch in range(epochs):\n",
        "    # training pass\n",
        "    train_loss = train_epoch(net, loss_fn, dl_train, optimizer, lr_scheduler)\n",
        "\n",
        "    # validation pass\n",
        "    val_loss = validate_epoch(net, loss_fn, dl_val)\n",
        "    # lr_scheduler.step(val_loss)\n",
        "    lr_scheduler.step()\n",
        "\n",
        "    # output\n",
        "    print(f\"epoch {epoch + 1} training loss: {train_loss:.4f}; \"\n",
        "          f\"validation loss: {val_loss:.4f}; \"\n",
        "          f\"lr: {optimizer.param_groups[0]['lr']}\")\n",
        "    train_losses.append(train_loss)\n",
        "    val_losses.append(val_loss)\n",
        "    if val_loss <= best_loss:\n",
        "      best_loss = val_loss\n",
        "      torch.save(net.state_dict(), os.path.join(model_dir, 'best_model.pth'))\n",
        "      print('saving best model')\n",
        "    torch.save(net.state_dict(), os.path.join(model_dir, 'last_model.pth'))"
      ]
    },
    {
      "cell_type": "code",
      "execution_count": 39,
      "id": "mKOdWWaT_tnF",
      "metadata": {
        "id": "mKOdWWaT_tnF",
        "colab": {
          "base_uri": "https://localhost:8080/",
          "height": 337
        },
        "outputId": "3f889b55-b39f-4647-f1f8-b3de8fd961a1"
      },
      "outputs": [
        {
          "output_type": "execute_result",
          "data": {
            "text/plain": [
              "[<matplotlib.lines.Line2D at 0x7f205e6a4510>]"
            ]
          },
          "metadata": {},
          "execution_count": 39
        },
        {
          "output_type": "display_data",
          "data": {
            "text/plain": [
              "<Figure size 720x360 with 1 Axes>"
            ],
            "image/png": "[encoded data removed]"
          },
          "metadata": {
            "needs_background": "light"
          }
        }
      ],
      "source": [
        "plt.figure(figsize=(10, 5))\n",
        "plt.plot(train_losses,'r')\n",
        "plt.plot(val_losses, 'b')"
      ]
    },
    {
      "cell_type": "markdown",
      "id": "W_EsaEYQHDq9",
      "metadata": {
        "id": "W_EsaEYQHDq9"
      },
      "source": [
        "## Set up the loaders and model for evaluation"
      ]
    },
    {
      "cell_type": "code",
      "execution_count": 40,
      "id": "EQ2FgI1kCGBn",
      "metadata": {
        "id": "EQ2FgI1kCGBn"
      },
      "outputs": [],
      "source": [
        "dl_test = torch.utils.data.DataLoader(\n",
        "    AgriDataset(df_val),\n",
        "    shuffle=False, drop_last=False, batch_size=16, num_workers=2\n",
        "    )"
      ]
    },
    {
      "cell_type": "code",
      "execution_count": 41,
      "id": "XeTOSV7iCQ9x",
      "metadata": {
        "id": "XeTOSV7iCQ9x"
      },
      "outputs": [],
      "source": [
        "net.load_state_dict(torch.load(os.path.join(model_dir, 'best_model.pth')))\n",
        "net.eval();"
      ]
    },
    {
      "cell_type": "markdown",
      "id": "8aOuTw8HCAbA",
      "metadata": {
        "id": "8aOuTw8HCAbA"
      },
      "source": [
        "## Evaluate the model on the validation set"
      ]
    },
    {
      "cell_type": "code",
      "execution_count": 42,
      "id": "o0qp7CVjCZ_g",
      "metadata": {
        "id": "o0qp7CVjCZ_g"
      },
      "outputs": [],
      "source": [
        "def evaluate(dl_test, net, crop_labels, df_val):\n",
        "  field_data = []\n",
        "  outputs = []\n",
        "  with torch.no_grad():\n",
        "    for imgs, masks, gt, field_id in tqdm(dl_test):\n",
        "      output = net(imgs.cuda(), masks.cuda()).softmax(-1).cpu().numpy()\n",
        "      field_id = field_id.numpy()\n",
        "      field_data.append(field_id)\n",
        "      outputs.append(output)\n",
        "  outputs = np.concatenate(outputs, axis=0)\n",
        "  outputs_scaled = outputs * df_val['field_area'].values.reshape(-1, 1)\n",
        "\n",
        "  df_out = pd.DataFrame(outputs_scaled, columns=crop_labels)\n",
        "  df_out['field_id'] = df_val['field_id']\n",
        "  df_out['crop_type'] = df_val['crop_type']\n",
        "  df_sm = df_out.groupby('field_id').sum().reset_index()\n",
        "  probs = df_sm[crop_labels].values\n",
        "  probs = probs / np.sum(probs, axis=1).reshape(-1,1)\n",
        "  crop_types = df_out.groupby('field_id').mean().reset_index()['crop_type'].values\n",
        "  df_out[crop_labels] = outputs\n",
        "        \n",
        "  return probs, np.int_(df_sm['field_id'].values), crop_types, df_out"
      ]
    },
    {
      "cell_type": "code",
      "execution_count": 43,
      "id": "7fV5Ce5uC9S2",
      "metadata": {
        "id": "7fV5Ce5uC9S2",
        "colab": {
          "base_uri": "https://localhost:8080/"
        },
        "outputId": "4be77f86-4d1b-4f24-d26f-668682b3962a"
      },
      "outputs": [
        {
          "output_type": "stream",
          "name": "stderr",
          "text": [
            "100%|██████████| 70/70 [00:01<00:00, 43.46it/s]\n"
          ]
        }
      ],
      "source": [
        "probs, field_ids, gt, df_out = evaluate(dl_test, net, crop_labels, df_val)"
      ]
    },
    {
      "cell_type": "code",
      "source": [
        "crop_columns = [crop_dict[key] for key in crop_labels]\n",
        "output_df = pd.DataFrame()\n",
        "output_df[crop_columns] = df_out[crop_labels].values\n",
        "\n",
        "output_df['field_id'] = df_val['field_id']\n",
        "output_df['crop_type'] = df_val['crop_type']\n",
        "output_df['field_area'] = df_val['field_area']\n",
        "output_df['data_path'] = df_val['data_path']\n",
        "output_df['predicted'] = np.array(crop_labels)[np.argmax(output_df[crop_columns].values, axis=1)]\n",
        "\n",
        "output_df.to_csv(os.path.join(model_dir, 'predictions_val.csv'), index=False)"
      ],
      "metadata": {
        "id": "4PGs4eV_M4gJ"
      },
      "id": "4PGs4eV_M4gJ",
      "execution_count": 44,
      "outputs": []
    },
    {
      "cell_type": "code",
      "source": [
        "probs.shape, field_ids.shape, gt.shape"
      ],
      "metadata": {
        "id": "7CByPPyyQBit",
        "colab": {
          "base_uri": "https://localhost:8080/"
        },
        "outputId": "55ef9678-b179-49ba-b305-eae1425e0728"
      },
      "id": "7CByPPyyQBit",
      "execution_count": 45,
      "outputs": [
        {
          "output_type": "execute_result",
          "data": {
            "text/plain": [
              "((1077, 13), (1077,), (1077,))"
            ]
          },
          "metadata": {},
          "execution_count": 45
        }
      ]
    },
    {
      "cell_type": "code",
      "execution_count": 46,
      "id": "Ux-2ff1cC_sx",
      "metadata": {
        "id": "Ux-2ff1cC_sx",
        "colab": {
          "base_uri": "https://localhost:8080/"
        },
        "outputId": "74ef74cb-888a-42aa-e4c4-230551c58424"
      },
      "outputs": [
        {
          "output_type": "stream",
          "name": "stdout",
          "text": [
            "              precision    recall  f1-score   support\n",
            "\n",
            "         1.0       0.59      0.05      0.10       401\n",
            "         2.0       0.25      0.12      0.16       198\n",
            "         3.0       0.00      0.00      0.00        20\n",
            "         4.0       0.25      0.15      0.19       303\n",
            "         5.0       0.00      0.00      0.00         5\n",
            "         6.0       0.06      0.28      0.10        32\n",
            "         8.0       0.00      0.00      0.00        10\n",
            "         9.0       0.27      0.61      0.38        59\n",
            "        13.0       0.00      0.00      0.00        12\n",
            "        14.0       0.00      0.00      0.00         3\n",
            "        15.0       0.01      0.14      0.01         7\n",
            "        16.0       0.00      0.00      0.00         2\n",
            "        36.0       0.00      0.00      0.00        25\n",
            "\n",
            "    accuracy                           0.13      1077\n",
            "   macro avg       0.11      0.10      0.07      1077\n",
            "weighted avg       0.36      0.13      0.14      1077\n",
            "\n"
          ]
        },
        {
          "output_type": "stream",
          "name": "stderr",
          "text": [
            "/usr/local/lib/python3.7/dist-packages/sklearn/metrics/_classification.py:1318: UndefinedMetricWarning: Precision and F-score are ill-defined and being set to 0.0 in labels with no predicted samples. Use `zero_division` parameter to control this behavior.\n",
            "  _warn_prf(average, modifier, msg_start, len(result))\n",
            "/usr/local/lib/python3.7/dist-packages/sklearn/metrics/_classification.py:1318: UndefinedMetricWarning: Precision and F-score are ill-defined and being set to 0.0 in labels with no predicted samples. Use `zero_division` parameter to control this behavior.\n",
            "  _warn_prf(average, modifier, msg_start, len(result))\n",
            "/usr/local/lib/python3.7/dist-packages/sklearn/metrics/_classification.py:1318: UndefinedMetricWarning: Precision and F-score are ill-defined and being set to 0.0 in labels with no predicted samples. Use `zero_division` parameter to control this behavior.\n",
            "  _warn_prf(average, modifier, msg_start, len(result))\n"
          ]
        }
      ],
      "source": [
        "from sklearn.metrics import (\n",
        "    classification_report,\n",
        "    confusion_matrix, ConfusionMatrixDisplay\n",
        ")\n",
        "\n",
        "print(classification_report(gt, np.array(crop_labels)[np.argmax(probs, axis=1)]))"
      ]
    },
    {
      "cell_type": "code",
      "source": [
        "# Confusion matrix\n",
        "cm = confusion_matrix(gt, np.array(crop_labels)[np.argmax(probs, axis=1)])\n",
        "disp = ConfusionMatrixDisplay(confusion_matrix=cm)\n",
        "fig, ax = plt.subplots(figsize=(15,7))\n",
        "disp.plot(ax=ax)\n",
        "plt.show()"
      ],
      "metadata": {
        "id": "70au5do-ZEAx",
        "colab": {
          "base_uri": "https://localhost:8080/",
          "height": 442
        },
        "outputId": "709bb2a8-c2b1-4378-d7bc-3f934ac4eae4"
      },
      "id": "70au5do-ZEAx",
      "execution_count": 47,
      "outputs": [
        {
          "output_type": "display_data",
          "data": {
            "text/plain": [
              "<Figure size 1080x504 with 2 Axes>"
            ],
            "image/png": "[encoded data removed]"
          },
          "metadata": {
            "needs_background": "light"
          }
        }
      ]
    },
    {
      "cell_type": "code",
      "execution_count": 48,
      "id": "O3aOekbmFEOF",
      "metadata": {
        "id": "O3aOekbmFEOF"
      },
      "outputs": [],
      "source": [
        "def to_one_hot(x):\n",
        "    y = np.zeros((x.size, x.max() + 1))\n",
        "    y[np.arange(x.size), x] = 1\n",
        "    return y\n",
        "\n",
        "def cross_entropy(predictions, targets):\n",
        "    return -np.sum(np.sum(np.log(predictions + 10**(-10)) * targets, axis=1))/len(targets)\n"
      ]
    },
    {
      "cell_type": "code",
      "execution_count": 49,
      "id": "QYxNVMHfHRld",
      "metadata": {
        "id": "QYxNVMHfHRld"
      },
      "outputs": [],
      "source": [
        "targets = to_one_hot(np.int_(gt))\n",
        "targets = targets[:, np.where(targets.sum(axis=0) > 0)[0]]"
      ]
    },
    {
      "cell_type": "code",
      "execution_count": 50,
      "id": "pcoDvgg0Hd8T",
      "metadata": {
        "id": "pcoDvgg0Hd8T",
        "colab": {
          "base_uri": "https://localhost:8080/"
        },
        "outputId": "c3598799-69ee-4eb8-d468-5d418ef8a4c8"
      },
      "outputs": [
        {
          "output_type": "execute_result",
          "data": {
            "text/plain": [
              "2.510865906499644"
            ]
          },
          "metadata": {},
          "execution_count": 50
        }
      ],
      "source": [
        "cross_entropy(probs, targets)"
      ]
    },
    {
      "cell_type": "markdown",
      "id": "rZ6YdR1sI1V6",
      "metadata": {
        "id": "rZ6YdR1sI1V6"
      },
      "source": [
        "## Evaluate the model on the test set"
      ]
    },
    {
      "cell_type": "code",
      "execution_count": 51,
      "id": "VrvH7yEwIxE_",
      "metadata": {
        "id": "VrvH7yEwIxE_"
      },
      "outputs": [],
      "source": [
        "dl_test = torch.utils.data.DataLoader(\n",
        "    AgriDataset(df_test), shuffle=False, drop_last=False, \n",
        "    batch_size=16, num_workers=2\n",
        "    )"
      ]
    },
    {
      "cell_type": "code",
      "execution_count": 52,
      "id": "4pyJFKOXJGah",
      "metadata": {
        "id": "4pyJFKOXJGah",
        "colab": {
          "base_uri": "https://localhost:8080/"
        },
        "outputId": "9c639b72-98f7-497c-8418-02bc0840af33"
      },
      "outputs": [
        {
          "output_type": "stream",
          "name": "stderr",
          "text": [
            "  0%|          | 0/101 [00:00<?, ?it/s]/usr/local/lib/python3.7/dist-packages/torch/nn/modules/transformer.py:456: UserWarning: Converting mask without torch.bool dtype to bool; this will negatively affect performance. Prefer to use a boolean mask directly. (Triggered internally at  ../aten/src/ATen/native/transformers/attention.cpp:141.)\n",
            "  src_mask if src_mask is not None else src_key_padding_mask,  # TODO: split into two args\n",
            "100%|██████████| 101/101 [00:02<00:00, 44.92it/s]\n"
          ]
        }
      ],
      "source": [
        "probs, field_ids, _, _ = evaluate(dl_test, net, crop_labels, df_test)"
      ]
    },
    {
      "cell_type": "code",
      "execution_count": 53,
      "id": "qPHNGNQlJaDj",
      "metadata": {
        "id": "qPHNGNQlJaDj"
      },
      "outputs": [],
      "source": [
        "crop_columns = [crop_dict[key] for key in crop_labels]\n",
        "\n",
        "output_df = pd.DataFrame(columns=['field_id'] + crop_columns)\n",
        "\n",
        "output_df['field_id'] = field_ids\n",
        "\n",
        "output_df[crop_columns] = probs \n",
        "output_df.to_csv('submission.csv', index=False)\n",
        "output_df.to_csv(os.path.join(model_dir, 'predictions_test.csv'), index=False)"
      ]
    },
    {
      "cell_type": "code",
      "execution_count": 54,
      "id": "4yM_v1NaJkJc",
      "metadata": {
        "id": "4yM_v1NaJkJc",
        "colab": {
          "base_uri": "https://localhost:8080/",
          "height": 17
        },
        "outputId": "005a8fa7-e7fe-42f1-cf1f-1c00b55e2aed"
      },
      "outputs": [
        {
          "output_type": "display_data",
          "data": {
            "text/plain": [
              "<IPython.core.display.Javascript object>"
            ],
            "application/javascript": [
              "\n",
              "    async function download(id, filename, size) {\n",
              "      if (!google.colab.kernel.accessAllowed) {\n",
              "        return;\n",
              "      }\n",
              "      const div = document.createElement('div');\n",
              "      const label = document.createElement('label');\n",
              "      label.textContent = `Downloading \"${filename}\": `;\n",
              "      div.appendChild(label);\n",
              "      const progress = document.createElement('progress');\n",
              "      progress.max = size;\n",
              "      div.appendChild(progress);\n",
              "      document.body.appendChild(div);\n",
              "\n",
              "      const buffers = [];\n",
              "      let downloaded = 0;\n",
              "\n",
              "      const channel = await google.colab.kernel.comms.open(id);\n",
              "      // Send a message to notify the kernel that we're ready.\n",
              "      channel.send({})\n",
              "\n",
              "      for await (const message of channel.messages) {\n",
              "        // Send a message to notify the kernel that we're ready.\n",
              "        channel.send({})\n",
              "        if (message.buffers) {\n",
              "          for (const buffer of message.buffers) {\n",
              "            buffers.push(buffer);\n",
              "            downloaded += buffer.byteLength;\n",
              "            progress.value = downloaded;\n",
              "          }\n",
              "        }\n",
              "      }\n",
              "      const blob = new Blob(buffers, {type: 'application/binary'});\n",
              "      const a = document.createElement('a');\n",
              "      a.href = window.URL.createObjectURL(blob);\n",
              "      a.download = filename;\n",
              "      div.appendChild(a);\n",
              "      a.click();\n",
              "      div.remove();\n",
              "    }\n",
              "  "
            ]
          },
          "metadata": {}
        },
        {
          "output_type": "display_data",
          "data": {
            "text/plain": [
              "<IPython.core.display.Javascript object>"
            ],
            "application/javascript": [
              "download(\"download_3fd20551-ca58-4cd2-8373-2b01a096c12e\", \"submission.csv\", 405946)"
            ]
          },
          "metadata": {}
        }
      ],
      "source": [
        "from google.colab import files\n",
        "files.download('submission.csv')"
      ]
    },
    {
      "cell_type": "code",
      "source": [],
      "metadata": {
        "id": "3KqIfUpkXYIo"
      },
      "id": "3KqIfUpkXYIo",
      "execution_count": 54,
      "outputs": []
    }
  ],
  "metadata": {
    "accelerator": "GPU",
    "colab": {
      "collapsed_sections": [],
      "provenance": [],
      "include_colab_link": true
    },
    "gpuClass": "standard",
    "kernelspec": {
      "display_name": "Python 3 (ipykernel)",
      "language": "python",
      "name": "python3"
    },
    "language_info": {
      "codemirror_mode": {
        "name": "ipython",
        "version": 3
      },
      "file_extension": ".py",
      "mimetype": "text/x-python",
      "name": "python",
      "nbconvert_exporter": "python",
      "pygments_lexer": "ipython3",
      "version": "3.7.13"
    }
  },
  "nbformat": 4,
  "nbformat_minor": 5
}