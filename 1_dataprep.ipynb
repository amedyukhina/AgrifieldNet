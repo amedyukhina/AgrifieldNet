{
  "cells": [
    {
      "cell_type": "markdown",
      "metadata": {
        "id": "view-in-github",
        "colab_type": "text"
      },
      "source": [
        "<a href=\"https://colab.research.google.com/github/amedyukhina/AgrifieldNet/blob/main/1_dataprep.ipynb\" target=\"_parent\"><img src=\"https://colab.research.google.com/assets/colab-badge.svg\" alt=\"Open In Colab\"/></a>"
      ]
    },
    {
      "cell_type": "markdown",
      "id": "77b4743b",
      "metadata": {
        "id": "77b4743b"
      },
      "source": [
        "# AgrifieldNet India Competition. Dataprep"
      ]
    },
    {
      "cell_type": "markdown",
      "id": "be36e335",
      "metadata": {
        "id": "be36e335"
      },
      "source": [
        "## Install and import dependencies\n"
      ]
    },
    {
      "cell_type": "code",
      "execution_count": 1,
      "id": "KiwG2IraDe6h",
      "metadata": {
        "colab": {
          "base_uri": "https://localhost:8080/"
        },
        "id": "KiwG2IraDe6h",
        "outputId": "1c225959-9994-4e72-b9b2-04c705bf7bff"
      },
      "outputs": [
        {
          "output_type": "stream",
          "name": "stdout",
          "text": [
            "Overwriting requirements.txt\n"
          ]
        }
      ],
      "source": [
        "%%writefile requirements.txt\n",
        "\n",
        "pandas==1.3.5\n",
        "scikit-learn==1.0.2\n",
        "tqdm==4.64.0\n",
        "rasterio==1.2.0\n",
        "numpy==1.21.6\n",
        "radiant_mlhub==0.4.1\n",
        "scikit-image==0.18.3\n",
        "matplotlib==3.2.2"
      ]
    },
    {
      "cell_type": "code",
      "execution_count": 2,
      "id": "qafN0lN8D-_N",
      "metadata": {
        "colab": {
          "base_uri": "https://localhost:8080/"
        },
        "id": "qafN0lN8D-_N",
        "outputId": "d477f0d3-79ef-463d-aaa4-44f0d3b71d3c"
      },
      "outputs": [
        {
          "output_type": "stream",
          "name": "stdout",
          "text": [
            "Looking in indexes: https://pypi.org/simple, https://us-python.pkg.dev/colab-wheels/public/simple/\n",
            "Requirement already satisfied: pandas==1.3.5 in /usr/local/lib/python3.7/dist-packages (from -r requirements.txt (line 2)) (1.3.5)\n",
            "Requirement already satisfied: scikit-learn==1.0.2 in /usr/local/lib/python3.7/dist-packages (from -r requirements.txt (line 3)) (1.0.2)\n",
            "Requirement already satisfied: tqdm==4.64.0 in /usr/local/lib/python3.7/dist-packages (from -r requirements.txt (line 4)) (4.64.0)\n",
            "Requirement already satisfied: rasterio==1.2.0 in /usr/local/lib/python3.7/dist-packages (from -r requirements.txt (line 5)) (1.2.0)\n",
            "Requirement already satisfied: numpy==1.21.6 in /usr/local/lib/python3.7/dist-packages (from -r requirements.txt (line 6)) (1.21.6)\n",
            "Requirement already satisfied: radiant_mlhub==0.4.1 in /usr/local/lib/python3.7/dist-packages (from -r requirements.txt (line 7)) (0.4.1)\n",
            "Requirement already satisfied: scikit-image==0.18.3 in /usr/local/lib/python3.7/dist-packages (from -r requirements.txt (line 8)) (0.18.3)\n",
            "Requirement already satisfied: matplotlib==3.2.2 in /usr/local/lib/python3.7/dist-packages (from -r requirements.txt (line 9)) (3.2.2)\n",
            "Requirement already satisfied: python-dateutil>=2.7.3 in /usr/local/lib/python3.7/dist-packages (from pandas==1.3.5->-r requirements.txt (line 2)) (2.8.2)\n",
            "Requirement already satisfied: pytz>=2017.3 in /usr/local/lib/python3.7/dist-packages (from pandas==1.3.5->-r requirements.txt (line 2)) (2022.4)\n",
            "Requirement already satisfied: scipy>=1.1.0 in /usr/local/lib/python3.7/dist-packages (from scikit-learn==1.0.2->-r requirements.txt (line 3)) (1.7.3)\n",
            "Requirement already satisfied: threadpoolctl>=2.0.0 in /usr/local/lib/python3.7/dist-packages (from scikit-learn==1.0.2->-r requirements.txt (line 3)) (3.1.0)\n",
            "Requirement already satisfied: joblib>=0.11 in /usr/local/lib/python3.7/dist-packages (from scikit-learn==1.0.2->-r requirements.txt (line 3)) (1.2.0)\n",
            "Requirement already satisfied: cligj>=0.5 in /usr/local/lib/python3.7/dist-packages (from rasterio==1.2.0->-r requirements.txt (line 5)) (0.7.2)\n",
            "Requirement already satisfied: certifi in /usr/local/lib/python3.7/dist-packages (from rasterio==1.2.0->-r requirements.txt (line 5)) (2022.9.24)\n",
            "Requirement already satisfied: attrs in /usr/local/lib/python3.7/dist-packages (from rasterio==1.2.0->-r requirements.txt (line 5)) (22.1.0)\n",
            "Requirement already satisfied: snuggs>=1.4.1 in /usr/local/lib/python3.7/dist-packages (from rasterio==1.2.0->-r requirements.txt (line 5)) (1.4.7)\n",
            "Requirement already satisfied: click-plugins in /usr/local/lib/python3.7/dist-packages (from rasterio==1.2.0->-r requirements.txt (line 5)) (1.1.1)\n",
            "Requirement already satisfied: click<8,>=4.0 in /usr/local/lib/python3.7/dist-packages (from rasterio==1.2.0->-r requirements.txt (line 5)) (7.1.2)\n",
            "Requirement already satisfied: affine in /usr/local/lib/python3.7/dist-packages (from rasterio==1.2.0->-r requirements.txt (line 5)) (2.3.1)\n",
            "Requirement already satisfied: typing-extensions>=3.7 in /usr/local/lib/python3.7/dist-packages (from radiant_mlhub==0.4.1->-r requirements.txt (line 7)) (4.1.1)\n",
            "Requirement already satisfied: requests~=2.25 in /usr/local/lib/python3.7/dist-packages (from radiant_mlhub==0.4.1->-r requirements.txt (line 7)) (2.28.1)\n",
            "Requirement already satisfied: pystac~=1.1 in /usr/local/lib/python3.7/dist-packages (from radiant_mlhub==0.4.1->-r requirements.txt (line 7)) (1.5.0)\n",
            "Requirement already satisfied: PyWavelets>=1.1.1 in /usr/local/lib/python3.7/dist-packages (from scikit-image==0.18.3->-r requirements.txt (line 8)) (1.3.0)\n",
            "Requirement already satisfied: pillow!=7.1.0,!=7.1.1,>=4.3.0 in /usr/local/lib/python3.7/dist-packages (from scikit-image==0.18.3->-r requirements.txt (line 8)) (7.1.2)\n",
            "Requirement already satisfied: imageio>=2.3.0 in /usr/local/lib/python3.7/dist-packages (from scikit-image==0.18.3->-r requirements.txt (line 8)) (2.9.0)\n",
            "Requirement already satisfied: networkx>=2.0 in /usr/local/lib/python3.7/dist-packages (from scikit-image==0.18.3->-r requirements.txt (line 8)) (2.6.3)\n",
            "Requirement already satisfied: tifffile>=2019.7.26 in /usr/local/lib/python3.7/dist-packages (from scikit-image==0.18.3->-r requirements.txt (line 8)) (2021.11.2)\n",
            "Requirement already satisfied: cycler>=0.10 in /usr/local/lib/python3.7/dist-packages (from matplotlib==3.2.2->-r requirements.txt (line 9)) (0.11.0)\n",
            "Requirement already satisfied: pyparsing!=2.0.4,!=2.1.2,!=2.1.6,>=2.0.1 in /usr/local/lib/python3.7/dist-packages (from matplotlib==3.2.2->-r requirements.txt (line 9)) (3.0.9)\n",
            "Requirement already satisfied: kiwisolver>=1.0.1 in /usr/local/lib/python3.7/dist-packages (from matplotlib==3.2.2->-r requirements.txt (line 9)) (1.4.4)\n",
            "Requirement already satisfied: six>=1.5 in /usr/local/lib/python3.7/dist-packages (from python-dateutil>=2.7.3->pandas==1.3.5->-r requirements.txt (line 2)) (1.15.0)\n",
            "Requirement already satisfied: idna<4,>=2.5 in /usr/local/lib/python3.7/dist-packages (from requests~=2.25->radiant_mlhub==0.4.1->-r requirements.txt (line 7)) (2.10)\n",
            "Requirement already satisfied: urllib3<1.27,>=1.21.1 in /usr/local/lib/python3.7/dist-packages (from requests~=2.25->radiant_mlhub==0.4.1->-r requirements.txt (line 7)) (1.24.3)\n",
            "Requirement already satisfied: charset-normalizer<3,>=2 in /usr/local/lib/python3.7/dist-packages (from requests~=2.25->radiant_mlhub==0.4.1->-r requirements.txt (line 7)) (2.1.1)\n"
          ]
        }
      ],
      "source": [
        "!pip install -r requirements.txt"
      ]
    },
    {
      "cell_type": "code",
      "execution_count": 3,
      "id": "28ea6e7d",
      "metadata": {
        "id": "28ea6e7d"
      },
      "outputs": [],
      "source": [
        "import os\n",
        "import shutil\n",
        "import time\n",
        "import tarfile\n",
        "import json\n",
        "import getpass\n",
        "import rasterio\n",
        "import numpy as np\n",
        "import pandas as pd\n",
        "from tqdm import tqdm\n",
        "from radiant_mlhub import Dataset\n",
        "from skimage import io\n",
        "import pylab as plt"
      ]
    },
    {
      "cell_type": "markdown",
      "id": "fQpDLC79m5A4",
      "metadata": {
        "id": "fQpDLC79m5A4"
      },
      "source": [
        "## Download the data"
      ]
    },
    {
      "cell_type": "code",
      "execution_count": 4,
      "id": "cb70c810-70f7-40a7-ad20-b67572bca09d",
      "metadata": {
        "id": "cb70c810-70f7-40a7-ad20-b67572bca09d"
      },
      "outputs": [],
      "source": [
        "# path = 'agrifield_data/'\n",
        "path = 'gdrive/MyDrive/agrifield_data/'"
      ]
    },
    {
      "cell_type": "code",
      "execution_count": 5,
      "id": "fa599868-067f-441f-82b4-b891bbe1e968",
      "metadata": {
        "id": "fa599868-067f-441f-82b4-b891bbe1e968",
        "outputId": "5833da95-3e7e-4fae-8d60-7a4d6e74cccb",
        "colab": {
          "base_uri": "https://localhost:8080/"
        }
      },
      "outputs": [
        {
          "output_type": "stream",
          "name": "stdout",
          "text": [
            "Drive already mounted at /content/gdrive; to attempt to forcibly remount, call drive.mount(\"/content/gdrive\", force_remount=True).\n"
          ]
        }
      ],
      "source": [
        "if 'gdrive' in path:\n",
        "    from google.colab import drive\n",
        "    drive.mount('/content/gdrive')"
      ]
    },
    {
      "cell_type": "code",
      "execution_count": 6,
      "id": "v6t8zd3bJB51",
      "metadata": {
        "id": "v6t8zd3bJB51"
      },
      "outputs": [],
      "source": [
        "collection_name = 'ref_agrifieldnet_competition_v1'\n",
        "BAND_NAMES = ['B01', 'B02', 'B03', 'B04','B05', 'B06', 'B07', \n",
        "              'B08','B8A', 'B09', 'B11', 'B12']\n",
        "data_dir = path + 'data'\n",
        "\n",
        "source_collection = f'{collection_name}_source'\n",
        "train_label_collection = f'{collection_name}_labels_train'\n",
        "test_label_collection = f'{collection_name}_labels_test'"
      ]
    },
    {
      "cell_type": "code",
      "execution_count": 7,
      "id": "cb1f3921",
      "metadata": {
        "colab": {
          "base_uri": "https://localhost:8080/",
          "height": 304,
          "referenced_widgets": [
            "6b2302442ddf4e5c9e6b9d575dd7b16a",
            "21a293769e2449a79107383937a3ab00",
            "cc7540cceaea43968b7f0f2f95e351e6",
            "e1a74aaf2f904412a8645d3260ea5760",
            "bb91a6c8bfbf4b6da55daa84d1ced527",
            "d7094279eadb4c0bb1ab142d8dcef657",
            "c4f7a5b27f38498abb54074ead530c5e",
            "29e1b66eefbd4d20ba06ac23a829d07f",
            "1d018a7bd46c4e678e34dffe17339cfe",
            "3f70c4d0d690426db0020ce8d02b4648",
            "baf9e06727a549f2ac8ba724d63db36c",
            "89fed19f181f453faa21d1cc444e7af9",
            "2e54f33fba21440fb8df565887074656",
            "134eb943e6e24b129d245d0d9acce916",
            "ed8cfec3ccdc435685ed399db760e4e2",
            "0074f40684f14b7cb4cc0c5ea44f6e20",
            "a263531d957e4fd880e1063345c21509",
            "e39d3214fbf14e22bd1d82d8f15f0d36",
            "be20e40488da4951ad47ff7145bf79bb",
            "08c7f1f36a07488eaee08ff1022bab2d",
            "6d04dde7f8e34e88af53eb3b2f1aba69",
            "a2747560742e466cafa54dbed3065d8b",
            "10a686be8a3d475ea1665a28db6d4b97",
            "18f696be12cd4e8dbb161498135a1ffd",
            "9e7be7a996be461e95665713740bfaaa",
            "5615548b05b5474e9648c4c9c7b47d1d",
            "24e5cc0b4ad442e894c23be85f62477d",
            "36ad53afc99f4aa8b03dc44c145417a8",
            "df32c4ac55ca4da59fbd590bad3d04cf",
            "68071992166f43b9be377f8bbd3f9b98",
            "26d075e136fb46c7a064375033289081",
            "51857158fafd472bacb13b125154760d",
            "38bbc0d3df1e44e0a15c9926a99616c0"
          ]
        },
        "id": "cb1f3921",
        "outputId": "613cda90-faea-4387-d86f-75a0f089d32c",
        "scrolled": true
      },
      "outputs": [
        {
          "name": "stdout",
          "output_type": "stream",
          "text": [
            "MLHub API Key: ··········\n"
          ]
        },
        {
          "output_type": "display_data",
          "data": {
            "text/plain": [
              "  0%|          | 0/0.5 [00:00<?, ?M/s]"
            ],
            "application/vnd.jupyter.widget-view+json": {
              "version_major": 2,
              "version_minor": 0,
              "model_id": "6b2302442ddf4e5c9e6b9d575dd7b16a"
            }
          },
          "metadata": {}
        },
        {
          "output_type": "display_data",
          "data": {
            "text/plain": [
              "  0%|          | 0/324.3 [00:00<?, ?M/s]"
            ],
            "application/vnd.jupyter.widget-view+json": {
              "version_major": 2,
              "version_minor": 0,
              "model_id": "89fed19f181f453faa21d1cc444e7af9"
            }
          },
          "metadata": {}
        },
        {
          "output_type": "stream",
          "name": "stderr",
          "text": [
            "WARNING:urllib3.connectionpool:Connection pool is full, discarding connection: radiantearth.blob.core.windows.net\n",
            "WARNING:urllib3.connectionpool:Connection pool is full, discarding connection: radiantearth.blob.core.windows.net\n",
            "WARNING:urllib3.connectionpool:Connection pool is full, discarding connection: radiantearth.blob.core.windows.net\n",
            "WARNING:urllib3.connectionpool:Connection pool is full, discarding connection: radiantearth.blob.core.windows.net\n",
            "WARNING:urllib3.connectionpool:Connection pool is full, discarding connection: radiantearth.blob.core.windows.net\n",
            "WARNING:urllib3.connectionpool:Connection pool is full, discarding connection: radiantearth.blob.core.windows.net\n",
            "WARNING:urllib3.connectionpool:Connection pool is full, discarding connection: radiantearth.blob.core.windows.net\n",
            "WARNING:urllib3.connectionpool:Connection pool is full, discarding connection: radiantearth.blob.core.windows.net\n",
            "WARNING:urllib3.connectionpool:Connection pool is full, discarding connection: radiantearth.blob.core.windows.net\n",
            "WARNING:urllib3.connectionpool:Connection pool is full, discarding connection: radiantearth.blob.core.windows.net\n"
          ]
        },
        {
          "output_type": "display_data",
          "data": {
            "text/plain": [
              "  0%|          | 0/1.3 [00:00<?, ?M/s]"
            ],
            "application/vnd.jupyter.widget-view+json": {
              "version_major": 2,
              "version_minor": 0,
              "model_id": "10a686be8a3d475ea1665a28db6d4b97"
            }
          },
          "metadata": {}
        }
      ],
      "source": [
        "if not os.path.exists(data_dir):\n",
        "    os.environ['MLHUB_API_KEY'] =  getpass.getpass(prompt=\"MLHub API Key: \")\n",
        "\n",
        "    dataset = Dataset.fetch(collection_name)\n",
        "    dataset.download(output_dir=data_dir)\n",
        "    for fn in os.listdir(data_dir):\n",
        "        with tarfile.open(os.path.join(data_dir, fn)) as f:\n",
        "            f.extractall(data_dir + '/') \n",
        "        os.remove(os.path.join(data_dir, fn))\n",
        "else:\n",
        "    print(\"Dataset already exists\")"
      ]
    },
    {
      "cell_type": "markdown",
      "id": "HjvBEfBWmYY0",
      "metadata": {
        "id": "HjvBEfBWmYY0"
      },
      "source": [
        "## Create dataframe with list of images"
      ]
    },
    {
      "cell_type": "code",
      "execution_count": 8,
      "id": "GV9mPA1VTqt4",
      "metadata": {
        "id": "GV9mPA1VTqt4"
      },
      "outputs": [],
      "source": [
        "train_paths = os.listdir(os.path.join(data_dir, train_label_collection))\n",
        "train_ids = [fn.split('_')[-1] for fn in train_paths if 'labels_train' in fn]\n",
        "\n",
        "field_paths = [f'{data_dir}/{train_label_collection}/{train_label_collection}_{i}/field_ids.tif' \n",
        "               for i in train_ids]\n",
        "label_paths = [f'{data_dir}/{train_label_collection}/{train_label_collection}_{i}/raster_labels.tif' \n",
        "               for i in train_ids]\n",
        "source_paths = [f'{data_dir}/{source_collection}/{source_collection}_{i}/' \n",
        "               for i in train_ids]"
      ]
    },
    {
      "cell_type": "code",
      "execution_count": 9,
      "id": "d158c3e9",
      "metadata": {
        "colab": {
          "base_uri": "https://localhost:8080/",
          "height": 250
        },
        "id": "d158c3e9",
        "outputId": "4a93b826-eb18-489e-83dc-055f753ba3e8"
      },
      "outputs": [
        {
          "output_type": "execute_result",
          "data": {
            "text/plain": [
              "  folder_id                                         field_path  \\\n",
              "0     d1f31  gdrive/MyDrive/agrifield_data/data/ref_agrifie...   \n",
              "1     76a39  gdrive/MyDrive/agrifield_data/data/ref_agrifie...   \n",
              "2     dd5ef  gdrive/MyDrive/agrifield_data/data/ref_agrifie...   \n",
              "3     86a15  gdrive/MyDrive/agrifield_data/data/ref_agrifie...   \n",
              "4     84579  gdrive/MyDrive/agrifield_data/data/ref_agrifie...   \n",
              "\n",
              "                                          label_path  \\\n",
              "0  gdrive/MyDrive/agrifield_data/data/ref_agrifie...   \n",
              "1  gdrive/MyDrive/agrifield_data/data/ref_agrifie...   \n",
              "2  gdrive/MyDrive/agrifield_data/data/ref_agrifie...   \n",
              "3  gdrive/MyDrive/agrifield_data/data/ref_agrifie...   \n",
              "4  gdrive/MyDrive/agrifield_data/data/ref_agrifie...   \n",
              "\n",
              "                                         source_path  \n",
              "0  gdrive/MyDrive/agrifield_data/data/ref_agrifie...  \n",
              "1  gdrive/MyDrive/agrifield_data/data/ref_agrifie...  \n",
              "2  gdrive/MyDrive/agrifield_data/data/ref_agrifie...  \n",
              "3  gdrive/MyDrive/agrifield_data/data/ref_agrifie...  \n",
              "4  gdrive/MyDrive/agrifield_data/data/ref_agrifie...  "
            ],
            "text/html": [
              "\n",
              "  <div id=\"df-3d434643-cf53-49b9-a329-1e8a17d4a37f\">\n",
              "    <div class=\"colab-df-container\">\n",
              "      <div>\n",
              "<style scoped>\n",
              "    .dataframe tbody tr th:only-of-type {\n",
              "        vertical-align: middle;\n",
              "    }\n",
              "\n",
              "    .dataframe tbody tr th {\n",
              "        vertical-align: top;\n",
              "    }\n",
              "\n",
              "    .dataframe thead th {\n",
              "        text-align: right;\n",
              "    }\n",
              "</style>\n",
              "<table border=\"1\" class=\"dataframe\">\n",
              "  <thead>\n",
              "    <tr style=\"text-align: right;\">\n",
              "      <th></th>\n",
              "      <th>folder_id</th>\n",
              "      <th>field_path</th>\n",
              "      <th>label_path</th>\n",
              "      <th>source_path</th>\n",
              "    </tr>\n",
              "  </thead>\n",
              "  <tbody>\n",
              "    <tr>\n",
              "      <th>0</th>\n",
              "      <td>d1f31</td>\n",
              "      <td>gdrive/MyDrive/agrifield_data/data/ref_agrifie...</td>\n",
              "      <td>gdrive/MyDrive/agrifield_data/data/ref_agrifie...</td>\n",
              "      <td>gdrive/MyDrive/agrifield_data/data/ref_agrifie...</td>\n",
              "    </tr>\n",
              "    <tr>\n",
              "      <th>1</th>\n",
              "      <td>76a39</td>\n",
              "      <td>gdrive/MyDrive/agrifield_data/data/ref_agrifie...</td>\n",
              "      <td>gdrive/MyDrive/agrifield_data/data/ref_agrifie...</td>\n",
              "      <td>gdrive/MyDrive/agrifield_data/data/ref_agrifie...</td>\n",
              "    </tr>\n",
              "    <tr>\n",
              "      <th>2</th>\n",
              "      <td>dd5ef</td>\n",
              "      <td>gdrive/MyDrive/agrifield_data/data/ref_agrifie...</td>\n",
              "      <td>gdrive/MyDrive/agrifield_data/data/ref_agrifie...</td>\n",
              "      <td>gdrive/MyDrive/agrifield_data/data/ref_agrifie...</td>\n",
              "    </tr>\n",
              "    <tr>\n",
              "      <th>3</th>\n",
              "      <td>86a15</td>\n",
              "      <td>gdrive/MyDrive/agrifield_data/data/ref_agrifie...</td>\n",
              "      <td>gdrive/MyDrive/agrifield_data/data/ref_agrifie...</td>\n",
              "      <td>gdrive/MyDrive/agrifield_data/data/ref_agrifie...</td>\n",
              "    </tr>\n",
              "    <tr>\n",
              "      <th>4</th>\n",
              "      <td>84579</td>\n",
              "      <td>gdrive/MyDrive/agrifield_data/data/ref_agrifie...</td>\n",
              "      <td>gdrive/MyDrive/agrifield_data/data/ref_agrifie...</td>\n",
              "      <td>gdrive/MyDrive/agrifield_data/data/ref_agrifie...</td>\n",
              "    </tr>\n",
              "  </tbody>\n",
              "</table>\n",
              "</div>\n",
              "      <button class=\"colab-df-convert\" onclick=\"convertToInteractive('df-3d434643-cf53-49b9-a329-1e8a17d4a37f')\"\n",
              "              title=\"Convert this dataframe to an interactive table.\"\n",
              "              style=\"display:none;\">\n",
              "        \n",
              "  <svg xmlns=\"http://www.w3.org/2000/svg\" height=\"24px\"viewBox=\"0 0 24 24\"\n",
              "       width=\"24px\">\n",
              "    <path d=\"M0 0h24v24H0V0z\" fill=\"none\"/>\n",
              "    <path d=\"M18.56 5.44l.94 2.06.94-2.06 2.06-.94-2.06-.94-.94-2.06-.94 2.06-2.06.94zm-11 1L8.5 8.5l.94-2.06 2.06-.94-2.06-.94L8.5 2.5l-.94 2.06-2.06.94zm10 10l.94 2.06.94-2.06 2.06-.94-2.06-.94-.94-2.06-.94 2.06-2.06.94z\"/><path d=\"M17.41 7.96l-1.37-1.37c-.4-.4-.92-.59-1.43-.59-.52 0-1.04.2-1.43.59L10.3 9.45l-7.72 7.72c-.78.78-.78 2.05 0 2.83L4 21.41c.39.39.9.59 1.41.59.51 0 1.02-.2 1.41-.59l7.78-7.78 2.81-2.81c.8-.78.8-2.07 0-2.86zM5.41 20L4 18.59l7.72-7.72 1.47 1.35L5.41 20z\"/>\n",
              "  </svg>\n",
              "      </button>\n",
              "      \n",
              "  <style>\n",
              "    .colab-df-container {\n",
              "      display:flex;\n",
              "      flex-wrap:wrap;\n",
              "      gap: 12px;\n",
              "    }\n",
              "\n",
              "    .colab-df-convert {\n",
              "      background-color: #E8F0FE;\n",
              "      border: none;\n",
              "      border-radius: 50%;\n",
              "      cursor: pointer;\n",
              "      display: none;\n",
              "      fill: #1967D2;\n",
              "      height: 32px;\n",
              "      padding: 0 0 0 0;\n",
              "      width: 32px;\n",
              "    }\n",
              "\n",
              "    .colab-df-convert:hover {\n",
              "      background-color: #E2EBFA;\n",
              "      box-shadow: 0px 1px 2px rgba(60, 64, 67, 0.3), 0px 1px 3px 1px rgba(60, 64, 67, 0.15);\n",
              "      fill: #174EA6;\n",
              "    }\n",
              "\n",
              "    [theme=dark] .colab-df-convert {\n",
              "      background-color: #3B4455;\n",
              "      fill: #D2E3FC;\n",
              "    }\n",
              "\n",
              "    [theme=dark] .colab-df-convert:hover {\n",
              "      background-color: #434B5C;\n",
              "      box-shadow: 0px 1px 3px 1px rgba(0, 0, 0, 0.15);\n",
              "      filter: drop-shadow(0px 1px 2px rgba(0, 0, 0, 0.3));\n",
              "      fill: #FFFFFF;\n",
              "    }\n",
              "  </style>\n",
              "\n",
              "      <script>\n",
              "        const buttonEl =\n",
              "          document.querySelector('#df-3d434643-cf53-49b9-a329-1e8a17d4a37f button.colab-df-convert');\n",
              "        buttonEl.style.display =\n",
              "          google.colab.kernel.accessAllowed ? 'block' : 'none';\n",
              "\n",
              "        async function convertToInteractive(key) {\n",
              "          const element = document.querySelector('#df-3d434643-cf53-49b9-a329-1e8a17d4a37f');\n",
              "          const dataTable =\n",
              "            await google.colab.kernel.invokeFunction('convertToInteractive',\n",
              "                                                     [key], {});\n",
              "          if (!dataTable) return;\n",
              "\n",
              "          const docLinkHtml = 'Like what you see? Visit the ' +\n",
              "            '<a target=\"_blank\" href=https://colab.research.google.com/notebooks/data_table.ipynb>data table notebook</a>'\n",
              "            + ' to learn more about interactive tables.';\n",
              "          element.innerHTML = '';\n",
              "          dataTable['output_type'] = 'display_data';\n",
              "          await google.colab.output.renderOutput(dataTable, element);\n",
              "          const docLink = document.createElement('div');\n",
              "          docLink.innerHTML = docLinkHtml;\n",
              "          element.appendChild(docLink);\n",
              "        }\n",
              "      </script>\n",
              "    </div>\n",
              "  </div>\n",
              "  "
            ]
          },
          "metadata": {},
          "execution_count": 9
        }
      ],
      "source": [
        "train_data = pd.DataFrame(np.array([train_ids, field_paths, label_paths, source_paths]).transpose(), \n",
        "                          columns=['folder_id', 'field_path', 'label_path', 'source_path'])\n",
        "train_data.head()"
      ]
    },
    {
      "cell_type": "markdown",
      "id": "3nUIadAoPzzF",
      "metadata": {
        "id": "3nUIadAoPzzF"
      },
      "source": [
        "## Extract band mean and std"
      ]
    },
    {
      "cell_type": "code",
      "execution_count": 10,
      "id": "8SyckvzbP0yR",
      "metadata": {
        "id": "8SyckvzbP0yR"
      },
      "outputs": [],
      "source": [
        "source_paths = [fn for fn in os.listdir(os.path.join(data_dir, \n",
        "                                                     source_collection)) \n",
        "if not fn.endswith('json')]"
      ]
    },
    {
      "cell_type": "code",
      "execution_count": 11,
      "id": "4EruyrJaP01u",
      "metadata": {
        "colab": {
          "base_uri": "https://localhost:8080/"
        },
        "id": "4EruyrJaP01u",
        "outputId": "df4cfd93-78a0-459b-c5a8-3bf9d7014763"
      },
      "outputs": [
        {
          "output_type": "stream",
          "name": "stderr",
          "text": [
            "100%|██████████| 1217/1217 [02:14<00:00,  9.08it/s]\n"
          ]
        }
      ],
      "source": [
        "means = []\n",
        "stds = []\n",
        "for source_path in tqdm(source_paths):\n",
        "    m = []\n",
        "    s = []\n",
        "    for band in BAND_NAMES:\n",
        "        with rasterio.open(os.path.join(data_dir, source_collection, source_path) + rf\"/{band}.tif\") as src:\n",
        "            img = src.read()[0]\n",
        "        m.append(np.mean(img))\n",
        "        s.append(np.std(img))\n",
        "    means.append(m)\n",
        "    stds.append(s)\n",
        "means = np.array(means).mean(0)\n",
        "stds = np.array(stds).mean(0)"
      ]
    },
    {
      "cell_type": "markdown",
      "id": "45b0528d-12b9-4c3d-9349-b87d0125452b",
      "metadata": {
        "id": "45b0528d-12b9-4c3d-9349-b87d0125452b"
      },
      "source": [
        "\n",
        "## Extract field-crop data"
      ]
    },
    {
      "cell_type": "code",
      "execution_count": 12,
      "id": "bb718754-8b9d-41dc-af37-785f08813783",
      "metadata": {
        "id": "bb718754-8b9d-41dc-af37-785f08813783"
      },
      "outputs": [],
      "source": [
        "def extract_field_crop_data(data):\n",
        "    field_ids = []\n",
        "    crop_type = []\n",
        "    field_area = []\n",
        "    field_max_dim = []\n",
        "    field_center_x = []\n",
        "    field_center_y = []\n",
        "    label_paths = []\n",
        "    field_paths = []\n",
        "    source_paths = []\n",
        "\n",
        "    for i in tqdm(range(len(data))):\n",
        "        with rasterio.open(data['field_path'].iloc[i]) as src:\n",
        "            field_data = src.read()[0]\n",
        "        if os.path.exists(data['label_path'].iloc[i]):\n",
        "            with rasterio.open(data['label_path'].iloc[i]) as src:\n",
        "                crop_data = src.read()[0]\n",
        "        else:\n",
        "            crop_data = None\n",
        "\n",
        "        for field_id in np.unique(field_data)[1:]:\n",
        "            ind = np.where(field_data == field_id)\n",
        "            field_ids.append(field_id)\n",
        "            field_area.append(len(ind[0]))\n",
        "            field_max_dim.append(np.max(np.array(ind).max(1) - np.array(ind).min(1) + 1))\n",
        "            field_center_y.append(np.mean(ind[0]))\n",
        "            field_center_x.append(np.mean(ind[1]))\n",
        "            field_paths.append(data['field_path'].iloc[i])\n",
        "            source_paths.append(data['source_path'].iloc[i])\n",
        "            if crop_data is not None:\n",
        "                crop_type.append(np.unique(crop_data[ind])[-1])\n",
        "                label_paths.append(data['label_path'].iloc[i])\n",
        "\n",
        "    df = pd.DataFrame(np.array([field_ids,field_area, \n",
        "                              field_max_dim, field_center_x, \n",
        "                              field_center_y]).transpose(),\n",
        "                    columns=['field_id', 'field_area', \n",
        "                            'field_max_dim', 'center_x', 'center_y'])\n",
        "    df['field_path'] = field_paths\n",
        "    df['source_path'] = source_paths\n",
        "    if len(crop_type) > 0:\n",
        "        df['crop_type'] = crop_type\n",
        "        df['label_path'] = label_paths\n",
        "    return df"
      ]
    },
    {
      "cell_type": "code",
      "execution_count": 13,
      "id": "x01ngTzLAFU3",
      "metadata": {
        "colab": {
          "base_uri": "https://localhost:8080/"
        },
        "id": "x01ngTzLAFU3",
        "outputId": "0ba92a8c-a125-4617-b43d-d9fcc3ceec01"
      },
      "outputs": [
        {
          "output_type": "stream",
          "name": "stderr",
          "text": [
            "100%|██████████| 1165/1165 [00:23<00:00, 50.08it/s]\n"
          ]
        }
      ],
      "source": [
        "df = extract_field_crop_data(train_data)"
      ]
    },
    {
      "cell_type": "markdown",
      "id": "31555094-9805-4561-8af8-4ccc47f83f44",
      "metadata": {
        "id": "31555094-9805-4561-8af8-4ccc47f83f44"
      },
      "source": [
        "## Relabel crop labels in sequential order"
      ]
    },
    {
      "cell_type": "code",
      "execution_count": 14,
      "id": "4dhiNZ3onwia",
      "metadata": {
        "id": "4dhiNZ3onwia"
      },
      "outputs": [],
      "source": [
        "crop_labels = np.unique(df['crop_type'])\n",
        "df['crop_ind'] = df['crop_type'].apply(lambda x: np.where(crop_labels == x)[0][0])"
      ]
    },
    {
      "cell_type": "code",
      "execution_count": 15,
      "id": "hrsIYUMloBZH",
      "metadata": {
        "colab": {
          "base_uri": "https://localhost:8080/"
        },
        "id": "hrsIYUMloBZH",
        "outputId": "8dbd8de4-7e16-4ce6-e9d6-f0062d2ba413"
      },
      "outputs": [
        {
          "output_type": "execute_result",
          "data": {
            "text/plain": [
              "array([ True])"
            ]
          },
          "metadata": {},
          "execution_count": 15
        }
      ],
      "source": [
        "(df['crop_type'] == crop_labels[df['crop_ind']]).unique()"
      ]
    },
    {
      "cell_type": "markdown",
      "id": "tXq1MIEveISx",
      "metadata": {
        "id": "tXq1MIEveISx"
      },
      "source": [
        "### Split the data into train and validation"
      ]
    },
    {
      "cell_type": "code",
      "execution_count": 16,
      "id": "a2602227-d512-4688-8f3d-f4db60a7e8ac",
      "metadata": {
        "id": "a2602227-d512-4688-8f3d-f4db60a7e8ac"
      },
      "outputs": [],
      "source": [
        "val_fraction = 0.2\n",
        "random_seed = 42"
      ]
    },
    {
      "cell_type": "code",
      "execution_count": 17,
      "id": "25140a45-6438-481e-8b13-a79af4ee368b",
      "metadata": {
        "id": "25140a45-6438-481e-8b13-a79af4ee368b"
      },
      "outputs": [],
      "source": [
        "np.random.seed(random_seed)\n",
        "df_train = []\n",
        "df_val = []\n",
        "for crop in df['crop_type'].unique():\n",
        "    cur_df = df[df['crop_type'] == crop].reset_index(drop=True)\n",
        "    unique_field_ids = cur_df['field_id'].unique()\n",
        "    ind = np.arange(len(unique_field_ids))\n",
        "    np.random.shuffle(ind)\n",
        "    n_val = int(round(val_fraction * len(ind)))\n",
        "    df_val.append(cur_df[cur_df['field_id'].isin(unique_field_ids[ind[:n_val]])])\n",
        "    df_train.append(cur_df[cur_df['field_id'].isin(unique_field_ids[ind[n_val:]])])\n",
        "df_train = pd.concat(df_train, ignore_index=True)\n",
        "df_val = pd.concat(df_val, ignore_index=True)"
      ]
    },
    {
      "cell_type": "markdown",
      "id": "aa90d57c-57e4-4031-a0bd-ffd3aac76346",
      "metadata": {
        "id": "aa90d57c-57e4-4031-a0bd-ffd3aac76346"
      },
      "source": [
        "## Exclude fields with area < 5 pixels"
      ]
    },
    {
      "cell_type": "code",
      "execution_count": 18,
      "id": "gCEOXwgtGwbP",
      "metadata": {
        "id": "gCEOXwgtGwbP"
      },
      "outputs": [],
      "source": [
        "df_train = df_train[df_train['field_area'] >= 5].reset_index(drop=True)\n",
        "df_val = df_val[df_val['field_area'] >= 5].reset_index(drop=True)"
      ]
    },
    {
      "cell_type": "markdown",
      "id": "Etysg8Y8m0H5",
      "metadata": {
        "id": "Etysg8Y8m0H5"
      },
      "source": [
        "## Crop and normalize the data"
      ]
    },
    {
      "cell_type": "code",
      "execution_count": 19,
      "id": "3b8d95be-f2cc-4043-a9ca-76a5b07acfe8",
      "metadata": {
        "id": "3b8d95be-f2cc-4043-a9ca-76a5b07acfe8"
      },
      "outputs": [],
      "source": [
        "patch_size = 16"
      ]
    },
    {
      "cell_type": "code",
      "execution_count": 20,
      "id": "2hX7SpwQe0H5",
      "metadata": {
        "id": "2hX7SpwQe0H5"
      },
      "outputs": [],
      "source": [
        "def crop_one_field(df, i, means, stds, size=16):\n",
        "    imgs = []\n",
        "    for band in BAND_NAMES:\n",
        "        source_fn = rf\"{df.iloc[i]['source_path']}{band}.tif\"\n",
        "        with rasterio.open(source_fn) as src:\n",
        "            imgs.append(src.read()[0].astype(np.float64))\n",
        "    imgs = np.array(imgs)\n",
        "    \n",
        "    field_id = df.iloc[i]['field_id']\n",
        "\n",
        "    with rasterio.open(df.iloc[i]['field_path']) as src:\n",
        "        fields = src.read()[0].astype(np.int64)\n",
        "        imgs = np.concatenate([imgs, fields.reshape((1,) + fields.shape)])\n",
        "\n",
        "    # z-scoring of the data\n",
        "    imgs[:len(means)] = (imgs[:len(means)] - means.reshape(-1,1,1)) / stds.reshape(-1,1,1)\n",
        "   \n",
        "    # pad the image\n",
        "    hs = int(size/2)\n",
        "    imgs = np.pad(imgs, ((0, 0), (hs, hs), (hs, hs)))\n",
        "    imgs[-1] = np.where(imgs[-1] == field_id, 1, 0)\n",
        "\n",
        "    # crop \n",
        "    ind = [int(df.iloc[i]['center_y'] + hs), \n",
        "           int(df.iloc[i]['center_x'] + hs)]\n",
        "    imgs = imgs[:, ind[0]-hs:ind[0]+hs, ind[1]-hs:ind[1]+hs]\n",
        "    io.imsave(df['data_path'].iloc[i], imgs)"
      ]
    },
    {
      "cell_type": "code",
      "execution_count": 21,
      "id": "B5-1dTp8xaPv",
      "metadata": {
        "id": "B5-1dTp8xaPv"
      },
      "outputs": [],
      "source": [
        "def save_cropped(df, means, stds, size):\n",
        "    for i in tqdm(range(len(df))):\n",
        "        if not os.path.exists(df['data_path'].iloc[i]):\n",
        "            crop_one_field(df, i, means, stds, size=size)"
      ]
    },
    {
      "cell_type": "code",
      "execution_count": 22,
      "id": "BRwkXSL33k6t",
      "metadata": {
        "id": "BRwkXSL33k6t"
      },
      "outputs": [],
      "source": [
        "cropped_path = path + 'data_cropped'\n",
        "os.makedirs(cropped_path, exist_ok=True)"
      ]
    },
    {
      "cell_type": "code",
      "execution_count": 23,
      "id": "2aa928ad-b044-4f96-bdd0-70ba646dca7c",
      "metadata": {
        "id": "2aa928ad-b044-4f96-bdd0-70ba646dca7c"
      },
      "outputs": [],
      "source": [
        "def add_cropped_path(df):\n",
        "    df['data_path'] = [rf\"{cropped_path}/{df['field_id'].iloc[i]}_\"\n",
        "                       rf\"{df['source_path'].iloc[i].split('_')[-1].rstrip('/')}.tif\" \n",
        "                       for i in range(len(df))]\n",
        "    return df"
      ]
    },
    {
      "cell_type": "code",
      "execution_count": 24,
      "id": "3OyTZmcHv6XY",
      "metadata": {
        "id": "3OyTZmcHv6XY"
      },
      "outputs": [],
      "source": [
        "df_val = add_cropped_path(df_val)\n",
        "df_train = add_cropped_path(df_train)"
      ]
    },
    {
      "cell_type": "code",
      "execution_count": 25,
      "id": "1BieEopo3njL",
      "metadata": {
        "colab": {
          "base_uri": "https://localhost:8080/"
        },
        "id": "1BieEopo3njL",
        "outputId": "fe851a59-8401-45c2-b17a-0a294b6ddf37"
      },
      "outputs": [
        {
          "output_type": "stream",
          "name": "stderr",
          "text": [
            "100%|██████████| 1117/1117 [02:49<00:00,  6.60it/s]\n",
            "100%|██████████| 4456/4456 [10:52<00:00,  6.83it/s]\n"
          ]
        }
      ],
      "source": [
        "save_cropped(df_val, means, stds, patch_size)\n",
        "save_cropped(df_train,  means, stds, patch_size)"
      ]
    },
    {
      "cell_type": "markdown",
      "id": "yCvvWdPUH5yU",
      "metadata": {
        "id": "yCvvWdPUH5yU"
      },
      "source": [
        "## Prepare the test dataset"
      ]
    },
    {
      "cell_type": "code",
      "execution_count": 26,
      "id": "8OkzF6RDHedl",
      "metadata": {
        "id": "8OkzF6RDHedl"
      },
      "outputs": [],
      "source": [
        "test_paths = os.listdir(os.path.join(data_dir, test_label_collection))\n",
        "test_ids = [fn.split('_')[-1] for fn in test_paths if 'labels_test' in fn]\n",
        "\n",
        "field_paths = [f'{data_dir}/{test_label_collection}/{test_label_collection}_{i}/field_ids.tif' \n",
        "               for i in test_ids]\n",
        "label_paths = [f'{data_dir}/{test_label_collection}/{test_label_collection}_{i}/raster_labels.tif' \n",
        "               for i in test_ids]\n",
        "source_paths = [f'{data_dir}/{source_collection}/{source_collection}_{i}/' \n",
        "               for i in test_ids]"
      ]
    },
    {
      "cell_type": "code",
      "execution_count": 27,
      "id": "BBrtOyDsIvct",
      "metadata": {
        "colab": {
          "base_uri": "https://localhost:8080/",
          "height": 250
        },
        "id": "BBrtOyDsIvct",
        "outputId": "d48e07d1-fcfa-4d5d-bc54-91a575fb47fd"
      },
      "outputs": [
        {
          "output_type": "execute_result",
          "data": {
            "text/plain": [
              "  folder_id                                         field_path  \\\n",
              "0     927cf  gdrive/MyDrive/agrifield_data/data/ref_agrifie...   \n",
              "1     8ac43  gdrive/MyDrive/agrifield_data/data/ref_agrifie...   \n",
              "2     0ecf8  gdrive/MyDrive/agrifield_data/data/ref_agrifie...   \n",
              "3     7646f  gdrive/MyDrive/agrifield_data/data/ref_agrifie...   \n",
              "4     e2334  gdrive/MyDrive/agrifield_data/data/ref_agrifie...   \n",
              "\n",
              "                                          label_path  \\\n",
              "0  gdrive/MyDrive/agrifield_data/data/ref_agrifie...   \n",
              "1  gdrive/MyDrive/agrifield_data/data/ref_agrifie...   \n",
              "2  gdrive/MyDrive/agrifield_data/data/ref_agrifie...   \n",
              "3  gdrive/MyDrive/agrifield_data/data/ref_agrifie...   \n",
              "4  gdrive/MyDrive/agrifield_data/data/ref_agrifie...   \n",
              "\n",
              "                                         source_path  \n",
              "0  gdrive/MyDrive/agrifield_data/data/ref_agrifie...  \n",
              "1  gdrive/MyDrive/agrifield_data/data/ref_agrifie...  \n",
              "2  gdrive/MyDrive/agrifield_data/data/ref_agrifie...  \n",
              "3  gdrive/MyDrive/agrifield_data/data/ref_agrifie...  \n",
              "4  gdrive/MyDrive/agrifield_data/data/ref_agrifie...  "
            ],
            "text/html": [
              "\n",
              "  <div id=\"df-a756955b-97a3-4fbe-bc49-25d60d4aab13\">\n",
              "    <div class=\"colab-df-container\">\n",
              "      <div>\n",
              "<style scoped>\n",
              "    .dataframe tbody tr th:only-of-type {\n",
              "        vertical-align: middle;\n",
              "    }\n",
              "\n",
              "    .dataframe tbody tr th {\n",
              "        vertical-align: top;\n",
              "    }\n",
              "\n",
              "    .dataframe thead th {\n",
              "        text-align: right;\n",
              "    }\n",
              "</style>\n",
              "<table border=\"1\" class=\"dataframe\">\n",
              "  <thead>\n",
              "    <tr style=\"text-align: right;\">\n",
              "      <th></th>\n",
              "      <th>folder_id</th>\n",
              "      <th>field_path</th>\n",
              "      <th>label_path</th>\n",
              "      <th>source_path</th>\n",
              "    </tr>\n",
              "  </thead>\n",
              "  <tbody>\n",
              "    <tr>\n",
              "      <th>0</th>\n",
              "      <td>927cf</td>\n",
              "      <td>gdrive/MyDrive/agrifield_data/data/ref_agrifie...</td>\n",
              "      <td>gdrive/MyDrive/agrifield_data/data/ref_agrifie...</td>\n",
              "      <td>gdrive/MyDrive/agrifield_data/data/ref_agrifie...</td>\n",
              "    </tr>\n",
              "    <tr>\n",
              "      <th>1</th>\n",
              "      <td>8ac43</td>\n",
              "      <td>gdrive/MyDrive/agrifield_data/data/ref_agrifie...</td>\n",
              "      <td>gdrive/MyDrive/agrifield_data/data/ref_agrifie...</td>\n",
              "      <td>gdrive/MyDrive/agrifield_data/data/ref_agrifie...</td>\n",
              "    </tr>\n",
              "    <tr>\n",
              "      <th>2</th>\n",
              "      <td>0ecf8</td>\n",
              "      <td>gdrive/MyDrive/agrifield_data/data/ref_agrifie...</td>\n",
              "      <td>gdrive/MyDrive/agrifield_data/data/ref_agrifie...</td>\n",
              "      <td>gdrive/MyDrive/agrifield_data/data/ref_agrifie...</td>\n",
              "    </tr>\n",
              "    <tr>\n",
              "      <th>3</th>\n",
              "      <td>7646f</td>\n",
              "      <td>gdrive/MyDrive/agrifield_data/data/ref_agrifie...</td>\n",
              "      <td>gdrive/MyDrive/agrifield_data/data/ref_agrifie...</td>\n",
              "      <td>gdrive/MyDrive/agrifield_data/data/ref_agrifie...</td>\n",
              "    </tr>\n",
              "    <tr>\n",
              "      <th>4</th>\n",
              "      <td>e2334</td>\n",
              "      <td>gdrive/MyDrive/agrifield_data/data/ref_agrifie...</td>\n",
              "      <td>gdrive/MyDrive/agrifield_data/data/ref_agrifie...</td>\n",
              "      <td>gdrive/MyDrive/agrifield_data/data/ref_agrifie...</td>\n",
              "    </tr>\n",
              "  </tbody>\n",
              "</table>\n",
              "</div>\n",
              "      <button class=\"colab-df-convert\" onclick=\"convertToInteractive('df-a756955b-97a3-4fbe-bc49-25d60d4aab13')\"\n",
              "              title=\"Convert this dataframe to an interactive table.\"\n",
              "              style=\"display:none;\">\n",
              "        \n",
              "  <svg xmlns=\"http://www.w3.org/2000/svg\" height=\"24px\"viewBox=\"0 0 24 24\"\n",
              "       width=\"24px\">\n",
              "    <path d=\"M0 0h24v24H0V0z\" fill=\"none\"/>\n",
              "    <path d=\"M18.56 5.44l.94 2.06.94-2.06 2.06-.94-2.06-.94-.94-2.06-.94 2.06-2.06.94zm-11 1L8.5 8.5l.94-2.06 2.06-.94-2.06-.94L8.5 2.5l-.94 2.06-2.06.94zm10 10l.94 2.06.94-2.06 2.06-.94-2.06-.94-.94-2.06-.94 2.06-2.06.94z\"/><path d=\"M17.41 7.96l-1.37-1.37c-.4-.4-.92-.59-1.43-.59-.52 0-1.04.2-1.43.59L10.3 9.45l-7.72 7.72c-.78.78-.78 2.05 0 2.83L4 21.41c.39.39.9.59 1.41.59.51 0 1.02-.2 1.41-.59l7.78-7.78 2.81-2.81c.8-.78.8-2.07 0-2.86zM5.41 20L4 18.59l7.72-7.72 1.47 1.35L5.41 20z\"/>\n",
              "  </svg>\n",
              "      </button>\n",
              "      \n",
              "  <style>\n",
              "    .colab-df-container {\n",
              "      display:flex;\n",
              "      flex-wrap:wrap;\n",
              "      gap: 12px;\n",
              "    }\n",
              "\n",
              "    .colab-df-convert {\n",
              "      background-color: #E8F0FE;\n",
              "      border: none;\n",
              "      border-radius: 50%;\n",
              "      cursor: pointer;\n",
              "      display: none;\n",
              "      fill: #1967D2;\n",
              "      height: 32px;\n",
              "      padding: 0 0 0 0;\n",
              "      width: 32px;\n",
              "    }\n",
              "\n",
              "    .colab-df-convert:hover {\n",
              "      background-color: #E2EBFA;\n",
              "      box-shadow: 0px 1px 2px rgba(60, 64, 67, 0.3), 0px 1px 3px 1px rgba(60, 64, 67, 0.15);\n",
              "      fill: #174EA6;\n",
              "    }\n",
              "\n",
              "    [theme=dark] .colab-df-convert {\n",
              "      background-color: #3B4455;\n",
              "      fill: #D2E3FC;\n",
              "    }\n",
              "\n",
              "    [theme=dark] .colab-df-convert:hover {\n",
              "      background-color: #434B5C;\n",
              "      box-shadow: 0px 1px 3px 1px rgba(0, 0, 0, 0.15);\n",
              "      filter: drop-shadow(0px 1px 2px rgba(0, 0, 0, 0.3));\n",
              "      fill: #FFFFFF;\n",
              "    }\n",
              "  </style>\n",
              "\n",
              "      <script>\n",
              "        const buttonEl =\n",
              "          document.querySelector('#df-a756955b-97a3-4fbe-bc49-25d60d4aab13 button.colab-df-convert');\n",
              "        buttonEl.style.display =\n",
              "          google.colab.kernel.accessAllowed ? 'block' : 'none';\n",
              "\n",
              "        async function convertToInteractive(key) {\n",
              "          const element = document.querySelector('#df-a756955b-97a3-4fbe-bc49-25d60d4aab13');\n",
              "          const dataTable =\n",
              "            await google.colab.kernel.invokeFunction('convertToInteractive',\n",
              "                                                     [key], {});\n",
              "          if (!dataTable) return;\n",
              "\n",
              "          const docLinkHtml = 'Like what you see? Visit the ' +\n",
              "            '<a target=\"_blank\" href=https://colab.research.google.com/notebooks/data_table.ipynb>data table notebook</a>'\n",
              "            + ' to learn more about interactive tables.';\n",
              "          element.innerHTML = '';\n",
              "          dataTable['output_type'] = 'display_data';\n",
              "          await google.colab.output.renderOutput(dataTable, element);\n",
              "          const docLink = document.createElement('div');\n",
              "          docLink.innerHTML = docLinkHtml;\n",
              "          element.appendChild(docLink);\n",
              "        }\n",
              "      </script>\n",
              "    </div>\n",
              "  </div>\n",
              "  "
            ]
          },
          "metadata": {},
          "execution_count": 27
        }
      ],
      "source": [
        "test_data = pd.DataFrame(np.array([test_ids, field_paths, label_paths, source_paths]).transpose(), \n",
        "                          columns=['folder_id', 'field_path', 'label_path', 'source_path'])\n",
        "test_data.head()"
      ]
    },
    {
      "cell_type": "code",
      "execution_count": 28,
      "id": "ues-moZF_JHx",
      "metadata": {
        "colab": {
          "base_uri": "https://localhost:8080/"
        },
        "id": "ues-moZF_JHx",
        "outputId": "16cf109f-577b-4667-a242-e11a94b5c16a"
      },
      "outputs": [
        {
          "output_type": "stream",
          "name": "stderr",
          "text": [
            "100%|██████████| 707/707 [00:07<00:00, 90.11it/s]\n"
          ]
        }
      ],
      "source": [
        "df_test = extract_field_crop_data(test_data)\n",
        "df_test['crop_ind'] = 0\n",
        "df_test['crop_type'] = 1"
      ]
    },
    {
      "cell_type": "code",
      "execution_count": 29,
      "id": "9d77931f-b095-464b-aab2-e9404a97c7ea",
      "metadata": {
        "id": "9d77931f-b095-464b-aab2-e9404a97c7ea"
      },
      "outputs": [],
      "source": [
        "df_test = add_cropped_path(df_test)"
      ]
    },
    {
      "cell_type": "code",
      "execution_count": 30,
      "id": "fe9a26a7-e5cb-4f42-8507-dfd9aec602d6",
      "metadata": {
        "id": "fe9a26a7-e5cb-4f42-8507-dfd9aec602d6",
        "outputId": "7fab1b48-d8c6-404b-b6fc-b6390c0ff5ee",
        "colab": {
          "base_uri": "https://localhost:8080/"
        }
      },
      "outputs": [
        {
          "output_type": "stream",
          "name": "stderr",
          "text": [
            "100%|██████████| 1606/1606 [03:39<00:00,  7.32it/s]\n"
          ]
        }
      ],
      "source": [
        "save_cropped(df_test, means, stds, patch_size)"
      ]
    },
    {
      "cell_type": "markdown",
      "id": "3d6ea6b5-3f14-4c42-a010-bfcfc99d1ff6",
      "metadata": {
        "id": "3d6ea6b5-3f14-4c42-a010-bfcfc99d1ff6"
      },
      "source": [
        "## Save train, validation, and test dataframes"
      ]
    },
    {
      "cell_type": "code",
      "execution_count": 31,
      "id": "f05f2c4b-4fcc-43af-a2d8-9d1fec060024",
      "metadata": {
        "id": "f05f2c4b-4fcc-43af-a2d8-9d1fec060024"
      },
      "outputs": [],
      "source": [
        "df_train.to_csv(path + 'df_train.csv', index=False)\n",
        "df_val.to_csv(path + 'df_val.csv', index=False)\n",
        "df_test.to_csv(path + 'df_test.csv', index=False)"
      ]
    },
    {
      "cell_type": "code",
      "execution_count": 31,
      "id": "3a536fcf-35c4-457f-95e3-a5f6632b81cf",
      "metadata": {
        "id": "3a536fcf-35c4-457f-95e3-a5f6632b81cf"
      },
      "outputs": [],
      "source": []
    }
  ],
  "metadata": {
    "colab": {
      "collapsed_sections": [],
      "provenance": [],
      "include_colab_link": true
    },
    "gpuClass": "standard",
    "kernelspec": {
      "display_name": "Python 3",
      "name": "python3"
    },
    "language_info": {
      "name": "python"
    },
    "widgets": {
      "application/vnd.jupyter.widget-state+json": {
        "6b2302442ddf4e5c9e6b9d575dd7b16a": {
          "model_module": "@jupyter-widgets/controls",
          "model_name": "HBoxModel",
          "model_module_version": "1.5.0",
          "state": {
            "_dom_classes": [],
            "_model_module": "@jupyter-widgets/controls",
            "_model_module_version": "1.5.0",
            "_model_name": "HBoxModel",
            "_view_count": null,
            "_view_module": "@jupyter-widgets/controls",
            "_view_module_version": "1.5.0",
            "_view_name": "HBoxView",
            "box_style": "",
            "children": [
              "IPY_MODEL_21a293769e2449a79107383937a3ab00",
              "IPY_MODEL_cc7540cceaea43968b7f0f2f95e351e6",
              "IPY_MODEL_e1a74aaf2f904412a8645d3260ea5760"
            ],
            "layout": "IPY_MODEL_bb91a6c8bfbf4b6da55daa84d1ced527"
          }
        },
        "21a293769e2449a79107383937a3ab00": {
          "model_module": "@jupyter-widgets/controls",
          "model_name": "HTMLModel",
          "model_module_version": "1.5.0",
          "state": {
            "_dom_classes": [],
            "_model_module": "@jupyter-widgets/controls",
            "_model_module_version": "1.5.0",
            "_model_name": "HTMLModel",
            "_view_count": null,
            "_view_module": "@jupyter-widgets/controls",
            "_view_module_version": "1.5.0",
            "_view_name": "HTMLView",
            "description": "",
            "description_tooltip": null,
            "layout": "IPY_MODEL_d7094279eadb4c0bb1ab142d8dcef657",
            "placeholder": "​",
            "style": "IPY_MODEL_c4f7a5b27f38498abb54074ead530c5e",
            "value": ""
          }
        },
        "cc7540cceaea43968b7f0f2f95e351e6": {
          "model_module": "@jupyter-widgets/controls",
          "model_name": "FloatProgressModel",
          "model_module_version": "1.5.0",
          "state": {
            "_dom_classes": [],
            "_model_module": "@jupyter-widgets/controls",
            "_model_module_version": "1.5.0",
            "_model_name": "FloatProgressModel",
            "_view_count": null,
            "_view_module": "@jupyter-widgets/controls",
            "_view_module_version": "1.5.0",
            "_view_name": "ProgressView",
            "bar_style": "success",
            "description": "",
            "description_tooltip": null,
            "layout": "IPY_MODEL_29e1b66eefbd4d20ba06ac23a829d07f",
            "max": 0.5,
            "min": 0,
            "orientation": "horizontal",
            "style": "IPY_MODEL_1d018a7bd46c4e678e34dffe17339cfe",
            "value": 0.5
          }
        },
        "e1a74aaf2f904412a8645d3260ea5760": {
          "model_module": "@jupyter-widgets/controls",
          "model_name": "HTMLModel",
          "model_module_version": "1.5.0",
          "state": {
            "_dom_classes": [],
            "_model_module": "@jupyter-widgets/controls",
            "_model_module_version": "1.5.0",
            "_model_name": "HTMLModel",
            "_view_count": null,
            "_view_module": "@jupyter-widgets/controls",
            "_view_module_version": "1.5.0",
            "_view_name": "HTMLView",
            "description": "",
            "description_tooltip": null,
            "layout": "IPY_MODEL_3f70c4d0d690426db0020ce8d02b4648",
            "placeholder": "​",
            "style": "IPY_MODEL_baf9e06727a549f2ac8ba724d63db36c",
            "value": " 5.0/? [00:00&lt;00:00,  5.70M/s]"
          }
        },
        "bb91a6c8bfbf4b6da55daa84d1ced527": {
          "model_module": "@jupyter-widgets/base",
          "model_name": "LayoutModel",
          "model_module_version": "1.2.0",
          "state": {
            "_model_module": "@jupyter-widgets/base",
            "_model_module_version": "1.2.0",
            "_model_name": "LayoutModel",
            "_view_count": null,
            "_view_module": "@jupyter-widgets/base",
            "_view_module_version": "1.2.0",
            "_view_name": "LayoutView",
            "align_content": null,
            "align_items": null,
            "align_self": null,
            "border": null,
            "bottom": null,
            "display": null,
            "flex": null,
            "flex_flow": null,
            "grid_area": null,
            "grid_auto_columns": null,
            "grid_auto_flow": null,
            "grid_auto_rows": null,
            "grid_column": null,
            "grid_gap": null,
            "grid_row": null,
            "grid_template_areas": null,
            "grid_template_columns": null,
            "grid_template_rows": null,
            "height": null,
            "justify_content": null,
            "justify_items": null,
            "left": null,
            "margin": null,
            "max_height": null,
            "max_width": null,
            "min_height": null,
            "min_width": null,
            "object_fit": null,
            "object_position": null,
            "order": null,
            "overflow": null,
            "overflow_x": null,
            "overflow_y": null,
            "padding": null,
            "right": null,
            "top": null,
            "visibility": null,
            "width": null
          }
        },
        "d7094279eadb4c0bb1ab142d8dcef657": {
          "model_module": "@jupyter-widgets/base",
          "model_name": "LayoutModel",
          "model_module_version": "1.2.0",
          "state": {
            "_model_module": "@jupyter-widgets/base",
            "_model_module_version": "1.2.0",
            "_model_name": "LayoutModel",
            "_view_count": null,
            "_view_module": "@jupyter-widgets/base",
            "_view_module_version": "1.2.0",
            "_view_name": "LayoutView",
            "align_content": null,
            "align_items": null,
            "align_self": null,
            "border": null,
            "bottom": null,
            "display": null,
            "flex": null,
            "flex_flow": null,
            "grid_area": null,
            "grid_auto_columns": null,
            "grid_auto_flow": null,
            "grid_auto_rows": null,
            "grid_column": null,
            "grid_gap": null,
            "grid_row": null,
            "grid_template_areas": null,
            "grid_template_columns": null,
            "grid_template_rows": null,
            "height": null,
            "justify_content": null,
            "justify_items": null,
            "left": null,
            "margin": null,
            "max_height": null,
            "max_width": null,
            "min_height": null,
            "min_width": null,
            "object_fit": null,
            "object_position": null,
            "order": null,
            "overflow": null,
            "overflow_x": null,
            "overflow_y": null,
            "padding": null,
            "right": null,
            "top": null,
            "visibility": null,
            "width": null
          }
        },
        "c4f7a5b27f38498abb54074ead530c5e": {
          "model_module": "@jupyter-widgets/controls",
          "model_name": "DescriptionStyleModel",
          "model_module_version": "1.5.0",
          "state": {
            "_model_module": "@jupyter-widgets/controls",
            "_model_module_version": "1.5.0",
            "_model_name": "DescriptionStyleModel",
            "_view_count": null,
            "_view_module": "@jupyter-widgets/base",
            "_view_module_version": "1.2.0",
            "_view_name": "StyleView",
            "description_width": ""
          }
        },
        "29e1b66eefbd4d20ba06ac23a829d07f": {
          "model_module": "@jupyter-widgets/base",
          "model_name": "LayoutModel",
          "model_module_version": "1.2.0",
          "state": {
            "_model_module": "@jupyter-widgets/base",
            "_model_module_version": "1.2.0",
            "_model_name": "LayoutModel",
            "_view_count": null,
            "_view_module": "@jupyter-widgets/base",
            "_view_module_version": "1.2.0",
            "_view_name": "LayoutView",
            "align_content": null,
            "align_items": null,
            "align_self": null,
            "border": null,
            "bottom": null,
            "display": null,
            "flex": null,
            "flex_flow": null,
            "grid_area": null,
            "grid_auto_columns": null,
            "grid_auto_flow": null,
            "grid_auto_rows": null,
            "grid_column": null,
            "grid_gap": null,
            "grid_row": null,
            "grid_template_areas": null,
            "grid_template_columns": null,
            "grid_template_rows": null,
            "height": null,
            "justify_content": null,
            "justify_items": null,
            "left": null,
            "margin": null,
            "max_height": null,
            "max_width": null,
            "min_height": null,
            "min_width": null,
            "object_fit": null,
            "object_position": null,
            "order": null,
            "overflow": null,
            "overflow_x": null,
            "overflow_y": null,
            "padding": null,
            "right": null,
            "top": null,
            "visibility": null,
            "width": null
          }
        },
        "1d018a7bd46c4e678e34dffe17339cfe": {
          "model_module": "@jupyter-widgets/controls",
          "model_name": "ProgressStyleModel",
          "model_module_version": "1.5.0",
          "state": {
            "_model_module": "@jupyter-widgets/controls",
            "_model_module_version": "1.5.0",
            "_model_name": "ProgressStyleModel",
            "_view_count": null,
            "_view_module": "@jupyter-widgets/base",
            "_view_module_version": "1.2.0",
            "_view_name": "StyleView",
            "bar_color": null,
            "description_width": ""
          }
        },
        "3f70c4d0d690426db0020ce8d02b4648": {
          "model_module": "@jupyter-widgets/base",
          "model_name": "LayoutModel",
          "model_module_version": "1.2.0",
          "state": {
            "_model_module": "@jupyter-widgets/base",
            "_model_module_version": "1.2.0",
            "_model_name": "LayoutModel",
            "_view_count": null,
            "_view_module": "@jupyter-widgets/base",
            "_view_module_version": "1.2.0",
            "_view_name": "LayoutView",
            "align_content": null,
            "align_items": null,
            "align_self": null,
            "border": null,
            "bottom": null,
            "display": null,
            "flex": null,
            "flex_flow": null,
            "grid_area": null,
            "grid_auto_columns": null,
            "grid_auto_flow": null,
            "grid_auto_rows": null,
            "grid_column": null,
            "grid_gap": null,
            "grid_row": null,
            "grid_template_areas": null,
            "grid_template_columns": null,
            "grid_template_rows": null,
            "height": null,
            "justify_content": null,
            "justify_items": null,
            "left": null,
            "margin": null,
            "max_height": null,
            "max_width": null,
            "min_height": null,
            "min_width": null,
            "object_fit": null,
            "object_position": null,
            "order": null,
            "overflow": null,
            "overflow_x": null,
            "overflow_y": null,
            "padding": null,
            "right": null,
            "top": null,
            "visibility": null,
            "width": null
          }
        },
        "baf9e06727a549f2ac8ba724d63db36c": {
          "model_module": "@jupyter-widgets/controls",
          "model_name": "DescriptionStyleModel",
          "model_module_version": "1.5.0",
          "state": {
            "_model_module": "@jupyter-widgets/controls",
            "_model_module_version": "1.5.0",
            "_model_name": "DescriptionStyleModel",
            "_view_count": null,
            "_view_module": "@jupyter-widgets/base",
            "_view_module_version": "1.2.0",
            "_view_name": "StyleView",
            "description_width": ""
          }
        },
        "89fed19f181f453faa21d1cc444e7af9": {
          "model_module": "@jupyter-widgets/controls",
          "model_name": "HBoxModel",
          "model_module_version": "1.5.0",
          "state": {
            "_dom_classes": [],
            "_model_module": "@jupyter-widgets/controls",
            "_model_module_version": "1.5.0",
            "_model_name": "HBoxModel",
            "_view_count": null,
            "_view_module": "@jupyter-widgets/controls",
            "_view_module_version": "1.5.0",
            "_view_name": "HBoxView",
            "box_style": "",
            "children": [
              "IPY_MODEL_2e54f33fba21440fb8df565887074656",
              "IPY_MODEL_134eb943e6e24b129d245d0d9acce916",
              "IPY_MODEL_ed8cfec3ccdc435685ed399db760e4e2"
            ],
            "layout": "IPY_MODEL_0074f40684f14b7cb4cc0c5ea44f6e20"
          }
        },
        "2e54f33fba21440fb8df565887074656": {
          "model_module": "@jupyter-widgets/controls",
          "model_name": "HTMLModel",
          "model_module_version": "1.5.0",
          "state": {
            "_dom_classes": [],
            "_model_module": "@jupyter-widgets/controls",
            "_model_module_version": "1.5.0",
            "_model_name": "HTMLModel",
            "_view_count": null,
            "_view_module": "@jupyter-widgets/controls",
            "_view_module_version": "1.5.0",
            "_view_name": "HTMLView",
            "description": "",
            "description_tooltip": null,
            "layout": "IPY_MODEL_a263531d957e4fd880e1063345c21509",
            "placeholder": "​",
            "style": "IPY_MODEL_e39d3214fbf14e22bd1d82d8f15f0d36",
            "value": ""
          }
        },
        "134eb943e6e24b129d245d0d9acce916": {
          "model_module": "@jupyter-widgets/controls",
          "model_name": "FloatProgressModel",
          "model_module_version": "1.5.0",
          "state": {
            "_dom_classes": [],
            "_model_module": "@jupyter-widgets/controls",
            "_model_module_version": "1.5.0",
            "_model_name": "FloatProgressModel",
            "_view_count": null,
            "_view_module": "@jupyter-widgets/controls",
            "_view_module_version": "1.5.0",
            "_view_name": "ProgressView",
            "bar_style": "success",
            "description": "",
            "description_tooltip": null,
            "layout": "IPY_MODEL_be20e40488da4951ad47ff7145bf79bb",
            "max": 324.3,
            "min": 0,
            "orientation": "horizontal",
            "style": "IPY_MODEL_08c7f1f36a07488eaee08ff1022bab2d",
            "value": 324.3
          }
        },
        "ed8cfec3ccdc435685ed399db760e4e2": {
          "model_module": "@jupyter-widgets/controls",
          "model_name": "HTMLModel",
          "model_module_version": "1.5.0",
          "state": {
            "_dom_classes": [],
            "_model_module": "@jupyter-widgets/controls",
            "_model_module_version": "1.5.0",
            "_model_name": "HTMLModel",
            "_view_count": null,
            "_view_module": "@jupyter-widgets/controls",
            "_view_module_version": "1.5.0",
            "_view_name": "HTMLView",
            "description": "",
            "description_tooltip": null,
            "layout": "IPY_MODEL_6d04dde7f8e34e88af53eb3b2f1aba69",
            "placeholder": "​",
            "style": "IPY_MODEL_a2747560742e466cafa54dbed3065d8b",
            "value": " 325.0/? [00:04&lt;00:00, 116.84M/s]"
          }
        },
        "0074f40684f14b7cb4cc0c5ea44f6e20": {
          "model_module": "@jupyter-widgets/base",
          "model_name": "LayoutModel",
          "model_module_version": "1.2.0",
          "state": {
            "_model_module": "@jupyter-widgets/base",
            "_model_module_version": "1.2.0",
            "_model_name": "LayoutModel",
            "_view_count": null,
            "_view_module": "@jupyter-widgets/base",
            "_view_module_version": "1.2.0",
            "_view_name": "LayoutView",
            "align_content": null,
            "align_items": null,
            "align_self": null,
            "border": null,
            "bottom": null,
            "display": null,
            "flex": null,
            "flex_flow": null,
            "grid_area": null,
            "grid_auto_columns": null,
            "grid_auto_flow": null,
            "grid_auto_rows": null,
            "grid_column": null,
            "grid_gap": null,
            "grid_row": null,
            "grid_template_areas": null,
            "grid_template_columns": null,
            "grid_template_rows": null,
            "height": null,
            "justify_content": null,
            "justify_items": null,
            "left": null,
            "margin": null,
            "max_height": null,
            "max_width": null,
            "min_height": null,
            "min_width": null,
            "object_fit": null,
            "object_position": null,
            "order": null,
            "overflow": null,
            "overflow_x": null,
            "overflow_y": null,
            "padding": null,
            "right": null,
            "top": null,
            "visibility": null,
            "width": null
          }
        },
        "a263531d957e4fd880e1063345c21509": {
          "model_module": "@jupyter-widgets/base",
          "model_name": "LayoutModel",
          "model_module_version": "1.2.0",
          "state": {
            "_model_module": "@jupyter-widgets/base",
            "_model_module_version": "1.2.0",
            "_model_name": "LayoutModel",
            "_view_count": null,
            "_view_module": "@jupyter-widgets/base",
            "_view_module_version": "1.2.0",
            "_view_name": "LayoutView",
            "align_content": null,
            "align_items": null,
            "align_self": null,
            "border": null,
            "bottom": null,
            "display": null,
            "flex": null,
            "flex_flow": null,
            "grid_area": null,
            "grid_auto_columns": null,
            "grid_auto_flow": null,
            "grid_auto_rows": null,
            "grid_column": null,
            "grid_gap": null,
            "grid_row": null,
            "grid_template_areas": null,
            "grid_template_columns": null,
            "grid_template_rows": null,
            "height": null,
            "justify_content": null,
            "justify_items": null,
            "left": null,
            "margin": null,
            "max_height": null,
            "max_width": null,
            "min_height": null,
            "min_width": null,
            "object_fit": null,
            "object_position": null,
            "order": null,
            "overflow": null,
            "overflow_x": null,
            "overflow_y": null,
            "padding": null,
            "right": null,
            "top": null,
            "visibility": null,
            "width": null
          }
        },
        "e39d3214fbf14e22bd1d82d8f15f0d36": {
          "model_module": "@jupyter-widgets/controls",
          "model_name": "DescriptionStyleModel",
          "model_module_version": "1.5.0",
          "state": {
            "_model_module": "@jupyter-widgets/controls",
            "_model_module_version": "1.5.0",
            "_model_name": "DescriptionStyleModel",
            "_view_count": null,
            "_view_module": "@jupyter-widgets/base",
            "_view_module_version": "1.2.0",
            "_view_name": "StyleView",
            "description_width": ""
          }
        },
        "be20e40488da4951ad47ff7145bf79bb": {
          "model_module": "@jupyter-widgets/base",
          "model_name": "LayoutModel",
          "model_module_version": "1.2.0",
          "state": {
            "_model_module": "@jupyter-widgets/base",
            "_model_module_version": "1.2.0",
            "_model_name": "LayoutModel",
            "_view_count": null,
            "_view_module": "@jupyter-widgets/base",
            "_view_module_version": "1.2.0",
            "_view_name": "LayoutView",
            "align_content": null,
            "align_items": null,
            "align_self": null,
            "border": null,
            "bottom": null,
            "display": null,
            "flex": null,
            "flex_flow": null,
            "grid_area": null,
            "grid_auto_columns": null,
            "grid_auto_flow": null,
            "grid_auto_rows": null,
            "grid_column": null,
            "grid_gap": null,
            "grid_row": null,
            "grid_template_areas": null,
            "grid_template_columns": null,
            "grid_template_rows": null,
            "height": null,
            "justify_content": null,
            "justify_items": null,
            "left": null,
            "margin": null,
            "max_height": null,
            "max_width": null,
            "min_height": null,
            "min_width": null,
            "object_fit": null,
            "object_position": null,
            "order": null,
            "overflow": null,
            "overflow_x": null,
            "overflow_y": null,
            "padding": null,
            "right": null,
            "top": null,
            "visibility": null,
            "width": null
          }
        },
        "08c7f1f36a07488eaee08ff1022bab2d": {
          "model_module": "@jupyter-widgets/controls",
          "model_name": "ProgressStyleModel",
          "model_module_version": "1.5.0",
          "state": {
            "_model_module": "@jupyter-widgets/controls",
            "_model_module_version": "1.5.0",
            "_model_name": "ProgressStyleModel",
            "_view_count": null,
            "_view_module": "@jupyter-widgets/base",
            "_view_module_version": "1.2.0",
            "_view_name": "StyleView",
            "bar_color": null,
            "description_width": ""
          }
        },
        "6d04dde7f8e34e88af53eb3b2f1aba69": {
          "model_module": "@jupyter-widgets/base",
          "model_name": "LayoutModel",
          "model_module_version": "1.2.0",
          "state": {
            "_model_module": "@jupyter-widgets/base",
            "_model_module_version": "1.2.0",
            "_model_name": "LayoutModel",
            "_view_count": null,
            "_view_module": "@jupyter-widgets/base",
            "_view_module_version": "1.2.0",
            "_view_name": "LayoutView",
            "align_content": null,
            "align_items": null,
            "align_self": null,
            "border": null,
            "bottom": null,
            "display": null,
            "flex": null,
            "flex_flow": null,
            "grid_area": null,
            "grid_auto_columns": null,
            "grid_auto_flow": null,
            "grid_auto_rows": null,
            "grid_column": null,
            "grid_gap": null,
            "grid_row": null,
            "grid_template_areas": null,
            "grid_template_columns": null,
            "grid_template_rows": null,
            "height": null,
            "justify_content": null,
            "justify_items": null,
            "left": null,
            "margin": null,
            "max_height": null,
            "max_width": null,
            "min_height": null,
            "min_width": null,
            "object_fit": null,
            "object_position": null,
            "order": null,
            "overflow": null,
            "overflow_x": null,
            "overflow_y": null,
            "padding": null,
            "right": null,
            "top": null,
            "visibility": null,
            "width": null
          }
        },
        "a2747560742e466cafa54dbed3065d8b": {
          "model_module": "@jupyter-widgets/controls",
          "model_name": "DescriptionStyleModel",
          "model_module_version": "1.5.0",
          "state": {
            "_model_module": "@jupyter-widgets/controls",
            "_model_module_version": "1.5.0",
            "_model_name": "DescriptionStyleModel",
            "_view_count": null,
            "_view_module": "@jupyter-widgets/base",
            "_view_module_version": "1.2.0",
            "_view_name": "StyleView",
            "description_width": ""
          }
        },
        "10a686be8a3d475ea1665a28db6d4b97": {
          "model_module": "@jupyter-widgets/controls",
          "model_name": "HBoxModel",
          "model_module_version": "1.5.0",
          "state": {
            "_dom_classes": [],
            "_model_module": "@jupyter-widgets/controls",
            "_model_module_version": "1.5.0",
            "_model_name": "HBoxModel",
            "_view_count": null,
            "_view_module": "@jupyter-widgets/controls",
            "_view_module_version": "1.5.0",
            "_view_name": "HBoxView",
            "box_style": "",
            "children": [
              "IPY_MODEL_18f696be12cd4e8dbb161498135a1ffd",
              "IPY_MODEL_9e7be7a996be461e95665713740bfaaa",
              "IPY_MODEL_5615548b05b5474e9648c4c9c7b47d1d"
            ],
            "layout": "IPY_MODEL_24e5cc0b4ad442e894c23be85f62477d"
          }
        },
        "18f696be12cd4e8dbb161498135a1ffd": {
          "model_module": "@jupyter-widgets/controls",
          "model_name": "HTMLModel",
          "model_module_version": "1.5.0",
          "state": {
            "_dom_classes": [],
            "_model_module": "@jupyter-widgets/controls",
            "_model_module_version": "1.5.0",
            "_model_name": "HTMLModel",
            "_view_count": null,
            "_view_module": "@jupyter-widgets/controls",
            "_view_module_version": "1.5.0",
            "_view_name": "HTMLView",
            "description": "",
            "description_tooltip": null,
            "layout": "IPY_MODEL_36ad53afc99f4aa8b03dc44c145417a8",
            "placeholder": "​",
            "style": "IPY_MODEL_df32c4ac55ca4da59fbd590bad3d04cf",
            "value": ""
          }
        },
        "9e7be7a996be461e95665713740bfaaa": {
          "model_module": "@jupyter-widgets/controls",
          "model_name": "FloatProgressModel",
          "model_module_version": "1.5.0",
          "state": {
            "_dom_classes": [],
            "_model_module": "@jupyter-widgets/controls",
            "_model_module_version": "1.5.0",
            "_model_name": "FloatProgressModel",
            "_view_count": null,
            "_view_module": "@jupyter-widgets/controls",
            "_view_module_version": "1.5.0",
            "_view_name": "ProgressView",
            "bar_style": "success",
            "description": "",
            "description_tooltip": null,
            "layout": "IPY_MODEL_68071992166f43b9be377f8bbd3f9b98",
            "max": 1.3,
            "min": 0,
            "orientation": "horizontal",
            "style": "IPY_MODEL_26d075e136fb46c7a064375033289081",
            "value": 1.3
          }
        },
        "5615548b05b5474e9648c4c9c7b47d1d": {
          "model_module": "@jupyter-widgets/controls",
          "model_name": "HTMLModel",
          "model_module_version": "1.5.0",
          "state": {
            "_dom_classes": [],
            "_model_module": "@jupyter-widgets/controls",
            "_model_module_version": "1.5.0",
            "_model_name": "HTMLModel",
            "_view_count": null,
            "_view_module": "@jupyter-widgets/controls",
            "_view_module_version": "1.5.0",
            "_view_name": "HTMLView",
            "description": "",
            "description_tooltip": null,
            "layout": "IPY_MODEL_51857158fafd472bacb13b125154760d",
            "placeholder": "​",
            "style": "IPY_MODEL_38bbc0d3df1e44e0a15c9926a99616c0",
            "value": " 5.0/? [00:01&lt;00:00,  4.33M/s]"
          }
        },
        "24e5cc0b4ad442e894c23be85f62477d": {
          "model_module": "@jupyter-widgets/base",
          "model_name": "LayoutModel",
          "model_module_version": "1.2.0",
          "state": {
            "_model_module": "@jupyter-widgets/base",
            "_model_module_version": "1.2.0",
            "_model_name": "LayoutModel",
            "_view_count": null,
            "_view_module": "@jupyter-widgets/base",
            "_view_module_version": "1.2.0",
            "_view_name": "LayoutView",
            "align_content": null,
            "align_items": null,
            "align_self": null,
            "border": null,
            "bottom": null,
            "display": null,
            "flex": null,
            "flex_flow": null,
            "grid_area": null,
            "grid_auto_columns": null,
            "grid_auto_flow": null,
            "grid_auto_rows": null,
            "grid_column": null,
            "grid_gap": null,
            "grid_row": null,
            "grid_template_areas": null,
            "grid_template_columns": null,
            "grid_template_rows": null,
            "height": null,
            "justify_content": null,
            "justify_items": null,
            "left": null,
            "margin": null,
            "max_height": null,
            "max_width": null,
            "min_height": null,
            "min_width": null,
            "object_fit": null,
            "object_position": null,
            "order": null,
            "overflow": null,
            "overflow_x": null,
            "overflow_y": null,
            "padding": null,
            "right": null,
            "top": null,
            "visibility": null,
            "width": null
          }
        },
        "36ad53afc99f4aa8b03dc44c145417a8": {
          "model_module": "@jupyter-widgets/base",
          "model_name": "LayoutModel",
          "model_module_version": "1.2.0",
          "state": {
            "_model_module": "@jupyter-widgets/base",
            "_model_module_version": "1.2.0",
            "_model_name": "LayoutModel",
            "_view_count": null,
            "_view_module": "@jupyter-widgets/base",
            "_view_module_version": "1.2.0",
            "_view_name": "LayoutView",
            "align_content": null,
            "align_items": null,
            "align_self": null,
            "border": null,
            "bottom": null,
            "display": null,
            "flex": null,
            "flex_flow": null,
            "grid_area": null,
            "grid_auto_columns": null,
            "grid_auto_flow": null,
            "grid_auto_rows": null,
            "grid_column": null,
            "grid_gap": null,
            "grid_row": null,
            "grid_template_areas": null,
            "grid_template_columns": null,
            "grid_template_rows": null,
            "height": null,
            "justify_content": null,
            "justify_items": null,
            "left": null,
            "margin": null,
            "max_height": null,
            "max_width": null,
            "min_height": null,
            "min_width": null,
            "object_fit": null,
            "object_position": null,
            "order": null,
            "overflow": null,
            "overflow_x": null,
            "overflow_y": null,
            "padding": null,
            "right": null,
            "top": null,
            "visibility": null,
            "width": null
          }
        },
        "df32c4ac55ca4da59fbd590bad3d04cf": {
          "model_module": "@jupyter-widgets/controls",
          "model_name": "DescriptionStyleModel",
          "model_module_version": "1.5.0",
          "state": {
            "_model_module": "@jupyter-widgets/controls",
            "_model_module_version": "1.5.0",
            "_model_name": "DescriptionStyleModel",
            "_view_count": null,
            "_view_module": "@jupyter-widgets/base",
            "_view_module_version": "1.2.0",
            "_view_name": "StyleView",
            "description_width": ""
          }
        },
        "68071992166f43b9be377f8bbd3f9b98": {
          "model_module": "@jupyter-widgets/base",
          "model_name": "LayoutModel",
          "model_module_version": "1.2.0",
          "state": {
            "_model_module": "@jupyter-widgets/base",
            "_model_module_version": "1.2.0",
            "_model_name": "LayoutModel",
            "_view_count": null,
            "_view_module": "@jupyter-widgets/base",
            "_view_module_version": "1.2.0",
            "_view_name": "LayoutView",
            "align_content": null,
            "align_items": null,
            "align_self": null,
            "border": null,
            "bottom": null,
            "display": null,
            "flex": null,
            "flex_flow": null,
            "grid_area": null,
            "grid_auto_columns": null,
            "grid_auto_flow": null,
            "grid_auto_rows": null,
            "grid_column": null,
            "grid_gap": null,
            "grid_row": null,
            "grid_template_areas": null,
            "grid_template_columns": null,
            "grid_template_rows": null,
            "height": null,
            "justify_content": null,
            "justify_items": null,
            "left": null,
            "margin": null,
            "max_height": null,
            "max_width": null,
            "min_height": null,
            "min_width": null,
            "object_fit": null,
            "object_position": null,
            "order": null,
            "overflow": null,
            "overflow_x": null,
            "overflow_y": null,
            "padding": null,
            "right": null,
            "top": null,
            "visibility": null,
            "width": null
          }
        },
        "26d075e136fb46c7a064375033289081": {
          "model_module": "@jupyter-widgets/controls",
          "model_name": "ProgressStyleModel",
          "model_module_version": "1.5.0",
          "state": {
            "_model_module": "@jupyter-widgets/controls",
            "_model_module_version": "1.5.0",
            "_model_name": "ProgressStyleModel",
            "_view_count": null,
            "_view_module": "@jupyter-widgets/base",
            "_view_module_version": "1.2.0",
            "_view_name": "StyleView",
            "bar_color": null,
            "description_width": ""
          }
        },
        "51857158fafd472bacb13b125154760d": {
          "model_module": "@jupyter-widgets/base",
          "model_name": "LayoutModel",
          "model_module_version": "1.2.0",
          "state": {
            "_model_module": "@jupyter-widgets/base",
            "_model_module_version": "1.2.0",
            "_model_name": "LayoutModel",
            "_view_count": null,
            "_view_module": "@jupyter-widgets/base",
            "_view_module_version": "1.2.0",
            "_view_name": "LayoutView",
            "align_content": null,
            "align_items": null,
            "align_self": null,
            "border": null,
            "bottom": null,
            "display": null,
            "flex": null,
            "flex_flow": null,
            "grid_area": null,
            "grid_auto_columns": null,
            "grid_auto_flow": null,
            "grid_auto_rows": null,
            "grid_column": null,
            "grid_gap": null,
            "grid_row": null,
            "grid_template_areas": null,
            "grid_template_columns": null,
            "grid_template_rows": null,
            "height": null,
            "justify_content": null,
            "justify_items": null,
            "left": null,
            "margin": null,
            "max_height": null,
            "max_width": null,
            "min_height": null,
            "min_width": null,
            "object_fit": null,
            "object_position": null,
            "order": null,
            "overflow": null,
            "overflow_x": null,
            "overflow_y": null,
            "padding": null,
            "right": null,
            "top": null,
            "visibility": null,
            "width": null
          }
        },
        "38bbc0d3df1e44e0a15c9926a99616c0": {
          "model_module": "@jupyter-widgets/controls",
          "model_name": "DescriptionStyleModel",
          "model_module_version": "1.5.0",
          "state": {
            "_model_module": "@jupyter-widgets/controls",
            "_model_module_version": "1.5.0",
            "_model_name": "DescriptionStyleModel",
            "_view_count": null,
            "_view_module": "@jupyter-widgets/base",
            "_view_module_version": "1.2.0",
            "_view_name": "StyleView",
            "description_width": ""
          }
        }
      }
    }
  },
  "nbformat": 4,
  "nbformat_minor": 5
}