{
 "cells": [
  {
   "cell_type": "markdown",
   "id": "77b4743b",
   "metadata": {
    "id": "77b4743b"
   },
   "source": [
    "# AgrifieldNet India Competition. Dataprep"
   ]
  },
  {
   "cell_type": "markdown",
   "id": "be36e335",
   "metadata": {
    "id": "be36e335"
   },
   "source": [
    "## Install and import dependencies\n"
   ]
  },
  {
   "cell_type": "code",
   "execution_count": 1,
   "id": "KiwG2IraDe6h",
   "metadata": {
    "colab": {
     "base_uri": "https://localhost:8080/"
    },
    "id": "KiwG2IraDe6h",
    "outputId": "60900bd5-9beb-4177-b701-5404be10d9a6"
   },
   "outputs": [
    {
     "name": "stdout",
     "output_type": "stream",
     "text": [
      "Overwriting requirements.txt\n"
     ]
    }
   ],
   "source": [
    "%%writefile requirements.txt\n",
    "\n",
    "pandas==1.3.5\n",
    "scikit-learn==1.0.2\n",
    "tqdm==4.64.0\n",
    "rasterio==1.2.0\n",
    "numpy==1.21.6\n",
    "radiant_mlhub==0.4.1\n",
    "scikit-image==0.18.3\n",
    "matplotlib==3.2.2"
   ]
  },
  {
   "cell_type": "code",
   "execution_count": 2,
   "id": "qafN0lN8D-_N",
   "metadata": {
    "colab": {
     "base_uri": "https://localhost:8080/"
    },
    "id": "qafN0lN8D-_N",
    "outputId": "38b04569-31d7-4545-9cfa-7e4e4a33078a"
   },
   "outputs": [
    {
     "name": "stdout",
     "output_type": "stream",
     "text": [
      "Requirement already satisfied: pandas==1.3.5 in /home/anna/anaconda3/lib/python3.9/site-packages (from -r requirements.txt (line 2)) (1.3.5)\n",
      "Requirement already satisfied: scikit-learn==1.0.2 in /home/anna/anaconda3/lib/python3.9/site-packages (from -r requirements.txt (line 3)) (1.0.2)\n",
      "Requirement already satisfied: tqdm==4.64.0 in /home/anna/anaconda3/lib/python3.9/site-packages (from -r requirements.txt (line 4)) (4.64.0)\n",
      "Requirement already satisfied: rasterio==1.2.0 in /home/anna/anaconda3/lib/python3.9/site-packages (from -r requirements.txt (line 5)) (1.2.0)\n",
      "Requirement already satisfied: numpy==1.21.6 in /home/anna/anaconda3/lib/python3.9/site-packages (from -r requirements.txt (line 6)) (1.21.6)\n",
      "Requirement already satisfied: radiant_mlhub==0.4.1 in /home/anna/anaconda3/lib/python3.9/site-packages (from -r requirements.txt (line 7)) (0.4.1)\n",
      "Requirement already satisfied: scikit-image==0.18.3 in /home/anna/anaconda3/lib/python3.9/site-packages (from -r requirements.txt (line 8)) (0.18.3)\n",
      "Requirement already satisfied: matplotlib==3.2.2 in /home/anna/anaconda3/lib/python3.9/site-packages (from -r requirements.txt (line 9)) (3.2.2)\n",
      "Requirement already satisfied: pytz>=2017.3 in /home/anna/anaconda3/lib/python3.9/site-packages (from pandas==1.3.5->-r requirements.txt (line 2)) (2021.3)\n",
      "Requirement already satisfied: python-dateutil>=2.7.3 in /home/anna/anaconda3/lib/python3.9/site-packages (from pandas==1.3.5->-r requirements.txt (line 2)) (2.8.2)\n",
      "Requirement already satisfied: threadpoolctl>=2.0.0 in /home/anna/anaconda3/lib/python3.9/site-packages (from scikit-learn==1.0.2->-r requirements.txt (line 3)) (2.2.0)\n",
      "Requirement already satisfied: joblib>=0.11 in /home/anna/anaconda3/lib/python3.9/site-packages (from scikit-learn==1.0.2->-r requirements.txt (line 3)) (1.1.0)\n",
      "Requirement already satisfied: scipy>=1.1.0 in /home/anna/anaconda3/lib/python3.9/site-packages (from scikit-learn==1.0.2->-r requirements.txt (line 3)) (1.7.1)\n",
      "Requirement already satisfied: attrs in /home/anna/anaconda3/lib/python3.9/site-packages (from rasterio==1.2.0->-r requirements.txt (line 5)) (21.2.0)\n",
      "Requirement already satisfied: click<8,>=4.0 in /home/anna/anaconda3/lib/python3.9/site-packages (from rasterio==1.2.0->-r requirements.txt (line 5)) (7.1.2)\n",
      "Requirement already satisfied: click-plugins in /home/anna/anaconda3/lib/python3.9/site-packages (from rasterio==1.2.0->-r requirements.txt (line 5)) (1.1.1)\n",
      "Requirement already satisfied: cligj>=0.5 in /home/anna/anaconda3/lib/python3.9/site-packages (from rasterio==1.2.0->-r requirements.txt (line 5)) (0.7.2)\n",
      "Requirement already satisfied: snuggs>=1.4.1 in /home/anna/anaconda3/lib/python3.9/site-packages (from rasterio==1.2.0->-r requirements.txt (line 5)) (1.4.7)\n",
      "Requirement already satisfied: certifi in /home/anna/anaconda3/lib/python3.9/site-packages (from rasterio==1.2.0->-r requirements.txt (line 5)) (2021.10.8)\n",
      "Requirement already satisfied: affine in /home/anna/anaconda3/lib/python3.9/site-packages (from rasterio==1.2.0->-r requirements.txt (line 5)) (2.3.1)\n",
      "Requirement already satisfied: requests~=2.25 in /home/anna/anaconda3/lib/python3.9/site-packages (from radiant_mlhub==0.4.1->-r requirements.txt (line 7)) (2.26.0)\n",
      "Requirement already satisfied: pystac~=1.1 in /home/anna/anaconda3/lib/python3.9/site-packages (from radiant_mlhub==0.4.1->-r requirements.txt (line 7)) (1.6.1)\n",
      "Requirement already satisfied: networkx>=2.0 in /home/anna/anaconda3/lib/python3.9/site-packages (from scikit-image==0.18.3->-r requirements.txt (line 8)) (2.6.3)\n",
      "Requirement already satisfied: pillow!=7.1.0,!=7.1.1,>=4.3.0 in /home/anna/anaconda3/lib/python3.9/site-packages (from scikit-image==0.18.3->-r requirements.txt (line 8)) (7.1.2)\n",
      "Requirement already satisfied: imageio>=2.3.0 in /home/anna/anaconda3/lib/python3.9/site-packages (from scikit-image==0.18.3->-r requirements.txt (line 8)) (2.9.0)\n",
      "Requirement already satisfied: tifffile>=2019.7.26 in /home/anna/anaconda3/lib/python3.9/site-packages (from scikit-image==0.18.3->-r requirements.txt (line 8)) (2021.7.2)\n",
      "Requirement already satisfied: PyWavelets>=1.1.1 in /home/anna/anaconda3/lib/python3.9/site-packages (from scikit-image==0.18.3->-r requirements.txt (line 8)) (1.1.1)\n",
      "Requirement already satisfied: kiwisolver>=1.0.1 in /home/anna/anaconda3/lib/python3.9/site-packages (from matplotlib==3.2.2->-r requirements.txt (line 9)) (1.3.1)\n",
      "Requirement already satisfied: cycler>=0.10 in /home/anna/anaconda3/lib/python3.9/site-packages (from matplotlib==3.2.2->-r requirements.txt (line 9)) (0.10.0)\n",
      "Requirement already satisfied: pyparsing!=2.0.4,!=2.1.2,!=2.1.6,>=2.0.1 in /home/anna/anaconda3/lib/python3.9/site-packages (from matplotlib==3.2.2->-r requirements.txt (line 9)) (3.0.4)\n",
      "Requirement already satisfied: six in /home/anna/anaconda3/lib/python3.9/site-packages (from cycler>=0.10->matplotlib==3.2.2->-r requirements.txt (line 9)) (1.16.0)\n",
      "Requirement already satisfied: charset-normalizer~=2.0.0 in /home/anna/anaconda3/lib/python3.9/site-packages (from requests~=2.25->radiant_mlhub==0.4.1->-r requirements.txt (line 7)) (2.0.4)\n",
      "Requirement already satisfied: urllib3<1.27,>=1.21.1 in /home/anna/anaconda3/lib/python3.9/site-packages (from requests~=2.25->radiant_mlhub==0.4.1->-r requirements.txt (line 7)) (1.26.7)\n",
      "Requirement already satisfied: idna<4,>=2.5 in /home/anna/anaconda3/lib/python3.9/site-packages (from requests~=2.25->radiant_mlhub==0.4.1->-r requirements.txt (line 7)) (3.2)\n"
     ]
    }
   ],
   "source": [
    "!pip install -r requirements.txt"
   ]
  },
  {
   "cell_type": "code",
   "execution_count": 3,
   "id": "28ea6e7d",
   "metadata": {
    "id": "28ea6e7d"
   },
   "outputs": [
    {
     "name": "stderr",
     "output_type": "stream",
     "text": [
      "/home/anna/anaconda3/envs/agri/lib/python3.7/site-packages/tqdm/auto.py:22: TqdmWarning: IProgress not found. Please update jupyter and ipywidgets. See https://ipywidgets.readthedocs.io/en/stable/user_install.html\n",
      "  from .autonotebook import tqdm as notebook_tqdm\n"
     ]
    }
   ],
   "source": [
    "import os\n",
    "import shutil\n",
    "import time\n",
    "import tarfile\n",
    "import json\n",
    "import getpass\n",
    "import rasterio\n",
    "import numpy as np\n",
    "import pandas as pd\n",
    "from tqdm import tqdm\n",
    "from radiant_mlhub import Dataset\n",
    "from skimage import io\n",
    "import pylab as plt"
   ]
  },
  {
   "cell_type": "markdown",
   "id": "fQpDLC79m5A4",
   "metadata": {
    "id": "fQpDLC79m5A4"
   },
   "source": [
    "## Download the data"
   ]
  },
  {
   "cell_type": "code",
   "execution_count": 4,
   "id": "cb70c810-70f7-40a7-ad20-b67572bca09d",
   "metadata": {},
   "outputs": [],
   "source": [
    "path = 'agrifield_data/'\n",
    "# path = 'gdrive/MyDrive/agrifield_data/'"
   ]
  },
  {
   "cell_type": "code",
   "execution_count": 5,
   "id": "fa599868-067f-441f-82b4-b891bbe1e968",
   "metadata": {},
   "outputs": [],
   "source": [
    "if 'gdrive' in path:\n",
    "    from google.colab import drive\n",
    "    drive.mount('/content/gdrive')"
   ]
  },
  {
   "cell_type": "code",
   "execution_count": 6,
   "id": "v6t8zd3bJB51",
   "metadata": {
    "id": "v6t8zd3bJB51"
   },
   "outputs": [],
   "source": [
    "collection_name = 'ref_agrifieldnet_competition_v1'\n",
    "BAND_NAMES = ['B01', 'B02', 'B03', 'B04','B05', 'B06', 'B07', \n",
    "              'B08','B8A', 'B09', 'B11', 'B12']\n",
    "data_dir = path + 'data'\n",
    "\n",
    "source_collection = f'{collection_name}_source'\n",
    "train_label_collection = f'{collection_name}_labels_train'\n",
    "test_label_collection = f'{collection_name}_labels_test'"
   ]
  },
  {
   "cell_type": "code",
   "execution_count": 7,
   "id": "cb1f3921",
   "metadata": {
    "colab": {
     "base_uri": "https://localhost:8080/"
    },
    "id": "cb1f3921",
    "outputId": "99c73380-78a4-45c1-80b7-0e062b0d0cab",
    "scrolled": true
   },
   "outputs": [
    {
     "name": "stdout",
     "output_type": "stream",
     "text": [
      "Dataset already exists\n"
     ]
    }
   ],
   "source": [
    "if not os.path.exists(data_dir):\n",
    "    os.environ['MLHUB_API_KEY'] =  getpass.getpass(prompt=\"MLHub API Key: \")\n",
    "\n",
    "    dataset = Dataset.fetch(collection_name)\n",
    "    dataset.download(output_dir=data_dir)\n",
    "    for fn in os.listdir(data_dir):\n",
    "        with tarfile.open(os.path.join(path + data_dir, fn)) as f:\n",
    "            f.extractall(data_dir + '/') \n",
    "        os.remove(os.path.join(data_dir, fn))\n",
    "else:\n",
    "    print(\"Dataset already exists\")"
   ]
  },
  {
   "cell_type": "markdown",
   "id": "HjvBEfBWmYY0",
   "metadata": {
    "id": "HjvBEfBWmYY0"
   },
   "source": [
    "## Create dataframe with list of images"
   ]
  },
  {
   "cell_type": "code",
   "execution_count": 8,
   "id": "GV9mPA1VTqt4",
   "metadata": {
    "id": "GV9mPA1VTqt4"
   },
   "outputs": [],
   "source": [
    "train_paths = os.listdir(os.path.join(data_dir, train_label_collection))\n",
    "train_ids = [fn.split('_')[-1] for fn in train_paths if 'labels_train' in fn]\n",
    "\n",
    "field_paths = [f'{data_dir}/{train_label_collection}/{train_label_collection}_{i}/field_ids.tif' \n",
    "               for i in train_ids]\n",
    "label_paths = [f'{data_dir}/{train_label_collection}/{train_label_collection}_{i}/raster_labels.tif' \n",
    "               for i in train_ids]\n",
    "source_paths = [f'{data_dir}/{source_collection}/{source_collection}_{i}/' \n",
    "               for i in train_ids]"
   ]
  },
  {
   "cell_type": "code",
   "execution_count": 9,
   "id": "d158c3e9",
   "metadata": {
    "colab": {
     "base_uri": "https://localhost:8080/",
     "height": 250
    },
    "id": "d158c3e9",
    "outputId": "3937ca67-c2c3-43a1-f6e1-4004b993ca19"
   },
   "outputs": [
    {
     "data": {
      "text/html": [
       "<div>\n",
       "<style scoped>\n",
       "    .dataframe tbody tr th:only-of-type {\n",
       "        vertical-align: middle;\n",
       "    }\n",
       "\n",
       "    .dataframe tbody tr th {\n",
       "        vertical-align: top;\n",
       "    }\n",
       "\n",
       "    .dataframe thead th {\n",
       "        text-align: right;\n",
       "    }\n",
       "</style>\n",
       "<table border=\"1\" class=\"dataframe\">\n",
       "  <thead>\n",
       "    <tr style=\"text-align: right;\">\n",
       "      <th></th>\n",
       "      <th>folder_id</th>\n",
       "      <th>field_path</th>\n",
       "      <th>label_path</th>\n",
       "      <th>source_path</th>\n",
       "    </tr>\n",
       "  </thead>\n",
       "  <tbody>\n",
       "    <tr>\n",
       "      <th>0</th>\n",
       "      <td>485ab</td>\n",
       "      <td>agrifield_data/data/ref_agrifieldnet_competiti...</td>\n",
       "      <td>agrifield_data/data/ref_agrifieldnet_competiti...</td>\n",
       "      <td>agrifield_data/data/ref_agrifieldnet_competiti...</td>\n",
       "    </tr>\n",
       "    <tr>\n",
       "      <th>1</th>\n",
       "      <td>47271</td>\n",
       "      <td>agrifield_data/data/ref_agrifieldnet_competiti...</td>\n",
       "      <td>agrifield_data/data/ref_agrifieldnet_competiti...</td>\n",
       "      <td>agrifield_data/data/ref_agrifieldnet_competiti...</td>\n",
       "    </tr>\n",
       "    <tr>\n",
       "      <th>2</th>\n",
       "      <td>1c08c</td>\n",
       "      <td>agrifield_data/data/ref_agrifieldnet_competiti...</td>\n",
       "      <td>agrifield_data/data/ref_agrifieldnet_competiti...</td>\n",
       "      <td>agrifield_data/data/ref_agrifieldnet_competiti...</td>\n",
       "    </tr>\n",
       "    <tr>\n",
       "      <th>3</th>\n",
       "      <td>5c4fa</td>\n",
       "      <td>agrifield_data/data/ref_agrifieldnet_competiti...</td>\n",
       "      <td>agrifield_data/data/ref_agrifieldnet_competiti...</td>\n",
       "      <td>agrifield_data/data/ref_agrifieldnet_competiti...</td>\n",
       "    </tr>\n",
       "    <tr>\n",
       "      <th>4</th>\n",
       "      <td>200d3</td>\n",
       "      <td>agrifield_data/data/ref_agrifieldnet_competiti...</td>\n",
       "      <td>agrifield_data/data/ref_agrifieldnet_competiti...</td>\n",
       "      <td>agrifield_data/data/ref_agrifieldnet_competiti...</td>\n",
       "    </tr>\n",
       "  </tbody>\n",
       "</table>\n",
       "</div>"
      ],
      "text/plain": [
       "  folder_id                                         field_path  \\\n",
       "0     485ab  agrifield_data/data/ref_agrifieldnet_competiti...   \n",
       "1     47271  agrifield_data/data/ref_agrifieldnet_competiti...   \n",
       "2     1c08c  agrifield_data/data/ref_agrifieldnet_competiti...   \n",
       "3     5c4fa  agrifield_data/data/ref_agrifieldnet_competiti...   \n",
       "4     200d3  agrifield_data/data/ref_agrifieldnet_competiti...   \n",
       "\n",
       "                                          label_path  \\\n",
       "0  agrifield_data/data/ref_agrifieldnet_competiti...   \n",
       "1  agrifield_data/data/ref_agrifieldnet_competiti...   \n",
       "2  agrifield_data/data/ref_agrifieldnet_competiti...   \n",
       "3  agrifield_data/data/ref_agrifieldnet_competiti...   \n",
       "4  agrifield_data/data/ref_agrifieldnet_competiti...   \n",
       "\n",
       "                                         source_path  \n",
       "0  agrifield_data/data/ref_agrifieldnet_competiti...  \n",
       "1  agrifield_data/data/ref_agrifieldnet_competiti...  \n",
       "2  agrifield_data/data/ref_agrifieldnet_competiti...  \n",
       "3  agrifield_data/data/ref_agrifieldnet_competiti...  \n",
       "4  agrifield_data/data/ref_agrifieldnet_competiti...  "
      ]
     },
     "execution_count": 9,
     "metadata": {},
     "output_type": "execute_result"
    }
   ],
   "source": [
    "train_data = pd.DataFrame(np.array([train_ids, field_paths, label_paths, source_paths]).transpose(), \n",
    "                          columns=['folder_id', 'field_path', 'label_path', 'source_path'])\n",
    "train_data.head()"
   ]
  },
  {
   "cell_type": "markdown",
   "id": "3nUIadAoPzzF",
   "metadata": {
    "id": "3nUIadAoPzzF"
   },
   "source": [
    "## Extract band mean and std"
   ]
  },
  {
   "cell_type": "code",
   "execution_count": 10,
   "id": "8SyckvzbP0yR",
   "metadata": {
    "id": "8SyckvzbP0yR"
   },
   "outputs": [],
   "source": [
    "source_paths = [fn for fn in os.listdir(os.path.join(data_dir, \n",
    "                                                     source_collection)) \n",
    "if not fn.endswith('json')]"
   ]
  },
  {
   "cell_type": "code",
   "execution_count": 11,
   "id": "4EruyrJaP01u",
   "metadata": {
    "colab": {
     "base_uri": "https://localhost:8080/"
    },
    "id": "4EruyrJaP01u",
    "outputId": "f9870473-ed3e-4144-f48e-1c4c4ce65f42"
   },
   "outputs": [
    {
     "name": "stderr",
     "output_type": "stream",
     "text": [
      "100%|██████████████████████████████████████████████████████████████████████████████████████| 1217/1217 [00:42<00:00, 28.68it/s]\n"
     ]
    }
   ],
   "source": [
    "means = []\n",
    "stds = []\n",
    "for source_path in tqdm(source_paths):\n",
    "    m = []\n",
    "    s = []\n",
    "    for band in BAND_NAMES:\n",
    "        with rasterio.open(os.path.join(data_dir, source_collection, source_path) + rf\"/{band}.tif\") as src:\n",
    "            img = src.read()[0]\n",
    "        m.append(np.mean(img))\n",
    "        s.append(np.std(img))\n",
    "    means.append(m)\n",
    "    stds.append(s)\n",
    "means = np.array(means).mean(0)\n",
    "stds = np.array(stds).mean(0)"
   ]
  },
  {
   "cell_type": "markdown",
   "id": "45b0528d-12b9-4c3d-9349-b87d0125452b",
   "metadata": {
    "id": "45b0528d-12b9-4c3d-9349-b87d0125452b"
   },
   "source": [
    "\n",
    "## Extract field-crop data"
   ]
  },
  {
   "cell_type": "code",
   "execution_count": 12,
   "id": "bb718754-8b9d-41dc-af37-785f08813783",
   "metadata": {
    "id": "bb718754-8b9d-41dc-af37-785f08813783"
   },
   "outputs": [],
   "source": [
    "def extract_field_crop_data(data):\n",
    "    field_ids = []\n",
    "    crop_type = []\n",
    "    field_area = []\n",
    "    field_max_dim = []\n",
    "    field_center_x = []\n",
    "    field_center_y = []\n",
    "    label_paths = []\n",
    "    field_paths = []\n",
    "    source_paths = []\n",
    "\n",
    "    for i in tqdm(range(len(data))):\n",
    "        with rasterio.open(data['field_path'].iloc[i]) as src:\n",
    "            field_data = src.read()[0]\n",
    "        if os.path.exists(data['label_path'].iloc[i]):\n",
    "            with rasterio.open(data['label_path'].iloc[i]) as src:\n",
    "                crop_data = src.read()[0]\n",
    "        else:\n",
    "            crop_data = None\n",
    "\n",
    "        for field_id in np.unique(field_data)[1:]:\n",
    "            ind = np.where(field_data == field_id)\n",
    "            field_ids.append(field_id)\n",
    "            field_area.append(len(ind[0]))\n",
    "            field_max_dim.append(np.max(np.array(ind).max(1) - np.array(ind).min(1) + 1))\n",
    "            field_center_y.append(np.mean(ind[0]))\n",
    "            field_center_x.append(np.mean(ind[1]))\n",
    "            field_paths.append(data['field_path'].iloc[i])\n",
    "            source_paths.append(data['source_path'].iloc[i])\n",
    "            if crop_data is not None:\n",
    "                crop_type.append(np.unique(crop_data[ind])[-1])\n",
    "                label_paths.append(data['label_path'].iloc[i])\n",
    "\n",
    "    df = pd.DataFrame(np.array([field_ids,field_area, \n",
    "                              field_max_dim, field_center_x, \n",
    "                              field_center_y]).transpose(),\n",
    "                    columns=['field_id', 'field_area', \n",
    "                            'field_max_dim', 'center_x', 'center_y'])\n",
    "    df['field_path'] = field_paths\n",
    "    df['source_path'] = source_paths\n",
    "    if len(crop_type) > 0:\n",
    "        df['crop_type'] = crop_type\n",
    "        df['label_path'] = label_paths\n",
    "    return df"
   ]
  },
  {
   "cell_type": "code",
   "execution_count": 13,
   "id": "x01ngTzLAFU3",
   "metadata": {
    "colab": {
     "base_uri": "https://localhost:8080/"
    },
    "id": "x01ngTzLAFU3",
    "outputId": "b81b648b-e487-4a58-f414-be8f6f3d49fd"
   },
   "outputs": [
    {
     "name": "stderr",
     "output_type": "stream",
     "text": [
      "100%|█████████████████████████████████████████████████████████████████████████████████████| 1165/1165 [00:06<00:00, 167.05it/s]\n"
     ]
    }
   ],
   "source": [
    "df = extract_field_crop_data(train_data)"
   ]
  },
  {
   "cell_type": "markdown",
   "id": "31555094-9805-4561-8af8-4ccc47f83f44",
   "metadata": {},
   "source": [
    "## Relabel crop labels in sequential order"
   ]
  },
  {
   "cell_type": "code",
   "execution_count": 14,
   "id": "4dhiNZ3onwia",
   "metadata": {
    "id": "4dhiNZ3onwia"
   },
   "outputs": [],
   "source": [
    "crop_labels = np.unique(df['crop_type'])\n",
    "df['crop_ind'] = df['crop_type'].apply(lambda x: np.where(crop_labels == x)[0][0])"
   ]
  },
  {
   "cell_type": "code",
   "execution_count": 15,
   "id": "hrsIYUMloBZH",
   "metadata": {
    "colab": {
     "base_uri": "https://localhost:8080/"
    },
    "id": "hrsIYUMloBZH",
    "outputId": "3126c72d-94ef-4a9f-962f-2096db34713a"
   },
   "outputs": [
    {
     "data": {
      "text/plain": [
       "array([ True])"
      ]
     },
     "execution_count": 15,
     "metadata": {},
     "output_type": "execute_result"
    }
   ],
   "source": [
    "(df['crop_type'] == crop_labels[df['crop_ind']]).unique()"
   ]
  },
  {
   "cell_type": "markdown",
   "id": "tXq1MIEveISx",
   "metadata": {
    "id": "tXq1MIEveISx"
   },
   "source": [
    "### Split the data into train and validation"
   ]
  },
  {
   "cell_type": "code",
   "execution_count": 16,
   "id": "a2602227-d512-4688-8f3d-f4db60a7e8ac",
   "metadata": {
    "id": "a2602227-d512-4688-8f3d-f4db60a7e8ac"
   },
   "outputs": [],
   "source": [
    "val_fraction = 0.2\n",
    "random_seed = 42"
   ]
  },
  {
   "cell_type": "code",
   "execution_count": 17,
   "id": "25140a45-6438-481e-8b13-a79af4ee368b",
   "metadata": {
    "id": "25140a45-6438-481e-8b13-a79af4ee368b"
   },
   "outputs": [],
   "source": [
    "np.random.seed(random_seed)\n",
    "df_train = []\n",
    "df_val = []\n",
    "for crop in df['crop_type'].unique():\n",
    "    cur_df = df[df['crop_type'] == crop].reset_index(drop=True)\n",
    "    unique_field_ids = cur_df['field_id'].unique()\n",
    "    ind = np.arange(len(unique_field_ids))\n",
    "    np.random.shuffle(ind)\n",
    "    n_val = int(round(val_fraction * len(ind)))\n",
    "    df_val.append(cur_df[cur_df['field_id'].isin(unique_field_ids[ind[:n_val]])])\n",
    "    df_train.append(cur_df[cur_df['field_id'].isin(unique_field_ids[ind[n_val:]])])\n",
    "df_train = pd.concat(df_train, ignore_index=True)\n",
    "df_val = pd.concat(df_val, ignore_index=True)"
   ]
  },
  {
   "cell_type": "markdown",
   "id": "aa90d57c-57e4-4031-a0bd-ffd3aac76346",
   "metadata": {},
   "source": [
    "## Exclude fields with area < 5 pixels"
   ]
  },
  {
   "cell_type": "code",
   "execution_count": 18,
   "id": "gCEOXwgtGwbP",
   "metadata": {
    "id": "gCEOXwgtGwbP"
   },
   "outputs": [],
   "source": [
    "df_train = df_train[df_train['field_area'] >= 5].reset_index(drop=True)\n",
    "df_val = df_val[df_val['field_area'] >= 5].reset_index(drop=True)"
   ]
  },
  {
   "cell_type": "markdown",
   "id": "Etysg8Y8m0H5",
   "metadata": {},
   "source": [
    "## Crop and normalize the data"
   ]
  },
  {
   "cell_type": "code",
   "execution_count": 19,
   "id": "3b8d95be-f2cc-4043-a9ca-76a5b07acfe8",
   "metadata": {},
   "outputs": [],
   "source": [
    "patch_size = 16"
   ]
  },
  {
   "cell_type": "code",
   "execution_count": 20,
   "id": "2hX7SpwQe0H5",
   "metadata": {},
   "outputs": [],
   "source": [
    "def crop_one_field(df, i, means, stds, size=16):\n",
    "    imgs = []\n",
    "    for band in BAND_NAMES:\n",
    "        source_fn = rf\"{df.iloc[i]['source_path']}{band}.tif\"\n",
    "        with rasterio.open(source_fn) as src:\n",
    "            imgs.append(src.read()[0].astype(np.float64))\n",
    "    imgs = np.array(imgs)\n",
    "    \n",
    "    field_id = df.iloc[i]['field_id']\n",
    "\n",
    "    with rasterio.open(df.iloc[i]['field_path']) as src:\n",
    "        fields = src.read()[0].astype(np.int64)\n",
    "        imgs = np.concatenate([imgs, fields.reshape((1,) + fields.shape)])\n",
    "\n",
    "    # z-scoring of the data\n",
    "    imgs[:len(means)] = (imgs[:len(means)] - means.reshape(-1,1,1)) / stds.reshape(-1,1,1)\n",
    "   \n",
    "    # pad the image\n",
    "    hs = int(size/2)\n",
    "    imgs = np.pad(imgs, ((0, 0), (hs, hs), (hs, hs)))\n",
    "    imgs[-1] = np.where(imgs[-1] == field_id, 1, 0)\n",
    "\n",
    "    # crop \n",
    "    ind = [int(df.iloc[i]['center_y'] + hs), \n",
    "           int(df.iloc[i]['center_x'] + hs)]\n",
    "    imgs = imgs[:, ind[0]-hs:ind[0]+hs, ind[1]-hs:ind[1]+hs]\n",
    "    io.imsave(df['data_path'].iloc[i], imgs)"
   ]
  },
  {
   "cell_type": "code",
   "execution_count": 21,
   "id": "B5-1dTp8xaPv",
   "metadata": {
    "id": "B5-1dTp8xaPv"
   },
   "outputs": [],
   "source": [
    "def save_cropped(df, means, stds, size):\n",
    "    for i in tqdm(range(len(df))):\n",
    "        if not os.path.exists(df['data_path'].iloc[i]):\n",
    "            crop_one_field(df, i, means, stds, size=size)"
   ]
  },
  {
   "cell_type": "code",
   "execution_count": 22,
   "id": "BRwkXSL33k6t",
   "metadata": {
    "id": "BRwkXSL33k6t"
   },
   "outputs": [],
   "source": [
    "cropped_path = path + 'data_cropped'\n",
    "os.makedirs(cropped_path, exist_ok=True)"
   ]
  },
  {
   "cell_type": "code",
   "execution_count": 23,
   "id": "2aa928ad-b044-4f96-bdd0-70ba646dca7c",
   "metadata": {},
   "outputs": [],
   "source": [
    "def add_cropped_path(df):\n",
    "    df['data_path'] = [rf\"{cropped_path}/{df['field_id'].iloc[i]}_\"\n",
    "                       rf\"{df['source_path'].iloc[i].split('_')[-1].rstrip('/')}.tif\" \n",
    "                       for i in range(len(df))]\n",
    "    return df"
   ]
  },
  {
   "cell_type": "code",
   "execution_count": 24,
   "id": "3OyTZmcHv6XY",
   "metadata": {
    "id": "3OyTZmcHv6XY"
   },
   "outputs": [],
   "source": [
    "df_val = add_cropped_path(df_val)\n",
    "df_train = add_cropped_path(df_train)"
   ]
  },
  {
   "cell_type": "code",
   "execution_count": 25,
   "id": "1BieEopo3njL",
   "metadata": {
    "colab": {
     "base_uri": "https://localhost:8080/"
    },
    "id": "1BieEopo3njL",
    "outputId": "64ac3fa1-4f19-433b-a327-7d064ab720bb"
   },
   "outputs": [
    {
     "name": "stderr",
     "output_type": "stream",
     "text": [
      "100%|███████████████████████████████████████████████████████████████████████████████████| 1114/1114 [00:00<00:00, 60271.85it/s]\n",
      "100%|███████████████████████████████████████████████████████████████████████████████████| 4459/4459 [00:00<00:00, 64306.77it/s]\n"
     ]
    }
   ],
   "source": [
    "save_cropped(df_val, means, stds, patch_size)\n",
    "save_cropped(df_train,  means, stds, patch_size)"
   ]
  },
  {
   "cell_type": "markdown",
   "id": "yCvvWdPUH5yU",
   "metadata": {
    "id": "yCvvWdPUH5yU"
   },
   "source": [
    "## Prepare the test dataset"
   ]
  },
  {
   "cell_type": "code",
   "execution_count": 26,
   "id": "8OkzF6RDHedl",
   "metadata": {
    "id": "8OkzF6RDHedl"
   },
   "outputs": [],
   "source": [
    "test_paths = os.listdir(os.path.join(data_dir, test_label_collection))\n",
    "test_ids = [fn.split('_')[-1] for fn in test_paths if 'labels_test' in fn]\n",
    "\n",
    "field_paths = [f'{data_dir}/{test_label_collection}/{test_label_collection}_{i}/field_ids.tif' \n",
    "               for i in test_ids]\n",
    "label_paths = [f'{data_dir}/{test_label_collection}/{test_label_collection}_{i}/raster_labels.tif' \n",
    "               for i in test_ids]\n",
    "source_paths = [f'{data_dir}/{source_collection}/{source_collection}_{i}/' \n",
    "               for i in test_ids]"
   ]
  },
  {
   "cell_type": "code",
   "execution_count": 27,
   "id": "BBrtOyDsIvct",
   "metadata": {
    "colab": {
     "base_uri": "https://localhost:8080/",
     "height": 250
    },
    "id": "BBrtOyDsIvct",
    "outputId": "5f71200e-b6c3-4fa8-b952-71560dbaf5bb"
   },
   "outputs": [
    {
     "data": {
      "text/html": [
       "<div>\n",
       "<style scoped>\n",
       "    .dataframe tbody tr th:only-of-type {\n",
       "        vertical-align: middle;\n",
       "    }\n",
       "\n",
       "    .dataframe tbody tr th {\n",
       "        vertical-align: top;\n",
       "    }\n",
       "\n",
       "    .dataframe thead th {\n",
       "        text-align: right;\n",
       "    }\n",
       "</style>\n",
       "<table border=\"1\" class=\"dataframe\">\n",
       "  <thead>\n",
       "    <tr style=\"text-align: right;\">\n",
       "      <th></th>\n",
       "      <th>folder_id</th>\n",
       "      <th>field_path</th>\n",
       "      <th>label_path</th>\n",
       "      <th>source_path</th>\n",
       "    </tr>\n",
       "  </thead>\n",
       "  <tbody>\n",
       "    <tr>\n",
       "      <th>0</th>\n",
       "      <td>eac11</td>\n",
       "      <td>agrifield_data/data/ref_agrifieldnet_competiti...</td>\n",
       "      <td>agrifield_data/data/ref_agrifieldnet_competiti...</td>\n",
       "      <td>agrifield_data/data/ref_agrifieldnet_competiti...</td>\n",
       "    </tr>\n",
       "    <tr>\n",
       "      <th>1</th>\n",
       "      <td>e0eed</td>\n",
       "      <td>agrifield_data/data/ref_agrifieldnet_competiti...</td>\n",
       "      <td>agrifield_data/data/ref_agrifieldnet_competiti...</td>\n",
       "      <td>agrifield_data/data/ref_agrifieldnet_competiti...</td>\n",
       "    </tr>\n",
       "    <tr>\n",
       "      <th>2</th>\n",
       "      <td>128f8</td>\n",
       "      <td>agrifield_data/data/ref_agrifieldnet_competiti...</td>\n",
       "      <td>agrifield_data/data/ref_agrifieldnet_competiti...</td>\n",
       "      <td>agrifield_data/data/ref_agrifieldnet_competiti...</td>\n",
       "    </tr>\n",
       "    <tr>\n",
       "      <th>3</th>\n",
       "      <td>c19b5</td>\n",
       "      <td>agrifield_data/data/ref_agrifieldnet_competiti...</td>\n",
       "      <td>agrifield_data/data/ref_agrifieldnet_competiti...</td>\n",
       "      <td>agrifield_data/data/ref_agrifieldnet_competiti...</td>\n",
       "    </tr>\n",
       "    <tr>\n",
       "      <th>4</th>\n",
       "      <td>2d6ad</td>\n",
       "      <td>agrifield_data/data/ref_agrifieldnet_competiti...</td>\n",
       "      <td>agrifield_data/data/ref_agrifieldnet_competiti...</td>\n",
       "      <td>agrifield_data/data/ref_agrifieldnet_competiti...</td>\n",
       "    </tr>\n",
       "  </tbody>\n",
       "</table>\n",
       "</div>"
      ],
      "text/plain": [
       "  folder_id                                         field_path  \\\n",
       "0     eac11  agrifield_data/data/ref_agrifieldnet_competiti...   \n",
       "1     e0eed  agrifield_data/data/ref_agrifieldnet_competiti...   \n",
       "2     128f8  agrifield_data/data/ref_agrifieldnet_competiti...   \n",
       "3     c19b5  agrifield_data/data/ref_agrifieldnet_competiti...   \n",
       "4     2d6ad  agrifield_data/data/ref_agrifieldnet_competiti...   \n",
       "\n",
       "                                          label_path  \\\n",
       "0  agrifield_data/data/ref_agrifieldnet_competiti...   \n",
       "1  agrifield_data/data/ref_agrifieldnet_competiti...   \n",
       "2  agrifield_data/data/ref_agrifieldnet_competiti...   \n",
       "3  agrifield_data/data/ref_agrifieldnet_competiti...   \n",
       "4  agrifield_data/data/ref_agrifieldnet_competiti...   \n",
       "\n",
       "                                         source_path  \n",
       "0  agrifield_data/data/ref_agrifieldnet_competiti...  \n",
       "1  agrifield_data/data/ref_agrifieldnet_competiti...  \n",
       "2  agrifield_data/data/ref_agrifieldnet_competiti...  \n",
       "3  agrifield_data/data/ref_agrifieldnet_competiti...  \n",
       "4  agrifield_data/data/ref_agrifieldnet_competiti...  "
      ]
     },
     "execution_count": 27,
     "metadata": {},
     "output_type": "execute_result"
    }
   ],
   "source": [
    "test_data = pd.DataFrame(np.array([test_ids, field_paths, label_paths, source_paths]).transpose(), \n",
    "                          columns=['folder_id', 'field_path', 'label_path', 'source_path'])\n",
    "test_data.head()"
   ]
  },
  {
   "cell_type": "code",
   "execution_count": 28,
   "id": "ues-moZF_JHx",
   "metadata": {
    "colab": {
     "base_uri": "https://localhost:8080/"
    },
    "id": "ues-moZF_JHx",
    "outputId": "06915020-185e-4154-ad24-c148f952cd74"
   },
   "outputs": [
    {
     "name": "stderr",
     "output_type": "stream",
     "text": [
      "100%|███████████████████████████████████████████████████████████████████████████████████████| 707/707 [00:02<00:00, 257.91it/s]\n"
     ]
    }
   ],
   "source": [
    "df_test = extract_field_crop_data(test_data)\n",
    "df_test['crop_ind'] = 0\n",
    "df_test['crop_type'] = 1"
   ]
  },
  {
   "cell_type": "code",
   "execution_count": 29,
   "id": "9d77931f-b095-464b-aab2-e9404a97c7ea",
   "metadata": {},
   "outputs": [],
   "source": [
    "df_test = add_cropped_path(df_test)"
   ]
  },
  {
   "cell_type": "code",
   "execution_count": 30,
   "id": "fe9a26a7-e5cb-4f42-8507-dfd9aec602d6",
   "metadata": {},
   "outputs": [
    {
     "name": "stderr",
     "output_type": "stream",
     "text": [
      "100%|███████████████████████████████████████████████████████████████████████████████████| 1606/1606 [00:00<00:00, 80377.69it/s]\n"
     ]
    }
   ],
   "source": [
    "save_cropped(df_test, means, stds, patch_size)"
   ]
  },
  {
   "cell_type": "markdown",
   "id": "3d6ea6b5-3f14-4c42-a010-bfcfc99d1ff6",
   "metadata": {},
   "source": [
    "## Save train, validation, and test dataframes"
   ]
  },
  {
   "cell_type": "code",
   "execution_count": 31,
   "id": "f05f2c4b-4fcc-43af-a2d8-9d1fec060024",
   "metadata": {},
   "outputs": [],
   "source": [
    "df_train.to_csv(path + 'df_train.csv', index=False)\n",
    "df_val.to_csv(path + 'df_val.csv', index=False)\n",
    "df_test.to_csv(path + 'df_test.csv', index=False)"
   ]
  },
  {
   "cell_type": "code",
   "execution_count": null,
   "id": "3a536fcf-35c4-457f-95e3-a5f6632b81cf",
   "metadata": {},
   "outputs": [],
   "source": []
  }
 ],
 "metadata": {
  "accelerator": "GPU",
  "colab": {
   "collapsed_sections": [],
   "include_colab_link": true,
   "provenance": []
  },
  "gpuClass": "standard",
  "kernelspec": {
   "display_name": "agri",
   "language": "python",
   "name": "agri"
  },
  "language_info": {
   "codemirror_mode": {
    "name": "ipython",
    "version": 3
   },
   "file_extension": ".py",
   "mimetype": "text/x-python",
   "name": "python",
   "nbconvert_exporter": "python",
   "pygments_lexer": "ipython3",
   "version": "3.7.13"
  }
 },
 "nbformat": 4,
 "nbformat_minor": 5
}
