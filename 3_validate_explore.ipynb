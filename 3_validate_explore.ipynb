{
  "cells": [
    {
      "cell_type": "markdown",
      "metadata": {
        "id": "view-in-github",
        "colab_type": "text"
      },
      "source": [
        "<a href=\"https://colab.research.google.com/github/amedyukhina/AgrifieldNet/blob/main/3_validate_explore.ipynb\" target=\"_parent\"><img src=\"https://colab.research.google.com/assets/colab-badge.svg\" alt=\"Open In Colab\"/></a>"
      ]
    },
    {
      "cell_type": "markdown",
      "id": "77b4743b",
      "metadata": {
        "id": "77b4743b"
      },
      "source": [
        "# AgrifieldNet India Competition"
      ]
    },
    {
      "cell_type": "markdown",
      "id": "be36e335",
      "metadata": {
        "id": "be36e335"
      },
      "source": [
        "## Install and import dependencies\n"
      ]
    },
    {
      "cell_type": "code",
      "execution_count": 1,
      "id": "KiwG2IraDe6h",
      "metadata": {
        "colab": {
          "base_uri": "https://localhost:8080/"
        },
        "id": "KiwG2IraDe6h",
        "outputId": "de893090-b74f-4a30-ee8b-5b00341354c3"
      },
      "outputs": [
        {
          "output_type": "stream",
          "name": "stdout",
          "text": [
            "Overwriting requirements.txt\n"
          ]
        }
      ],
      "source": [
        "%%writefile requirements.txt\n",
        "\n",
        "pandas==1.3.5\n",
        "scikit-learn==1.0.2\n",
        "tqdm==4.64.0\n",
        "numpy==1.21.6\n",
        "torch==1.12.1\n",
        "torchvision==0.13.1\n",
        "scikit-image==0.18.3\n",
        "matplotlib==3.2.2"
      ]
    },
    {
      "cell_type": "code",
      "execution_count": 2,
      "id": "qafN0lN8D-_N",
      "metadata": {
        "colab": {
          "base_uri": "https://localhost:8080/"
        },
        "id": "qafN0lN8D-_N",
        "outputId": "d1a48e15-d9d6-47f7-8b5e-a6506e633c1c"
      },
      "outputs": [
        {
          "output_type": "stream",
          "name": "stdout",
          "text": [
            "Looking in indexes: https://pypi.org/simple, https://us-python.pkg.dev/colab-wheels/public/simple/\n",
            "Requirement already satisfied: pandas==1.3.5 in /usr/local/lib/python3.7/dist-packages (from -r requirements.txt (line 2)) (1.3.5)\n",
            "Requirement already satisfied: scikit-learn==1.0.2 in /usr/local/lib/python3.7/dist-packages (from -r requirements.txt (line 3)) (1.0.2)\n",
            "Requirement already satisfied: tqdm==4.64.0 in /usr/local/lib/python3.7/dist-packages (from -r requirements.txt (line 4)) (4.64.0)\n",
            "Requirement already satisfied: numpy==1.21.6 in /usr/local/lib/python3.7/dist-packages (from -r requirements.txt (line 5)) (1.21.6)\n",
            "Requirement already satisfied: torch==1.12.1 in /usr/local/lib/python3.7/dist-packages (from -r requirements.txt (line 6)) (1.12.1+cu113)\n",
            "Requirement already satisfied: torchvision==0.13.1 in /usr/local/lib/python3.7/dist-packages (from -r requirements.txt (line 7)) (0.13.1+cu113)\n",
            "Requirement already satisfied: scikit-image==0.18.3 in /usr/local/lib/python3.7/dist-packages (from -r requirements.txt (line 8)) (0.18.3)\n",
            "Requirement already satisfied: matplotlib==3.2.2 in /usr/local/lib/python3.7/dist-packages (from -r requirements.txt (line 9)) (3.2.2)\n",
            "Requirement already satisfied: python-dateutil>=2.7.3 in /usr/local/lib/python3.7/dist-packages (from pandas==1.3.5->-r requirements.txt (line 2)) (2.8.2)\n",
            "Requirement already satisfied: pytz>=2017.3 in /usr/local/lib/python3.7/dist-packages (from pandas==1.3.5->-r requirements.txt (line 2)) (2022.4)\n",
            "Requirement already satisfied: scipy>=1.1.0 in /usr/local/lib/python3.7/dist-packages (from scikit-learn==1.0.2->-r requirements.txt (line 3)) (1.7.3)\n",
            "Requirement already satisfied: joblib>=0.11 in /usr/local/lib/python3.7/dist-packages (from scikit-learn==1.0.2->-r requirements.txt (line 3)) (1.2.0)\n",
            "Requirement already satisfied: threadpoolctl>=2.0.0 in /usr/local/lib/python3.7/dist-packages (from scikit-learn==1.0.2->-r requirements.txt (line 3)) (3.1.0)\n",
            "Requirement already satisfied: typing-extensions in /usr/local/lib/python3.7/dist-packages (from torch==1.12.1->-r requirements.txt (line 6)) (4.1.1)\n",
            "Requirement already satisfied: requests in /usr/local/lib/python3.7/dist-packages (from torchvision==0.13.1->-r requirements.txt (line 7)) (2.23.0)\n",
            "Requirement already satisfied: pillow!=8.3.*,>=5.3.0 in /usr/local/lib/python3.7/dist-packages (from torchvision==0.13.1->-r requirements.txt (line 7)) (7.1.2)\n",
            "Requirement already satisfied: networkx>=2.0 in /usr/local/lib/python3.7/dist-packages (from scikit-image==0.18.3->-r requirements.txt (line 8)) (2.6.3)\n",
            "Requirement already satisfied: tifffile>=2019.7.26 in /usr/local/lib/python3.7/dist-packages (from scikit-image==0.18.3->-r requirements.txt (line 8)) (2021.11.2)\n",
            "Requirement already satisfied: PyWavelets>=1.1.1 in /usr/local/lib/python3.7/dist-packages (from scikit-image==0.18.3->-r requirements.txt (line 8)) (1.3.0)\n",
            "Requirement already satisfied: imageio>=2.3.0 in /usr/local/lib/python3.7/dist-packages (from scikit-image==0.18.3->-r requirements.txt (line 8)) (2.9.0)\n",
            "Requirement already satisfied: pyparsing!=2.0.4,!=2.1.2,!=2.1.6,>=2.0.1 in /usr/local/lib/python3.7/dist-packages (from matplotlib==3.2.2->-r requirements.txt (line 9)) (3.0.9)\n",
            "Requirement already satisfied: kiwisolver>=1.0.1 in /usr/local/lib/python3.7/dist-packages (from matplotlib==3.2.2->-r requirements.txt (line 9)) (1.4.4)\n",
            "Requirement already satisfied: cycler>=0.10 in /usr/local/lib/python3.7/dist-packages (from matplotlib==3.2.2->-r requirements.txt (line 9)) (0.11.0)\n",
            "Requirement already satisfied: six>=1.5 in /usr/local/lib/python3.7/dist-packages (from python-dateutil>=2.7.3->pandas==1.3.5->-r requirements.txt (line 2)) (1.15.0)\n",
            "Requirement already satisfied: urllib3!=1.25.0,!=1.25.1,<1.26,>=1.21.1 in /usr/local/lib/python3.7/dist-packages (from requests->torchvision==0.13.1->-r requirements.txt (line 7)) (1.24.3)\n",
            "Requirement already satisfied: chardet<4,>=3.0.2 in /usr/local/lib/python3.7/dist-packages (from requests->torchvision==0.13.1->-r requirements.txt (line 7)) (3.0.4)\n",
            "Requirement already satisfied: certifi>=2017.4.17 in /usr/local/lib/python3.7/dist-packages (from requests->torchvision==0.13.1->-r requirements.txt (line 7)) (2022.9.24)\n",
            "Requirement already satisfied: idna<3,>=2.5 in /usr/local/lib/python3.7/dist-packages (from requests->torchvision==0.13.1->-r requirements.txt (line 7)) (2.10)\n"
          ]
        }
      ],
      "source": [
        "!pip install -r requirements.txt"
      ]
    },
    {
      "cell_type": "code",
      "execution_count": 3,
      "id": "28ea6e7d",
      "metadata": {
        "id": "28ea6e7d"
      },
      "outputs": [],
      "source": [
        "import os\n",
        "import time\n",
        "import json\n",
        "import numpy as np\n",
        "import pandas as pd\n",
        "from tqdm import tqdm\n",
        "import shutil\n",
        "import numpy as np\n",
        "import pandas as pd\n",
        "import torch\n",
        "import torch.utils.data\n",
        "from torch import nn\n",
        "from skimage import io\n",
        "from torchvision import transforms as torch_transforms\n",
        "from torchvision import models\n",
        "import pylab as plt\n",
        "from skimage.segmentation import mark_boundaries"
      ]
    },
    {
      "cell_type": "markdown",
      "id": "fQpDLC79m5A4",
      "metadata": {
        "id": "fQpDLC79m5A4"
      },
      "source": [
        "## Specify path, random seed, and band names"
      ]
    },
    {
      "cell_type": "code",
      "source": [
        "# path = 'agrifield_data/'\n",
        "path = 'gdrive/MyDrive/agrifield_data/'"
      ],
      "metadata": {
        "id": "vaxBqi27H2j3"
      },
      "id": "vaxBqi27H2j3",
      "execution_count": 4,
      "outputs": []
    },
    {
      "cell_type": "code",
      "source": [
        "# drive.flush_and_unmount()"
      ],
      "metadata": {
        "id": "Sc8aQOXRTzxs"
      },
      "id": "Sc8aQOXRTzxs",
      "execution_count": 5,
      "outputs": []
    },
    {
      "cell_type": "code",
      "source": [
        "if 'gdrive' in path:\n",
        "    from google.colab import drive\n",
        "    drive.mount('/content/gdrive')"
      ],
      "metadata": {
        "colab": {
          "base_uri": "https://localhost:8080/"
        },
        "id": "XaKPrmT7mK4X",
        "outputId": "db3d14e3-7199-48dc-d933-2611a47934cc"
      },
      "id": "XaKPrmT7mK4X",
      "execution_count": 6,
      "outputs": [
        {
          "output_type": "stream",
          "name": "stdout",
          "text": [
            "Mounted at /content/gdrive\n"
          ]
        }
      ]
    },
    {
      "cell_type": "code",
      "execution_count": 7,
      "id": "rKuZKO3em_Av",
      "metadata": {
        "id": "rKuZKO3em_Av"
      },
      "outputs": [],
      "source": [
        "BAND_NAMES = ['B01', 'B02', 'B03', 'B04','B05', 'B06', 'B07', \n",
        "              'B08','B8A', 'B09', 'B11', 'B12']"
      ]
    },
    {
      "cell_type": "markdown",
      "id": "lLqI5XgBOyxE",
      "metadata": {
        "id": "lLqI5XgBOyxE"
      },
      "source": [
        "## Extract labels"
      ]
    },
    {
      "cell_type": "code",
      "source": [
        "data_dir = path + 'data'\n",
        "train_label_collection = 'ref_agrifieldnet_competition_v1_labels_train'"
      ],
      "metadata": {
        "id": "u_Z6wsgJI5fC"
      },
      "id": "u_Z6wsgJI5fC",
      "execution_count": 8,
      "outputs": []
    },
    {
      "cell_type": "code",
      "execution_count": 9,
      "id": "p9s-spgZO12F",
      "metadata": {
        "id": "p9s-spgZO12F"
      },
      "outputs": [],
      "source": [
        "f = os.listdir(os.path.join(data_dir, train_label_collection))[0]\n",
        "with open(os.path.join(data_dir, train_label_collection, f, 'stac.json')) as ll:\n",
        "    label_json = json.load(ll)"
      ]
    },
    {
      "cell_type": "code",
      "execution_count": 10,
      "id": "7rjt5idSPvjH",
      "metadata": {
        "colab": {
          "base_uri": "https://localhost:8080/"
        },
        "id": "7rjt5idSPvjH",
        "outputId": "5c3de3be-c30c-4a9f-f92c-13c1922d267d"
      },
      "outputs": [
        {
          "output_type": "execute_result",
          "data": {
            "text/plain": [
              "{1: 'Wheat',\n",
              " 2: 'Mustard',\n",
              " 3: 'Lentil',\n",
              " 4: 'No Crop',\n",
              " 6: 'Sugarcane',\n",
              " 8: 'Garlic',\n",
              " 15: 'Potato',\n",
              " 5: 'Green pea',\n",
              " 16: 'Bersem',\n",
              " 14: 'Coriander',\n",
              " 13: 'Gram',\n",
              " 9: 'Maize',\n",
              " 36: 'Rice'}"
            ]
          },
          "metadata": {},
          "execution_count": 10
        }
      ],
      "source": [
        "crop_dict = {asset.get('values')[0]:asset.get('summary') \n",
        "  for asset in label_json['assets']['raster_labels']['file:values']}\n",
        "crop_dict"
      ]
    },
    {
      "cell_type": "markdown",
      "id": "Etysg8Y8m0H5",
      "metadata": {
        "id": "Etysg8Y8m0H5"
      },
      "source": [
        "## List models"
      ]
    },
    {
      "cell_type": "code",
      "source": [
        "model_dir = os.path.join(path, 'models')\n",
        "models = os.listdir(model_dir)\n",
        "models.sort()\n",
        "models"
      ],
      "metadata": {
        "id": "XkRcgAe8bsnI",
        "colab": {
          "base_uri": "https://localhost:8080/"
        },
        "outputId": "2b634bf6-8146-41fe-c86f-9b6d0523b690"
      },
      "id": "XkRcgAe8bsnI",
      "execution_count": 11,
      "outputs": [
        {
          "output_type": "execute_result",
          "data": {
            "text/plain": [
              "['1666567767_Sun Oct 23 23:29:27 2022_transformer',\n",
              " '1666567834_Sun Oct 23 23:30:34 2022_transformer',\n",
              " '1666568678_Sun Oct 23 23:44:38 2022_transformer',\n",
              " '1666568845_Sun Oct 23 23:47:25 2022_transformer']"
            ]
          },
          "metadata": {},
          "execution_count": 11
        }
      ]
    },
    {
      "cell_type": "code",
      "source": [
        "model_name = models[-1]\n",
        "os.listdir(os.path.join(model_dir, model_name))"
      ],
      "metadata": {
        "colab": {
          "base_uri": "https://localhost:8080/"
        },
        "id": "wd3ceuqbQ3Gn",
        "outputId": "058ce295-0124-4785-b430-ea3c39fea337"
      },
      "id": "wd3ceuqbQ3Gn",
      "execution_count": 12,
      "outputs": [
        {
          "output_type": "execute_result",
          "data": {
            "text/plain": [
              "['last_model.pth',\n",
              " 'best_model.pth',\n",
              " 'predictions_val.csv',\n",
              " 'predictions_test.csv']"
            ]
          },
          "metadata": {},
          "execution_count": 12
        }
      ]
    },
    {
      "cell_type": "markdown",
      "id": "W_EsaEYQHDq9",
      "metadata": {
        "id": "W_EsaEYQHDq9"
      },
      "source": [
        "## Load predictions"
      ]
    },
    {
      "cell_type": "code",
      "source": [
        "df = pd.read_csv(os.path.join(model_dir, model_name, 'predictions_val.csv'))\n",
        "df"
      ],
      "metadata": {
        "colab": {
          "base_uri": "https://localhost:8080/",
          "height": 505
        },
        "id": "EO50ycIRRGWq",
        "outputId": "69e43a49-c701-46d9-da40-62298ea4b0b7"
      },
      "id": "EO50ycIRRGWq",
      "execution_count": 13,
      "outputs": [
        {
          "output_type": "execute_result",
          "data": {
            "text/plain": [
              "      field_id      Wheat    Mustard     Lentil   No Crop  Green pea  \\\n",
              "0            2  17.863952  21.389661  12.439615  4.769005  19.961188   \n",
              "1            4   2.079540   2.281340   3.443346  2.417882   4.287369   \n",
              "2            5   1.310770   3.020650   1.419340  2.610075   3.656757   \n",
              "3           15   1.826647   2.264031   1.748891  3.050449   4.139049   \n",
              "4           24   1.353994   3.142085   1.273449  0.591823   3.604212   \n",
              "...        ...        ...        ...        ...       ...        ...   \n",
              "1072      7305   5.406169   3.965868   3.490047  1.498671   4.470413   \n",
              "1073      7309   3.701206   2.355642   3.077132  1.499974   3.328174   \n",
              "1074      7311   1.344250   1.158925   1.010313  0.346005   1.327069   \n",
              "1075      7320   1.331588   0.479652   0.697941  4.162221   0.611792   \n",
              "1076      7322   0.807988   0.224738   0.480025  2.150900   0.316151   \n",
              "\n",
              "      Sugarcane     Garlic      Maize       Gram  Coriander     Potato  \\\n",
              "0     18.497163  55.696275   9.929184  28.955636  22.956523  32.782628   \n",
              "1      4.266822   2.191983   0.883677   2.732362   1.869808   2.270507   \n",
              "2      0.950977   1.172173  14.110898   5.636921   2.174362   3.920650   \n",
              "3      1.355242   0.907677   1.452012   2.626111   1.148424   2.549379   \n",
              "4      1.134877   3.464278   1.673673   3.757929   1.919581   3.834338   \n",
              "...         ...        ...        ...        ...        ...        ...   \n",
              "1072   4.311110  12.306997   2.501896   7.744050   4.424707   6.303095   \n",
              "1073   2.496104   4.849047   1.802670   4.687505   2.398232   3.276198   \n",
              "1074   0.872310   2.821677   0.847716   2.389694   1.264974   1.795196   \n",
              "1075   1.226154   0.318039   0.911980   1.194112   0.472278   0.687102   \n",
              "1076   0.767818   0.178900   0.412720   0.565471   0.280743   0.330951   \n",
              "\n",
              "         Bersem      Rice  crop_type  field_area  \\\n",
              "0     13.244335  9.514830          2       268.0   \n",
              "1      2.370055  0.905310          2        32.0   \n",
              "2      1.748647  3.267781          2        45.0   \n",
              "3      6.548051  1.384035          2        31.0   \n",
              "4      2.286236  0.963525          2        29.0   \n",
              "...         ...       ...        ...         ...   \n",
              "1072   2.389631  3.187343         13        62.0   \n",
              "1073   2.041421  2.486694         13        38.0   \n",
              "1074   0.798999  1.022872         13        17.0   \n",
              "1075   0.395827  2.511314         36        15.0   \n",
              "1076   0.244651  1.238944         36         8.0   \n",
              "\n",
              "                          data_path  \n",
              "0     data_cropped/6117.0_d838c.tif  \n",
              "1     data_cropped/1234.0_516a0.tif  \n",
              "2     data_cropped/6408.0_0c691.tif  \n",
              "3     data_cropped/2712.0_048eb.tif  \n",
              "4     data_cropped/5494.0_e5b6a.tif  \n",
              "...                             ...  \n",
              "1072  data_cropped/5477.0_6fb0c.tif  \n",
              "1073  data_cropped/5771.0_e9fa0.tif  \n",
              "1074  data_cropped/6260.0_0d0b9.tif  \n",
              "1075  data_cropped/4732.0_e2cf7.tif  \n",
              "1076  data_cropped/3644.0_a0597.tif  \n",
              "\n",
              "[1077 rows x 17 columns]"
            ],
            "text/html": [
              "\n",
              "  <div id=\"df-c448b86e-9ebf-4323-b48c-b9652944b119\">\n",
              "    <div class=\"colab-df-container\">\n",
              "      <div>\n",
              "<style scoped>\n",
              "    .dataframe tbody tr th:only-of-type {\n",
              "        vertical-align: middle;\n",
              "    }\n",
              "\n",
              "    .dataframe tbody tr th {\n",
              "        vertical-align: top;\n",
              "    }\n",
              "\n",
              "    .dataframe thead th {\n",
              "        text-align: right;\n",
              "    }\n",
              "</style>\n",
              "<table border=\"1\" class=\"dataframe\">\n",
              "  <thead>\n",
              "    <tr style=\"text-align: right;\">\n",
              "      <th></th>\n",
              "      <th>field_id</th>\n",
              "      <th>Wheat</th>\n",
              "      <th>Mustard</th>\n",
              "      <th>Lentil</th>\n",
              "      <th>No Crop</th>\n",
              "      <th>Green pea</th>\n",
              "      <th>Sugarcane</th>\n",
              "      <th>Garlic</th>\n",
              "      <th>Maize</th>\n",
              "      <th>Gram</th>\n",
              "      <th>Coriander</th>\n",
              "      <th>Potato</th>\n",
              "      <th>Bersem</th>\n",
              "      <th>Rice</th>\n",
              "      <th>crop_type</th>\n",
              "      <th>field_area</th>\n",
              "      <th>data_path</th>\n",
              "    </tr>\n",
              "  </thead>\n",
              "  <tbody>\n",
              "    <tr>\n",
              "      <th>0</th>\n",
              "      <td>2</td>\n",
              "      <td>17.863952</td>\n",
              "      <td>21.389661</td>\n",
              "      <td>12.439615</td>\n",
              "      <td>4.769005</td>\n",
              "      <td>19.961188</td>\n",
              "      <td>18.497163</td>\n",
              "      <td>55.696275</td>\n",
              "      <td>9.929184</td>\n",
              "      <td>28.955636</td>\n",
              "      <td>22.956523</td>\n",
              "      <td>32.782628</td>\n",
              "      <td>13.244335</td>\n",
              "      <td>9.514830</td>\n",
              "      <td>2</td>\n",
              "      <td>268.0</td>\n",
              "      <td>data_cropped/6117.0_d838c.tif</td>\n",
              "    </tr>\n",
              "    <tr>\n",
              "      <th>1</th>\n",
              "      <td>4</td>\n",
              "      <td>2.079540</td>\n",
              "      <td>2.281340</td>\n",
              "      <td>3.443346</td>\n",
              "      <td>2.417882</td>\n",
              "      <td>4.287369</td>\n",
              "      <td>4.266822</td>\n",
              "      <td>2.191983</td>\n",
              "      <td>0.883677</td>\n",
              "      <td>2.732362</td>\n",
              "      <td>1.869808</td>\n",
              "      <td>2.270507</td>\n",
              "      <td>2.370055</td>\n",
              "      <td>0.905310</td>\n",
              "      <td>2</td>\n",
              "      <td>32.0</td>\n",
              "      <td>data_cropped/1234.0_516a0.tif</td>\n",
              "    </tr>\n",
              "    <tr>\n",
              "      <th>2</th>\n",
              "      <td>5</td>\n",
              "      <td>1.310770</td>\n",
              "      <td>3.020650</td>\n",
              "      <td>1.419340</td>\n",
              "      <td>2.610075</td>\n",
              "      <td>3.656757</td>\n",
              "      <td>0.950977</td>\n",
              "      <td>1.172173</td>\n",
              "      <td>14.110898</td>\n",
              "      <td>5.636921</td>\n",
              "      <td>2.174362</td>\n",
              "      <td>3.920650</td>\n",
              "      <td>1.748647</td>\n",
              "      <td>3.267781</td>\n",
              "      <td>2</td>\n",
              "      <td>45.0</td>\n",
              "      <td>data_cropped/6408.0_0c691.tif</td>\n",
              "    </tr>\n",
              "    <tr>\n",
              "      <th>3</th>\n",
              "      <td>15</td>\n",
              "      <td>1.826647</td>\n",
              "      <td>2.264031</td>\n",
              "      <td>1.748891</td>\n",
              "      <td>3.050449</td>\n",
              "      <td>4.139049</td>\n",
              "      <td>1.355242</td>\n",
              "      <td>0.907677</td>\n",
              "      <td>1.452012</td>\n",
              "      <td>2.626111</td>\n",
              "      <td>1.148424</td>\n",
              "      <td>2.549379</td>\n",
              "      <td>6.548051</td>\n",
              "      <td>1.384035</td>\n",
              "      <td>2</td>\n",
              "      <td>31.0</td>\n",
              "      <td>data_cropped/2712.0_048eb.tif</td>\n",
              "    </tr>\n",
              "    <tr>\n",
              "      <th>4</th>\n",
              "      <td>24</td>\n",
              "      <td>1.353994</td>\n",
              "      <td>3.142085</td>\n",
              "      <td>1.273449</td>\n",
              "      <td>0.591823</td>\n",
              "      <td>3.604212</td>\n",
              "      <td>1.134877</td>\n",
              "      <td>3.464278</td>\n",
              "      <td>1.673673</td>\n",
              "      <td>3.757929</td>\n",
              "      <td>1.919581</td>\n",
              "      <td>3.834338</td>\n",
              "      <td>2.286236</td>\n",
              "      <td>0.963525</td>\n",
              "      <td>2</td>\n",
              "      <td>29.0</td>\n",
              "      <td>data_cropped/5494.0_e5b6a.tif</td>\n",
              "    </tr>\n",
              "    <tr>\n",
              "      <th>...</th>\n",
              "      <td>...</td>\n",
              "      <td>...</td>\n",
              "      <td>...</td>\n",
              "      <td>...</td>\n",
              "      <td>...</td>\n",
              "      <td>...</td>\n",
              "      <td>...</td>\n",
              "      <td>...</td>\n",
              "      <td>...</td>\n",
              "      <td>...</td>\n",
              "      <td>...</td>\n",
              "      <td>...</td>\n",
              "      <td>...</td>\n",
              "      <td>...</td>\n",
              "      <td>...</td>\n",
              "      <td>...</td>\n",
              "      <td>...</td>\n",
              "    </tr>\n",
              "    <tr>\n",
              "      <th>1072</th>\n",
              "      <td>7305</td>\n",
              "      <td>5.406169</td>\n",
              "      <td>3.965868</td>\n",
              "      <td>3.490047</td>\n",
              "      <td>1.498671</td>\n",
              "      <td>4.470413</td>\n",
              "      <td>4.311110</td>\n",
              "      <td>12.306997</td>\n",
              "      <td>2.501896</td>\n",
              "      <td>7.744050</td>\n",
              "      <td>4.424707</td>\n",
              "      <td>6.303095</td>\n",
              "      <td>2.389631</td>\n",
              "      <td>3.187343</td>\n",
              "      <td>13</td>\n",
              "      <td>62.0</td>\n",
              "      <td>data_cropped/5477.0_6fb0c.tif</td>\n",
              "    </tr>\n",
              "    <tr>\n",
              "      <th>1073</th>\n",
              "      <td>7309</td>\n",
              "      <td>3.701206</td>\n",
              "      <td>2.355642</td>\n",
              "      <td>3.077132</td>\n",
              "      <td>1.499974</td>\n",
              "      <td>3.328174</td>\n",
              "      <td>2.496104</td>\n",
              "      <td>4.849047</td>\n",
              "      <td>1.802670</td>\n",
              "      <td>4.687505</td>\n",
              "      <td>2.398232</td>\n",
              "      <td>3.276198</td>\n",
              "      <td>2.041421</td>\n",
              "      <td>2.486694</td>\n",
              "      <td>13</td>\n",
              "      <td>38.0</td>\n",
              "      <td>data_cropped/5771.0_e9fa0.tif</td>\n",
              "    </tr>\n",
              "    <tr>\n",
              "      <th>1074</th>\n",
              "      <td>7311</td>\n",
              "      <td>1.344250</td>\n",
              "      <td>1.158925</td>\n",
              "      <td>1.010313</td>\n",
              "      <td>0.346005</td>\n",
              "      <td>1.327069</td>\n",
              "      <td>0.872310</td>\n",
              "      <td>2.821677</td>\n",
              "      <td>0.847716</td>\n",
              "      <td>2.389694</td>\n",
              "      <td>1.264974</td>\n",
              "      <td>1.795196</td>\n",
              "      <td>0.798999</td>\n",
              "      <td>1.022872</td>\n",
              "      <td>13</td>\n",
              "      <td>17.0</td>\n",
              "      <td>data_cropped/6260.0_0d0b9.tif</td>\n",
              "    </tr>\n",
              "    <tr>\n",
              "      <th>1075</th>\n",
              "      <td>7320</td>\n",
              "      <td>1.331588</td>\n",
              "      <td>0.479652</td>\n",
              "      <td>0.697941</td>\n",
              "      <td>4.162221</td>\n",
              "      <td>0.611792</td>\n",
              "      <td>1.226154</td>\n",
              "      <td>0.318039</td>\n",
              "      <td>0.911980</td>\n",
              "      <td>1.194112</td>\n",
              "      <td>0.472278</td>\n",
              "      <td>0.687102</td>\n",
              "      <td>0.395827</td>\n",
              "      <td>2.511314</td>\n",
              "      <td>36</td>\n",
              "      <td>15.0</td>\n",
              "      <td>data_cropped/4732.0_e2cf7.tif</td>\n",
              "    </tr>\n",
              "    <tr>\n",
              "      <th>1076</th>\n",
              "      <td>7322</td>\n",
              "      <td>0.807988</td>\n",
              "      <td>0.224738</td>\n",
              "      <td>0.480025</td>\n",
              "      <td>2.150900</td>\n",
              "      <td>0.316151</td>\n",
              "      <td>0.767818</td>\n",
              "      <td>0.178900</td>\n",
              "      <td>0.412720</td>\n",
              "      <td>0.565471</td>\n",
              "      <td>0.280743</td>\n",
              "      <td>0.330951</td>\n",
              "      <td>0.244651</td>\n",
              "      <td>1.238944</td>\n",
              "      <td>36</td>\n",
              "      <td>8.0</td>\n",
              "      <td>data_cropped/3644.0_a0597.tif</td>\n",
              "    </tr>\n",
              "  </tbody>\n",
              "</table>\n",
              "<p>1077 rows × 17 columns</p>\n",
              "</div>\n",
              "      <button class=\"colab-df-convert\" onclick=\"convertToInteractive('df-c448b86e-9ebf-4323-b48c-b9652944b119')\"\n",
              "              title=\"Convert this dataframe to an interactive table.\"\n",
              "              style=\"display:none;\">\n",
              "        \n",
              "  <svg xmlns=\"http://www.w3.org/2000/svg\" height=\"24px\"viewBox=\"0 0 24 24\"\n",
              "       width=\"24px\">\n",
              "    <path d=\"M0 0h24v24H0V0z\" fill=\"none\"/>\n",
              "    <path d=\"M18.56 5.44l.94 2.06.94-2.06 2.06-.94-2.06-.94-.94-2.06-.94 2.06-2.06.94zm-11 1L8.5 8.5l.94-2.06 2.06-.94-2.06-.94L8.5 2.5l-.94 2.06-2.06.94zm10 10l.94 2.06.94-2.06 2.06-.94-2.06-.94-.94-2.06-.94 2.06-2.06.94z\"/><path d=\"M17.41 7.96l-1.37-1.37c-.4-.4-.92-.59-1.43-.59-.52 0-1.04.2-1.43.59L10.3 9.45l-7.72 7.72c-.78.78-.78 2.05 0 2.83L4 21.41c.39.39.9.59 1.41.59.51 0 1.02-.2 1.41-.59l7.78-7.78 2.81-2.81c.8-.78.8-2.07 0-2.86zM5.41 20L4 18.59l7.72-7.72 1.47 1.35L5.41 20z\"/>\n",
              "  </svg>\n",
              "      </button>\n",
              "      \n",
              "  <style>\n",
              "    .colab-df-container {\n",
              "      display:flex;\n",
              "      flex-wrap:wrap;\n",
              "      gap: 12px;\n",
              "    }\n",
              "\n",
              "    .colab-df-convert {\n",
              "      background-color: #E8F0FE;\n",
              "      border: none;\n",
              "      border-radius: 50%;\n",
              "      cursor: pointer;\n",
              "      display: none;\n",
              "      fill: #1967D2;\n",
              "      height: 32px;\n",
              "      padding: 0 0 0 0;\n",
              "      width: 32px;\n",
              "    }\n",
              "\n",
              "    .colab-df-convert:hover {\n",
              "      background-color: #E2EBFA;\n",
              "      box-shadow: 0px 1px 2px rgba(60, 64, 67, 0.3), 0px 1px 3px 1px rgba(60, 64, 67, 0.15);\n",
              "      fill: #174EA6;\n",
              "    }\n",
              "\n",
              "    [theme=dark] .colab-df-convert {\n",
              "      background-color: #3B4455;\n",
              "      fill: #D2E3FC;\n",
              "    }\n",
              "\n",
              "    [theme=dark] .colab-df-convert:hover {\n",
              "      background-color: #434B5C;\n",
              "      box-shadow: 0px 1px 3px 1px rgba(0, 0, 0, 0.15);\n",
              "      filter: drop-shadow(0px 1px 2px rgba(0, 0, 0, 0.3));\n",
              "      fill: #FFFFFF;\n",
              "    }\n",
              "  </style>\n",
              "\n",
              "      <script>\n",
              "        const buttonEl =\n",
              "          document.querySelector('#df-c448b86e-9ebf-4323-b48c-b9652944b119 button.colab-df-convert');\n",
              "        buttonEl.style.display =\n",
              "          google.colab.kernel.accessAllowed ? 'block' : 'none';\n",
              "\n",
              "        async function convertToInteractive(key) {\n",
              "          const element = document.querySelector('#df-c448b86e-9ebf-4323-b48c-b9652944b119');\n",
              "          const dataTable =\n",
              "            await google.colab.kernel.invokeFunction('convertToInteractive',\n",
              "                                                     [key], {});\n",
              "          if (!dataTable) return;\n",
              "\n",
              "          const docLinkHtml = 'Like what you see? Visit the ' +\n",
              "            '<a target=\"_blank\" href=https://colab.research.google.com/notebooks/data_table.ipynb>data table notebook</a>'\n",
              "            + ' to learn more about interactive tables.';\n",
              "          element.innerHTML = '';\n",
              "          dataTable['output_type'] = 'display_data';\n",
              "          await google.colab.output.renderOutput(dataTable, element);\n",
              "          const docLink = document.createElement('div');\n",
              "          docLink.innerHTML = docLinkHtml;\n",
              "          element.appendChild(docLink);\n",
              "        }\n",
              "      </script>\n",
              "    </div>\n",
              "  </div>\n",
              "  "
            ]
          },
          "metadata": {},
          "execution_count": 13
        }
      ]
    },
    {
      "cell_type": "code",
      "source": [
        "crop_labels = np.unique(df['crop_type'])\n",
        "crop_columns = [crop_dict[key] for key in crop_labels]\n",
        "probs = df[crop_columns].values\n",
        "field_ids = df['field_id']\n",
        "gt = df['crop_type']"
      ],
      "metadata": {
        "id": "I3s6-U93S9W6"
      },
      "id": "I3s6-U93S9W6",
      "execution_count": 14,
      "outputs": []
    },
    {
      "cell_type": "code",
      "source": [
        "probs.shape, field_ids.shape, gt.shape"
      ],
      "metadata": {
        "id": "7CByPPyyQBit",
        "colab": {
          "base_uri": "https://localhost:8080/"
        },
        "outputId": "52c6f540-d50d-4961-cacb-7ef0a2fe7490"
      },
      "id": "7CByPPyyQBit",
      "execution_count": 15,
      "outputs": [
        {
          "output_type": "execute_result",
          "data": {
            "text/plain": [
              "((1077, 10), (1077,), (1077,))"
            ]
          },
          "metadata": {},
          "execution_count": 15
        }
      ]
    },
    {
      "cell_type": "code",
      "execution_count": 16,
      "id": "Ux-2ff1cC_sx",
      "metadata": {
        "id": "Ux-2ff1cC_sx",
        "colab": {
          "base_uri": "https://localhost:8080/"
        },
        "outputId": "e159ef92-77ba-426c-a851-79b19dd069ed"
      },
      "outputs": [
        {
          "output_type": "stream",
          "name": "stdout",
          "text": [
            "              precision    recall  f1-score   support\n",
            "\n",
            "           1       0.94      0.04      0.08       418\n",
            "           2       0.00      0.00      0.00       202\n",
            "           3       0.05      0.30      0.08        20\n",
            "           4       0.88      0.50      0.63       315\n",
            "           6       0.09      0.43      0.15        35\n",
            "           8       0.05      0.70      0.10        10\n",
            "           9       0.41      0.87      0.56        61\n",
            "          13       0.04      0.25      0.07        12\n",
            "          16       0.00      0.50      0.01         2\n",
            "          36       0.00      0.00      0.00         2\n",
            "\n",
            "    accuracy                           0.24      1077\n",
            "   macro avg       0.25      0.36      0.17      1077\n",
            "weighted avg       0.65      0.24      0.26      1077\n",
            "\n"
          ]
        }
      ],
      "source": [
        "from sklearn.metrics import (\n",
        "    classification_report,\n",
        "    confusion_matrix, ConfusionMatrixDisplay\n",
        ")\n",
        "\n",
        "print(classification_report(gt, np.array(crop_labels)[np.argmax(probs, axis=1)]))"
      ]
    },
    {
      "cell_type": "code",
      "source": [
        "# Confusion matrix\n",
        "cm = confusion_matrix(gt, np.array(crop_labels)[np.argmax(probs, axis=1)])\n",
        "disp = ConfusionMatrixDisplay(confusion_matrix=cm)\n",
        "fig, ax = plt.subplots(figsize=(15,7))\n",
        "disp.plot(ax=ax)\n",
        "plt.show()"
      ],
      "metadata": {
        "id": "70au5do-ZEAx",
        "colab": {
          "base_uri": "https://localhost:8080/",
          "height": 442
        },
        "outputId": "bcb36705-7991-456e-e9e8-3aed2c057fd9"
      },
      "id": "70au5do-ZEAx",
      "execution_count": 17,
      "outputs": [
        {
          "output_type": "display_data",
          "data": {
            "text/plain": [
              "<Figure size 1080x504 with 2 Axes>"
            ],
            "image/png": "[encoded data removed]"
          },
          "metadata": {
            "needs_background": "light"
          }
        }
      ]
    },
    {
      "cell_type": "code",
      "source": [
        "df['predicted'] = np.array(crop_labels)[np.argmax(probs, axis=1)]"
      ],
      "metadata": {
        "id": "FFnWp-KPUnVk"
      },
      "id": "FFnWp-KPUnVk",
      "execution_count": 21,
      "outputs": []
    },
    {
      "cell_type": "code",
      "source": [
        "df"
      ],
      "metadata": {
        "colab": {
          "base_uri": "https://localhost:8080/",
          "height": 505
        },
        "id": "vMM93S3PUp1U",
        "outputId": "649469c4-0c87-4d33-cfb8-0e7ccc1115a1"
      },
      "id": "vMM93S3PUp1U",
      "execution_count": 22,
      "outputs": [
        {
          "output_type": "execute_result",
          "data": {
            "text/plain": [
              "      field_id      Wheat    Mustard     Lentil   No Crop  Green pea  \\\n",
              "0            2  17.863952  21.389661  12.439615  4.769005  19.961188   \n",
              "1            4   2.079540   2.281340   3.443346  2.417882   4.287369   \n",
              "2            5   1.310770   3.020650   1.419340  2.610075   3.656757   \n",
              "3           15   1.826647   2.264031   1.748891  3.050449   4.139049   \n",
              "4           24   1.353994   3.142085   1.273449  0.591823   3.604212   \n",
              "...        ...        ...        ...        ...       ...        ...   \n",
              "1072      7305   5.406169   3.965868   3.490047  1.498671   4.470413   \n",
              "1073      7309   3.701206   2.355642   3.077132  1.499974   3.328174   \n",
              "1074      7311   1.344250   1.158925   1.010313  0.346005   1.327069   \n",
              "1075      7320   1.331588   0.479652   0.697941  4.162221   0.611792   \n",
              "1076      7322   0.807988   0.224738   0.480025  2.150900   0.316151   \n",
              "\n",
              "      Sugarcane     Garlic      Maize       Gram  Coriander     Potato  \\\n",
              "0     18.497163  55.696275   9.929184  28.955636  22.956523  32.782628   \n",
              "1      4.266822   2.191983   0.883677   2.732362   1.869808   2.270507   \n",
              "2      0.950977   1.172173  14.110898   5.636921   2.174362   3.920650   \n",
              "3      1.355242   0.907677   1.452012   2.626111   1.148424   2.549379   \n",
              "4      1.134877   3.464278   1.673673   3.757929   1.919581   3.834338   \n",
              "...         ...        ...        ...        ...        ...        ...   \n",
              "1072   4.311110  12.306997   2.501896   7.744050   4.424707   6.303095   \n",
              "1073   2.496104   4.849047   1.802670   4.687505   2.398232   3.276198   \n",
              "1074   0.872310   2.821677   0.847716   2.389694   1.264974   1.795196   \n",
              "1075   1.226154   0.318039   0.911980   1.194112   0.472278   0.687102   \n",
              "1076   0.767818   0.178900   0.412720   0.565471   0.280743   0.330951   \n",
              "\n",
              "         Bersem      Rice  crop_type  field_area  \\\n",
              "0     13.244335  9.514830          2       268.0   \n",
              "1      2.370055  0.905310          2        32.0   \n",
              "2      1.748647  3.267781          2        45.0   \n",
              "3      6.548051  1.384035          2        31.0   \n",
              "4      2.286236  0.963525          2        29.0   \n",
              "...         ...       ...        ...         ...   \n",
              "1072   2.389631  3.187343         13        62.0   \n",
              "1073   2.041421  2.486694         13        38.0   \n",
              "1074   0.798999  1.022872         13        17.0   \n",
              "1075   0.395827  2.511314         36        15.0   \n",
              "1076   0.244651  1.238944         36         8.0   \n",
              "\n",
              "                          data_path  predicted  \n",
              "0     data_cropped/6117.0_d838c.tif          8  \n",
              "1     data_cropped/1234.0_516a0.tif          6  \n",
              "2     data_cropped/6408.0_0c691.tif          9  \n",
              "3     data_cropped/2712.0_048eb.tif         16  \n",
              "4     data_cropped/5494.0_e5b6a.tif         13  \n",
              "...                             ...        ...  \n",
              "1072  data_cropped/5477.0_6fb0c.tif          8  \n",
              "1073  data_cropped/5771.0_e9fa0.tif          8  \n",
              "1074  data_cropped/6260.0_0d0b9.tif          8  \n",
              "1075  data_cropped/4732.0_e2cf7.tif          4  \n",
              "1076  data_cropped/3644.0_a0597.tif          4  \n",
              "\n",
              "[1077 rows x 18 columns]"
            ],
            "text/html": [
              "\n",
              "  <div id=\"df-f0f0e656-a2c7-463c-a226-6cc83f66d17a\">\n",
              "    <div class=\"colab-df-container\">\n",
              "      <div>\n",
              "<style scoped>\n",
              "    .dataframe tbody tr th:only-of-type {\n",
              "        vertical-align: middle;\n",
              "    }\n",
              "\n",
              "    .dataframe tbody tr th {\n",
              "        vertical-align: top;\n",
              "    }\n",
              "\n",
              "    .dataframe thead th {\n",
              "        text-align: right;\n",
              "    }\n",
              "</style>\n",
              "<table border=\"1\" class=\"dataframe\">\n",
              "  <thead>\n",
              "    <tr style=\"text-align: right;\">\n",
              "      <th></th>\n",
              "      <th>field_id</th>\n",
              "      <th>Wheat</th>\n",
              "      <th>Mustard</th>\n",
              "      <th>Lentil</th>\n",
              "      <th>No Crop</th>\n",
              "      <th>Green pea</th>\n",
              "      <th>Sugarcane</th>\n",
              "      <th>Garlic</th>\n",
              "      <th>Maize</th>\n",
              "      <th>Gram</th>\n",
              "      <th>Coriander</th>\n",
              "      <th>Potato</th>\n",
              "      <th>Bersem</th>\n",
              "      <th>Rice</th>\n",
              "      <th>crop_type</th>\n",
              "      <th>field_area</th>\n",
              "      <th>data_path</th>\n",
              "      <th>predicted</th>\n",
              "    </tr>\n",
              "  </thead>\n",
              "  <tbody>\n",
              "    <tr>\n",
              "      <th>0</th>\n",
              "      <td>2</td>\n",
              "      <td>17.863952</td>\n",
              "      <td>21.389661</td>\n",
              "      <td>12.439615</td>\n",
              "      <td>4.769005</td>\n",
              "      <td>19.961188</td>\n",
              "      <td>18.497163</td>\n",
              "      <td>55.696275</td>\n",
              "      <td>9.929184</td>\n",
              "      <td>28.955636</td>\n",
              "      <td>22.956523</td>\n",
              "      <td>32.782628</td>\n",
              "      <td>13.244335</td>\n",
              "      <td>9.514830</td>\n",
              "      <td>2</td>\n",
              "      <td>268.0</td>\n",
              "      <td>data_cropped/6117.0_d838c.tif</td>\n",
              "      <td>8</td>\n",
              "    </tr>\n",
              "    <tr>\n",
              "      <th>1</th>\n",
              "      <td>4</td>\n",
              "      <td>2.079540</td>\n",
              "      <td>2.281340</td>\n",
              "      <td>3.443346</td>\n",
              "      <td>2.417882</td>\n",
              "      <td>4.287369</td>\n",
              "      <td>4.266822</td>\n",
              "      <td>2.191983</td>\n",
              "      <td>0.883677</td>\n",
              "      <td>2.732362</td>\n",
              "      <td>1.869808</td>\n",
              "      <td>2.270507</td>\n",
              "      <td>2.370055</td>\n",
              "      <td>0.905310</td>\n",
              "      <td>2</td>\n",
              "      <td>32.0</td>\n",
              "      <td>data_cropped/1234.0_516a0.tif</td>\n",
              "      <td>6</td>\n",
              "    </tr>\n",
              "    <tr>\n",
              "      <th>2</th>\n",
              "      <td>5</td>\n",
              "      <td>1.310770</td>\n",
              "      <td>3.020650</td>\n",
              "      <td>1.419340</td>\n",
              "      <td>2.610075</td>\n",
              "      <td>3.656757</td>\n",
              "      <td>0.950977</td>\n",
              "      <td>1.172173</td>\n",
              "      <td>14.110898</td>\n",
              "      <td>5.636921</td>\n",
              "      <td>2.174362</td>\n",
              "      <td>3.920650</td>\n",
              "      <td>1.748647</td>\n",
              "      <td>3.267781</td>\n",
              "      <td>2</td>\n",
              "      <td>45.0</td>\n",
              "      <td>data_cropped/6408.0_0c691.tif</td>\n",
              "      <td>9</td>\n",
              "    </tr>\n",
              "    <tr>\n",
              "      <th>3</th>\n",
              "      <td>15</td>\n",
              "      <td>1.826647</td>\n",
              "      <td>2.264031</td>\n",
              "      <td>1.748891</td>\n",
              "      <td>3.050449</td>\n",
              "      <td>4.139049</td>\n",
              "      <td>1.355242</td>\n",
              "      <td>0.907677</td>\n",
              "      <td>1.452012</td>\n",
              "      <td>2.626111</td>\n",
              "      <td>1.148424</td>\n",
              "      <td>2.549379</td>\n",
              "      <td>6.548051</td>\n",
              "      <td>1.384035</td>\n",
              "      <td>2</td>\n",
              "      <td>31.0</td>\n",
              "      <td>data_cropped/2712.0_048eb.tif</td>\n",
              "      <td>16</td>\n",
              "    </tr>\n",
              "    <tr>\n",
              "      <th>4</th>\n",
              "      <td>24</td>\n",
              "      <td>1.353994</td>\n",
              "      <td>3.142085</td>\n",
              "      <td>1.273449</td>\n",
              "      <td>0.591823</td>\n",
              "      <td>3.604212</td>\n",
              "      <td>1.134877</td>\n",
              "      <td>3.464278</td>\n",
              "      <td>1.673673</td>\n",
              "      <td>3.757929</td>\n",
              "      <td>1.919581</td>\n",
              "      <td>3.834338</td>\n",
              "      <td>2.286236</td>\n",
              "      <td>0.963525</td>\n",
              "      <td>2</td>\n",
              "      <td>29.0</td>\n",
              "      <td>data_cropped/5494.0_e5b6a.tif</td>\n",
              "      <td>13</td>\n",
              "    </tr>\n",
              "    <tr>\n",
              "      <th>...</th>\n",
              "      <td>...</td>\n",
              "      <td>...</td>\n",
              "      <td>...</td>\n",
              "      <td>...</td>\n",
              "      <td>...</td>\n",
              "      <td>...</td>\n",
              "      <td>...</td>\n",
              "      <td>...</td>\n",
              "      <td>...</td>\n",
              "      <td>...</td>\n",
              "      <td>...</td>\n",
              "      <td>...</td>\n",
              "      <td>...</td>\n",
              "      <td>...</td>\n",
              "      <td>...</td>\n",
              "      <td>...</td>\n",
              "      <td>...</td>\n",
              "      <td>...</td>\n",
              "    </tr>\n",
              "    <tr>\n",
              "      <th>1072</th>\n",
              "      <td>7305</td>\n",
              "      <td>5.406169</td>\n",
              "      <td>3.965868</td>\n",
              "      <td>3.490047</td>\n",
              "      <td>1.498671</td>\n",
              "      <td>4.470413</td>\n",
              "      <td>4.311110</td>\n",
              "      <td>12.306997</td>\n",
              "      <td>2.501896</td>\n",
              "      <td>7.744050</td>\n",
              "      <td>4.424707</td>\n",
              "      <td>6.303095</td>\n",
              "      <td>2.389631</td>\n",
              "      <td>3.187343</td>\n",
              "      <td>13</td>\n",
              "      <td>62.0</td>\n",
              "      <td>data_cropped/5477.0_6fb0c.tif</td>\n",
              "      <td>8</td>\n",
              "    </tr>\n",
              "    <tr>\n",
              "      <th>1073</th>\n",
              "      <td>7309</td>\n",
              "      <td>3.701206</td>\n",
              "      <td>2.355642</td>\n",
              "      <td>3.077132</td>\n",
              "      <td>1.499974</td>\n",
              "      <td>3.328174</td>\n",
              "      <td>2.496104</td>\n",
              "      <td>4.849047</td>\n",
              "      <td>1.802670</td>\n",
              "      <td>4.687505</td>\n",
              "      <td>2.398232</td>\n",
              "      <td>3.276198</td>\n",
              "      <td>2.041421</td>\n",
              "      <td>2.486694</td>\n",
              "      <td>13</td>\n",
              "      <td>38.0</td>\n",
              "      <td>data_cropped/5771.0_e9fa0.tif</td>\n",
              "      <td>8</td>\n",
              "    </tr>\n",
              "    <tr>\n",
              "      <th>1074</th>\n",
              "      <td>7311</td>\n",
              "      <td>1.344250</td>\n",
              "      <td>1.158925</td>\n",
              "      <td>1.010313</td>\n",
              "      <td>0.346005</td>\n",
              "      <td>1.327069</td>\n",
              "      <td>0.872310</td>\n",
              "      <td>2.821677</td>\n",
              "      <td>0.847716</td>\n",
              "      <td>2.389694</td>\n",
              "      <td>1.264974</td>\n",
              "      <td>1.795196</td>\n",
              "      <td>0.798999</td>\n",
              "      <td>1.022872</td>\n",
              "      <td>13</td>\n",
              "      <td>17.0</td>\n",
              "      <td>data_cropped/6260.0_0d0b9.tif</td>\n",
              "      <td>8</td>\n",
              "    </tr>\n",
              "    <tr>\n",
              "      <th>1075</th>\n",
              "      <td>7320</td>\n",
              "      <td>1.331588</td>\n",
              "      <td>0.479652</td>\n",
              "      <td>0.697941</td>\n",
              "      <td>4.162221</td>\n",
              "      <td>0.611792</td>\n",
              "      <td>1.226154</td>\n",
              "      <td>0.318039</td>\n",
              "      <td>0.911980</td>\n",
              "      <td>1.194112</td>\n",
              "      <td>0.472278</td>\n",
              "      <td>0.687102</td>\n",
              "      <td>0.395827</td>\n",
              "      <td>2.511314</td>\n",
              "      <td>36</td>\n",
              "      <td>15.0</td>\n",
              "      <td>data_cropped/4732.0_e2cf7.tif</td>\n",
              "      <td>4</td>\n",
              "    </tr>\n",
              "    <tr>\n",
              "      <th>1076</th>\n",
              "      <td>7322</td>\n",
              "      <td>0.807988</td>\n",
              "      <td>0.224738</td>\n",
              "      <td>0.480025</td>\n",
              "      <td>2.150900</td>\n",
              "      <td>0.316151</td>\n",
              "      <td>0.767818</td>\n",
              "      <td>0.178900</td>\n",
              "      <td>0.412720</td>\n",
              "      <td>0.565471</td>\n",
              "      <td>0.280743</td>\n",
              "      <td>0.330951</td>\n",
              "      <td>0.244651</td>\n",
              "      <td>1.238944</td>\n",
              "      <td>36</td>\n",
              "      <td>8.0</td>\n",
              "      <td>data_cropped/3644.0_a0597.tif</td>\n",
              "      <td>4</td>\n",
              "    </tr>\n",
              "  </tbody>\n",
              "</table>\n",
              "<p>1077 rows × 18 columns</p>\n",
              "</div>\n",
              "      <button class=\"colab-df-convert\" onclick=\"convertToInteractive('df-f0f0e656-a2c7-463c-a226-6cc83f66d17a')\"\n",
              "              title=\"Convert this dataframe to an interactive table.\"\n",
              "              style=\"display:none;\">\n",
              "        \n",
              "  <svg xmlns=\"http://www.w3.org/2000/svg\" height=\"24px\"viewBox=\"0 0 24 24\"\n",
              "       width=\"24px\">\n",
              "    <path d=\"M0 0h24v24H0V0z\" fill=\"none\"/>\n",
              "    <path d=\"M18.56 5.44l.94 2.06.94-2.06 2.06-.94-2.06-.94-.94-2.06-.94 2.06-2.06.94zm-11 1L8.5 8.5l.94-2.06 2.06-.94-2.06-.94L8.5 2.5l-.94 2.06-2.06.94zm10 10l.94 2.06.94-2.06 2.06-.94-2.06-.94-.94-2.06-.94 2.06-2.06.94z\"/><path d=\"M17.41 7.96l-1.37-1.37c-.4-.4-.92-.59-1.43-.59-.52 0-1.04.2-1.43.59L10.3 9.45l-7.72 7.72c-.78.78-.78 2.05 0 2.83L4 21.41c.39.39.9.59 1.41.59.51 0 1.02-.2 1.41-.59l7.78-7.78 2.81-2.81c.8-.78.8-2.07 0-2.86zM5.41 20L4 18.59l7.72-7.72 1.47 1.35L5.41 20z\"/>\n",
              "  </svg>\n",
              "      </button>\n",
              "      \n",
              "  <style>\n",
              "    .colab-df-container {\n",
              "      display:flex;\n",
              "      flex-wrap:wrap;\n",
              "      gap: 12px;\n",
              "    }\n",
              "\n",
              "    .colab-df-convert {\n",
              "      background-color: #E8F0FE;\n",
              "      border: none;\n",
              "      border-radius: 50%;\n",
              "      cursor: pointer;\n",
              "      display: none;\n",
              "      fill: #1967D2;\n",
              "      height: 32px;\n",
              "      padding: 0 0 0 0;\n",
              "      width: 32px;\n",
              "    }\n",
              "\n",
              "    .colab-df-convert:hover {\n",
              "      background-color: #E2EBFA;\n",
              "      box-shadow: 0px 1px 2px rgba(60, 64, 67, 0.3), 0px 1px 3px 1px rgba(60, 64, 67, 0.15);\n",
              "      fill: #174EA6;\n",
              "    }\n",
              "\n",
              "    [theme=dark] .colab-df-convert {\n",
              "      background-color: #3B4455;\n",
              "      fill: #D2E3FC;\n",
              "    }\n",
              "\n",
              "    [theme=dark] .colab-df-convert:hover {\n",
              "      background-color: #434B5C;\n",
              "      box-shadow: 0px 1px 3px 1px rgba(0, 0, 0, 0.15);\n",
              "      filter: drop-shadow(0px 1px 2px rgba(0, 0, 0, 0.3));\n",
              "      fill: #FFFFFF;\n",
              "    }\n",
              "  </style>\n",
              "\n",
              "      <script>\n",
              "        const buttonEl =\n",
              "          document.querySelector('#df-f0f0e656-a2c7-463c-a226-6cc83f66d17a button.colab-df-convert');\n",
              "        buttonEl.style.display =\n",
              "          google.colab.kernel.accessAllowed ? 'block' : 'none';\n",
              "\n",
              "        async function convertToInteractive(key) {\n",
              "          const element = document.querySelector('#df-f0f0e656-a2c7-463c-a226-6cc83f66d17a');\n",
              "          const dataTable =\n",
              "            await google.colab.kernel.invokeFunction('convertToInteractive',\n",
              "                                                     [key], {});\n",
              "          if (!dataTable) return;\n",
              "\n",
              "          const docLinkHtml = 'Like what you see? Visit the ' +\n",
              "            '<a target=\"_blank\" href=https://colab.research.google.com/notebooks/data_table.ipynb>data table notebook</a>'\n",
              "            + ' to learn more about interactive tables.';\n",
              "          element.innerHTML = '';\n",
              "          dataTable['output_type'] = 'display_data';\n",
              "          await google.colab.output.renderOutput(dataTable, element);\n",
              "          const docLink = document.createElement('div');\n",
              "          docLink.innerHTML = docLinkHtml;\n",
              "          element.appendChild(docLink);\n",
              "        }\n",
              "      </script>\n",
              "    </div>\n",
              "  </div>\n",
              "  "
            ]
          },
          "metadata": {},
          "execution_count": 22
        }
      ]
    },
    {
      "cell_type": "code",
      "source": [],
      "metadata": {
        "id": "LwPMBR0ZUqOD"
      },
      "id": "LwPMBR0ZUqOD",
      "execution_count": 22,
      "outputs": []
    },
    {
      "cell_type": "code",
      "source": [],
      "metadata": {
        "id": "CdE_vWX7YNcL"
      },
      "id": "CdE_vWX7YNcL",
      "execution_count": null,
      "outputs": []
    },
    {
      "cell_type": "code",
      "source": [],
      "metadata": {
        "id": "p1IfVZj3YNf4"
      },
      "id": "p1IfVZj3YNf4",
      "execution_count": null,
      "outputs": []
    },
    {
      "cell_type": "code",
      "source": [],
      "metadata": {
        "id": "HFlg1peiYNkV"
      },
      "id": "HFlg1peiYNkV",
      "execution_count": null,
      "outputs": []
    }
  ],
  "metadata": {
    "accelerator": "GPU",
    "colab": {
      "collapsed_sections": [],
      "provenance": [],
      "include_colab_link": true
    },
    "gpuClass": "standard",
    "kernelspec": {
      "display_name": "Python 3 (ipykernel)",
      "language": "python",
      "name": "python3"
    },
    "language_info": {
      "codemirror_mode": {
        "name": "ipython",
        "version": 3
      },
      "file_extension": ".py",
      "mimetype": "text/x-python",
      "name": "python",
      "nbconvert_exporter": "python",
      "pygments_lexer": "ipython3",
      "version": "3.7.13"
    }
  },
  "nbformat": 4,
  "nbformat_minor": 5
}