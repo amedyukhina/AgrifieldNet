{
  "cells": [
    {
      "cell_type": "markdown",
      "metadata": {
        "id": "view-in-github",
        "colab_type": "text"
      },
      "source": [
        "<a href=\"https://colab.research.google.com/github/amedyukhina/AgrifieldNet/blob/main/3_validate_explore.ipynb\" target=\"_parent\"><img src=\"https://colab.research.google.com/assets/colab-badge.svg\" alt=\"Open In Colab\"/></a>"
      ]
    },
    {
      "cell_type": "markdown",
      "id": "77b4743b",
      "metadata": {
        "id": "77b4743b"
      },
      "source": [
        "# AgrifieldNet India Competition"
      ]
    },
    {
      "cell_type": "markdown",
      "id": "be36e335",
      "metadata": {
        "id": "be36e335"
      },
      "source": [
        "## Install and import dependencies\n"
      ]
    },
    {
      "cell_type": "code",
      "execution_count": 16,
      "id": "KiwG2IraDe6h",
      "metadata": {
        "colab": {
          "base_uri": "https://localhost:8080/"
        },
        "id": "KiwG2IraDe6h",
        "outputId": "ab37dd6d-b97b-456b-e099-09b757785105"
      },
      "outputs": [
        {
          "output_type": "stream",
          "name": "stdout",
          "text": [
            "Overwriting requirements.txt\n"
          ]
        }
      ],
      "source": [
        "%%writefile requirements.txt\n",
        "\n",
        "pandas==1.3.5\n",
        "scikit-learn==1.0.2\n",
        "tqdm==4.64.0\n",
        "numpy==1.21.6\n",
        "torch==1.12.1\n",
        "torchvision==0.13.1\n",
        "scikit-image==0.18.3\n",
        "matplotlib==3.2.2"
      ]
    },
    {
      "cell_type": "code",
      "execution_count": 17,
      "id": "qafN0lN8D-_N",
      "metadata": {
        "colab": {
          "base_uri": "https://localhost:8080/"
        },
        "id": "qafN0lN8D-_N",
        "outputId": "ae791b17-1334-4bf1-eeaa-f3f78af43b1d"
      },
      "outputs": [
        {
          "output_type": "stream",
          "name": "stdout",
          "text": [
            "Looking in indexes: https://pypi.org/simple, https://us-python.pkg.dev/colab-wheels/public/simple/\n",
            "Requirement already satisfied: pandas==1.3.5 in /usr/local/lib/python3.7/dist-packages (from -r requirements.txt (line 2)) (1.3.5)\n",
            "Requirement already satisfied: scikit-learn==1.0.2 in /usr/local/lib/python3.7/dist-packages (from -r requirements.txt (line 3)) (1.0.2)\n",
            "Requirement already satisfied: tqdm==4.64.0 in /usr/local/lib/python3.7/dist-packages (from -r requirements.txt (line 4)) (4.64.0)\n",
            "Requirement already satisfied: numpy==1.21.6 in /usr/local/lib/python3.7/dist-packages (from -r requirements.txt (line 5)) (1.21.6)\n",
            "Requirement already satisfied: torch==1.12.1 in /usr/local/lib/python3.7/dist-packages (from -r requirements.txt (line 6)) (1.12.1+cu113)\n",
            "Requirement already satisfied: torchvision==0.13.1 in /usr/local/lib/python3.7/dist-packages (from -r requirements.txt (line 7)) (0.13.1+cu113)\n",
            "Requirement already satisfied: scikit-image==0.18.3 in /usr/local/lib/python3.7/dist-packages (from -r requirements.txt (line 8)) (0.18.3)\n",
            "Requirement already satisfied: matplotlib==3.2.2 in /usr/local/lib/python3.7/dist-packages (from -r requirements.txt (line 9)) (3.2.2)\n",
            "Requirement already satisfied: python-dateutil>=2.7.3 in /usr/local/lib/python3.7/dist-packages (from pandas==1.3.5->-r requirements.txt (line 2)) (2.8.2)\n",
            "Requirement already satisfied: pytz>=2017.3 in /usr/local/lib/python3.7/dist-packages (from pandas==1.3.5->-r requirements.txt (line 2)) (2022.4)\n",
            "Requirement already satisfied: scipy>=1.1.0 in /usr/local/lib/python3.7/dist-packages (from scikit-learn==1.0.2->-r requirements.txt (line 3)) (1.7.3)\n",
            "Requirement already satisfied: joblib>=0.11 in /usr/local/lib/python3.7/dist-packages (from scikit-learn==1.0.2->-r requirements.txt (line 3)) (1.2.0)\n",
            "Requirement already satisfied: threadpoolctl>=2.0.0 in /usr/local/lib/python3.7/dist-packages (from scikit-learn==1.0.2->-r requirements.txt (line 3)) (3.1.0)\n",
            "Requirement already satisfied: typing-extensions in /usr/local/lib/python3.7/dist-packages (from torch==1.12.1->-r requirements.txt (line 6)) (4.1.1)\n",
            "Requirement already satisfied: requests in /usr/local/lib/python3.7/dist-packages (from torchvision==0.13.1->-r requirements.txt (line 7)) (2.23.0)\n",
            "Requirement already satisfied: pillow!=8.3.*,>=5.3.0 in /usr/local/lib/python3.7/dist-packages (from torchvision==0.13.1->-r requirements.txt (line 7)) (7.1.2)\n",
            "Requirement already satisfied: networkx>=2.0 in /usr/local/lib/python3.7/dist-packages (from scikit-image==0.18.3->-r requirements.txt (line 8)) (2.6.3)\n",
            "Requirement already satisfied: imageio>=2.3.0 in /usr/local/lib/python3.7/dist-packages (from scikit-image==0.18.3->-r requirements.txt (line 8)) (2.9.0)\n",
            "Requirement already satisfied: PyWavelets>=1.1.1 in /usr/local/lib/python3.7/dist-packages (from scikit-image==0.18.3->-r requirements.txt (line 8)) (1.3.0)\n",
            "Requirement already satisfied: tifffile>=2019.7.26 in /usr/local/lib/python3.7/dist-packages (from scikit-image==0.18.3->-r requirements.txt (line 8)) (2021.11.2)\n",
            "Requirement already satisfied: kiwisolver>=1.0.1 in /usr/local/lib/python3.7/dist-packages (from matplotlib==3.2.2->-r requirements.txt (line 9)) (1.4.4)\n",
            "Requirement already satisfied: cycler>=0.10 in /usr/local/lib/python3.7/dist-packages (from matplotlib==3.2.2->-r requirements.txt (line 9)) (0.11.0)\n",
            "Requirement already satisfied: pyparsing!=2.0.4,!=2.1.2,!=2.1.6,>=2.0.1 in /usr/local/lib/python3.7/dist-packages (from matplotlib==3.2.2->-r requirements.txt (line 9)) (3.0.9)\n",
            "Requirement already satisfied: six>=1.5 in /usr/local/lib/python3.7/dist-packages (from python-dateutil>=2.7.3->pandas==1.3.5->-r requirements.txt (line 2)) (1.15.0)\n",
            "Requirement already satisfied: certifi>=2017.4.17 in /usr/local/lib/python3.7/dist-packages (from requests->torchvision==0.13.1->-r requirements.txt (line 7)) (2022.9.24)\n",
            "Requirement already satisfied: urllib3!=1.25.0,!=1.25.1,<1.26,>=1.21.1 in /usr/local/lib/python3.7/dist-packages (from requests->torchvision==0.13.1->-r requirements.txt (line 7)) (1.24.3)\n",
            "Requirement already satisfied: idna<3,>=2.5 in /usr/local/lib/python3.7/dist-packages (from requests->torchvision==0.13.1->-r requirements.txt (line 7)) (2.10)\n",
            "Requirement already satisfied: chardet<4,>=3.0.2 in /usr/local/lib/python3.7/dist-packages (from requests->torchvision==0.13.1->-r requirements.txt (line 7)) (3.0.4)\n"
          ]
        }
      ],
      "source": [
        "!pip install -r requirements.txt"
      ]
    },
    {
      "cell_type": "code",
      "execution_count": 18,
      "id": "28ea6e7d",
      "metadata": {
        "id": "28ea6e7d"
      },
      "outputs": [],
      "source": [
        "import os\n",
        "import time\n",
        "import json\n",
        "import numpy as np\n",
        "import pandas as pd\n",
        "from tqdm import tqdm\n",
        "import shutil\n",
        "import numpy as np\n",
        "import pandas as pd\n",
        "import torch\n",
        "import torch.utils.data\n",
        "from torch import nn\n",
        "from skimage import io\n",
        "from torchvision import transforms as torch_transforms\n",
        "from torchvision import models\n",
        "import pylab as plt\n",
        "from skimage.segmentation import mark_boundaries"
      ]
    },
    {
      "cell_type": "markdown",
      "id": "fQpDLC79m5A4",
      "metadata": {
        "id": "fQpDLC79m5A4"
      },
      "source": [
        "## Specify path, random seed, and band names"
      ]
    },
    {
      "cell_type": "code",
      "source": [
        "# path = 'agrifield_data/'\n",
        "path = 'gdrive/MyDrive/agrifield_data/'"
      ],
      "metadata": {
        "id": "vaxBqi27H2j3"
      },
      "id": "vaxBqi27H2j3",
      "execution_count": 19,
      "outputs": []
    },
    {
      "cell_type": "code",
      "source": [
        "# drive.flush_and_unmount()"
      ],
      "metadata": {
        "id": "Sc8aQOXRTzxs"
      },
      "id": "Sc8aQOXRTzxs",
      "execution_count": 29,
      "outputs": []
    },
    {
      "cell_type": "code",
      "source": [
        "if 'gdrive' in path:\n",
        "    from google.colab import drive\n",
        "    drive.mount('/content/gdrive')"
      ],
      "metadata": {
        "colab": {
          "base_uri": "https://localhost:8080/"
        },
        "id": "XaKPrmT7mK4X",
        "outputId": "64e9ba27-04e3-425d-faa4-45fbbce42120"
      },
      "id": "XaKPrmT7mK4X",
      "execution_count": 30,
      "outputs": [
        {
          "output_type": "stream",
          "name": "stdout",
          "text": [
            "Mounted at /content/gdrive\n"
          ]
        }
      ]
    },
    {
      "cell_type": "code",
      "execution_count": 31,
      "id": "rKuZKO3em_Av",
      "metadata": {
        "id": "rKuZKO3em_Av"
      },
      "outputs": [],
      "source": [
        "BAND_NAMES = ['B01', 'B02', 'B03', 'B04','B05', 'B06', 'B07', \n",
        "              'B08','B8A', 'B09', 'B11', 'B12']"
      ]
    },
    {
      "cell_type": "markdown",
      "id": "lLqI5XgBOyxE",
      "metadata": {
        "id": "lLqI5XgBOyxE"
      },
      "source": [
        "## Extract labels"
      ]
    },
    {
      "cell_type": "code",
      "source": [
        "data_dir = path + 'data'\n",
        "train_label_collection = 'ref_agrifieldnet_competition_v1_labels_train'"
      ],
      "metadata": {
        "id": "u_Z6wsgJI5fC"
      },
      "id": "u_Z6wsgJI5fC",
      "execution_count": 32,
      "outputs": []
    },
    {
      "cell_type": "code",
      "execution_count": 33,
      "id": "p9s-spgZO12F",
      "metadata": {
        "id": "p9s-spgZO12F"
      },
      "outputs": [],
      "source": [
        "f = os.listdir(os.path.join(data_dir, train_label_collection))[0]\n",
        "with open(os.path.join(data_dir, train_label_collection, f, 'stac.json')) as ll:\n",
        "    label_json = json.load(ll)"
      ]
    },
    {
      "cell_type": "code",
      "execution_count": 34,
      "id": "7rjt5idSPvjH",
      "metadata": {
        "colab": {
          "base_uri": "https://localhost:8080/"
        },
        "id": "7rjt5idSPvjH",
        "outputId": "a8f99972-e7a2-472a-d39c-c47e338c51fb"
      },
      "outputs": [
        {
          "output_type": "execute_result",
          "data": {
            "text/plain": [
              "{1: 'Wheat',\n",
              " 2: 'Mustard',\n",
              " 3: 'Lentil',\n",
              " 4: 'No Crop',\n",
              " 6: 'Sugarcane',\n",
              " 8: 'Garlic',\n",
              " 15: 'Potato',\n",
              " 5: 'Green pea',\n",
              " 16: 'Bersem',\n",
              " 14: 'Coriander',\n",
              " 13: 'Gram',\n",
              " 9: 'Maize',\n",
              " 36: 'Rice'}"
            ]
          },
          "metadata": {},
          "execution_count": 34
        }
      ],
      "source": [
        "crop_dict = {asset.get('values')[0]:asset.get('summary') \n",
        "  for asset in label_json['assets']['raster_labels']['file:values']}\n",
        "crop_dict"
      ]
    },
    {
      "cell_type": "markdown",
      "id": "Etysg8Y8m0H5",
      "metadata": {
        "id": "Etysg8Y8m0H5"
      },
      "source": [
        "## List models"
      ]
    },
    {
      "cell_type": "code",
      "source": [
        "model_dir = os.path.join(path, 'models')\n",
        "models = os.listdir(model_dir)\n",
        "models.sort()\n",
        "models"
      ],
      "metadata": {
        "id": "XkRcgAe8bsnI",
        "colab": {
          "base_uri": "https://localhost:8080/"
        },
        "outputId": "77b8cda0-16ed-403f-fce3-79b35b11bd99"
      },
      "id": "XkRcgAe8bsnI",
      "execution_count": 35,
      "outputs": [
        {
          "output_type": "execute_result",
          "data": {
            "text/plain": [
              "['1666567767_Sun Oct 23 23:29:27 2022_transformer',\n",
              " '1666567834_Sun Oct 23 23:30:34 2022_transformer',\n",
              " '1666568678_Sun Oct 23 23:44:38 2022_transformer',\n",
              " '1666568845_Sun Oct 23 23:47:25 2022_transformer']"
            ]
          },
          "metadata": {},
          "execution_count": 35
        }
      ]
    },
    {
      "cell_type": "code",
      "source": [
        "model_name = models[-1]\n",
        "os.listdir(os.path.join(model_dir, model_name))"
      ],
      "metadata": {
        "colab": {
          "base_uri": "https://localhost:8080/"
        },
        "id": "wd3ceuqbQ3Gn",
        "outputId": "65897c49-b505-4589-af5a-7d40021c51d4"
      },
      "id": "wd3ceuqbQ3Gn",
      "execution_count": 36,
      "outputs": [
        {
          "output_type": "execute_result",
          "data": {
            "text/plain": [
              "['last_model.pth',\n",
              " 'best_model.pth',\n",
              " 'predictions_val.csv',\n",
              " 'predictions_test.csv']"
            ]
          },
          "metadata": {},
          "execution_count": 36
        }
      ]
    },
    {
      "cell_type": "markdown",
      "id": "W_EsaEYQHDq9",
      "metadata": {
        "id": "W_EsaEYQHDq9"
      },
      "source": [
        "## Load predictions"
      ]
    },
    {
      "cell_type": "code",
      "source": [
        "df = pd.read_csv(os.path.join(model_dir, model_name, 'predictions_val.csv'))\n",
        "df"
      ],
      "metadata": {
        "colab": {
          "base_uri": "https://localhost:8080/",
          "height": 505
        },
        "id": "EO50ycIRRGWq",
        "outputId": "f75d1231-fb48-4a2e-9e6d-a6ac2e59529b"
      },
      "id": "EO50ycIRRGWq",
      "execution_count": 37,
      "outputs": [
        {
          "output_type": "execute_result",
          "data": {
            "text/plain": [
              "      field_id     Wheat   Mustard    Lentil   No Crop  Green pea  Sugarcane  \\\n",
              "0            2  0.045790  0.112931  0.049529  0.052169   0.130155   0.069417   \n",
              "1            4  0.055491  0.073908  0.132918  0.078861   0.175309   0.086562   \n",
              "2            5  0.050576  0.074590  0.134224  0.080985   0.189032   0.077513   \n",
              "3           15  0.060554  0.065519  0.094124  0.091090   0.092449   0.170124   \n",
              "4           24  0.082000  0.037298  0.245520  0.039968   0.086727   0.090604   \n",
              "...        ...       ...       ...       ...       ...        ...        ...   \n",
              "1072      7305  0.024122  0.078787  0.032859  0.058955   0.112697   0.018302   \n",
              "1073      7309  0.038093  0.069596  0.051127  0.052687   0.111435   0.023085   \n",
              "1074      7311  0.036225  0.067944  0.045695  0.053617   0.102099   0.021807   \n",
              "1075      7320  0.048743  0.055735  0.057660  0.070891   0.052494   0.051667   \n",
              "1076      7322  0.039728  0.067015  0.040711  0.069344   0.061646   0.039083   \n",
              "\n",
              "        Garlic     Maize      Gram  Coriander    Potato    Bersem      Rice  \\\n",
              "0     0.080600  0.038363  0.090490   0.055752  0.125596  0.125236  0.023972   \n",
              "1     0.050099  0.029919  0.097320   0.045496  0.064125  0.081894  0.028097   \n",
              "2     0.043467  0.033515  0.100827   0.042571  0.062157  0.082970  0.027571   \n",
              "3     0.059611  0.032933  0.085679   0.068585  0.075644  0.065962  0.037726   \n",
              "4     0.055418  0.024533  0.047262   0.119843  0.048751  0.095859  0.026218   \n",
              "...        ...       ...       ...        ...       ...       ...       ...   \n",
              "1072  0.023410  0.293540  0.126857   0.041099  0.089883  0.049482  0.050007   \n",
              "1073  0.021219  0.199412  0.116474   0.059484  0.082128  0.098496  0.076763   \n",
              "1074  0.021375  0.230063  0.121656   0.056957  0.082319  0.077742  0.082501   \n",
              "1075  0.035989  0.196073  0.102086   0.105506  0.088249  0.030595  0.104310   \n",
              "1076  0.034078  0.241384  0.106370   0.082132  0.097657  0.033738  0.087115   \n",
              "\n",
              "      crop_type  \n",
              "0           1.0  \n",
              "1           2.0  \n",
              "2           2.0  \n",
              "3           2.0  \n",
              "4           4.0  \n",
              "...         ...  \n",
              "1072        2.0  \n",
              "1073        1.0  \n",
              "1074        1.0  \n",
              "1075        4.0  \n",
              "1076        4.0  \n",
              "\n",
              "[1077 rows x 15 columns]"
            ],
            "text/html": [
              "\n",
              "  <div id=\"df-6b47ac1c-f3be-4e4c-bb82-045a1c9a8ab4\">\n",
              "    <div class=\"colab-df-container\">\n",
              "      <div>\n",
              "<style scoped>\n",
              "    .dataframe tbody tr th:only-of-type {\n",
              "        vertical-align: middle;\n",
              "    }\n",
              "\n",
              "    .dataframe tbody tr th {\n",
              "        vertical-align: top;\n",
              "    }\n",
              "\n",
              "    .dataframe thead th {\n",
              "        text-align: right;\n",
              "    }\n",
              "</style>\n",
              "<table border=\"1\" class=\"dataframe\">\n",
              "  <thead>\n",
              "    <tr style=\"text-align: right;\">\n",
              "      <th></th>\n",
              "      <th>field_id</th>\n",
              "      <th>Wheat</th>\n",
              "      <th>Mustard</th>\n",
              "      <th>Lentil</th>\n",
              "      <th>No Crop</th>\n",
              "      <th>Green pea</th>\n",
              "      <th>Sugarcane</th>\n",
              "      <th>Garlic</th>\n",
              "      <th>Maize</th>\n",
              "      <th>Gram</th>\n",
              "      <th>Coriander</th>\n",
              "      <th>Potato</th>\n",
              "      <th>Bersem</th>\n",
              "      <th>Rice</th>\n",
              "      <th>crop_type</th>\n",
              "    </tr>\n",
              "  </thead>\n",
              "  <tbody>\n",
              "    <tr>\n",
              "      <th>0</th>\n",
              "      <td>2</td>\n",
              "      <td>0.045790</td>\n",
              "      <td>0.112931</td>\n",
              "      <td>0.049529</td>\n",
              "      <td>0.052169</td>\n",
              "      <td>0.130155</td>\n",
              "      <td>0.069417</td>\n",
              "      <td>0.080600</td>\n",
              "      <td>0.038363</td>\n",
              "      <td>0.090490</td>\n",
              "      <td>0.055752</td>\n",
              "      <td>0.125596</td>\n",
              "      <td>0.125236</td>\n",
              "      <td>0.023972</td>\n",
              "      <td>1.0</td>\n",
              "    </tr>\n",
              "    <tr>\n",
              "      <th>1</th>\n",
              "      <td>4</td>\n",
              "      <td>0.055491</td>\n",
              "      <td>0.073908</td>\n",
              "      <td>0.132918</td>\n",
              "      <td>0.078861</td>\n",
              "      <td>0.175309</td>\n",
              "      <td>0.086562</td>\n",
              "      <td>0.050099</td>\n",
              "      <td>0.029919</td>\n",
              "      <td>0.097320</td>\n",
              "      <td>0.045496</td>\n",
              "      <td>0.064125</td>\n",
              "      <td>0.081894</td>\n",
              "      <td>0.028097</td>\n",
              "      <td>2.0</td>\n",
              "    </tr>\n",
              "    <tr>\n",
              "      <th>2</th>\n",
              "      <td>5</td>\n",
              "      <td>0.050576</td>\n",
              "      <td>0.074590</td>\n",
              "      <td>0.134224</td>\n",
              "      <td>0.080985</td>\n",
              "      <td>0.189032</td>\n",
              "      <td>0.077513</td>\n",
              "      <td>0.043467</td>\n",
              "      <td>0.033515</td>\n",
              "      <td>0.100827</td>\n",
              "      <td>0.042571</td>\n",
              "      <td>0.062157</td>\n",
              "      <td>0.082970</td>\n",
              "      <td>0.027571</td>\n",
              "      <td>2.0</td>\n",
              "    </tr>\n",
              "    <tr>\n",
              "      <th>3</th>\n",
              "      <td>15</td>\n",
              "      <td>0.060554</td>\n",
              "      <td>0.065519</td>\n",
              "      <td>0.094124</td>\n",
              "      <td>0.091090</td>\n",
              "      <td>0.092449</td>\n",
              "      <td>0.170124</td>\n",
              "      <td>0.059611</td>\n",
              "      <td>0.032933</td>\n",
              "      <td>0.085679</td>\n",
              "      <td>0.068585</td>\n",
              "      <td>0.075644</td>\n",
              "      <td>0.065962</td>\n",
              "      <td>0.037726</td>\n",
              "      <td>2.0</td>\n",
              "    </tr>\n",
              "    <tr>\n",
              "      <th>4</th>\n",
              "      <td>24</td>\n",
              "      <td>0.082000</td>\n",
              "      <td>0.037298</td>\n",
              "      <td>0.245520</td>\n",
              "      <td>0.039968</td>\n",
              "      <td>0.086727</td>\n",
              "      <td>0.090604</td>\n",
              "      <td>0.055418</td>\n",
              "      <td>0.024533</td>\n",
              "      <td>0.047262</td>\n",
              "      <td>0.119843</td>\n",
              "      <td>0.048751</td>\n",
              "      <td>0.095859</td>\n",
              "      <td>0.026218</td>\n",
              "      <td>4.0</td>\n",
              "    </tr>\n",
              "    <tr>\n",
              "      <th>...</th>\n",
              "      <td>...</td>\n",
              "      <td>...</td>\n",
              "      <td>...</td>\n",
              "      <td>...</td>\n",
              "      <td>...</td>\n",
              "      <td>...</td>\n",
              "      <td>...</td>\n",
              "      <td>...</td>\n",
              "      <td>...</td>\n",
              "      <td>...</td>\n",
              "      <td>...</td>\n",
              "      <td>...</td>\n",
              "      <td>...</td>\n",
              "      <td>...</td>\n",
              "      <td>...</td>\n",
              "    </tr>\n",
              "    <tr>\n",
              "      <th>1072</th>\n",
              "      <td>7305</td>\n",
              "      <td>0.024122</td>\n",
              "      <td>0.078787</td>\n",
              "      <td>0.032859</td>\n",
              "      <td>0.058955</td>\n",
              "      <td>0.112697</td>\n",
              "      <td>0.018302</td>\n",
              "      <td>0.023410</td>\n",
              "      <td>0.293540</td>\n",
              "      <td>0.126857</td>\n",
              "      <td>0.041099</td>\n",
              "      <td>0.089883</td>\n",
              "      <td>0.049482</td>\n",
              "      <td>0.050007</td>\n",
              "      <td>2.0</td>\n",
              "    </tr>\n",
              "    <tr>\n",
              "      <th>1073</th>\n",
              "      <td>7309</td>\n",
              "      <td>0.038093</td>\n",
              "      <td>0.069596</td>\n",
              "      <td>0.051127</td>\n",
              "      <td>0.052687</td>\n",
              "      <td>0.111435</td>\n",
              "      <td>0.023085</td>\n",
              "      <td>0.021219</td>\n",
              "      <td>0.199412</td>\n",
              "      <td>0.116474</td>\n",
              "      <td>0.059484</td>\n",
              "      <td>0.082128</td>\n",
              "      <td>0.098496</td>\n",
              "      <td>0.076763</td>\n",
              "      <td>1.0</td>\n",
              "    </tr>\n",
              "    <tr>\n",
              "      <th>1074</th>\n",
              "      <td>7311</td>\n",
              "      <td>0.036225</td>\n",
              "      <td>0.067944</td>\n",
              "      <td>0.045695</td>\n",
              "      <td>0.053617</td>\n",
              "      <td>0.102099</td>\n",
              "      <td>0.021807</td>\n",
              "      <td>0.021375</td>\n",
              "      <td>0.230063</td>\n",
              "      <td>0.121656</td>\n",
              "      <td>0.056957</td>\n",
              "      <td>0.082319</td>\n",
              "      <td>0.077742</td>\n",
              "      <td>0.082501</td>\n",
              "      <td>1.0</td>\n",
              "    </tr>\n",
              "    <tr>\n",
              "      <th>1075</th>\n",
              "      <td>7320</td>\n",
              "      <td>0.048743</td>\n",
              "      <td>0.055735</td>\n",
              "      <td>0.057660</td>\n",
              "      <td>0.070891</td>\n",
              "      <td>0.052494</td>\n",
              "      <td>0.051667</td>\n",
              "      <td>0.035989</td>\n",
              "      <td>0.196073</td>\n",
              "      <td>0.102086</td>\n",
              "      <td>0.105506</td>\n",
              "      <td>0.088249</td>\n",
              "      <td>0.030595</td>\n",
              "      <td>0.104310</td>\n",
              "      <td>4.0</td>\n",
              "    </tr>\n",
              "    <tr>\n",
              "      <th>1076</th>\n",
              "      <td>7322</td>\n",
              "      <td>0.039728</td>\n",
              "      <td>0.067015</td>\n",
              "      <td>0.040711</td>\n",
              "      <td>0.069344</td>\n",
              "      <td>0.061646</td>\n",
              "      <td>0.039083</td>\n",
              "      <td>0.034078</td>\n",
              "      <td>0.241384</td>\n",
              "      <td>0.106370</td>\n",
              "      <td>0.082132</td>\n",
              "      <td>0.097657</td>\n",
              "      <td>0.033738</td>\n",
              "      <td>0.087115</td>\n",
              "      <td>4.0</td>\n",
              "    </tr>\n",
              "  </tbody>\n",
              "</table>\n",
              "<p>1077 rows × 15 columns</p>\n",
              "</div>\n",
              "      <button class=\"colab-df-convert\" onclick=\"convertToInteractive('df-6b47ac1c-f3be-4e4c-bb82-045a1c9a8ab4')\"\n",
              "              title=\"Convert this dataframe to an interactive table.\"\n",
              "              style=\"display:none;\">\n",
              "        \n",
              "  <svg xmlns=\"http://www.w3.org/2000/svg\" height=\"24px\"viewBox=\"0 0 24 24\"\n",
              "       width=\"24px\">\n",
              "    <path d=\"M0 0h24v24H0V0z\" fill=\"none\"/>\n",
              "    <path d=\"M18.56 5.44l.94 2.06.94-2.06 2.06-.94-2.06-.94-.94-2.06-.94 2.06-2.06.94zm-11 1L8.5 8.5l.94-2.06 2.06-.94-2.06-.94L8.5 2.5l-.94 2.06-2.06.94zm10 10l.94 2.06.94-2.06 2.06-.94-2.06-.94-.94-2.06-.94 2.06-2.06.94z\"/><path d=\"M17.41 7.96l-1.37-1.37c-.4-.4-.92-.59-1.43-.59-.52 0-1.04.2-1.43.59L10.3 9.45l-7.72 7.72c-.78.78-.78 2.05 0 2.83L4 21.41c.39.39.9.59 1.41.59.51 0 1.02-.2 1.41-.59l7.78-7.78 2.81-2.81c.8-.78.8-2.07 0-2.86zM5.41 20L4 18.59l7.72-7.72 1.47 1.35L5.41 20z\"/>\n",
              "  </svg>\n",
              "      </button>\n",
              "      \n",
              "  <style>\n",
              "    .colab-df-container {\n",
              "      display:flex;\n",
              "      flex-wrap:wrap;\n",
              "      gap: 12px;\n",
              "    }\n",
              "\n",
              "    .colab-df-convert {\n",
              "      background-color: #E8F0FE;\n",
              "      border: none;\n",
              "      border-radius: 50%;\n",
              "      cursor: pointer;\n",
              "      display: none;\n",
              "      fill: #1967D2;\n",
              "      height: 32px;\n",
              "      padding: 0 0 0 0;\n",
              "      width: 32px;\n",
              "    }\n",
              "\n",
              "    .colab-df-convert:hover {\n",
              "      background-color: #E2EBFA;\n",
              "      box-shadow: 0px 1px 2px rgba(60, 64, 67, 0.3), 0px 1px 3px 1px rgba(60, 64, 67, 0.15);\n",
              "      fill: #174EA6;\n",
              "    }\n",
              "\n",
              "    [theme=dark] .colab-df-convert {\n",
              "      background-color: #3B4455;\n",
              "      fill: #D2E3FC;\n",
              "    }\n",
              "\n",
              "    [theme=dark] .colab-df-convert:hover {\n",
              "      background-color: #434B5C;\n",
              "      box-shadow: 0px 1px 3px 1px rgba(0, 0, 0, 0.15);\n",
              "      filter: drop-shadow(0px 1px 2px rgba(0, 0, 0, 0.3));\n",
              "      fill: #FFFFFF;\n",
              "    }\n",
              "  </style>\n",
              "\n",
              "      <script>\n",
              "        const buttonEl =\n",
              "          document.querySelector('#df-6b47ac1c-f3be-4e4c-bb82-045a1c9a8ab4 button.colab-df-convert');\n",
              "        buttonEl.style.display =\n",
              "          google.colab.kernel.accessAllowed ? 'block' : 'none';\n",
              "\n",
              "        async function convertToInteractive(key) {\n",
              "          const element = document.querySelector('#df-6b47ac1c-f3be-4e4c-bb82-045a1c9a8ab4');\n",
              "          const dataTable =\n",
              "            await google.colab.kernel.invokeFunction('convertToInteractive',\n",
              "                                                     [key], {});\n",
              "          if (!dataTable) return;\n",
              "\n",
              "          const docLinkHtml = 'Like what you see? Visit the ' +\n",
              "            '<a target=\"_blank\" href=https://colab.research.google.com/notebooks/data_table.ipynb>data table notebook</a>'\n",
              "            + ' to learn more about interactive tables.';\n",
              "          element.innerHTML = '';\n",
              "          dataTable['output_type'] = 'display_data';\n",
              "          await google.colab.output.renderOutput(dataTable, element);\n",
              "          const docLink = document.createElement('div');\n",
              "          docLink.innerHTML = docLinkHtml;\n",
              "          element.appendChild(docLink);\n",
              "        }\n",
              "      </script>\n",
              "    </div>\n",
              "  </div>\n",
              "  "
            ]
          },
          "metadata": {},
          "execution_count": 37
        }
      ]
    },
    {
      "cell_type": "code",
      "source": [
        "crop_labels = np.unique(df['crop_type'])\n",
        "crop_columns = [crop_dict[key] for key in crop_labels]\n",
        "probs = df[crop_columns].values\n",
        "field_ids = df['field_id']\n",
        "gt = df['crop_type']"
      ],
      "metadata": {
        "id": "I3s6-U93S9W6"
      },
      "id": "I3s6-U93S9W6",
      "execution_count": 38,
      "outputs": []
    },
    {
      "cell_type": "code",
      "source": [
        "probs.shape, field_ids.shape, gt.shape"
      ],
      "metadata": {
        "id": "7CByPPyyQBit",
        "colab": {
          "base_uri": "https://localhost:8080/"
        },
        "outputId": "81ad5e7a-5656-4777-df2c-33ecbdbb83f3"
      },
      "id": "7CByPPyyQBit",
      "execution_count": 39,
      "outputs": [
        {
          "output_type": "execute_result",
          "data": {
            "text/plain": [
              "((1077, 13), (1077,), (1077,))"
            ]
          },
          "metadata": {},
          "execution_count": 39
        }
      ]
    },
    {
      "cell_type": "code",
      "execution_count": 40,
      "id": "Ux-2ff1cC_sx",
      "metadata": {
        "id": "Ux-2ff1cC_sx",
        "colab": {
          "base_uri": "https://localhost:8080/"
        },
        "outputId": "4d675b9f-25d5-484f-c845-36a158f5aac1"
      },
      "outputs": [
        {
          "output_type": "stream",
          "name": "stdout",
          "text": [
            "              precision    recall  f1-score   support\n",
            "\n",
            "         1.0       0.94      0.04      0.08       401\n",
            "         2.0       0.00      0.00      0.00       198\n",
            "         3.0       0.05      0.25      0.08        20\n",
            "         4.0       0.82      0.51      0.63       303\n",
            "         5.0       0.03      0.40      0.06         5\n",
            "         6.0       0.11      0.47      0.18        32\n",
            "         8.0       0.06      0.70      0.10        10\n",
            "         9.0       0.40      0.85      0.54        59\n",
            "        13.0       0.07      0.25      0.11        12\n",
            "        14.0       0.05      0.67      0.10         3\n",
            "        15.0       0.00      0.00      0.00         7\n",
            "        16.0       0.00      0.50      0.01         2\n",
            "        36.0       0.17      0.08      0.11        25\n",
            "\n",
            "    accuracy                           0.24      1077\n",
            "   macro avg       0.21      0.36      0.15      1077\n",
            "weighted avg       0.61      0.24      0.25      1077\n",
            "\n"
          ]
        },
        {
          "output_type": "stream",
          "name": "stderr",
          "text": [
            "/usr/local/lib/python3.7/dist-packages/sklearn/metrics/_classification.py:1318: UndefinedMetricWarning: Precision and F-score are ill-defined and being set to 0.0 in labels with no predicted samples. Use `zero_division` parameter to control this behavior.\n",
            "  _warn_prf(average, modifier, msg_start, len(result))\n",
            "/usr/local/lib/python3.7/dist-packages/sklearn/metrics/_classification.py:1318: UndefinedMetricWarning: Precision and F-score are ill-defined and being set to 0.0 in labels with no predicted samples. Use `zero_division` parameter to control this behavior.\n",
            "  _warn_prf(average, modifier, msg_start, len(result))\n",
            "/usr/local/lib/python3.7/dist-packages/sklearn/metrics/_classification.py:1318: UndefinedMetricWarning: Precision and F-score are ill-defined and being set to 0.0 in labels with no predicted samples. Use `zero_division` parameter to control this behavior.\n",
            "  _warn_prf(average, modifier, msg_start, len(result))\n"
          ]
        }
      ],
      "source": [
        "from sklearn.metrics import (\n",
        "    classification_report,\n",
        "    confusion_matrix, ConfusionMatrixDisplay\n",
        ")\n",
        "\n",
        "print(classification_report(gt, np.array(crop_labels)[np.argmax(probs, axis=1)]))"
      ]
    },
    {
      "cell_type": "code",
      "source": [
        "# Confusion matrix\n",
        "cm = confusion_matrix(gt, np.array(crop_labels)[np.argmax(probs, axis=1)])\n",
        "disp = ConfusionMatrixDisplay(confusion_matrix=cm)\n",
        "fig, ax = plt.subplots(figsize=(15,7))\n",
        "disp.plot(ax=ax)\n",
        "plt.show()"
      ],
      "metadata": {
        "id": "70au5do-ZEAx",
        "colab": {
          "base_uri": "https://localhost:8080/",
          "height": 442
        },
        "outputId": "66e18622-42b4-4fcb-e390-52cbf9b5800b"
      },
      "id": "70au5do-ZEAx",
      "execution_count": 41,
      "outputs": [
        {
          "output_type": "display_data",
          "data": {
            "text/plain": [
              "<Figure size 1080x504 with 2 Axes>"
            ],
            "image/png": "[encoded data removed]"
          },
          "metadata": {
            "needs_background": "light"
          }
        }
      ]
    },
    {
      "cell_type": "code",
      "execution_count": 42,
      "id": "O3aOekbmFEOF",
      "metadata": {
        "id": "O3aOekbmFEOF"
      },
      "outputs": [],
      "source": [
        "def to_one_hot(x):\n",
        "    y = np.zeros((x.size, x.max() + 1))\n",
        "    y[np.arange(x.size), x] = 1\n",
        "    return y\n",
        "\n",
        "def cross_entropy(predictions, targets):\n",
        "    return -np.sum(np.sum(np.log(predictions + 10**(-10)) * targets, axis=1))/len(targets)\n"
      ]
    },
    {
      "cell_type": "code",
      "execution_count": 43,
      "id": "QYxNVMHfHRld",
      "metadata": {
        "id": "QYxNVMHfHRld"
      },
      "outputs": [],
      "source": [
        "targets = to_one_hot(np.int_(gt))\n",
        "targets = targets[:, np.where(targets.sum(axis=0) > 0)[0]]"
      ]
    },
    {
      "cell_type": "code",
      "execution_count": 44,
      "id": "pcoDvgg0Hd8T",
      "metadata": {
        "id": "pcoDvgg0Hd8T",
        "colab": {
          "base_uri": "https://localhost:8080/"
        },
        "outputId": "795958e1-2ea0-4c88-9553-68b88e85e8a6"
      },
      "outputs": [
        {
          "output_type": "execute_result",
          "data": {
            "text/plain": [
              "2.3781894359797393"
            ]
          },
          "metadata": {},
          "execution_count": 44
        }
      ],
      "source": [
        "cross_entropy(probs, targets)"
      ]
    },
    {
      "cell_type": "code",
      "source": [
        "df['predicted'] = np.array(crop_labels)[np.argmax(probs, axis=1)]"
      ],
      "metadata": {
        "id": "FFnWp-KPUnVk"
      },
      "id": "FFnWp-KPUnVk",
      "execution_count": 45,
      "outputs": []
    },
    {
      "cell_type": "code",
      "source": [
        "df"
      ],
      "metadata": {
        "colab": {
          "base_uri": "https://localhost:8080/",
          "height": 505
        },
        "id": "vMM93S3PUp1U",
        "outputId": "c7dab894-c415-461d-cad3-4eb62367be0d"
      },
      "id": "vMM93S3PUp1U",
      "execution_count": 46,
      "outputs": [
        {
          "output_type": "execute_result",
          "data": {
            "text/plain": [
              "      field_id     Wheat   Mustard    Lentil   No Crop  Green pea  Sugarcane  \\\n",
              "0            2  0.045790  0.112931  0.049529  0.052169   0.130155   0.069417   \n",
              "1            4  0.055491  0.073908  0.132918  0.078861   0.175309   0.086562   \n",
              "2            5  0.050576  0.074590  0.134224  0.080985   0.189032   0.077513   \n",
              "3           15  0.060554  0.065519  0.094124  0.091090   0.092449   0.170124   \n",
              "4           24  0.082000  0.037298  0.245520  0.039968   0.086727   0.090604   \n",
              "...        ...       ...       ...       ...       ...        ...        ...   \n",
              "1072      7305  0.024122  0.078787  0.032859  0.058955   0.112697   0.018302   \n",
              "1073      7309  0.038093  0.069596  0.051127  0.052687   0.111435   0.023085   \n",
              "1074      7311  0.036225  0.067944  0.045695  0.053617   0.102099   0.021807   \n",
              "1075      7320  0.048743  0.055735  0.057660  0.070891   0.052494   0.051667   \n",
              "1076      7322  0.039728  0.067015  0.040711  0.069344   0.061646   0.039083   \n",
              "\n",
              "        Garlic     Maize      Gram  Coriander    Potato    Bersem      Rice  \\\n",
              "0     0.080600  0.038363  0.090490   0.055752  0.125596  0.125236  0.023972   \n",
              "1     0.050099  0.029919  0.097320   0.045496  0.064125  0.081894  0.028097   \n",
              "2     0.043467  0.033515  0.100827   0.042571  0.062157  0.082970  0.027571   \n",
              "3     0.059611  0.032933  0.085679   0.068585  0.075644  0.065962  0.037726   \n",
              "4     0.055418  0.024533  0.047262   0.119843  0.048751  0.095859  0.026218   \n",
              "...        ...       ...       ...        ...       ...       ...       ...   \n",
              "1072  0.023410  0.293540  0.126857   0.041099  0.089883  0.049482  0.050007   \n",
              "1073  0.021219  0.199412  0.116474   0.059484  0.082128  0.098496  0.076763   \n",
              "1074  0.021375  0.230063  0.121656   0.056957  0.082319  0.077742  0.082501   \n",
              "1075  0.035989  0.196073  0.102086   0.105506  0.088249  0.030595  0.104310   \n",
              "1076  0.034078  0.241384  0.106370   0.082132  0.097657  0.033738  0.087115   \n",
              "\n",
              "      crop_type  predicted  \n",
              "0           1.0        5.0  \n",
              "1           2.0        5.0  \n",
              "2           2.0        5.0  \n",
              "3           2.0        6.0  \n",
              "4           4.0        3.0  \n",
              "...         ...        ...  \n",
              "1072        2.0        9.0  \n",
              "1073        1.0        9.0  \n",
              "1074        1.0        9.0  \n",
              "1075        4.0        9.0  \n",
              "1076        4.0        9.0  \n",
              "\n",
              "[1077 rows x 16 columns]"
            ],
            "text/html": [
              "\n",
              "  <div id=\"df-f78635aa-a69c-4cbb-b680-5f3cc85aa991\">\n",
              "    <div class=\"colab-df-container\">\n",
              "      <div>\n",
              "<style scoped>\n",
              "    .dataframe tbody tr th:only-of-type {\n",
              "        vertical-align: middle;\n",
              "    }\n",
              "\n",
              "    .dataframe tbody tr th {\n",
              "        vertical-align: top;\n",
              "    }\n",
              "\n",
              "    .dataframe thead th {\n",
              "        text-align: right;\n",
              "    }\n",
              "</style>\n",
              "<table border=\"1\" class=\"dataframe\">\n",
              "  <thead>\n",
              "    <tr style=\"text-align: right;\">\n",
              "      <th></th>\n",
              "      <th>field_id</th>\n",
              "      <th>Wheat</th>\n",
              "      <th>Mustard</th>\n",
              "      <th>Lentil</th>\n",
              "      <th>No Crop</th>\n",
              "      <th>Green pea</th>\n",
              "      <th>Sugarcane</th>\n",
              "      <th>Garlic</th>\n",
              "      <th>Maize</th>\n",
              "      <th>Gram</th>\n",
              "      <th>Coriander</th>\n",
              "      <th>Potato</th>\n",
              "      <th>Bersem</th>\n",
              "      <th>Rice</th>\n",
              "      <th>crop_type</th>\n",
              "      <th>predicted</th>\n",
              "    </tr>\n",
              "  </thead>\n",
              "  <tbody>\n",
              "    <tr>\n",
              "      <th>0</th>\n",
              "      <td>2</td>\n",
              "      <td>0.045790</td>\n",
              "      <td>0.112931</td>\n",
              "      <td>0.049529</td>\n",
              "      <td>0.052169</td>\n",
              "      <td>0.130155</td>\n",
              "      <td>0.069417</td>\n",
              "      <td>0.080600</td>\n",
              "      <td>0.038363</td>\n",
              "      <td>0.090490</td>\n",
              "      <td>0.055752</td>\n",
              "      <td>0.125596</td>\n",
              "      <td>0.125236</td>\n",
              "      <td>0.023972</td>\n",
              "      <td>1.0</td>\n",
              "      <td>5.0</td>\n",
              "    </tr>\n",
              "    <tr>\n",
              "      <th>1</th>\n",
              "      <td>4</td>\n",
              "      <td>0.055491</td>\n",
              "      <td>0.073908</td>\n",
              "      <td>0.132918</td>\n",
              "      <td>0.078861</td>\n",
              "      <td>0.175309</td>\n",
              "      <td>0.086562</td>\n",
              "      <td>0.050099</td>\n",
              "      <td>0.029919</td>\n",
              "      <td>0.097320</td>\n",
              "      <td>0.045496</td>\n",
              "      <td>0.064125</td>\n",
              "      <td>0.081894</td>\n",
              "      <td>0.028097</td>\n",
              "      <td>2.0</td>\n",
              "      <td>5.0</td>\n",
              "    </tr>\n",
              "    <tr>\n",
              "      <th>2</th>\n",
              "      <td>5</td>\n",
              "      <td>0.050576</td>\n",
              "      <td>0.074590</td>\n",
              "      <td>0.134224</td>\n",
              "      <td>0.080985</td>\n",
              "      <td>0.189032</td>\n",
              "      <td>0.077513</td>\n",
              "      <td>0.043467</td>\n",
              "      <td>0.033515</td>\n",
              "      <td>0.100827</td>\n",
              "      <td>0.042571</td>\n",
              "      <td>0.062157</td>\n",
              "      <td>0.082970</td>\n",
              "      <td>0.027571</td>\n",
              "      <td>2.0</td>\n",
              "      <td>5.0</td>\n",
              "    </tr>\n",
              "    <tr>\n",
              "      <th>3</th>\n",
              "      <td>15</td>\n",
              "      <td>0.060554</td>\n",
              "      <td>0.065519</td>\n",
              "      <td>0.094124</td>\n",
              "      <td>0.091090</td>\n",
              "      <td>0.092449</td>\n",
              "      <td>0.170124</td>\n",
              "      <td>0.059611</td>\n",
              "      <td>0.032933</td>\n",
              "      <td>0.085679</td>\n",
              "      <td>0.068585</td>\n",
              "      <td>0.075644</td>\n",
              "      <td>0.065962</td>\n",
              "      <td>0.037726</td>\n",
              "      <td>2.0</td>\n",
              "      <td>6.0</td>\n",
              "    </tr>\n",
              "    <tr>\n",
              "      <th>4</th>\n",
              "      <td>24</td>\n",
              "      <td>0.082000</td>\n",
              "      <td>0.037298</td>\n",
              "      <td>0.245520</td>\n",
              "      <td>0.039968</td>\n",
              "      <td>0.086727</td>\n",
              "      <td>0.090604</td>\n",
              "      <td>0.055418</td>\n",
              "      <td>0.024533</td>\n",
              "      <td>0.047262</td>\n",
              "      <td>0.119843</td>\n",
              "      <td>0.048751</td>\n",
              "      <td>0.095859</td>\n",
              "      <td>0.026218</td>\n",
              "      <td>4.0</td>\n",
              "      <td>3.0</td>\n",
              "    </tr>\n",
              "    <tr>\n",
              "      <th>...</th>\n",
              "      <td>...</td>\n",
              "      <td>...</td>\n",
              "      <td>...</td>\n",
              "      <td>...</td>\n",
              "      <td>...</td>\n",
              "      <td>...</td>\n",
              "      <td>...</td>\n",
              "      <td>...</td>\n",
              "      <td>...</td>\n",
              "      <td>...</td>\n",
              "      <td>...</td>\n",
              "      <td>...</td>\n",
              "      <td>...</td>\n",
              "      <td>...</td>\n",
              "      <td>...</td>\n",
              "      <td>...</td>\n",
              "    </tr>\n",
              "    <tr>\n",
              "      <th>1072</th>\n",
              "      <td>7305</td>\n",
              "      <td>0.024122</td>\n",
              "      <td>0.078787</td>\n",
              "      <td>0.032859</td>\n",
              "      <td>0.058955</td>\n",
              "      <td>0.112697</td>\n",
              "      <td>0.018302</td>\n",
              "      <td>0.023410</td>\n",
              "      <td>0.293540</td>\n",
              "      <td>0.126857</td>\n",
              "      <td>0.041099</td>\n",
              "      <td>0.089883</td>\n",
              "      <td>0.049482</td>\n",
              "      <td>0.050007</td>\n",
              "      <td>2.0</td>\n",
              "      <td>9.0</td>\n",
              "    </tr>\n",
              "    <tr>\n",
              "      <th>1073</th>\n",
              "      <td>7309</td>\n",
              "      <td>0.038093</td>\n",
              "      <td>0.069596</td>\n",
              "      <td>0.051127</td>\n",
              "      <td>0.052687</td>\n",
              "      <td>0.111435</td>\n",
              "      <td>0.023085</td>\n",
              "      <td>0.021219</td>\n",
              "      <td>0.199412</td>\n",
              "      <td>0.116474</td>\n",
              "      <td>0.059484</td>\n",
              "      <td>0.082128</td>\n",
              "      <td>0.098496</td>\n",
              "      <td>0.076763</td>\n",
              "      <td>1.0</td>\n",
              "      <td>9.0</td>\n",
              "    </tr>\n",
              "    <tr>\n",
              "      <th>1074</th>\n",
              "      <td>7311</td>\n",
              "      <td>0.036225</td>\n",
              "      <td>0.067944</td>\n",
              "      <td>0.045695</td>\n",
              "      <td>0.053617</td>\n",
              "      <td>0.102099</td>\n",
              "      <td>0.021807</td>\n",
              "      <td>0.021375</td>\n",
              "      <td>0.230063</td>\n",
              "      <td>0.121656</td>\n",
              "      <td>0.056957</td>\n",
              "      <td>0.082319</td>\n",
              "      <td>0.077742</td>\n",
              "      <td>0.082501</td>\n",
              "      <td>1.0</td>\n",
              "      <td>9.0</td>\n",
              "    </tr>\n",
              "    <tr>\n",
              "      <th>1075</th>\n",
              "      <td>7320</td>\n",
              "      <td>0.048743</td>\n",
              "      <td>0.055735</td>\n",
              "      <td>0.057660</td>\n",
              "      <td>0.070891</td>\n",
              "      <td>0.052494</td>\n",
              "      <td>0.051667</td>\n",
              "      <td>0.035989</td>\n",
              "      <td>0.196073</td>\n",
              "      <td>0.102086</td>\n",
              "      <td>0.105506</td>\n",
              "      <td>0.088249</td>\n",
              "      <td>0.030595</td>\n",
              "      <td>0.104310</td>\n",
              "      <td>4.0</td>\n",
              "      <td>9.0</td>\n",
              "    </tr>\n",
              "    <tr>\n",
              "      <th>1076</th>\n",
              "      <td>7322</td>\n",
              "      <td>0.039728</td>\n",
              "      <td>0.067015</td>\n",
              "      <td>0.040711</td>\n",
              "      <td>0.069344</td>\n",
              "      <td>0.061646</td>\n",
              "      <td>0.039083</td>\n",
              "      <td>0.034078</td>\n",
              "      <td>0.241384</td>\n",
              "      <td>0.106370</td>\n",
              "      <td>0.082132</td>\n",
              "      <td>0.097657</td>\n",
              "      <td>0.033738</td>\n",
              "      <td>0.087115</td>\n",
              "      <td>4.0</td>\n",
              "      <td>9.0</td>\n",
              "    </tr>\n",
              "  </tbody>\n",
              "</table>\n",
              "<p>1077 rows × 16 columns</p>\n",
              "</div>\n",
              "      <button class=\"colab-df-convert\" onclick=\"convertToInteractive('df-f78635aa-a69c-4cbb-b680-5f3cc85aa991')\"\n",
              "              title=\"Convert this dataframe to an interactive table.\"\n",
              "              style=\"display:none;\">\n",
              "        \n",
              "  <svg xmlns=\"http://www.w3.org/2000/svg\" height=\"24px\"viewBox=\"0 0 24 24\"\n",
              "       width=\"24px\">\n",
              "    <path d=\"M0 0h24v24H0V0z\" fill=\"none\"/>\n",
              "    <path d=\"M18.56 5.44l.94 2.06.94-2.06 2.06-.94-2.06-.94-.94-2.06-.94 2.06-2.06.94zm-11 1L8.5 8.5l.94-2.06 2.06-.94-2.06-.94L8.5 2.5l-.94 2.06-2.06.94zm10 10l.94 2.06.94-2.06 2.06-.94-2.06-.94-.94-2.06-.94 2.06-2.06.94z\"/><path d=\"M17.41 7.96l-1.37-1.37c-.4-.4-.92-.59-1.43-.59-.52 0-1.04.2-1.43.59L10.3 9.45l-7.72 7.72c-.78.78-.78 2.05 0 2.83L4 21.41c.39.39.9.59 1.41.59.51 0 1.02-.2 1.41-.59l7.78-7.78 2.81-2.81c.8-.78.8-2.07 0-2.86zM5.41 20L4 18.59l7.72-7.72 1.47 1.35L5.41 20z\"/>\n",
              "  </svg>\n",
              "      </button>\n",
              "      \n",
              "  <style>\n",
              "    .colab-df-container {\n",
              "      display:flex;\n",
              "      flex-wrap:wrap;\n",
              "      gap: 12px;\n",
              "    }\n",
              "\n",
              "    .colab-df-convert {\n",
              "      background-color: #E8F0FE;\n",
              "      border: none;\n",
              "      border-radius: 50%;\n",
              "      cursor: pointer;\n",
              "      display: none;\n",
              "      fill: #1967D2;\n",
              "      height: 32px;\n",
              "      padding: 0 0 0 0;\n",
              "      width: 32px;\n",
              "    }\n",
              "\n",
              "    .colab-df-convert:hover {\n",
              "      background-color: #E2EBFA;\n",
              "      box-shadow: 0px 1px 2px rgba(60, 64, 67, 0.3), 0px 1px 3px 1px rgba(60, 64, 67, 0.15);\n",
              "      fill: #174EA6;\n",
              "    }\n",
              "\n",
              "    [theme=dark] .colab-df-convert {\n",
              "      background-color: #3B4455;\n",
              "      fill: #D2E3FC;\n",
              "    }\n",
              "\n",
              "    [theme=dark] .colab-df-convert:hover {\n",
              "      background-color: #434B5C;\n",
              "      box-shadow: 0px 1px 3px 1px rgba(0, 0, 0, 0.15);\n",
              "      filter: drop-shadow(0px 1px 2px rgba(0, 0, 0, 0.3));\n",
              "      fill: #FFFFFF;\n",
              "    }\n",
              "  </style>\n",
              "\n",
              "      <script>\n",
              "        const buttonEl =\n",
              "          document.querySelector('#df-f78635aa-a69c-4cbb-b680-5f3cc85aa991 button.colab-df-convert');\n",
              "        buttonEl.style.display =\n",
              "          google.colab.kernel.accessAllowed ? 'block' : 'none';\n",
              "\n",
              "        async function convertToInteractive(key) {\n",
              "          const element = document.querySelector('#df-f78635aa-a69c-4cbb-b680-5f3cc85aa991');\n",
              "          const dataTable =\n",
              "            await google.colab.kernel.invokeFunction('convertToInteractive',\n",
              "                                                     [key], {});\n",
              "          if (!dataTable) return;\n",
              "\n",
              "          const docLinkHtml = 'Like what you see? Visit the ' +\n",
              "            '<a target=\"_blank\" href=https://colab.research.google.com/notebooks/data_table.ipynb>data table notebook</a>'\n",
              "            + ' to learn more about interactive tables.';\n",
              "          element.innerHTML = '';\n",
              "          dataTable['output_type'] = 'display_data';\n",
              "          await google.colab.output.renderOutput(dataTable, element);\n",
              "          const docLink = document.createElement('div');\n",
              "          docLink.innerHTML = docLinkHtml;\n",
              "          element.appendChild(docLink);\n",
              "        }\n",
              "      </script>\n",
              "    </div>\n",
              "  </div>\n",
              "  "
            ]
          },
          "metadata": {},
          "execution_count": 46
        }
      ]
    },
    {
      "cell_type": "code",
      "source": [],
      "metadata": {
        "id": "LwPMBR0ZUqOD"
      },
      "id": "LwPMBR0ZUqOD",
      "execution_count": null,
      "outputs": []
    }
  ],
  "metadata": {
    "accelerator": "GPU",
    "colab": {
      "collapsed_sections": [],
      "provenance": [],
      "include_colab_link": true
    },
    "gpuClass": "standard",
    "kernelspec": {
      "display_name": "Python 3 (ipykernel)",
      "language": "python",
      "name": "python3"
    },
    "language_info": {
      "codemirror_mode": {
        "name": "ipython",
        "version": 3
      },
      "file_extension": ".py",
      "mimetype": "text/x-python",
      "name": "python",
      "nbconvert_exporter": "python",
      "pygments_lexer": "ipython3",
      "version": "3.7.13"
    }
  },
  "nbformat": 4,
  "nbformat_minor": 5
}