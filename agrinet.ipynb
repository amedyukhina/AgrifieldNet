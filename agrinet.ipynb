{
  "cells": [
    {
      "cell_type": "markdown",
      "metadata": {
        "id": "view-in-github",
        "colab_type": "text"
      },
      "source": [
        "<a href=\"https://colab.research.google.com/github/amedyukhina/AgrifieldNet/blob/main/agrinet.ipynb\" target=\"_parent\"><img src=\"https://colab.research.google.com/assets/colab-badge.svg\" alt=\"Open In Colab\"/></a>"
      ]
    },
    {
      "cell_type": "markdown",
      "id": "77b4743b",
      "metadata": {
        "id": "77b4743b"
      },
      "source": [
        "# AgrifieldNet India Competition"
      ]
    },
    {
      "cell_type": "markdown",
      "id": "be36e335",
      "metadata": {
        "id": "be36e335"
      },
      "source": [
        "## Install and import dependencies\n"
      ]
    },
    {
      "cell_type": "code",
      "source": [
        "%%writefile requirements.txt\n",
        "\n",
        "pandas==1.3.5\n",
        "scikit-learn==1.0.2\n",
        "tqdm==4.64.0\n",
        "rasterio==1.2.0\n",
        "numpy==1.21.6\n",
        "radiant_mlhub==0.4.1\n",
        "torch==1.12.1\n",
        "torchvision==0.13.1\n",
        "scikit-image==0.18.3\n",
        "matplotlib==3.2.2\n",
        "pillow==7.1.2\n",
        "monai==0.9.1"
      ],
      "metadata": {
        "colab": {
          "base_uri": "https://localhost:8080/"
        },
        "id": "KiwG2IraDe6h",
        "outputId": "f458cb99-c30d-436b-db6f-b65fb9ec1d2b"
      },
      "id": "KiwG2IraDe6h",
      "execution_count": 1,
      "outputs": [
        {
          "output_type": "stream",
          "name": "stdout",
          "text": [
            "Writing requirements.txt\n"
          ]
        }
      ]
    },
    {
      "cell_type": "code",
      "source": [
        "!pip install -r requirements.txt"
      ],
      "metadata": {
        "colab": {
          "base_uri": "https://localhost:8080/"
        },
        "id": "qafN0lN8D-_N",
        "outputId": "7d41e684-01a7-4939-c717-2bc78b92d851"
      },
      "id": "qafN0lN8D-_N",
      "execution_count": 2,
      "outputs": [
        {
          "output_type": "stream",
          "name": "stdout",
          "text": [
            "Looking in indexes: https://pypi.org/simple, https://us-python.pkg.dev/colab-wheels/public/simple/\n",
            "Requirement already satisfied: pandas==1.3.5 in /usr/local/lib/python3.7/dist-packages (from -r requirements.txt (line 2)) (1.3.5)\n",
            "Requirement already satisfied: scikit-learn==1.0.2 in /usr/local/lib/python3.7/dist-packages (from -r requirements.txt (line 3)) (1.0.2)\n",
            "Requirement already satisfied: tqdm==4.64.0 in /usr/local/lib/python3.7/dist-packages (from -r requirements.txt (line 4)) (4.64.0)\n",
            "Collecting rasterio==1.2.0\n",
            "  Downloading rasterio-1.2.0-cp37-cp37m-manylinux1_x86_64.whl (19.1 MB)\n",
            "\u001b[K     |████████████████████████████████| 19.1 MB 1.7 MB/s \n",
            "\u001b[?25hRequirement already satisfied: numpy==1.21.6 in /usr/local/lib/python3.7/dist-packages (from -r requirements.txt (line 6)) (1.21.6)\n",
            "Collecting radiant_mlhub==0.4.1\n",
            "  Downloading radiant_mlhub-0.4.1-py3-none-any.whl (36 kB)\n",
            "Requirement already satisfied: torch==1.12.1 in /usr/local/lib/python3.7/dist-packages (from -r requirements.txt (line 8)) (1.12.1+cu113)\n",
            "Requirement already satisfied: torchvision==0.13.1 in /usr/local/lib/python3.7/dist-packages (from -r requirements.txt (line 9)) (0.13.1+cu113)\n",
            "Requirement already satisfied: scikit-image==0.18.3 in /usr/local/lib/python3.7/dist-packages (from -r requirements.txt (line 10)) (0.18.3)\n",
            "Requirement already satisfied: matplotlib==3.2.2 in /usr/local/lib/python3.7/dist-packages (from -r requirements.txt (line 11)) (3.2.2)\n",
            "Requirement already satisfied: pillow==7.1.2 in /usr/local/lib/python3.7/dist-packages (from -r requirements.txt (line 12)) (7.1.2)\n",
            "Collecting monai==0.9.1\n",
            "  Downloading monai-0.9.1-202207251608-py3-none-any.whl (990 kB)\n",
            "\u001b[K     |████████████████████████████████| 990 kB 4.4 MB/s \n",
            "\u001b[?25hRequirement already satisfied: python-dateutil>=2.7.3 in /usr/local/lib/python3.7/dist-packages (from pandas==1.3.5->-r requirements.txt (line 2)) (2.8.2)\n",
            "Requirement already satisfied: pytz>=2017.3 in /usr/local/lib/python3.7/dist-packages (from pandas==1.3.5->-r requirements.txt (line 2)) (2022.2.1)\n",
            "Requirement already satisfied: scipy>=1.1.0 in /usr/local/lib/python3.7/dist-packages (from scikit-learn==1.0.2->-r requirements.txt (line 3)) (1.7.3)\n",
            "Requirement already satisfied: threadpoolctl>=2.0.0 in /usr/local/lib/python3.7/dist-packages (from scikit-learn==1.0.2->-r requirements.txt (line 3)) (3.1.0)\n",
            "Requirement already satisfied: joblib>=0.11 in /usr/local/lib/python3.7/dist-packages (from scikit-learn==1.0.2->-r requirements.txt (line 3)) (1.1.0)\n",
            "Collecting affine\n",
            "  Downloading affine-2.3.1-py2.py3-none-any.whl (16 kB)\n",
            "Collecting cligj>=0.5\n",
            "  Downloading cligj-0.7.2-py3-none-any.whl (7.1 kB)\n",
            "Requirement already satisfied: attrs in /usr/local/lib/python3.7/dist-packages (from rasterio==1.2.0->-r requirements.txt (line 5)) (22.1.0)\n",
            "Collecting click-plugins\n",
            "  Downloading click_plugins-1.1.1-py2.py3-none-any.whl (7.5 kB)\n",
            "Requirement already satisfied: click<8,>=4.0 in /usr/local/lib/python3.7/dist-packages (from rasterio==1.2.0->-r requirements.txt (line 5)) (7.1.2)\n",
            "Requirement already satisfied: certifi in /usr/local/lib/python3.7/dist-packages (from rasterio==1.2.0->-r requirements.txt (line 5)) (2022.6.15)\n",
            "Collecting snuggs>=1.4.1\n",
            "  Downloading snuggs-1.4.7-py3-none-any.whl (5.4 kB)\n",
            "Collecting requests~=2.25\n",
            "  Downloading requests-2.28.1-py3-none-any.whl (62 kB)\n",
            "\u001b[K     |████████████████████████████████| 62 kB 740 kB/s \n",
            "\u001b[?25hCollecting pystac~=1.1\n",
            "  Downloading pystac-1.5.0-py3-none-any.whl (146 kB)\n",
            "\u001b[K     |████████████████████████████████| 146 kB 37.7 MB/s \n",
            "\u001b[?25hRequirement already satisfied: typing-extensions>=3.7 in /usr/local/lib/python3.7/dist-packages (from radiant_mlhub==0.4.1->-r requirements.txt (line 7)) (4.1.1)\n",
            "Requirement already satisfied: PyWavelets>=1.1.1 in /usr/local/lib/python3.7/dist-packages (from scikit-image==0.18.3->-r requirements.txt (line 10)) (1.3.0)\n",
            "Requirement already satisfied: tifffile>=2019.7.26 in /usr/local/lib/python3.7/dist-packages (from scikit-image==0.18.3->-r requirements.txt (line 10)) (2021.11.2)\n",
            "Requirement already satisfied: imageio>=2.3.0 in /usr/local/lib/python3.7/dist-packages (from scikit-image==0.18.3->-r requirements.txt (line 10)) (2.9.0)\n",
            "Requirement already satisfied: networkx>=2.0 in /usr/local/lib/python3.7/dist-packages (from scikit-image==0.18.3->-r requirements.txt (line 10)) (2.6.3)\n",
            "Requirement already satisfied: cycler>=0.10 in /usr/local/lib/python3.7/dist-packages (from matplotlib==3.2.2->-r requirements.txt (line 11)) (0.11.0)\n",
            "Requirement already satisfied: kiwisolver>=1.0.1 in /usr/local/lib/python3.7/dist-packages (from matplotlib==3.2.2->-r requirements.txt (line 11)) (1.4.4)\n",
            "Requirement already satisfied: pyparsing!=2.0.4,!=2.1.2,!=2.1.6,>=2.0.1 in /usr/local/lib/python3.7/dist-packages (from matplotlib==3.2.2->-r requirements.txt (line 11)) (3.0.9)\n",
            "Requirement already satisfied: six>=1.5 in /usr/local/lib/python3.7/dist-packages (from python-dateutil>=2.7.3->pandas==1.3.5->-r requirements.txt (line 2)) (1.15.0)\n",
            "Requirement already satisfied: idna<4,>=2.5 in /usr/local/lib/python3.7/dist-packages (from requests~=2.25->radiant_mlhub==0.4.1->-r requirements.txt (line 7)) (2.10)\n",
            "Requirement already satisfied: charset-normalizer<3,>=2 in /usr/local/lib/python3.7/dist-packages (from requests~=2.25->radiant_mlhub==0.4.1->-r requirements.txt (line 7)) (2.1.1)\n",
            "Requirement already satisfied: urllib3<1.27,>=1.21.1 in /usr/local/lib/python3.7/dist-packages (from requests~=2.25->radiant_mlhub==0.4.1->-r requirements.txt (line 7)) (1.24.3)\n",
            "Installing collected packages: snuggs, requests, pystac, cligj, click-plugins, affine, rasterio, radiant-mlhub, monai\n",
            "  Attempting uninstall: requests\n",
            "    Found existing installation: requests 2.23.0\n",
            "    Uninstalling requests-2.23.0:\n",
            "      Successfully uninstalled requests-2.23.0\n",
            "Successfully installed affine-2.3.1 click-plugins-1.1.1 cligj-0.7.2 monai-0.9.1 pystac-1.5.0 radiant-mlhub-0.4.1 rasterio-1.2.0 requests-2.28.1 snuggs-1.4.7\n"
          ]
        }
      ]
    },
    {
      "cell_type": "code",
      "execution_count": 3,
      "id": "28ea6e7d",
      "metadata": {
        "id": "28ea6e7d"
      },
      "outputs": [],
      "source": [
        "import os\n",
        "import json\n",
        "import getpass\n",
        "import rasterio\n",
        "import numpy as np\n",
        "import pandas as pd\n",
        "from tqdm import tqdm\n",
        "from radiant_mlhub import Dataset\n",
        "import tarfile\n",
        "import shutil\n",
        "import numpy as np\n",
        "import pandas as pd\n",
        "import torch\n",
        "import torch.utils.data\n",
        "from torch import nn\n",
        "from skimage import io\n",
        "from torchvision import transforms as torch_transforms\n",
        "import pylab as plt\n",
        "from PIL import Image\n",
        "from skimage.segmentation import mark_boundaries\n",
        "from monai.networks.layers import Norm\n",
        "from monai.networks.nets import UNet\n",
        "from monai.losses import DiceLoss, DiceCELoss, MaskedDiceLoss\n",
        "from monai.metrics import DiceMetric\n",
        "from torch.utils.tensorboard import SummaryWriter"
      ]
    },
    {
      "cell_type": "markdown",
      "source": [
        "## Specify global parameters"
      ],
      "metadata": {
        "id": "fQpDLC79m5A4"
      },
      "id": "fQpDLC79m5A4"
    },
    {
      "cell_type": "code",
      "source": [
        "data_dir = 'data'\n",
        "random_seed = 42\n",
        "\n",
        "train_df_path = 'train_data.csv'\n",
        "\n",
        "BAND_NAMES = ['B01', 'B02', 'B03', 'B04','B05', 'B06', 'B07', 'B08','B8A', 'B09', 'B11', 'B12']"
      ],
      "metadata": {
        "id": "rKuZKO3em_Av"
      },
      "id": "rKuZKO3em_Av",
      "execution_count": 4,
      "outputs": []
    },
    {
      "cell_type": "code",
      "source": [
        "np.random.seed(random_seed)"
      ],
      "metadata": {
        "id": "S-_SPonZnI8f"
      },
      "id": "S-_SPonZnI8f",
      "execution_count": 5,
      "outputs": []
    },
    {
      "cell_type": "markdown",
      "id": "835834a1",
      "metadata": {
        "id": "835834a1"
      },
      "source": [
        "## Download data from MLHUB\n"
      ]
    },
    {
      "cell_type": "code",
      "source": [
        "collection_name = 'ref_agrifieldnet_competition_v1'\n",
        "\n",
        "source_collection = f'{collection_name}_source'\n",
        "train_label_collection = f'{collection_name}_labels_train'\n",
        "test_label_collection = f'{collection_name}_labels_test'"
      ],
      "metadata": {
        "id": "v6t8zd3bJB51"
      },
      "id": "v6t8zd3bJB51",
      "execution_count": 6,
      "outputs": []
    },
    {
      "cell_type": "code",
      "execution_count": 7,
      "id": "cb1f3921",
      "metadata": {
        "scrolled": true,
        "colab": {
          "base_uri": "https://localhost:8080/",
          "height": 310,
          "referenced_widgets": [
            "24207ebbe13b4bdc8f6810bb004e8769",
            "032f6c67de004f1b927426e714061b1a",
            "11a0d359ef1c42429cc3f1abbaa67f34",
            "1e52500ce9854904bc22a8fff28960f9",
            "931fe5ed1fac4f468a64f04b3e4846a2",
            "90dc6c5efd5c48089cc0065715dba68e",
            "e0cfd1056f3d475b904ac595e84be158",
            "2909a3de4de443aaab53e3625077b12c",
            "7cebb25bfb6043bdb528194f3496e3a3",
            "1dcb36cf99a245c0a1cacb30f6692335",
            "0859e23566194074a0524ea407644119",
            "6c65f1caf23f462693a2ba7a0dd875a7",
            "1961cd3c7c60469ba7fe2f28a1a51ee2",
            "56b38b036ca24325bc26853bff8b9b80",
            "21c32511bd904e4592ce08d40377d716",
            "94b82aea913e4fc093fd0652a9226b88",
            "d10ea3df038f41a9b65dd781d50aef24",
            "91698ddb9b034c398e3cbc1d38eaf225",
            "70aaf09b7b5f4504bfdd00819fd523d8",
            "0460f6a5d1db4d72a1dd2ae8deffa9af",
            "0f40d3a82d304d27923028d4eca0ad2a",
            "62af1f13f6a742a99b069dbb33a000e5",
            "972a0807d80a4bc2a47197509ac831d4",
            "6a515afb59144c0f96fc0980b7a2bc82",
            "5f60ef8d2627487a8e5e625081214e0f",
            "e65654a899bb4c32bbd21ec0ce255c94",
            "a29c7a8db3c1471db396f6b1342af56a",
            "63e476535b6b410faacc36b4626f8849",
            "f13571d59cef4845937b2989b5b63490",
            "46c7a9901ece4d96a2b1471d7b4edc19",
            "725fc334d33f431486fbe6ea59274ec6",
            "e823cc89ac994cfb9feaa8973687a46f",
            "20e9ff5838594819876eeeb1797cca02"
          ]
        },
        "id": "cb1f3921",
        "outputId": "8ce367e0-a52e-43fa-eb9a-a0ed846da2ca"
      },
      "outputs": [
        {
          "name": "stdout",
          "output_type": "stream",
          "text": [
            "MLHub API Key: ··········\n"
          ]
        },
        {
          "output_type": "display_data",
          "data": {
            "text/plain": [
              "  0%|          | 0/0.5 [00:00<?, ?M/s]"
            ],
            "application/vnd.jupyter.widget-view+json": {
              "version_major": 2,
              "version_minor": 0,
              "model_id": "24207ebbe13b4bdc8f6810bb004e8769"
            }
          },
          "metadata": {}
        },
        {
          "output_type": "display_data",
          "data": {
            "text/plain": [
              "  0%|          | 0/324.3 [00:00<?, ?M/s]"
            ],
            "application/vnd.jupyter.widget-view+json": {
              "version_major": 2,
              "version_minor": 0,
              "model_id": "6c65f1caf23f462693a2ba7a0dd875a7"
            }
          },
          "metadata": {}
        },
        {
          "output_type": "stream",
          "name": "stderr",
          "text": [
            "WARNING:urllib3.connectionpool:Connection pool is full, discarding connection: radiantearth.blob.core.windows.net\n",
            "WARNING:urllib3.connectionpool:Connection pool is full, discarding connection: radiantearth.blob.core.windows.net\n",
            "WARNING:urllib3.connectionpool:Connection pool is full, discarding connection: radiantearth.blob.core.windows.net\n",
            "WARNING:urllib3.connectionpool:Connection pool is full, discarding connection: radiantearth.blob.core.windows.net\n",
            "WARNING:urllib3.connectionpool:Connection pool is full, discarding connection: radiantearth.blob.core.windows.net\n",
            "WARNING:urllib3.connectionpool:Connection pool is full, discarding connection: radiantearth.blob.core.windows.net\n",
            "WARNING:urllib3.connectionpool:Connection pool is full, discarding connection: radiantearth.blob.core.windows.net\n",
            "WARNING:urllib3.connectionpool:Connection pool is full, discarding connection: radiantearth.blob.core.windows.net\n",
            "WARNING:urllib3.connectionpool:Connection pool is full, discarding connection: radiantearth.blob.core.windows.net\n",
            "WARNING:urllib3.connectionpool:Connection pool is full, discarding connection: radiantearth.blob.core.windows.net\n"
          ]
        },
        {
          "output_type": "display_data",
          "data": {
            "text/plain": [
              "  0%|          | 0/1.3 [00:00<?, ?M/s]"
            ],
            "application/vnd.jupyter.widget-view+json": {
              "version_major": 2,
              "version_minor": 0,
              "model_id": "972a0807d80a4bc2a47197509ac831d4"
            }
          },
          "metadata": {}
        }
      ],
      "source": [
        "if not os.path.exists(data_dir):\n",
        "  os.environ['MLHUB_API_KEY'] =  getpass.getpass(prompt=\"MLHub API Key: \")\n",
        "\n",
        "  dataset = Dataset.fetch(collection_name)\n",
        "  dataset.download(output_dir=data_dir)\n",
        "  for fn in os.listdir(data_dir):\n",
        "    with tarfile.open(os.path.join(data_dir, fn)) as f:\n",
        "      f.extractall(data_dir + '/') \n",
        "    os.remove(os.path.join(data_dir, fn))\n",
        "else:\n",
        "  print(\"Dataset already exists\")"
      ]
    },
    {
      "cell_type": "markdown",
      "id": "c2b7152b",
      "metadata": {
        "id": "c2b7152b"
      },
      "source": [
        "## Prepare Training data\n"
      ]
    },
    {
      "cell_type": "markdown",
      "source": [
        "### Create training dataframe"
      ],
      "metadata": {
        "id": "HjvBEfBWmYY0"
      },
      "id": "HjvBEfBWmYY0"
    },
    {
      "cell_type": "code",
      "source": [
        "train_paths = os.listdir(os.path.join(data_dir, train_label_collection))\n",
        "train_ids = [fn.split('_')[-1] for fn in train_paths if 'labels_train' in fn]\n",
        "\n",
        "field_paths = [f'{data_dir}/{train_label_collection}/{train_label_collection}_{i}/field_ids.tif' \n",
        "               for i in train_ids]\n",
        "label_paths = [f'{data_dir}/{train_label_collection}/{train_label_collection}_{i}/raster_labels.tif' \n",
        "               for i in train_ids]\n",
        "source_paths = [f'{data_dir}/{source_collection}/{source_collection}_{i}/' \n",
        "               for i in train_ids]"
      ],
      "metadata": {
        "id": "GV9mPA1VTqt4"
      },
      "id": "GV9mPA1VTqt4",
      "execution_count": 8,
      "outputs": []
    },
    {
      "cell_type": "code",
      "execution_count": 9,
      "id": "d158c3e9",
      "metadata": {
        "id": "d158c3e9",
        "outputId": "3c832f93-816e-4ebf-be6a-36b876ed29c3",
        "colab": {
          "base_uri": "https://localhost:8080/",
          "height": 270
        }
      },
      "outputs": [
        {
          "output_type": "execute_result",
          "data": {
            "text/plain": [
              "  folder_id                                         field_path  \\\n",
              "0     91b2b  data/ref_agrifieldnet_competition_v1_labels_tr...   \n",
              "1     63409  data/ref_agrifieldnet_competition_v1_labels_tr...   \n",
              "2     964ef  data/ref_agrifieldnet_competition_v1_labels_tr...   \n",
              "3     98d1c  data/ref_agrifieldnet_competition_v1_labels_tr...   \n",
              "4     66e24  data/ref_agrifieldnet_competition_v1_labels_tr...   \n",
              "\n",
              "                                          label_path  \\\n",
              "0  data/ref_agrifieldnet_competition_v1_labels_tr...   \n",
              "1  data/ref_agrifieldnet_competition_v1_labels_tr...   \n",
              "2  data/ref_agrifieldnet_competition_v1_labels_tr...   \n",
              "3  data/ref_agrifieldnet_competition_v1_labels_tr...   \n",
              "4  data/ref_agrifieldnet_competition_v1_labels_tr...   \n",
              "\n",
              "                                         source_path  \n",
              "0  data/ref_agrifieldnet_competition_v1_source/re...  \n",
              "1  data/ref_agrifieldnet_competition_v1_source/re...  \n",
              "2  data/ref_agrifieldnet_competition_v1_source/re...  \n",
              "3  data/ref_agrifieldnet_competition_v1_source/re...  \n",
              "4  data/ref_agrifieldnet_competition_v1_source/re...  "
            ],
            "text/html": [
              "\n",
              "  <div id=\"df-2817b529-9d3a-413e-921c-b01fcd245ffa\">\n",
              "    <div class=\"colab-df-container\">\n",
              "      <div>\n",
              "<style scoped>\n",
              "    .dataframe tbody tr th:only-of-type {\n",
              "        vertical-align: middle;\n",
              "    }\n",
              "\n",
              "    .dataframe tbody tr th {\n",
              "        vertical-align: top;\n",
              "    }\n",
              "\n",
              "    .dataframe thead th {\n",
              "        text-align: right;\n",
              "    }\n",
              "</style>\n",
              "<table border=\"1\" class=\"dataframe\">\n",
              "  <thead>\n",
              "    <tr style=\"text-align: right;\">\n",
              "      <th></th>\n",
              "      <th>folder_id</th>\n",
              "      <th>field_path</th>\n",
              "      <th>label_path</th>\n",
              "      <th>source_path</th>\n",
              "    </tr>\n",
              "  </thead>\n",
              "  <tbody>\n",
              "    <tr>\n",
              "      <th>0</th>\n",
              "      <td>91b2b</td>\n",
              "      <td>data/ref_agrifieldnet_competition_v1_labels_tr...</td>\n",
              "      <td>data/ref_agrifieldnet_competition_v1_labels_tr...</td>\n",
              "      <td>data/ref_agrifieldnet_competition_v1_source/re...</td>\n",
              "    </tr>\n",
              "    <tr>\n",
              "      <th>1</th>\n",
              "      <td>63409</td>\n",
              "      <td>data/ref_agrifieldnet_competition_v1_labels_tr...</td>\n",
              "      <td>data/ref_agrifieldnet_competition_v1_labels_tr...</td>\n",
              "      <td>data/ref_agrifieldnet_competition_v1_source/re...</td>\n",
              "    </tr>\n",
              "    <tr>\n",
              "      <th>2</th>\n",
              "      <td>964ef</td>\n",
              "      <td>data/ref_agrifieldnet_competition_v1_labels_tr...</td>\n",
              "      <td>data/ref_agrifieldnet_competition_v1_labels_tr...</td>\n",
              "      <td>data/ref_agrifieldnet_competition_v1_source/re...</td>\n",
              "    </tr>\n",
              "    <tr>\n",
              "      <th>3</th>\n",
              "      <td>98d1c</td>\n",
              "      <td>data/ref_agrifieldnet_competition_v1_labels_tr...</td>\n",
              "      <td>data/ref_agrifieldnet_competition_v1_labels_tr...</td>\n",
              "      <td>data/ref_agrifieldnet_competition_v1_source/re...</td>\n",
              "    </tr>\n",
              "    <tr>\n",
              "      <th>4</th>\n",
              "      <td>66e24</td>\n",
              "      <td>data/ref_agrifieldnet_competition_v1_labels_tr...</td>\n",
              "      <td>data/ref_agrifieldnet_competition_v1_labels_tr...</td>\n",
              "      <td>data/ref_agrifieldnet_competition_v1_source/re...</td>\n",
              "    </tr>\n",
              "  </tbody>\n",
              "</table>\n",
              "</div>\n",
              "      <button class=\"colab-df-convert\" onclick=\"convertToInteractive('df-2817b529-9d3a-413e-921c-b01fcd245ffa')\"\n",
              "              title=\"Convert this dataframe to an interactive table.\"\n",
              "              style=\"display:none;\">\n",
              "        \n",
              "  <svg xmlns=\"http://www.w3.org/2000/svg\" height=\"24px\"viewBox=\"0 0 24 24\"\n",
              "       width=\"24px\">\n",
              "    <path d=\"M0 0h24v24H0V0z\" fill=\"none\"/>\n",
              "    <path d=\"M18.56 5.44l.94 2.06.94-2.06 2.06-.94-2.06-.94-.94-2.06-.94 2.06-2.06.94zm-11 1L8.5 8.5l.94-2.06 2.06-.94-2.06-.94L8.5 2.5l-.94 2.06-2.06.94zm10 10l.94 2.06.94-2.06 2.06-.94-2.06-.94-.94-2.06-.94 2.06-2.06.94z\"/><path d=\"M17.41 7.96l-1.37-1.37c-.4-.4-.92-.59-1.43-.59-.52 0-1.04.2-1.43.59L10.3 9.45l-7.72 7.72c-.78.78-.78 2.05 0 2.83L4 21.41c.39.39.9.59 1.41.59.51 0 1.02-.2 1.41-.59l7.78-7.78 2.81-2.81c.8-.78.8-2.07 0-2.86zM5.41 20L4 18.59l7.72-7.72 1.47 1.35L5.41 20z\"/>\n",
              "  </svg>\n",
              "      </button>\n",
              "      \n",
              "  <style>\n",
              "    .colab-df-container {\n",
              "      display:flex;\n",
              "      flex-wrap:wrap;\n",
              "      gap: 12px;\n",
              "    }\n",
              "\n",
              "    .colab-df-convert {\n",
              "      background-color: #E8F0FE;\n",
              "      border: none;\n",
              "      border-radius: 50%;\n",
              "      cursor: pointer;\n",
              "      display: none;\n",
              "      fill: #1967D2;\n",
              "      height: 32px;\n",
              "      padding: 0 0 0 0;\n",
              "      width: 32px;\n",
              "    }\n",
              "\n",
              "    .colab-df-convert:hover {\n",
              "      background-color: #E2EBFA;\n",
              "      box-shadow: 0px 1px 2px rgba(60, 64, 67, 0.3), 0px 1px 3px 1px rgba(60, 64, 67, 0.15);\n",
              "      fill: #174EA6;\n",
              "    }\n",
              "\n",
              "    [theme=dark] .colab-df-convert {\n",
              "      background-color: #3B4455;\n",
              "      fill: #D2E3FC;\n",
              "    }\n",
              "\n",
              "    [theme=dark] .colab-df-convert:hover {\n",
              "      background-color: #434B5C;\n",
              "      box-shadow: 0px 1px 3px 1px rgba(0, 0, 0, 0.15);\n",
              "      filter: drop-shadow(0px 1px 2px rgba(0, 0, 0, 0.3));\n",
              "      fill: #FFFFFF;\n",
              "    }\n",
              "  </style>\n",
              "\n",
              "      <script>\n",
              "        const buttonEl =\n",
              "          document.querySelector('#df-2817b529-9d3a-413e-921c-b01fcd245ffa button.colab-df-convert');\n",
              "        buttonEl.style.display =\n",
              "          google.colab.kernel.accessAllowed ? 'block' : 'none';\n",
              "\n",
              "        async function convertToInteractive(key) {\n",
              "          const element = document.querySelector('#df-2817b529-9d3a-413e-921c-b01fcd245ffa');\n",
              "          const dataTable =\n",
              "            await google.colab.kernel.invokeFunction('convertToInteractive',\n",
              "                                                     [key], {});\n",
              "          if (!dataTable) return;\n",
              "\n",
              "          const docLinkHtml = 'Like what you see? Visit the ' +\n",
              "            '<a target=\"_blank\" href=https://colab.research.google.com/notebooks/data_table.ipynb>data table notebook</a>'\n",
              "            + ' to learn more about interactive tables.';\n",
              "          element.innerHTML = '';\n",
              "          dataTable['output_type'] = 'display_data';\n",
              "          await google.colab.output.renderOutput(dataTable, element);\n",
              "          const docLink = document.createElement('div');\n",
              "          docLink.innerHTML = docLinkHtml;\n",
              "          element.appendChild(docLink);\n",
              "        }\n",
              "      </script>\n",
              "    </div>\n",
              "  </div>\n",
              "  "
            ]
          },
          "metadata": {},
          "execution_count": 9
        }
      ],
      "source": [
        "train_data = pd.DataFrame(np.array([train_ids, field_paths, label_paths, source_paths]).transpose(), \n",
        "                          columns=['folder_id', 'field_path', 'label_path', 'source_path'])\n",
        "train_data.head()"
      ]
    },
    {
      "cell_type": "markdown",
      "source": [
        "### Split the data into train and validation"
      ],
      "metadata": {
        "id": "tXq1MIEveISx"
      },
      "id": "tXq1MIEveISx"
    },
    {
      "cell_type": "code",
      "source": [
        "np.random.seed(random_seed)\n",
        "ind = np.arange(len(train_data))\n",
        "np.random.shuffle(ind)"
      ],
      "metadata": {
        "id": "OsK4U6L0dicl"
      },
      "id": "OsK4U6L0dicl",
      "execution_count": 10,
      "outputs": []
    },
    {
      "cell_type": "code",
      "source": [
        "val_fraction = 0.2\n",
        "n_val = int(round(val_fraction * len(train_data)))\n",
        "n_val"
      ],
      "metadata": {
        "colab": {
          "base_uri": "https://localhost:8080/"
        },
        "id": "3o9WUEGyeXLs",
        "outputId": "adbbbd42-4fb3-4ea8-cb43-3676a83ccea5"
      },
      "id": "3o9WUEGyeXLs",
      "execution_count": 11,
      "outputs": [
        {
          "output_type": "execute_result",
          "data": {
            "text/plain": [
              "233"
            ]
          },
          "metadata": {},
          "execution_count": 11
        }
      ]
    },
    {
      "cell_type": "code",
      "source": [
        "train_data['split'] = ''\n",
        "train_data['split'][ind[:n_val]] = 'validation'\n",
        "train_data['split'][ind[n_val:]] = 'train'\n",
        "train_data.head()"
      ],
      "metadata": {
        "colab": {
          "base_uri": "https://localhost:8080/",
          "height": 270
        },
        "id": "5sTsJ7MHemaR",
        "outputId": "20e0785f-3357-4b29-e346-5cdc588bf0d8"
      },
      "id": "5sTsJ7MHemaR",
      "execution_count": 12,
      "outputs": [
        {
          "output_type": "execute_result",
          "data": {
            "text/plain": [
              "  folder_id                                         field_path  \\\n",
              "0     91b2b  data/ref_agrifieldnet_competition_v1_labels_tr...   \n",
              "1     63409  data/ref_agrifieldnet_competition_v1_labels_tr...   \n",
              "2     964ef  data/ref_agrifieldnet_competition_v1_labels_tr...   \n",
              "3     98d1c  data/ref_agrifieldnet_competition_v1_labels_tr...   \n",
              "4     66e24  data/ref_agrifieldnet_competition_v1_labels_tr...   \n",
              "\n",
              "                                          label_path  \\\n",
              "0  data/ref_agrifieldnet_competition_v1_labels_tr...   \n",
              "1  data/ref_agrifieldnet_competition_v1_labels_tr...   \n",
              "2  data/ref_agrifieldnet_competition_v1_labels_tr...   \n",
              "3  data/ref_agrifieldnet_competition_v1_labels_tr...   \n",
              "4  data/ref_agrifieldnet_competition_v1_labels_tr...   \n",
              "\n",
              "                                         source_path  split  \n",
              "0  data/ref_agrifieldnet_competition_v1_source/re...  train  \n",
              "1  data/ref_agrifieldnet_competition_v1_source/re...  train  \n",
              "2  data/ref_agrifieldnet_competition_v1_source/re...  train  \n",
              "3  data/ref_agrifieldnet_competition_v1_source/re...  train  \n",
              "4  data/ref_agrifieldnet_competition_v1_source/re...  train  "
            ],
            "text/html": [
              "\n",
              "  <div id=\"df-49f8e7cc-c9ee-4823-b730-4547a5290614\">\n",
              "    <div class=\"colab-df-container\">\n",
              "      <div>\n",
              "<style scoped>\n",
              "    .dataframe tbody tr th:only-of-type {\n",
              "        vertical-align: middle;\n",
              "    }\n",
              "\n",
              "    .dataframe tbody tr th {\n",
              "        vertical-align: top;\n",
              "    }\n",
              "\n",
              "    .dataframe thead th {\n",
              "        text-align: right;\n",
              "    }\n",
              "</style>\n",
              "<table border=\"1\" class=\"dataframe\">\n",
              "  <thead>\n",
              "    <tr style=\"text-align: right;\">\n",
              "      <th></th>\n",
              "      <th>folder_id</th>\n",
              "      <th>field_path</th>\n",
              "      <th>label_path</th>\n",
              "      <th>source_path</th>\n",
              "      <th>split</th>\n",
              "    </tr>\n",
              "  </thead>\n",
              "  <tbody>\n",
              "    <tr>\n",
              "      <th>0</th>\n",
              "      <td>91b2b</td>\n",
              "      <td>data/ref_agrifieldnet_competition_v1_labels_tr...</td>\n",
              "      <td>data/ref_agrifieldnet_competition_v1_labels_tr...</td>\n",
              "      <td>data/ref_agrifieldnet_competition_v1_source/re...</td>\n",
              "      <td>train</td>\n",
              "    </tr>\n",
              "    <tr>\n",
              "      <th>1</th>\n",
              "      <td>63409</td>\n",
              "      <td>data/ref_agrifieldnet_competition_v1_labels_tr...</td>\n",
              "      <td>data/ref_agrifieldnet_competition_v1_labels_tr...</td>\n",
              "      <td>data/ref_agrifieldnet_competition_v1_source/re...</td>\n",
              "      <td>train</td>\n",
              "    </tr>\n",
              "    <tr>\n",
              "      <th>2</th>\n",
              "      <td>964ef</td>\n",
              "      <td>data/ref_agrifieldnet_competition_v1_labels_tr...</td>\n",
              "      <td>data/ref_agrifieldnet_competition_v1_labels_tr...</td>\n",
              "      <td>data/ref_agrifieldnet_competition_v1_source/re...</td>\n",
              "      <td>train</td>\n",
              "    </tr>\n",
              "    <tr>\n",
              "      <th>3</th>\n",
              "      <td>98d1c</td>\n",
              "      <td>data/ref_agrifieldnet_competition_v1_labels_tr...</td>\n",
              "      <td>data/ref_agrifieldnet_competition_v1_labels_tr...</td>\n",
              "      <td>data/ref_agrifieldnet_competition_v1_source/re...</td>\n",
              "      <td>train</td>\n",
              "    </tr>\n",
              "    <tr>\n",
              "      <th>4</th>\n",
              "      <td>66e24</td>\n",
              "      <td>data/ref_agrifieldnet_competition_v1_labels_tr...</td>\n",
              "      <td>data/ref_agrifieldnet_competition_v1_labels_tr...</td>\n",
              "      <td>data/ref_agrifieldnet_competition_v1_source/re...</td>\n",
              "      <td>train</td>\n",
              "    </tr>\n",
              "  </tbody>\n",
              "</table>\n",
              "</div>\n",
              "      <button class=\"colab-df-convert\" onclick=\"convertToInteractive('df-49f8e7cc-c9ee-4823-b730-4547a5290614')\"\n",
              "              title=\"Convert this dataframe to an interactive table.\"\n",
              "              style=\"display:none;\">\n",
              "        \n",
              "  <svg xmlns=\"http://www.w3.org/2000/svg\" height=\"24px\"viewBox=\"0 0 24 24\"\n",
              "       width=\"24px\">\n",
              "    <path d=\"M0 0h24v24H0V0z\" fill=\"none\"/>\n",
              "    <path d=\"M18.56 5.44l.94 2.06.94-2.06 2.06-.94-2.06-.94-.94-2.06-.94 2.06-2.06.94zm-11 1L8.5 8.5l.94-2.06 2.06-.94-2.06-.94L8.5 2.5l-.94 2.06-2.06.94zm10 10l.94 2.06.94-2.06 2.06-.94-2.06-.94-.94-2.06-.94 2.06-2.06.94z\"/><path d=\"M17.41 7.96l-1.37-1.37c-.4-.4-.92-.59-1.43-.59-.52 0-1.04.2-1.43.59L10.3 9.45l-7.72 7.72c-.78.78-.78 2.05 0 2.83L4 21.41c.39.39.9.59 1.41.59.51 0 1.02-.2 1.41-.59l7.78-7.78 2.81-2.81c.8-.78.8-2.07 0-2.86zM5.41 20L4 18.59l7.72-7.72 1.47 1.35L5.41 20z\"/>\n",
              "  </svg>\n",
              "      </button>\n",
              "      \n",
              "  <style>\n",
              "    .colab-df-container {\n",
              "      display:flex;\n",
              "      flex-wrap:wrap;\n",
              "      gap: 12px;\n",
              "    }\n",
              "\n",
              "    .colab-df-convert {\n",
              "      background-color: #E8F0FE;\n",
              "      border: none;\n",
              "      border-radius: 50%;\n",
              "      cursor: pointer;\n",
              "      display: none;\n",
              "      fill: #1967D2;\n",
              "      height: 32px;\n",
              "      padding: 0 0 0 0;\n",
              "      width: 32px;\n",
              "    }\n",
              "\n",
              "    .colab-df-convert:hover {\n",
              "      background-color: #E2EBFA;\n",
              "      box-shadow: 0px 1px 2px rgba(60, 64, 67, 0.3), 0px 1px 3px 1px rgba(60, 64, 67, 0.15);\n",
              "      fill: #174EA6;\n",
              "    }\n",
              "\n",
              "    [theme=dark] .colab-df-convert {\n",
              "      background-color: #3B4455;\n",
              "      fill: #D2E3FC;\n",
              "    }\n",
              "\n",
              "    [theme=dark] .colab-df-convert:hover {\n",
              "      background-color: #434B5C;\n",
              "      box-shadow: 0px 1px 3px 1px rgba(0, 0, 0, 0.15);\n",
              "      filter: drop-shadow(0px 1px 2px rgba(0, 0, 0, 0.3));\n",
              "      fill: #FFFFFF;\n",
              "    }\n",
              "  </style>\n",
              "\n",
              "      <script>\n",
              "        const buttonEl =\n",
              "          document.querySelector('#df-49f8e7cc-c9ee-4823-b730-4547a5290614 button.colab-df-convert');\n",
              "        buttonEl.style.display =\n",
              "          google.colab.kernel.accessAllowed ? 'block' : 'none';\n",
              "\n",
              "        async function convertToInteractive(key) {\n",
              "          const element = document.querySelector('#df-49f8e7cc-c9ee-4823-b730-4547a5290614');\n",
              "          const dataTable =\n",
              "            await google.colab.kernel.invokeFunction('convertToInteractive',\n",
              "                                                     [key], {});\n",
              "          if (!dataTable) return;\n",
              "\n",
              "          const docLinkHtml = 'Like what you see? Visit the ' +\n",
              "            '<a target=\"_blank\" href=https://colab.research.google.com/notebooks/data_table.ipynb>data table notebook</a>'\n",
              "            + ' to learn more about interactive tables.';\n",
              "          element.innerHTML = '';\n",
              "          dataTable['output_type'] = 'display_data';\n",
              "          await google.colab.output.renderOutput(dataTable, element);\n",
              "          const docLink = document.createElement('div');\n",
              "          docLink.innerHTML = docLinkHtml;\n",
              "          element.appendChild(docLink);\n",
              "        }\n",
              "      </script>\n",
              "    </div>\n",
              "  </div>\n",
              "  "
            ]
          },
          "metadata": {},
          "execution_count": 12
        }
      ]
    },
    {
      "cell_type": "code",
      "source": [
        "train_data.to_csv(train_df_path, index=False)"
      ],
      "metadata": {
        "id": "BQ3F1H3ZferT"
      },
      "id": "BQ3F1H3ZferT",
      "execution_count": 13,
      "outputs": []
    },
    {
      "cell_type": "markdown",
      "source": [
        "## Extract labels"
      ],
      "metadata": {
        "id": "lLqI5XgBOyxE"
      },
      "id": "lLqI5XgBOyxE"
    },
    {
      "cell_type": "code",
      "source": [
        "with open(f'{data_dir}/{train_label_collection}/{train_label_collection}'\n",
        "          f'_{train_data.iloc[0][\"folder_id\"]}/stac.json') as ll:\n",
        "    label_json = json.load(ll)"
      ],
      "metadata": {
        "id": "p9s-spgZO12F"
      },
      "id": "p9s-spgZO12F",
      "execution_count": 14,
      "outputs": []
    },
    {
      "cell_type": "code",
      "source": [
        "crop_dict = {asset.get('values')[0]:asset.get('summary') \n",
        "  for asset in label_json['assets']['raster_labels']['file:values']}\n",
        "crop_labels = [key for key in crop_dict.keys()]\n",
        "crop_dict, crop_labels"
      ],
      "metadata": {
        "colab": {
          "base_uri": "https://localhost:8080/"
        },
        "id": "7rjt5idSPvjH",
        "outputId": "3d461d06-c404-4392-b461-79929f41d73f"
      },
      "id": "7rjt5idSPvjH",
      "execution_count": 15,
      "outputs": [
        {
          "output_type": "execute_result",
          "data": {
            "text/plain": [
              "({1: 'Wheat',\n",
              "  2: 'Mustard',\n",
              "  3: 'Lentil',\n",
              "  4: 'No Crop',\n",
              "  6: 'Sugarcane',\n",
              "  8: 'Garlic',\n",
              "  15: 'Potato',\n",
              "  5: 'Green pea',\n",
              "  16: 'Bersem',\n",
              "  14: 'Coriander',\n",
              "  13: 'Gram',\n",
              "  9: 'Maize',\n",
              "  36: 'Rice'},\n",
              " [1, 2, 3, 4, 6, 8, 15, 5, 16, 14, 13, 9, 36])"
            ]
          },
          "metadata": {},
          "execution_count": 15
        }
      ]
    },
    {
      "cell_type": "markdown",
      "source": [
        "## Specify Data Loading pipeline"
      ],
      "metadata": {
        "id": "Etysg8Y8m0H5"
      },
      "id": "Etysg8Y8m0H5"
    },
    {
      "cell_type": "markdown",
      "source": [
        "### Specify parameters"
      ],
      "metadata": {
        "id": "GmmFMzALqPcQ"
      },
      "id": "GmmFMzALqPcQ"
    },
    {
      "cell_type": "code",
      "source": [
        "batch_size = 16"
      ],
      "metadata": {
        "id": "6bZsIvgBqRer"
      },
      "id": "6bZsIvgBqRer",
      "execution_count": 16,
      "outputs": []
    },
    {
      "cell_type": "markdown",
      "source": [
        "### Specify the Dataset"
      ],
      "metadata": {
        "id": "1EVJPEqbnr_J"
      },
      "id": "1EVJPEqbnr_J"
    },
    {
      "cell_type": "code",
      "source": [
        "class AgriDataset(torch.utils.data.Dataset):\n",
        "\n",
        "  def __init__(self, df, phase='train', transforms=None, \n",
        "               band_names=BAND_NAMES):\n",
        "    assert phase in ['train', 'validation']\n",
        "    self.df = df[df['split'] == phase]\n",
        "    self.transforms = transforms\n",
        "    self.band_names = band_names\n",
        "\n",
        "  def __getitem__(self, index):\n",
        "    imgs = []\n",
        "    for band in self.band_names:\n",
        "      source_fn = rf\"{self.df.iloc[index]['source_path']}{band}.tif\"\n",
        "      with rasterio.open(source_fn) as src:\n",
        "        imgs.append(src.read()[0].astype(np.float64)/255.)\n",
        "    with rasterio.open(self.df.iloc[index]['label_path']) as src:\n",
        "      labels = src.read()[0].astype(np.int64)\n",
        "\n",
        "    labels = torch.tensor(labels).unsqueeze(0)\n",
        "    imgs = torch.tensor(np.array(imgs))\n",
        "      \n",
        "    if self.transforms:\n",
        "      seed = np.random.randint(np.iinfo('int32').max)\n",
        "      torch.manual_seed(seed)\n",
        "      labels = self.transforms(labels)\n",
        "      torch.manual_seed(seed)\n",
        "      imgs = self.transforms(imgs)\n",
        "\n",
        "\n",
        "      # new_imgs = []\n",
        "      # for img in imgs:\n",
        "      #   torch.manual_seed(seed)\n",
        "      #   new_imgs.append(self.transforms(img.unsqueeze(0)))\n",
        "      # imgs = torch.stack(new_imgs).squeeze(1)\n",
        "\n",
        "    return imgs.float(), labels\n",
        "    \n",
        "\n",
        "  def __len__(self):\n",
        "    return len(self.df)"
      ],
      "metadata": {
        "id": "2hX7SpwQe0H5"
      },
      "id": "2hX7SpwQe0H5",
      "execution_count": 42,
      "outputs": []
    },
    {
      "cell_type": "markdown",
      "source": [
        "### Specify transforms"
      ],
      "metadata": {
        "id": "nN70MBjGzOUH"
      },
      "id": "nN70MBjGzOUH"
    },
    {
      "cell_type": "code",
      "source": [
        "train_transforms = torch_transforms.Compose([\n",
        "        torch_transforms.RandomHorizontalFlip(),\n",
        "        torch_transforms.RandomVerticalFlip(),\n",
        "        torch_transforms.RandomRotation(degrees=30),\n",
        "    ])\n",
        "\n",
        "validation_transforms = torch_transforms.Compose([\n",
        "        torch_transforms.RandomHorizontalFlip(),\n",
        "        torch_transforms.RandomVerticalFlip(),\n",
        "    ])"
      ],
      "metadata": {
        "id": "4MbR7RMSzRpO"
      },
      "id": "4MbR7RMSzRpO",
      "execution_count": 18,
      "outputs": []
    },
    {
      "cell_type": "markdown",
      "source": [
        "### Test the loaders"
      ],
      "metadata": {
        "id": "TMWu0HGHLciF"
      },
      "id": "TMWu0HGHLciF"
    },
    {
      "cell_type": "code",
      "source": [
        "np.random.seed(random_seed)\n",
        "dl_train0 = torch.utils.data.DataLoader(\n",
        "    AgriDataset(train_data, phase='train', \n",
        "                # transforms=train_transforms\n",
        "                ), \n",
        "    shuffle=False, batch_size=batch_size, num_workers=2\n",
        "    )\n",
        "dl_train = torch.utils.data.DataLoader(\n",
        "    AgriDataset(train_data, phase='train', \n",
        "                transforms=train_transforms\n",
        "                ), \n",
        "    shuffle=False, batch_size=batch_size, num_workers=2\n",
        "    )\n",
        "dl_val = torch.utils.data.DataLoader(\n",
        "    AgriDataset(train_data, phase='validation', \n",
        "                transforms=validation_transforms\n",
        "                ), \n",
        "    shuffle=False, batch_size=batch_size, num_workers=2\n",
        "    )"
      ],
      "metadata": {
        "id": "CF_RmPV7mywU"
      },
      "id": "CF_RmPV7mywU",
      "execution_count": 19,
      "outputs": []
    },
    {
      "cell_type": "code",
      "source": [
        "imgs, labels = next(iter(dl_train))\n",
        "imgs0, labels0 = next(iter(dl_train0))"
      ],
      "metadata": {
        "id": "-im5bMRLr8Zq"
      },
      "id": "-im5bMRLr8Zq",
      "execution_count": 20,
      "outputs": []
    },
    {
      "cell_type": "code",
      "source": [
        "imgs.shape, labels.shape"
      ],
      "metadata": {
        "colab": {
          "base_uri": "https://localhost:8080/"
        },
        "id": "u9iid9I7sPsF",
        "outputId": "d95115f1-0f4a-4042-fed2-1890fb91ea74"
      },
      "id": "u9iid9I7sPsF",
      "execution_count": 21,
      "outputs": [
        {
          "output_type": "execute_result",
          "data": {
            "text/plain": [
              "(torch.Size([16, 12, 256, 256]), torch.Size([16, 1, 256, 256]))"
            ]
          },
          "metadata": {},
          "execution_count": 21
        }
      ]
    },
    {
      "cell_type": "code",
      "source": [
        "ind = 0\n",
        "s = 3"
      ],
      "metadata": {
        "id": "Q4mkN3NawctR"
      },
      "id": "Q4mkN3NawctR",
      "execution_count": 22,
      "outputs": []
    },
    {
      "cell_type": "code",
      "source": [
        "plt.figure(figsize=(s,s))\n",
        "io.imshow(labels[ind][0].numpy())"
      ],
      "metadata": {
        "colab": {
          "base_uri": "https://localhost:8080/",
          "height": 0
        },
        "id": "dq3HRgpFydDU",
        "outputId": "9a33684c-6e0f-43ef-d574-f2fe251d1d77"
      },
      "id": "dq3HRgpFydDU",
      "execution_count": 23,
      "outputs": [
        {
          "output_type": "stream",
          "name": "stderr",
          "text": [
            "/usr/local/lib/python3.7/dist-packages/skimage/io/_plugins/matplotlib_plugin.py:150: UserWarning: Low image data range; displaying image with stretched contrast.\n",
            "  lo, hi, cmap = _get_display_range(image)\n"
          ]
        },
        {
          "output_type": "execute_result",
          "data": {
            "text/plain": [
              "<matplotlib.image.AxesImage at 0x7f5efb7e9850>"
            ]
          },
          "metadata": {},
          "execution_count": 23
        },
        {
          "output_type": "display_data",
          "data": {
            "text/plain": [
              "<Figure size 216x216 with 2 Axes>"
            ],
            "image/png": "[encoded data removed]"
          },
          "metadata": {
            "needs_background": "light"
          }
        }
      ]
    },
    {
      "cell_type": "code",
      "source": [
        "plt.figure(figsize=(s,s))\n",
        "io.imshow(labels0[ind][0].numpy())"
      ],
      "metadata": {
        "colab": {
          "base_uri": "https://localhost:8080/",
          "height": 0
        },
        "id": "juddfw_xIVX_",
        "outputId": "06da8adb-0d01-405a-9cd0-77318e8b304d"
      },
      "id": "juddfw_xIVX_",
      "execution_count": 24,
      "outputs": [
        {
          "output_type": "execute_result",
          "data": {
            "text/plain": [
              "<matplotlib.image.AxesImage at 0x7f5efb6a9f10>"
            ]
          },
          "metadata": {},
          "execution_count": 24
        },
        {
          "output_type": "display_data",
          "data": {
            "text/plain": [
              "<Figure size 216x216 with 2 Axes>"
            ],
            "image/png": "[encoded data removed]"
          },
          "metadata": {
            "needs_background": "light"
          }
        }
      ]
    },
    {
      "cell_type": "code",
      "source": [
        "sl0 = tuple([slice(70, 100), slice(20, 50)])\n",
        "sl = tuple([slice(190, 220), slice(40, 70)])"
      ],
      "metadata": {
        "id": "dznzNw21ydG_"
      },
      "id": "dznzNw21ydG_",
      "execution_count": 25,
      "outputs": []
    },
    {
      "cell_type": "code",
      "source": [
        "fig, axes = plt.subplots(3, 4, figsize=(s*4, s*3))\n",
        "for ax, img in zip(axes.ravel(), imgs[ind]):\n",
        "  plt.sca(ax)\n",
        "  im = img[sl].numpy()\n",
        "  im = im / np.max(im)\n",
        "  io.imshow(mark_boundaries(im, labels[ind][0][sl].numpy(), \n",
        "                            mode='outer'))"
      ],
      "metadata": {
        "colab": {
          "base_uri": "https://localhost:8080/",
          "height": 0
        },
        "id": "L3ssR_ibGyeG",
        "outputId": "5c855e35-acaa-41fa-ec29-4de39dc7b072"
      },
      "id": "L3ssR_ibGyeG",
      "execution_count": 26,
      "outputs": [
        {
          "output_type": "display_data",
          "data": {
            "text/plain": [
              "<Figure size 864x648 with 14 Axes>"
            ],
            "image/png": "[encoded data removed]"
          },
          "metadata": {
            "needs_background": "light"
          }
        }
      ]
    },
    {
      "cell_type": "code",
      "source": [
        "fig, axes = plt.subplots(3, 4, figsize=(s*4, s*3))\n",
        "for ax, img in zip(axes.ravel(), imgs0[ind]):\n",
        "  plt.sca(ax)\n",
        "  im = img[sl0].numpy()\n",
        "  im = im / np.max(im)\n",
        "  io.imshow(mark_boundaries(im, labels0[ind][0][sl0].numpy(), \n",
        "                            mode='outer'))"
      ],
      "metadata": {
        "colab": {
          "base_uri": "https://localhost:8080/",
          "height": 0
        },
        "id": "2zh4jKUlB_85",
        "outputId": "7bc9756a-15a8-469e-8cd6-8beb9635d46a"
      },
      "id": "2zh4jKUlB_85",
      "execution_count": 27,
      "outputs": [
        {
          "output_type": "display_data",
          "data": {
            "text/plain": [
              "<Figure size 864x648 with 15 Axes>"
            ],
            "image/png": "[encoded data removed]"
          },
          "metadata": {
            "needs_background": "light"
          }
        }
      ]
    },
    {
      "cell_type": "markdown",
      "source": [
        "### Specify the loaders"
      ],
      "metadata": {
        "id": "zrW5YsCYLkei"
      },
      "id": "zrW5YsCYLkei"
    },
    {
      "cell_type": "code",
      "source": [
        "np.random.seed(random_seed)\n",
        "\n",
        "dl_train = torch.utils.data.DataLoader(\n",
        "    AgriDataset(train_data, phase='train', \n",
        "                transforms=train_transforms\n",
        "                ), \n",
        "    shuffle=True, batch_size=batch_size, num_workers=2\n",
        "    )\n",
        "dl_val = torch.utils.data.DataLoader(\n",
        "    AgriDataset(train_data, phase='validation', \n",
        "                transforms=validation_transforms\n",
        "                ), \n",
        "    shuffle=False, batch_size=batch_size, num_workers=2\n",
        "    )"
      ],
      "metadata": {
        "id": "Oo8c96-bFVaT"
      },
      "id": "Oo8c96-bFVaT",
      "execution_count": 28,
      "outputs": []
    },
    {
      "cell_type": "code",
      "source": [],
      "metadata": {
        "id": "2CUkdnhOfVuf"
      },
      "id": "2CUkdnhOfVuf",
      "execution_count": 28,
      "outputs": []
    },
    {
      "cell_type": "markdown",
      "source": [
        "## Specify the training pipeline"
      ],
      "metadata": {
        "id": "ewYce_-h3SaV"
      },
      "id": "ewYce_-h3SaV"
    },
    {
      "cell_type": "markdown",
      "source": [
        "### Parameters"
      ],
      "metadata": {
        "id": "7BS58Jm4Ak8z"
      },
      "id": "7BS58Jm4Ak8z"
    },
    {
      "cell_type": "code",
      "source": [
        "out_channels = np.max(crop_labels) + 1\n",
        "n_channels = (32, 64, 128, 256, 512)\n",
        "lr = 0.0001\n",
        "weight_decay = 0.0005\n",
        "factor = 0.1\n",
        "patience = 20\n",
        "epochs = 100"
      ],
      "metadata": {
        "id": "4ylw-WU030cZ"
      },
      "id": "4ylw-WU030cZ",
      "execution_count": 29,
      "outputs": []
    },
    {
      "cell_type": "markdown",
      "source": [
        "### Model and loss"
      ],
      "metadata": {
        "id": "0St9WaOKAEYu"
      },
      "id": "0St9WaOKAEYu"
    },
    {
      "cell_type": "code",
      "source": [
        "net = UNet(\n",
        "    spatial_dims=2,\n",
        "    in_channels=len(BAND_NAMES),\n",
        "    out_channels=out_channels,\n",
        "    channels=n_channels,\n",
        "    strides=(2,) * (len(n_channels) - 1),\n",
        "    num_res_units=2,\n",
        "    norm=Norm.BATCH,\n",
        ").cuda()"
      ],
      "metadata": {
        "id": "ys4O47yKLsyo"
      },
      "id": "ys4O47yKLsyo",
      "execution_count": 30,
      "outputs": []
    },
    {
      "cell_type": "code",
      "source": [
        "class MaskedDiceCELoss(nn.Module):\n",
        "\n",
        "  def __init__(self, include_background=False, to_onehot_y=True, softmax=True,\n",
        "               dice_ce_weight=1, dice_mask_weight=1):\n",
        "    \n",
        "    super().__init__()\n",
        "    self.diceCELoss = DiceCELoss(include_background=include_background, \n",
        "                                 to_onehot_y=to_onehot_y, \n",
        "                                 softmax=softmax)\n",
        "    self.diceMasked = MaskedDiceLoss(include_background=include_background, \n",
        "                                       to_onehot_y=to_onehot_y, \n",
        "                                       softmax=softmax)\n",
        "    self.dice_ce_weight = dice_ce_weight\n",
        "    self.dice_mask_weight = dice_mask_weight\n",
        "\n",
        "  def forward(self, input, target, mask):\n",
        "    loss1 = self.diceCELoss(input, target)*self.dice_ce_weight \n",
        "    loss2 = self.diceMasked(input, target, mask)*self.dice_mask_weight\n",
        "    return loss1 + loss2"
      ],
      "metadata": {
        "id": "z4Xoi7ZkTBDA"
      },
      "id": "z4Xoi7ZkTBDA",
      "execution_count": 31,
      "outputs": []
    },
    {
      "cell_type": "code",
      "source": [
        "loss_fn = MaskedDiceCELoss(include_background=False, \n",
        "                           to_onehot_y=True, softmax=True).cuda()\n",
        "metric = DiceMetric(include_background=False, reduction=\"mean\")"
      ],
      "metadata": {
        "id": "5_Rns_Wa41hR"
      },
      "id": "5_Rns_Wa41hR",
      "execution_count": 32,
      "outputs": []
    },
    {
      "cell_type": "markdown",
      "source": [
        "### Optimizer and scheduler"
      ],
      "metadata": {
        "id": "4Ez9CUTN9cYo"
      },
      "id": "4Ez9CUTN9cYo"
    },
    {
      "cell_type": "code",
      "source": [
        "optimizer = torch.optim.AdamW(\n",
        "    params=[{\"params\": [p for p in net.parameters() if p.requires_grad]}],\n",
        "            lr=lr, weight_decay=weight_decay\n",
        "            )"
      ],
      "metadata": {
        "id": "69pKnisc4nyy"
      },
      "id": "69pKnisc4nyy",
      "execution_count": 33,
      "outputs": []
    },
    {
      "cell_type": "code",
      "source": [
        "lr_scheduler = torch.optim.lr_scheduler.ReduceLROnPlateau(\n",
        "    optimizer, mode='min', factor=factor, patience=patience\n",
        "    )"
      ],
      "metadata": {
        "id": "k5qk5WcZ4SD1"
      },
      "id": "k5qk5WcZ4SD1",
      "execution_count": 34,
      "outputs": []
    },
    {
      "cell_type": "markdown",
      "source": [
        "### Training step"
      ],
      "metadata": {
        "id": "bkfDGGNQBg4G"
      },
      "id": "bkfDGGNQBg4G"
    },
    {
      "cell_type": "code",
      "source": [
        "def train_epoch(net, loss_fn, dl_train, optimizer):\n",
        "  net.train()\n",
        "  loss_fn.train()\n",
        "  epoch_loss = 0\n",
        "  step = 0\n",
        "  for imgs, targets in tqdm(dl_train):\n",
        "    step += 1\n",
        "    optimizer.zero_grad()\n",
        "    outputs = net(imgs.cuda())\n",
        "    losses = loss_fn(outputs, targets.cuda(), targets.cuda() > 0)\n",
        "    losses.backward()\n",
        "    optimizer.step()\n",
        "    epoch_loss += losses.item()\n",
        "  epoch_loss /= step\n",
        "  return epoch_loss"
      ],
      "metadata": {
        "id": "xsBjaMOWDh1r"
      },
      "id": "xsBjaMOWDh1r",
      "execution_count": 35,
      "outputs": []
    },
    {
      "cell_type": "markdown",
      "source": [
        "### Validation step"
      ],
      "metadata": {
        "id": "J04gxD4jBmvj"
      },
      "id": "J04gxD4jBmvj"
    },
    {
      "cell_type": "code",
      "source": [
        "def validate_epoch(net, loss_fn, dl_val, metric):\n",
        "  net.eval()\n",
        "  loss_fn.eval()\n",
        "  epoch_loss = 0\n",
        "  step = 0\n",
        "\n",
        "  with torch.no_grad():\n",
        "    for imgs, targets in tqdm(dl_val):\n",
        "      step += 1\n",
        "      outputs = net(imgs.cuda())\n",
        "      losses = loss_fn(outputs, targets.cuda(), targets.cuda() > 0)\n",
        "      epoch_loss += losses.item()\n",
        "      metric(outputs.argmax(1).unsqueeze(1), targets.cuda())\n",
        "  epoch_loss /= step\n",
        "  return epoch_loss, metric"
      ],
      "metadata": {
        "id": "NDl3BucGGCVn"
      },
      "id": "NDl3BucGGCVn",
      "execution_count": 36,
      "outputs": []
    },
    {
      "cell_type": "markdown",
      "source": [
        "## Train the model"
      ],
      "metadata": {
        "id": "1Vyi8pDqG_xg"
      },
      "id": "1Vyi8pDqG_xg"
    },
    {
      "cell_type": "code",
      "source": [
        "%%time\n",
        "train_losses = []\n",
        "val_losses = []\n",
        "val_metrics = []\n",
        "for epoch in range(epochs):\n",
        "    # training pass\n",
        "    train_loss = train_epoch(net, loss_fn, dl_train, optimizer)\n",
        "\n",
        "    # validation pass\n",
        "    val_loss, metric = validate_epoch(net, loss_fn, dl_val, metric)\n",
        "    val_metric = metric.aggregate().item()\n",
        "    metric.reset()\n",
        "\n",
        "    # update learning rate\n",
        "    lr_scheduler.step(val_loss)\n",
        "\n",
        "    # output\n",
        "    print(f\"epoch {epoch + 1} training loss: {train_loss:.4f}; \"\n",
        "          f\"validation loss: {val_loss:.4f}; Dice metric: {val_metric:.4f}\")\n",
        "    train_losses.append(train_loss)\n",
        "    val_losses.append(val_loss)\n",
        "    val_metrics.append(val_metric)"
      ],
      "metadata": {
        "id": "gCL8_nUXG_GS",
        "colab": {
          "base_uri": "https://localhost:8080/"
        },
        "outputId": "a26748d2-9a7c-497f-fc54-1988f90ef2f3"
      },
      "id": "gCL8_nUXG_GS",
      "execution_count": 37,
      "outputs": [
        {
          "output_type": "stream",
          "name": "stderr",
          "text": [
            "100%|██████████| 59/59 [01:06<00:00,  1.14s/it]\n",
            "  0%|          | 0/15 [00:00<?, ?it/s]/usr/local/lib/python3.7/dist-packages/monai/metrics/utils.py:219: UserWarning: y_pred should be a binarized tensor.\n",
            "  warnings.warn(f\"{name} should be a binarized tensor.\")\n",
            "/usr/local/lib/python3.7/dist-packages/monai/metrics/utils.py:219: UserWarning: y should be a binarized tensor.\n",
            "  warnings.warn(f\"{name} should be a binarized tensor.\")\n",
            "100%|██████████| 15/15 [00:09<00:00,  1.52it/s]\n"
          ]
        },
        {
          "output_type": "stream",
          "name": "stdout",
          "text": [
            "epoch 1 training loss: 5.1002; validation loss: 4.3984; Dice metric: 0.0160\n"
          ]
        },
        {
          "output_type": "stream",
          "name": "stderr",
          "text": [
            "100%|██████████| 59/59 [01:03<00:00,  1.07s/it]\n",
            "100%|██████████| 15/15 [00:09<00:00,  1.50it/s]\n"
          ]
        },
        {
          "output_type": "stream",
          "name": "stdout",
          "text": [
            "epoch 2 training loss: 3.8279; validation loss: 3.2636; Dice metric: 0.0080\n"
          ]
        },
        {
          "output_type": "stream",
          "name": "stderr",
          "text": [
            "100%|██████████| 59/59 [01:01<00:00,  1.04s/it]\n",
            "100%|██████████| 15/15 [00:10<00:00,  1.49it/s]\n"
          ]
        },
        {
          "output_type": "stream",
          "name": "stdout",
          "text": [
            "epoch 3 training loss: 2.8140; validation loss: 2.5225; Dice metric: 0.0000\n"
          ]
        },
        {
          "output_type": "stream",
          "name": "stderr",
          "text": [
            "100%|██████████| 59/59 [01:00<00:00,  1.03s/it]\n",
            "100%|██████████| 15/15 [00:09<00:00,  1.51it/s]\n"
          ]
        },
        {
          "output_type": "stream",
          "name": "stdout",
          "text": [
            "epoch 4 training loss: 2.3280; validation loss: 2.2265; Dice metric: 0.0000\n"
          ]
        },
        {
          "output_type": "stream",
          "name": "stderr",
          "text": [
            "100%|██████████| 59/59 [01:00<00:00,  1.03s/it]\n",
            "100%|██████████| 15/15 [00:09<00:00,  1.50it/s]\n"
          ]
        },
        {
          "output_type": "stream",
          "name": "stdout",
          "text": [
            "epoch 5 training loss: 2.1694; validation loss: 2.1283; Dice metric: 0.0000\n"
          ]
        },
        {
          "output_type": "stream",
          "name": "stderr",
          "text": [
            "100%|██████████| 59/59 [01:00<00:00,  1.03s/it]\n",
            "100%|██████████| 15/15 [00:09<00:00,  1.51it/s]\n"
          ]
        },
        {
          "output_type": "stream",
          "name": "stdout",
          "text": [
            "epoch 6 training loss: 2.1093; validation loss: 2.0908; Dice metric: 0.0000\n"
          ]
        },
        {
          "output_type": "stream",
          "name": "stderr",
          "text": [
            "100%|██████████| 59/59 [01:00<00:00,  1.02s/it]\n",
            "100%|██████████| 15/15 [00:09<00:00,  1.53it/s]\n"
          ]
        },
        {
          "output_type": "stream",
          "name": "stdout",
          "text": [
            "epoch 7 training loss: 2.0808; validation loss: 2.0753; Dice metric: 0.0000\n"
          ]
        },
        {
          "output_type": "stream",
          "name": "stderr",
          "text": [
            "100%|██████████| 59/59 [01:00<00:00,  1.02s/it]\n",
            "100%|██████████| 15/15 [00:09<00:00,  1.51it/s]\n"
          ]
        },
        {
          "output_type": "stream",
          "name": "stdout",
          "text": [
            "epoch 8 training loss: 2.0638; validation loss: 2.0582; Dice metric: 0.0000\n"
          ]
        },
        {
          "output_type": "stream",
          "name": "stderr",
          "text": [
            "100%|██████████| 59/59 [01:00<00:00,  1.03s/it]\n",
            "100%|██████████| 15/15 [00:09<00:00,  1.51it/s]\n"
          ]
        },
        {
          "output_type": "stream",
          "name": "stdout",
          "text": [
            "epoch 9 training loss: 2.0538; validation loss: 2.0500; Dice metric: 0.0000\n"
          ]
        },
        {
          "output_type": "stream",
          "name": "stderr",
          "text": [
            "100%|██████████| 59/59 [01:00<00:00,  1.03s/it]\n",
            "100%|██████████| 15/15 [00:09<00:00,  1.51it/s]\n"
          ]
        },
        {
          "output_type": "stream",
          "name": "stdout",
          "text": [
            "epoch 10 training loss: 2.0465; validation loss: 2.0444; Dice metric: 0.0000\n"
          ]
        },
        {
          "output_type": "stream",
          "name": "stderr",
          "text": [
            "100%|██████████| 59/59 [01:00<00:00,  1.03s/it]\n",
            "100%|██████████| 15/15 [00:10<00:00,  1.50it/s]\n"
          ]
        },
        {
          "output_type": "stream",
          "name": "stdout",
          "text": [
            "epoch 11 training loss: 2.0416; validation loss: 2.0396; Dice metric: 0.0000\n"
          ]
        },
        {
          "output_type": "stream",
          "name": "stderr",
          "text": [
            "100%|██████████| 59/59 [01:00<00:00,  1.03s/it]\n",
            "100%|██████████| 15/15 [00:10<00:00,  1.49it/s]\n"
          ]
        },
        {
          "output_type": "stream",
          "name": "stdout",
          "text": [
            "epoch 12 training loss: 2.0381; validation loss: 2.0360; Dice metric: 0.0000\n"
          ]
        },
        {
          "output_type": "stream",
          "name": "stderr",
          "text": [
            "100%|██████████| 59/59 [01:00<00:00,  1.02s/it]\n",
            "100%|██████████| 15/15 [00:09<00:00,  1.50it/s]\n"
          ]
        },
        {
          "output_type": "stream",
          "name": "stdout",
          "text": [
            "epoch 13 training loss: 2.0358; validation loss: 2.0340; Dice metric: 0.0000\n"
          ]
        },
        {
          "output_type": "stream",
          "name": "stderr",
          "text": [
            "100%|██████████| 59/59 [01:00<00:00,  1.03s/it]\n",
            "100%|██████████| 15/15 [00:09<00:00,  1.51it/s]\n"
          ]
        },
        {
          "output_type": "stream",
          "name": "stdout",
          "text": [
            "epoch 14 training loss: 2.0338; validation loss: 2.0326; Dice metric: 0.0000\n"
          ]
        },
        {
          "output_type": "stream",
          "name": "stderr",
          "text": [
            "100%|██████████| 59/59 [01:00<00:00,  1.03s/it]\n",
            "100%|██████████| 15/15 [00:09<00:00,  1.50it/s]\n"
          ]
        },
        {
          "output_type": "stream",
          "name": "stdout",
          "text": [
            "epoch 15 training loss: 2.0314; validation loss: 2.0306; Dice metric: 0.0000\n"
          ]
        },
        {
          "output_type": "stream",
          "name": "stderr",
          "text": [
            "100%|██████████| 59/59 [01:00<00:00,  1.03s/it]\n",
            "100%|██████████| 15/15 [00:09<00:00,  1.51it/s]\n"
          ]
        },
        {
          "output_type": "stream",
          "name": "stdout",
          "text": [
            "epoch 16 training loss: 2.0300; validation loss: 2.0292; Dice metric: 0.0000\n"
          ]
        },
        {
          "output_type": "stream",
          "name": "stderr",
          "text": [
            "100%|██████████| 59/59 [01:00<00:00,  1.02s/it]\n",
            "100%|██████████| 15/15 [00:10<00:00,  1.49it/s]\n"
          ]
        },
        {
          "output_type": "stream",
          "name": "stdout",
          "text": [
            "epoch 17 training loss: 2.0289; validation loss: 2.0284; Dice metric: 0.0000\n"
          ]
        },
        {
          "output_type": "stream",
          "name": "stderr",
          "text": [
            "100%|██████████| 59/59 [01:00<00:00,  1.03s/it]\n",
            "100%|██████████| 15/15 [00:09<00:00,  1.51it/s]\n"
          ]
        },
        {
          "output_type": "stream",
          "name": "stdout",
          "text": [
            "epoch 18 training loss: 2.0279; validation loss: 2.0275; Dice metric: 0.0000\n"
          ]
        },
        {
          "output_type": "stream",
          "name": "stderr",
          "text": [
            "100%|██████████| 59/59 [01:00<00:00,  1.03s/it]\n",
            "100%|██████████| 15/15 [00:09<00:00,  1.51it/s]\n"
          ]
        },
        {
          "output_type": "stream",
          "name": "stdout",
          "text": [
            "epoch 19 training loss: 2.0269; validation loss: 2.0265; Dice metric: 0.0000\n"
          ]
        },
        {
          "output_type": "stream",
          "name": "stderr",
          "text": [
            "100%|██████████| 59/59 [01:00<00:00,  1.03s/it]\n",
            "100%|██████████| 15/15 [00:09<00:00,  1.50it/s]\n"
          ]
        },
        {
          "output_type": "stream",
          "name": "stdout",
          "text": [
            "epoch 20 training loss: 2.0262; validation loss: 2.0256; Dice metric: 0.0000\n"
          ]
        },
        {
          "output_type": "stream",
          "name": "stderr",
          "text": [
            "100%|██████████| 59/59 [01:00<00:00,  1.03s/it]\n",
            "100%|██████████| 15/15 [00:09<00:00,  1.52it/s]\n"
          ]
        },
        {
          "output_type": "stream",
          "name": "stdout",
          "text": [
            "epoch 21 training loss: 2.0257; validation loss: 2.0249; Dice metric: 0.0000\n"
          ]
        },
        {
          "output_type": "stream",
          "name": "stderr",
          "text": [
            "100%|██████████| 59/59 [01:00<00:00,  1.03s/it]\n",
            "100%|██████████| 15/15 [00:09<00:00,  1.51it/s]\n"
          ]
        },
        {
          "output_type": "stream",
          "name": "stdout",
          "text": [
            "epoch 22 training loss: 2.0250; validation loss: 2.0247; Dice metric: 0.0000\n"
          ]
        },
        {
          "output_type": "stream",
          "name": "stderr",
          "text": [
            "100%|██████████| 59/59 [01:01<00:00,  1.04s/it]\n",
            "100%|██████████| 15/15 [00:10<00:00,  1.48it/s]\n"
          ]
        },
        {
          "output_type": "stream",
          "name": "stdout",
          "text": [
            "epoch 23 training loss: 2.0248; validation loss: 2.0246; Dice metric: 0.0000\n"
          ]
        },
        {
          "output_type": "stream",
          "name": "stderr",
          "text": [
            "100%|██████████| 59/59 [01:01<00:00,  1.04s/it]\n",
            "100%|██████████| 15/15 [00:10<00:00,  1.49it/s]\n"
          ]
        },
        {
          "output_type": "stream",
          "name": "stdout",
          "text": [
            "epoch 24 training loss: 2.0243; validation loss: 2.0239; Dice metric: 0.0000\n"
          ]
        },
        {
          "output_type": "stream",
          "name": "stderr",
          "text": [
            "100%|██████████| 59/59 [01:00<00:00,  1.03s/it]\n",
            "100%|██████████| 15/15 [00:09<00:00,  1.50it/s]\n"
          ]
        },
        {
          "output_type": "stream",
          "name": "stdout",
          "text": [
            "epoch 25 training loss: 2.0239; validation loss: 2.0238; Dice metric: 0.0000\n"
          ]
        },
        {
          "output_type": "stream",
          "name": "stderr",
          "text": [
            "100%|██████████| 59/59 [01:00<00:00,  1.03s/it]\n",
            "100%|██████████| 15/15 [00:09<00:00,  1.51it/s]\n"
          ]
        },
        {
          "output_type": "stream",
          "name": "stdout",
          "text": [
            "epoch 26 training loss: 2.0234; validation loss: 2.0235; Dice metric: 0.0000\n"
          ]
        },
        {
          "output_type": "stream",
          "name": "stderr",
          "text": [
            "100%|██████████| 59/59 [01:00<00:00,  1.03s/it]\n",
            "100%|██████████| 15/15 [00:09<00:00,  1.51it/s]\n"
          ]
        },
        {
          "output_type": "stream",
          "name": "stdout",
          "text": [
            "epoch 27 training loss: 2.0235; validation loss: 2.0232; Dice metric: 0.0000\n"
          ]
        },
        {
          "output_type": "stream",
          "name": "stderr",
          "text": [
            "100%|██████████| 59/59 [01:00<00:00,  1.03s/it]\n",
            "100%|██████████| 15/15 [00:10<00:00,  1.48it/s]\n"
          ]
        },
        {
          "output_type": "stream",
          "name": "stdout",
          "text": [
            "epoch 28 training loss: 2.0230; validation loss: 2.0229; Dice metric: 0.0000\n"
          ]
        },
        {
          "output_type": "stream",
          "name": "stderr",
          "text": [
            "100%|██████████| 59/59 [01:00<00:00,  1.03s/it]\n",
            "100%|██████████| 15/15 [00:09<00:00,  1.51it/s]\n"
          ]
        },
        {
          "output_type": "stream",
          "name": "stdout",
          "text": [
            "epoch 29 training loss: 2.0226; validation loss: 2.0224; Dice metric: 0.0000\n"
          ]
        },
        {
          "output_type": "stream",
          "name": "stderr",
          "text": [
            "100%|██████████| 59/59 [01:00<00:00,  1.02s/it]\n",
            "100%|██████████| 15/15 [00:09<00:00,  1.50it/s]\n"
          ]
        },
        {
          "output_type": "stream",
          "name": "stdout",
          "text": [
            "epoch 30 training loss: 2.0226; validation loss: 2.0222; Dice metric: 0.0000\n"
          ]
        },
        {
          "output_type": "stream",
          "name": "stderr",
          "text": [
            "100%|██████████| 59/59 [01:00<00:00,  1.03s/it]\n",
            "100%|██████████| 15/15 [00:09<00:00,  1.50it/s]\n"
          ]
        },
        {
          "output_type": "stream",
          "name": "stdout",
          "text": [
            "epoch 31 training loss: 2.0222; validation loss: 2.0218; Dice metric: 0.0000\n"
          ]
        },
        {
          "output_type": "stream",
          "name": "stderr",
          "text": [
            "100%|██████████| 59/59 [00:59<00:00,  1.02s/it]\n",
            "100%|██████████| 15/15 [00:09<00:00,  1.51it/s]\n"
          ]
        },
        {
          "output_type": "stream",
          "name": "stdout",
          "text": [
            "epoch 32 training loss: 2.0224; validation loss: 2.0223; Dice metric: 0.0000\n"
          ]
        },
        {
          "output_type": "stream",
          "name": "stderr",
          "text": [
            "100%|██████████| 59/59 [01:00<00:00,  1.02s/it]\n",
            "100%|██████████| 15/15 [00:09<00:00,  1.52it/s]\n"
          ]
        },
        {
          "output_type": "stream",
          "name": "stdout",
          "text": [
            "epoch 33 training loss: 2.0222; validation loss: 2.0221; Dice metric: 0.0000\n"
          ]
        },
        {
          "output_type": "stream",
          "name": "stderr",
          "text": [
            "100%|██████████| 59/59 [01:00<00:00,  1.02s/it]\n",
            "100%|██████████| 15/15 [00:09<00:00,  1.52it/s]\n"
          ]
        },
        {
          "output_type": "stream",
          "name": "stdout",
          "text": [
            "epoch 34 training loss: 2.0221; validation loss: 2.0217; Dice metric: 0.0000\n"
          ]
        },
        {
          "output_type": "stream",
          "name": "stderr",
          "text": [
            "100%|██████████| 59/59 [01:00<00:00,  1.02s/it]\n",
            "100%|██████████| 15/15 [00:09<00:00,  1.51it/s]\n"
          ]
        },
        {
          "output_type": "stream",
          "name": "stdout",
          "text": [
            "epoch 35 training loss: 2.0220; validation loss: 2.0215; Dice metric: 0.0000\n"
          ]
        },
        {
          "output_type": "stream",
          "name": "stderr",
          "text": [
            "100%|██████████| 59/59 [01:00<00:00,  1.03s/it]\n",
            "100%|██████████| 15/15 [00:10<00:00,  1.49it/s]\n"
          ]
        },
        {
          "output_type": "stream",
          "name": "stdout",
          "text": [
            "epoch 36 training loss: 2.0215; validation loss: 2.0218; Dice metric: 0.0000\n"
          ]
        },
        {
          "output_type": "stream",
          "name": "stderr",
          "text": [
            "100%|██████████| 59/59 [01:00<00:00,  1.03s/it]\n",
            "100%|██████████| 15/15 [00:09<00:00,  1.52it/s]\n"
          ]
        },
        {
          "output_type": "stream",
          "name": "stdout",
          "text": [
            "epoch 37 training loss: 2.0218; validation loss: 2.0213; Dice metric: 0.0000\n"
          ]
        },
        {
          "output_type": "stream",
          "name": "stderr",
          "text": [
            "100%|██████████| 59/59 [01:00<00:00,  1.03s/it]\n",
            "100%|██████████| 15/15 [00:09<00:00,  1.51it/s]\n"
          ]
        },
        {
          "output_type": "stream",
          "name": "stdout",
          "text": [
            "epoch 38 training loss: 2.0214; validation loss: 2.0211; Dice metric: 0.0000\n"
          ]
        },
        {
          "output_type": "stream",
          "name": "stderr",
          "text": [
            "100%|██████████| 59/59 [01:00<00:00,  1.02s/it]\n",
            "100%|██████████| 15/15 [00:09<00:00,  1.52it/s]\n"
          ]
        },
        {
          "output_type": "stream",
          "name": "stdout",
          "text": [
            "epoch 39 training loss: 2.0211; validation loss: 2.0211; Dice metric: 0.0000\n"
          ]
        },
        {
          "output_type": "stream",
          "name": "stderr",
          "text": [
            "100%|██████████| 59/59 [01:00<00:00,  1.03s/it]\n",
            "100%|██████████| 15/15 [00:10<00:00,  1.50it/s]\n"
          ]
        },
        {
          "output_type": "stream",
          "name": "stdout",
          "text": [
            "epoch 40 training loss: 2.0210; validation loss: 2.0210; Dice metric: 0.0000\n"
          ]
        },
        {
          "output_type": "stream",
          "name": "stderr",
          "text": [
            "100%|██████████| 59/59 [01:00<00:00,  1.03s/it]\n",
            "100%|██████████| 15/15 [00:09<00:00,  1.51it/s]\n"
          ]
        },
        {
          "output_type": "stream",
          "name": "stdout",
          "text": [
            "epoch 41 training loss: 2.0208; validation loss: 2.0211; Dice metric: 0.0000\n"
          ]
        },
        {
          "output_type": "stream",
          "name": "stderr",
          "text": [
            "100%|██████████| 59/59 [01:00<00:00,  1.03s/it]\n",
            "100%|██████████| 15/15 [00:10<00:00,  1.49it/s]\n"
          ]
        },
        {
          "output_type": "stream",
          "name": "stdout",
          "text": [
            "epoch 42 training loss: 2.0210; validation loss: 2.0207; Dice metric: 0.0000\n"
          ]
        },
        {
          "output_type": "stream",
          "name": "stderr",
          "text": [
            "100%|██████████| 59/59 [01:00<00:00,  1.03s/it]\n",
            "100%|██████████| 15/15 [00:09<00:00,  1.52it/s]\n"
          ]
        },
        {
          "output_type": "stream",
          "name": "stdout",
          "text": [
            "epoch 43 training loss: 2.0205; validation loss: 2.0210; Dice metric: 0.0000\n"
          ]
        },
        {
          "output_type": "stream",
          "name": "stderr",
          "text": [
            "100%|██████████| 59/59 [01:00<00:00,  1.03s/it]\n",
            "100%|██████████| 15/15 [00:10<00:00,  1.50it/s]\n"
          ]
        },
        {
          "output_type": "stream",
          "name": "stdout",
          "text": [
            "epoch 44 training loss: 2.0207; validation loss: 2.0203; Dice metric: 0.0000\n"
          ]
        },
        {
          "output_type": "stream",
          "name": "stderr",
          "text": [
            "100%|██████████| 59/59 [01:00<00:00,  1.03s/it]\n",
            "100%|██████████| 15/15 [00:10<00:00,  1.50it/s]\n"
          ]
        },
        {
          "output_type": "stream",
          "name": "stdout",
          "text": [
            "epoch 45 training loss: 2.0206; validation loss: 2.0205; Dice metric: 0.0000\n"
          ]
        },
        {
          "output_type": "stream",
          "name": "stderr",
          "text": [
            "100%|██████████| 59/59 [01:01<00:00,  1.03s/it]\n",
            "100%|██████████| 15/15 [00:10<00:00,  1.48it/s]\n"
          ]
        },
        {
          "output_type": "stream",
          "name": "stdout",
          "text": [
            "epoch 46 training loss: 2.0203; validation loss: 2.0203; Dice metric: 0.0000\n"
          ]
        },
        {
          "output_type": "stream",
          "name": "stderr",
          "text": [
            "100%|██████████| 59/59 [01:00<00:00,  1.03s/it]\n",
            "100%|██████████| 15/15 [00:10<00:00,  1.49it/s]\n"
          ]
        },
        {
          "output_type": "stream",
          "name": "stdout",
          "text": [
            "epoch 47 training loss: 2.0204; validation loss: 2.0204; Dice metric: 0.0000\n"
          ]
        },
        {
          "output_type": "stream",
          "name": "stderr",
          "text": [
            "100%|██████████| 59/59 [01:01<00:00,  1.04s/it]\n",
            "100%|██████████| 15/15 [00:10<00:00,  1.49it/s]\n"
          ]
        },
        {
          "output_type": "stream",
          "name": "stdout",
          "text": [
            "epoch 48 training loss: 2.0204; validation loss: 2.0201; Dice metric: 0.0000\n"
          ]
        },
        {
          "output_type": "stream",
          "name": "stderr",
          "text": [
            "100%|██████████| 59/59 [01:00<00:00,  1.02s/it]\n",
            "100%|██████████| 15/15 [00:09<00:00,  1.50it/s]\n"
          ]
        },
        {
          "output_type": "stream",
          "name": "stdout",
          "text": [
            "epoch 49 training loss: 2.0202; validation loss: 2.0201; Dice metric: 0.0000\n"
          ]
        },
        {
          "output_type": "stream",
          "name": "stderr",
          "text": [
            "100%|██████████| 59/59 [01:00<00:00,  1.02s/it]\n",
            "100%|██████████| 15/15 [00:09<00:00,  1.51it/s]\n"
          ]
        },
        {
          "output_type": "stream",
          "name": "stdout",
          "text": [
            "epoch 50 training loss: 2.0202; validation loss: 2.0199; Dice metric: 0.0000\n"
          ]
        },
        {
          "output_type": "stream",
          "name": "stderr",
          "text": [
            "100%|██████████| 59/59 [01:00<00:00,  1.02s/it]\n",
            "100%|██████████| 15/15 [00:10<00:00,  1.49it/s]\n"
          ]
        },
        {
          "output_type": "stream",
          "name": "stdout",
          "text": [
            "epoch 51 training loss: 2.0201; validation loss: 2.0200; Dice metric: 0.0000\n"
          ]
        },
        {
          "output_type": "stream",
          "name": "stderr",
          "text": [
            "100%|██████████| 59/59 [01:00<00:00,  1.02s/it]\n",
            "100%|██████████| 15/15 [00:09<00:00,  1.51it/s]\n"
          ]
        },
        {
          "output_type": "stream",
          "name": "stdout",
          "text": [
            "epoch 52 training loss: 2.0201; validation loss: 2.0199; Dice metric: 0.0000\n"
          ]
        },
        {
          "output_type": "stream",
          "name": "stderr",
          "text": [
            "100%|██████████| 59/59 [01:00<00:00,  1.03s/it]\n",
            "100%|██████████| 15/15 [00:09<00:00,  1.50it/s]\n"
          ]
        },
        {
          "output_type": "stream",
          "name": "stdout",
          "text": [
            "epoch 53 training loss: 2.0204; validation loss: 2.0200; Dice metric: 0.0000\n"
          ]
        },
        {
          "output_type": "stream",
          "name": "stderr",
          "text": [
            "100%|██████████| 59/59 [01:00<00:00,  1.02s/it]\n",
            "100%|██████████| 15/15 [00:09<00:00,  1.51it/s]\n"
          ]
        },
        {
          "output_type": "stream",
          "name": "stdout",
          "text": [
            "epoch 54 training loss: 2.0200; validation loss: 2.0199; Dice metric: 0.0000\n"
          ]
        },
        {
          "output_type": "stream",
          "name": "stderr",
          "text": [
            "100%|██████████| 59/59 [01:01<00:00,  1.04s/it]\n",
            "100%|██████████| 15/15 [00:10<00:00,  1.48it/s]\n"
          ]
        },
        {
          "output_type": "stream",
          "name": "stdout",
          "text": [
            "epoch 55 training loss: 2.0198; validation loss: 2.0196; Dice metric: 0.0000\n"
          ]
        },
        {
          "output_type": "stream",
          "name": "stderr",
          "text": [
            "100%|██████████| 59/59 [01:00<00:00,  1.03s/it]\n",
            "100%|██████████| 15/15 [00:09<00:00,  1.51it/s]\n"
          ]
        },
        {
          "output_type": "stream",
          "name": "stdout",
          "text": [
            "epoch 56 training loss: 2.0195; validation loss: 2.0196; Dice metric: 0.0000\n"
          ]
        },
        {
          "output_type": "stream",
          "name": "stderr",
          "text": [
            "100%|██████████| 59/59 [01:00<00:00,  1.02s/it]\n",
            "100%|██████████| 15/15 [00:10<00:00,  1.49it/s]\n"
          ]
        },
        {
          "output_type": "stream",
          "name": "stdout",
          "text": [
            "epoch 57 training loss: 2.0194; validation loss: 2.0195; Dice metric: 0.0000\n"
          ]
        },
        {
          "output_type": "stream",
          "name": "stderr",
          "text": [
            "100%|██████████| 59/59 [01:01<00:00,  1.04s/it]\n",
            "100%|██████████| 15/15 [00:10<00:00,  1.47it/s]\n"
          ]
        },
        {
          "output_type": "stream",
          "name": "stdout",
          "text": [
            "epoch 58 training loss: 2.0194; validation loss: 2.0195; Dice metric: 0.0000\n"
          ]
        },
        {
          "output_type": "stream",
          "name": "stderr",
          "text": [
            "100%|██████████| 59/59 [01:01<00:00,  1.04s/it]\n",
            "100%|██████████| 15/15 [00:10<00:00,  1.49it/s]\n"
          ]
        },
        {
          "output_type": "stream",
          "name": "stdout",
          "text": [
            "epoch 59 training loss: 2.0197; validation loss: 2.0195; Dice metric: 0.0000\n"
          ]
        },
        {
          "output_type": "stream",
          "name": "stderr",
          "text": [
            "100%|██████████| 59/59 [01:01<00:00,  1.04s/it]\n",
            "100%|██████████| 15/15 [00:10<00:00,  1.47it/s]\n"
          ]
        },
        {
          "output_type": "stream",
          "name": "stdout",
          "text": [
            "epoch 60 training loss: 2.0193; validation loss: 2.0195; Dice metric: 0.0000\n"
          ]
        },
        {
          "output_type": "stream",
          "name": "stderr",
          "text": [
            "100%|██████████| 59/59 [01:01<00:00,  1.04s/it]\n",
            "100%|██████████| 15/15 [00:09<00:00,  1.50it/s]\n"
          ]
        },
        {
          "output_type": "stream",
          "name": "stdout",
          "text": [
            "epoch 61 training loss: 2.0194; validation loss: 2.0196; Dice metric: 0.0000\n"
          ]
        },
        {
          "output_type": "stream",
          "name": "stderr",
          "text": [
            "100%|██████████| 59/59 [01:01<00:00,  1.04s/it]\n",
            "100%|██████████| 15/15 [00:10<00:00,  1.46it/s]\n"
          ]
        },
        {
          "output_type": "stream",
          "name": "stdout",
          "text": [
            "epoch 62 training loss: 2.0194; validation loss: 2.0193; Dice metric: 0.0000\n"
          ]
        },
        {
          "output_type": "stream",
          "name": "stderr",
          "text": [
            "100%|██████████| 59/59 [01:01<00:00,  1.04s/it]\n",
            "100%|██████████| 15/15 [00:10<00:00,  1.49it/s]\n"
          ]
        },
        {
          "output_type": "stream",
          "name": "stdout",
          "text": [
            "epoch 63 training loss: 2.0192; validation loss: 2.0192; Dice metric: 0.0000\n"
          ]
        },
        {
          "output_type": "stream",
          "name": "stderr",
          "text": [
            "100%|██████████| 59/59 [01:01<00:00,  1.05s/it]\n",
            "100%|██████████| 15/15 [00:09<00:00,  1.50it/s]\n"
          ]
        },
        {
          "output_type": "stream",
          "name": "stdout",
          "text": [
            "epoch 64 training loss: 2.0192; validation loss: 2.0195; Dice metric: 0.0000\n"
          ]
        },
        {
          "output_type": "stream",
          "name": "stderr",
          "text": [
            "100%|██████████| 59/59 [01:01<00:00,  1.04s/it]\n",
            "100%|██████████| 15/15 [00:10<00:00,  1.46it/s]\n"
          ]
        },
        {
          "output_type": "stream",
          "name": "stdout",
          "text": [
            "epoch 65 training loss: 2.0196; validation loss: 2.0194; Dice metric: 0.0000\n"
          ]
        },
        {
          "output_type": "stream",
          "name": "stderr",
          "text": [
            "100%|██████████| 59/59 [01:00<00:00,  1.03s/it]\n",
            "100%|██████████| 15/15 [00:10<00:00,  1.47it/s]\n"
          ]
        },
        {
          "output_type": "stream",
          "name": "stdout",
          "text": [
            "epoch 66 training loss: 2.0193; validation loss: 2.0193; Dice metric: 0.0000\n"
          ]
        },
        {
          "output_type": "stream",
          "name": "stderr",
          "text": [
            "100%|██████████| 59/59 [01:01<00:00,  1.04s/it]\n",
            "100%|██████████| 15/15 [00:10<00:00,  1.48it/s]\n"
          ]
        },
        {
          "output_type": "stream",
          "name": "stdout",
          "text": [
            "epoch 67 training loss: 2.0190; validation loss: 2.0192; Dice metric: 0.0000\n"
          ]
        },
        {
          "output_type": "stream",
          "name": "stderr",
          "text": [
            "100%|██████████| 59/59 [01:01<00:00,  1.04s/it]\n",
            "100%|██████████| 15/15 [00:09<00:00,  1.51it/s]\n"
          ]
        },
        {
          "output_type": "stream",
          "name": "stdout",
          "text": [
            "epoch 68 training loss: 2.0190; validation loss: 2.0191; Dice metric: 0.0000\n"
          ]
        },
        {
          "output_type": "stream",
          "name": "stderr",
          "text": [
            "100%|██████████| 59/59 [01:08<00:00,  1.16s/it]\n",
            "100%|██████████| 15/15 [00:10<00:00,  1.49it/s]\n"
          ]
        },
        {
          "output_type": "stream",
          "name": "stdout",
          "text": [
            "epoch 69 training loss: 2.0190; validation loss: 2.0191; Dice metric: 0.0000\n"
          ]
        },
        {
          "output_type": "stream",
          "name": "stderr",
          "text": [
            "100%|██████████| 59/59 [01:01<00:00,  1.04s/it]\n",
            "100%|██████████| 15/15 [00:10<00:00,  1.39it/s]\n"
          ]
        },
        {
          "output_type": "stream",
          "name": "stdout",
          "text": [
            "epoch 70 training loss: 2.0188; validation loss: 2.0196; Dice metric: 0.0000\n"
          ]
        },
        {
          "output_type": "stream",
          "name": "stderr",
          "text": [
            "100%|██████████| 59/59 [01:01<00:00,  1.04s/it]\n",
            "100%|██████████| 15/15 [00:10<00:00,  1.49it/s]\n"
          ]
        },
        {
          "output_type": "stream",
          "name": "stdout",
          "text": [
            "epoch 71 training loss: 2.0188; validation loss: 2.0189; Dice metric: 0.0000\n"
          ]
        },
        {
          "output_type": "stream",
          "name": "stderr",
          "text": [
            "100%|██████████| 59/59 [00:59<00:00,  1.01s/it]\n",
            "100%|██████████| 15/15 [00:10<00:00,  1.49it/s]\n"
          ]
        },
        {
          "output_type": "stream",
          "name": "stdout",
          "text": [
            "epoch 72 training loss: 2.0189; validation loss: 2.0190; Dice metric: 0.0000\n"
          ]
        },
        {
          "output_type": "stream",
          "name": "stderr",
          "text": [
            "100%|██████████| 59/59 [01:01<00:00,  1.03s/it]\n",
            "100%|██████████| 15/15 [00:10<00:00,  1.50it/s]\n"
          ]
        },
        {
          "output_type": "stream",
          "name": "stdout",
          "text": [
            "epoch 73 training loss: 2.0190; validation loss: 2.0190; Dice metric: 0.0000\n"
          ]
        },
        {
          "output_type": "stream",
          "name": "stderr",
          "text": [
            "100%|██████████| 59/59 [01:00<00:00,  1.03s/it]\n",
            "100%|██████████| 15/15 [00:09<00:00,  1.50it/s]\n"
          ]
        },
        {
          "output_type": "stream",
          "name": "stdout",
          "text": [
            "epoch 74 training loss: 2.0189; validation loss: 2.0188; Dice metric: 0.0000\n"
          ]
        },
        {
          "output_type": "stream",
          "name": "stderr",
          "text": [
            "100%|██████████| 59/59 [01:00<00:00,  1.03s/it]\n",
            "100%|██████████| 15/15 [00:10<00:00,  1.50it/s]\n"
          ]
        },
        {
          "output_type": "stream",
          "name": "stdout",
          "text": [
            "epoch 75 training loss: 2.0196; validation loss: 2.0192; Dice metric: 0.0000\n"
          ]
        },
        {
          "output_type": "stream",
          "name": "stderr",
          "text": [
            "100%|██████████| 59/59 [01:01<00:00,  1.04s/it]\n",
            "100%|██████████| 15/15 [00:10<00:00,  1.48it/s]\n"
          ]
        },
        {
          "output_type": "stream",
          "name": "stdout",
          "text": [
            "epoch 76 training loss: 2.0186; validation loss: 2.0191; Dice metric: 0.0000\n"
          ]
        },
        {
          "output_type": "stream",
          "name": "stderr",
          "text": [
            "100%|██████████| 59/59 [01:01<00:00,  1.04s/it]\n",
            "100%|██████████| 15/15 [00:10<00:00,  1.48it/s]\n"
          ]
        },
        {
          "output_type": "stream",
          "name": "stdout",
          "text": [
            "epoch 77 training loss: 2.0188; validation loss: 2.0190; Dice metric: 0.0000\n"
          ]
        },
        {
          "output_type": "stream",
          "name": "stderr",
          "text": [
            "100%|██████████| 59/59 [01:02<00:00,  1.05s/it]\n",
            "100%|██████████| 15/15 [00:10<00:00,  1.47it/s]\n"
          ]
        },
        {
          "output_type": "stream",
          "name": "stdout",
          "text": [
            "epoch 78 training loss: 2.0191; validation loss: 2.0188; Dice metric: 0.0000\n"
          ]
        },
        {
          "output_type": "stream",
          "name": "stderr",
          "text": [
            "100%|██████████| 59/59 [01:02<00:00,  1.05s/it]\n",
            "100%|██████████| 15/15 [00:10<00:00,  1.48it/s]\n"
          ]
        },
        {
          "output_type": "stream",
          "name": "stdout",
          "text": [
            "epoch 79 training loss: 2.0190; validation loss: 2.0188; Dice metric: 0.0000\n"
          ]
        },
        {
          "output_type": "stream",
          "name": "stderr",
          "text": [
            "100%|██████████| 59/59 [01:00<00:00,  1.03s/it]\n",
            "100%|██████████| 15/15 [00:10<00:00,  1.47it/s]\n"
          ]
        },
        {
          "output_type": "stream",
          "name": "stdout",
          "text": [
            "epoch 80 training loss: 2.0186; validation loss: 2.0188; Dice metric: 0.0000\n"
          ]
        },
        {
          "output_type": "stream",
          "name": "stderr",
          "text": [
            "100%|██████████| 59/59 [01:01<00:00,  1.04s/it]\n",
            "100%|██████████| 15/15 [00:10<00:00,  1.48it/s]\n"
          ]
        },
        {
          "output_type": "stream",
          "name": "stdout",
          "text": [
            "epoch 81 training loss: 2.0188; validation loss: 2.0190; Dice metric: 0.0000\n"
          ]
        },
        {
          "output_type": "stream",
          "name": "stderr",
          "text": [
            "100%|██████████| 59/59 [01:00<00:00,  1.03s/it]\n",
            "100%|██████████| 15/15 [00:10<00:00,  1.48it/s]\n"
          ]
        },
        {
          "output_type": "stream",
          "name": "stdout",
          "text": [
            "epoch 82 training loss: 2.0187; validation loss: 2.0187; Dice metric: 0.0000\n"
          ]
        },
        {
          "output_type": "stream",
          "name": "stderr",
          "text": [
            "100%|██████████| 59/59 [01:00<00:00,  1.03s/it]\n",
            "100%|██████████| 15/15 [00:10<00:00,  1.49it/s]\n"
          ]
        },
        {
          "output_type": "stream",
          "name": "stdout",
          "text": [
            "epoch 83 training loss: 2.0190; validation loss: 2.0186; Dice metric: 0.0000\n"
          ]
        },
        {
          "output_type": "stream",
          "name": "stderr",
          "text": [
            "100%|██████████| 59/59 [01:00<00:00,  1.03s/it]\n",
            "100%|██████████| 15/15 [00:10<00:00,  1.49it/s]\n"
          ]
        },
        {
          "output_type": "stream",
          "name": "stdout",
          "text": [
            "epoch 84 training loss: 2.0187; validation loss: 2.0188; Dice metric: 0.0000\n"
          ]
        },
        {
          "output_type": "stream",
          "name": "stderr",
          "text": [
            "100%|██████████| 59/59 [01:00<00:00,  1.03s/it]\n",
            "100%|██████████| 15/15 [00:10<00:00,  1.50it/s]\n"
          ]
        },
        {
          "output_type": "stream",
          "name": "stdout",
          "text": [
            "epoch 85 training loss: 2.0187; validation loss: 2.0187; Dice metric: 0.0000\n"
          ]
        },
        {
          "output_type": "stream",
          "name": "stderr",
          "text": [
            "100%|██████████| 59/59 [01:00<00:00,  1.03s/it]\n",
            "100%|██████████| 15/15 [00:09<00:00,  1.50it/s]\n"
          ]
        },
        {
          "output_type": "stream",
          "name": "stdout",
          "text": [
            "epoch 86 training loss: 2.0184; validation loss: 2.0187; Dice metric: 0.0000\n"
          ]
        },
        {
          "output_type": "stream",
          "name": "stderr",
          "text": [
            "100%|██████████| 59/59 [01:00<00:00,  1.03s/it]\n",
            "100%|██████████| 15/15 [00:10<00:00,  1.48it/s]\n"
          ]
        },
        {
          "output_type": "stream",
          "name": "stdout",
          "text": [
            "epoch 87 training loss: 2.0186; validation loss: 2.0187; Dice metric: 0.0000\n"
          ]
        },
        {
          "output_type": "stream",
          "name": "stderr",
          "text": [
            "100%|██████████| 59/59 [01:00<00:00,  1.03s/it]\n",
            "100%|██████████| 15/15 [00:10<00:00,  1.49it/s]\n"
          ]
        },
        {
          "output_type": "stream",
          "name": "stdout",
          "text": [
            "epoch 88 training loss: 2.0186; validation loss: 2.0185; Dice metric: 0.0000\n"
          ]
        },
        {
          "output_type": "stream",
          "name": "stderr",
          "text": [
            "100%|██████████| 59/59 [01:00<00:00,  1.03s/it]\n",
            "100%|██████████| 15/15 [00:09<00:00,  1.51it/s]\n"
          ]
        },
        {
          "output_type": "stream",
          "name": "stdout",
          "text": [
            "epoch 89 training loss: 2.0184; validation loss: 2.0186; Dice metric: 0.0000\n"
          ]
        },
        {
          "output_type": "stream",
          "name": "stderr",
          "text": [
            "100%|██████████| 59/59 [01:00<00:00,  1.03s/it]\n",
            "100%|██████████| 15/15 [00:09<00:00,  1.64it/s]\n"
          ]
        },
        {
          "output_type": "stream",
          "name": "stdout",
          "text": [
            "epoch 90 training loss: 2.0184; validation loss: 2.0189; Dice metric: 0.0000\n"
          ]
        },
        {
          "output_type": "stream",
          "name": "stderr",
          "text": [
            "100%|██████████| 59/59 [00:54<00:00,  1.08it/s]\n",
            "100%|██████████| 15/15 [00:09<00:00,  1.63it/s]\n"
          ]
        },
        {
          "output_type": "stream",
          "name": "stdout",
          "text": [
            "epoch 91 training loss: 2.0184; validation loss: 2.0186; Dice metric: 0.0000\n"
          ]
        },
        {
          "output_type": "stream",
          "name": "stderr",
          "text": [
            "100%|██████████| 59/59 [00:56<00:00,  1.04it/s]\n",
            "100%|██████████| 15/15 [00:09<00:00,  1.64it/s]\n"
          ]
        },
        {
          "output_type": "stream",
          "name": "stdout",
          "text": [
            "epoch 92 training loss: 2.0185; validation loss: 2.0185; Dice metric: 0.0000\n"
          ]
        },
        {
          "output_type": "stream",
          "name": "stderr",
          "text": [
            "100%|██████████| 59/59 [00:55<00:00,  1.07it/s]\n",
            "100%|██████████| 15/15 [00:09<00:00,  1.64it/s]\n"
          ]
        },
        {
          "output_type": "stream",
          "name": "stdout",
          "text": [
            "epoch 93 training loss: 2.0187; validation loss: 2.0187; Dice metric: 0.0000\n"
          ]
        },
        {
          "output_type": "stream",
          "name": "stderr",
          "text": [
            "100%|██████████| 59/59 [00:55<00:00,  1.07it/s]\n",
            "100%|██████████| 15/15 [00:09<00:00,  1.65it/s]\n"
          ]
        },
        {
          "output_type": "stream",
          "name": "stdout",
          "text": [
            "epoch 94 training loss: 2.0189; validation loss: 2.0186; Dice metric: 0.0000\n"
          ]
        },
        {
          "output_type": "stream",
          "name": "stderr",
          "text": [
            "100%|██████████| 59/59 [00:55<00:00,  1.07it/s]\n",
            "100%|██████████| 15/15 [00:09<00:00,  1.65it/s]\n"
          ]
        },
        {
          "output_type": "stream",
          "name": "stdout",
          "text": [
            "epoch 95 training loss: 2.0185; validation loss: 2.0185; Dice metric: 0.0000\n"
          ]
        },
        {
          "output_type": "stream",
          "name": "stderr",
          "text": [
            "100%|██████████| 59/59 [00:54<00:00,  1.08it/s]\n",
            "100%|██████████| 15/15 [00:09<00:00,  1.63it/s]\n"
          ]
        },
        {
          "output_type": "stream",
          "name": "stdout",
          "text": [
            "epoch 96 training loss: 2.0186; validation loss: 2.0187; Dice metric: 0.0000\n"
          ]
        },
        {
          "output_type": "stream",
          "name": "stderr",
          "text": [
            "100%|██████████| 59/59 [00:55<00:00,  1.06it/s]\n",
            "100%|██████████| 15/15 [00:09<00:00,  1.62it/s]\n"
          ]
        },
        {
          "output_type": "stream",
          "name": "stdout",
          "text": [
            "epoch 97 training loss: 2.0183; validation loss: 2.0185; Dice metric: 0.0000\n"
          ]
        },
        {
          "output_type": "stream",
          "name": "stderr",
          "text": [
            "100%|██████████| 59/59 [00:55<00:00,  1.07it/s]\n",
            "100%|██████████| 15/15 [00:09<00:00,  1.62it/s]\n"
          ]
        },
        {
          "output_type": "stream",
          "name": "stdout",
          "text": [
            "epoch 98 training loss: 2.0186; validation loss: 2.0185; Dice metric: 0.0000\n"
          ]
        },
        {
          "output_type": "stream",
          "name": "stderr",
          "text": [
            "100%|██████████| 59/59 [00:55<00:00,  1.06it/s]\n",
            "100%|██████████| 15/15 [00:09<00:00,  1.63it/s]\n"
          ]
        },
        {
          "output_type": "stream",
          "name": "stdout",
          "text": [
            "epoch 99 training loss: 2.0183; validation loss: 2.0189; Dice metric: 0.0000\n"
          ]
        },
        {
          "output_type": "stream",
          "name": "stderr",
          "text": [
            "100%|██████████| 59/59 [00:54<00:00,  1.07it/s]\n",
            "100%|██████████| 15/15 [00:09<00:00,  1.62it/s]"
          ]
        },
        {
          "output_type": "stream",
          "name": "stdout",
          "text": [
            "epoch 100 training loss: 2.0186; validation loss: 2.0188; Dice metric: 0.0000\n",
            "CPU times: user 15min 33s, sys: 2min 49s, total: 18min 22s\n",
            "Wall time: 1h 57min 19s\n"
          ]
        },
        {
          "output_type": "stream",
          "name": "stderr",
          "text": [
            "\n"
          ]
        }
      ]
    },
    {
      "cell_type": "code",
      "source": [
        "plt.figure(figsize=(10, 5))\n",
        "plt.plot(train_losses,'r')\n",
        "plt.plot(val_losses, 'b')"
      ],
      "metadata": {
        "id": "mKOdWWaT_tnF",
        "colab": {
          "base_uri": "https://localhost:8080/",
          "height": 338
        },
        "outputId": "a18e8dbc-1125-4dea-e9fd-f3db38332f0e"
      },
      "id": "mKOdWWaT_tnF",
      "execution_count": 38,
      "outputs": [
        {
          "output_type": "execute_result",
          "data": {
            "text/plain": [
              "[<matplotlib.lines.Line2D at 0x7f5ef167e610>]"
            ]
          },
          "metadata": {},
          "execution_count": 38
        },
        {
          "output_type": "display_data",
          "data": {
            "text/plain": [
              "<Figure size 720x360 with 1 Axes>"
            ],
            "image/png": "[encoded data removed]"
          },
          "metadata": {
            "needs_background": "light"
          }
        }
      ]
    },
    {
      "cell_type": "code",
      "source": [
        "plt.figure(figsize=(10, 5))\n",
        "plt.plot(val_metrics,'r')"
      ],
      "metadata": {
        "id": "mETS8S-1IuGb",
        "colab": {
          "base_uri": "https://localhost:8080/",
          "height": 338
        },
        "outputId": "bddd3ebf-7d2e-475f-f58a-0ee6c9e83811"
      },
      "id": "mETS8S-1IuGb",
      "execution_count": 39,
      "outputs": [
        {
          "output_type": "execute_result",
          "data": {
            "text/plain": [
              "[<matplotlib.lines.Line2D at 0x7f5ef15dea50>]"
            ]
          },
          "metadata": {},
          "execution_count": 39
        },
        {
          "output_type": "display_data",
          "data": {
            "text/plain": [
              "<Figure size 720x360 with 1 Axes>"
            ],
            "image/png": "[encoded data removed]"
          },
          "metadata": {
            "needs_background": "light"
          }
        }
      ]
    },
    {
      "cell_type": "code",
      "source": [
        "torch.save(net.state_dict(), 'model.pth')"
      ],
      "metadata": {
        "id": "FEzwkj2-I81N"
      },
      "id": "FEzwkj2-I81N",
      "execution_count": 40,
      "outputs": []
    },
    {
      "cell_type": "code",
      "source": [
        "from google.colab import files\n",
        "files.download('model.pth')"
      ],
      "metadata": {
        "id": "TlhWFZaFYDzZ",
        "colab": {
          "base_uri": "https://localhost:8080/",
          "height": 17
        },
        "outputId": "8c660975-ea50-433b-dfd3-f4154a9c4fdd"
      },
      "id": "TlhWFZaFYDzZ",
      "execution_count": 41,
      "outputs": [
        {
          "output_type": "display_data",
          "data": {
            "text/plain": [
              "<IPython.core.display.Javascript object>"
            ],
            "application/javascript": [
              "\n",
              "    async function download(id, filename, size) {\n",
              "      if (!google.colab.kernel.accessAllowed) {\n",
              "        return;\n",
              "      }\n",
              "      const div = document.createElement('div');\n",
              "      const label = document.createElement('label');\n",
              "      label.textContent = `Downloading \"${filename}\": `;\n",
              "      div.appendChild(label);\n",
              "      const progress = document.createElement('progress');\n",
              "      progress.max = size;\n",
              "      div.appendChild(progress);\n",
              "      document.body.appendChild(div);\n",
              "\n",
              "      const buffers = [];\n",
              "      let downloaded = 0;\n",
              "\n",
              "      const channel = await google.colab.kernel.comms.open(id);\n",
              "      // Send a message to notify the kernel that we're ready.\n",
              "      channel.send({})\n",
              "\n",
              "      for await (const message of channel.messages) {\n",
              "        // Send a message to notify the kernel that we're ready.\n",
              "        channel.send({})\n",
              "        if (message.buffers) {\n",
              "          for (const buffer of message.buffers) {\n",
              "            buffers.push(buffer);\n",
              "            downloaded += buffer.byteLength;\n",
              "            progress.value = downloaded;\n",
              "          }\n",
              "        }\n",
              "      }\n",
              "      const blob = new Blob(buffers, {type: 'application/binary'});\n",
              "      const a = document.createElement('a');\n",
              "      a.href = window.URL.createObjectURL(blob);\n",
              "      a.download = filename;\n",
              "      div.appendChild(a);\n",
              "      a.click();\n",
              "      div.remove();\n",
              "    }\n",
              "  "
            ]
          },
          "metadata": {}
        },
        {
          "output_type": "display_data",
          "data": {
            "text/plain": [
              "<IPython.core.display.Javascript object>"
            ],
            "application/javascript": [
              "download(\"download_8461d057-ac6a-4c06-a70f-edf1dfb58c9c\", \"model.pth\", 26234649)"
            ]
          },
          "metadata": {}
        }
      ]
    },
    {
      "cell_type": "markdown",
      "source": [
        "## Set up the loaders and model for evaluation"
      ],
      "metadata": {
        "id": "W_EsaEYQHDq9"
      },
      "id": "W_EsaEYQHDq9"
    },
    {
      "cell_type": "code",
      "source": [
        "class AgriDatasetTest(torch.utils.data.Dataset):\n",
        "\n",
        "  def __init__(self, df, band_names=BAND_NAMES):\n",
        "    self.band_names = band_names\n",
        "    self.df = df\n",
        "\n",
        "  def __getitem__(self, index):\n",
        "    imgs = []\n",
        "    for band in self.band_names:\n",
        "      source_fn = rf\"{self.df.iloc[index]['source_path']}{band}.tif\"\n",
        "      with rasterio.open(source_fn) as src:\n",
        "        imgs.append(src.read()[0].astype(np.float64)/255.)\n",
        "    \n",
        "    with rasterio.open(self.df.iloc[index]['field_path']) as src:\n",
        "      labels = src.read()[0].astype(np.int64)\n",
        "\n",
        "    if os.path.exists(self.df.iloc[index]['label_path']):\n",
        "      with rasterio.open(self.df.iloc[index]['label_path']) as src:\n",
        "        gt = src.read()[0].astype(np.int64)\n",
        "        gt = torch.tensor(gt)\n",
        "    else:\n",
        "      gt = labels\n",
        "\n",
        "    labels = torch.tensor(labels)\n",
        "    imgs = torch.tensor(np.array(imgs))\n",
        "\n",
        "    return imgs.float(), labels, gt\n",
        "\n",
        "  def __len__(self):\n",
        "    return len(self.df)"
      ],
      "metadata": {
        "id": "uOsnCaZaYKDI"
      },
      "id": "uOsnCaZaYKDI",
      "execution_count": 51,
      "outputs": []
    },
    {
      "cell_type": "code",
      "source": [
        "dl_test = torch.utils.data.DataLoader(\n",
        "    AgriDatasetTest(train_data[train_data['split'] == 'validation']),\n",
        "    shuffle=False, batch_size=batch_size, num_workers=2\n",
        "    )"
      ],
      "metadata": {
        "id": "EQ2FgI1kCGBn"
      },
      "id": "EQ2FgI1kCGBn",
      "execution_count": 52,
      "outputs": []
    },
    {
      "cell_type": "code",
      "source": [
        "net.load_state_dict(torch.load('model.pth'))\n",
        "net.eval();"
      ],
      "metadata": {
        "id": "XeTOSV7iCQ9x"
      },
      "id": "XeTOSV7iCQ9x",
      "execution_count": 53,
      "outputs": []
    },
    {
      "cell_type": "markdown",
      "source": [
        "## Evaluate the model on the validation set"
      ],
      "metadata": {
        "id": "8aOuTw8HCAbA"
      },
      "id": "8aOuTw8HCAbA"
    },
    {
      "cell_type": "code",
      "source": [
        "def evaluate(dl_test, net):\n",
        "  field_data = dict()\n",
        "  gt_labels = dict()\n",
        "  with torch.no_grad():\n",
        "    for imgs, labels, gt in tqdm(dl_test):\n",
        "      output = net(imgs.cuda()).cpu()\n",
        "      output = output.numpy()\n",
        "      labels = labels.numpy()\n",
        "      output = np.moveaxis(output, 1, -1)\n",
        "\n",
        "      llist = np.unique(labels)[1:]\n",
        "      for lb in llist:\n",
        "        ind = np.where(labels == lb)\n",
        "        data = output[ind]\n",
        "        if lb in field_data.keys():\n",
        "          field_data[lb] = np.concatenate([field_data[lb], data], axis=0)\n",
        "        else:\n",
        "          field_data[lb] = data\n",
        "\n",
        "        data = gt[ind]\n",
        "        if lb in gt_labels.keys():\n",
        "          gt_labels[lb] = np.concatenate([gt_labels[lb], data], axis=0)\n",
        "        else:\n",
        "          gt_labels[lb] = data\n",
        "        \n",
        "  field_ids = []\n",
        "  probs = []\n",
        "  gt = []\n",
        "  for key in field_data.keys():\n",
        "    field_ids.append(key)\n",
        "    prob = field_data[key].mean(0)[crop_labels]\n",
        "    prob = prob - np.min(prob)\n",
        "    prob = prob / np.sum(prob)\n",
        "    probs.append(prob)\n",
        "    gt.append(gt_labels[key][0].item())\n",
        "  probs = np.array(probs)\n",
        "  return probs, field_ids, gt"
      ],
      "metadata": {
        "id": "o0qp7CVjCZ_g"
      },
      "id": "o0qp7CVjCZ_g",
      "execution_count": 90,
      "outputs": []
    },
    {
      "cell_type": "code",
      "source": [
        "probs, field_ids, gt = evaluate(dl_test, net)"
      ],
      "metadata": {
        "colab": {
          "base_uri": "https://localhost:8080/"
        },
        "id": "7fV5Ce5uC9S2",
        "outputId": "112fea92-0d5b-4889-9b8e-8b042065a486"
      },
      "id": "7fV5Ce5uC9S2",
      "execution_count": 91,
      "outputs": [
        {
          "output_type": "stream",
          "name": "stderr",
          "text": [
            "100%|██████████| 15/15 [00:15<00:00,  1.01s/it]\n"
          ]
        }
      ]
    },
    {
      "cell_type": "code",
      "source": [
        "from sklearn.metrics import classification_report\n",
        "\n",
        "print(classification_report(gt, np.array(crop_labels)[np.argmax(probs, axis=1)]))"
      ],
      "metadata": {
        "colab": {
          "base_uri": "https://localhost:8080/"
        },
        "id": "Ux-2ff1cC_sx",
        "outputId": "49ecd104-8227-4bb4-fcf0-08de0f067d63"
      },
      "id": "Ux-2ff1cC_sx",
      "execution_count": 92,
      "outputs": [
        {
          "output_type": "stream",
          "name": "stdout",
          "text": [
            "              precision    recall  f1-score   support\n",
            "\n",
            "           1       0.49      0.87      0.63       369\n",
            "           2       0.37      0.26      0.31       197\n",
            "           3       0.00      0.00      0.00        24\n",
            "           4       0.87      0.62      0.72       318\n",
            "           5       0.00      0.00      0.00         7\n",
            "           6       0.00      0.00      0.00        35\n",
            "           8       0.00      0.00      0.00        11\n",
            "           9       0.78      0.73      0.75        84\n",
            "          13       0.00      0.00      0.00        14\n",
            "          14       0.00      0.00      0.00         1\n",
            "          15       0.00      0.00      0.00         4\n",
            "          16       0.00      0.00      0.00         1\n",
            "          36       0.00      0.00      0.00        23\n",
            "\n",
            "    accuracy                           0.58      1088\n",
            "   macro avg       0.19      0.19      0.19      1088\n",
            "weighted avg       0.55      0.58      0.54      1088\n",
            "\n"
          ]
        },
        {
          "output_type": "stream",
          "name": "stderr",
          "text": [
            "/usr/local/lib/python3.7/dist-packages/sklearn/metrics/_classification.py:1318: UndefinedMetricWarning: Precision and F-score are ill-defined and being set to 0.0 in labels with no predicted samples. Use `zero_division` parameter to control this behavior.\n",
            "  _warn_prf(average, modifier, msg_start, len(result))\n",
            "/usr/local/lib/python3.7/dist-packages/sklearn/metrics/_classification.py:1318: UndefinedMetricWarning: Precision and F-score are ill-defined and being set to 0.0 in labels with no predicted samples. Use `zero_division` parameter to control this behavior.\n",
            "  _warn_prf(average, modifier, msg_start, len(result))\n",
            "/usr/local/lib/python3.7/dist-packages/sklearn/metrics/_classification.py:1318: UndefinedMetricWarning: Precision and F-score are ill-defined and being set to 0.0 in labels with no predicted samples. Use `zero_division` parameter to control this behavior.\n",
            "  _warn_prf(average, modifier, msg_start, len(result))\n"
          ]
        }
      ]
    },
    {
      "cell_type": "code",
      "source": [
        "def to_one_hot(x):\n",
        "    y = np.zeros((x.size, x.max() + 1))\n",
        "    y[np.arange(x.size), x] = 1\n",
        "    return y\n",
        "\n",
        "def cross_entropy(predictions, targets):\n",
        "    return -np.sum(np.sum(np.log(predictions + 10**(-10)) * targets, axis=1))/len(targets)\n"
      ],
      "metadata": {
        "id": "O3aOekbmFEOF"
      },
      "id": "O3aOekbmFEOF",
      "execution_count": 81,
      "outputs": []
    },
    {
      "cell_type": "code",
      "source": [
        "targets = to_one_hot(np.array(gt))\n",
        "targets = targets[:, np.where(targets.sum(axis=0) > 0)[0]]"
      ],
      "metadata": {
        "id": "QYxNVMHfHRld"
      },
      "id": "QYxNVMHfHRld",
      "execution_count": 87,
      "outputs": []
    },
    {
      "cell_type": "code",
      "source": [
        "cross_entropy(probs, targets)"
      ],
      "metadata": {
        "colab": {
          "base_uri": "https://localhost:8080/"
        },
        "id": "pcoDvgg0Hd8T",
        "outputId": "f5e746b4-5e06-47a3-c537-be1af3f22a19"
      },
      "id": "pcoDvgg0Hd8T",
      "execution_count": 89,
      "outputs": [
        {
          "output_type": "execute_result",
          "data": {
            "text/plain": [
              "2.0098854543312505"
            ]
          },
          "metadata": {},
          "execution_count": 89
        }
      ]
    },
    {
      "cell_type": "markdown",
      "source": [
        "## Prepare the test dataset"
      ],
      "metadata": {
        "id": "yCvvWdPUH5yU"
      },
      "id": "yCvvWdPUH5yU"
    },
    {
      "cell_type": "code",
      "source": [
        "test_paths = os.listdir(os.path.join(data_dir, test_label_collection))\n",
        "test_ids = [fn.split('_')[-1] for fn in test_paths if 'labels_test' in fn]\n",
        "\n",
        "field_paths = [f'{data_dir}/{test_label_collection}/{test_label_collection}_{i}/field_ids.tif' \n",
        "               for i in test_ids]\n",
        "label_paths = [f'{data_dir}/{test_label_collection}/{test_label_collection}_{i}/raster_labels.tif' \n",
        "               for i in test_ids]\n",
        "source_paths = [f'{data_dir}/{source_collection}/{source_collection}_{i}/' \n",
        "               for i in test_ids]"
      ],
      "metadata": {
        "id": "8OkzF6RDHedl"
      },
      "id": "8OkzF6RDHedl",
      "execution_count": 94,
      "outputs": []
    },
    {
      "cell_type": "code",
      "source": [
        "test_data = pd.DataFrame(np.array([test_ids, field_paths, label_paths, source_paths]).transpose(), \n",
        "                          columns=['folder_id', 'field_path', 'label_path', 'source_path'])\n",
        "test_data.head()"
      ],
      "metadata": {
        "colab": {
          "base_uri": "https://localhost:8080/",
          "height": 270
        },
        "id": "BBrtOyDsIvct",
        "outputId": "eabf95b5-a221-49da-b9d4-07d66c3f3e4d"
      },
      "id": "BBrtOyDsIvct",
      "execution_count": 95,
      "outputs": [
        {
          "output_type": "execute_result",
          "data": {
            "text/plain": [
              "  folder_id                                         field_path  \\\n",
              "0     0ce86  data/ref_agrifieldnet_competition_v1_labels_te...   \n",
              "1     6fff5  data/ref_agrifieldnet_competition_v1_labels_te...   \n",
              "2     e6dad  data/ref_agrifieldnet_competition_v1_labels_te...   \n",
              "3     324e6  data/ref_agrifieldnet_competition_v1_labels_te...   \n",
              "4     e0063  data/ref_agrifieldnet_competition_v1_labels_te...   \n",
              "\n",
              "                                          label_path  \\\n",
              "0  data/ref_agrifieldnet_competition_v1_labels_te...   \n",
              "1  data/ref_agrifieldnet_competition_v1_labels_te...   \n",
              "2  data/ref_agrifieldnet_competition_v1_labels_te...   \n",
              "3  data/ref_agrifieldnet_competition_v1_labels_te...   \n",
              "4  data/ref_agrifieldnet_competition_v1_labels_te...   \n",
              "\n",
              "                                         source_path  \n",
              "0  data/ref_agrifieldnet_competition_v1_source/re...  \n",
              "1  data/ref_agrifieldnet_competition_v1_source/re...  \n",
              "2  data/ref_agrifieldnet_competition_v1_source/re...  \n",
              "3  data/ref_agrifieldnet_competition_v1_source/re...  \n",
              "4  data/ref_agrifieldnet_competition_v1_source/re...  "
            ],
            "text/html": [
              "\n",
              "  <div id=\"df-8499648e-9cf5-47ca-98e0-2297986a617f\">\n",
              "    <div class=\"colab-df-container\">\n",
              "      <div>\n",
              "<style scoped>\n",
              "    .dataframe tbody tr th:only-of-type {\n",
              "        vertical-align: middle;\n",
              "    }\n",
              "\n",
              "    .dataframe tbody tr th {\n",
              "        vertical-align: top;\n",
              "    }\n",
              "\n",
              "    .dataframe thead th {\n",
              "        text-align: right;\n",
              "    }\n",
              "</style>\n",
              "<table border=\"1\" class=\"dataframe\">\n",
              "  <thead>\n",
              "    <tr style=\"text-align: right;\">\n",
              "      <th></th>\n",
              "      <th>folder_id</th>\n",
              "      <th>field_path</th>\n",
              "      <th>label_path</th>\n",
              "      <th>source_path</th>\n",
              "    </tr>\n",
              "  </thead>\n",
              "  <tbody>\n",
              "    <tr>\n",
              "      <th>0</th>\n",
              "      <td>0ce86</td>\n",
              "      <td>data/ref_agrifieldnet_competition_v1_labels_te...</td>\n",
              "      <td>data/ref_agrifieldnet_competition_v1_labels_te...</td>\n",
              "      <td>data/ref_agrifieldnet_competition_v1_source/re...</td>\n",
              "    </tr>\n",
              "    <tr>\n",
              "      <th>1</th>\n",
              "      <td>6fff5</td>\n",
              "      <td>data/ref_agrifieldnet_competition_v1_labels_te...</td>\n",
              "      <td>data/ref_agrifieldnet_competition_v1_labels_te...</td>\n",
              "      <td>data/ref_agrifieldnet_competition_v1_source/re...</td>\n",
              "    </tr>\n",
              "    <tr>\n",
              "      <th>2</th>\n",
              "      <td>e6dad</td>\n",
              "      <td>data/ref_agrifieldnet_competition_v1_labels_te...</td>\n",
              "      <td>data/ref_agrifieldnet_competition_v1_labels_te...</td>\n",
              "      <td>data/ref_agrifieldnet_competition_v1_source/re...</td>\n",
              "    </tr>\n",
              "    <tr>\n",
              "      <th>3</th>\n",
              "      <td>324e6</td>\n",
              "      <td>data/ref_agrifieldnet_competition_v1_labels_te...</td>\n",
              "      <td>data/ref_agrifieldnet_competition_v1_labels_te...</td>\n",
              "      <td>data/ref_agrifieldnet_competition_v1_source/re...</td>\n",
              "    </tr>\n",
              "    <tr>\n",
              "      <th>4</th>\n",
              "      <td>e0063</td>\n",
              "      <td>data/ref_agrifieldnet_competition_v1_labels_te...</td>\n",
              "      <td>data/ref_agrifieldnet_competition_v1_labels_te...</td>\n",
              "      <td>data/ref_agrifieldnet_competition_v1_source/re...</td>\n",
              "    </tr>\n",
              "  </tbody>\n",
              "</table>\n",
              "</div>\n",
              "      <button class=\"colab-df-convert\" onclick=\"convertToInteractive('df-8499648e-9cf5-47ca-98e0-2297986a617f')\"\n",
              "              title=\"Convert this dataframe to an interactive table.\"\n",
              "              style=\"display:none;\">\n",
              "        \n",
              "  <svg xmlns=\"http://www.w3.org/2000/svg\" height=\"24px\"viewBox=\"0 0 24 24\"\n",
              "       width=\"24px\">\n",
              "    <path d=\"M0 0h24v24H0V0z\" fill=\"none\"/>\n",
              "    <path d=\"M18.56 5.44l.94 2.06.94-2.06 2.06-.94-2.06-.94-.94-2.06-.94 2.06-2.06.94zm-11 1L8.5 8.5l.94-2.06 2.06-.94-2.06-.94L8.5 2.5l-.94 2.06-2.06.94zm10 10l.94 2.06.94-2.06 2.06-.94-2.06-.94-.94-2.06-.94 2.06-2.06.94z\"/><path d=\"M17.41 7.96l-1.37-1.37c-.4-.4-.92-.59-1.43-.59-.52 0-1.04.2-1.43.59L10.3 9.45l-7.72 7.72c-.78.78-.78 2.05 0 2.83L4 21.41c.39.39.9.59 1.41.59.51 0 1.02-.2 1.41-.59l7.78-7.78 2.81-2.81c.8-.78.8-2.07 0-2.86zM5.41 20L4 18.59l7.72-7.72 1.47 1.35L5.41 20z\"/>\n",
              "  </svg>\n",
              "      </button>\n",
              "      \n",
              "  <style>\n",
              "    .colab-df-container {\n",
              "      display:flex;\n",
              "      flex-wrap:wrap;\n",
              "      gap: 12px;\n",
              "    }\n",
              "\n",
              "    .colab-df-convert {\n",
              "      background-color: #E8F0FE;\n",
              "      border: none;\n",
              "      border-radius: 50%;\n",
              "      cursor: pointer;\n",
              "      display: none;\n",
              "      fill: #1967D2;\n",
              "      height: 32px;\n",
              "      padding: 0 0 0 0;\n",
              "      width: 32px;\n",
              "    }\n",
              "\n",
              "    .colab-df-convert:hover {\n",
              "      background-color: #E2EBFA;\n",
              "      box-shadow: 0px 1px 2px rgba(60, 64, 67, 0.3), 0px 1px 3px 1px rgba(60, 64, 67, 0.15);\n",
              "      fill: #174EA6;\n",
              "    }\n",
              "\n",
              "    [theme=dark] .colab-df-convert {\n",
              "      background-color: #3B4455;\n",
              "      fill: #D2E3FC;\n",
              "    }\n",
              "\n",
              "    [theme=dark] .colab-df-convert:hover {\n",
              "      background-color: #434B5C;\n",
              "      box-shadow: 0px 1px 3px 1px rgba(0, 0, 0, 0.15);\n",
              "      filter: drop-shadow(0px 1px 2px rgba(0, 0, 0, 0.3));\n",
              "      fill: #FFFFFF;\n",
              "    }\n",
              "  </style>\n",
              "\n",
              "      <script>\n",
              "        const buttonEl =\n",
              "          document.querySelector('#df-8499648e-9cf5-47ca-98e0-2297986a617f button.colab-df-convert');\n",
              "        buttonEl.style.display =\n",
              "          google.colab.kernel.accessAllowed ? 'block' : 'none';\n",
              "\n",
              "        async function convertToInteractive(key) {\n",
              "          const element = document.querySelector('#df-8499648e-9cf5-47ca-98e0-2297986a617f');\n",
              "          const dataTable =\n",
              "            await google.colab.kernel.invokeFunction('convertToInteractive',\n",
              "                                                     [key], {});\n",
              "          if (!dataTable) return;\n",
              "\n",
              "          const docLinkHtml = 'Like what you see? Visit the ' +\n",
              "            '<a target=\"_blank\" href=https://colab.research.google.com/notebooks/data_table.ipynb>data table notebook</a>'\n",
              "            + ' to learn more about interactive tables.';\n",
              "          element.innerHTML = '';\n",
              "          dataTable['output_type'] = 'display_data';\n",
              "          await google.colab.output.renderOutput(dataTable, element);\n",
              "          const docLink = document.createElement('div');\n",
              "          docLink.innerHTML = docLinkHtml;\n",
              "          element.appendChild(docLink);\n",
              "        }\n",
              "      </script>\n",
              "    </div>\n",
              "  </div>\n",
              "  "
            ]
          },
          "metadata": {},
          "execution_count": 95
        }
      ]
    },
    {
      "cell_type": "markdown",
      "source": [
        "## Evaluate the model on the test set"
      ],
      "metadata": {
        "id": "rZ6YdR1sI1V6"
      },
      "id": "rZ6YdR1sI1V6"
    },
    {
      "cell_type": "code",
      "source": [
        "dl_test = torch.utils.data.DataLoader(\n",
        "    AgriDatasetTest(test_data), shuffle=False, batch_size=batch_size, num_workers=2\n",
        "    )"
      ],
      "metadata": {
        "id": "VrvH7yEwIxE_"
      },
      "id": "VrvH7yEwIxE_",
      "execution_count": 96,
      "outputs": []
    },
    {
      "cell_type": "code",
      "source": [
        "probs, field_ids, gt = evaluate(dl_test, net)"
      ],
      "metadata": {
        "colab": {
          "base_uri": "https://localhost:8080/"
        },
        "id": "4pyJFKOXJGah",
        "outputId": "742d1c25-9b5c-465b-cfbe-c036507e461e"
      },
      "id": "4pyJFKOXJGah",
      "execution_count": 97,
      "outputs": [
        {
          "output_type": "stream",
          "name": "stderr",
          "text": [
            "100%|██████████| 45/45 [00:32<00:00,  1.39it/s]\n"
          ]
        }
      ]
    },
    {
      "cell_type": "code",
      "source": [
        "def labeler(labeled):\n",
        "    crop_label = np.array([crop_dict.get(f'{int(i)}') for i in labeled])\n",
        "    return crop_label"
      ],
      "metadata": {
        "id": "TIQlKqmlJJjD"
      },
      "id": "TIQlKqmlJJjD",
      "execution_count": 98,
      "outputs": []
    },
    {
      "cell_type": "code",
      "source": [
        "crop_columns = [crop_dict[key] for key in crop_labels]\n",
        "\n",
        "test_df  = pd.DataFrame(columns=['field_id'] + crop_columns)\n",
        "\n",
        "test_df['field_id'] = field_ids\n",
        "\n",
        "test_df[crop_columns] = probs \n",
        "test_df.to_csv('submission.csv', index=False)"
      ],
      "metadata": {
        "id": "qPHNGNQlJaDj"
      },
      "id": "qPHNGNQlJaDj",
      "execution_count": 101,
      "outputs": []
    },
    {
      "cell_type": "code",
      "source": [
        "from google.colab import files\n",
        "files.download('submission.csv')"
      ],
      "metadata": {
        "colab": {
          "base_uri": "https://localhost:8080/",
          "height": 17
        },
        "id": "4yM_v1NaJkJc",
        "outputId": "739d4969-d400-4d9f-ad86-6a839a6971ca"
      },
      "id": "4yM_v1NaJkJc",
      "execution_count": 102,
      "outputs": [
        {
          "output_type": "display_data",
          "data": {
            "text/plain": [
              "<IPython.core.display.Javascript object>"
            ],
            "application/javascript": [
              "\n",
              "    async function download(id, filename, size) {\n",
              "      if (!google.colab.kernel.accessAllowed) {\n",
              "        return;\n",
              "      }\n",
              "      const div = document.createElement('div');\n",
              "      const label = document.createElement('label');\n",
              "      label.textContent = `Downloading \"${filename}\": `;\n",
              "      div.appendChild(label);\n",
              "      const progress = document.createElement('progress');\n",
              "      progress.max = size;\n",
              "      div.appendChild(progress);\n",
              "      document.body.appendChild(div);\n",
              "\n",
              "      const buffers = [];\n",
              "      let downloaded = 0;\n",
              "\n",
              "      const channel = await google.colab.kernel.comms.open(id);\n",
              "      // Send a message to notify the kernel that we're ready.\n",
              "      channel.send({})\n",
              "\n",
              "      for await (const message of channel.messages) {\n",
              "        // Send a message to notify the kernel that we're ready.\n",
              "        channel.send({})\n",
              "        if (message.buffers) {\n",
              "          for (const buffer of message.buffers) {\n",
              "            buffers.push(buffer);\n",
              "            downloaded += buffer.byteLength;\n",
              "            progress.value = downloaded;\n",
              "          }\n",
              "        }\n",
              "      }\n",
              "      const blob = new Blob(buffers, {type: 'application/binary'});\n",
              "      const a = document.createElement('a');\n",
              "      a.href = window.URL.createObjectURL(blob);\n",
              "      a.download = filename;\n",
              "      div.appendChild(a);\n",
              "      a.click();\n",
              "      div.remove();\n",
              "    }\n",
              "  "
            ]
          },
          "metadata": {}
        },
        {
          "output_type": "display_data",
          "data": {
            "text/plain": [
              "<IPython.core.display.Javascript object>"
            ],
            "application/javascript": [
              "download(\"download_036b530f-54f9-4245-9bc0-6edb275b01cc\", \"submission.csv\", 223449)"
            ]
          },
          "metadata": {}
        }
      ]
    },
    {
      "cell_type": "code",
      "source": [],
      "metadata": {
        "id": "Fm8SWnsLJ3v2"
      },
      "id": "Fm8SWnsLJ3v2",
      "execution_count": null,
      "outputs": []
    }
  ],
  "metadata": {
    "kernelspec": {
      "display_name": "Python 3",
      "name": "python3"
    },
    "language_info": {
      "name": "python"
    },
    "colab": {
      "provenance": [],
      "collapsed_sections": [
        "nN70MBjGzOUH",
        "TMWu0HGHLciF"
      ],
      "toc_visible": true,
      "include_colab_link": true
    },
    "gpuClass": "standard",
    "accelerator": "GPU",
    "widgets": {
      "application/vnd.jupyter.widget-state+json": {
        "24207ebbe13b4bdc8f6810bb004e8769": {
          "model_module": "@jupyter-widgets/controls",
          "model_name": "HBoxModel",
          "model_module_version": "1.5.0",
          "state": {
            "_dom_classes": [],
            "_model_module": "@jupyter-widgets/controls",
            "_model_module_version": "1.5.0",
            "_model_name": "HBoxModel",
            "_view_count": null,
            "_view_module": "@jupyter-widgets/controls",
            "_view_module_version": "1.5.0",
            "_view_name": "HBoxView",
            "box_style": "",
            "children": [
              "IPY_MODEL_032f6c67de004f1b927426e714061b1a",
              "IPY_MODEL_11a0d359ef1c42429cc3f1abbaa67f34",
              "IPY_MODEL_1e52500ce9854904bc22a8fff28960f9"
            ],
            "layout": "IPY_MODEL_931fe5ed1fac4f468a64f04b3e4846a2"
          }
        },
        "032f6c67de004f1b927426e714061b1a": {
          "model_module": "@jupyter-widgets/controls",
          "model_name": "HTMLModel",
          "model_module_version": "1.5.0",
          "state": {
            "_dom_classes": [],
            "_model_module": "@jupyter-widgets/controls",
            "_model_module_version": "1.5.0",
            "_model_name": "HTMLModel",
            "_view_count": null,
            "_view_module": "@jupyter-widgets/controls",
            "_view_module_version": "1.5.0",
            "_view_name": "HTMLView",
            "description": "",
            "description_tooltip": null,
            "layout": "IPY_MODEL_90dc6c5efd5c48089cc0065715dba68e",
            "placeholder": "​",
            "style": "IPY_MODEL_e0cfd1056f3d475b904ac595e84be158",
            "value": ""
          }
        },
        "11a0d359ef1c42429cc3f1abbaa67f34": {
          "model_module": "@jupyter-widgets/controls",
          "model_name": "FloatProgressModel",
          "model_module_version": "1.5.0",
          "state": {
            "_dom_classes": [],
            "_model_module": "@jupyter-widgets/controls",
            "_model_module_version": "1.5.0",
            "_model_name": "FloatProgressModel",
            "_view_count": null,
            "_view_module": "@jupyter-widgets/controls",
            "_view_module_version": "1.5.0",
            "_view_name": "ProgressView",
            "bar_style": "success",
            "description": "",
            "description_tooltip": null,
            "layout": "IPY_MODEL_2909a3de4de443aaab53e3625077b12c",
            "max": 0.5,
            "min": 0,
            "orientation": "horizontal",
            "style": "IPY_MODEL_7cebb25bfb6043bdb528194f3496e3a3",
            "value": 0.5
          }
        },
        "1e52500ce9854904bc22a8fff28960f9": {
          "model_module": "@jupyter-widgets/controls",
          "model_name": "HTMLModel",
          "model_module_version": "1.5.0",
          "state": {
            "_dom_classes": [],
            "_model_module": "@jupyter-widgets/controls",
            "_model_module_version": "1.5.0",
            "_model_name": "HTMLModel",
            "_view_count": null,
            "_view_module": "@jupyter-widgets/controls",
            "_view_module_version": "1.5.0",
            "_view_name": "HTMLView",
            "description": "",
            "description_tooltip": null,
            "layout": "IPY_MODEL_1dcb36cf99a245c0a1cacb30f6692335",
            "placeholder": "​",
            "style": "IPY_MODEL_0859e23566194074a0524ea407644119",
            "value": " 5.0/? [00:01&lt;00:00,  3.89M/s]"
          }
        },
        "931fe5ed1fac4f468a64f04b3e4846a2": {
          "model_module": "@jupyter-widgets/base",
          "model_name": "LayoutModel",
          "model_module_version": "1.2.0",
          "state": {
            "_model_module": "@jupyter-widgets/base",
            "_model_module_version": "1.2.0",
            "_model_name": "LayoutModel",
            "_view_count": null,
            "_view_module": "@jupyter-widgets/base",
            "_view_module_version": "1.2.0",
            "_view_name": "LayoutView",
            "align_content": null,
            "align_items": null,
            "align_self": null,
            "border": null,
            "bottom": null,
            "display": null,
            "flex": null,
            "flex_flow": null,
            "grid_area": null,
            "grid_auto_columns": null,
            "grid_auto_flow": null,
            "grid_auto_rows": null,
            "grid_column": null,
            "grid_gap": null,
            "grid_row": null,
            "grid_template_areas": null,
            "grid_template_columns": null,
            "grid_template_rows": null,
            "height": null,
            "justify_content": null,
            "justify_items": null,
            "left": null,
            "margin": null,
            "max_height": null,
            "max_width": null,
            "min_height": null,
            "min_width": null,
            "object_fit": null,
            "object_position": null,
            "order": null,
            "overflow": null,
            "overflow_x": null,
            "overflow_y": null,
            "padding": null,
            "right": null,
            "top": null,
            "visibility": null,
            "width": null
          }
        },
        "90dc6c5efd5c48089cc0065715dba68e": {
          "model_module": "@jupyter-widgets/base",
          "model_name": "LayoutModel",
          "model_module_version": "1.2.0",
          "state": {
            "_model_module": "@jupyter-widgets/base",
            "_model_module_version": "1.2.0",
            "_model_name": "LayoutModel",
            "_view_count": null,
            "_view_module": "@jupyter-widgets/base",
            "_view_module_version": "1.2.0",
            "_view_name": "LayoutView",
            "align_content": null,
            "align_items": null,
            "align_self": null,
            "border": null,
            "bottom": null,
            "display": null,
            "flex": null,
            "flex_flow": null,
            "grid_area": null,
            "grid_auto_columns": null,
            "grid_auto_flow": null,
            "grid_auto_rows": null,
            "grid_column": null,
            "grid_gap": null,
            "grid_row": null,
            "grid_template_areas": null,
            "grid_template_columns": null,
            "grid_template_rows": null,
            "height": null,
            "justify_content": null,
            "justify_items": null,
            "left": null,
            "margin": null,
            "max_height": null,
            "max_width": null,
            "min_height": null,
            "min_width": null,
            "object_fit": null,
            "object_position": null,
            "order": null,
            "overflow": null,
            "overflow_x": null,
            "overflow_y": null,
            "padding": null,
            "right": null,
            "top": null,
            "visibility": null,
            "width": null
          }
        },
        "e0cfd1056f3d475b904ac595e84be158": {
          "model_module": "@jupyter-widgets/controls",
          "model_name": "DescriptionStyleModel",
          "model_module_version": "1.5.0",
          "state": {
            "_model_module": "@jupyter-widgets/controls",
            "_model_module_version": "1.5.0",
            "_model_name": "DescriptionStyleModel",
            "_view_count": null,
            "_view_module": "@jupyter-widgets/base",
            "_view_module_version": "1.2.0",
            "_view_name": "StyleView",
            "description_width": ""
          }
        },
        "2909a3de4de443aaab53e3625077b12c": {
          "model_module": "@jupyter-widgets/base",
          "model_name": "LayoutModel",
          "model_module_version": "1.2.0",
          "state": {
            "_model_module": "@jupyter-widgets/base",
            "_model_module_version": "1.2.0",
            "_model_name": "LayoutModel",
            "_view_count": null,
            "_view_module": "@jupyter-widgets/base",
            "_view_module_version": "1.2.0",
            "_view_name": "LayoutView",
            "align_content": null,
            "align_items": null,
            "align_self": null,
            "border": null,
            "bottom": null,
            "display": null,
            "flex": null,
            "flex_flow": null,
            "grid_area": null,
            "grid_auto_columns": null,
            "grid_auto_flow": null,
            "grid_auto_rows": null,
            "grid_column": null,
            "grid_gap": null,
            "grid_row": null,
            "grid_template_areas": null,
            "grid_template_columns": null,
            "grid_template_rows": null,
            "height": null,
            "justify_content": null,
            "justify_items": null,
            "left": null,
            "margin": null,
            "max_height": null,
            "max_width": null,
            "min_height": null,
            "min_width": null,
            "object_fit": null,
            "object_position": null,
            "order": null,
            "overflow": null,
            "overflow_x": null,
            "overflow_y": null,
            "padding": null,
            "right": null,
            "top": null,
            "visibility": null,
            "width": null
          }
        },
        "7cebb25bfb6043bdb528194f3496e3a3": {
          "model_module": "@jupyter-widgets/controls",
          "model_name": "ProgressStyleModel",
          "model_module_version": "1.5.0",
          "state": {
            "_model_module": "@jupyter-widgets/controls",
            "_model_module_version": "1.5.0",
            "_model_name": "ProgressStyleModel",
            "_view_count": null,
            "_view_module": "@jupyter-widgets/base",
            "_view_module_version": "1.2.0",
            "_view_name": "StyleView",
            "bar_color": null,
            "description_width": ""
          }
        },
        "1dcb36cf99a245c0a1cacb30f6692335": {
          "model_module": "@jupyter-widgets/base",
          "model_name": "LayoutModel",
          "model_module_version": "1.2.0",
          "state": {
            "_model_module": "@jupyter-widgets/base",
            "_model_module_version": "1.2.0",
            "_model_name": "LayoutModel",
            "_view_count": null,
            "_view_module": "@jupyter-widgets/base",
            "_view_module_version": "1.2.0",
            "_view_name": "LayoutView",
            "align_content": null,
            "align_items": null,
            "align_self": null,
            "border": null,
            "bottom": null,
            "display": null,
            "flex": null,
            "flex_flow": null,
            "grid_area": null,
            "grid_auto_columns": null,
            "grid_auto_flow": null,
            "grid_auto_rows": null,
            "grid_column": null,
            "grid_gap": null,
            "grid_row": null,
            "grid_template_areas": null,
            "grid_template_columns": null,
            "grid_template_rows": null,
            "height": null,
            "justify_content": null,
            "justify_items": null,
            "left": null,
            "margin": null,
            "max_height": null,
            "max_width": null,
            "min_height": null,
            "min_width": null,
            "object_fit": null,
            "object_position": null,
            "order": null,
            "overflow": null,
            "overflow_x": null,
            "overflow_y": null,
            "padding": null,
            "right": null,
            "top": null,
            "visibility": null,
            "width": null
          }
        },
        "0859e23566194074a0524ea407644119": {
          "model_module": "@jupyter-widgets/controls",
          "model_name": "DescriptionStyleModel",
          "model_module_version": "1.5.0",
          "state": {
            "_model_module": "@jupyter-widgets/controls",
            "_model_module_version": "1.5.0",
            "_model_name": "DescriptionStyleModel",
            "_view_count": null,
            "_view_module": "@jupyter-widgets/base",
            "_view_module_version": "1.2.0",
            "_view_name": "StyleView",
            "description_width": ""
          }
        },
        "6c65f1caf23f462693a2ba7a0dd875a7": {
          "model_module": "@jupyter-widgets/controls",
          "model_name": "HBoxModel",
          "model_module_version": "1.5.0",
          "state": {
            "_dom_classes": [],
            "_model_module": "@jupyter-widgets/controls",
            "_model_module_version": "1.5.0",
            "_model_name": "HBoxModel",
            "_view_count": null,
            "_view_module": "@jupyter-widgets/controls",
            "_view_module_version": "1.5.0",
            "_view_name": "HBoxView",
            "box_style": "",
            "children": [
              "IPY_MODEL_1961cd3c7c60469ba7fe2f28a1a51ee2",
              "IPY_MODEL_56b38b036ca24325bc26853bff8b9b80",
              "IPY_MODEL_21c32511bd904e4592ce08d40377d716"
            ],
            "layout": "IPY_MODEL_94b82aea913e4fc093fd0652a9226b88"
          }
        },
        "1961cd3c7c60469ba7fe2f28a1a51ee2": {
          "model_module": "@jupyter-widgets/controls",
          "model_name": "HTMLModel",
          "model_module_version": "1.5.0",
          "state": {
            "_dom_classes": [],
            "_model_module": "@jupyter-widgets/controls",
            "_model_module_version": "1.5.0",
            "_model_name": "HTMLModel",
            "_view_count": null,
            "_view_module": "@jupyter-widgets/controls",
            "_view_module_version": "1.5.0",
            "_view_name": "HTMLView",
            "description": "",
            "description_tooltip": null,
            "layout": "IPY_MODEL_d10ea3df038f41a9b65dd781d50aef24",
            "placeholder": "​",
            "style": "IPY_MODEL_91698ddb9b034c398e3cbc1d38eaf225",
            "value": ""
          }
        },
        "56b38b036ca24325bc26853bff8b9b80": {
          "model_module": "@jupyter-widgets/controls",
          "model_name": "FloatProgressModel",
          "model_module_version": "1.5.0",
          "state": {
            "_dom_classes": [],
            "_model_module": "@jupyter-widgets/controls",
            "_model_module_version": "1.5.0",
            "_model_name": "FloatProgressModel",
            "_view_count": null,
            "_view_module": "@jupyter-widgets/controls",
            "_view_module_version": "1.5.0",
            "_view_name": "ProgressView",
            "bar_style": "success",
            "description": "",
            "description_tooltip": null,
            "layout": "IPY_MODEL_70aaf09b7b5f4504bfdd00819fd523d8",
            "max": 324.3,
            "min": 0,
            "orientation": "horizontal",
            "style": "IPY_MODEL_0460f6a5d1db4d72a1dd2ae8deffa9af",
            "value": 324.3
          }
        },
        "21c32511bd904e4592ce08d40377d716": {
          "model_module": "@jupyter-widgets/controls",
          "model_name": "HTMLModel",
          "model_module_version": "1.5.0",
          "state": {
            "_dom_classes": [],
            "_model_module": "@jupyter-widgets/controls",
            "_model_module_version": "1.5.0",
            "_model_name": "HTMLModel",
            "_view_count": null,
            "_view_module": "@jupyter-widgets/controls",
            "_view_module_version": "1.5.0",
            "_view_name": "HTMLView",
            "description": "",
            "description_tooltip": null,
            "layout": "IPY_MODEL_0f40d3a82d304d27923028d4eca0ad2a",
            "placeholder": "​",
            "style": "IPY_MODEL_62af1f13f6a742a99b069dbb33a000e5",
            "value": " 325.0/? [00:06&lt;00:00, 168.29M/s]"
          }
        },
        "94b82aea913e4fc093fd0652a9226b88": {
          "model_module": "@jupyter-widgets/base",
          "model_name": "LayoutModel",
          "model_module_version": "1.2.0",
          "state": {
            "_model_module": "@jupyter-widgets/base",
            "_model_module_version": "1.2.0",
            "_model_name": "LayoutModel",
            "_view_count": null,
            "_view_module": "@jupyter-widgets/base",
            "_view_module_version": "1.2.0",
            "_view_name": "LayoutView",
            "align_content": null,
            "align_items": null,
            "align_self": null,
            "border": null,
            "bottom": null,
            "display": null,
            "flex": null,
            "flex_flow": null,
            "grid_area": null,
            "grid_auto_columns": null,
            "grid_auto_flow": null,
            "grid_auto_rows": null,
            "grid_column": null,
            "grid_gap": null,
            "grid_row": null,
            "grid_template_areas": null,
            "grid_template_columns": null,
            "grid_template_rows": null,
            "height": null,
            "justify_content": null,
            "justify_items": null,
            "left": null,
            "margin": null,
            "max_height": null,
            "max_width": null,
            "min_height": null,
            "min_width": null,
            "object_fit": null,
            "object_position": null,
            "order": null,
            "overflow": null,
            "overflow_x": null,
            "overflow_y": null,
            "padding": null,
            "right": null,
            "top": null,
            "visibility": null,
            "width": null
          }
        },
        "d10ea3df038f41a9b65dd781d50aef24": {
          "model_module": "@jupyter-widgets/base",
          "model_name": "LayoutModel",
          "model_module_version": "1.2.0",
          "state": {
            "_model_module": "@jupyter-widgets/base",
            "_model_module_version": "1.2.0",
            "_model_name": "LayoutModel",
            "_view_count": null,
            "_view_module": "@jupyter-widgets/base",
            "_view_module_version": "1.2.0",
            "_view_name": "LayoutView",
            "align_content": null,
            "align_items": null,
            "align_self": null,
            "border": null,
            "bottom": null,
            "display": null,
            "flex": null,
            "flex_flow": null,
            "grid_area": null,
            "grid_auto_columns": null,
            "grid_auto_flow": null,
            "grid_auto_rows": null,
            "grid_column": null,
            "grid_gap": null,
            "grid_row": null,
            "grid_template_areas": null,
            "grid_template_columns": null,
            "grid_template_rows": null,
            "height": null,
            "justify_content": null,
            "justify_items": null,
            "left": null,
            "margin": null,
            "max_height": null,
            "max_width": null,
            "min_height": null,
            "min_width": null,
            "object_fit": null,
            "object_position": null,
            "order": null,
            "overflow": null,
            "overflow_x": null,
            "overflow_y": null,
            "padding": null,
            "right": null,
            "top": null,
            "visibility": null,
            "width": null
          }
        },
        "91698ddb9b034c398e3cbc1d38eaf225": {
          "model_module": "@jupyter-widgets/controls",
          "model_name": "DescriptionStyleModel",
          "model_module_version": "1.5.0",
          "state": {
            "_model_module": "@jupyter-widgets/controls",
            "_model_module_version": "1.5.0",
            "_model_name": "DescriptionStyleModel",
            "_view_count": null,
            "_view_module": "@jupyter-widgets/base",
            "_view_module_version": "1.2.0",
            "_view_name": "StyleView",
            "description_width": ""
          }
        },
        "70aaf09b7b5f4504bfdd00819fd523d8": {
          "model_module": "@jupyter-widgets/base",
          "model_name": "LayoutModel",
          "model_module_version": "1.2.0",
          "state": {
            "_model_module": "@jupyter-widgets/base",
            "_model_module_version": "1.2.0",
            "_model_name": "LayoutModel",
            "_view_count": null,
            "_view_module": "@jupyter-widgets/base",
            "_view_module_version": "1.2.0",
            "_view_name": "LayoutView",
            "align_content": null,
            "align_items": null,
            "align_self": null,
            "border": null,
            "bottom": null,
            "display": null,
            "flex": null,
            "flex_flow": null,
            "grid_area": null,
            "grid_auto_columns": null,
            "grid_auto_flow": null,
            "grid_auto_rows": null,
            "grid_column": null,
            "grid_gap": null,
            "grid_row": null,
            "grid_template_areas": null,
            "grid_template_columns": null,
            "grid_template_rows": null,
            "height": null,
            "justify_content": null,
            "justify_items": null,
            "left": null,
            "margin": null,
            "max_height": null,
            "max_width": null,
            "min_height": null,
            "min_width": null,
            "object_fit": null,
            "object_position": null,
            "order": null,
            "overflow": null,
            "overflow_x": null,
            "overflow_y": null,
            "padding": null,
            "right": null,
            "top": null,
            "visibility": null,
            "width": null
          }
        },
        "0460f6a5d1db4d72a1dd2ae8deffa9af": {
          "model_module": "@jupyter-widgets/controls",
          "model_name": "ProgressStyleModel",
          "model_module_version": "1.5.0",
          "state": {
            "_model_module": "@jupyter-widgets/controls",
            "_model_module_version": "1.5.0",
            "_model_name": "ProgressStyleModel",
            "_view_count": null,
            "_view_module": "@jupyter-widgets/base",
            "_view_module_version": "1.2.0",
            "_view_name": "StyleView",
            "bar_color": null,
            "description_width": ""
          }
        },
        "0f40d3a82d304d27923028d4eca0ad2a": {
          "model_module": "@jupyter-widgets/base",
          "model_name": "LayoutModel",
          "model_module_version": "1.2.0",
          "state": {
            "_model_module": "@jupyter-widgets/base",
            "_model_module_version": "1.2.0",
            "_model_name": "LayoutModel",
            "_view_count": null,
            "_view_module": "@jupyter-widgets/base",
            "_view_module_version": "1.2.0",
            "_view_name": "LayoutView",
            "align_content": null,
            "align_items": null,
            "align_self": null,
            "border": null,
            "bottom": null,
            "display": null,
            "flex": null,
            "flex_flow": null,
            "grid_area": null,
            "grid_auto_columns": null,
            "grid_auto_flow": null,
            "grid_auto_rows": null,
            "grid_column": null,
            "grid_gap": null,
            "grid_row": null,
            "grid_template_areas": null,
            "grid_template_columns": null,
            "grid_template_rows": null,
            "height": null,
            "justify_content": null,
            "justify_items": null,
            "left": null,
            "margin": null,
            "max_height": null,
            "max_width": null,
            "min_height": null,
            "min_width": null,
            "object_fit": null,
            "object_position": null,
            "order": null,
            "overflow": null,
            "overflow_x": null,
            "overflow_y": null,
            "padding": null,
            "right": null,
            "top": null,
            "visibility": null,
            "width": null
          }
        },
        "62af1f13f6a742a99b069dbb33a000e5": {
          "model_module": "@jupyter-widgets/controls",
          "model_name": "DescriptionStyleModel",
          "model_module_version": "1.5.0",
          "state": {
            "_model_module": "@jupyter-widgets/controls",
            "_model_module_version": "1.5.0",
            "_model_name": "DescriptionStyleModel",
            "_view_count": null,
            "_view_module": "@jupyter-widgets/base",
            "_view_module_version": "1.2.0",
            "_view_name": "StyleView",
            "description_width": ""
          }
        },
        "972a0807d80a4bc2a47197509ac831d4": {
          "model_module": "@jupyter-widgets/controls",
          "model_name": "HBoxModel",
          "model_module_version": "1.5.0",
          "state": {
            "_dom_classes": [],
            "_model_module": "@jupyter-widgets/controls",
            "_model_module_version": "1.5.0",
            "_model_name": "HBoxModel",
            "_view_count": null,
            "_view_module": "@jupyter-widgets/controls",
            "_view_module_version": "1.5.0",
            "_view_name": "HBoxView",
            "box_style": "",
            "children": [
              "IPY_MODEL_6a515afb59144c0f96fc0980b7a2bc82",
              "IPY_MODEL_5f60ef8d2627487a8e5e625081214e0f",
              "IPY_MODEL_e65654a899bb4c32bbd21ec0ce255c94"
            ],
            "layout": "IPY_MODEL_a29c7a8db3c1471db396f6b1342af56a"
          }
        },
        "6a515afb59144c0f96fc0980b7a2bc82": {
          "model_module": "@jupyter-widgets/controls",
          "model_name": "HTMLModel",
          "model_module_version": "1.5.0",
          "state": {
            "_dom_classes": [],
            "_model_module": "@jupyter-widgets/controls",
            "_model_module_version": "1.5.0",
            "_model_name": "HTMLModel",
            "_view_count": null,
            "_view_module": "@jupyter-widgets/controls",
            "_view_module_version": "1.5.0",
            "_view_name": "HTMLView",
            "description": "",
            "description_tooltip": null,
            "layout": "IPY_MODEL_63e476535b6b410faacc36b4626f8849",
            "placeholder": "​",
            "style": "IPY_MODEL_f13571d59cef4845937b2989b5b63490",
            "value": ""
          }
        },
        "5f60ef8d2627487a8e5e625081214e0f": {
          "model_module": "@jupyter-widgets/controls",
          "model_name": "FloatProgressModel",
          "model_module_version": "1.5.0",
          "state": {
            "_dom_classes": [],
            "_model_module": "@jupyter-widgets/controls",
            "_model_module_version": "1.5.0",
            "_model_name": "FloatProgressModel",
            "_view_count": null,
            "_view_module": "@jupyter-widgets/controls",
            "_view_module_version": "1.5.0",
            "_view_name": "ProgressView",
            "bar_style": "success",
            "description": "",
            "description_tooltip": null,
            "layout": "IPY_MODEL_46c7a9901ece4d96a2b1471d7b4edc19",
            "max": 1.3,
            "min": 0,
            "orientation": "horizontal",
            "style": "IPY_MODEL_725fc334d33f431486fbe6ea59274ec6",
            "value": 1.3
          }
        },
        "e65654a899bb4c32bbd21ec0ce255c94": {
          "model_module": "@jupyter-widgets/controls",
          "model_name": "HTMLModel",
          "model_module_version": "1.5.0",
          "state": {
            "_dom_classes": [],
            "_model_module": "@jupyter-widgets/controls",
            "_model_module_version": "1.5.0",
            "_model_name": "HTMLModel",
            "_view_count": null,
            "_view_module": "@jupyter-widgets/controls",
            "_view_module_version": "1.5.0",
            "_view_name": "HTMLView",
            "description": "",
            "description_tooltip": null,
            "layout": "IPY_MODEL_e823cc89ac994cfb9feaa8973687a46f",
            "placeholder": "​",
            "style": "IPY_MODEL_20e9ff5838594819876eeeb1797cca02",
            "value": " 5.0/? [00:01&lt;00:00,  2.86M/s]"
          }
        },
        "a29c7a8db3c1471db396f6b1342af56a": {
          "model_module": "@jupyter-widgets/base",
          "model_name": "LayoutModel",
          "model_module_version": "1.2.0",
          "state": {
            "_model_module": "@jupyter-widgets/base",
            "_model_module_version": "1.2.0",
            "_model_name": "LayoutModel",
            "_view_count": null,
            "_view_module": "@jupyter-widgets/base",
            "_view_module_version": "1.2.0",
            "_view_name": "LayoutView",
            "align_content": null,
            "align_items": null,
            "align_self": null,
            "border": null,
            "bottom": null,
            "display": null,
            "flex": null,
            "flex_flow": null,
            "grid_area": null,
            "grid_auto_columns": null,
            "grid_auto_flow": null,
            "grid_auto_rows": null,
            "grid_column": null,
            "grid_gap": null,
            "grid_row": null,
            "grid_template_areas": null,
            "grid_template_columns": null,
            "grid_template_rows": null,
            "height": null,
            "justify_content": null,
            "justify_items": null,
            "left": null,
            "margin": null,
            "max_height": null,
            "max_width": null,
            "min_height": null,
            "min_width": null,
            "object_fit": null,
            "object_position": null,
            "order": null,
            "overflow": null,
            "overflow_x": null,
            "overflow_y": null,
            "padding": null,
            "right": null,
            "top": null,
            "visibility": null,
            "width": null
          }
        },
        "63e476535b6b410faacc36b4626f8849": {
          "model_module": "@jupyter-widgets/base",
          "model_name": "LayoutModel",
          "model_module_version": "1.2.0",
          "state": {
            "_model_module": "@jupyter-widgets/base",
            "_model_module_version": "1.2.0",
            "_model_name": "LayoutModel",
            "_view_count": null,
            "_view_module": "@jupyter-widgets/base",
            "_view_module_version": "1.2.0",
            "_view_name": "LayoutView",
            "align_content": null,
            "align_items": null,
            "align_self": null,
            "border": null,
            "bottom": null,
            "display": null,
            "flex": null,
            "flex_flow": null,
            "grid_area": null,
            "grid_auto_columns": null,
            "grid_auto_flow": null,
            "grid_auto_rows": null,
            "grid_column": null,
            "grid_gap": null,
            "grid_row": null,
            "grid_template_areas": null,
            "grid_template_columns": null,
            "grid_template_rows": null,
            "height": null,
            "justify_content": null,
            "justify_items": null,
            "left": null,
            "margin": null,
            "max_height": null,
            "max_width": null,
            "min_height": null,
            "min_width": null,
            "object_fit": null,
            "object_position": null,
            "order": null,
            "overflow": null,
            "overflow_x": null,
            "overflow_y": null,
            "padding": null,
            "right": null,
            "top": null,
            "visibility": null,
            "width": null
          }
        },
        "f13571d59cef4845937b2989b5b63490": {
          "model_module": "@jupyter-widgets/controls",
          "model_name": "DescriptionStyleModel",
          "model_module_version": "1.5.0",
          "state": {
            "_model_module": "@jupyter-widgets/controls",
            "_model_module_version": "1.5.0",
            "_model_name": "DescriptionStyleModel",
            "_view_count": null,
            "_view_module": "@jupyter-widgets/base",
            "_view_module_version": "1.2.0",
            "_view_name": "StyleView",
            "description_width": ""
          }
        },
        "46c7a9901ece4d96a2b1471d7b4edc19": {
          "model_module": "@jupyter-widgets/base",
          "model_name": "LayoutModel",
          "model_module_version": "1.2.0",
          "state": {
            "_model_module": "@jupyter-widgets/base",
            "_model_module_version": "1.2.0",
            "_model_name": "LayoutModel",
            "_view_count": null,
            "_view_module": "@jupyter-widgets/base",
            "_view_module_version": "1.2.0",
            "_view_name": "LayoutView",
            "align_content": null,
            "align_items": null,
            "align_self": null,
            "border": null,
            "bottom": null,
            "display": null,
            "flex": null,
            "flex_flow": null,
            "grid_area": null,
            "grid_auto_columns": null,
            "grid_auto_flow": null,
            "grid_auto_rows": null,
            "grid_column": null,
            "grid_gap": null,
            "grid_row": null,
            "grid_template_areas": null,
            "grid_template_columns": null,
            "grid_template_rows": null,
            "height": null,
            "justify_content": null,
            "justify_items": null,
            "left": null,
            "margin": null,
            "max_height": null,
            "max_width": null,
            "min_height": null,
            "min_width": null,
            "object_fit": null,
            "object_position": null,
            "order": null,
            "overflow": null,
            "overflow_x": null,
            "overflow_y": null,
            "padding": null,
            "right": null,
            "top": null,
            "visibility": null,
            "width": null
          }
        },
        "725fc334d33f431486fbe6ea59274ec6": {
          "model_module": "@jupyter-widgets/controls",
          "model_name": "ProgressStyleModel",
          "model_module_version": "1.5.0",
          "state": {
            "_model_module": "@jupyter-widgets/controls",
            "_model_module_version": "1.5.0",
            "_model_name": "ProgressStyleModel",
            "_view_count": null,
            "_view_module": "@jupyter-widgets/base",
            "_view_module_version": "1.2.0",
            "_view_name": "StyleView",
            "bar_color": null,
            "description_width": ""
          }
        },
        "e823cc89ac994cfb9feaa8973687a46f": {
          "model_module": "@jupyter-widgets/base",
          "model_name": "LayoutModel",
          "model_module_version": "1.2.0",
          "state": {
            "_model_module": "@jupyter-widgets/base",
            "_model_module_version": "1.2.0",
            "_model_name": "LayoutModel",
            "_view_count": null,
            "_view_module": "@jupyter-widgets/base",
            "_view_module_version": "1.2.0",
            "_view_name": "LayoutView",
            "align_content": null,
            "align_items": null,
            "align_self": null,
            "border": null,
            "bottom": null,
            "display": null,
            "flex": null,
            "flex_flow": null,
            "grid_area": null,
            "grid_auto_columns": null,
            "grid_auto_flow": null,
            "grid_auto_rows": null,
            "grid_column": null,
            "grid_gap": null,
            "grid_row": null,
            "grid_template_areas": null,
            "grid_template_columns": null,
            "grid_template_rows": null,
            "height": null,
            "justify_content": null,
            "justify_items": null,
            "left": null,
            "margin": null,
            "max_height": null,
            "max_width": null,
            "min_height": null,
            "min_width": null,
            "object_fit": null,
            "object_position": null,
            "order": null,
            "overflow": null,
            "overflow_x": null,
            "overflow_y": null,
            "padding": null,
            "right": null,
            "top": null,
            "visibility": null,
            "width": null
          }
        },
        "20e9ff5838594819876eeeb1797cca02": {
          "model_module": "@jupyter-widgets/controls",
          "model_name": "DescriptionStyleModel",
          "model_module_version": "1.5.0",
          "state": {
            "_model_module": "@jupyter-widgets/controls",
            "_model_module_version": "1.5.0",
            "_model_name": "DescriptionStyleModel",
            "_view_count": null,
            "_view_module": "@jupyter-widgets/base",
            "_view_module_version": "1.2.0",
            "_view_name": "StyleView",
            "description_width": ""
          }
        }
      }
    }
  },
  "nbformat": 4,
  "nbformat_minor": 5
}