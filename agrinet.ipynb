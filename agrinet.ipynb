{
  "cells": [
    {
      "cell_type": "markdown",
      "metadata": {
        "id": "view-in-github",
        "colab_type": "text"
      },
      "source": [
        "<a href=\"https://colab.research.google.com/github/amedyukhina/AgrifieldNet/blob/main/agrinet.ipynb\" target=\"_parent\"><img src=\"https://colab.research.google.com/assets/colab-badge.svg\" alt=\"Open In Colab\"/></a>"
      ]
    },
    {
      "cell_type": "markdown",
      "id": "77b4743b",
      "metadata": {
        "id": "77b4743b"
      },
      "source": [
        "# AgrifieldNet India Competition"
      ]
    },
    {
      "cell_type": "markdown",
      "id": "be36e335",
      "metadata": {
        "id": "be36e335"
      },
      "source": [
        "## Install and import dependencies\n"
      ]
    },
    {
      "cell_type": "code",
      "execution_count": 1,
      "id": "KiwG2IraDe6h",
      "metadata": {
        "colab": {
          "base_uri": "https://localhost:8080/"
        },
        "id": "KiwG2IraDe6h",
        "outputId": "6911911f-718e-4c8f-eb7d-eba2224d3d92"
      },
      "outputs": [
        {
          "output_type": "stream",
          "name": "stdout",
          "text": [
            "Overwriting requirements.txt\n"
          ]
        }
      ],
      "source": [
        "%%writefile requirements.txt\n",
        "\n",
        "pandas==1.3.5\n",
        "scikit-learn==1.0.2\n",
        "tqdm==4.64.0\n",
        "rasterio==1.2.0\n",
        "numpy==1.21.6\n",
        "radiant_mlhub==0.4.1\n",
        "torch==1.12.1\n",
        "torchvision==0.13.1\n",
        "scikit-image==0.18.3\n",
        "matplotlib==3.2.2\n",
        "pillow==7.1.2\n",
        "monai==0.9.1\n",
        "tensorboard==2.8.0"
      ]
    },
    {
      "cell_type": "code",
      "execution_count": 2,
      "id": "qafN0lN8D-_N",
      "metadata": {
        "colab": {
          "base_uri": "https://localhost:8080/"
        },
        "id": "qafN0lN8D-_N",
        "outputId": "d1d38193-0a31-4ef7-c1d2-0fa85862dbe3"
      },
      "outputs": [
        {
          "output_type": "stream",
          "name": "stdout",
          "text": [
            "Looking in indexes: https://pypi.org/simple, https://us-python.pkg.dev/colab-wheels/public/simple/\n",
            "Requirement already satisfied: pandas==1.3.5 in /usr/local/lib/python3.7/dist-packages (from -r requirements.txt (line 2)) (1.3.5)\n",
            "Requirement already satisfied: scikit-learn==1.0.2 in /usr/local/lib/python3.7/dist-packages (from -r requirements.txt (line 3)) (1.0.2)\n",
            "Requirement already satisfied: tqdm==4.64.0 in /usr/local/lib/python3.7/dist-packages (from -r requirements.txt (line 4)) (4.64.0)\n",
            "Requirement already satisfied: rasterio==1.2.0 in /usr/local/lib/python3.7/dist-packages (from -r requirements.txt (line 5)) (1.2.0)\n",
            "Requirement already satisfied: numpy==1.21.6 in /usr/local/lib/python3.7/dist-packages (from -r requirements.txt (line 6)) (1.21.6)\n",
            "Requirement already satisfied: radiant_mlhub==0.4.1 in /usr/local/lib/python3.7/dist-packages (from -r requirements.txt (line 7)) (0.4.1)\n",
            "Requirement already satisfied: torch==1.12.1 in /usr/local/lib/python3.7/dist-packages (from -r requirements.txt (line 8)) (1.12.1+cu113)\n",
            "Requirement already satisfied: torchvision==0.13.1 in /usr/local/lib/python3.7/dist-packages (from -r requirements.txt (line 9)) (0.13.1+cu113)\n",
            "Requirement already satisfied: scikit-image==0.18.3 in /usr/local/lib/python3.7/dist-packages (from -r requirements.txt (line 10)) (0.18.3)\n",
            "Requirement already satisfied: matplotlib==3.2.2 in /usr/local/lib/python3.7/dist-packages (from -r requirements.txt (line 11)) (3.2.2)\n",
            "Requirement already satisfied: pillow==7.1.2 in /usr/local/lib/python3.7/dist-packages (from -r requirements.txt (line 12)) (7.1.2)\n",
            "Requirement already satisfied: monai==0.9.1 in /usr/local/lib/python3.7/dist-packages (from -r requirements.txt (line 13)) (0.9.1)\n",
            "Requirement already satisfied: tensorboard==2.8.0 in /usr/local/lib/python3.7/dist-packages (from -r requirements.txt (line 14)) (2.8.0)\n",
            "Requirement already satisfied: pytz>=2017.3 in /usr/local/lib/python3.7/dist-packages (from pandas==1.3.5->-r requirements.txt (line 2)) (2022.2.1)\n",
            "Requirement already satisfied: python-dateutil>=2.7.3 in /usr/local/lib/python3.7/dist-packages (from pandas==1.3.5->-r requirements.txt (line 2)) (2.8.2)\n",
            "Requirement already satisfied: threadpoolctl>=2.0.0 in /usr/local/lib/python3.7/dist-packages (from scikit-learn==1.0.2->-r requirements.txt (line 3)) (3.1.0)\n",
            "Requirement already satisfied: scipy>=1.1.0 in /usr/local/lib/python3.7/dist-packages (from scikit-learn==1.0.2->-r requirements.txt (line 3)) (1.7.3)\n",
            "Requirement already satisfied: joblib>=0.11 in /usr/local/lib/python3.7/dist-packages (from scikit-learn==1.0.2->-r requirements.txt (line 3)) (1.1.0)\n",
            "Requirement already satisfied: click-plugins in /usr/local/lib/python3.7/dist-packages (from rasterio==1.2.0->-r requirements.txt (line 5)) (1.1.1)\n",
            "Requirement already satisfied: attrs in /usr/local/lib/python3.7/dist-packages (from rasterio==1.2.0->-r requirements.txt (line 5)) (22.1.0)\n",
            "Requirement already satisfied: click<8,>=4.0 in /usr/local/lib/python3.7/dist-packages (from rasterio==1.2.0->-r requirements.txt (line 5)) (7.1.2)\n",
            "Requirement already satisfied: cligj>=0.5 in /usr/local/lib/python3.7/dist-packages (from rasterio==1.2.0->-r requirements.txt (line 5)) (0.7.2)\n",
            "Requirement already satisfied: snuggs>=1.4.1 in /usr/local/lib/python3.7/dist-packages (from rasterio==1.2.0->-r requirements.txt (line 5)) (1.4.7)\n",
            "Requirement already satisfied: affine in /usr/local/lib/python3.7/dist-packages (from rasterio==1.2.0->-r requirements.txt (line 5)) (2.3.1)\n",
            "Requirement already satisfied: certifi in /usr/local/lib/python3.7/dist-packages (from rasterio==1.2.0->-r requirements.txt (line 5)) (2022.6.15)\n",
            "Requirement already satisfied: typing-extensions>=3.7 in /usr/local/lib/python3.7/dist-packages (from radiant_mlhub==0.4.1->-r requirements.txt (line 7)) (4.1.1)\n",
            "Requirement already satisfied: requests~=2.25 in /usr/local/lib/python3.7/dist-packages (from radiant_mlhub==0.4.1->-r requirements.txt (line 7)) (2.28.1)\n",
            "Requirement already satisfied: pystac~=1.1 in /usr/local/lib/python3.7/dist-packages (from radiant_mlhub==0.4.1->-r requirements.txt (line 7)) (1.5.0)\n",
            "Requirement already satisfied: networkx>=2.0 in /usr/local/lib/python3.7/dist-packages (from scikit-image==0.18.3->-r requirements.txt (line 10)) (2.6.3)\n",
            "Requirement already satisfied: PyWavelets>=1.1.1 in /usr/local/lib/python3.7/dist-packages (from scikit-image==0.18.3->-r requirements.txt (line 10)) (1.3.0)\n",
            "Requirement already satisfied: tifffile>=2019.7.26 in /usr/local/lib/python3.7/dist-packages (from scikit-image==0.18.3->-r requirements.txt (line 10)) (2021.11.2)\n",
            "Requirement already satisfied: imageio>=2.3.0 in /usr/local/lib/python3.7/dist-packages (from scikit-image==0.18.3->-r requirements.txt (line 10)) (2.9.0)\n",
            "Requirement already satisfied: cycler>=0.10 in /usr/local/lib/python3.7/dist-packages (from matplotlib==3.2.2->-r requirements.txt (line 11)) (0.11.0)\n",
            "Requirement already satisfied: kiwisolver>=1.0.1 in /usr/local/lib/python3.7/dist-packages (from matplotlib==3.2.2->-r requirements.txt (line 11)) (1.4.4)\n",
            "Requirement already satisfied: pyparsing!=2.0.4,!=2.1.2,!=2.1.6,>=2.0.1 in /usr/local/lib/python3.7/dist-packages (from matplotlib==3.2.2->-r requirements.txt (line 11)) (3.0.9)\n",
            "Requirement already satisfied: markdown>=2.6.8 in /usr/local/lib/python3.7/dist-packages (from tensorboard==2.8.0->-r requirements.txt (line 14)) (3.4.1)\n",
            "Requirement already satisfied: google-auth-oauthlib<0.5,>=0.4.1 in /usr/local/lib/python3.7/dist-packages (from tensorboard==2.8.0->-r requirements.txt (line 14)) (0.4.6)\n",
            "Requirement already satisfied: absl-py>=0.4 in /usr/local/lib/python3.7/dist-packages (from tensorboard==2.8.0->-r requirements.txt (line 14)) (1.2.0)\n",
            "Requirement already satisfied: google-auth<3,>=1.6.3 in /usr/local/lib/python3.7/dist-packages (from tensorboard==2.8.0->-r requirements.txt (line 14)) (1.35.0)\n",
            "Requirement already satisfied: tensorboard-data-server<0.7.0,>=0.6.0 in /usr/local/lib/python3.7/dist-packages (from tensorboard==2.8.0->-r requirements.txt (line 14)) (0.6.1)\n",
            "Requirement already satisfied: werkzeug>=0.11.15 in /usr/local/lib/python3.7/dist-packages (from tensorboard==2.8.0->-r requirements.txt (line 14)) (1.0.1)\n",
            "Requirement already satisfied: grpcio>=1.24.3 in /usr/local/lib/python3.7/dist-packages (from tensorboard==2.8.0->-r requirements.txt (line 14)) (1.48.1)\n",
            "Requirement already satisfied: setuptools>=41.0.0 in /usr/local/lib/python3.7/dist-packages (from tensorboard==2.8.0->-r requirements.txt (line 14)) (57.4.0)\n",
            "Requirement already satisfied: wheel>=0.26 in /usr/local/lib/python3.7/dist-packages (from tensorboard==2.8.0->-r requirements.txt (line 14)) (0.37.1)\n",
            "Requirement already satisfied: tensorboard-plugin-wit>=1.6.0 in /usr/local/lib/python3.7/dist-packages (from tensorboard==2.8.0->-r requirements.txt (line 14)) (1.8.1)\n",
            "Requirement already satisfied: protobuf>=3.6.0 in /usr/local/lib/python3.7/dist-packages (from tensorboard==2.8.0->-r requirements.txt (line 14)) (3.17.3)\n",
            "Requirement already satisfied: six>=1.9.0 in /usr/local/lib/python3.7/dist-packages (from google-auth<3,>=1.6.3->tensorboard==2.8.0->-r requirements.txt (line 14)) (1.15.0)\n",
            "Requirement already satisfied: cachetools<5.0,>=2.0.0 in /usr/local/lib/python3.7/dist-packages (from google-auth<3,>=1.6.3->tensorboard==2.8.0->-r requirements.txt (line 14)) (4.2.4)\n",
            "Requirement already satisfied: rsa<5,>=3.1.4 in /usr/local/lib/python3.7/dist-packages (from google-auth<3,>=1.6.3->tensorboard==2.8.0->-r requirements.txt (line 14)) (4.9)\n",
            "Requirement already satisfied: pyasn1-modules>=0.2.1 in /usr/local/lib/python3.7/dist-packages (from google-auth<3,>=1.6.3->tensorboard==2.8.0->-r requirements.txt (line 14)) (0.2.8)\n",
            "Requirement already satisfied: requests-oauthlib>=0.7.0 in /usr/local/lib/python3.7/dist-packages (from google-auth-oauthlib<0.5,>=0.4.1->tensorboard==2.8.0->-r requirements.txt (line 14)) (1.3.1)\n",
            "Requirement already satisfied: importlib-metadata>=4.4 in /usr/local/lib/python3.7/dist-packages (from markdown>=2.6.8->tensorboard==2.8.0->-r requirements.txt (line 14)) (4.12.0)\n",
            "Requirement already satisfied: zipp>=0.5 in /usr/local/lib/python3.7/dist-packages (from importlib-metadata>=4.4->markdown>=2.6.8->tensorboard==2.8.0->-r requirements.txt (line 14)) (3.8.1)\n",
            "Requirement already satisfied: pyasn1<0.5.0,>=0.4.6 in /usr/local/lib/python3.7/dist-packages (from pyasn1-modules>=0.2.1->google-auth<3,>=1.6.3->tensorboard==2.8.0->-r requirements.txt (line 14)) (0.4.8)\n",
            "Requirement already satisfied: idna<4,>=2.5 in /usr/local/lib/python3.7/dist-packages (from requests~=2.25->radiant_mlhub==0.4.1->-r requirements.txt (line 7)) (2.10)\n",
            "Requirement already satisfied: charset-normalizer<3,>=2 in /usr/local/lib/python3.7/dist-packages (from requests~=2.25->radiant_mlhub==0.4.1->-r requirements.txt (line 7)) (2.1.1)\n",
            "Requirement already satisfied: urllib3<1.27,>=1.21.1 in /usr/local/lib/python3.7/dist-packages (from requests~=2.25->radiant_mlhub==0.4.1->-r requirements.txt (line 7)) (1.24.3)\n",
            "Requirement already satisfied: oauthlib>=3.0.0 in /usr/local/lib/python3.7/dist-packages (from requests-oauthlib>=0.7.0->google-auth-oauthlib<0.5,>=0.4.1->tensorboard==2.8.0->-r requirements.txt (line 14)) (3.2.0)\n"
          ]
        }
      ],
      "source": [
        "!pip install -r requirements.txt"
      ]
    },
    {
      "cell_type": "code",
      "execution_count": 3,
      "id": "28ea6e7d",
      "metadata": {
        "id": "28ea6e7d"
      },
      "outputs": [],
      "source": [
        "import os\n",
        "import json\n",
        "import getpass\n",
        "import rasterio\n",
        "import numpy as np\n",
        "import pandas as pd\n",
        "from tqdm import tqdm\n",
        "from radiant_mlhub import Dataset\n",
        "import tarfile\n",
        "import shutil\n",
        "import numpy as np\n",
        "import pandas as pd\n",
        "import torch\n",
        "import torch.utils.data\n",
        "from torch import nn\n",
        "from skimage import io\n",
        "from torchvision import transforms as torch_transforms\n",
        "import pylab as plt\n",
        "from PIL import Image\n",
        "from skimage.segmentation import mark_boundaries\n",
        "from monai.networks.layers import Norm\n",
        "from monai.networks.nets import UNet\n",
        "from monai.losses import DiceLoss, DiceCELoss, MaskedDiceLoss\n",
        "from monai.metrics import DiceMetric\n",
        "# from torch.utils.tensorboard import SummaryWriter"
      ]
    },
    {
      "cell_type": "markdown",
      "id": "fQpDLC79m5A4",
      "metadata": {
        "id": "fQpDLC79m5A4"
      },
      "source": [
        "## Specify global parameters"
      ]
    },
    {
      "cell_type": "code",
      "execution_count": 4,
      "id": "rKuZKO3em_Av",
      "metadata": {
        "id": "rKuZKO3em_Av"
      },
      "outputs": [],
      "source": [
        "data_dir = 'data'\n",
        "random_seed = 42\n",
        "\n",
        "train_df_path = 'train_data.csv'\n",
        "\n",
        "BAND_NAMES = ['B01', 'B02', 'B03', 'B04','B05', 'B06', 'B07', 'B08','B8A', 'B09', 'B11', 'B12']"
      ]
    },
    {
      "cell_type": "code",
      "execution_count": 5,
      "id": "S-_SPonZnI8f",
      "metadata": {
        "id": "S-_SPonZnI8f"
      },
      "outputs": [],
      "source": [
        "np.random.seed(random_seed)"
      ]
    },
    {
      "cell_type": "markdown",
      "id": "835834a1",
      "metadata": {
        "id": "835834a1"
      },
      "source": [
        "## Download data from MLHUB\n"
      ]
    },
    {
      "cell_type": "code",
      "execution_count": 6,
      "id": "v6t8zd3bJB51",
      "metadata": {
        "id": "v6t8zd3bJB51"
      },
      "outputs": [],
      "source": [
        "collection_name = 'ref_agrifieldnet_competition_v1'\n",
        "\n",
        "source_collection = f'{collection_name}_source'\n",
        "train_label_collection = f'{collection_name}_labels_train'\n",
        "test_label_collection = f'{collection_name}_labels_test'"
      ]
    },
    {
      "cell_type": "code",
      "execution_count": 7,
      "id": "cb1f3921",
      "metadata": {
        "colab": {
          "base_uri": "https://localhost:8080/"
        },
        "id": "cb1f3921",
        "outputId": "e9c879e2-5dc3-4eb5-8973-d39a9c81d44c",
        "scrolled": true
      },
      "outputs": [
        {
          "output_type": "stream",
          "name": "stdout",
          "text": [
            "Dataset already exists\n"
          ]
        }
      ],
      "source": [
        "if not os.path.exists(data_dir):\n",
        "  os.environ['MLHUB_API_KEY'] =  getpass.getpass(prompt=\"MLHub API Key: \")\n",
        "\n",
        "  dataset = Dataset.fetch(collection_name)\n",
        "  dataset.download(output_dir=data_dir)\n",
        "  for fn in os.listdir(data_dir):\n",
        "    with tarfile.open(os.path.join(data_dir, fn)) as f:\n",
        "      f.extractall(data_dir + '/') \n",
        "    os.remove(os.path.join(data_dir, fn))\n",
        "else:\n",
        "  print(\"Dataset already exists\")"
      ]
    },
    {
      "cell_type": "markdown",
      "id": "c2b7152b",
      "metadata": {
        "id": "c2b7152b"
      },
      "source": [
        "## Prepare Training data\n"
      ]
    },
    {
      "cell_type": "markdown",
      "id": "HjvBEfBWmYY0",
      "metadata": {
        "id": "HjvBEfBWmYY0"
      },
      "source": [
        "### Create training dataframe"
      ]
    },
    {
      "cell_type": "code",
      "execution_count": 8,
      "id": "GV9mPA1VTqt4",
      "metadata": {
        "id": "GV9mPA1VTqt4"
      },
      "outputs": [],
      "source": [
        "train_paths = os.listdir(os.path.join(data_dir, train_label_collection))\n",
        "train_ids = [fn.split('_')[-1] for fn in train_paths if 'labels_train' in fn]\n",
        "\n",
        "field_paths = [f'{data_dir}/{train_label_collection}/{train_label_collection}_{i}/field_ids.tif' \n",
        "               for i in train_ids]\n",
        "label_paths = [f'{data_dir}/{train_label_collection}/{train_label_collection}_{i}/raster_labels.tif' \n",
        "               for i in train_ids]\n",
        "source_paths = [f'{data_dir}/{source_collection}/{source_collection}_{i}/' \n",
        "               for i in train_ids]"
      ]
    },
    {
      "cell_type": "code",
      "execution_count": 9,
      "id": "d158c3e9",
      "metadata": {
        "colab": {
          "base_uri": "https://localhost:8080/",
          "height": 270
        },
        "id": "d158c3e9",
        "outputId": "e9e60269-00fe-417b-d74e-00ccbce4acc8"
      },
      "outputs": [
        {
          "output_type": "execute_result",
          "data": {
            "text/plain": [
              "  folder_id                                         field_path  \\\n",
              "0     8a219  data/ref_agrifieldnet_competition_v1_labels_tr...   \n",
              "1     b2361  data/ref_agrifieldnet_competition_v1_labels_tr...   \n",
              "2     ae507  data/ref_agrifieldnet_competition_v1_labels_tr...   \n",
              "3     39ea6  data/ref_agrifieldnet_competition_v1_labels_tr...   \n",
              "4     001c1  data/ref_agrifieldnet_competition_v1_labels_tr...   \n",
              "\n",
              "                                          label_path  \\\n",
              "0  data/ref_agrifieldnet_competition_v1_labels_tr...   \n",
              "1  data/ref_agrifieldnet_competition_v1_labels_tr...   \n",
              "2  data/ref_agrifieldnet_competition_v1_labels_tr...   \n",
              "3  data/ref_agrifieldnet_competition_v1_labels_tr...   \n",
              "4  data/ref_agrifieldnet_competition_v1_labels_tr...   \n",
              "\n",
              "                                         source_path  \n",
              "0  data/ref_agrifieldnet_competition_v1_source/re...  \n",
              "1  data/ref_agrifieldnet_competition_v1_source/re...  \n",
              "2  data/ref_agrifieldnet_competition_v1_source/re...  \n",
              "3  data/ref_agrifieldnet_competition_v1_source/re...  \n",
              "4  data/ref_agrifieldnet_competition_v1_source/re...  "
            ],
            "text/html": [
              "\n",
              "  <div id=\"df-2e8ae554-95cd-420c-ae34-78132e8e56a9\">\n",
              "    <div class=\"colab-df-container\">\n",
              "      <div>\n",
              "<style scoped>\n",
              "    .dataframe tbody tr th:only-of-type {\n",
              "        vertical-align: middle;\n",
              "    }\n",
              "\n",
              "    .dataframe tbody tr th {\n",
              "        vertical-align: top;\n",
              "    }\n",
              "\n",
              "    .dataframe thead th {\n",
              "        text-align: right;\n",
              "    }\n",
              "</style>\n",
              "<table border=\"1\" class=\"dataframe\">\n",
              "  <thead>\n",
              "    <tr style=\"text-align: right;\">\n",
              "      <th></th>\n",
              "      <th>folder_id</th>\n",
              "      <th>field_path</th>\n",
              "      <th>label_path</th>\n",
              "      <th>source_path</th>\n",
              "    </tr>\n",
              "  </thead>\n",
              "  <tbody>\n",
              "    <tr>\n",
              "      <th>0</th>\n",
              "      <td>8a219</td>\n",
              "      <td>data/ref_agrifieldnet_competition_v1_labels_tr...</td>\n",
              "      <td>data/ref_agrifieldnet_competition_v1_labels_tr...</td>\n",
              "      <td>data/ref_agrifieldnet_competition_v1_source/re...</td>\n",
              "    </tr>\n",
              "    <tr>\n",
              "      <th>1</th>\n",
              "      <td>b2361</td>\n",
              "      <td>data/ref_agrifieldnet_competition_v1_labels_tr...</td>\n",
              "      <td>data/ref_agrifieldnet_competition_v1_labels_tr...</td>\n",
              "      <td>data/ref_agrifieldnet_competition_v1_source/re...</td>\n",
              "    </tr>\n",
              "    <tr>\n",
              "      <th>2</th>\n",
              "      <td>ae507</td>\n",
              "      <td>data/ref_agrifieldnet_competition_v1_labels_tr...</td>\n",
              "      <td>data/ref_agrifieldnet_competition_v1_labels_tr...</td>\n",
              "      <td>data/ref_agrifieldnet_competition_v1_source/re...</td>\n",
              "    </tr>\n",
              "    <tr>\n",
              "      <th>3</th>\n",
              "      <td>39ea6</td>\n",
              "      <td>data/ref_agrifieldnet_competition_v1_labels_tr...</td>\n",
              "      <td>data/ref_agrifieldnet_competition_v1_labels_tr...</td>\n",
              "      <td>data/ref_agrifieldnet_competition_v1_source/re...</td>\n",
              "    </tr>\n",
              "    <tr>\n",
              "      <th>4</th>\n",
              "      <td>001c1</td>\n",
              "      <td>data/ref_agrifieldnet_competition_v1_labels_tr...</td>\n",
              "      <td>data/ref_agrifieldnet_competition_v1_labels_tr...</td>\n",
              "      <td>data/ref_agrifieldnet_competition_v1_source/re...</td>\n",
              "    </tr>\n",
              "  </tbody>\n",
              "</table>\n",
              "</div>\n",
              "      <button class=\"colab-df-convert\" onclick=\"convertToInteractive('df-2e8ae554-95cd-420c-ae34-78132e8e56a9')\"\n",
              "              title=\"Convert this dataframe to an interactive table.\"\n",
              "              style=\"display:none;\">\n",
              "        \n",
              "  <svg xmlns=\"http://www.w3.org/2000/svg\" height=\"24px\"viewBox=\"0 0 24 24\"\n",
              "       width=\"24px\">\n",
              "    <path d=\"M0 0h24v24H0V0z\" fill=\"none\"/>\n",
              "    <path d=\"M18.56 5.44l.94 2.06.94-2.06 2.06-.94-2.06-.94-.94-2.06-.94 2.06-2.06.94zm-11 1L8.5 8.5l.94-2.06 2.06-.94-2.06-.94L8.5 2.5l-.94 2.06-2.06.94zm10 10l.94 2.06.94-2.06 2.06-.94-2.06-.94-.94-2.06-.94 2.06-2.06.94z\"/><path d=\"M17.41 7.96l-1.37-1.37c-.4-.4-.92-.59-1.43-.59-.52 0-1.04.2-1.43.59L10.3 9.45l-7.72 7.72c-.78.78-.78 2.05 0 2.83L4 21.41c.39.39.9.59 1.41.59.51 0 1.02-.2 1.41-.59l7.78-7.78 2.81-2.81c.8-.78.8-2.07 0-2.86zM5.41 20L4 18.59l7.72-7.72 1.47 1.35L5.41 20z\"/>\n",
              "  </svg>\n",
              "      </button>\n",
              "      \n",
              "  <style>\n",
              "    .colab-df-container {\n",
              "      display:flex;\n",
              "      flex-wrap:wrap;\n",
              "      gap: 12px;\n",
              "    }\n",
              "\n",
              "    .colab-df-convert {\n",
              "      background-color: #E8F0FE;\n",
              "      border: none;\n",
              "      border-radius: 50%;\n",
              "      cursor: pointer;\n",
              "      display: none;\n",
              "      fill: #1967D2;\n",
              "      height: 32px;\n",
              "      padding: 0 0 0 0;\n",
              "      width: 32px;\n",
              "    }\n",
              "\n",
              "    .colab-df-convert:hover {\n",
              "      background-color: #E2EBFA;\n",
              "      box-shadow: 0px 1px 2px rgba(60, 64, 67, 0.3), 0px 1px 3px 1px rgba(60, 64, 67, 0.15);\n",
              "      fill: #174EA6;\n",
              "    }\n",
              "\n",
              "    [theme=dark] .colab-df-convert {\n",
              "      background-color: #3B4455;\n",
              "      fill: #D2E3FC;\n",
              "    }\n",
              "\n",
              "    [theme=dark] .colab-df-convert:hover {\n",
              "      background-color: #434B5C;\n",
              "      box-shadow: 0px 1px 3px 1px rgba(0, 0, 0, 0.15);\n",
              "      filter: drop-shadow(0px 1px 2px rgba(0, 0, 0, 0.3));\n",
              "      fill: #FFFFFF;\n",
              "    }\n",
              "  </style>\n",
              "\n",
              "      <script>\n",
              "        const buttonEl =\n",
              "          document.querySelector('#df-2e8ae554-95cd-420c-ae34-78132e8e56a9 button.colab-df-convert');\n",
              "        buttonEl.style.display =\n",
              "          google.colab.kernel.accessAllowed ? 'block' : 'none';\n",
              "\n",
              "        async function convertToInteractive(key) {\n",
              "          const element = document.querySelector('#df-2e8ae554-95cd-420c-ae34-78132e8e56a9');\n",
              "          const dataTable =\n",
              "            await google.colab.kernel.invokeFunction('convertToInteractive',\n",
              "                                                     [key], {});\n",
              "          if (!dataTable) return;\n",
              "\n",
              "          const docLinkHtml = 'Like what you see? Visit the ' +\n",
              "            '<a target=\"_blank\" href=https://colab.research.google.com/notebooks/data_table.ipynb>data table notebook</a>'\n",
              "            + ' to learn more about interactive tables.';\n",
              "          element.innerHTML = '';\n",
              "          dataTable['output_type'] = 'display_data';\n",
              "          await google.colab.output.renderOutput(dataTable, element);\n",
              "          const docLink = document.createElement('div');\n",
              "          docLink.innerHTML = docLinkHtml;\n",
              "          element.appendChild(docLink);\n",
              "        }\n",
              "      </script>\n",
              "    </div>\n",
              "  </div>\n",
              "  "
            ]
          },
          "metadata": {},
          "execution_count": 9
        }
      ],
      "source": [
        "train_data = pd.DataFrame(np.array([train_ids, field_paths, label_paths, source_paths]).transpose(), \n",
        "                          columns=['folder_id', 'field_path', 'label_path', 'source_path'])\n",
        "train_data.head()"
      ]
    },
    {
      "cell_type": "markdown",
      "id": "45b0528d-12b9-4c3d-9349-b87d0125452b",
      "metadata": {
        "id": "45b0528d-12b9-4c3d-9349-b87d0125452b"
      },
      "source": [
        "\n",
        "## Extract field-crop data"
      ]
    },
    {
      "cell_type": "code",
      "execution_count": 10,
      "id": "bb718754-8b9d-41dc-af37-785f08813783",
      "metadata": {
        "id": "bb718754-8b9d-41dc-af37-785f08813783"
      },
      "outputs": [],
      "source": [
        "def extract_field_crop_data(data):\n",
        "  field_ids = []\n",
        "  crop_type = []\n",
        "  field_area = []\n",
        "  field_max_dim = []\n",
        "  field_center_x = []\n",
        "  field_center_y = []\n",
        "  label_paths = []\n",
        "  field_paths = []\n",
        "  source_paths = []\n",
        "\n",
        "  for i in tqdm(range(len(data))):\n",
        "      with rasterio.open(data['field_path'].iloc[i]) as src:\n",
        "          field_data = src.read()[0]\n",
        "      with rasterio.open(data['label_path'].iloc[i]) as src:\n",
        "          crop_data = src.read()[0]\n",
        "\n",
        "      for field_id in np.unique(field_data)[1:]:\n",
        "          ind = np.where(field_data == field_id)\n",
        "          field_ids.append(field_id)\n",
        "          crop_type.append(np.unique(crop_data[ind])[-1])\n",
        "          field_area.append(len(ind[0]))\n",
        "          field_max_dim.append(np.max(np.array(ind).max(1) - np.array(ind).min(1) + 1))\n",
        "          field_center_y.append(np.mean(ind[0]))\n",
        "          field_center_x.append(np.mean(ind[1]))\n",
        "          label_paths.append(data['label_path'].iloc[i])\n",
        "          field_paths.append(data['field_path'].iloc[i])\n",
        "          source_paths.append(data['source_path'].iloc[i])\n",
        "\n",
        "  df = pd.DataFrame(np.array([field_ids, crop_type, field_area, \n",
        "                              field_max_dim, field_center_x, \n",
        "                              field_center_y]).transpose(),\n",
        "                    columns=['field_id', 'crop_type', 'field_area', \n",
        "                            'field_max_dim', 'center_x', 'center_y'])\n",
        "  df['label_path'] = label_paths\n",
        "  df['field_path'] = field_paths\n",
        "  df['source_path'] = source_paths\n",
        "  return df"
      ]
    },
    {
      "cell_type": "code",
      "source": [
        "df = extract_field_crop_data(train_data)"
      ],
      "metadata": {
        "id": "x01ngTzLAFU3",
        "outputId": "1a4a2444-ab0d-4bb0-8cee-57ef662bed47",
        "colab": {
          "base_uri": "https://localhost:8080/"
        }
      },
      "id": "x01ngTzLAFU3",
      "execution_count": 11,
      "outputs": [
        {
          "output_type": "stream",
          "name": "stderr",
          "text": [
            "100%|██████████| 1165/1165 [00:13<00:00, 84.51it/s]\n"
          ]
        }
      ]
    },
    {
      "cell_type": "code",
      "execution_count": 12,
      "id": "82363a48-77b1-43d9-9b4b-30399290ec97",
      "metadata": {
        "id": "82363a48-77b1-43d9-9b4b-30399290ec97",
        "outputId": "fc0ca4af-83c1-463a-a480-ca6ff825242b",
        "colab": {
          "base_uri": "https://localhost:8080/"
        }
      },
      "outputs": [
        {
          "output_type": "execute_result",
          "data": {
            "text/plain": [
              "54.0"
            ]
          },
          "metadata": {},
          "execution_count": 12
        }
      ],
      "source": [
        "maxdim = df['field_max_dim'].max()\n",
        "maxdim"
      ]
    },
    {
      "cell_type": "code",
      "execution_count": 13,
      "id": "cb8235d3-3f09-4bb7-b32b-3e5c7ba966fc",
      "metadata": {
        "id": "cb8235d3-3f09-4bb7-b32b-3e5c7ba966fc"
      },
      "outputs": [],
      "source": [
        "size = 64"
      ]
    },
    {
      "cell_type": "code",
      "execution_count": 14,
      "id": "6a60b82a-1292-43f1-b16d-36964250029c",
      "metadata": {
        "id": "6a60b82a-1292-43f1-b16d-36964250029c",
        "outputId": "7a875e09-034b-49fc-e7a2-72ece43f9fe7",
        "colab": {
          "base_uri": "https://localhost:8080/"
        }
      },
      "outputs": [
        {
          "output_type": "execute_result",
          "data": {
            "text/plain": [
              "0.0004934933587038231"
            ]
          },
          "metadata": {},
          "execution_count": 14
        }
      ],
      "source": [
        "mean_area_fraction = np.mean(df['field_area']) / 256**2\n",
        "mean_area_fraction"
      ]
    },
    {
      "cell_type": "code",
      "execution_count": 15,
      "id": "b01506ef-4bbb-4a12-8d56-2f7f705d21d8",
      "metadata": {
        "id": "b01506ef-4bbb-4a12-8d56-2f7f705d21d8"
      },
      "outputs": [],
      "source": [
        "df = df.sort_values(['crop_type', 'field_id']).reset_index(drop=True)\n",
        "df['count'] = 1"
      ]
    },
    {
      "cell_type": "code",
      "execution_count": 16,
      "id": "45cc2bcb-44bd-4688-b0e0-fbfb3991f559",
      "metadata": {
        "id": "45cc2bcb-44bd-4688-b0e0-fbfb3991f559",
        "outputId": "461399a4-8cf9-43b2-b996-a7eb707d569f",
        "colab": {
          "base_uri": "https://localhost:8080/",
          "height": 488
        }
      },
      "outputs": [
        {
          "output_type": "execute_result",
          "data": {
            "text/plain": [
              "            field_id  field_area  field_max_dim       center_x       center_y  \\\n",
              "crop_type                                                                       \n",
              "1.0        6241369.0     75118.0        17357.0  268141.027810  272345.129440   \n",
              "2.0        3951325.0     46818.0         9542.0  134534.280499  135859.037956   \n",
              "3.0         197850.0      2883.0          786.0   14378.647796   13225.595171   \n",
              "4.0        6633376.0     36397.0        10366.0  214265.322749  221002.721353   \n",
              "5.0          53102.0       531.0          177.0    3473.416281    3866.649834   \n",
              "6.0         279015.0      5820.0         1451.0   22128.328845   21726.170139   \n",
              "8.0         255632.0      3150.0          526.0    5984.146869    6461.463742   \n",
              "9.0        2000157.0      8773.0         2275.0   37997.718876   38870.447163   \n",
              "13.0        360261.0      3503.0          647.0    6351.534183    7946.557215   \n",
              "14.0         43859.0       678.0          117.0    1816.976855    1851.925902   \n",
              "15.0        201531.0       886.0          268.0    5912.969947    5916.743522   \n",
              "16.0         42092.0       261.0           84.0    2209.161892    2083.167741   \n",
              "36.0        660043.0      3410.0          811.0   17219.239273   17613.762107   \n",
              "\n",
              "           count  \n",
              "crop_type         \n",
              "1.0         2148  \n",
              "2.0         1041  \n",
              "3.0          105  \n",
              "4.0         1707  \n",
              "5.0           25  \n",
              "6.0          173  \n",
              "8.0           49  \n",
              "9.0          304  \n",
              "13.0          64  \n",
              "14.0          14  \n",
              "15.0          43  \n",
              "16.0          16  \n",
              "36.0         131  "
            ],
            "text/html": [
              "\n",
              "  <div id=\"df-430538c2-5d92-403e-8b9c-7bfb15edbff6\">\n",
              "    <div class=\"colab-df-container\">\n",
              "      <div>\n",
              "<style scoped>\n",
              "    .dataframe tbody tr th:only-of-type {\n",
              "        vertical-align: middle;\n",
              "    }\n",
              "\n",
              "    .dataframe tbody tr th {\n",
              "        vertical-align: top;\n",
              "    }\n",
              "\n",
              "    .dataframe thead th {\n",
              "        text-align: right;\n",
              "    }\n",
              "</style>\n",
              "<table border=\"1\" class=\"dataframe\">\n",
              "  <thead>\n",
              "    <tr style=\"text-align: right;\">\n",
              "      <th></th>\n",
              "      <th>field_id</th>\n",
              "      <th>field_area</th>\n",
              "      <th>field_max_dim</th>\n",
              "      <th>center_x</th>\n",
              "      <th>center_y</th>\n",
              "      <th>count</th>\n",
              "    </tr>\n",
              "    <tr>\n",
              "      <th>crop_type</th>\n",
              "      <th></th>\n",
              "      <th></th>\n",
              "      <th></th>\n",
              "      <th></th>\n",
              "      <th></th>\n",
              "      <th></th>\n",
              "    </tr>\n",
              "  </thead>\n",
              "  <tbody>\n",
              "    <tr>\n",
              "      <th>1.0</th>\n",
              "      <td>6241369.0</td>\n",
              "      <td>75118.0</td>\n",
              "      <td>17357.0</td>\n",
              "      <td>268141.027810</td>\n",
              "      <td>272345.129440</td>\n",
              "      <td>2148</td>\n",
              "    </tr>\n",
              "    <tr>\n",
              "      <th>2.0</th>\n",
              "      <td>3951325.0</td>\n",
              "      <td>46818.0</td>\n",
              "      <td>9542.0</td>\n",
              "      <td>134534.280499</td>\n",
              "      <td>135859.037956</td>\n",
              "      <td>1041</td>\n",
              "    </tr>\n",
              "    <tr>\n",
              "      <th>3.0</th>\n",
              "      <td>197850.0</td>\n",
              "      <td>2883.0</td>\n",
              "      <td>786.0</td>\n",
              "      <td>14378.647796</td>\n",
              "      <td>13225.595171</td>\n",
              "      <td>105</td>\n",
              "    </tr>\n",
              "    <tr>\n",
              "      <th>4.0</th>\n",
              "      <td>6633376.0</td>\n",
              "      <td>36397.0</td>\n",
              "      <td>10366.0</td>\n",
              "      <td>214265.322749</td>\n",
              "      <td>221002.721353</td>\n",
              "      <td>1707</td>\n",
              "    </tr>\n",
              "    <tr>\n",
              "      <th>5.0</th>\n",
              "      <td>53102.0</td>\n",
              "      <td>531.0</td>\n",
              "      <td>177.0</td>\n",
              "      <td>3473.416281</td>\n",
              "      <td>3866.649834</td>\n",
              "      <td>25</td>\n",
              "    </tr>\n",
              "    <tr>\n",
              "      <th>6.0</th>\n",
              "      <td>279015.0</td>\n",
              "      <td>5820.0</td>\n",
              "      <td>1451.0</td>\n",
              "      <td>22128.328845</td>\n",
              "      <td>21726.170139</td>\n",
              "      <td>173</td>\n",
              "    </tr>\n",
              "    <tr>\n",
              "      <th>8.0</th>\n",
              "      <td>255632.0</td>\n",
              "      <td>3150.0</td>\n",
              "      <td>526.0</td>\n",
              "      <td>5984.146869</td>\n",
              "      <td>6461.463742</td>\n",
              "      <td>49</td>\n",
              "    </tr>\n",
              "    <tr>\n",
              "      <th>9.0</th>\n",
              "      <td>2000157.0</td>\n",
              "      <td>8773.0</td>\n",
              "      <td>2275.0</td>\n",
              "      <td>37997.718876</td>\n",
              "      <td>38870.447163</td>\n",
              "      <td>304</td>\n",
              "    </tr>\n",
              "    <tr>\n",
              "      <th>13.0</th>\n",
              "      <td>360261.0</td>\n",
              "      <td>3503.0</td>\n",
              "      <td>647.0</td>\n",
              "      <td>6351.534183</td>\n",
              "      <td>7946.557215</td>\n",
              "      <td>64</td>\n",
              "    </tr>\n",
              "    <tr>\n",
              "      <th>14.0</th>\n",
              "      <td>43859.0</td>\n",
              "      <td>678.0</td>\n",
              "      <td>117.0</td>\n",
              "      <td>1816.976855</td>\n",
              "      <td>1851.925902</td>\n",
              "      <td>14</td>\n",
              "    </tr>\n",
              "    <tr>\n",
              "      <th>15.0</th>\n",
              "      <td>201531.0</td>\n",
              "      <td>886.0</td>\n",
              "      <td>268.0</td>\n",
              "      <td>5912.969947</td>\n",
              "      <td>5916.743522</td>\n",
              "      <td>43</td>\n",
              "    </tr>\n",
              "    <tr>\n",
              "      <th>16.0</th>\n",
              "      <td>42092.0</td>\n",
              "      <td>261.0</td>\n",
              "      <td>84.0</td>\n",
              "      <td>2209.161892</td>\n",
              "      <td>2083.167741</td>\n",
              "      <td>16</td>\n",
              "    </tr>\n",
              "    <tr>\n",
              "      <th>36.0</th>\n",
              "      <td>660043.0</td>\n",
              "      <td>3410.0</td>\n",
              "      <td>811.0</td>\n",
              "      <td>17219.239273</td>\n",
              "      <td>17613.762107</td>\n",
              "      <td>131</td>\n",
              "    </tr>\n",
              "  </tbody>\n",
              "</table>\n",
              "</div>\n",
              "      <button class=\"colab-df-convert\" onclick=\"convertToInteractive('df-430538c2-5d92-403e-8b9c-7bfb15edbff6')\"\n",
              "              title=\"Convert this dataframe to an interactive table.\"\n",
              "              style=\"display:none;\">\n",
              "        \n",
              "  <svg xmlns=\"http://www.w3.org/2000/svg\" height=\"24px\"viewBox=\"0 0 24 24\"\n",
              "       width=\"24px\">\n",
              "    <path d=\"M0 0h24v24H0V0z\" fill=\"none\"/>\n",
              "    <path d=\"M18.56 5.44l.94 2.06.94-2.06 2.06-.94-2.06-.94-.94-2.06-.94 2.06-2.06.94zm-11 1L8.5 8.5l.94-2.06 2.06-.94-2.06-.94L8.5 2.5l-.94 2.06-2.06.94zm10 10l.94 2.06.94-2.06 2.06-.94-2.06-.94-.94-2.06-.94 2.06-2.06.94z\"/><path d=\"M17.41 7.96l-1.37-1.37c-.4-.4-.92-.59-1.43-.59-.52 0-1.04.2-1.43.59L10.3 9.45l-7.72 7.72c-.78.78-.78 2.05 0 2.83L4 21.41c.39.39.9.59 1.41.59.51 0 1.02-.2 1.41-.59l7.78-7.78 2.81-2.81c.8-.78.8-2.07 0-2.86zM5.41 20L4 18.59l7.72-7.72 1.47 1.35L5.41 20z\"/>\n",
              "  </svg>\n",
              "      </button>\n",
              "      \n",
              "  <style>\n",
              "    .colab-df-container {\n",
              "      display:flex;\n",
              "      flex-wrap:wrap;\n",
              "      gap: 12px;\n",
              "    }\n",
              "\n",
              "    .colab-df-convert {\n",
              "      background-color: #E8F0FE;\n",
              "      border: none;\n",
              "      border-radius: 50%;\n",
              "      cursor: pointer;\n",
              "      display: none;\n",
              "      fill: #1967D2;\n",
              "      height: 32px;\n",
              "      padding: 0 0 0 0;\n",
              "      width: 32px;\n",
              "    }\n",
              "\n",
              "    .colab-df-convert:hover {\n",
              "      background-color: #E2EBFA;\n",
              "      box-shadow: 0px 1px 2px rgba(60, 64, 67, 0.3), 0px 1px 3px 1px rgba(60, 64, 67, 0.15);\n",
              "      fill: #174EA6;\n",
              "    }\n",
              "\n",
              "    [theme=dark] .colab-df-convert {\n",
              "      background-color: #3B4455;\n",
              "      fill: #D2E3FC;\n",
              "    }\n",
              "\n",
              "    [theme=dark] .colab-df-convert:hover {\n",
              "      background-color: #434B5C;\n",
              "      box-shadow: 0px 1px 3px 1px rgba(0, 0, 0, 0.15);\n",
              "      filter: drop-shadow(0px 1px 2px rgba(0, 0, 0, 0.3));\n",
              "      fill: #FFFFFF;\n",
              "    }\n",
              "  </style>\n",
              "\n",
              "      <script>\n",
              "        const buttonEl =\n",
              "          document.querySelector('#df-430538c2-5d92-403e-8b9c-7bfb15edbff6 button.colab-df-convert');\n",
              "        buttonEl.style.display =\n",
              "          google.colab.kernel.accessAllowed ? 'block' : 'none';\n",
              "\n",
              "        async function convertToInteractive(key) {\n",
              "          const element = document.querySelector('#df-430538c2-5d92-403e-8b9c-7bfb15edbff6');\n",
              "          const dataTable =\n",
              "            await google.colab.kernel.invokeFunction('convertToInteractive',\n",
              "                                                     [key], {});\n",
              "          if (!dataTable) return;\n",
              "\n",
              "          const docLinkHtml = 'Like what you see? Visit the ' +\n",
              "            '<a target=\"_blank\" href=https://colab.research.google.com/notebooks/data_table.ipynb>data table notebook</a>'\n",
              "            + ' to learn more about interactive tables.';\n",
              "          element.innerHTML = '';\n",
              "          dataTable['output_type'] = 'display_data';\n",
              "          await google.colab.output.renderOutput(dataTable, element);\n",
              "          const docLink = document.createElement('div');\n",
              "          docLink.innerHTML = docLinkHtml;\n",
              "          element.appendChild(docLink);\n",
              "        }\n",
              "      </script>\n",
              "    </div>\n",
              "  </div>\n",
              "  "
            ]
          },
          "metadata": {},
          "execution_count": 16
        }
      ],
      "source": [
        "df.groupby('crop_type').sum()"
      ]
    },
    {
      "cell_type": "markdown",
      "id": "tXq1MIEveISx",
      "metadata": {
        "id": "tXq1MIEveISx"
      },
      "source": [
        "### Split the data into train and validation"
      ]
    },
    {
      "cell_type": "code",
      "execution_count": 17,
      "id": "a2602227-d512-4688-8f3d-f4db60a7e8ac",
      "metadata": {
        "id": "a2602227-d512-4688-8f3d-f4db60a7e8ac"
      },
      "outputs": [],
      "source": [
        "val_fraction = 0.2"
      ]
    },
    {
      "cell_type": "code",
      "execution_count": 18,
      "id": "25140a45-6438-481e-8b13-a79af4ee368b",
      "metadata": {
        "id": "25140a45-6438-481e-8b13-a79af4ee368b"
      },
      "outputs": [],
      "source": [
        "df_train = []\n",
        "df_val = []\n",
        "for crop in df['crop_type'].unique():\n",
        "    cur_df = df[df['crop_type'] == crop].reset_index(drop=True)\n",
        "    unique_field_ids = cur_df['field_id'].unique()\n",
        "    ind = np.arange(len(unique_field_ids))\n",
        "    np.random.shuffle(ind)\n",
        "    n_val = int(round(val_fraction * len(ind)))\n",
        "    df_val.append(cur_df[cur_df['field_id'].isin(unique_field_ids[ind[:n_val]])])\n",
        "    df_train.append(cur_df[cur_df['field_id'].isin(unique_field_ids[ind[n_val:]])])\n",
        "df_train = pd.concat(df_train, ignore_index=True)\n",
        "df_val = pd.concat(df_val, ignore_index=True)"
      ]
    },
    {
      "cell_type": "code",
      "execution_count": 19,
      "id": "e39b9856-01db-4d36-9864-b94c5fb6e94c",
      "metadata": {
        "id": "e39b9856-01db-4d36-9864-b94c5fb6e94c"
      },
      "outputs": [],
      "source": [
        "n_fields = np.array(df_train.groupby('crop_type').sum()['count'])\n",
        "weights = np.max(n_fields) / n_fields\n",
        "crop_labels = np.unique(df_train['crop_type'])"
      ]
    },
    {
      "cell_type": "code",
      "execution_count": 20,
      "id": "7ec96419-52ff-4639-af1a-8e67bf9c22f6",
      "metadata": {
        "id": "7ec96419-52ff-4639-af1a-8e67bf9c22f6",
        "outputId": "b4ff5b2b-674f-479e-d7cf-486ee455805a",
        "colab": {
          "base_uri": "https://localhost:8080/"
        }
      },
      "outputs": [
        {
          "output_type": "execute_result",
          "data": {
            "text/plain": [
              "(array([ 1.,  2.,  3.,  4.,  5.,  6.,  8.,  9., 13., 14., 15., 16., 36.]),\n",
              " array([  1.        ,   2.05502392,  20.69879518,   1.26230713,\n",
              "         90.42105263,  12.44927536,  44.05128205,   7.04098361,\n",
              "         33.68627451, 156.18181818,  49.08571429, 132.15384615,\n",
              "         16.51923077]))"
            ]
          },
          "metadata": {},
          "execution_count": 20
        }
      ],
      "source": [
        "crop_labels, weights"
      ]
    },
    {
      "cell_type": "code",
      "execution_count": 21,
      "id": "01d13012-267b-4c53-9f8e-43c3bea62c1e",
      "metadata": {
        "id": "01d13012-267b-4c53-9f8e-43c3bea62c1e",
        "outputId": "efaccb0b-b493-4088-e300-b1b46cae8204",
        "colab": {
          "base_uri": "https://localhost:8080/"
        }
      },
      "outputs": [
        {
          "output_type": "execute_result",
          "data": {
            "text/plain": [
              "array([4.93493359e-04, 1.00000000e+00, 2.05502392e+00, 2.06987952e+01,\n",
              "       1.26230713e+00, 9.04210526e+01, 1.24492754e+01, 0.00000000e+00,\n",
              "       4.40512821e+01, 7.04098361e+00, 0.00000000e+00, 0.00000000e+00,\n",
              "       0.00000000e+00, 3.36862745e+01, 1.56181818e+02, 4.90857143e+01,\n",
              "       1.32153846e+02, 0.00000000e+00, 0.00000000e+00, 0.00000000e+00,\n",
              "       0.00000000e+00, 0.00000000e+00, 0.00000000e+00, 0.00000000e+00,\n",
              "       0.00000000e+00, 0.00000000e+00, 0.00000000e+00, 0.00000000e+00,\n",
              "       0.00000000e+00, 0.00000000e+00, 0.00000000e+00, 0.00000000e+00,\n",
              "       0.00000000e+00, 0.00000000e+00, 0.00000000e+00, 0.00000000e+00,\n",
              "       1.65192308e+01])"
            ]
          },
          "metadata": {},
          "execution_count": 21
        }
      ],
      "source": [
        "loss_weights = np.zeros(int(crop_labels.max()) + 1)\n",
        "loss_weights[0] = mean_area_fraction\n",
        "loss_weights[list(np.int_(crop_labels))] = weights\n",
        "loss_weights"
      ]
    },
    {
      "cell_type": "markdown",
      "id": "lLqI5XgBOyxE",
      "metadata": {
        "id": "lLqI5XgBOyxE"
      },
      "source": [
        "## Extract labels"
      ]
    },
    {
      "cell_type": "code",
      "execution_count": 22,
      "id": "p9s-spgZO12F",
      "metadata": {
        "id": "p9s-spgZO12F"
      },
      "outputs": [],
      "source": [
        "with open(f'{data_dir}/{train_label_collection}/{train_label_collection}'\n",
        "          f'_{train_data.iloc[0][\"folder_id\"]}/stac.json') as ll:\n",
        "    label_json = json.load(ll)"
      ]
    },
    {
      "cell_type": "code",
      "execution_count": 23,
      "id": "7rjt5idSPvjH",
      "metadata": {
        "colab": {
          "base_uri": "https://localhost:8080/"
        },
        "id": "7rjt5idSPvjH",
        "outputId": "683c01f5-7a7f-4881-d0da-6191dc7d3c47"
      },
      "outputs": [
        {
          "output_type": "execute_result",
          "data": {
            "text/plain": [
              "{1: 'Wheat',\n",
              " 2: 'Mustard',\n",
              " 3: 'Lentil',\n",
              " 4: 'No Crop',\n",
              " 6: 'Sugarcane',\n",
              " 8: 'Garlic',\n",
              " 15: 'Potato',\n",
              " 5: 'Green pea',\n",
              " 16: 'Bersem',\n",
              " 14: 'Coriander',\n",
              " 13: 'Gram',\n",
              " 9: 'Maize',\n",
              " 36: 'Rice'}"
            ]
          },
          "metadata": {},
          "execution_count": 23
        }
      ],
      "source": [
        "crop_dict = {asset.get('values')[0]:asset.get('summary') \n",
        "  for asset in label_json['assets']['raster_labels']['file:values']}\n",
        "crop_dict"
      ]
    },
    {
      "cell_type": "markdown",
      "id": "Etysg8Y8m0H5",
      "metadata": {
        "id": "Etysg8Y8m0H5"
      },
      "source": [
        "## Specify Data Loading pipeline"
      ]
    },
    {
      "cell_type": "markdown",
      "id": "GmmFMzALqPcQ",
      "metadata": {
        "id": "GmmFMzALqPcQ"
      },
      "source": [
        "### Specify parameters"
      ]
    },
    {
      "cell_type": "code",
      "execution_count": 24,
      "id": "6bZsIvgBqRer",
      "metadata": {
        "id": "6bZsIvgBqRer"
      },
      "outputs": [],
      "source": [
        "batch_size = 16"
      ]
    },
    {
      "cell_type": "markdown",
      "id": "1EVJPEqbnr_J",
      "metadata": {
        "id": "1EVJPEqbnr_J"
      },
      "source": [
        "### Specify the Dataset"
      ]
    },
    {
      "cell_type": "code",
      "execution_count": 25,
      "id": "2hX7SpwQe0H5",
      "metadata": {
        "id": "2hX7SpwQe0H5"
      },
      "outputs": [],
      "source": [
        "class AgriDataset(torch.utils.data.Dataset):\n",
        "\n",
        "  def __init__(self, df, transforms=None, \n",
        "               band_names=BAND_NAMES, size=64):\n",
        "    self.df = df\n",
        "    self.transforms = transforms\n",
        "    self.band_names = band_names\n",
        "    self.size = size\n",
        "\n",
        "  def __getitem__(self, index):\n",
        "    imgs = []\n",
        "    for band in self.band_names:\n",
        "      source_fn = rf\"{self.df.iloc[index]['source_path']}{band}.tif\"\n",
        "      with rasterio.open(source_fn) as src:\n",
        "        imgs.append(src.read()[0].astype(np.float64)/255.)\n",
        "    with rasterio.open(self.df.iloc[index]['label_path']) as src:\n",
        "      labels = src.read()[0].astype(np.int64)\n",
        "\n",
        "    labels = torch.tensor(labels).unsqueeze(0)\n",
        "    imgs = torch.tensor(np.array(imgs))\n",
        "    \n",
        "    hs = int(self.size/2)\n",
        "    ind = [self.df.iloc[index]['center_y'], self.df.iloc[index]['center_x']]\n",
        "    ind = np.max(np.array([[hs, hs], ind]), axis=0)\n",
        "    ind = np.int_(np.min(np.array([np.array(imgs.shape[-2:])-hs-1, ind]), axis=0))\n",
        "    labels = labels[:, ind[0]-hs:ind[0]+hs, ind[1]-hs:ind[1]+hs]\n",
        "    imgs = imgs[:, ind[0]-hs:ind[0]+hs, ind[1]-hs:ind[1]+hs]\n",
        "      \n",
        "    if self.transforms:\n",
        "      seed = np.random.randint(np.iinfo('int32').max)\n",
        "      torch.manual_seed(seed)\n",
        "      labels = self.transforms(labels)\n",
        "      torch.manual_seed(seed)\n",
        "      imgs = self.transforms(imgs)\n",
        "\n",
        "    return imgs.float(), labels\n",
        "    \n",
        "\n",
        "  def __len__(self):\n",
        "    return len(self.df)"
      ]
    },
    {
      "cell_type": "markdown",
      "id": "nN70MBjGzOUH",
      "metadata": {
        "id": "nN70MBjGzOUH"
      },
      "source": [
        "### Specify transforms"
      ]
    },
    {
      "cell_type": "code",
      "execution_count": 26,
      "id": "4MbR7RMSzRpO",
      "metadata": {
        "id": "4MbR7RMSzRpO"
      },
      "outputs": [],
      "source": [
        "train_transforms = torch_transforms.Compose([\n",
        "        torch_transforms.RandomHorizontalFlip(),\n",
        "        torch_transforms.RandomVerticalFlip(),\n",
        "        torch_transforms.RandomRotation(degrees=30),\n",
        "    ])\n",
        "\n",
        "validation_transforms = torch_transforms.Compose([\n",
        "        torch_transforms.RandomHorizontalFlip(),\n",
        "        torch_transforms.RandomVerticalFlip(),\n",
        "    ])"
      ]
    },
    {
      "cell_type": "markdown",
      "id": "TMWu0HGHLciF",
      "metadata": {
        "id": "TMWu0HGHLciF"
      },
      "source": [
        "### Test the loaders"
      ]
    },
    {
      "cell_type": "code",
      "execution_count": 27,
      "id": "CF_RmPV7mywU",
      "metadata": {
        "id": "CF_RmPV7mywU"
      },
      "outputs": [],
      "source": [
        "np.random.seed(random_seed)\n",
        "dl_train0 = torch.utils.data.DataLoader(\n",
        "    AgriDataset(df_train, size=size,\n",
        "                # transforms=train_transforms\n",
        "                ), \n",
        "    shuffle=False, batch_size=batch_size, num_workers=2\n",
        "    )\n",
        "dl_train = torch.utils.data.DataLoader(\n",
        "    AgriDataset(df_train, size=size,\n",
        "                transforms=train_transforms\n",
        "                ), \n",
        "    shuffle=False, batch_size=batch_size, num_workers=2\n",
        "    )\n",
        "dl_val = torch.utils.data.DataLoader(\n",
        "    AgriDataset(df_val, size=size,\n",
        "                transforms=validation_transforms\n",
        "                ), \n",
        "    shuffle=False, batch_size=batch_size, num_workers=2\n",
        "    )"
      ]
    },
    {
      "cell_type": "code",
      "execution_count": 28,
      "id": "-im5bMRLr8Zq",
      "metadata": {
        "id": "-im5bMRLr8Zq"
      },
      "outputs": [],
      "source": [
        "imgs, labels = next(iter(dl_train))\n",
        "imgs0, labels0 = next(iter(dl_train0))"
      ]
    },
    {
      "cell_type": "code",
      "execution_count": 29,
      "id": "u9iid9I7sPsF",
      "metadata": {
        "colab": {
          "base_uri": "https://localhost:8080/"
        },
        "id": "u9iid9I7sPsF",
        "outputId": "2d2d8ef0-5513-4655-8c8b-d0ae8fb5eabb"
      },
      "outputs": [
        {
          "output_type": "execute_result",
          "data": {
            "text/plain": [
              "(torch.Size([16, 12, 64, 64]), torch.Size([16, 1, 64, 64]))"
            ]
          },
          "metadata": {},
          "execution_count": 29
        }
      ],
      "source": [
        "imgs.shape, labels.shape"
      ]
    },
    {
      "cell_type": "code",
      "execution_count": 30,
      "id": "Q4mkN3NawctR",
      "metadata": {
        "id": "Q4mkN3NawctR"
      },
      "outputs": [],
      "source": [
        "ind = 0\n",
        "s = 3"
      ]
    },
    {
      "cell_type": "code",
      "execution_count": 31,
      "id": "dq3HRgpFydDU",
      "metadata": {
        "colab": {
          "base_uri": "https://localhost:8080/",
          "height": 0
        },
        "id": "dq3HRgpFydDU",
        "outputId": "911e85f3-2a91-4935-92fe-53a4939b651f"
      },
      "outputs": [
        {
          "output_type": "stream",
          "name": "stderr",
          "text": [
            "/usr/local/lib/python3.7/dist-packages/skimage/io/_plugins/matplotlib_plugin.py:150: UserWarning: Low image data range; displaying image with stretched contrast.\n",
            "  lo, hi, cmap = _get_display_range(image)\n"
          ]
        },
        {
          "output_type": "execute_result",
          "data": {
            "text/plain": [
              "<matplotlib.image.AxesImage at 0x7f5cd6718e10>"
            ]
          },
          "metadata": {},
          "execution_count": 31
        },
        {
          "output_type": "display_data",
          "data": {
            "text/plain": [
              "<Figure size 216x216 with 2 Axes>"
            ],
            "image/png": "[encoded data removed]"
          },
          "metadata": {
            "needs_background": "light"
          }
        }
      ],
      "source": [
        "plt.figure(figsize=(s,s))\n",
        "io.imshow(labels[ind][0].numpy())"
      ]
    },
    {
      "cell_type": "code",
      "execution_count": 32,
      "id": "juddfw_xIVX_",
      "metadata": {
        "colab": {
          "base_uri": "https://localhost:8080/",
          "height": 0
        },
        "id": "juddfw_xIVX_",
        "outputId": "bf66b7f3-24ed-4f6e-c8e6-80b4c8aae031"
      },
      "outputs": [
        {
          "output_type": "execute_result",
          "data": {
            "text/plain": [
              "<matplotlib.image.AxesImage at 0x7f5cd474c290>"
            ]
          },
          "metadata": {},
          "execution_count": 32
        },
        {
          "output_type": "display_data",
          "data": {
            "text/plain": [
              "<Figure size 216x216 with 2 Axes>"
            ],
            "image/png": "[encoded data removed]"
          },
          "metadata": {
            "needs_background": "light"
          }
        }
      ],
      "source": [
        "plt.figure(figsize=(s,s))\n",
        "io.imshow(labels0[ind][0].numpy())"
      ]
    },
    {
      "cell_type": "code",
      "execution_count": 33,
      "id": "L3ssR_ibGyeG",
      "metadata": {
        "colab": {
          "base_uri": "https://localhost:8080/",
          "height": 0
        },
        "id": "L3ssR_ibGyeG",
        "outputId": "de6d0a8a-b3e7-4336-8fd5-271540b907a9"
      },
      "outputs": [
        {
          "output_type": "display_data",
          "data": {
            "text/plain": [
              "<Figure size 864x648 with 12 Axes>"
            ],
            "image/png": "[encoded data removed]"
          },
          "metadata": {
            "needs_background": "light"
          }
        }
      ],
      "source": [
        "fig, axes = plt.subplots(3, 4, figsize=(s*4, s*3))\n",
        "for ax, img in zip(axes.ravel(), imgs[ind]):\n",
        "  plt.sca(ax)\n",
        "  im = img.numpy()\n",
        "  im = im / np.max(im)\n",
        "  io.imshow(mark_boundaries(im, labels[ind][0].numpy(), \n",
        "                            mode='outer'))"
      ]
    },
    {
      "cell_type": "code",
      "execution_count": 34,
      "id": "2zh4jKUlB_85",
      "metadata": {
        "colab": {
          "base_uri": "https://localhost:8080/",
          "height": 0
        },
        "id": "2zh4jKUlB_85",
        "outputId": "36cc4e14-f3de-4cfd-bb27-c71502548757"
      },
      "outputs": [
        {
          "output_type": "display_data",
          "data": {
            "text/plain": [
              "<Figure size 864x648 with 13 Axes>"
            ],
            "image/png": "[encoded data removed]"
          },
          "metadata": {
            "needs_background": "light"
          }
        }
      ],
      "source": [
        "fig, axes = plt.subplots(3, 4, figsize=(s*4, s*3))\n",
        "for ax, img in zip(axes.ravel(), imgs0[ind]):\n",
        "  plt.sca(ax)\n",
        "  im = img.numpy()\n",
        "  im = im / np.max(im)\n",
        "  io.imshow(mark_boundaries(im, labels0[ind][0].numpy(), \n",
        "                            mode='outer'))"
      ]
    },
    {
      "cell_type": "markdown",
      "id": "zrW5YsCYLkei",
      "metadata": {
        "id": "zrW5YsCYLkei"
      },
      "source": [
        "### Specify the loaders"
      ]
    },
    {
      "cell_type": "code",
      "execution_count": 35,
      "id": "Oo8c96-bFVaT",
      "metadata": {
        "id": "Oo8c96-bFVaT"
      },
      "outputs": [],
      "source": [
        "np.random.seed(random_seed)\n",
        "\n",
        "dl_train = torch.utils.data.DataLoader(\n",
        "    AgriDataset(df_train, size=size,\n",
        "                transforms=train_transforms\n",
        "                ), \n",
        "    shuffle=True, batch_size=batch_size, num_workers=2\n",
        "    )\n",
        "dl_val = torch.utils.data.DataLoader(\n",
        "    AgriDataset(df_val, size=size,\n",
        "                transforms=validation_transforms\n",
        "                ), \n",
        "    shuffle=False, batch_size=batch_size, num_workers=2\n",
        "    )"
      ]
    },
    {
      "cell_type": "markdown",
      "id": "ewYce_-h3SaV",
      "metadata": {
        "id": "ewYce_-h3SaV"
      },
      "source": [
        "## Specify the training pipeline"
      ]
    },
    {
      "cell_type": "markdown",
      "id": "7BS58Jm4Ak8z",
      "metadata": {
        "id": "7BS58Jm4Ak8z"
      },
      "source": [
        "### Parameters"
      ]
    },
    {
      "cell_type": "code",
      "execution_count": 36,
      "id": "4ylw-WU030cZ",
      "metadata": {
        "id": "4ylw-WU030cZ"
      },
      "outputs": [],
      "source": [
        "out_channels = int(np.max(crop_labels) + 1)\n",
        "n_channels = (32, 64, 128, 256, 512, 512)\n",
        "strides = (1, 2, 1, 2, 2)\n",
        "num_res_units = 3\n",
        "lr = 0.0001\n",
        "weight_decay = 0.0005\n",
        "factor = 0.1\n",
        "patience = 5\n",
        "epochs = 100"
      ]
    },
    {
      "cell_type": "markdown",
      "id": "0St9WaOKAEYu",
      "metadata": {
        "id": "0St9WaOKAEYu"
      },
      "source": [
        "### Model and loss"
      ]
    },
    {
      "cell_type": "code",
      "execution_count": 37,
      "id": "ys4O47yKLsyo",
      "metadata": {
        "id": "ys4O47yKLsyo"
      },
      "outputs": [],
      "source": [
        "net = UNet(\n",
        "    spatial_dims=2,\n",
        "    in_channels=len(BAND_NAMES),\n",
        "    out_channels=out_channels,\n",
        "    channels=n_channels,\n",
        "    strides=strides,\n",
        "    num_res_units=num_res_units,\n",
        "    norm=Norm.BATCH,\n",
        ").cuda()"
      ]
    },
    {
      "cell_type": "code",
      "execution_count": 38,
      "id": "z4Xoi7ZkTBDA",
      "metadata": {
        "id": "z4Xoi7ZkTBDA"
      },
      "outputs": [],
      "source": [
        "# class MaskedDiceCELoss(nn.Module):\n",
        "\n",
        "#   def __init__(self, include_background=False, to_onehot_y=True, softmax=True,\n",
        "#                dice_ce_weight=1, dice_mask_weight=1):\n",
        "    \n",
        "#     super().__init__()\n",
        "#     self.diceCELoss = DiceCELoss(include_background=include_background, \n",
        "#                                  to_onehot_y=to_onehot_y, \n",
        "#                                  softmax=softmax)\n",
        "#     self.diceMasked = MaskedDiceLoss(include_background=include_background, \n",
        "#                                        to_onehot_y=to_onehot_y, \n",
        "#                                        softmax=softmax)\n",
        "#     self.dice_ce_weight = dice_ce_weight\n",
        "#     self.dice_mask_weight = dice_mask_weight\n",
        "\n",
        "#   def forward(self, input, target, mask):\n",
        "#     loss1 = self.diceCELoss(input, target)*self.dice_ce_weight \n",
        "#     loss2 = self.diceMasked(input, target, mask)*self.dice_mask_weight\n",
        "#     return loss1 + loss2"
      ]
    },
    {
      "cell_type": "code",
      "execution_count": 39,
      "id": "5_Rns_Wa41hR",
      "metadata": {
        "id": "5_Rns_Wa41hR"
      },
      "outputs": [],
      "source": [
        "# loss_fn = MaskedDiceCELoss(include_background=False, \n",
        "#                            to_onehot_y=True, softmax=True).cuda()\n",
        "loss_fn = DiceCELoss(include_background=True,\n",
        "                     to_onehot_y=True, softmax=True,\n",
        "                     ce_weight=torch.tensor(loss_weights).float()).cuda()\n",
        "metric = DiceMetric(include_background=False, reduction=\"mean\")"
      ]
    },
    {
      "cell_type": "markdown",
      "id": "4Ez9CUTN9cYo",
      "metadata": {
        "id": "4Ez9CUTN9cYo"
      },
      "source": [
        "### Optimizer and scheduler"
      ]
    },
    {
      "cell_type": "code",
      "execution_count": 40,
      "id": "69pKnisc4nyy",
      "metadata": {
        "id": "69pKnisc4nyy"
      },
      "outputs": [],
      "source": [
        "optimizer = torch.optim.AdamW(\n",
        "    params=[{\"params\": [p for p in net.parameters() if p.requires_grad]}],\n",
        "            lr=lr, weight_decay=weight_decay\n",
        "            )"
      ]
    },
    {
      "cell_type": "code",
      "execution_count": 41,
      "id": "k5qk5WcZ4SD1",
      "metadata": {
        "id": "k5qk5WcZ4SD1"
      },
      "outputs": [],
      "source": [
        "lr_scheduler = torch.optim.lr_scheduler.ReduceLROnPlateau(\n",
        "    optimizer, mode='min', factor=factor, patience=patience\n",
        "    )"
      ]
    },
    {
      "cell_type": "markdown",
      "id": "bkfDGGNQBg4G",
      "metadata": {
        "id": "bkfDGGNQBg4G"
      },
      "source": [
        "### Training step"
      ]
    },
    {
      "cell_type": "code",
      "execution_count": 42,
      "id": "xsBjaMOWDh1r",
      "metadata": {
        "id": "xsBjaMOWDh1r"
      },
      "outputs": [],
      "source": [
        "def train_epoch(net, loss_fn, dl_train, optimizer):\n",
        "  net.train()\n",
        "  loss_fn.train()\n",
        "  epoch_loss = 0\n",
        "  step = 0\n",
        "  for imgs, targets in tqdm(dl_train):\n",
        "    step += 1\n",
        "    optimizer.zero_grad()\n",
        "    outputs = net(imgs.cuda())\n",
        "    losses = loss_fn(outputs, targets.cuda())\n",
        "    losses.backward()\n",
        "    optimizer.step()\n",
        "    epoch_loss += losses.item()\n",
        "  epoch_loss /= step\n",
        "  return epoch_loss"
      ]
    },
    {
      "cell_type": "markdown",
      "id": "J04gxD4jBmvj",
      "metadata": {
        "id": "J04gxD4jBmvj"
      },
      "source": [
        "### Validation step"
      ]
    },
    {
      "cell_type": "code",
      "execution_count": 43,
      "id": "NDl3BucGGCVn",
      "metadata": {
        "id": "NDl3BucGGCVn"
      },
      "outputs": [],
      "source": [
        "def validate_epoch(net, loss_fn, dl_val, metric):\n",
        "  net.eval()\n",
        "  loss_fn.eval()\n",
        "  epoch_loss = 0\n",
        "  step = 0\n",
        "\n",
        "  with torch.no_grad():\n",
        "    for imgs, targets in tqdm(dl_val):\n",
        "      step += 1\n",
        "      outputs = net(imgs.cuda())\n",
        "      losses = loss_fn(outputs, targets.cuda())\n",
        "      epoch_loss += losses.item()\n",
        "      metric(outputs.argmax(1).unsqueeze(1), targets.cuda())\n",
        "  epoch_loss /= step\n",
        "  return epoch_loss, metric"
      ]
    },
    {
      "cell_type": "markdown",
      "id": "1Vyi8pDqG_xg",
      "metadata": {
        "id": "1Vyi8pDqG_xg"
      },
      "source": [
        "## Train the model"
      ]
    },
    {
      "cell_type": "code",
      "execution_count": 44,
      "id": "gCL8_nUXG_GS",
      "metadata": {
        "colab": {
          "base_uri": "https://localhost:8080/"
        },
        "id": "gCL8_nUXG_GS",
        "outputId": "6832b8e5-a454-4ccf-c2a1-7d7e3aee3e12"
      },
      "outputs": [
        {
          "output_type": "stream",
          "name": "stderr",
          "text": [
            "100%|██████████| 291/291 [02:24<00:00,  2.02it/s]\n",
            "  0%|          | 0/73 [00:00<?, ?it/s]/usr/local/lib/python3.7/dist-packages/monai/metrics/utils.py:219: UserWarning: y_pred should be a binarized tensor.\n",
            "  warnings.warn(f\"{name} should be a binarized tensor.\")\n",
            "/usr/local/lib/python3.7/dist-packages/monai/metrics/utils.py:219: UserWarning: y should be a binarized tensor.\n",
            "  warnings.warn(f\"{name} should be a binarized tensor.\")\n",
            "100%|██████████| 73/73 [00:31<00:00,  2.34it/s]\n"
          ]
        },
        {
          "output_type": "stream",
          "name": "stdout",
          "text": [
            "epoch 1 training loss: 3.4519; validation loss: 3.0611; Dice metric: 0.1798; lr: 0.0001\n",
            "saving best model\n"
          ]
        },
        {
          "output_type": "stream",
          "name": "stderr",
          "text": [
            "100%|██████████| 291/291 [02:20<00:00,  2.07it/s]\n",
            "100%|██████████| 73/73 [00:31<00:00,  2.34it/s]\n"
          ]
        },
        {
          "output_type": "stream",
          "name": "stdout",
          "text": [
            "epoch 2 training loss: 2.9470; validation loss: 2.9078; Dice metric: 0.1917; lr: 0.0001\n",
            "saving best model\n"
          ]
        },
        {
          "output_type": "stream",
          "name": "stderr",
          "text": [
            "100%|██████████| 291/291 [02:21<00:00,  2.06it/s]\n",
            "100%|██████████| 73/73 [00:31<00:00,  2.32it/s]\n"
          ]
        },
        {
          "output_type": "stream",
          "name": "stdout",
          "text": [
            "epoch 3 training loss: 2.8390; validation loss: 2.7683; Dice metric: 0.1726; lr: 0.0001\n"
          ]
        },
        {
          "output_type": "stream",
          "name": "stderr",
          "text": [
            "100%|██████████| 291/291 [02:20<00:00,  2.07it/s]\n",
            "100%|██████████| 73/73 [00:31<00:00,  2.31it/s]\n"
          ]
        },
        {
          "output_type": "stream",
          "name": "stdout",
          "text": [
            "epoch 4 training loss: 2.7865; validation loss: 2.9149; Dice metric: 0.1768; lr: 0.0001\n"
          ]
        },
        {
          "output_type": "stream",
          "name": "stderr",
          "text": [
            "100%|██████████| 291/291 [02:20<00:00,  2.07it/s]\n",
            "100%|██████████| 73/73 [00:31<00:00,  2.32it/s]\n"
          ]
        },
        {
          "output_type": "stream",
          "name": "stdout",
          "text": [
            "epoch 5 training loss: 2.7162; validation loss: 2.7235; Dice metric: 0.1900; lr: 0.0001\n"
          ]
        },
        {
          "output_type": "stream",
          "name": "stderr",
          "text": [
            "100%|██████████| 291/291 [02:21<00:00,  2.06it/s]\n",
            "100%|██████████| 73/73 [00:31<00:00,  2.31it/s]\n"
          ]
        },
        {
          "output_type": "stream",
          "name": "stdout",
          "text": [
            "epoch 6 training loss: 2.6925; validation loss: 2.6792; Dice metric: 0.1862; lr: 0.0001\n"
          ]
        },
        {
          "output_type": "stream",
          "name": "stderr",
          "text": [
            "100%|██████████| 291/291 [02:20<00:00,  2.07it/s]\n",
            "100%|██████████| 73/73 [00:31<00:00,  2.33it/s]\n"
          ]
        },
        {
          "output_type": "stream",
          "name": "stdout",
          "text": [
            "epoch 7 training loss: 2.6575; validation loss: 2.7460; Dice metric: 0.1843; lr: 0.0001\n"
          ]
        },
        {
          "output_type": "stream",
          "name": "stderr",
          "text": [
            "100%|██████████| 291/291 [02:20<00:00,  2.07it/s]\n",
            "100%|██████████| 73/73 [00:31<00:00,  2.34it/s]\n"
          ]
        },
        {
          "output_type": "stream",
          "name": "stdout",
          "text": [
            "epoch 8 training loss: 2.6504; validation loss: 2.9263; Dice metric: 0.1897; lr: 0.0001\n"
          ]
        },
        {
          "output_type": "stream",
          "name": "stderr",
          "text": [
            "100%|██████████| 291/291 [02:20<00:00,  2.07it/s]\n",
            "100%|██████████| 73/73 [00:31<00:00,  2.33it/s]\n"
          ]
        },
        {
          "output_type": "stream",
          "name": "stdout",
          "text": [
            "epoch 9 training loss: 2.6112; validation loss: 2.6731; Dice metric: 0.1939; lr: 0.0001\n",
            "saving best model\n"
          ]
        },
        {
          "output_type": "stream",
          "name": "stderr",
          "text": [
            "100%|██████████| 291/291 [02:20<00:00,  2.07it/s]\n",
            "100%|██████████| 73/73 [00:31<00:00,  2.33it/s]\n"
          ]
        },
        {
          "output_type": "stream",
          "name": "stdout",
          "text": [
            "epoch 10 training loss: 2.6146; validation loss: 2.7125; Dice metric: 0.1960; lr: 0.0001\n",
            "saving best model\n"
          ]
        },
        {
          "output_type": "stream",
          "name": "stderr",
          "text": [
            "100%|██████████| 291/291 [02:20<00:00,  2.07it/s]\n",
            "100%|██████████| 73/73 [00:31<00:00,  2.33it/s]\n"
          ]
        },
        {
          "output_type": "stream",
          "name": "stdout",
          "text": [
            "epoch 11 training loss: 2.5898; validation loss: 2.6306; Dice metric: 0.1927; lr: 0.0001\n"
          ]
        },
        {
          "output_type": "stream",
          "name": "stderr",
          "text": [
            "100%|██████████| 291/291 [02:21<00:00,  2.06it/s]\n",
            "100%|██████████| 73/73 [00:31<00:00,  2.32it/s]\n"
          ]
        },
        {
          "output_type": "stream",
          "name": "stdout",
          "text": [
            "epoch 12 training loss: 2.5513; validation loss: 2.7871; Dice metric: 0.1989; lr: 0.0001\n",
            "saving best model\n"
          ]
        },
        {
          "output_type": "stream",
          "name": "stderr",
          "text": [
            "100%|██████████| 291/291 [02:20<00:00,  2.07it/s]\n",
            "100%|██████████| 73/73 [00:31<00:00,  2.32it/s]\n"
          ]
        },
        {
          "output_type": "stream",
          "name": "stdout",
          "text": [
            "epoch 13 training loss: 2.5547; validation loss: 2.6993; Dice metric: 0.1894; lr: 0.0001\n"
          ]
        },
        {
          "output_type": "stream",
          "name": "stderr",
          "text": [
            "100%|██████████| 291/291 [02:20<00:00,  2.08it/s]\n",
            "100%|██████████| 73/73 [00:31<00:00,  2.34it/s]\n"
          ]
        },
        {
          "output_type": "stream",
          "name": "stdout",
          "text": [
            "epoch 14 training loss: 2.5176; validation loss: 2.6021; Dice metric: 0.1831; lr: 0.0001\n"
          ]
        },
        {
          "output_type": "stream",
          "name": "stderr",
          "text": [
            "100%|██████████| 291/291 [02:21<00:00,  2.06it/s]\n",
            "100%|██████████| 73/73 [00:31<00:00,  2.35it/s]\n"
          ]
        },
        {
          "output_type": "stream",
          "name": "stdout",
          "text": [
            "epoch 15 training loss: 2.5148; validation loss: 2.5819; Dice metric: 0.1833; lr: 0.0001\n"
          ]
        },
        {
          "output_type": "stream",
          "name": "stderr",
          "text": [
            "100%|██████████| 291/291 [02:20<00:00,  2.07it/s]\n",
            "100%|██████████| 73/73 [00:31<00:00,  2.35it/s]\n"
          ]
        },
        {
          "output_type": "stream",
          "name": "stdout",
          "text": [
            "epoch 16 training loss: 2.5115; validation loss: 2.6570; Dice metric: 0.1897; lr: 0.0001\n"
          ]
        },
        {
          "output_type": "stream",
          "name": "stderr",
          "text": [
            "100%|██████████| 291/291 [02:20<00:00,  2.07it/s]\n",
            "100%|██████████| 73/73 [00:31<00:00,  2.33it/s]\n"
          ]
        },
        {
          "output_type": "stream",
          "name": "stdout",
          "text": [
            "epoch 17 training loss: 2.4571; validation loss: 2.5313; Dice metric: 0.1991; lr: 0.0001\n",
            "saving best model\n"
          ]
        },
        {
          "output_type": "stream",
          "name": "stderr",
          "text": [
            "100%|██████████| 291/291 [02:19<00:00,  2.08it/s]\n",
            "100%|██████████| 73/73 [00:31<00:00,  2.35it/s]\n"
          ]
        },
        {
          "output_type": "stream",
          "name": "stdout",
          "text": [
            "epoch 18 training loss: 2.4575; validation loss: 2.8544; Dice metric: 0.1971; lr: 0.0001\n"
          ]
        },
        {
          "output_type": "stream",
          "name": "stderr",
          "text": [
            "100%|██████████| 291/291 [02:21<00:00,  2.06it/s]\n",
            "100%|██████████| 73/73 [00:31<00:00,  2.32it/s]\n"
          ]
        },
        {
          "output_type": "stream",
          "name": "stdout",
          "text": [
            "epoch 19 training loss: 2.4478; validation loss: 2.4988; Dice metric: 0.1956; lr: 0.0001\n"
          ]
        },
        {
          "output_type": "stream",
          "name": "stderr",
          "text": [
            "100%|██████████| 291/291 [02:20<00:00,  2.07it/s]\n",
            "100%|██████████| 73/73 [00:31<00:00,  2.34it/s]\n"
          ]
        },
        {
          "output_type": "stream",
          "name": "stdout",
          "text": [
            "epoch 20 training loss: 2.4270; validation loss: 2.8443; Dice metric: 0.1867; lr: 0.0001\n"
          ]
        },
        {
          "output_type": "stream",
          "name": "stderr",
          "text": [
            "100%|██████████| 291/291 [02:20<00:00,  2.07it/s]\n",
            "100%|██████████| 73/73 [00:31<00:00,  2.31it/s]\n"
          ]
        },
        {
          "output_type": "stream",
          "name": "stdout",
          "text": [
            "epoch 21 training loss: 2.4210; validation loss: 2.5643; Dice metric: 0.1953; lr: 0.0001\n"
          ]
        },
        {
          "output_type": "stream",
          "name": "stderr",
          "text": [
            "100%|██████████| 291/291 [02:20<00:00,  2.06it/s]\n",
            "100%|██████████| 73/73 [00:31<00:00,  2.34it/s]\n"
          ]
        },
        {
          "output_type": "stream",
          "name": "stdout",
          "text": [
            "epoch 22 training loss: 2.4555; validation loss: 2.4829; Dice metric: 0.1944; lr: 0.0001\n"
          ]
        },
        {
          "output_type": "stream",
          "name": "stderr",
          "text": [
            "100%|██████████| 291/291 [02:20<00:00,  2.08it/s]\n",
            "100%|██████████| 73/73 [00:30<00:00,  2.36it/s]\n"
          ]
        },
        {
          "output_type": "stream",
          "name": "stdout",
          "text": [
            "epoch 23 training loss: 2.3798; validation loss: 2.4743; Dice metric: 0.1990; lr: 0.0001\n"
          ]
        },
        {
          "output_type": "stream",
          "name": "stderr",
          "text": [
            "100%|██████████| 291/291 [02:20<00:00,  2.08it/s]\n",
            "100%|██████████| 73/73 [00:31<00:00,  2.34it/s]\n"
          ]
        },
        {
          "output_type": "stream",
          "name": "stdout",
          "text": [
            "epoch 24 training loss: 2.3553; validation loss: 2.6511; Dice metric: 0.2000; lr: 0.0001\n",
            "saving best model\n"
          ]
        },
        {
          "output_type": "stream",
          "name": "stderr",
          "text": [
            "100%|██████████| 291/291 [02:19<00:00,  2.08it/s]\n",
            "100%|██████████| 73/73 [00:30<00:00,  2.36it/s]\n"
          ]
        },
        {
          "output_type": "stream",
          "name": "stdout",
          "text": [
            "epoch 25 training loss: 2.3841; validation loss: 2.6007; Dice metric: 0.1960; lr: 0.0001\n"
          ]
        },
        {
          "output_type": "stream",
          "name": "stderr",
          "text": [
            "100%|██████████| 291/291 [02:20<00:00,  2.08it/s]\n",
            "100%|██████████| 73/73 [00:31<00:00,  2.35it/s]\n"
          ]
        },
        {
          "output_type": "stream",
          "name": "stdout",
          "text": [
            "epoch 26 training loss: 2.3752; validation loss: 2.6023; Dice metric: 0.1979; lr: 0.0001\n"
          ]
        },
        {
          "output_type": "stream",
          "name": "stderr",
          "text": [
            "100%|██████████| 291/291 [02:19<00:00,  2.09it/s]\n",
            "100%|██████████| 73/73 [00:31<00:00,  2.31it/s]\n"
          ]
        },
        {
          "output_type": "stream",
          "name": "stdout",
          "text": [
            "epoch 27 training loss: 2.3635; validation loss: 2.6637; Dice metric: 0.1977; lr: 0.0001\n"
          ]
        },
        {
          "output_type": "stream",
          "name": "stderr",
          "text": [
            "100%|██████████| 291/291 [02:19<00:00,  2.09it/s]\n",
            "100%|██████████| 73/73 [00:32<00:00,  2.25it/s]\n"
          ]
        },
        {
          "output_type": "stream",
          "name": "stdout",
          "text": [
            "epoch 28 training loss: 2.3402; validation loss: 2.6553; Dice metric: 0.2024; lr: 0.0001\n",
            "saving best model\n"
          ]
        },
        {
          "output_type": "stream",
          "name": "stderr",
          "text": [
            "100%|██████████| 291/291 [02:18<00:00,  2.11it/s]\n",
            "100%|██████████| 73/73 [00:32<00:00,  2.26it/s]\n"
          ]
        },
        {
          "output_type": "stream",
          "name": "stdout",
          "text": [
            "epoch 29 training loss: 2.2918; validation loss: 2.3701; Dice metric: 0.1978; lr: 0.0001\n"
          ]
        },
        {
          "output_type": "stream",
          "name": "stderr",
          "text": [
            "100%|██████████| 291/291 [02:18<00:00,  2.10it/s]\n",
            "100%|██████████| 73/73 [00:32<00:00,  2.26it/s]\n"
          ]
        },
        {
          "output_type": "stream",
          "name": "stdout",
          "text": [
            "epoch 30 training loss: 2.3361; validation loss: 2.3888; Dice metric: 0.2100; lr: 0.0001\n",
            "saving best model\n"
          ]
        },
        {
          "output_type": "stream",
          "name": "stderr",
          "text": [
            "100%|██████████| 291/291 [02:18<00:00,  2.10it/s]\n",
            "100%|██████████| 73/73 [00:31<00:00,  2.35it/s]\n"
          ]
        },
        {
          "output_type": "stream",
          "name": "stdout",
          "text": [
            "epoch 31 training loss: 2.3107; validation loss: 2.4098; Dice metric: 0.1979; lr: 0.0001\n"
          ]
        },
        {
          "output_type": "stream",
          "name": "stderr",
          "text": [
            "100%|██████████| 291/291 [02:19<00:00,  2.09it/s]\n",
            "100%|██████████| 73/73 [00:30<00:00,  2.36it/s]\n"
          ]
        },
        {
          "output_type": "stream",
          "name": "stdout",
          "text": [
            "epoch 32 training loss: 2.2784; validation loss: 2.5164; Dice metric: 0.2092; lr: 0.0001\n"
          ]
        },
        {
          "output_type": "stream",
          "name": "stderr",
          "text": [
            "100%|██████████| 291/291 [02:19<00:00,  2.09it/s]\n",
            "100%|██████████| 73/73 [00:31<00:00,  2.35it/s]\n"
          ]
        },
        {
          "output_type": "stream",
          "name": "stdout",
          "text": [
            "epoch 33 training loss: 2.2897; validation loss: 2.4350; Dice metric: 0.2028; lr: 0.0001\n"
          ]
        },
        {
          "output_type": "stream",
          "name": "stderr",
          "text": [
            "100%|██████████| 291/291 [02:21<00:00,  2.05it/s]\n",
            "100%|██████████| 73/73 [00:31<00:00,  2.34it/s]\n"
          ]
        },
        {
          "output_type": "stream",
          "name": "stdout",
          "text": [
            "epoch 34 training loss: 2.2193; validation loss: 2.3225; Dice metric: 0.2069; lr: 0.0001\n"
          ]
        },
        {
          "output_type": "stream",
          "name": "stderr",
          "text": [
            "100%|██████████| 291/291 [02:20<00:00,  2.07it/s]\n",
            "100%|██████████| 73/73 [00:31<00:00,  2.35it/s]\n"
          ]
        },
        {
          "output_type": "stream",
          "name": "stdout",
          "text": [
            "epoch 35 training loss: 2.2826; validation loss: 2.5258; Dice metric: 0.2055; lr: 0.0001\n"
          ]
        },
        {
          "output_type": "stream",
          "name": "stderr",
          "text": [
            "100%|██████████| 291/291 [02:20<00:00,  2.07it/s]\n",
            "100%|██████████| 73/73 [00:30<00:00,  2.36it/s]\n"
          ]
        },
        {
          "output_type": "stream",
          "name": "stdout",
          "text": [
            "epoch 36 training loss: 2.2300; validation loss: 2.3174; Dice metric: 0.2118; lr: 0.0001\n",
            "saving best model\n"
          ]
        },
        {
          "output_type": "stream",
          "name": "stderr",
          "text": [
            "100%|██████████| 291/291 [02:19<00:00,  2.09it/s]\n",
            "100%|██████████| 73/73 [00:31<00:00,  2.34it/s]\n"
          ]
        },
        {
          "output_type": "stream",
          "name": "stdout",
          "text": [
            "epoch 37 training loss: 1.8713; validation loss: 1.7989; Dice metric: 0.2040; lr: 0.0001\n"
          ]
        },
        {
          "output_type": "stream",
          "name": "stderr",
          "text": [
            "100%|██████████| 291/291 [02:19<00:00,  2.09it/s]\n",
            "100%|██████████| 73/73 [00:31<00:00,  2.34it/s]\n"
          ]
        },
        {
          "output_type": "stream",
          "name": "stdout",
          "text": [
            "epoch 38 training loss: 1.5923; validation loss: 1.9222; Dice metric: 0.2010; lr: 0.0001\n"
          ]
        },
        {
          "output_type": "stream",
          "name": "stderr",
          "text": [
            "100%|██████████| 291/291 [02:19<00:00,  2.09it/s]\n",
            "100%|██████████| 73/73 [00:31<00:00,  2.35it/s]\n"
          ]
        },
        {
          "output_type": "stream",
          "name": "stdout",
          "text": [
            "epoch 39 training loss: 1.5464; validation loss: 2.7860; Dice metric: 0.2104; lr: 0.0001\n"
          ]
        },
        {
          "output_type": "stream",
          "name": "stderr",
          "text": [
            "100%|██████████| 291/291 [02:19<00:00,  2.09it/s]\n",
            "100%|██████████| 73/73 [00:32<00:00,  2.26it/s]\n"
          ]
        },
        {
          "output_type": "stream",
          "name": "stdout",
          "text": [
            "epoch 40 training loss: 1.5473; validation loss: 1.6638; Dice metric: 0.2115; lr: 0.0001\n"
          ]
        },
        {
          "output_type": "stream",
          "name": "stderr",
          "text": [
            "100%|██████████| 291/291 [02:19<00:00,  2.09it/s]\n",
            "100%|██████████| 73/73 [00:32<00:00,  2.27it/s]\n"
          ]
        },
        {
          "output_type": "stream",
          "name": "stdout",
          "text": [
            "epoch 41 training loss: 1.5712; validation loss: 1.7135; Dice metric: 0.2010; lr: 0.0001\n"
          ]
        },
        {
          "output_type": "stream",
          "name": "stderr",
          "text": [
            "100%|██████████| 291/291 [02:20<00:00,  2.08it/s]\n",
            "100%|██████████| 73/73 [00:30<00:00,  2.36it/s]\n"
          ]
        },
        {
          "output_type": "stream",
          "name": "stdout",
          "text": [
            "epoch 42 training loss: 1.5700; validation loss: 1.9175; Dice metric: 0.2013; lr: 0.0001\n"
          ]
        },
        {
          "output_type": "stream",
          "name": "stderr",
          "text": [
            "100%|██████████| 291/291 [02:19<00:00,  2.08it/s]\n",
            "100%|██████████| 73/73 [00:31<00:00,  2.35it/s]\n"
          ]
        },
        {
          "output_type": "stream",
          "name": "stdout",
          "text": [
            "epoch 43 training loss: 1.5159; validation loss: 2.1873; Dice metric: 0.1942; lr: 0.0001\n"
          ]
        },
        {
          "output_type": "stream",
          "name": "stderr",
          "text": [
            "100%|██████████| 291/291 [02:19<00:00,  2.08it/s]\n",
            "100%|██████████| 73/73 [00:31<00:00,  2.35it/s]\n"
          ]
        },
        {
          "output_type": "stream",
          "name": "stdout",
          "text": [
            "epoch 44 training loss: 1.5173; validation loss: 1.8955; Dice metric: 0.2082; lr: 0.0001\n"
          ]
        },
        {
          "output_type": "stream",
          "name": "stderr",
          "text": [
            "100%|██████████| 291/291 [02:20<00:00,  2.08it/s]\n",
            "100%|██████████| 73/73 [00:31<00:00,  2.34it/s]\n"
          ]
        },
        {
          "output_type": "stream",
          "name": "stdout",
          "text": [
            "epoch 45 training loss: 1.5064; validation loss: 2.0044; Dice metric: 0.2085; lr: 0.0001\n"
          ]
        },
        {
          "output_type": "stream",
          "name": "stderr",
          "text": [
            "100%|██████████| 291/291 [02:19<00:00,  2.08it/s]\n",
            "100%|██████████| 73/73 [00:31<00:00,  2.35it/s]\n"
          ]
        },
        {
          "output_type": "stream",
          "name": "stdout",
          "text": [
            "epoch 46 training loss: 1.4983; validation loss: 1.8608; Dice metric: 0.1865; lr: 1e-05\n"
          ]
        },
        {
          "output_type": "stream",
          "name": "stderr",
          "text": [
            "100%|██████████| 291/291 [02:19<00:00,  2.08it/s]\n",
            "100%|██████████| 73/73 [00:31<00:00,  2.35it/s]\n"
          ]
        },
        {
          "output_type": "stream",
          "name": "stdout",
          "text": [
            "epoch 47 training loss: 1.4191; validation loss: 1.4874; Dice metric: 0.2083; lr: 1e-05\n"
          ]
        },
        {
          "output_type": "stream",
          "name": "stderr",
          "text": [
            "100%|██████████| 291/291 [02:20<00:00,  2.07it/s]\n",
            "100%|██████████| 73/73 [00:32<00:00,  2.25it/s]\n"
          ]
        },
        {
          "output_type": "stream",
          "name": "stdout",
          "text": [
            "epoch 48 training loss: 1.4020; validation loss: 1.4550; Dice metric: 0.2119; lr: 1e-05\n",
            "saving best model\n"
          ]
        },
        {
          "output_type": "stream",
          "name": "stderr",
          "text": [
            "100%|██████████| 291/291 [02:19<00:00,  2.08it/s]\n",
            "100%|██████████| 73/73 [00:31<00:00,  2.34it/s]\n"
          ]
        },
        {
          "output_type": "stream",
          "name": "stdout",
          "text": [
            "epoch 49 training loss: 1.3739; validation loss: 1.4509; Dice metric: 0.2128; lr: 1e-05\n",
            "saving best model\n"
          ]
        },
        {
          "output_type": "stream",
          "name": "stderr",
          "text": [
            "100%|██████████| 291/291 [02:18<00:00,  2.10it/s]\n",
            "100%|██████████| 73/73 [00:31<00:00,  2.34it/s]\n"
          ]
        },
        {
          "output_type": "stream",
          "name": "stdout",
          "text": [
            "epoch 50 training loss: 1.3660; validation loss: 1.4454; Dice metric: 0.2127; lr: 1e-05\n"
          ]
        },
        {
          "output_type": "stream",
          "name": "stderr",
          "text": [
            "100%|██████████| 291/291 [02:19<00:00,  2.08it/s]\n",
            "100%|██████████| 73/73 [00:31<00:00,  2.34it/s]\n"
          ]
        },
        {
          "output_type": "stream",
          "name": "stdout",
          "text": [
            "epoch 51 training loss: 1.3368; validation loss: 1.4610; Dice metric: 0.2102; lr: 1e-05\n"
          ]
        },
        {
          "output_type": "stream",
          "name": "stderr",
          "text": [
            "100%|██████████| 291/291 [02:19<00:00,  2.08it/s]\n",
            "100%|██████████| 73/73 [00:32<00:00,  2.26it/s]\n"
          ]
        },
        {
          "output_type": "stream",
          "name": "stdout",
          "text": [
            "epoch 52 training loss: 1.3615; validation loss: 1.4721; Dice metric: 0.2108; lr: 1e-05\n"
          ]
        },
        {
          "output_type": "stream",
          "name": "stderr",
          "text": [
            "100%|██████████| 291/291 [02:21<00:00,  2.06it/s]\n",
            "100%|██████████| 73/73 [00:31<00:00,  2.33it/s]\n"
          ]
        },
        {
          "output_type": "stream",
          "name": "stdout",
          "text": [
            "epoch 53 training loss: 1.3223; validation loss: 1.4394; Dice metric: 0.2120; lr: 1e-05\n"
          ]
        },
        {
          "output_type": "stream",
          "name": "stderr",
          "text": [
            "100%|██████████| 291/291 [02:19<00:00,  2.08it/s]\n",
            "100%|██████████| 73/73 [00:32<00:00,  2.26it/s]\n"
          ]
        },
        {
          "output_type": "stream",
          "name": "stdout",
          "text": [
            "epoch 54 training loss: 1.3769; validation loss: 1.4319; Dice metric: 0.2155; lr: 1e-05\n",
            "saving best model\n"
          ]
        },
        {
          "output_type": "stream",
          "name": "stderr",
          "text": [
            "100%|██████████| 291/291 [02:17<00:00,  2.11it/s]\n",
            "100%|██████████| 73/73 [00:32<00:00,  2.27it/s]\n"
          ]
        },
        {
          "output_type": "stream",
          "name": "stdout",
          "text": [
            "epoch 55 training loss: 1.3316; validation loss: 1.4282; Dice metric: 0.2152; lr: 1e-05\n"
          ]
        },
        {
          "output_type": "stream",
          "name": "stderr",
          "text": [
            "100%|██████████| 291/291 [02:19<00:00,  2.09it/s]\n",
            "100%|██████████| 73/73 [00:31<00:00,  2.33it/s]\n"
          ]
        },
        {
          "output_type": "stream",
          "name": "stdout",
          "text": [
            "epoch 56 training loss: 1.3236; validation loss: 1.4145; Dice metric: 0.2154; lr: 1e-05\n"
          ]
        },
        {
          "output_type": "stream",
          "name": "stderr",
          "text": [
            "100%|██████████| 291/291 [02:19<00:00,  2.08it/s]\n",
            "100%|██████████| 73/73 [00:31<00:00,  2.34it/s]\n"
          ]
        },
        {
          "output_type": "stream",
          "name": "stdout",
          "text": [
            "epoch 57 training loss: 1.2995; validation loss: 1.4339; Dice metric: 0.2129; lr: 1e-05\n"
          ]
        },
        {
          "output_type": "stream",
          "name": "stderr",
          "text": [
            "100%|██████████| 291/291 [02:19<00:00,  2.09it/s]\n",
            "100%|██████████| 73/73 [00:31<00:00,  2.33it/s]\n"
          ]
        },
        {
          "output_type": "stream",
          "name": "stdout",
          "text": [
            "epoch 58 training loss: 1.3313; validation loss: 1.4086; Dice metric: 0.2185; lr: 1e-05\n",
            "saving best model\n"
          ]
        },
        {
          "output_type": "stream",
          "name": "stderr",
          "text": [
            "100%|██████████| 291/291 [02:19<00:00,  2.09it/s]\n",
            "100%|██████████| 73/73 [00:30<00:00,  2.36it/s]\n"
          ]
        },
        {
          "output_type": "stream",
          "name": "stdout",
          "text": [
            "epoch 59 training loss: 1.3305; validation loss: 1.4274; Dice metric: 0.2170; lr: 1e-05\n"
          ]
        },
        {
          "output_type": "stream",
          "name": "stderr",
          "text": [
            "100%|██████████| 291/291 [02:19<00:00,  2.09it/s]\n",
            "100%|██████████| 73/73 [00:32<00:00,  2.27it/s]\n"
          ]
        },
        {
          "output_type": "stream",
          "name": "stdout",
          "text": [
            "epoch 60 training loss: 1.3206; validation loss: 1.3994; Dice metric: 0.2172; lr: 1e-05\n"
          ]
        },
        {
          "output_type": "stream",
          "name": "stderr",
          "text": [
            "100%|██████████| 291/291 [02:19<00:00,  2.09it/s]\n",
            "100%|██████████| 73/73 [00:30<00:00,  2.36it/s]\n"
          ]
        },
        {
          "output_type": "stream",
          "name": "stdout",
          "text": [
            "epoch 61 training loss: 1.3099; validation loss: 1.4364; Dice metric: 0.2176; lr: 1e-05\n"
          ]
        },
        {
          "output_type": "stream",
          "name": "stderr",
          "text": [
            "100%|██████████| 291/291 [02:19<00:00,  2.08it/s]\n",
            "100%|██████████| 73/73 [00:30<00:00,  2.36it/s]\n"
          ]
        },
        {
          "output_type": "stream",
          "name": "stdout",
          "text": [
            "epoch 62 training loss: 1.2953; validation loss: 1.3991; Dice metric: 0.2176; lr: 1e-05\n"
          ]
        },
        {
          "output_type": "stream",
          "name": "stderr",
          "text": [
            "100%|██████████| 291/291 [02:20<00:00,  2.07it/s]\n",
            "100%|██████████| 73/73 [00:31<00:00,  2.33it/s]\n"
          ]
        },
        {
          "output_type": "stream",
          "name": "stdout",
          "text": [
            "epoch 63 training loss: 1.3112; validation loss: 1.3988; Dice metric: 0.2168; lr: 1e-05\n"
          ]
        },
        {
          "output_type": "stream",
          "name": "stderr",
          "text": [
            "100%|██████████| 291/291 [02:20<00:00,  2.07it/s]\n",
            "100%|██████████| 73/73 [00:31<00:00,  2.33it/s]\n"
          ]
        },
        {
          "output_type": "stream",
          "name": "stdout",
          "text": [
            "epoch 64 training loss: 1.2943; validation loss: 1.4013; Dice metric: 0.2172; lr: 1e-05\n"
          ]
        },
        {
          "output_type": "stream",
          "name": "stderr",
          "text": [
            "100%|██████████| 291/291 [02:19<00:00,  2.08it/s]\n",
            "100%|██████████| 73/73 [00:32<00:00,  2.26it/s]\n"
          ]
        },
        {
          "output_type": "stream",
          "name": "stdout",
          "text": [
            "epoch 65 training loss: 1.3160; validation loss: 1.4208; Dice metric: 0.2166; lr: 1e-05\n"
          ]
        },
        {
          "output_type": "stream",
          "name": "stderr",
          "text": [
            "100%|██████████| 291/291 [02:20<00:00,  2.08it/s]\n",
            "100%|██████████| 73/73 [00:31<00:00,  2.34it/s]\n"
          ]
        },
        {
          "output_type": "stream",
          "name": "stdout",
          "text": [
            "epoch 66 training loss: 1.2900; validation loss: 1.3805; Dice metric: 0.2162; lr: 1e-05\n"
          ]
        },
        {
          "output_type": "stream",
          "name": "stderr",
          "text": [
            "100%|██████████| 291/291 [02:19<00:00,  2.09it/s]\n",
            "100%|██████████| 73/73 [00:31<00:00,  2.34it/s]\n"
          ]
        },
        {
          "output_type": "stream",
          "name": "stdout",
          "text": [
            "epoch 67 training loss: 1.2917; validation loss: 1.4183; Dice metric: 0.2168; lr: 1e-05\n"
          ]
        },
        {
          "output_type": "stream",
          "name": "stderr",
          "text": [
            "100%|██████████| 291/291 [02:19<00:00,  2.08it/s]\n",
            "100%|██████████| 73/73 [00:30<00:00,  2.36it/s]\n"
          ]
        },
        {
          "output_type": "stream",
          "name": "stdout",
          "text": [
            "epoch 68 training loss: 1.2936; validation loss: 1.4057; Dice metric: 0.2179; lr: 1e-05\n"
          ]
        },
        {
          "output_type": "stream",
          "name": "stderr",
          "text": [
            "100%|██████████| 291/291 [02:20<00:00,  2.07it/s]\n",
            "100%|██████████| 73/73 [00:32<00:00,  2.26it/s]\n"
          ]
        },
        {
          "output_type": "stream",
          "name": "stdout",
          "text": [
            "epoch 69 training loss: 1.2913; validation loss: 1.3734; Dice metric: 0.2201; lr: 1e-05\n",
            "saving best model\n"
          ]
        },
        {
          "output_type": "stream",
          "name": "stderr",
          "text": [
            "100%|██████████| 291/291 [02:19<00:00,  2.09it/s]\n",
            "100%|██████████| 73/73 [00:31<00:00,  2.34it/s]\n"
          ]
        },
        {
          "output_type": "stream",
          "name": "stdout",
          "text": [
            "epoch 70 training loss: 1.2778; validation loss: 1.3744; Dice metric: 0.2194; lr: 1e-05\n"
          ]
        },
        {
          "output_type": "stream",
          "name": "stderr",
          "text": [
            "100%|██████████| 291/291 [02:21<00:00,  2.06it/s]\n",
            "100%|██████████| 73/73 [00:31<00:00,  2.33it/s]\n"
          ]
        },
        {
          "output_type": "stream",
          "name": "stdout",
          "text": [
            "epoch 71 training loss: 1.2893; validation loss: 1.4283; Dice metric: 0.2144; lr: 1e-05\n"
          ]
        },
        {
          "output_type": "stream",
          "name": "stderr",
          "text": [
            "100%|██████████| 291/291 [02:20<00:00,  2.07it/s]\n",
            "100%|██████████| 73/73 [00:31<00:00,  2.33it/s]\n"
          ]
        },
        {
          "output_type": "stream",
          "name": "stdout",
          "text": [
            "epoch 72 training loss: 1.2617; validation loss: 1.3743; Dice metric: 0.2161; lr: 1e-05\n"
          ]
        },
        {
          "output_type": "stream",
          "name": "stderr",
          "text": [
            "100%|██████████| 291/291 [02:21<00:00,  2.06it/s]\n",
            "100%|██████████| 73/73 [00:32<00:00,  2.23it/s]\n"
          ]
        },
        {
          "output_type": "stream",
          "name": "stdout",
          "text": [
            "epoch 73 training loss: 1.2608; validation loss: 1.3828; Dice metric: 0.2165; lr: 1e-05\n"
          ]
        },
        {
          "output_type": "stream",
          "name": "stderr",
          "text": [
            "100%|██████████| 291/291 [02:21<00:00,  2.06it/s]\n",
            "100%|██████████| 73/73 [00:31<00:00,  2.34it/s]\n"
          ]
        },
        {
          "output_type": "stream",
          "name": "stdout",
          "text": [
            "epoch 74 training loss: 1.2683; validation loss: 1.3580; Dice metric: 0.2197; lr: 1e-05\n"
          ]
        },
        {
          "output_type": "stream",
          "name": "stderr",
          "text": [
            "100%|██████████| 291/291 [02:21<00:00,  2.06it/s]\n",
            "100%|██████████| 73/73 [00:31<00:00,  2.34it/s]\n"
          ]
        },
        {
          "output_type": "stream",
          "name": "stdout",
          "text": [
            "epoch 75 training loss: 1.2767; validation loss: 1.3819; Dice metric: 0.2199; lr: 1e-05\n"
          ]
        },
        {
          "output_type": "stream",
          "name": "stderr",
          "text": [
            "100%|██████████| 291/291 [02:20<00:00,  2.07it/s]\n",
            "100%|██████████| 73/73 [00:31<00:00,  2.34it/s]\n"
          ]
        },
        {
          "output_type": "stream",
          "name": "stdout",
          "text": [
            "epoch 76 training loss: 1.2643; validation loss: 1.3691; Dice metric: 0.2200; lr: 1e-05\n"
          ]
        },
        {
          "output_type": "stream",
          "name": "stderr",
          "text": [
            "100%|██████████| 291/291 [02:20<00:00,  2.06it/s]\n",
            "100%|██████████| 73/73 [00:32<00:00,  2.26it/s]\n"
          ]
        },
        {
          "output_type": "stream",
          "name": "stdout",
          "text": [
            "epoch 77 training loss: 1.2565; validation loss: 1.3762; Dice metric: 0.2162; lr: 1e-05\n"
          ]
        },
        {
          "output_type": "stream",
          "name": "stderr",
          "text": [
            "100%|██████████| 291/291 [02:20<00:00,  2.08it/s]\n",
            "100%|██████████| 73/73 [00:31<00:00,  2.33it/s]\n"
          ]
        },
        {
          "output_type": "stream",
          "name": "stdout",
          "text": [
            "epoch 78 training loss: 1.2680; validation loss: 1.3570; Dice metric: 0.2175; lr: 1e-05\n"
          ]
        },
        {
          "output_type": "stream",
          "name": "stderr",
          "text": [
            "100%|██████████| 291/291 [02:19<00:00,  2.08it/s]\n",
            "100%|██████████| 73/73 [00:31<00:00,  2.34it/s]\n"
          ]
        },
        {
          "output_type": "stream",
          "name": "stdout",
          "text": [
            "epoch 79 training loss: 1.2853; validation loss: 1.3666; Dice metric: 0.2182; lr: 1e-05\n"
          ]
        },
        {
          "output_type": "stream",
          "name": "stderr",
          "text": [
            "100%|██████████| 291/291 [02:21<00:00,  2.06it/s]\n",
            "100%|██████████| 73/73 [00:31<00:00,  2.33it/s]\n"
          ]
        },
        {
          "output_type": "stream",
          "name": "stdout",
          "text": [
            "epoch 80 training loss: 1.2605; validation loss: 1.3780; Dice metric: 0.2182; lr: 1e-05\n"
          ]
        },
        {
          "output_type": "stream",
          "name": "stderr",
          "text": [
            "100%|██████████| 291/291 [02:19<00:00,  2.09it/s]\n",
            "100%|██████████| 73/73 [00:32<00:00,  2.26it/s]\n"
          ]
        },
        {
          "output_type": "stream",
          "name": "stdout",
          "text": [
            "epoch 81 training loss: 1.2383; validation loss: 1.3644; Dice metric: 0.2186; lr: 1e-05\n"
          ]
        },
        {
          "output_type": "stream",
          "name": "stderr",
          "text": [
            "100%|██████████| 291/291 [02:19<00:00,  2.08it/s]\n",
            "100%|██████████| 73/73 [00:31<00:00,  2.35it/s]\n"
          ]
        },
        {
          "output_type": "stream",
          "name": "stdout",
          "text": [
            "epoch 82 training loss: 1.2472; validation loss: 1.3568; Dice metric: 0.2174; lr: 1e-05\n"
          ]
        },
        {
          "output_type": "stream",
          "name": "stderr",
          "text": [
            "100%|██████████| 291/291 [02:20<00:00,  2.08it/s]\n",
            "100%|██████████| 73/73 [00:31<00:00,  2.35it/s]\n"
          ]
        },
        {
          "output_type": "stream",
          "name": "stdout",
          "text": [
            "epoch 83 training loss: 1.2590; validation loss: 1.3582; Dice metric: 0.2187; lr: 1e-05\n"
          ]
        },
        {
          "output_type": "stream",
          "name": "stderr",
          "text": [
            "100%|██████████| 291/291 [02:20<00:00,  2.08it/s]\n",
            "100%|██████████| 73/73 [00:30<00:00,  2.36it/s]\n"
          ]
        },
        {
          "output_type": "stream",
          "name": "stdout",
          "text": [
            "epoch 84 training loss: 1.2640; validation loss: 1.3523; Dice metric: 0.2167; lr: 1e-05\n"
          ]
        },
        {
          "output_type": "stream",
          "name": "stderr",
          "text": [
            "100%|██████████| 291/291 [02:19<00:00,  2.08it/s]\n",
            "100%|██████████| 73/73 [00:32<00:00,  2.25it/s]\n"
          ]
        },
        {
          "output_type": "stream",
          "name": "stdout",
          "text": [
            "epoch 85 training loss: 1.2467; validation loss: 1.3348; Dice metric: 0.2206; lr: 1e-05\n",
            "saving best model\n"
          ]
        },
        {
          "output_type": "stream",
          "name": "stderr",
          "text": [
            "100%|██████████| 291/291 [02:19<00:00,  2.08it/s]\n",
            "100%|██████████| 73/73 [00:30<00:00,  2.36it/s]\n"
          ]
        },
        {
          "output_type": "stream",
          "name": "stdout",
          "text": [
            "epoch 86 training loss: 1.2550; validation loss: 1.3443; Dice metric: 0.2179; lr: 1e-05\n"
          ]
        },
        {
          "output_type": "stream",
          "name": "stderr",
          "text": [
            "100%|██████████| 291/291 [02:19<00:00,  2.08it/s]\n",
            "100%|██████████| 73/73 [00:31<00:00,  2.34it/s]\n"
          ]
        },
        {
          "output_type": "stream",
          "name": "stdout",
          "text": [
            "epoch 87 training loss: 1.2409; validation loss: 1.3364; Dice metric: 0.2178; lr: 1e-05\n"
          ]
        },
        {
          "output_type": "stream",
          "name": "stderr",
          "text": [
            "100%|██████████| 291/291 [02:20<00:00,  2.07it/s]\n",
            "100%|██████████| 73/73 [00:31<00:00,  2.34it/s]\n"
          ]
        },
        {
          "output_type": "stream",
          "name": "stdout",
          "text": [
            "epoch 88 training loss: 1.2216; validation loss: 1.3515; Dice metric: 0.2187; lr: 1e-05\n"
          ]
        },
        {
          "output_type": "stream",
          "name": "stderr",
          "text": [
            "100%|██████████| 291/291 [02:19<00:00,  2.08it/s]\n",
            "100%|██████████| 73/73 [00:31<00:00,  2.35it/s]\n"
          ]
        },
        {
          "output_type": "stream",
          "name": "stdout",
          "text": [
            "epoch 89 training loss: 1.2465; validation loss: 1.3522; Dice metric: 0.2171; lr: 1e-05\n"
          ]
        },
        {
          "output_type": "stream",
          "name": "stderr",
          "text": [
            "100%|██████████| 291/291 [02:20<00:00,  2.08it/s]\n",
            "100%|██████████| 73/73 [00:32<00:00,  2.26it/s]\n"
          ]
        },
        {
          "output_type": "stream",
          "name": "stdout",
          "text": [
            "epoch 90 training loss: 1.2572; validation loss: 1.3379; Dice metric: 0.2229; lr: 1e-05\n",
            "saving best model\n"
          ]
        },
        {
          "output_type": "stream",
          "name": "stderr",
          "text": [
            "100%|██████████| 291/291 [02:19<00:00,  2.08it/s]\n",
            "100%|██████████| 73/73 [00:31<00:00,  2.34it/s]\n"
          ]
        },
        {
          "output_type": "stream",
          "name": "stdout",
          "text": [
            "epoch 91 training loss: 1.2384; validation loss: 1.3546; Dice metric: 0.2185; lr: 1.0000000000000002e-06\n"
          ]
        },
        {
          "output_type": "stream",
          "name": "stderr",
          "text": [
            "100%|██████████| 291/291 [02:19<00:00,  2.08it/s]\n",
            "100%|██████████| 73/73 [00:30<00:00,  2.36it/s]\n"
          ]
        },
        {
          "output_type": "stream",
          "name": "stdout",
          "text": [
            "epoch 92 training loss: 1.2091; validation loss: 1.3431; Dice metric: 0.2187; lr: 1.0000000000000002e-06\n"
          ]
        },
        {
          "output_type": "stream",
          "name": "stderr",
          "text": [
            "100%|██████████| 291/291 [02:20<00:00,  2.07it/s]\n",
            "100%|██████████| 73/73 [00:31<00:00,  2.34it/s]\n"
          ]
        },
        {
          "output_type": "stream",
          "name": "stdout",
          "text": [
            "epoch 93 training loss: 1.2080; validation loss: 1.3385; Dice metric: 0.2185; lr: 1.0000000000000002e-06\n"
          ]
        },
        {
          "output_type": "stream",
          "name": "stderr",
          "text": [
            "100%|██████████| 291/291 [02:20<00:00,  2.07it/s]\n",
            "100%|██████████| 73/73 [00:31<00:00,  2.34it/s]\n"
          ]
        },
        {
          "output_type": "stream",
          "name": "stdout",
          "text": [
            "epoch 94 training loss: 1.2164; validation loss: 1.3296; Dice metric: 0.2228; lr: 1.0000000000000002e-06\n"
          ]
        },
        {
          "output_type": "stream",
          "name": "stderr",
          "text": [
            "100%|██████████| 291/291 [02:20<00:00,  2.07it/s]\n",
            "100%|██████████| 73/73 [00:32<00:00,  2.26it/s]\n"
          ]
        },
        {
          "output_type": "stream",
          "name": "stdout",
          "text": [
            "epoch 95 training loss: 1.2318; validation loss: 1.3431; Dice metric: 0.2194; lr: 1.0000000000000002e-06\n"
          ]
        },
        {
          "output_type": "stream",
          "name": "stderr",
          "text": [
            "100%|██████████| 291/291 [02:20<00:00,  2.07it/s]\n",
            "100%|██████████| 73/73 [00:31<00:00,  2.34it/s]\n"
          ]
        },
        {
          "output_type": "stream",
          "name": "stdout",
          "text": [
            "epoch 96 training loss: 1.1983; validation loss: 1.3406; Dice metric: 0.2211; lr: 1.0000000000000002e-06\n"
          ]
        },
        {
          "output_type": "stream",
          "name": "stderr",
          "text": [
            "100%|██████████| 291/291 [02:26<00:00,  1.98it/s]\n",
            "100%|██████████| 73/73 [00:34<00:00,  2.12it/s]\n"
          ]
        },
        {
          "output_type": "stream",
          "name": "stdout",
          "text": [
            "epoch 97 training loss: 1.2047; validation loss: 1.3337; Dice metric: 0.2209; lr: 1.0000000000000002e-06\n"
          ]
        },
        {
          "output_type": "stream",
          "name": "stderr",
          "text": [
            "100%|██████████| 291/291 [02:33<00:00,  1.89it/s]\n",
            "100%|██████████| 73/73 [00:34<00:00,  2.14it/s]\n"
          ]
        },
        {
          "output_type": "stream",
          "name": "stdout",
          "text": [
            "epoch 98 training loss: 1.2232; validation loss: 1.3217; Dice metric: 0.2216; lr: 1.0000000000000002e-06\n"
          ]
        },
        {
          "output_type": "stream",
          "name": "stderr",
          "text": [
            "100%|██████████| 291/291 [02:27<00:00,  1.97it/s]\n",
            "100%|██████████| 73/73 [00:33<00:00,  2.19it/s]\n"
          ]
        },
        {
          "output_type": "stream",
          "name": "stdout",
          "text": [
            "epoch 99 training loss: 1.2094; validation loss: 1.3224; Dice metric: 0.2184; lr: 1.0000000000000002e-06\n"
          ]
        },
        {
          "output_type": "stream",
          "name": "stderr",
          "text": [
            "100%|██████████| 291/291 [02:25<00:00,  2.00it/s]\n",
            "100%|██████████| 73/73 [00:31<00:00,  2.29it/s]"
          ]
        },
        {
          "output_type": "stream",
          "name": "stdout",
          "text": [
            "epoch 100 training loss: 1.2023; validation loss: 1.3252; Dice metric: 0.2187; lr: 1.0000000000000002e-06\n",
            "CPU times: user 42min 25s, sys: 1min 32s, total: 43min 57s\n",
            "Wall time: 4h 46min 41s\n"
          ]
        },
        {
          "output_type": "stream",
          "name": "stderr",
          "text": [
            "\n"
          ]
        }
      ],
      "source": [
        "%%time\n",
        "best_metric = 0\n",
        "train_losses = []\n",
        "val_losses = []\n",
        "val_metrics = []\n",
        "for epoch in range(epochs):\n",
        "    # training pass\n",
        "    train_loss = train_epoch(net, loss_fn, dl_train, optimizer)\n",
        "\n",
        "    # validation pass\n",
        "    val_loss, metric = validate_epoch(net, loss_fn, dl_val, metric)\n",
        "    val_metric = metric.aggregate().item()\n",
        "    metric.reset()\n",
        "\n",
        "    # update learning rate\n",
        "    lr_scheduler.step(val_loss)\n",
        "\n",
        "    # output\n",
        "    print(f\"epoch {epoch + 1} training loss: {train_loss:.4f}; \"\n",
        "          f\"validation loss: {val_loss:.4f}; Dice metric: {val_metric:.4f}; \"\n",
        "          f\"lr: {optimizer.param_groups[0]['lr']}\")\n",
        "    train_losses.append(train_loss)\n",
        "    val_losses.append(val_loss)\n",
        "    val_metrics.append(val_metric)\n",
        "    if val_metric >= best_metric:\n",
        "      best_metric = val_metric\n",
        "      torch.save(net.state_dict(), 'model.pth')\n",
        "      print('saving best model')"
      ]
    },
    {
      "cell_type": "code",
      "execution_count": 45,
      "id": "mKOdWWaT_tnF",
      "metadata": {
        "id": "mKOdWWaT_tnF",
        "colab": {
          "base_uri": "https://localhost:8080/",
          "height": 338
        },
        "outputId": "24de66c6-a29a-4eed-fc94-3e44d6660b3d"
      },
      "outputs": [
        {
          "output_type": "execute_result",
          "data": {
            "text/plain": [
              "[<matplotlib.lines.Line2D at 0x7f5cc13d1e50>]"
            ]
          },
          "metadata": {},
          "execution_count": 45
        },
        {
          "output_type": "display_data",
          "data": {
            "text/plain": [
              "<Figure size 720x360 with 1 Axes>"
            ],
            "image/png": "[encoded data removed]"
          },
          "metadata": {
            "needs_background": "light"
          }
        }
      ],
      "source": [
        "plt.figure(figsize=(10, 5))\n",
        "plt.plot(train_losses,'r')\n",
        "plt.plot(val_losses, 'b')"
      ]
    },
    {
      "cell_type": "code",
      "execution_count": 46,
      "id": "mETS8S-1IuGb",
      "metadata": {
        "id": "mETS8S-1IuGb",
        "colab": {
          "base_uri": "https://localhost:8080/",
          "height": 338
        },
        "outputId": "1e2fee6b-5104-4978-db5e-f6cc6dee533e"
      },
      "outputs": [
        {
          "output_type": "execute_result",
          "data": {
            "text/plain": [
              "[<matplotlib.lines.Line2D at 0x7f5cd07aa490>]"
            ]
          },
          "metadata": {},
          "execution_count": 46
        },
        {
          "output_type": "display_data",
          "data": {
            "text/plain": [
              "<Figure size 720x360 with 1 Axes>"
            ],
            "image/png": "[encoded data removed]"
          },
          "metadata": {
            "needs_background": "light"
          }
        }
      ],
      "source": [
        "plt.figure(figsize=(10, 5))\n",
        "plt.plot(val_metrics,'r')"
      ]
    },
    {
      "cell_type": "markdown",
      "id": "W_EsaEYQHDq9",
      "metadata": {
        "id": "W_EsaEYQHDq9"
      },
      "source": [
        "## Set up the loaders and model for evaluation"
      ]
    },
    {
      "cell_type": "code",
      "execution_count": 47,
      "id": "uOsnCaZaYKDI",
      "metadata": {
        "id": "uOsnCaZaYKDI"
      },
      "outputs": [],
      "source": [
        "class AgriDatasetTest(torch.utils.data.Dataset):\n",
        "\n",
        "  def __init__(self, df, band_names=BAND_NAMES, size=64):\n",
        "    self.band_names = band_names\n",
        "    self.df = df\n",
        "    self.size = size\n",
        "\n",
        "  def __getitem__(self, index):\n",
        "    imgs = []\n",
        "    for band in self.band_names:\n",
        "      source_fn = rf\"{self.df.iloc[index]['source_path']}{band}.tif\"\n",
        "      with rasterio.open(source_fn) as src:\n",
        "        imgs.append(src.read()[0].astype(np.float64)/255.)\n",
        "\n",
        "    with rasterio.open(self.df.iloc[index]['field_path']) as src:\n",
        "      labels = src.read()[0].astype(np.int64)\n",
        "\n",
        "    labels = torch.tensor(labels)\n",
        "    imgs = torch.tensor(np.array(imgs))\n",
        "\n",
        "    hs = int(self.size/2)\n",
        "    ind = [self.df.iloc[index]['center_y'], self.df.iloc[index]['center_x']]\n",
        "    ind = np.max(np.array([[hs, hs], ind]), axis=0)\n",
        "    ind = np.int_(np.min(np.array([np.array(imgs.shape[-2:])-hs-1, ind]), axis=0))\n",
        "\n",
        "    imgs = imgs[:, ind[0]-hs:ind[0]+hs, ind[1]-hs:ind[1]+hs]\n",
        "    labels = labels[ind[0]-hs:ind[0]+hs, ind[1]-hs:ind[1]+hs]\n",
        "\n",
        "    if 'label_path' in self.df.columns and os.path.exists(self.df.iloc[index]['label_path']):\n",
        "      with rasterio.open(self.df.iloc[index]['label_path']) as src:\n",
        "        gt = src.read()[0].astype(np.int64)\n",
        "        gt = torch.tensor(gt)[ind[0]-hs:ind[0]+hs, ind[1]-hs:ind[1]+hs]\n",
        "    else:\n",
        "      gt = labels\n",
        "\n",
        "\n",
        "    return imgs.float(), labels, gt\n",
        "\n",
        "  def __len__(self):\n",
        "    return len(self.df)"
      ]
    },
    {
      "cell_type": "code",
      "execution_count": 48,
      "id": "EQ2FgI1kCGBn",
      "metadata": {
        "id": "EQ2FgI1kCGBn"
      },
      "outputs": [],
      "source": [
        "dl_test = torch.utils.data.DataLoader(\n",
        "    AgriDatasetTest(df_val),\n",
        "    shuffle=False, batch_size=batch_size, num_workers=2\n",
        "    )"
      ]
    },
    {
      "cell_type": "code",
      "execution_count": 49,
      "id": "XeTOSV7iCQ9x",
      "metadata": {
        "id": "XeTOSV7iCQ9x"
      },
      "outputs": [],
      "source": [
        "net.load_state_dict(torch.load('model.pth'))\n",
        "net.eval();"
      ]
    },
    {
      "cell_type": "markdown",
      "id": "8aOuTw8HCAbA",
      "metadata": {
        "id": "8aOuTw8HCAbA"
      },
      "source": [
        "## Evaluate the model on the validation set"
      ]
    },
    {
      "cell_type": "code",
      "execution_count": 50,
      "id": "o0qp7CVjCZ_g",
      "metadata": {
        "id": "o0qp7CVjCZ_g"
      },
      "outputs": [],
      "source": [
        "def evaluate(dl_test, net):\n",
        "  field_data = dict()\n",
        "  gt_labels = dict()\n",
        "  with torch.no_grad():\n",
        "    for imgs, labels, gt in tqdm(dl_test):\n",
        "      output = net(imgs.cuda()).cpu()\n",
        "      output = output.numpy()\n",
        "      labels = labels.numpy()\n",
        "      output = np.moveaxis(output, 1, -1)\n",
        "\n",
        "      llist = np.unique(labels)[1:]\n",
        "      for lb in llist:\n",
        "        ind = np.where(labels == lb)\n",
        "        data = output[ind]\n",
        "        if lb in field_data.keys():\n",
        "          field_data[lb] = np.concatenate([field_data[lb], data], axis=0)\n",
        "        else:\n",
        "          field_data[lb] = data\n",
        "\n",
        "        data = gt[ind]\n",
        "        if lb in gt_labels.keys():\n",
        "          gt_labels[lb] = np.concatenate([gt_labels[lb], data], axis=0)\n",
        "        else:\n",
        "          gt_labels[lb] = data\n",
        "        \n",
        "  field_ids = []\n",
        "  probs = []\n",
        "  gt = []\n",
        "  for key in field_data.keys():\n",
        "    field_ids.append(key)\n",
        "    prob = field_data[key].mean(0)[list(np.int_(crop_labels))]\n",
        "    prob = prob - np.min(prob)\n",
        "    prob = prob / np.sum(prob)\n",
        "    probs.append(prob)\n",
        "    gt.append(gt_labels[key][0].item())\n",
        "  probs = np.array(probs)\n",
        "  return probs, field_ids, gt"
      ]
    },
    {
      "cell_type": "code",
      "execution_count": 51,
      "id": "7fV5Ce5uC9S2",
      "metadata": {
        "id": "7fV5Ce5uC9S2",
        "colab": {
          "base_uri": "https://localhost:8080/"
        },
        "outputId": "370fba6c-3127-471a-bb2f-5834ba387d07"
      },
      "outputs": [
        {
          "output_type": "stream",
          "name": "stderr",
          "text": [
            "100%|██████████| 73/73 [00:35<00:00,  2.08it/s]\n"
          ]
        }
      ],
      "source": [
        "probs, field_ids, gt = evaluate(dl_test, net)"
      ]
    },
    {
      "cell_type": "code",
      "execution_count": 52,
      "id": "Ux-2ff1cC_sx",
      "metadata": {
        "id": "Ux-2ff1cC_sx",
        "colab": {
          "base_uri": "https://localhost:8080/"
        },
        "outputId": "90c1f04a-61d2-40f8-f97f-93dca299f5cb"
      },
      "outputs": [
        {
          "output_type": "stream",
          "name": "stdout",
          "text": [
            "              precision    recall  f1-score   support\n",
            "\n",
            "           1       0.81      0.46      0.59      1104\n",
            "           2       0.57      0.29      0.38       524\n",
            "           3       0.11      0.63      0.19        52\n",
            "           4       0.94      0.53      0.67      1034\n",
            "           5       0.13      0.85      0.23        13\n",
            "           6       0.16      0.84      0.27        79\n",
            "           8       0.17      0.77      0.28        26\n",
            "           9       0.60      0.89      0.71       134\n",
            "          13       0.28      0.73      0.40        30\n",
            "          14       0.15      0.89      0.26         9\n",
            "          15       0.11      0.56      0.18        16\n",
            "          16       0.14      1.00      0.24         6\n",
            "          36       0.24      0.80      0.37        74\n",
            "\n",
            "    accuracy                           0.50      3101\n",
            "   macro avg       0.34      0.71      0.37      3101\n",
            "weighted avg       0.74      0.50      0.56      3101\n",
            "\n"
          ]
        }
      ],
      "source": [
        "from sklearn.metrics import classification_report\n",
        "\n",
        "print(classification_report(gt, np.array(crop_labels)[np.argmax(probs, axis=1)]))"
      ]
    },
    {
      "cell_type": "code",
      "execution_count": 53,
      "id": "O3aOekbmFEOF",
      "metadata": {
        "id": "O3aOekbmFEOF"
      },
      "outputs": [],
      "source": [
        "def to_one_hot(x):\n",
        "    y = np.zeros((x.size, x.max() + 1))\n",
        "    y[np.arange(x.size), x] = 1\n",
        "    return y\n",
        "\n",
        "def cross_entropy(predictions, targets):\n",
        "    return -np.sum(np.sum(np.log(predictions + 10**(-10)) * targets, axis=1))/len(targets)\n"
      ]
    },
    {
      "cell_type": "code",
      "execution_count": 54,
      "id": "QYxNVMHfHRld",
      "metadata": {
        "id": "QYxNVMHfHRld"
      },
      "outputs": [],
      "source": [
        "targets = to_one_hot(np.array(gt))\n",
        "targets = targets[:, np.where(targets.sum(axis=0) > 0)[0]]"
      ]
    },
    {
      "cell_type": "code",
      "execution_count": 55,
      "id": "pcoDvgg0Hd8T",
      "metadata": {
        "id": "pcoDvgg0Hd8T",
        "colab": {
          "base_uri": "https://localhost:8080/"
        },
        "outputId": "2e301590-c7b4-4872-9abb-6648105ac402"
      },
      "outputs": [
        {
          "output_type": "execute_result",
          "data": {
            "text/plain": [
              "1.8860958520153652"
            ]
          },
          "metadata": {},
          "execution_count": 55
        }
      ],
      "source": [
        "cross_entropy(probs, targets)"
      ]
    },
    {
      "cell_type": "markdown",
      "id": "yCvvWdPUH5yU",
      "metadata": {
        "id": "yCvvWdPUH5yU"
      },
      "source": [
        "## Prepare the test dataset"
      ]
    },
    {
      "cell_type": "code",
      "execution_count": 56,
      "id": "8OkzF6RDHedl",
      "metadata": {
        "id": "8OkzF6RDHedl"
      },
      "outputs": [],
      "source": [
        "test_paths = os.listdir(os.path.join(data_dir, test_label_collection))\n",
        "test_ids = [fn.split('_')[-1] for fn in test_paths if 'labels_test' in fn]\n",
        "\n",
        "field_paths = [f'{data_dir}/{test_label_collection}/{test_label_collection}_{i}/field_ids.tif' \n",
        "               for i in test_ids]\n",
        "label_paths = [f'{data_dir}/{test_label_collection}/{test_label_collection}_{i}/raster_labels.tif' \n",
        "               for i in test_ids]\n",
        "source_paths = [f'{data_dir}/{source_collection}/{source_collection}_{i}/' \n",
        "               for i in test_ids]"
      ]
    },
    {
      "cell_type": "code",
      "execution_count": 57,
      "id": "BBrtOyDsIvct",
      "metadata": {
        "id": "BBrtOyDsIvct",
        "colab": {
          "base_uri": "https://localhost:8080/",
          "height": 270
        },
        "outputId": "a4533ac5-f4d0-41ba-8f1b-f29a43f5df9c"
      },
      "outputs": [
        {
          "output_type": "execute_result",
          "data": {
            "text/plain": [
              "  folder_id                                         field_path  \\\n",
              "0     1cf43  data/ref_agrifieldnet_competition_v1_labels_te...   \n",
              "1     86e43  data/ref_agrifieldnet_competition_v1_labels_te...   \n",
              "2     15785  data/ref_agrifieldnet_competition_v1_labels_te...   \n",
              "3     7ee61  data/ref_agrifieldnet_competition_v1_labels_te...   \n",
              "4     06d05  data/ref_agrifieldnet_competition_v1_labels_te...   \n",
              "\n",
              "                                          label_path  \\\n",
              "0  data/ref_agrifieldnet_competition_v1_labels_te...   \n",
              "1  data/ref_agrifieldnet_competition_v1_labels_te...   \n",
              "2  data/ref_agrifieldnet_competition_v1_labels_te...   \n",
              "3  data/ref_agrifieldnet_competition_v1_labels_te...   \n",
              "4  data/ref_agrifieldnet_competition_v1_labels_te...   \n",
              "\n",
              "                                         source_path  \n",
              "0  data/ref_agrifieldnet_competition_v1_source/re...  \n",
              "1  data/ref_agrifieldnet_competition_v1_source/re...  \n",
              "2  data/ref_agrifieldnet_competition_v1_source/re...  \n",
              "3  data/ref_agrifieldnet_competition_v1_source/re...  \n",
              "4  data/ref_agrifieldnet_competition_v1_source/re...  "
            ],
            "text/html": [
              "\n",
              "  <div id=\"df-53630711-4421-442c-afc2-592bdb6c70b1\">\n",
              "    <div class=\"colab-df-container\">\n",
              "      <div>\n",
              "<style scoped>\n",
              "    .dataframe tbody tr th:only-of-type {\n",
              "        vertical-align: middle;\n",
              "    }\n",
              "\n",
              "    .dataframe tbody tr th {\n",
              "        vertical-align: top;\n",
              "    }\n",
              "\n",
              "    .dataframe thead th {\n",
              "        text-align: right;\n",
              "    }\n",
              "</style>\n",
              "<table border=\"1\" class=\"dataframe\">\n",
              "  <thead>\n",
              "    <tr style=\"text-align: right;\">\n",
              "      <th></th>\n",
              "      <th>folder_id</th>\n",
              "      <th>field_path</th>\n",
              "      <th>label_path</th>\n",
              "      <th>source_path</th>\n",
              "    </tr>\n",
              "  </thead>\n",
              "  <tbody>\n",
              "    <tr>\n",
              "      <th>0</th>\n",
              "      <td>1cf43</td>\n",
              "      <td>data/ref_agrifieldnet_competition_v1_labels_te...</td>\n",
              "      <td>data/ref_agrifieldnet_competition_v1_labels_te...</td>\n",
              "      <td>data/ref_agrifieldnet_competition_v1_source/re...</td>\n",
              "    </tr>\n",
              "    <tr>\n",
              "      <th>1</th>\n",
              "      <td>86e43</td>\n",
              "      <td>data/ref_agrifieldnet_competition_v1_labels_te...</td>\n",
              "      <td>data/ref_agrifieldnet_competition_v1_labels_te...</td>\n",
              "      <td>data/ref_agrifieldnet_competition_v1_source/re...</td>\n",
              "    </tr>\n",
              "    <tr>\n",
              "      <th>2</th>\n",
              "      <td>15785</td>\n",
              "      <td>data/ref_agrifieldnet_competition_v1_labels_te...</td>\n",
              "      <td>data/ref_agrifieldnet_competition_v1_labels_te...</td>\n",
              "      <td>data/ref_agrifieldnet_competition_v1_source/re...</td>\n",
              "    </tr>\n",
              "    <tr>\n",
              "      <th>3</th>\n",
              "      <td>7ee61</td>\n",
              "      <td>data/ref_agrifieldnet_competition_v1_labels_te...</td>\n",
              "      <td>data/ref_agrifieldnet_competition_v1_labels_te...</td>\n",
              "      <td>data/ref_agrifieldnet_competition_v1_source/re...</td>\n",
              "    </tr>\n",
              "    <tr>\n",
              "      <th>4</th>\n",
              "      <td>06d05</td>\n",
              "      <td>data/ref_agrifieldnet_competition_v1_labels_te...</td>\n",
              "      <td>data/ref_agrifieldnet_competition_v1_labels_te...</td>\n",
              "      <td>data/ref_agrifieldnet_competition_v1_source/re...</td>\n",
              "    </tr>\n",
              "  </tbody>\n",
              "</table>\n",
              "</div>\n",
              "      <button class=\"colab-df-convert\" onclick=\"convertToInteractive('df-53630711-4421-442c-afc2-592bdb6c70b1')\"\n",
              "              title=\"Convert this dataframe to an interactive table.\"\n",
              "              style=\"display:none;\">\n",
              "        \n",
              "  <svg xmlns=\"http://www.w3.org/2000/svg\" height=\"24px\"viewBox=\"0 0 24 24\"\n",
              "       width=\"24px\">\n",
              "    <path d=\"M0 0h24v24H0V0z\" fill=\"none\"/>\n",
              "    <path d=\"M18.56 5.44l.94 2.06.94-2.06 2.06-.94-2.06-.94-.94-2.06-.94 2.06-2.06.94zm-11 1L8.5 8.5l.94-2.06 2.06-.94-2.06-.94L8.5 2.5l-.94 2.06-2.06.94zm10 10l.94 2.06.94-2.06 2.06-.94-2.06-.94-.94-2.06-.94 2.06-2.06.94z\"/><path d=\"M17.41 7.96l-1.37-1.37c-.4-.4-.92-.59-1.43-.59-.52 0-1.04.2-1.43.59L10.3 9.45l-7.72 7.72c-.78.78-.78 2.05 0 2.83L4 21.41c.39.39.9.59 1.41.59.51 0 1.02-.2 1.41-.59l7.78-7.78 2.81-2.81c.8-.78.8-2.07 0-2.86zM5.41 20L4 18.59l7.72-7.72 1.47 1.35L5.41 20z\"/>\n",
              "  </svg>\n",
              "      </button>\n",
              "      \n",
              "  <style>\n",
              "    .colab-df-container {\n",
              "      display:flex;\n",
              "      flex-wrap:wrap;\n",
              "      gap: 12px;\n",
              "    }\n",
              "\n",
              "    .colab-df-convert {\n",
              "      background-color: #E8F0FE;\n",
              "      border: none;\n",
              "      border-radius: 50%;\n",
              "      cursor: pointer;\n",
              "      display: none;\n",
              "      fill: #1967D2;\n",
              "      height: 32px;\n",
              "      padding: 0 0 0 0;\n",
              "      width: 32px;\n",
              "    }\n",
              "\n",
              "    .colab-df-convert:hover {\n",
              "      background-color: #E2EBFA;\n",
              "      box-shadow: 0px 1px 2px rgba(60, 64, 67, 0.3), 0px 1px 3px 1px rgba(60, 64, 67, 0.15);\n",
              "      fill: #174EA6;\n",
              "    }\n",
              "\n",
              "    [theme=dark] .colab-df-convert {\n",
              "      background-color: #3B4455;\n",
              "      fill: #D2E3FC;\n",
              "    }\n",
              "\n",
              "    [theme=dark] .colab-df-convert:hover {\n",
              "      background-color: #434B5C;\n",
              "      box-shadow: 0px 1px 3px 1px rgba(0, 0, 0, 0.15);\n",
              "      filter: drop-shadow(0px 1px 2px rgba(0, 0, 0, 0.3));\n",
              "      fill: #FFFFFF;\n",
              "    }\n",
              "  </style>\n",
              "\n",
              "      <script>\n",
              "        const buttonEl =\n",
              "          document.querySelector('#df-53630711-4421-442c-afc2-592bdb6c70b1 button.colab-df-convert');\n",
              "        buttonEl.style.display =\n",
              "          google.colab.kernel.accessAllowed ? 'block' : 'none';\n",
              "\n",
              "        async function convertToInteractive(key) {\n",
              "          const element = document.querySelector('#df-53630711-4421-442c-afc2-592bdb6c70b1');\n",
              "          const dataTable =\n",
              "            await google.colab.kernel.invokeFunction('convertToInteractive',\n",
              "                                                     [key], {});\n",
              "          if (!dataTable) return;\n",
              "\n",
              "          const docLinkHtml = 'Like what you see? Visit the ' +\n",
              "            '<a target=\"_blank\" href=https://colab.research.google.com/notebooks/data_table.ipynb>data table notebook</a>'\n",
              "            + ' to learn more about interactive tables.';\n",
              "          element.innerHTML = '';\n",
              "          dataTable['output_type'] = 'display_data';\n",
              "          await google.colab.output.renderOutput(dataTable, element);\n",
              "          const docLink = document.createElement('div');\n",
              "          docLink.innerHTML = docLinkHtml;\n",
              "          element.appendChild(docLink);\n",
              "        }\n",
              "      </script>\n",
              "    </div>\n",
              "  </div>\n",
              "  "
            ]
          },
          "metadata": {},
          "execution_count": 57
        }
      ],
      "source": [
        "test_data = pd.DataFrame(np.array([test_ids, field_paths, label_paths, source_paths]).transpose(), \n",
        "                          columns=['folder_id', 'field_path', 'label_path', 'source_path'])\n",
        "test_data.head()"
      ]
    },
    {
      "cell_type": "code",
      "source": [
        "def extract_field_crop_data_test(data):\n",
        "  field_ids = []\n",
        "  field_center_x = []\n",
        "  field_center_y = []\n",
        "  field_paths = []\n",
        "  source_paths = []\n",
        "\n",
        "  for i in tqdm(range(len(data))):\n",
        "      with rasterio.open(data['field_path'].iloc[i]) as src:\n",
        "          field_data = src.read()[0]\n",
        "\n",
        "      for field_id in np.unique(field_data)[1:]:\n",
        "          ind = np.where(field_data == field_id)\n",
        "          field_ids.append(field_id)\n",
        "          field_center_y.append(np.mean(ind[0]))\n",
        "          field_center_x.append(np.mean(ind[1]))\n",
        "          field_paths.append(data['field_path'].iloc[i])\n",
        "          source_paths.append(data['source_path'].iloc[i])\n",
        "\n",
        "  df = pd.DataFrame(np.array([field_ids, field_center_x, \n",
        "                              field_center_y]).transpose(),\n",
        "                    columns=['field_id', 'center_x', 'center_y'])\n",
        "  df['field_path'] = field_paths\n",
        "  df['source_path'] = source_paths\n",
        "  return df"
      ],
      "metadata": {
        "id": "QKB4bUL4FCT3"
      },
      "id": "QKB4bUL4FCT3",
      "execution_count": 58,
      "outputs": []
    },
    {
      "cell_type": "code",
      "source": [
        "test_df = extract_field_crop_data_test(test_data)"
      ],
      "metadata": {
        "id": "ues-moZF_JHx",
        "colab": {
          "base_uri": "https://localhost:8080/"
        },
        "outputId": "5bbf6ed1-2ed1-485b-db42-454de03811f0"
      },
      "id": "ues-moZF_JHx",
      "execution_count": 59,
      "outputs": [
        {
          "output_type": "stream",
          "name": "stderr",
          "text": [
            "100%|██████████| 707/707 [00:02<00:00, 281.50it/s]\n"
          ]
        }
      ]
    },
    {
      "cell_type": "markdown",
      "id": "rZ6YdR1sI1V6",
      "metadata": {
        "id": "rZ6YdR1sI1V6"
      },
      "source": [
        "## Evaluate the model on the test set"
      ]
    },
    {
      "cell_type": "code",
      "execution_count": 60,
      "id": "VrvH7yEwIxE_",
      "metadata": {
        "id": "VrvH7yEwIxE_"
      },
      "outputs": [],
      "source": [
        "dl_test = torch.utils.data.DataLoader(\n",
        "    AgriDatasetTest(test_df), shuffle=False, batch_size=batch_size, num_workers=2\n",
        "    )"
      ]
    },
    {
      "cell_type": "code",
      "execution_count": 61,
      "id": "4pyJFKOXJGah",
      "metadata": {
        "id": "4pyJFKOXJGah",
        "colab": {
          "base_uri": "https://localhost:8080/"
        },
        "outputId": "2919ddb4-fa7e-46cf-c54d-532245f71793"
      },
      "outputs": [
        {
          "output_type": "stream",
          "name": "stderr",
          "text": [
            "100%|██████████| 101/101 [00:43<00:00,  2.31it/s]\n"
          ]
        }
      ],
      "source": [
        "probs, field_ids, gt = evaluate(dl_test, net)"
      ]
    },
    {
      "cell_type": "code",
      "execution_count": 62,
      "id": "TIQlKqmlJJjD",
      "metadata": {
        "id": "TIQlKqmlJJjD"
      },
      "outputs": [],
      "source": [
        "def labeler(labeled):\n",
        "    crop_label = np.array([crop_dict.get(f'{int(i)}') for i in labeled])\n",
        "    return crop_label"
      ]
    },
    {
      "cell_type": "code",
      "execution_count": 63,
      "id": "qPHNGNQlJaDj",
      "metadata": {
        "id": "qPHNGNQlJaDj"
      },
      "outputs": [],
      "source": [
        "crop_columns = [crop_dict[key] for key in crop_labels]\n",
        "\n",
        "output_df  = pd.DataFrame(columns=['field_id'] + crop_columns)\n",
        "\n",
        "output_df['field_id'] = field_ids\n",
        "\n",
        "output_df[crop_columns] = probs \n",
        "output_df.to_csv('submission.csv', index=False)"
      ]
    },
    {
      "cell_type": "code",
      "execution_count": 64,
      "id": "4yM_v1NaJkJc",
      "metadata": {
        "id": "4yM_v1NaJkJc",
        "colab": {
          "base_uri": "https://localhost:8080/",
          "height": 17
        },
        "outputId": "05d2ec3f-f231-40d4-ca59-d7a7bd19126c"
      },
      "outputs": [
        {
          "output_type": "display_data",
          "data": {
            "text/plain": [
              "<IPython.core.display.Javascript object>"
            ],
            "application/javascript": [
              "\n",
              "    async function download(id, filename, size) {\n",
              "      if (!google.colab.kernel.accessAllowed) {\n",
              "        return;\n",
              "      }\n",
              "      const div = document.createElement('div');\n",
              "      const label = document.createElement('label');\n",
              "      label.textContent = `Downloading \"${filename}\": `;\n",
              "      div.appendChild(label);\n",
              "      const progress = document.createElement('progress');\n",
              "      progress.max = size;\n",
              "      div.appendChild(progress);\n",
              "      document.body.appendChild(div);\n",
              "\n",
              "      const buffers = [];\n",
              "      let downloaded = 0;\n",
              "\n",
              "      const channel = await google.colab.kernel.comms.open(id);\n",
              "      // Send a message to notify the kernel that we're ready.\n",
              "      channel.send({})\n",
              "\n",
              "      for await (const message of channel.messages) {\n",
              "        // Send a message to notify the kernel that we're ready.\n",
              "        channel.send({})\n",
              "        if (message.buffers) {\n",
              "          for (const buffer of message.buffers) {\n",
              "            buffers.push(buffer);\n",
              "            downloaded += buffer.byteLength;\n",
              "            progress.value = downloaded;\n",
              "          }\n",
              "        }\n",
              "      }\n",
              "      const blob = new Blob(buffers, {type: 'application/binary'});\n",
              "      const a = document.createElement('a');\n",
              "      a.href = window.URL.createObjectURL(blob);\n",
              "      a.download = filename;\n",
              "      div.appendChild(a);\n",
              "      a.click();\n",
              "      div.remove();\n",
              "    }\n",
              "  "
            ]
          },
          "metadata": {}
        },
        {
          "output_type": "display_data",
          "data": {
            "text/plain": [
              "<IPython.core.display.Javascript object>"
            ],
            "application/javascript": [
              "download(\"download_b51ad601-1414-476a-921c-3c1d78c5d7f5\", \"submission.csv\", 221667)"
            ]
          },
          "metadata": {}
        }
      ],
      "source": [
        "from google.colab import files\n",
        "files.download('submission.csv')"
      ]
    },
    {
      "cell_type": "code",
      "execution_count": 64,
      "id": "Fm8SWnsLJ3v2",
      "metadata": {
        "id": "Fm8SWnsLJ3v2"
      },
      "outputs": [],
      "source": []
    }
  ],
  "metadata": {
    "accelerator": "GPU",
    "colab": {
      "collapsed_sections": [
        "nN70MBjGzOUH",
        "TMWu0HGHLciF"
      ],
      "provenance": [],
      "include_colab_link": true
    },
    "gpuClass": "standard",
    "kernelspec": {
      "display_name": "Python 3 (ipykernel)",
      "language": "python",
      "name": "python3"
    },
    "language_info": {
      "codemirror_mode": {
        "name": "ipython",
        "version": 3
      },
      "file_extension": ".py",
      "mimetype": "text/x-python",
      "name": "python",
      "nbconvert_exporter": "python",
      "pygments_lexer": "ipython3",
      "version": "3.7.13"
    }
  },
  "nbformat": 4,
  "nbformat_minor": 5
}