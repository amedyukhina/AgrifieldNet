{
  "cells": [
    {
      "cell_type": "markdown",
      "metadata": {
        "id": "view-in-github",
        "colab_type": "text"
      },
      "source": [
        "<a href=\"https://colab.research.google.com/github/amedyukhina/AgrifieldNet/blob/main/agrinet.ipynb\" target=\"_parent\"><img src=\"https://colab.research.google.com/assets/colab-badge.svg\" alt=\"Open In Colab\"/></a>"
      ]
    },
    {
      "cell_type": "markdown",
      "id": "77b4743b",
      "metadata": {
        "id": "77b4743b"
      },
      "source": [
        "# AgrifieldNet India Competition"
      ]
    },
    {
      "cell_type": "markdown",
      "id": "be36e335",
      "metadata": {
        "id": "be36e335"
      },
      "source": [
        "## Install and import dependencies\n"
      ]
    },
    {
      "cell_type": "code",
      "execution_count": 1,
      "id": "KiwG2IraDe6h",
      "metadata": {
        "colab": {
          "base_uri": "https://localhost:8080/"
        },
        "id": "KiwG2IraDe6h",
        "outputId": "743b654d-48ba-4f8f-c12b-79da3b098e40"
      },
      "outputs": [
        {
          "output_type": "stream",
          "name": "stdout",
          "text": [
            "Writing requirements.txt\n"
          ]
        }
      ],
      "source": [
        "%%writefile requirements.txt\n",
        "\n",
        "pandas==1.3.5\n",
        "scikit-learn==1.0.2\n",
        "tqdm==4.64.0\n",
        "rasterio==1.2.0\n",
        "numpy==1.21.6\n",
        "radiant_mlhub==0.4.1\n",
        "torch==1.12.1\n",
        "torchvision==0.13.1\n",
        "scikit-image==0.18.3\n",
        "matplotlib==3.2.2\n",
        "pillow==7.1.2\n",
        "monai==0.9.1\n",
        "tensorboard==2.8.0"
      ]
    },
    {
      "cell_type": "code",
      "execution_count": 2,
      "id": "qafN0lN8D-_N",
      "metadata": {
        "colab": {
          "base_uri": "https://localhost:8080/"
        },
        "id": "qafN0lN8D-_N",
        "outputId": "defc2b02-f085-455b-ed5b-1320efe2574e"
      },
      "outputs": [
        {
          "output_type": "stream",
          "name": "stdout",
          "text": [
            "Looking in indexes: https://pypi.org/simple, https://us-python.pkg.dev/colab-wheels/public/simple/\n",
            "Requirement already satisfied: pandas==1.3.5 in /usr/local/lib/python3.7/dist-packages (from -r requirements.txt (line 2)) (1.3.5)\n",
            "Requirement already satisfied: scikit-learn==1.0.2 in /usr/local/lib/python3.7/dist-packages (from -r requirements.txt (line 3)) (1.0.2)\n",
            "Collecting tqdm==4.64.0\n",
            "  Downloading tqdm-4.64.0-py2.py3-none-any.whl (78 kB)\n",
            "\u001b[K     |████████████████████████████████| 78 kB 4.8 MB/s \n",
            "\u001b[?25hCollecting rasterio==1.2.0\n",
            "  Downloading rasterio-1.2.0-cp37-cp37m-manylinux1_x86_64.whl (19.1 MB)\n",
            "\u001b[K     |████████████████████████████████| 19.1 MB 393 kB/s \n",
            "\u001b[?25hRequirement already satisfied: numpy==1.21.6 in /usr/local/lib/python3.7/dist-packages (from -r requirements.txt (line 6)) (1.21.6)\n",
            "Collecting radiant_mlhub==0.4.1\n",
            "  Downloading radiant_mlhub-0.4.1-py3-none-any.whl (36 kB)\n",
            "Requirement already satisfied: torch==1.12.1 in /usr/local/lib/python3.7/dist-packages (from -r requirements.txt (line 8)) (1.12.1+cu113)\n",
            "Requirement already satisfied: torchvision==0.13.1 in /usr/local/lib/python3.7/dist-packages (from -r requirements.txt (line 9)) (0.13.1+cu113)\n",
            "Requirement already satisfied: scikit-image==0.18.3 in /usr/local/lib/python3.7/dist-packages (from -r requirements.txt (line 10)) (0.18.3)\n",
            "Requirement already satisfied: matplotlib==3.2.2 in /usr/local/lib/python3.7/dist-packages (from -r requirements.txt (line 11)) (3.2.2)\n",
            "Requirement already satisfied: pillow==7.1.2 in /usr/local/lib/python3.7/dist-packages (from -r requirements.txt (line 12)) (7.1.2)\n",
            "Collecting monai==0.9.1\n",
            "  Downloading monai-0.9.1-202207251608-py3-none-any.whl (990 kB)\n",
            "\u001b[K     |████████████████████████████████| 990 kB 31.0 MB/s \n",
            "\u001b[?25hRequirement already satisfied: tensorboard==2.8.0 in /usr/local/lib/python3.7/dist-packages (from -r requirements.txt (line 14)) (2.8.0)\n",
            "Requirement already satisfied: python-dateutil>=2.7.3 in /usr/local/lib/python3.7/dist-packages (from pandas==1.3.5->-r requirements.txt (line 2)) (2.8.2)\n",
            "Requirement already satisfied: pytz>=2017.3 in /usr/local/lib/python3.7/dist-packages (from pandas==1.3.5->-r requirements.txt (line 2)) (2022.2.1)\n",
            "Requirement already satisfied: joblib>=0.11 in /usr/local/lib/python3.7/dist-packages (from scikit-learn==1.0.2->-r requirements.txt (line 3)) (1.1.0)\n",
            "Requirement already satisfied: threadpoolctl>=2.0.0 in /usr/local/lib/python3.7/dist-packages (from scikit-learn==1.0.2->-r requirements.txt (line 3)) (3.1.0)\n",
            "Requirement already satisfied: scipy>=1.1.0 in /usr/local/lib/python3.7/dist-packages (from scikit-learn==1.0.2->-r requirements.txt (line 3)) (1.7.3)\n",
            "Collecting click-plugins\n",
            "  Downloading click_plugins-1.1.1-py2.py3-none-any.whl (7.5 kB)\n",
            "Requirement already satisfied: click<8,>=4.0 in /usr/local/lib/python3.7/dist-packages (from rasterio==1.2.0->-r requirements.txt (line 5)) (7.1.2)\n",
            "Collecting snuggs>=1.4.1\n",
            "  Downloading snuggs-1.4.7-py3-none-any.whl (5.4 kB)\n",
            "Collecting cligj>=0.5\n",
            "  Downloading cligj-0.7.2-py3-none-any.whl (7.1 kB)\n",
            "Requirement already satisfied: attrs in /usr/local/lib/python3.7/dist-packages (from rasterio==1.2.0->-r requirements.txt (line 5)) (22.1.0)\n",
            "Collecting affine\n",
            "  Downloading affine-2.3.1-py2.py3-none-any.whl (16 kB)\n",
            "Requirement already satisfied: certifi in /usr/local/lib/python3.7/dist-packages (from rasterio==1.2.0->-r requirements.txt (line 5)) (2022.6.15)\n",
            "Collecting requests~=2.25\n",
            "  Downloading requests-2.28.1-py3-none-any.whl (62 kB)\n",
            "\u001b[K     |████████████████████████████████| 62 kB 1.6 MB/s \n",
            "\u001b[?25hRequirement already satisfied: typing-extensions>=3.7 in /usr/local/lib/python3.7/dist-packages (from radiant_mlhub==0.4.1->-r requirements.txt (line 7)) (4.1.1)\n",
            "Collecting pystac~=1.1\n",
            "  Downloading pystac-1.5.0-py3-none-any.whl (146 kB)\n",
            "\u001b[K     |████████████████████████████████| 146 kB 49.1 MB/s \n",
            "\u001b[?25hRequirement already satisfied: networkx>=2.0 in /usr/local/lib/python3.7/dist-packages (from scikit-image==0.18.3->-r requirements.txt (line 10)) (2.6.3)\n",
            "Requirement already satisfied: PyWavelets>=1.1.1 in /usr/local/lib/python3.7/dist-packages (from scikit-image==0.18.3->-r requirements.txt (line 10)) (1.3.0)\n",
            "Requirement already satisfied: tifffile>=2019.7.26 in /usr/local/lib/python3.7/dist-packages (from scikit-image==0.18.3->-r requirements.txt (line 10)) (2021.11.2)\n",
            "Requirement already satisfied: imageio>=2.3.0 in /usr/local/lib/python3.7/dist-packages (from scikit-image==0.18.3->-r requirements.txt (line 10)) (2.9.0)\n",
            "Requirement already satisfied: cycler>=0.10 in /usr/local/lib/python3.7/dist-packages (from matplotlib==3.2.2->-r requirements.txt (line 11)) (0.11.0)\n",
            "Requirement already satisfied: kiwisolver>=1.0.1 in /usr/local/lib/python3.7/dist-packages (from matplotlib==3.2.2->-r requirements.txt (line 11)) (1.4.4)\n",
            "Requirement already satisfied: pyparsing!=2.0.4,!=2.1.2,!=2.1.6,>=2.0.1 in /usr/local/lib/python3.7/dist-packages (from matplotlib==3.2.2->-r requirements.txt (line 11)) (3.0.9)\n",
            "Requirement already satisfied: markdown>=2.6.8 in /usr/local/lib/python3.7/dist-packages (from tensorboard==2.8.0->-r requirements.txt (line 14)) (3.4.1)\n",
            "Requirement already satisfied: protobuf>=3.6.0 in /usr/local/lib/python3.7/dist-packages (from tensorboard==2.8.0->-r requirements.txt (line 14)) (3.17.3)\n",
            "Requirement already satisfied: tensorboard-data-server<0.7.0,>=0.6.0 in /usr/local/lib/python3.7/dist-packages (from tensorboard==2.8.0->-r requirements.txt (line 14)) (0.6.1)\n",
            "Requirement already satisfied: setuptools>=41.0.0 in /usr/local/lib/python3.7/dist-packages (from tensorboard==2.8.0->-r requirements.txt (line 14)) (57.4.0)\n",
            "Requirement already satisfied: werkzeug>=0.11.15 in /usr/local/lib/python3.7/dist-packages (from tensorboard==2.8.0->-r requirements.txt (line 14)) (1.0.1)\n",
            "Requirement already satisfied: google-auth-oauthlib<0.5,>=0.4.1 in /usr/local/lib/python3.7/dist-packages (from tensorboard==2.8.0->-r requirements.txt (line 14)) (0.4.6)\n",
            "Requirement already satisfied: tensorboard-plugin-wit>=1.6.0 in /usr/local/lib/python3.7/dist-packages (from tensorboard==2.8.0->-r requirements.txt (line 14)) (1.8.1)\n",
            "Requirement already satisfied: wheel>=0.26 in /usr/local/lib/python3.7/dist-packages (from tensorboard==2.8.0->-r requirements.txt (line 14)) (0.37.1)\n",
            "Requirement already satisfied: google-auth<3,>=1.6.3 in /usr/local/lib/python3.7/dist-packages (from tensorboard==2.8.0->-r requirements.txt (line 14)) (1.35.0)\n",
            "Requirement already satisfied: grpcio>=1.24.3 in /usr/local/lib/python3.7/dist-packages (from tensorboard==2.8.0->-r requirements.txt (line 14)) (1.48.1)\n",
            "Requirement already satisfied: absl-py>=0.4 in /usr/local/lib/python3.7/dist-packages (from tensorboard==2.8.0->-r requirements.txt (line 14)) (1.2.0)\n",
            "Requirement already satisfied: pyasn1-modules>=0.2.1 in /usr/local/lib/python3.7/dist-packages (from google-auth<3,>=1.6.3->tensorboard==2.8.0->-r requirements.txt (line 14)) (0.2.8)\n",
            "Requirement already satisfied: six>=1.9.0 in /usr/local/lib/python3.7/dist-packages (from google-auth<3,>=1.6.3->tensorboard==2.8.0->-r requirements.txt (line 14)) (1.15.0)\n",
            "Requirement already satisfied: rsa<5,>=3.1.4 in /usr/local/lib/python3.7/dist-packages (from google-auth<3,>=1.6.3->tensorboard==2.8.0->-r requirements.txt (line 14)) (4.9)\n",
            "Requirement already satisfied: cachetools<5.0,>=2.0.0 in /usr/local/lib/python3.7/dist-packages (from google-auth<3,>=1.6.3->tensorboard==2.8.0->-r requirements.txt (line 14)) (4.2.4)\n",
            "Requirement already satisfied: requests-oauthlib>=0.7.0 in /usr/local/lib/python3.7/dist-packages (from google-auth-oauthlib<0.5,>=0.4.1->tensorboard==2.8.0->-r requirements.txt (line 14)) (1.3.1)\n",
            "Requirement already satisfied: importlib-metadata>=4.4 in /usr/local/lib/python3.7/dist-packages (from markdown>=2.6.8->tensorboard==2.8.0->-r requirements.txt (line 14)) (4.12.0)\n",
            "Requirement already satisfied: zipp>=0.5 in /usr/local/lib/python3.7/dist-packages (from importlib-metadata>=4.4->markdown>=2.6.8->tensorboard==2.8.0->-r requirements.txt (line 14)) (3.8.1)\n",
            "Requirement already satisfied: pyasn1<0.5.0,>=0.4.6 in /usr/local/lib/python3.7/dist-packages (from pyasn1-modules>=0.2.1->google-auth<3,>=1.6.3->tensorboard==2.8.0->-r requirements.txt (line 14)) (0.4.8)\n",
            "Requirement already satisfied: urllib3<1.27,>=1.21.1 in /usr/local/lib/python3.7/dist-packages (from requests~=2.25->radiant_mlhub==0.4.1->-r requirements.txt (line 7)) (1.24.3)\n",
            "Requirement already satisfied: idna<4,>=2.5 in /usr/local/lib/python3.7/dist-packages (from requests~=2.25->radiant_mlhub==0.4.1->-r requirements.txt (line 7)) (2.10)\n",
            "Requirement already satisfied: charset-normalizer<3,>=2 in /usr/local/lib/python3.7/dist-packages (from requests~=2.25->radiant_mlhub==0.4.1->-r requirements.txt (line 7)) (2.1.1)\n",
            "Requirement already satisfied: oauthlib>=3.0.0 in /usr/local/lib/python3.7/dist-packages (from requests-oauthlib>=0.7.0->google-auth-oauthlib<0.5,>=0.4.1->tensorboard==2.8.0->-r requirements.txt (line 14)) (3.2.0)\n",
            "Installing collected packages: requests, tqdm, snuggs, pystac, cligj, click-plugins, affine, rasterio, radiant-mlhub, monai\n",
            "  Attempting uninstall: requests\n",
            "    Found existing installation: requests 2.23.0\n",
            "    Uninstalling requests-2.23.0:\n",
            "      Successfully uninstalled requests-2.23.0\n",
            "  Attempting uninstall: tqdm\n",
            "    Found existing installation: tqdm 4.64.1\n",
            "    Uninstalling tqdm-4.64.1:\n",
            "      Successfully uninstalled tqdm-4.64.1\n",
            "Successfully installed affine-2.3.1 click-plugins-1.1.1 cligj-0.7.2 monai-0.9.1 pystac-1.5.0 radiant-mlhub-0.4.1 rasterio-1.2.0 requests-2.28.1 snuggs-1.4.7 tqdm-4.64.0\n"
          ]
        }
      ],
      "source": [
        "!pip install -r requirements.txt"
      ]
    },
    {
      "cell_type": "code",
      "execution_count": 3,
      "id": "28ea6e7d",
      "metadata": {
        "id": "28ea6e7d"
      },
      "outputs": [],
      "source": [
        "import os\n",
        "import json\n",
        "import getpass\n",
        "import rasterio\n",
        "import numpy as np\n",
        "import pandas as pd\n",
        "from tqdm import tqdm\n",
        "from radiant_mlhub import Dataset\n",
        "import tarfile\n",
        "import shutil\n",
        "import numpy as np\n",
        "import pandas as pd\n",
        "import torch\n",
        "import torch.utils.data\n",
        "from torch import nn\n",
        "from skimage import io\n",
        "from torchvision import transforms as torch_transforms\n",
        "import pylab as plt\n",
        "from PIL import Image\n",
        "from skimage.segmentation import mark_boundaries\n",
        "from monai.networks.layers import Norm\n",
        "from monai.networks.nets import UNet\n",
        "from monai.losses import DiceLoss, DiceCELoss, MaskedDiceLoss\n",
        "from monai.metrics import DiceMetric\n",
        "# from torch.utils.tensorboard import SummaryWriter"
      ]
    },
    {
      "cell_type": "markdown",
      "id": "fQpDLC79m5A4",
      "metadata": {
        "id": "fQpDLC79m5A4"
      },
      "source": [
        "## Specify global parameters"
      ]
    },
    {
      "cell_type": "code",
      "execution_count": 4,
      "id": "rKuZKO3em_Av",
      "metadata": {
        "id": "rKuZKO3em_Av"
      },
      "outputs": [],
      "source": [
        "data_dir = 'data'\n",
        "random_seed = 42\n",
        "\n",
        "train_df_path = 'train_data.csv'\n",
        "\n",
        "BAND_NAMES = ['B01', 'B02', 'B03', 'B04','B05', 'B06', 'B07', 'B08','B8A', 'B09', 'B11', 'B12']"
      ]
    },
    {
      "cell_type": "code",
      "execution_count": 5,
      "id": "S-_SPonZnI8f",
      "metadata": {
        "id": "S-_SPonZnI8f"
      },
      "outputs": [],
      "source": [
        "np.random.seed(random_seed)"
      ]
    },
    {
      "cell_type": "markdown",
      "id": "835834a1",
      "metadata": {
        "id": "835834a1"
      },
      "source": [
        "## Download data from MLHUB\n"
      ]
    },
    {
      "cell_type": "code",
      "execution_count": 6,
      "id": "v6t8zd3bJB51",
      "metadata": {
        "id": "v6t8zd3bJB51"
      },
      "outputs": [],
      "source": [
        "collection_name = 'ref_agrifieldnet_competition_v1'\n",
        "\n",
        "source_collection = f'{collection_name}_source'\n",
        "train_label_collection = f'{collection_name}_labels_train'\n",
        "test_label_collection = f'{collection_name}_labels_test'"
      ]
    },
    {
      "cell_type": "code",
      "execution_count": 7,
      "id": "cb1f3921",
      "metadata": {
        "colab": {
          "base_uri": "https://localhost:8080/",
          "height": 310,
          "referenced_widgets": [
            "fee447acd1f54886a03beb2a2635a669",
            "2206311d138a4b2190c41520e56ff289",
            "60090273cf1541419501003b36b19ebd",
            "d04911a819414d65bb82c34abb258a9d",
            "cc6d7aa92abb4d01a666fe63c0a1e686",
            "d8ff33b211c942a1805cadd59a9383f6",
            "2ce88ef3b18c4d5ab08a8bf175fd30b0",
            "889a44b39cc3470b817c6615343548c6",
            "5933d14e92b241529e180f477a0b9b1a",
            "2918f0e2be1e4fe092928d153430f7c9",
            "6d10c043f070497c9d6d2df6532fdcf0",
            "e4c54c4001934e75b7ab0f97f0477930",
            "6c8e94b71ce24d998c6dac604b49752f",
            "e73b5b61e52b44fabd0e56b7cf09373d",
            "c0eee4e1f0544fcb8731d404a9922c75",
            "0a34c1901c314ea5969b1f34e3f58300",
            "bb0007703dd049eca70525aa78fed8bf",
            "48723e54325a4d6b8beadd787ebd45f3",
            "c071850774d145f6b273ab169370ff33",
            "3c80d1db3da8427d84569f2f7cda6b13",
            "401a6b83cc304d2b8f097d36b08e131a",
            "bbffa92b99684c2183e1359911e0bd7d",
            "065cd905615949eea3f1dc6473d1d9da",
            "670204182fbc4782abf0243f97c6be4e",
            "00babe19ae144c0c9c194c9ad6102aaa",
            "1783cd71649046229606cc26c7fe0001",
            "95c25bb7de3241d3b38c7b03f91cc8d0",
            "52b58b11e9ed4aecb8577fb4ed66d78f",
            "f943c178c920436c9844eddcd2eb4277",
            "73eb28b4a52a48dd946ce3641ab985e5",
            "19ecb5b9a8c2473a8fc7bd68fe7763ef",
            "717f943a3462441bb67e2f7a0ad8e84e",
            "00ca2007d09044a3b381fa9b962b7303"
          ]
        },
        "id": "cb1f3921",
        "outputId": "9af53b51-0e3c-4487-c4d3-0c8651983749",
        "scrolled": true
      },
      "outputs": [
        {
          "name": "stdout",
          "output_type": "stream",
          "text": [
            "MLHub API Key: ··········\n"
          ]
        },
        {
          "output_type": "display_data",
          "data": {
            "text/plain": [
              "  0%|          | 0/0.5 [00:00<?, ?M/s]"
            ],
            "application/vnd.jupyter.widget-view+json": {
              "version_major": 2,
              "version_minor": 0,
              "model_id": "fee447acd1f54886a03beb2a2635a669"
            }
          },
          "metadata": {}
        },
        {
          "output_type": "display_data",
          "data": {
            "text/plain": [
              "  0%|          | 0/324.3 [00:00<?, ?M/s]"
            ],
            "application/vnd.jupyter.widget-view+json": {
              "version_major": 2,
              "version_minor": 0,
              "model_id": "e4c54c4001934e75b7ab0f97f0477930"
            }
          },
          "metadata": {}
        },
        {
          "output_type": "stream",
          "name": "stderr",
          "text": [
            "WARNING:urllib3.connectionpool:Connection pool is full, discarding connection: radiantearth.blob.core.windows.net\n",
            "WARNING:urllib3.connectionpool:Connection pool is full, discarding connection: radiantearth.blob.core.windows.net\n",
            "WARNING:urllib3.connectionpool:Connection pool is full, discarding connection: radiantearth.blob.core.windows.net\n",
            "WARNING:urllib3.connectionpool:Connection pool is full, discarding connection: radiantearth.blob.core.windows.net\n",
            "WARNING:urllib3.connectionpool:Connection pool is full, discarding connection: radiantearth.blob.core.windows.net\n",
            "WARNING:urllib3.connectionpool:Connection pool is full, discarding connection: radiantearth.blob.core.windows.net\n",
            "WARNING:urllib3.connectionpool:Connection pool is full, discarding connection: radiantearth.blob.core.windows.net\n",
            "WARNING:urllib3.connectionpool:Connection pool is full, discarding connection: radiantearth.blob.core.windows.net\n",
            "WARNING:urllib3.connectionpool:Connection pool is full, discarding connection: radiantearth.blob.core.windows.net\n",
            "WARNING:urllib3.connectionpool:Connection pool is full, discarding connection: radiantearth.blob.core.windows.net\n"
          ]
        },
        {
          "output_type": "display_data",
          "data": {
            "text/plain": [
              "  0%|          | 0/1.3 [00:00<?, ?M/s]"
            ],
            "application/vnd.jupyter.widget-view+json": {
              "version_major": 2,
              "version_minor": 0,
              "model_id": "065cd905615949eea3f1dc6473d1d9da"
            }
          },
          "metadata": {}
        }
      ],
      "source": [
        "if not os.path.exists(data_dir):\n",
        "  os.environ['MLHUB_API_KEY'] =  getpass.getpass(prompt=\"MLHub API Key: \")\n",
        "\n",
        "  dataset = Dataset.fetch(collection_name)\n",
        "  dataset.download(output_dir=data_dir)\n",
        "  for fn in os.listdir(data_dir):\n",
        "    with tarfile.open(os.path.join(data_dir, fn)) as f:\n",
        "      f.extractall(data_dir + '/') \n",
        "    os.remove(os.path.join(data_dir, fn))\n",
        "else:\n",
        "  print(\"Dataset already exists\")"
      ]
    },
    {
      "cell_type": "markdown",
      "id": "c2b7152b",
      "metadata": {
        "id": "c2b7152b"
      },
      "source": [
        "## Prepare Training data\n"
      ]
    },
    {
      "cell_type": "markdown",
      "id": "HjvBEfBWmYY0",
      "metadata": {
        "id": "HjvBEfBWmYY0"
      },
      "source": [
        "### Create training dataframe"
      ]
    },
    {
      "cell_type": "code",
      "execution_count": 8,
      "id": "GV9mPA1VTqt4",
      "metadata": {
        "id": "GV9mPA1VTqt4"
      },
      "outputs": [],
      "source": [
        "train_paths = os.listdir(os.path.join(data_dir, train_label_collection))\n",
        "train_ids = [fn.split('_')[-1] for fn in train_paths if 'labels_train' in fn]\n",
        "\n",
        "field_paths = [f'{data_dir}/{train_label_collection}/{train_label_collection}_{i}/field_ids.tif' \n",
        "               for i in train_ids]\n",
        "label_paths = [f'{data_dir}/{train_label_collection}/{train_label_collection}_{i}/raster_labels.tif' \n",
        "               for i in train_ids]\n",
        "source_paths = [f'{data_dir}/{source_collection}/{source_collection}_{i}/' \n",
        "               for i in train_ids]"
      ]
    },
    {
      "cell_type": "code",
      "execution_count": 9,
      "id": "d158c3e9",
      "metadata": {
        "colab": {
          "base_uri": "https://localhost:8080/",
          "height": 206
        },
        "id": "d158c3e9",
        "outputId": "46d97e0c-48d5-48dd-d379-008ab34a9f92"
      },
      "outputs": [
        {
          "output_type": "execute_result",
          "data": {
            "text/plain": [
              "  folder_id                                         field_path  \\\n",
              "0     8a219  data/ref_agrifieldnet_competition_v1_labels_tr...   \n",
              "1     b2361  data/ref_agrifieldnet_competition_v1_labels_tr...   \n",
              "2     ae507  data/ref_agrifieldnet_competition_v1_labels_tr...   \n",
              "3     39ea6  data/ref_agrifieldnet_competition_v1_labels_tr...   \n",
              "4     001c1  data/ref_agrifieldnet_competition_v1_labels_tr...   \n",
              "\n",
              "                                          label_path  \\\n",
              "0  data/ref_agrifieldnet_competition_v1_labels_tr...   \n",
              "1  data/ref_agrifieldnet_competition_v1_labels_tr...   \n",
              "2  data/ref_agrifieldnet_competition_v1_labels_tr...   \n",
              "3  data/ref_agrifieldnet_competition_v1_labels_tr...   \n",
              "4  data/ref_agrifieldnet_competition_v1_labels_tr...   \n",
              "\n",
              "                                         source_path  \n",
              "0  data/ref_agrifieldnet_competition_v1_source/re...  \n",
              "1  data/ref_agrifieldnet_competition_v1_source/re...  \n",
              "2  data/ref_agrifieldnet_competition_v1_source/re...  \n",
              "3  data/ref_agrifieldnet_competition_v1_source/re...  \n",
              "4  data/ref_agrifieldnet_competition_v1_source/re...  "
            ],
            "text/html": [
              "\n",
              "  <div id=\"df-0265218b-d364-4fb3-8848-b3fde190f669\">\n",
              "    <div class=\"colab-df-container\">\n",
              "      <div>\n",
              "<style scoped>\n",
              "    .dataframe tbody tr th:only-of-type {\n",
              "        vertical-align: middle;\n",
              "    }\n",
              "\n",
              "    .dataframe tbody tr th {\n",
              "        vertical-align: top;\n",
              "    }\n",
              "\n",
              "    .dataframe thead th {\n",
              "        text-align: right;\n",
              "    }\n",
              "</style>\n",
              "<table border=\"1\" class=\"dataframe\">\n",
              "  <thead>\n",
              "    <tr style=\"text-align: right;\">\n",
              "      <th></th>\n",
              "      <th>folder_id</th>\n",
              "      <th>field_path</th>\n",
              "      <th>label_path</th>\n",
              "      <th>source_path</th>\n",
              "    </tr>\n",
              "  </thead>\n",
              "  <tbody>\n",
              "    <tr>\n",
              "      <th>0</th>\n",
              "      <td>8a219</td>\n",
              "      <td>data/ref_agrifieldnet_competition_v1_labels_tr...</td>\n",
              "      <td>data/ref_agrifieldnet_competition_v1_labels_tr...</td>\n",
              "      <td>data/ref_agrifieldnet_competition_v1_source/re...</td>\n",
              "    </tr>\n",
              "    <tr>\n",
              "      <th>1</th>\n",
              "      <td>b2361</td>\n",
              "      <td>data/ref_agrifieldnet_competition_v1_labels_tr...</td>\n",
              "      <td>data/ref_agrifieldnet_competition_v1_labels_tr...</td>\n",
              "      <td>data/ref_agrifieldnet_competition_v1_source/re...</td>\n",
              "    </tr>\n",
              "    <tr>\n",
              "      <th>2</th>\n",
              "      <td>ae507</td>\n",
              "      <td>data/ref_agrifieldnet_competition_v1_labels_tr...</td>\n",
              "      <td>data/ref_agrifieldnet_competition_v1_labels_tr...</td>\n",
              "      <td>data/ref_agrifieldnet_competition_v1_source/re...</td>\n",
              "    </tr>\n",
              "    <tr>\n",
              "      <th>3</th>\n",
              "      <td>39ea6</td>\n",
              "      <td>data/ref_agrifieldnet_competition_v1_labels_tr...</td>\n",
              "      <td>data/ref_agrifieldnet_competition_v1_labels_tr...</td>\n",
              "      <td>data/ref_agrifieldnet_competition_v1_source/re...</td>\n",
              "    </tr>\n",
              "    <tr>\n",
              "      <th>4</th>\n",
              "      <td>001c1</td>\n",
              "      <td>data/ref_agrifieldnet_competition_v1_labels_tr...</td>\n",
              "      <td>data/ref_agrifieldnet_competition_v1_labels_tr...</td>\n",
              "      <td>data/ref_agrifieldnet_competition_v1_source/re...</td>\n",
              "    </tr>\n",
              "  </tbody>\n",
              "</table>\n",
              "</div>\n",
              "      <button class=\"colab-df-convert\" onclick=\"convertToInteractive('df-0265218b-d364-4fb3-8848-b3fde190f669')\"\n",
              "              title=\"Convert this dataframe to an interactive table.\"\n",
              "              style=\"display:none;\">\n",
              "        \n",
              "  <svg xmlns=\"http://www.w3.org/2000/svg\" height=\"24px\"viewBox=\"0 0 24 24\"\n",
              "       width=\"24px\">\n",
              "    <path d=\"M0 0h24v24H0V0z\" fill=\"none\"/>\n",
              "    <path d=\"M18.56 5.44l.94 2.06.94-2.06 2.06-.94-2.06-.94-.94-2.06-.94 2.06-2.06.94zm-11 1L8.5 8.5l.94-2.06 2.06-.94-2.06-.94L8.5 2.5l-.94 2.06-2.06.94zm10 10l.94 2.06.94-2.06 2.06-.94-2.06-.94-.94-2.06-.94 2.06-2.06.94z\"/><path d=\"M17.41 7.96l-1.37-1.37c-.4-.4-.92-.59-1.43-.59-.52 0-1.04.2-1.43.59L10.3 9.45l-7.72 7.72c-.78.78-.78 2.05 0 2.83L4 21.41c.39.39.9.59 1.41.59.51 0 1.02-.2 1.41-.59l7.78-7.78 2.81-2.81c.8-.78.8-2.07 0-2.86zM5.41 20L4 18.59l7.72-7.72 1.47 1.35L5.41 20z\"/>\n",
              "  </svg>\n",
              "      </button>\n",
              "      \n",
              "  <style>\n",
              "    .colab-df-container {\n",
              "      display:flex;\n",
              "      flex-wrap:wrap;\n",
              "      gap: 12px;\n",
              "    }\n",
              "\n",
              "    .colab-df-convert {\n",
              "      background-color: #E8F0FE;\n",
              "      border: none;\n",
              "      border-radius: 50%;\n",
              "      cursor: pointer;\n",
              "      display: none;\n",
              "      fill: #1967D2;\n",
              "      height: 32px;\n",
              "      padding: 0 0 0 0;\n",
              "      width: 32px;\n",
              "    }\n",
              "\n",
              "    .colab-df-convert:hover {\n",
              "      background-color: #E2EBFA;\n",
              "      box-shadow: 0px 1px 2px rgba(60, 64, 67, 0.3), 0px 1px 3px 1px rgba(60, 64, 67, 0.15);\n",
              "      fill: #174EA6;\n",
              "    }\n",
              "\n",
              "    [theme=dark] .colab-df-convert {\n",
              "      background-color: #3B4455;\n",
              "      fill: #D2E3FC;\n",
              "    }\n",
              "\n",
              "    [theme=dark] .colab-df-convert:hover {\n",
              "      background-color: #434B5C;\n",
              "      box-shadow: 0px 1px 3px 1px rgba(0, 0, 0, 0.15);\n",
              "      filter: drop-shadow(0px 1px 2px rgba(0, 0, 0, 0.3));\n",
              "      fill: #FFFFFF;\n",
              "    }\n",
              "  </style>\n",
              "\n",
              "      <script>\n",
              "        const buttonEl =\n",
              "          document.querySelector('#df-0265218b-d364-4fb3-8848-b3fde190f669 button.colab-df-convert');\n",
              "        buttonEl.style.display =\n",
              "          google.colab.kernel.accessAllowed ? 'block' : 'none';\n",
              "\n",
              "        async function convertToInteractive(key) {\n",
              "          const element = document.querySelector('#df-0265218b-d364-4fb3-8848-b3fde190f669');\n",
              "          const dataTable =\n",
              "            await google.colab.kernel.invokeFunction('convertToInteractive',\n",
              "                                                     [key], {});\n",
              "          if (!dataTable) return;\n",
              "\n",
              "          const docLinkHtml = 'Like what you see? Visit the ' +\n",
              "            '<a target=\"_blank\" href=https://colab.research.google.com/notebooks/data_table.ipynb>data table notebook</a>'\n",
              "            + ' to learn more about interactive tables.';\n",
              "          element.innerHTML = '';\n",
              "          dataTable['output_type'] = 'display_data';\n",
              "          await google.colab.output.renderOutput(dataTable, element);\n",
              "          const docLink = document.createElement('div');\n",
              "          docLink.innerHTML = docLinkHtml;\n",
              "          element.appendChild(docLink);\n",
              "        }\n",
              "      </script>\n",
              "    </div>\n",
              "  </div>\n",
              "  "
            ]
          },
          "metadata": {},
          "execution_count": 9
        }
      ],
      "source": [
        "train_data = pd.DataFrame(np.array([train_ids, field_paths, label_paths, source_paths]).transpose(), \n",
        "                          columns=['folder_id', 'field_path', 'label_path', 'source_path'])\n",
        "train_data.head()"
      ]
    },
    {
      "cell_type": "markdown",
      "id": "45b0528d-12b9-4c3d-9349-b87d0125452b",
      "metadata": {
        "id": "45b0528d-12b9-4c3d-9349-b87d0125452b"
      },
      "source": [
        "\n",
        "## Extract field-crop data"
      ]
    },
    {
      "cell_type": "code",
      "execution_count": 10,
      "id": "bb718754-8b9d-41dc-af37-785f08813783",
      "metadata": {
        "id": "bb718754-8b9d-41dc-af37-785f08813783"
      },
      "outputs": [],
      "source": [
        "def extract_field_crop_data(data):\n",
        "  field_ids = []\n",
        "  crop_type = []\n",
        "  field_area = []\n",
        "  field_max_dim = []\n",
        "  field_center_x = []\n",
        "  field_center_y = []\n",
        "  label_paths = []\n",
        "  field_paths = []\n",
        "  source_paths = []\n",
        "\n",
        "  for i in tqdm(range(len(data))):\n",
        "      with rasterio.open(data['field_path'].iloc[i]) as src:\n",
        "          field_data = src.read()[0]\n",
        "      with rasterio.open(data['label_path'].iloc[i]) as src:\n",
        "          crop_data = src.read()[0]\n",
        "\n",
        "      for field_id in np.unique(field_data)[1:]:\n",
        "          ind = np.where(field_data == field_id)\n",
        "          field_ids.append(field_id)\n",
        "          crop_type.append(np.unique(crop_data[ind])[-1])\n",
        "          field_area.append(len(ind[0]))\n",
        "          field_max_dim.append(np.max(np.array(ind).max(1) - np.array(ind).min(1) + 1))\n",
        "          field_center_y.append(np.mean(ind[0]))\n",
        "          field_center_x.append(np.mean(ind[1]))\n",
        "          label_paths.append(data['label_path'].iloc[i])\n",
        "          field_paths.append(data['field_path'].iloc[i])\n",
        "          source_paths.append(data['source_path'].iloc[i])\n",
        "\n",
        "  df = pd.DataFrame(np.array([field_ids, crop_type, field_area, \n",
        "                              field_max_dim, field_center_x, \n",
        "                              field_center_y]).transpose(),\n",
        "                    columns=['field_id', 'crop_type', 'field_area', \n",
        "                            'field_max_dim', 'center_x', 'center_y'])\n",
        "  df['label_path'] = label_paths\n",
        "  df['field_path'] = field_paths\n",
        "  df['source_path'] = source_paths\n",
        "  return df"
      ]
    },
    {
      "cell_type": "code",
      "source": [
        "df = extract_field_crop_data(train_data)"
      ],
      "metadata": {
        "id": "x01ngTzLAFU3",
        "outputId": "587e293b-601d-4875-9217-bba4fccdc248",
        "colab": {
          "base_uri": "https://localhost:8080/"
        }
      },
      "id": "x01ngTzLAFU3",
      "execution_count": 11,
      "outputs": [
        {
          "output_type": "stream",
          "name": "stderr",
          "text": [
            "100%|██████████| 1165/1165 [00:07<00:00, 155.76it/s]\n"
          ]
        }
      ]
    },
    {
      "cell_type": "code",
      "execution_count": 12,
      "id": "82363a48-77b1-43d9-9b4b-30399290ec97",
      "metadata": {
        "id": "82363a48-77b1-43d9-9b4b-30399290ec97",
        "outputId": "3161457b-4481-48f3-9d72-7527673997c9",
        "colab": {
          "base_uri": "https://localhost:8080/"
        }
      },
      "outputs": [
        {
          "output_type": "execute_result",
          "data": {
            "text/plain": [
              "54.0"
            ]
          },
          "metadata": {},
          "execution_count": 12
        }
      ],
      "source": [
        "maxdim = df['field_max_dim'].max()\n",
        "maxdim"
      ]
    },
    {
      "cell_type": "code",
      "execution_count": 13,
      "id": "cb8235d3-3f09-4bb7-b32b-3e5c7ba966fc",
      "metadata": {
        "id": "cb8235d3-3f09-4bb7-b32b-3e5c7ba966fc"
      },
      "outputs": [],
      "source": [
        "size = 64"
      ]
    },
    {
      "cell_type": "code",
      "execution_count": 14,
      "id": "6a60b82a-1292-43f1-b16d-36964250029c",
      "metadata": {
        "id": "6a60b82a-1292-43f1-b16d-36964250029c",
        "outputId": "85341094-c5fa-4613-fb8b-58a39f74187d",
        "colab": {
          "base_uri": "https://localhost:8080/"
        }
      },
      "outputs": [
        {
          "output_type": "execute_result",
          "data": {
            "text/plain": [
              "0.0004934933587038231"
            ]
          },
          "metadata": {},
          "execution_count": 14
        }
      ],
      "source": [
        "mean_area_fraction = np.mean(df['field_area']) / 256**2\n",
        "mean_area_fraction"
      ]
    },
    {
      "cell_type": "code",
      "execution_count": 15,
      "id": "b01506ef-4bbb-4a12-8d56-2f7f705d21d8",
      "metadata": {
        "id": "b01506ef-4bbb-4a12-8d56-2f7f705d21d8"
      },
      "outputs": [],
      "source": [
        "df = df.sort_values(['crop_type', 'field_id']).reset_index(drop=True)\n",
        "df['count'] = 1"
      ]
    },
    {
      "cell_type": "code",
      "execution_count": 16,
      "id": "45cc2bcb-44bd-4688-b0e0-fbfb3991f559",
      "metadata": {
        "id": "45cc2bcb-44bd-4688-b0e0-fbfb3991f559",
        "outputId": "bbb005d7-b59a-4975-ff1b-448fdea6ac21",
        "colab": {
          "base_uri": "https://localhost:8080/",
          "height": 488
        }
      },
      "outputs": [
        {
          "output_type": "execute_result",
          "data": {
            "text/plain": [
              "            field_id  field_area  field_max_dim       center_x       center_y  \\\n",
              "crop_type                                                                       \n",
              "1.0        6241369.0     75118.0        17357.0  268141.027810  272345.129440   \n",
              "2.0        3951325.0     46818.0         9542.0  134534.280499  135859.037956   \n",
              "3.0         197850.0      2883.0          786.0   14378.647796   13225.595171   \n",
              "4.0        6633376.0     36397.0        10366.0  214265.322749  221002.721353   \n",
              "5.0          53102.0       531.0          177.0    3473.416281    3866.649834   \n",
              "6.0         279015.0      5820.0         1451.0   22128.328845   21726.170139   \n",
              "8.0         255632.0      3150.0          526.0    5984.146869    6461.463742   \n",
              "9.0        2000157.0      8773.0         2275.0   37997.718876   38870.447163   \n",
              "13.0        360261.0      3503.0          647.0    6351.534183    7946.557215   \n",
              "14.0         43859.0       678.0          117.0    1816.976855    1851.925902   \n",
              "15.0        201531.0       886.0          268.0    5912.969947    5916.743522   \n",
              "16.0         42092.0       261.0           84.0    2209.161892    2083.167741   \n",
              "36.0        660043.0      3410.0          811.0   17219.239273   17613.762107   \n",
              "\n",
              "           count  \n",
              "crop_type         \n",
              "1.0         2148  \n",
              "2.0         1041  \n",
              "3.0          105  \n",
              "4.0         1707  \n",
              "5.0           25  \n",
              "6.0          173  \n",
              "8.0           49  \n",
              "9.0          304  \n",
              "13.0          64  \n",
              "14.0          14  \n",
              "15.0          43  \n",
              "16.0          16  \n",
              "36.0         131  "
            ],
            "text/html": [
              "\n",
              "  <div id=\"df-6fd74f4a-b057-42f4-a013-a037a1a43baf\">\n",
              "    <div class=\"colab-df-container\">\n",
              "      <div>\n",
              "<style scoped>\n",
              "    .dataframe tbody tr th:only-of-type {\n",
              "        vertical-align: middle;\n",
              "    }\n",
              "\n",
              "    .dataframe tbody tr th {\n",
              "        vertical-align: top;\n",
              "    }\n",
              "\n",
              "    .dataframe thead th {\n",
              "        text-align: right;\n",
              "    }\n",
              "</style>\n",
              "<table border=\"1\" class=\"dataframe\">\n",
              "  <thead>\n",
              "    <tr style=\"text-align: right;\">\n",
              "      <th></th>\n",
              "      <th>field_id</th>\n",
              "      <th>field_area</th>\n",
              "      <th>field_max_dim</th>\n",
              "      <th>center_x</th>\n",
              "      <th>center_y</th>\n",
              "      <th>count</th>\n",
              "    </tr>\n",
              "    <tr>\n",
              "      <th>crop_type</th>\n",
              "      <th></th>\n",
              "      <th></th>\n",
              "      <th></th>\n",
              "      <th></th>\n",
              "      <th></th>\n",
              "      <th></th>\n",
              "    </tr>\n",
              "  </thead>\n",
              "  <tbody>\n",
              "    <tr>\n",
              "      <th>1.0</th>\n",
              "      <td>6241369.0</td>\n",
              "      <td>75118.0</td>\n",
              "      <td>17357.0</td>\n",
              "      <td>268141.027810</td>\n",
              "      <td>272345.129440</td>\n",
              "      <td>2148</td>\n",
              "    </tr>\n",
              "    <tr>\n",
              "      <th>2.0</th>\n",
              "      <td>3951325.0</td>\n",
              "      <td>46818.0</td>\n",
              "      <td>9542.0</td>\n",
              "      <td>134534.280499</td>\n",
              "      <td>135859.037956</td>\n",
              "      <td>1041</td>\n",
              "    </tr>\n",
              "    <tr>\n",
              "      <th>3.0</th>\n",
              "      <td>197850.0</td>\n",
              "      <td>2883.0</td>\n",
              "      <td>786.0</td>\n",
              "      <td>14378.647796</td>\n",
              "      <td>13225.595171</td>\n",
              "      <td>105</td>\n",
              "    </tr>\n",
              "    <tr>\n",
              "      <th>4.0</th>\n",
              "      <td>6633376.0</td>\n",
              "      <td>36397.0</td>\n",
              "      <td>10366.0</td>\n",
              "      <td>214265.322749</td>\n",
              "      <td>221002.721353</td>\n",
              "      <td>1707</td>\n",
              "    </tr>\n",
              "    <tr>\n",
              "      <th>5.0</th>\n",
              "      <td>53102.0</td>\n",
              "      <td>531.0</td>\n",
              "      <td>177.0</td>\n",
              "      <td>3473.416281</td>\n",
              "      <td>3866.649834</td>\n",
              "      <td>25</td>\n",
              "    </tr>\n",
              "    <tr>\n",
              "      <th>6.0</th>\n",
              "      <td>279015.0</td>\n",
              "      <td>5820.0</td>\n",
              "      <td>1451.0</td>\n",
              "      <td>22128.328845</td>\n",
              "      <td>21726.170139</td>\n",
              "      <td>173</td>\n",
              "    </tr>\n",
              "    <tr>\n",
              "      <th>8.0</th>\n",
              "      <td>255632.0</td>\n",
              "      <td>3150.0</td>\n",
              "      <td>526.0</td>\n",
              "      <td>5984.146869</td>\n",
              "      <td>6461.463742</td>\n",
              "      <td>49</td>\n",
              "    </tr>\n",
              "    <tr>\n",
              "      <th>9.0</th>\n",
              "      <td>2000157.0</td>\n",
              "      <td>8773.0</td>\n",
              "      <td>2275.0</td>\n",
              "      <td>37997.718876</td>\n",
              "      <td>38870.447163</td>\n",
              "      <td>304</td>\n",
              "    </tr>\n",
              "    <tr>\n",
              "      <th>13.0</th>\n",
              "      <td>360261.0</td>\n",
              "      <td>3503.0</td>\n",
              "      <td>647.0</td>\n",
              "      <td>6351.534183</td>\n",
              "      <td>7946.557215</td>\n",
              "      <td>64</td>\n",
              "    </tr>\n",
              "    <tr>\n",
              "      <th>14.0</th>\n",
              "      <td>43859.0</td>\n",
              "      <td>678.0</td>\n",
              "      <td>117.0</td>\n",
              "      <td>1816.976855</td>\n",
              "      <td>1851.925902</td>\n",
              "      <td>14</td>\n",
              "    </tr>\n",
              "    <tr>\n",
              "      <th>15.0</th>\n",
              "      <td>201531.0</td>\n",
              "      <td>886.0</td>\n",
              "      <td>268.0</td>\n",
              "      <td>5912.969947</td>\n",
              "      <td>5916.743522</td>\n",
              "      <td>43</td>\n",
              "    </tr>\n",
              "    <tr>\n",
              "      <th>16.0</th>\n",
              "      <td>42092.0</td>\n",
              "      <td>261.0</td>\n",
              "      <td>84.0</td>\n",
              "      <td>2209.161892</td>\n",
              "      <td>2083.167741</td>\n",
              "      <td>16</td>\n",
              "    </tr>\n",
              "    <tr>\n",
              "      <th>36.0</th>\n",
              "      <td>660043.0</td>\n",
              "      <td>3410.0</td>\n",
              "      <td>811.0</td>\n",
              "      <td>17219.239273</td>\n",
              "      <td>17613.762107</td>\n",
              "      <td>131</td>\n",
              "    </tr>\n",
              "  </tbody>\n",
              "</table>\n",
              "</div>\n",
              "      <button class=\"colab-df-convert\" onclick=\"convertToInteractive('df-6fd74f4a-b057-42f4-a013-a037a1a43baf')\"\n",
              "              title=\"Convert this dataframe to an interactive table.\"\n",
              "              style=\"display:none;\">\n",
              "        \n",
              "  <svg xmlns=\"http://www.w3.org/2000/svg\" height=\"24px\"viewBox=\"0 0 24 24\"\n",
              "       width=\"24px\">\n",
              "    <path d=\"M0 0h24v24H0V0z\" fill=\"none\"/>\n",
              "    <path d=\"M18.56 5.44l.94 2.06.94-2.06 2.06-.94-2.06-.94-.94-2.06-.94 2.06-2.06.94zm-11 1L8.5 8.5l.94-2.06 2.06-.94-2.06-.94L8.5 2.5l-.94 2.06-2.06.94zm10 10l.94 2.06.94-2.06 2.06-.94-2.06-.94-.94-2.06-.94 2.06-2.06.94z\"/><path d=\"M17.41 7.96l-1.37-1.37c-.4-.4-.92-.59-1.43-.59-.52 0-1.04.2-1.43.59L10.3 9.45l-7.72 7.72c-.78.78-.78 2.05 0 2.83L4 21.41c.39.39.9.59 1.41.59.51 0 1.02-.2 1.41-.59l7.78-7.78 2.81-2.81c.8-.78.8-2.07 0-2.86zM5.41 20L4 18.59l7.72-7.72 1.47 1.35L5.41 20z\"/>\n",
              "  </svg>\n",
              "      </button>\n",
              "      \n",
              "  <style>\n",
              "    .colab-df-container {\n",
              "      display:flex;\n",
              "      flex-wrap:wrap;\n",
              "      gap: 12px;\n",
              "    }\n",
              "\n",
              "    .colab-df-convert {\n",
              "      background-color: #E8F0FE;\n",
              "      border: none;\n",
              "      border-radius: 50%;\n",
              "      cursor: pointer;\n",
              "      display: none;\n",
              "      fill: #1967D2;\n",
              "      height: 32px;\n",
              "      padding: 0 0 0 0;\n",
              "      width: 32px;\n",
              "    }\n",
              "\n",
              "    .colab-df-convert:hover {\n",
              "      background-color: #E2EBFA;\n",
              "      box-shadow: 0px 1px 2px rgba(60, 64, 67, 0.3), 0px 1px 3px 1px rgba(60, 64, 67, 0.15);\n",
              "      fill: #174EA6;\n",
              "    }\n",
              "\n",
              "    [theme=dark] .colab-df-convert {\n",
              "      background-color: #3B4455;\n",
              "      fill: #D2E3FC;\n",
              "    }\n",
              "\n",
              "    [theme=dark] .colab-df-convert:hover {\n",
              "      background-color: #434B5C;\n",
              "      box-shadow: 0px 1px 3px 1px rgba(0, 0, 0, 0.15);\n",
              "      filter: drop-shadow(0px 1px 2px rgba(0, 0, 0, 0.3));\n",
              "      fill: #FFFFFF;\n",
              "    }\n",
              "  </style>\n",
              "\n",
              "      <script>\n",
              "        const buttonEl =\n",
              "          document.querySelector('#df-6fd74f4a-b057-42f4-a013-a037a1a43baf button.colab-df-convert');\n",
              "        buttonEl.style.display =\n",
              "          google.colab.kernel.accessAllowed ? 'block' : 'none';\n",
              "\n",
              "        async function convertToInteractive(key) {\n",
              "          const element = document.querySelector('#df-6fd74f4a-b057-42f4-a013-a037a1a43baf');\n",
              "          const dataTable =\n",
              "            await google.colab.kernel.invokeFunction('convertToInteractive',\n",
              "                                                     [key], {});\n",
              "          if (!dataTable) return;\n",
              "\n",
              "          const docLinkHtml = 'Like what you see? Visit the ' +\n",
              "            '<a target=\"_blank\" href=https://colab.research.google.com/notebooks/data_table.ipynb>data table notebook</a>'\n",
              "            + ' to learn more about interactive tables.';\n",
              "          element.innerHTML = '';\n",
              "          dataTable['output_type'] = 'display_data';\n",
              "          await google.colab.output.renderOutput(dataTable, element);\n",
              "          const docLink = document.createElement('div');\n",
              "          docLink.innerHTML = docLinkHtml;\n",
              "          element.appendChild(docLink);\n",
              "        }\n",
              "      </script>\n",
              "    </div>\n",
              "  </div>\n",
              "  "
            ]
          },
          "metadata": {},
          "execution_count": 16
        }
      ],
      "source": [
        "df.groupby('crop_type').sum()"
      ]
    },
    {
      "cell_type": "markdown",
      "id": "tXq1MIEveISx",
      "metadata": {
        "id": "tXq1MIEveISx"
      },
      "source": [
        "### Split the data into train and validation"
      ]
    },
    {
      "cell_type": "code",
      "execution_count": 17,
      "id": "a2602227-d512-4688-8f3d-f4db60a7e8ac",
      "metadata": {
        "id": "a2602227-d512-4688-8f3d-f4db60a7e8ac"
      },
      "outputs": [],
      "source": [
        "val_fraction = 0.2"
      ]
    },
    {
      "cell_type": "code",
      "execution_count": 18,
      "id": "25140a45-6438-481e-8b13-a79af4ee368b",
      "metadata": {
        "id": "25140a45-6438-481e-8b13-a79af4ee368b"
      },
      "outputs": [],
      "source": [
        "df_train = []\n",
        "df_val = []\n",
        "for crop in df['crop_type'].unique():\n",
        "    cur_df = df[df['crop_type'] == crop].reset_index(drop=True)\n",
        "    unique_field_ids = cur_df['field_id'].unique()\n",
        "    ind = np.arange(len(unique_field_ids))\n",
        "    np.random.shuffle(ind)\n",
        "    n_val = int(round(val_fraction * len(ind)))\n",
        "    df_val.append(cur_df[cur_df['field_id'].isin(unique_field_ids[ind[:n_val]])])\n",
        "    df_train.append(cur_df[cur_df['field_id'].isin(unique_field_ids[ind[n_val:]])])\n",
        "df_train = pd.concat(df_train, ignore_index=True)\n",
        "df_val = pd.concat(df_val, ignore_index=True)"
      ]
    },
    {
      "cell_type": "code",
      "execution_count": 19,
      "id": "e39b9856-01db-4d36-9864-b94c5fb6e94c",
      "metadata": {
        "id": "e39b9856-01db-4d36-9864-b94c5fb6e94c"
      },
      "outputs": [],
      "source": [
        "n_fields = np.array(df_train.groupby('crop_type').sum()['count'])\n",
        "weights = np.max(n_fields) / n_fields\n",
        "crop_labels = np.unique(df_train['crop_type'])"
      ]
    },
    {
      "cell_type": "code",
      "execution_count": 20,
      "id": "7ec96419-52ff-4639-af1a-8e67bf9c22f6",
      "metadata": {
        "id": "7ec96419-52ff-4639-af1a-8e67bf9c22f6",
        "outputId": "26f02d43-1e41-4466-be23-cbfebc8d9980",
        "colab": {
          "base_uri": "https://localhost:8080/"
        }
      },
      "outputs": [
        {
          "output_type": "execute_result",
          "data": {
            "text/plain": [
              "(array([ 1.,  2.,  3.,  4.,  5.,  6.,  8.,  9., 13., 14., 15., 16., 36.]),\n",
              " array([  1.        ,   2.05502392,  20.69879518,   1.26230713,\n",
              "         90.42105263,  12.44927536,  44.05128205,   7.04098361,\n",
              "         33.68627451, 156.18181818,  49.08571429, 132.15384615,\n",
              "         16.51923077]))"
            ]
          },
          "metadata": {},
          "execution_count": 20
        }
      ],
      "source": [
        "crop_labels, weights"
      ]
    },
    {
      "cell_type": "code",
      "execution_count": 21,
      "id": "01d13012-267b-4c53-9f8e-43c3bea62c1e",
      "metadata": {
        "id": "01d13012-267b-4c53-9f8e-43c3bea62c1e",
        "outputId": "719e4cd1-6360-4c14-b478-1993b263655f",
        "colab": {
          "base_uri": "https://localhost:8080/"
        }
      },
      "outputs": [
        {
          "output_type": "execute_result",
          "data": {
            "text/plain": [
              "array([4.93493359e-04, 1.00000000e+00, 2.05502392e+00, 2.06987952e+01,\n",
              "       1.26230713e+00, 9.04210526e+01, 1.24492754e+01, 0.00000000e+00,\n",
              "       4.40512821e+01, 7.04098361e+00, 0.00000000e+00, 0.00000000e+00,\n",
              "       0.00000000e+00, 3.36862745e+01, 1.56181818e+02, 4.90857143e+01,\n",
              "       1.32153846e+02, 0.00000000e+00, 0.00000000e+00, 0.00000000e+00,\n",
              "       0.00000000e+00, 0.00000000e+00, 0.00000000e+00, 0.00000000e+00,\n",
              "       0.00000000e+00, 0.00000000e+00, 0.00000000e+00, 0.00000000e+00,\n",
              "       0.00000000e+00, 0.00000000e+00, 0.00000000e+00, 0.00000000e+00,\n",
              "       0.00000000e+00, 0.00000000e+00, 0.00000000e+00, 0.00000000e+00,\n",
              "       1.65192308e+01])"
            ]
          },
          "metadata": {},
          "execution_count": 21
        }
      ],
      "source": [
        "loss_weights = np.zeros(int(crop_labels.max()) + 1)\n",
        "loss_weights[0] = mean_area_fraction\n",
        "loss_weights[list(np.int_(crop_labels))] = weights\n",
        "loss_weights"
      ]
    },
    {
      "cell_type": "markdown",
      "id": "lLqI5XgBOyxE",
      "metadata": {
        "id": "lLqI5XgBOyxE"
      },
      "source": [
        "## Extract labels"
      ]
    },
    {
      "cell_type": "code",
      "execution_count": 22,
      "id": "p9s-spgZO12F",
      "metadata": {
        "id": "p9s-spgZO12F"
      },
      "outputs": [],
      "source": [
        "with open(f'{data_dir}/{train_label_collection}/{train_label_collection}'\n",
        "          f'_{train_data.iloc[0][\"folder_id\"]}/stac.json') as ll:\n",
        "    label_json = json.load(ll)"
      ]
    },
    {
      "cell_type": "code",
      "execution_count": 23,
      "id": "7rjt5idSPvjH",
      "metadata": {
        "colab": {
          "base_uri": "https://localhost:8080/"
        },
        "id": "7rjt5idSPvjH",
        "outputId": "8292499a-a464-40ad-a486-a8aecfe39527"
      },
      "outputs": [
        {
          "output_type": "execute_result",
          "data": {
            "text/plain": [
              "{1: 'Wheat',\n",
              " 2: 'Mustard',\n",
              " 3: 'Lentil',\n",
              " 4: 'No Crop',\n",
              " 6: 'Sugarcane',\n",
              " 8: 'Garlic',\n",
              " 15: 'Potato',\n",
              " 5: 'Green pea',\n",
              " 16: 'Bersem',\n",
              " 14: 'Coriander',\n",
              " 13: 'Gram',\n",
              " 9: 'Maize',\n",
              " 36: 'Rice'}"
            ]
          },
          "metadata": {},
          "execution_count": 23
        }
      ],
      "source": [
        "crop_dict = {asset.get('values')[0]:asset.get('summary') \n",
        "  for asset in label_json['assets']['raster_labels']['file:values']}\n",
        "crop_dict"
      ]
    },
    {
      "cell_type": "markdown",
      "id": "Etysg8Y8m0H5",
      "metadata": {
        "id": "Etysg8Y8m0H5"
      },
      "source": [
        "## Specify Data Loading pipeline"
      ]
    },
    {
      "cell_type": "markdown",
      "id": "GmmFMzALqPcQ",
      "metadata": {
        "id": "GmmFMzALqPcQ"
      },
      "source": [
        "### Specify parameters"
      ]
    },
    {
      "cell_type": "code",
      "execution_count": 24,
      "id": "6bZsIvgBqRer",
      "metadata": {
        "id": "6bZsIvgBqRer"
      },
      "outputs": [],
      "source": [
        "batch_size = 16"
      ]
    },
    {
      "cell_type": "markdown",
      "id": "1EVJPEqbnr_J",
      "metadata": {
        "id": "1EVJPEqbnr_J"
      },
      "source": [
        "### Specify the Dataset"
      ]
    },
    {
      "cell_type": "code",
      "execution_count": 25,
      "id": "2hX7SpwQe0H5",
      "metadata": {
        "id": "2hX7SpwQe0H5"
      },
      "outputs": [],
      "source": [
        "class AgriDataset(torch.utils.data.Dataset):\n",
        "\n",
        "  def __init__(self, df, transforms=None, \n",
        "               band_names=BAND_NAMES, size=64):\n",
        "    self.df = df\n",
        "    self.transforms = transforms\n",
        "    self.band_names = band_names\n",
        "    self.size = size\n",
        "\n",
        "  def __getitem__(self, index):\n",
        "    imgs = []\n",
        "    for band in self.band_names:\n",
        "      source_fn = rf\"{self.df.iloc[index]['source_path']}{band}.tif\"\n",
        "      with rasterio.open(source_fn) as src:\n",
        "        imgs.append(src.read()[0].astype(np.float64)/255.)\n",
        "    with rasterio.open(self.df.iloc[index]['label_path']) as src:\n",
        "      labels = src.read()[0].astype(np.int64)\n",
        "\n",
        "    labels = torch.tensor(labels).unsqueeze(0)\n",
        "    imgs = torch.tensor(np.array(imgs))\n",
        "    \n",
        "    hs = int(self.size/2)\n",
        "    ind = [self.df.iloc[index]['center_y'], self.df.iloc[index]['center_x']]\n",
        "    ind = np.max(np.array([[hs, hs], ind]), axis=0)\n",
        "    ind = np.int_(np.min(np.array([np.array(imgs.shape[-2:])-hs-1, ind]), axis=0))\n",
        "    labels = labels[:, ind[0]-hs:ind[0]+hs, ind[1]-hs:ind[1]+hs]\n",
        "    imgs = imgs[:, ind[0]-hs:ind[0]+hs, ind[1]-hs:ind[1]+hs]\n",
        "      \n",
        "    if self.transforms:\n",
        "      seed = np.random.randint(np.iinfo('int32').max)\n",
        "      torch.manual_seed(seed)\n",
        "      labels = self.transforms(labels)\n",
        "      torch.manual_seed(seed)\n",
        "      imgs = self.transforms(imgs)\n",
        "\n",
        "    return imgs.float(), labels\n",
        "    \n",
        "\n",
        "  def __len__(self):\n",
        "    return len(self.df)"
      ]
    },
    {
      "cell_type": "markdown",
      "id": "nN70MBjGzOUH",
      "metadata": {
        "id": "nN70MBjGzOUH"
      },
      "source": [
        "### Specify transforms"
      ]
    },
    {
      "cell_type": "code",
      "execution_count": 26,
      "id": "4MbR7RMSzRpO",
      "metadata": {
        "id": "4MbR7RMSzRpO"
      },
      "outputs": [],
      "source": [
        "train_transforms = torch_transforms.Compose([\n",
        "        torch_transforms.RandomHorizontalFlip(),\n",
        "        torch_transforms.RandomVerticalFlip(),\n",
        "        torch_transforms.RandomRotation(degrees=30),\n",
        "    ])\n",
        "\n",
        "validation_transforms = torch_transforms.Compose([\n",
        "        torch_transforms.RandomHorizontalFlip(),\n",
        "        torch_transforms.RandomVerticalFlip(),\n",
        "    ])"
      ]
    },
    {
      "cell_type": "markdown",
      "id": "TMWu0HGHLciF",
      "metadata": {
        "id": "TMWu0HGHLciF"
      },
      "source": [
        "### Test the loaders"
      ]
    },
    {
      "cell_type": "code",
      "execution_count": 27,
      "id": "CF_RmPV7mywU",
      "metadata": {
        "id": "CF_RmPV7mywU"
      },
      "outputs": [],
      "source": [
        "np.random.seed(random_seed)\n",
        "dl_train0 = torch.utils.data.DataLoader(\n",
        "    AgriDataset(df_train, size=size,\n",
        "                # transforms=train_transforms\n",
        "                ), \n",
        "    shuffle=False, batch_size=batch_size, num_workers=2\n",
        "    )\n",
        "dl_train = torch.utils.data.DataLoader(\n",
        "    AgriDataset(df_train, size=size,\n",
        "                transforms=train_transforms\n",
        "                ), \n",
        "    shuffle=False, batch_size=batch_size, num_workers=2\n",
        "    )\n",
        "dl_val = torch.utils.data.DataLoader(\n",
        "    AgriDataset(df_val, size=size,\n",
        "                transforms=validation_transforms\n",
        "                ), \n",
        "    shuffle=False, batch_size=batch_size, num_workers=2\n",
        "    )"
      ]
    },
    {
      "cell_type": "code",
      "execution_count": 28,
      "id": "-im5bMRLr8Zq",
      "metadata": {
        "id": "-im5bMRLr8Zq"
      },
      "outputs": [],
      "source": [
        "imgs, labels = next(iter(dl_train))\n",
        "imgs0, labels0 = next(iter(dl_train0))"
      ]
    },
    {
      "cell_type": "code",
      "execution_count": 29,
      "id": "u9iid9I7sPsF",
      "metadata": {
        "colab": {
          "base_uri": "https://localhost:8080/"
        },
        "id": "u9iid9I7sPsF",
        "outputId": "59e2f12b-b844-4f26-c252-eb0b5166c508"
      },
      "outputs": [
        {
          "output_type": "execute_result",
          "data": {
            "text/plain": [
              "(torch.Size([16, 12, 64, 64]), torch.Size([16, 1, 64, 64]))"
            ]
          },
          "metadata": {},
          "execution_count": 29
        }
      ],
      "source": [
        "imgs.shape, labels.shape"
      ]
    },
    {
      "cell_type": "code",
      "execution_count": 30,
      "id": "Q4mkN3NawctR",
      "metadata": {
        "id": "Q4mkN3NawctR"
      },
      "outputs": [],
      "source": [
        "ind = 0\n",
        "s = 3"
      ]
    },
    {
      "cell_type": "code",
      "execution_count": 31,
      "id": "dq3HRgpFydDU",
      "metadata": {
        "colab": {
          "base_uri": "https://localhost:8080/",
          "height": 0
        },
        "id": "dq3HRgpFydDU",
        "outputId": "e94a9163-a300-42e0-f143-15dcc7d60043"
      },
      "outputs": [
        {
          "output_type": "stream",
          "name": "stderr",
          "text": [
            "/usr/local/lib/python3.7/dist-packages/skimage/io/_plugins/matplotlib_plugin.py:150: UserWarning: Low image data range; displaying image with stretched contrast.\n",
            "  lo, hi, cmap = _get_display_range(image)\n"
          ]
        },
        {
          "output_type": "execute_result",
          "data": {
            "text/plain": [
              "<matplotlib.image.AxesImage at 0x7f1c8553c650>"
            ]
          },
          "metadata": {},
          "execution_count": 31
        },
        {
          "output_type": "display_data",
          "data": {
            "text/plain": [
              "<Figure size 216x216 with 2 Axes>"
            ],
            "image/png": "[encoded data removed]"
          },
          "metadata": {
            "needs_background": "light"
          }
        }
      ],
      "source": [
        "plt.figure(figsize=(s,s))\n",
        "io.imshow(labels[ind][0].numpy())"
      ]
    },
    {
      "cell_type": "code",
      "execution_count": 32,
      "id": "juddfw_xIVX_",
      "metadata": {
        "colab": {
          "base_uri": "https://localhost:8080/",
          "height": 0
        },
        "id": "juddfw_xIVX_",
        "outputId": "b47b42ac-d688-4ce5-98e9-fa7e826758b3"
      },
      "outputs": [
        {
          "output_type": "execute_result",
          "data": {
            "text/plain": [
              "<matplotlib.image.AxesImage at 0x7f1c85550e10>"
            ]
          },
          "metadata": {},
          "execution_count": 32
        },
        {
          "output_type": "display_data",
          "data": {
            "text/plain": [
              "<Figure size 216x216 with 2 Axes>"
            ],
            "image/png": "[encoded data removed]"
          },
          "metadata": {
            "needs_background": "light"
          }
        }
      ],
      "source": [
        "plt.figure(figsize=(s,s))\n",
        "io.imshow(labels0[ind][0].numpy())"
      ]
    },
    {
      "cell_type": "code",
      "execution_count": 33,
      "id": "L3ssR_ibGyeG",
      "metadata": {
        "colab": {
          "base_uri": "https://localhost:8080/",
          "height": 0
        },
        "id": "L3ssR_ibGyeG",
        "outputId": "50159eb1-8b29-4e02-fae6-fa2512937b2c"
      },
      "outputs": [
        {
          "output_type": "display_data",
          "data": {
            "text/plain": [
              "<Figure size 864x648 with 12 Axes>"
            ],
            "image/png": "[encoded data removed]"
          },
          "metadata": {
            "needs_background": "light"
          }
        }
      ],
      "source": [
        "fig, axes = plt.subplots(3, 4, figsize=(s*4, s*3))\n",
        "for ax, img in zip(axes.ravel(), imgs[ind]):\n",
        "  plt.sca(ax)\n",
        "  im = img.numpy()\n",
        "  im = im / np.max(im)\n",
        "  io.imshow(mark_boundaries(im, labels[ind][0].numpy(), \n",
        "                            mode='outer'))"
      ]
    },
    {
      "cell_type": "code",
      "execution_count": 34,
      "id": "2zh4jKUlB_85",
      "metadata": {
        "colab": {
          "base_uri": "https://localhost:8080/",
          "height": 0
        },
        "id": "2zh4jKUlB_85",
        "outputId": "bbb2fdb0-3788-46b1-c844-53c23b78ed82"
      },
      "outputs": [
        {
          "output_type": "display_data",
          "data": {
            "text/plain": [
              "<Figure size 864x648 with 13 Axes>"
            ],
            "image/png": "[encoded data removed]"
          },
          "metadata": {
            "needs_background": "light"
          }
        }
      ],
      "source": [
        "fig, axes = plt.subplots(3, 4, figsize=(s*4, s*3))\n",
        "for ax, img in zip(axes.ravel(), imgs0[ind]):\n",
        "  plt.sca(ax)\n",
        "  im = img.numpy()\n",
        "  im = im / np.max(im)\n",
        "  io.imshow(mark_boundaries(im, labels0[ind][0].numpy(), \n",
        "                            mode='outer'))"
      ]
    },
    {
      "cell_type": "markdown",
      "id": "zrW5YsCYLkei",
      "metadata": {
        "id": "zrW5YsCYLkei"
      },
      "source": [
        "### Specify the loaders"
      ]
    },
    {
      "cell_type": "code",
      "execution_count": 35,
      "id": "Oo8c96-bFVaT",
      "metadata": {
        "id": "Oo8c96-bFVaT"
      },
      "outputs": [],
      "source": [
        "np.random.seed(random_seed)\n",
        "\n",
        "dl_train = torch.utils.data.DataLoader(\n",
        "    AgriDataset(df_train, size=size,\n",
        "                transforms=train_transforms\n",
        "                ), \n",
        "    shuffle=True, batch_size=batch_size, num_workers=2\n",
        "    )\n",
        "dl_val = torch.utils.data.DataLoader(\n",
        "    AgriDataset(df_val, size=size,\n",
        "                transforms=validation_transforms\n",
        "                ), \n",
        "    shuffle=False, batch_size=batch_size, num_workers=2\n",
        "    )"
      ]
    },
    {
      "cell_type": "markdown",
      "id": "ewYce_-h3SaV",
      "metadata": {
        "id": "ewYce_-h3SaV"
      },
      "source": [
        "## Specify the training pipeline"
      ]
    },
    {
      "cell_type": "markdown",
      "id": "7BS58Jm4Ak8z",
      "metadata": {
        "id": "7BS58Jm4Ak8z"
      },
      "source": [
        "### Parameters"
      ]
    },
    {
      "cell_type": "code",
      "execution_count": 36,
      "id": "4ylw-WU030cZ",
      "metadata": {
        "id": "4ylw-WU030cZ"
      },
      "outputs": [],
      "source": [
        "out_channels = int(np.max(crop_labels) + 1)\n",
        "n_channels = (32, 64, 128, 256)\n",
        "lr = 0.0001\n",
        "weight_decay = 0.0005\n",
        "factor = 0.1\n",
        "patience = 5\n",
        "epochs = 100"
      ]
    },
    {
      "cell_type": "markdown",
      "id": "0St9WaOKAEYu",
      "metadata": {
        "id": "0St9WaOKAEYu"
      },
      "source": [
        "### Model and loss"
      ]
    },
    {
      "cell_type": "code",
      "execution_count": 37,
      "id": "ys4O47yKLsyo",
      "metadata": {
        "id": "ys4O47yKLsyo"
      },
      "outputs": [],
      "source": [
        "net = UNet(\n",
        "    spatial_dims=2,\n",
        "    in_channels=len(BAND_NAMES),\n",
        "    out_channels=out_channels,\n",
        "    channels=n_channels,\n",
        "    strides=(2,) * (len(n_channels) - 1),\n",
        "    num_res_units=2,\n",
        "    norm=Norm.BATCH,\n",
        ").cuda()"
      ]
    },
    {
      "cell_type": "code",
      "execution_count": 38,
      "id": "z4Xoi7ZkTBDA",
      "metadata": {
        "id": "z4Xoi7ZkTBDA"
      },
      "outputs": [],
      "source": [
        "# class MaskedDiceCELoss(nn.Module):\n",
        "\n",
        "#   def __init__(self, include_background=False, to_onehot_y=True, softmax=True,\n",
        "#                dice_ce_weight=1, dice_mask_weight=1):\n",
        "    \n",
        "#     super().__init__()\n",
        "#     self.diceCELoss = DiceCELoss(include_background=include_background, \n",
        "#                                  to_onehot_y=to_onehot_y, \n",
        "#                                  softmax=softmax)\n",
        "#     self.diceMasked = MaskedDiceLoss(include_background=include_background, \n",
        "#                                        to_onehot_y=to_onehot_y, \n",
        "#                                        softmax=softmax)\n",
        "#     self.dice_ce_weight = dice_ce_weight\n",
        "#     self.dice_mask_weight = dice_mask_weight\n",
        "\n",
        "#   def forward(self, input, target, mask):\n",
        "#     loss1 = self.diceCELoss(input, target)*self.dice_ce_weight \n",
        "#     loss2 = self.diceMasked(input, target, mask)*self.dice_mask_weight\n",
        "#     return loss1 + loss2"
      ]
    },
    {
      "cell_type": "code",
      "execution_count": 39,
      "id": "5_Rns_Wa41hR",
      "metadata": {
        "id": "5_Rns_Wa41hR"
      },
      "outputs": [],
      "source": [
        "# loss_fn = MaskedDiceCELoss(include_background=False, \n",
        "#                            to_onehot_y=True, softmax=True).cuda()\n",
        "loss_fn = DiceCELoss(include_background=False,\n",
        "                     to_onehot_y=True, softmax=True,\n",
        "                     ce_weight=torch.tensor(loss_weights).float()).cuda()\n",
        "metric = DiceMetric(include_background=False, reduction=\"mean\")"
      ]
    },
    {
      "cell_type": "markdown",
      "id": "4Ez9CUTN9cYo",
      "metadata": {
        "id": "4Ez9CUTN9cYo"
      },
      "source": [
        "### Optimizer and scheduler"
      ]
    },
    {
      "cell_type": "code",
      "execution_count": 40,
      "id": "69pKnisc4nyy",
      "metadata": {
        "id": "69pKnisc4nyy"
      },
      "outputs": [],
      "source": [
        "optimizer = torch.optim.AdamW(\n",
        "    params=[{\"params\": [p for p in net.parameters() if p.requires_grad]}],\n",
        "            lr=lr, weight_decay=weight_decay\n",
        "            )"
      ]
    },
    {
      "cell_type": "code",
      "execution_count": 41,
      "id": "k5qk5WcZ4SD1",
      "metadata": {
        "id": "k5qk5WcZ4SD1"
      },
      "outputs": [],
      "source": [
        "lr_scheduler = torch.optim.lr_scheduler.ReduceLROnPlateau(\n",
        "    optimizer, mode='min', factor=factor, patience=patience\n",
        "    )"
      ]
    },
    {
      "cell_type": "markdown",
      "id": "bkfDGGNQBg4G",
      "metadata": {
        "id": "bkfDGGNQBg4G"
      },
      "source": [
        "### Training step"
      ]
    },
    {
      "cell_type": "code",
      "execution_count": 42,
      "id": "xsBjaMOWDh1r",
      "metadata": {
        "id": "xsBjaMOWDh1r"
      },
      "outputs": [],
      "source": [
        "def train_epoch(net, loss_fn, dl_train, optimizer):\n",
        "  net.train()\n",
        "  loss_fn.train()\n",
        "  epoch_loss = 0\n",
        "  step = 0\n",
        "  for imgs, targets in tqdm(dl_train):\n",
        "    step += 1\n",
        "    optimizer.zero_grad()\n",
        "    outputs = net(imgs.cuda())\n",
        "    losses = loss_fn(outputs, targets.cuda())\n",
        "    losses.backward()\n",
        "    optimizer.step()\n",
        "    epoch_loss += losses.item()\n",
        "  epoch_loss /= step\n",
        "  return epoch_loss"
      ]
    },
    {
      "cell_type": "markdown",
      "id": "J04gxD4jBmvj",
      "metadata": {
        "id": "J04gxD4jBmvj"
      },
      "source": [
        "### Validation step"
      ]
    },
    {
      "cell_type": "code",
      "execution_count": 43,
      "id": "NDl3BucGGCVn",
      "metadata": {
        "id": "NDl3BucGGCVn"
      },
      "outputs": [],
      "source": [
        "def validate_epoch(net, loss_fn, dl_val, metric):\n",
        "  net.eval()\n",
        "  loss_fn.eval()\n",
        "  epoch_loss = 0\n",
        "  step = 0\n",
        "\n",
        "  with torch.no_grad():\n",
        "    for imgs, targets in tqdm(dl_val):\n",
        "      step += 1\n",
        "      outputs = net(imgs.cuda())\n",
        "      losses = loss_fn(outputs, targets.cuda())\n",
        "      epoch_loss += losses.item()\n",
        "      metric(outputs.argmax(1).unsqueeze(1), targets.cuda())\n",
        "  epoch_loss /= step\n",
        "  return epoch_loss, metric"
      ]
    },
    {
      "cell_type": "markdown",
      "id": "1Vyi8pDqG_xg",
      "metadata": {
        "id": "1Vyi8pDqG_xg"
      },
      "source": [
        "## Train the model"
      ]
    },
    {
      "cell_type": "code",
      "execution_count": 44,
      "id": "gCL8_nUXG_GS",
      "metadata": {
        "colab": {
          "base_uri": "https://localhost:8080/"
        },
        "id": "gCL8_nUXG_GS",
        "outputId": "c0534076-1e73-4918-d741-266e44b20123"
      },
      "outputs": [
        {
          "output_type": "stream",
          "name": "stderr",
          "text": [
            "100%|██████████| 291/291 [02:23<00:00,  2.03it/s]\n",
            "  0%|          | 0/73 [00:00<?, ?it/s]/usr/local/lib/python3.7/dist-packages/monai/metrics/utils.py:219: UserWarning: y_pred should be a binarized tensor.\n",
            "  warnings.warn(f\"{name} should be a binarized tensor.\")\n",
            "/usr/local/lib/python3.7/dist-packages/monai/metrics/utils.py:219: UserWarning: y should be a binarized tensor.\n",
            "  warnings.warn(f\"{name} should be a binarized tensor.\")\n",
            "100%|██████████| 73/73 [00:31<00:00,  2.29it/s]\n"
          ]
        },
        {
          "output_type": "stream",
          "name": "stdout",
          "text": [
            "epoch 1 training loss: 3.5466; validation loss: 3.0366; Dice metric: 0.1862\n",
            "saving best model\n"
          ]
        },
        {
          "output_type": "stream",
          "name": "stderr",
          "text": [
            "100%|██████████| 291/291 [02:16<00:00,  2.14it/s]\n",
            "100%|██████████| 73/73 [00:31<00:00,  2.29it/s]\n"
          ]
        },
        {
          "output_type": "stream",
          "name": "stdout",
          "text": [
            "epoch 2 training loss: 2.9636; validation loss: 3.0920; Dice metric: 0.1896\n",
            "saving best model\n"
          ]
        },
        {
          "output_type": "stream",
          "name": "stderr",
          "text": [
            "100%|██████████| 291/291 [02:15<00:00,  2.14it/s]\n",
            "100%|██████████| 73/73 [00:31<00:00,  2.30it/s]\n"
          ]
        },
        {
          "output_type": "stream",
          "name": "stdout",
          "text": [
            "epoch 3 training loss: 2.8525; validation loss: 2.8265; Dice metric: 0.1805\n"
          ]
        },
        {
          "output_type": "stream",
          "name": "stderr",
          "text": [
            "100%|██████████| 291/291 [02:17<00:00,  2.12it/s]\n",
            "100%|██████████| 73/73 [00:32<00:00,  2.27it/s]\n"
          ]
        },
        {
          "output_type": "stream",
          "name": "stdout",
          "text": [
            "epoch 4 training loss: 2.8055; validation loss: 2.8648; Dice metric: 0.1940\n",
            "saving best model\n"
          ]
        },
        {
          "output_type": "stream",
          "name": "stderr",
          "text": [
            "100%|██████████| 291/291 [02:18<00:00,  2.10it/s]\n",
            "100%|██████████| 73/73 [00:32<00:00,  2.25it/s]\n"
          ]
        },
        {
          "output_type": "stream",
          "name": "stdout",
          "text": [
            "epoch 5 training loss: 2.7266; validation loss: 3.1616; Dice metric: 0.1801\n"
          ]
        },
        {
          "output_type": "stream",
          "name": "stderr",
          "text": [
            "100%|██████████| 291/291 [02:16<00:00,  2.13it/s]\n",
            "100%|██████████| 73/73 [00:33<00:00,  2.20it/s]\n"
          ]
        },
        {
          "output_type": "stream",
          "name": "stdout",
          "text": [
            "epoch 6 training loss: 2.7360; validation loss: 2.7250; Dice metric: 0.1863\n"
          ]
        },
        {
          "output_type": "stream",
          "name": "stderr",
          "text": [
            "100%|██████████| 291/291 [02:15<00:00,  2.15it/s]\n",
            "100%|██████████| 73/73 [00:31<00:00,  2.29it/s]\n"
          ]
        },
        {
          "output_type": "stream",
          "name": "stdout",
          "text": [
            "epoch 7 training loss: 2.6600; validation loss: 2.6741; Dice metric: 0.1852\n"
          ]
        },
        {
          "output_type": "stream",
          "name": "stderr",
          "text": [
            "100%|██████████| 291/291 [02:16<00:00,  2.13it/s]\n",
            "100%|██████████| 73/73 [00:31<00:00,  2.30it/s]\n"
          ]
        },
        {
          "output_type": "stream",
          "name": "stdout",
          "text": [
            "epoch 8 training loss: 2.6595; validation loss: 2.7834; Dice metric: 0.1809\n"
          ]
        },
        {
          "output_type": "stream",
          "name": "stderr",
          "text": [
            "100%|██████████| 291/291 [02:15<00:00,  2.14it/s]\n",
            "100%|██████████| 73/73 [00:32<00:00,  2.25it/s]\n"
          ]
        },
        {
          "output_type": "stream",
          "name": "stdout",
          "text": [
            "epoch 9 training loss: 2.6587; validation loss: 2.6260; Dice metric: 0.1803\n"
          ]
        },
        {
          "output_type": "stream",
          "name": "stderr",
          "text": [
            "100%|██████████| 291/291 [02:15<00:00,  2.15it/s]\n",
            "100%|██████████| 73/73 [00:31<00:00,  2.30it/s]\n"
          ]
        },
        {
          "output_type": "stream",
          "name": "stdout",
          "text": [
            "epoch 10 training loss: 2.6180; validation loss: 2.7463; Dice metric: 0.1863\n"
          ]
        },
        {
          "output_type": "stream",
          "name": "stderr",
          "text": [
            "100%|██████████| 291/291 [02:16<00:00,  2.13it/s]\n",
            "100%|██████████| 73/73 [00:31<00:00,  2.30it/s]\n"
          ]
        },
        {
          "output_type": "stream",
          "name": "stdout",
          "text": [
            "epoch 11 training loss: 2.5790; validation loss: 2.6704; Dice metric: 0.1864\n"
          ]
        },
        {
          "output_type": "stream",
          "name": "stderr",
          "text": [
            "100%|██████████| 291/291 [02:17<00:00,  2.12it/s]\n",
            "100%|██████████| 73/73 [00:32<00:00,  2.28it/s]\n"
          ]
        },
        {
          "output_type": "stream",
          "name": "stdout",
          "text": [
            "epoch 12 training loss: 2.5932; validation loss: 3.1434; Dice metric: 0.1911\n"
          ]
        },
        {
          "output_type": "stream",
          "name": "stderr",
          "text": [
            "100%|██████████| 291/291 [02:15<00:00,  2.15it/s]\n",
            "100%|██████████| 73/73 [00:31<00:00,  2.30it/s]\n"
          ]
        },
        {
          "output_type": "stream",
          "name": "stdout",
          "text": [
            "epoch 13 training loss: 2.5511; validation loss: 3.0810; Dice metric: 0.1884\n"
          ]
        },
        {
          "output_type": "stream",
          "name": "stderr",
          "text": [
            "100%|██████████| 291/291 [02:16<00:00,  2.13it/s]\n",
            "100%|██████████| 73/73 [00:31<00:00,  2.31it/s]\n"
          ]
        },
        {
          "output_type": "stream",
          "name": "stdout",
          "text": [
            "epoch 14 training loss: 2.5621; validation loss: 2.6364; Dice metric: 0.1872\n"
          ]
        },
        {
          "output_type": "stream",
          "name": "stderr",
          "text": [
            "100%|██████████| 291/291 [02:13<00:00,  2.18it/s]\n",
            "100%|██████████| 73/73 [00:31<00:00,  2.34it/s]\n"
          ]
        },
        {
          "output_type": "stream",
          "name": "stdout",
          "text": [
            "epoch 15 training loss: 2.5351; validation loss: 2.5797; Dice metric: 0.1965\n",
            "saving best model\n"
          ]
        },
        {
          "output_type": "stream",
          "name": "stderr",
          "text": [
            "100%|██████████| 291/291 [02:12<00:00,  2.20it/s]\n",
            "100%|██████████| 73/73 [00:32<00:00,  2.25it/s]\n"
          ]
        },
        {
          "output_type": "stream",
          "name": "stdout",
          "text": [
            "epoch 16 training loss: 2.4977; validation loss: 2.6317; Dice metric: 0.1987\n",
            "saving best model\n"
          ]
        },
        {
          "output_type": "stream",
          "name": "stderr",
          "text": [
            "100%|██████████| 291/291 [02:13<00:00,  2.18it/s]\n",
            "100%|██████████| 73/73 [00:31<00:00,  2.31it/s]\n"
          ]
        },
        {
          "output_type": "stream",
          "name": "stdout",
          "text": [
            "epoch 17 training loss: 2.4786; validation loss: 2.5123; Dice metric: 0.1935\n"
          ]
        },
        {
          "output_type": "stream",
          "name": "stderr",
          "text": [
            "100%|██████████| 291/291 [02:13<00:00,  2.18it/s]\n",
            "100%|██████████| 73/73 [00:31<00:00,  2.30it/s]\n"
          ]
        },
        {
          "output_type": "stream",
          "name": "stdout",
          "text": [
            "epoch 18 training loss: 2.4735; validation loss: 2.5392; Dice metric: 0.1960\n"
          ]
        },
        {
          "output_type": "stream",
          "name": "stderr",
          "text": [
            "100%|██████████| 291/291 [02:13<00:00,  2.17it/s]\n",
            "100%|██████████| 73/73 [00:32<00:00,  2.25it/s]\n"
          ]
        },
        {
          "output_type": "stream",
          "name": "stdout",
          "text": [
            "epoch 19 training loss: 2.4317; validation loss: 2.7411; Dice metric: 0.1909\n"
          ]
        },
        {
          "output_type": "stream",
          "name": "stderr",
          "text": [
            "100%|██████████| 291/291 [02:13<00:00,  2.19it/s]\n",
            "100%|██████████| 73/73 [00:31<00:00,  2.33it/s]\n"
          ]
        },
        {
          "output_type": "stream",
          "name": "stdout",
          "text": [
            "epoch 20 training loss: 2.4389; validation loss: 2.4654; Dice metric: 0.1904\n"
          ]
        },
        {
          "output_type": "stream",
          "name": "stderr",
          "text": [
            "100%|██████████| 291/291 [02:13<00:00,  2.17it/s]\n",
            "100%|██████████| 73/73 [00:31<00:00,  2.34it/s]\n"
          ]
        },
        {
          "output_type": "stream",
          "name": "stdout",
          "text": [
            "epoch 21 training loss: 2.3922; validation loss: 2.4765; Dice metric: 0.2003\n",
            "saving best model\n"
          ]
        },
        {
          "output_type": "stream",
          "name": "stderr",
          "text": [
            "100%|██████████| 291/291 [02:14<00:00,  2.17it/s]\n",
            "100%|██████████| 73/73 [00:31<00:00,  2.34it/s]\n"
          ]
        },
        {
          "output_type": "stream",
          "name": "stdout",
          "text": [
            "epoch 22 training loss: 2.4086; validation loss: 2.4937; Dice metric: 0.1976\n"
          ]
        },
        {
          "output_type": "stream",
          "name": "stderr",
          "text": [
            "100%|██████████| 291/291 [02:13<00:00,  2.19it/s]\n",
            "100%|██████████| 73/73 [00:31<00:00,  2.34it/s]\n"
          ]
        },
        {
          "output_type": "stream",
          "name": "stdout",
          "text": [
            "epoch 23 training loss: 2.3547; validation loss: 2.4883; Dice metric: 0.2000\n"
          ]
        },
        {
          "output_type": "stream",
          "name": "stderr",
          "text": [
            "100%|██████████| 291/291 [02:14<00:00,  2.17it/s]\n",
            "100%|██████████| 73/73 [00:31<00:00,  2.34it/s]\n"
          ]
        },
        {
          "output_type": "stream",
          "name": "stdout",
          "text": [
            "epoch 24 training loss: 2.3655; validation loss: 2.4550; Dice metric: 0.2034\n",
            "saving best model\n"
          ]
        },
        {
          "output_type": "stream",
          "name": "stderr",
          "text": [
            "100%|██████████| 291/291 [02:14<00:00,  2.16it/s]\n",
            "100%|██████████| 73/73 [00:31<00:00,  2.32it/s]\n"
          ]
        },
        {
          "output_type": "stream",
          "name": "stdout",
          "text": [
            "epoch 25 training loss: 2.2994; validation loss: 2.5963; Dice metric: 0.1958\n"
          ]
        },
        {
          "output_type": "stream",
          "name": "stderr",
          "text": [
            "100%|██████████| 291/291 [02:13<00:00,  2.18it/s]\n",
            "100%|██████████| 73/73 [00:31<00:00,  2.34it/s]\n"
          ]
        },
        {
          "output_type": "stream",
          "name": "stdout",
          "text": [
            "epoch 26 training loss: 2.3043; validation loss: 2.5135; Dice metric: 0.1983\n"
          ]
        },
        {
          "output_type": "stream",
          "name": "stderr",
          "text": [
            "100%|██████████| 291/291 [02:14<00:00,  2.17it/s]\n",
            "100%|██████████| 73/73 [00:31<00:00,  2.33it/s]\n"
          ]
        },
        {
          "output_type": "stream",
          "name": "stdout",
          "text": [
            "epoch 27 training loss: 2.2813; validation loss: 2.4236; Dice metric: 0.2046\n",
            "saving best model\n"
          ]
        },
        {
          "output_type": "stream",
          "name": "stderr",
          "text": [
            "100%|██████████| 291/291 [02:14<00:00,  2.16it/s]\n",
            "100%|██████████| 73/73 [00:31<00:00,  2.33it/s]\n"
          ]
        },
        {
          "output_type": "stream",
          "name": "stdout",
          "text": [
            "epoch 28 training loss: 2.2669; validation loss: 2.4993; Dice metric: 0.2069\n",
            "saving best model\n"
          ]
        },
        {
          "output_type": "stream",
          "name": "stderr",
          "text": [
            "100%|██████████| 291/291 [02:13<00:00,  2.18it/s]\n",
            "100%|██████████| 73/73 [00:32<00:00,  2.25it/s]\n"
          ]
        },
        {
          "output_type": "stream",
          "name": "stdout",
          "text": [
            "epoch 29 training loss: 2.2757; validation loss: 2.3435; Dice metric: 0.2106\n",
            "saving best model\n"
          ]
        },
        {
          "output_type": "stream",
          "name": "stderr",
          "text": [
            "100%|██████████| 291/291 [02:13<00:00,  2.19it/s]\n",
            "100%|██████████| 73/73 [00:31<00:00,  2.33it/s]\n"
          ]
        },
        {
          "output_type": "stream",
          "name": "stdout",
          "text": [
            "epoch 30 training loss: 2.2155; validation loss: 2.5676; Dice metric: 0.2080\n"
          ]
        },
        {
          "output_type": "stream",
          "name": "stderr",
          "text": [
            "100%|██████████| 291/291 [02:14<00:00,  2.17it/s]\n",
            "100%|██████████| 73/73 [00:31<00:00,  2.34it/s]\n"
          ]
        },
        {
          "output_type": "stream",
          "name": "stdout",
          "text": [
            "epoch 31 training loss: 2.2541; validation loss: 2.9007; Dice metric: 0.2107\n",
            "saving best model\n"
          ]
        },
        {
          "output_type": "stream",
          "name": "stderr",
          "text": [
            "100%|██████████| 291/291 [02:13<00:00,  2.18it/s]\n",
            "100%|██████████| 73/73 [00:32<00:00,  2.24it/s]\n"
          ]
        },
        {
          "output_type": "stream",
          "name": "stdout",
          "text": [
            "epoch 32 training loss: 2.2057; validation loss: 2.6886; Dice metric: 0.1977\n"
          ]
        },
        {
          "output_type": "stream",
          "name": "stderr",
          "text": [
            "100%|██████████| 291/291 [02:13<00:00,  2.17it/s]\n",
            "100%|██████████| 73/73 [00:31<00:00,  2.33it/s]\n"
          ]
        },
        {
          "output_type": "stream",
          "name": "stdout",
          "text": [
            "epoch 33 training loss: 2.1984; validation loss: 2.6181; Dice metric: 0.2006\n"
          ]
        },
        {
          "output_type": "stream",
          "name": "stderr",
          "text": [
            "100%|██████████| 291/291 [02:14<00:00,  2.17it/s]\n",
            "100%|██████████| 73/73 [00:31<00:00,  2.33it/s]\n"
          ]
        },
        {
          "output_type": "stream",
          "name": "stdout",
          "text": [
            "epoch 34 training loss: 2.1824; validation loss: 2.5322; Dice metric: 0.2008\n"
          ]
        },
        {
          "output_type": "stream",
          "name": "stderr",
          "text": [
            "100%|██████████| 291/291 [02:13<00:00,  2.17it/s]\n",
            "100%|██████████| 73/73 [00:31<00:00,  2.34it/s]\n"
          ]
        },
        {
          "output_type": "stream",
          "name": "stdout",
          "text": [
            "epoch 35 training loss: 2.1325; validation loss: 2.4646; Dice metric: 0.2009\n"
          ]
        },
        {
          "output_type": "stream",
          "name": "stderr",
          "text": [
            "100%|██████████| 291/291 [02:15<00:00,  2.14it/s]\n",
            "100%|██████████| 73/73 [00:31<00:00,  2.29it/s]\n"
          ]
        },
        {
          "output_type": "stream",
          "name": "stdout",
          "text": [
            "epoch 36 training loss: 2.0739; validation loss: 2.1393; Dice metric: 0.2091\n"
          ]
        },
        {
          "output_type": "stream",
          "name": "stderr",
          "text": [
            "100%|██████████| 291/291 [02:16<00:00,  2.13it/s]\n",
            "100%|██████████| 73/73 [00:31<00:00,  2.32it/s]\n"
          ]
        },
        {
          "output_type": "stream",
          "name": "stdout",
          "text": [
            "epoch 37 training loss: 2.0521; validation loss: 2.1150; Dice metric: 0.2136\n",
            "saving best model\n"
          ]
        },
        {
          "output_type": "stream",
          "name": "stderr",
          "text": [
            "100%|██████████| 291/291 [02:13<00:00,  2.17it/s]\n",
            "100%|██████████| 73/73 [00:31<00:00,  2.33it/s]\n"
          ]
        },
        {
          "output_type": "stream",
          "name": "stdout",
          "text": [
            "epoch 38 training loss: 2.0117; validation loss: 2.1145; Dice metric: 0.2082\n"
          ]
        },
        {
          "output_type": "stream",
          "name": "stderr",
          "text": [
            "100%|██████████| 291/291 [02:13<00:00,  2.19it/s]\n",
            "100%|██████████| 73/73 [00:33<00:00,  2.21it/s]\n"
          ]
        },
        {
          "output_type": "stream",
          "name": "stdout",
          "text": [
            "epoch 39 training loss: 1.9984; validation loss: 2.1267; Dice metric: 0.2085\n"
          ]
        },
        {
          "output_type": "stream",
          "name": "stderr",
          "text": [
            "100%|██████████| 291/291 [02:13<00:00,  2.19it/s]\n",
            "100%|██████████| 73/73 [00:31<00:00,  2.31it/s]\n"
          ]
        },
        {
          "output_type": "stream",
          "name": "stdout",
          "text": [
            "epoch 40 training loss: 2.0129; validation loss: 2.1156; Dice metric: 0.2121\n"
          ]
        },
        {
          "output_type": "stream",
          "name": "stderr",
          "text": [
            "100%|██████████| 291/291 [02:15<00:00,  2.15it/s]\n",
            "100%|██████████| 73/73 [00:31<00:00,  2.31it/s]\n"
          ]
        },
        {
          "output_type": "stream",
          "name": "stdout",
          "text": [
            "epoch 41 training loss: 1.9924; validation loss: 2.1503; Dice metric: 0.2083\n"
          ]
        },
        {
          "output_type": "stream",
          "name": "stderr",
          "text": [
            "100%|██████████| 291/291 [02:14<00:00,  2.17it/s]\n",
            "100%|██████████| 73/73 [00:31<00:00,  2.33it/s]\n"
          ]
        },
        {
          "output_type": "stream",
          "name": "stdout",
          "text": [
            "epoch 42 training loss: 1.9971; validation loss: 2.1072; Dice metric: 0.2110\n"
          ]
        },
        {
          "output_type": "stream",
          "name": "stderr",
          "text": [
            "100%|██████████| 291/291 [02:12<00:00,  2.19it/s]\n",
            "100%|██████████| 73/73 [00:31<00:00,  2.33it/s]\n"
          ]
        },
        {
          "output_type": "stream",
          "name": "stdout",
          "text": [
            "epoch 43 training loss: 1.9844; validation loss: 2.0883; Dice metric: 0.2098\n"
          ]
        },
        {
          "output_type": "stream",
          "name": "stderr",
          "text": [
            "100%|██████████| 291/291 [02:16<00:00,  2.13it/s]\n",
            "100%|██████████| 73/73 [00:32<00:00,  2.26it/s]\n"
          ]
        },
        {
          "output_type": "stream",
          "name": "stdout",
          "text": [
            "epoch 44 training loss: 1.9909; validation loss: 2.0876; Dice metric: 0.2114\n"
          ]
        },
        {
          "output_type": "stream",
          "name": "stderr",
          "text": [
            "100%|██████████| 291/291 [02:17<00:00,  2.11it/s]\n",
            "100%|██████████| 73/73 [00:32<00:00,  2.28it/s]\n"
          ]
        },
        {
          "output_type": "stream",
          "name": "stdout",
          "text": [
            "epoch 45 training loss: 1.9646; validation loss: 2.0975; Dice metric: 0.2084\n"
          ]
        },
        {
          "output_type": "stream",
          "name": "stderr",
          "text": [
            "100%|██████████| 291/291 [02:14<00:00,  2.17it/s]\n",
            "100%|██████████| 73/73 [00:31<00:00,  2.29it/s]\n"
          ]
        },
        {
          "output_type": "stream",
          "name": "stdout",
          "text": [
            "epoch 46 training loss: 1.9776; validation loss: 2.0909; Dice metric: 0.2112\n"
          ]
        },
        {
          "output_type": "stream",
          "name": "stderr",
          "text": [
            "100%|██████████| 291/291 [02:15<00:00,  2.15it/s]\n",
            "100%|██████████| 73/73 [00:31<00:00,  2.31it/s]\n"
          ]
        },
        {
          "output_type": "stream",
          "name": "stdout",
          "text": [
            "epoch 47 training loss: 1.9905; validation loss: 2.0741; Dice metric: 0.2123\n"
          ]
        },
        {
          "output_type": "stream",
          "name": "stderr",
          "text": [
            "100%|██████████| 291/291 [02:14<00:00,  2.16it/s]\n",
            "100%|██████████| 73/73 [00:31<00:00,  2.29it/s]\n"
          ]
        },
        {
          "output_type": "stream",
          "name": "stdout",
          "text": [
            "epoch 48 training loss: 1.9635; validation loss: 2.0786; Dice metric: 0.2136\n",
            "saving best model\n"
          ]
        },
        {
          "output_type": "stream",
          "name": "stderr",
          "text": [
            "100%|██████████| 291/291 [02:15<00:00,  2.14it/s]\n",
            "100%|██████████| 73/73 [00:31<00:00,  2.31it/s]\n"
          ]
        },
        {
          "output_type": "stream",
          "name": "stdout",
          "text": [
            "epoch 49 training loss: 1.9630; validation loss: 2.0798; Dice metric: 0.2142\n",
            "saving best model\n"
          ]
        },
        {
          "output_type": "stream",
          "name": "stderr",
          "text": [
            "100%|██████████| 291/291 [02:15<00:00,  2.14it/s]\n",
            "100%|██████████| 73/73 [00:33<00:00,  2.21it/s]\n"
          ]
        },
        {
          "output_type": "stream",
          "name": "stdout",
          "text": [
            "epoch 50 training loss: 1.9714; validation loss: 2.0604; Dice metric: 0.2103\n"
          ]
        },
        {
          "output_type": "stream",
          "name": "stderr",
          "text": [
            "100%|██████████| 291/291 [02:14<00:00,  2.16it/s]\n",
            "100%|██████████| 73/73 [00:31<00:00,  2.29it/s]\n"
          ]
        },
        {
          "output_type": "stream",
          "name": "stdout",
          "text": [
            "epoch 51 training loss: 1.9268; validation loss: 2.0472; Dice metric: 0.2150\n",
            "saving best model\n"
          ]
        },
        {
          "output_type": "stream",
          "name": "stderr",
          "text": [
            "100%|██████████| 291/291 [02:15<00:00,  2.15it/s]\n",
            "100%|██████████| 73/73 [00:32<00:00,  2.28it/s]\n"
          ]
        },
        {
          "output_type": "stream",
          "name": "stdout",
          "text": [
            "epoch 52 training loss: 1.9514; validation loss: 2.0820; Dice metric: 0.2138\n"
          ]
        },
        {
          "output_type": "stream",
          "name": "stderr",
          "text": [
            "100%|██████████| 291/291 [02:16<00:00,  2.13it/s]\n",
            "100%|██████████| 73/73 [00:31<00:00,  2.30it/s]\n"
          ]
        },
        {
          "output_type": "stream",
          "name": "stdout",
          "text": [
            "epoch 53 training loss: 1.9386; validation loss: 2.0512; Dice metric: 0.2094\n"
          ]
        },
        {
          "output_type": "stream",
          "name": "stderr",
          "text": [
            "100%|██████████| 291/291 [02:15<00:00,  2.15it/s]\n",
            "100%|██████████| 73/73 [00:32<00:00,  2.22it/s]\n"
          ]
        },
        {
          "output_type": "stream",
          "name": "stdout",
          "text": [
            "epoch 54 training loss: 1.9332; validation loss: 2.0456; Dice metric: 0.2130\n"
          ]
        },
        {
          "output_type": "stream",
          "name": "stderr",
          "text": [
            "100%|██████████| 291/291 [02:15<00:00,  2.15it/s]\n",
            "100%|██████████| 73/73 [00:31<00:00,  2.29it/s]\n"
          ]
        },
        {
          "output_type": "stream",
          "name": "stdout",
          "text": [
            "epoch 55 training loss: 1.9196; validation loss: 2.0422; Dice metric: 0.2143\n"
          ]
        },
        {
          "output_type": "stream",
          "name": "stderr",
          "text": [
            "100%|██████████| 291/291 [02:16<00:00,  2.13it/s]\n",
            "100%|██████████| 73/73 [00:31<00:00,  2.30it/s]\n"
          ]
        },
        {
          "output_type": "stream",
          "name": "stdout",
          "text": [
            "epoch 56 training loss: 1.9194; validation loss: 2.0418; Dice metric: 0.2122\n"
          ]
        },
        {
          "output_type": "stream",
          "name": "stderr",
          "text": [
            "100%|██████████| 291/291 [02:16<00:00,  2.13it/s]\n",
            "100%|██████████| 73/73 [00:31<00:00,  2.29it/s]\n"
          ]
        },
        {
          "output_type": "stream",
          "name": "stdout",
          "text": [
            "epoch 57 training loss: 1.9254; validation loss: 2.0290; Dice metric: 0.2131\n"
          ]
        },
        {
          "output_type": "stream",
          "name": "stderr",
          "text": [
            "100%|██████████| 291/291 [02:14<00:00,  2.16it/s]\n",
            "100%|██████████| 73/73 [00:31<00:00,  2.30it/s]\n"
          ]
        },
        {
          "output_type": "stream",
          "name": "stdout",
          "text": [
            "epoch 58 training loss: 1.9005; validation loss: 2.0102; Dice metric: 0.2133\n"
          ]
        },
        {
          "output_type": "stream",
          "name": "stderr",
          "text": [
            "100%|██████████| 291/291 [02:16<00:00,  2.14it/s]\n",
            "100%|██████████| 73/73 [00:31<00:00,  2.29it/s]\n"
          ]
        },
        {
          "output_type": "stream",
          "name": "stdout",
          "text": [
            "epoch 59 training loss: 1.8810; validation loss: 1.9938; Dice metric: 0.2164\n",
            "saving best model\n"
          ]
        },
        {
          "output_type": "stream",
          "name": "stderr",
          "text": [
            "100%|██████████| 291/291 [02:15<00:00,  2.15it/s]\n",
            "100%|██████████| 73/73 [00:31<00:00,  2.31it/s]\n"
          ]
        },
        {
          "output_type": "stream",
          "name": "stdout",
          "text": [
            "epoch 60 training loss: 1.8015; validation loss: 1.9122; Dice metric: 0.2149\n"
          ]
        },
        {
          "output_type": "stream",
          "name": "stderr",
          "text": [
            "100%|██████████| 291/291 [02:16<00:00,  2.13it/s]\n",
            "100%|██████████| 73/73 [00:31<00:00,  2.29it/s]\n"
          ]
        },
        {
          "output_type": "stream",
          "name": "stdout",
          "text": [
            "epoch 61 training loss: 1.6511; validation loss: 1.7392; Dice metric: 0.2175\n",
            "saving best model\n"
          ]
        },
        {
          "output_type": "stream",
          "name": "stderr",
          "text": [
            "100%|██████████| 291/291 [02:15<00:00,  2.15it/s]\n",
            "100%|██████████| 73/73 [00:31<00:00,  2.29it/s]\n"
          ]
        },
        {
          "output_type": "stream",
          "name": "stdout",
          "text": [
            "epoch 62 training loss: 1.5031; validation loss: 1.5631; Dice metric: 0.2191\n",
            "saving best model\n"
          ]
        },
        {
          "output_type": "stream",
          "name": "stderr",
          "text": [
            "100%|██████████| 291/291 [02:15<00:00,  2.14it/s]\n",
            "100%|██████████| 73/73 [00:31<00:00,  2.32it/s]\n"
          ]
        },
        {
          "output_type": "stream",
          "name": "stdout",
          "text": [
            "epoch 63 training loss: 1.3684; validation loss: 1.4608; Dice metric: 0.2207\n",
            "saving best model\n"
          ]
        },
        {
          "output_type": "stream",
          "name": "stderr",
          "text": [
            "100%|██████████| 291/291 [02:16<00:00,  2.13it/s]\n",
            "100%|██████████| 73/73 [00:31<00:00,  2.31it/s]\n"
          ]
        },
        {
          "output_type": "stream",
          "name": "stdout",
          "text": [
            "epoch 64 training loss: 1.3110; validation loss: 1.4376; Dice metric: 0.2180\n"
          ]
        },
        {
          "output_type": "stream",
          "name": "stderr",
          "text": [
            "100%|██████████| 291/291 [02:14<00:00,  2.16it/s]\n",
            "100%|██████████| 73/73 [00:33<00:00,  2.20it/s]\n"
          ]
        },
        {
          "output_type": "stream",
          "name": "stdout",
          "text": [
            "epoch 65 training loss: 1.3102; validation loss: 1.4017; Dice metric: 0.2151\n"
          ]
        },
        {
          "output_type": "stream",
          "name": "stderr",
          "text": [
            "100%|██████████| 291/291 [02:20<00:00,  2.06it/s]\n",
            "100%|██████████| 73/73 [00:32<00:00,  2.22it/s]\n"
          ]
        },
        {
          "output_type": "stream",
          "name": "stdout",
          "text": [
            "epoch 66 training loss: 1.2621; validation loss: 1.4072; Dice metric: 0.2187\n"
          ]
        },
        {
          "output_type": "stream",
          "name": "stderr",
          "text": [
            "100%|██████████| 291/291 [02:16<00:00,  2.13it/s]\n",
            "100%|██████████| 73/73 [00:31<00:00,  2.28it/s]\n"
          ]
        },
        {
          "output_type": "stream",
          "name": "stdout",
          "text": [
            "epoch 67 training loss: 1.2553; validation loss: 1.4030; Dice metric: 0.2169\n"
          ]
        },
        {
          "output_type": "stream",
          "name": "stderr",
          "text": [
            "100%|██████████| 291/291 [02:15<00:00,  2.15it/s]\n",
            "100%|██████████| 73/73 [00:32<00:00,  2.28it/s]\n"
          ]
        },
        {
          "output_type": "stream",
          "name": "stdout",
          "text": [
            "epoch 68 training loss: 1.2472; validation loss: 1.4122; Dice metric: 0.2194\n"
          ]
        },
        {
          "output_type": "stream",
          "name": "stderr",
          "text": [
            "100%|██████████| 291/291 [02:15<00:00,  2.15it/s]\n",
            "100%|██████████| 73/73 [00:31<00:00,  2.29it/s]\n"
          ]
        },
        {
          "output_type": "stream",
          "name": "stdout",
          "text": [
            "epoch 69 training loss: 1.2495; validation loss: 1.3767; Dice metric: 0.2175\n"
          ]
        },
        {
          "output_type": "stream",
          "name": "stderr",
          "text": [
            "100%|██████████| 291/291 [02:14<00:00,  2.16it/s]\n",
            "100%|██████████| 73/73 [00:31<00:00,  2.29it/s]\n"
          ]
        },
        {
          "output_type": "stream",
          "name": "stdout",
          "text": [
            "epoch 70 training loss: 1.2520; validation loss: 1.3894; Dice metric: 0.2183\n"
          ]
        },
        {
          "output_type": "stream",
          "name": "stderr",
          "text": [
            "100%|██████████| 291/291 [02:16<00:00,  2.12it/s]\n",
            "100%|██████████| 73/73 [00:31<00:00,  2.31it/s]\n"
          ]
        },
        {
          "output_type": "stream",
          "name": "stdout",
          "text": [
            "epoch 71 training loss: 1.2554; validation loss: 1.3550; Dice metric: 0.2217\n",
            "saving best model\n"
          ]
        },
        {
          "output_type": "stream",
          "name": "stderr",
          "text": [
            "100%|██████████| 291/291 [02:16<00:00,  2.13it/s]\n",
            "100%|██████████| 73/73 [00:31<00:00,  2.31it/s]\n"
          ]
        },
        {
          "output_type": "stream",
          "name": "stdout",
          "text": [
            "epoch 72 training loss: 1.2393; validation loss: 1.3711; Dice metric: 0.2134\n"
          ]
        },
        {
          "output_type": "stream",
          "name": "stderr",
          "text": [
            "100%|██████████| 291/291 [02:16<00:00,  2.14it/s]\n",
            "100%|██████████| 73/73 [00:31<00:00,  2.29it/s]\n"
          ]
        },
        {
          "output_type": "stream",
          "name": "stdout",
          "text": [
            "epoch 73 training loss: 1.2257; validation loss: 1.3623; Dice metric: 0.2181\n"
          ]
        },
        {
          "output_type": "stream",
          "name": "stderr",
          "text": [
            "100%|██████████| 291/291 [02:15<00:00,  2.15it/s]\n",
            "100%|██████████| 73/73 [00:31<00:00,  2.30it/s]\n"
          ]
        },
        {
          "output_type": "stream",
          "name": "stdout",
          "text": [
            "epoch 74 training loss: 1.2392; validation loss: 1.3937; Dice metric: 0.2150\n"
          ]
        },
        {
          "output_type": "stream",
          "name": "stderr",
          "text": [
            "100%|██████████| 291/291 [02:16<00:00,  2.13it/s]\n",
            "100%|██████████| 73/73 [00:31<00:00,  2.30it/s]\n"
          ]
        },
        {
          "output_type": "stream",
          "name": "stdout",
          "text": [
            "epoch 75 training loss: 1.2396; validation loss: 1.3704; Dice metric: 0.2180\n"
          ]
        },
        {
          "output_type": "stream",
          "name": "stderr",
          "text": [
            "100%|██████████| 291/291 [02:16<00:00,  2.13it/s]\n",
            "100%|██████████| 73/73 [00:31<00:00,  2.29it/s]\n"
          ]
        },
        {
          "output_type": "stream",
          "name": "stdout",
          "text": [
            "epoch 76 training loss: 1.2135; validation loss: 1.3508; Dice metric: 0.2184\n"
          ]
        },
        {
          "output_type": "stream",
          "name": "stderr",
          "text": [
            "100%|██████████| 291/291 [02:15<00:00,  2.14it/s]\n",
            "100%|██████████| 73/73 [00:31<00:00,  2.29it/s]\n"
          ]
        },
        {
          "output_type": "stream",
          "name": "stdout",
          "text": [
            "epoch 77 training loss: 1.2067; validation loss: 1.3584; Dice metric: 0.2138\n"
          ]
        },
        {
          "output_type": "stream",
          "name": "stderr",
          "text": [
            "100%|██████████| 291/291 [02:16<00:00,  2.14it/s]\n",
            "100%|██████████| 73/73 [00:33<00:00,  2.21it/s]\n"
          ]
        },
        {
          "output_type": "stream",
          "name": "stdout",
          "text": [
            "epoch 78 training loss: 1.2119; validation loss: 1.3702; Dice metric: 0.2190\n"
          ]
        },
        {
          "output_type": "stream",
          "name": "stderr",
          "text": [
            "100%|██████████| 291/291 [02:15<00:00,  2.15it/s]\n",
            "100%|██████████| 73/73 [00:32<00:00,  2.27it/s]\n"
          ]
        },
        {
          "output_type": "stream",
          "name": "stdout",
          "text": [
            "epoch 79 training loss: 1.1987; validation loss: 1.3491; Dice metric: 0.2180\n"
          ]
        },
        {
          "output_type": "stream",
          "name": "stderr",
          "text": [
            "100%|██████████| 291/291 [02:16<00:00,  2.13it/s]\n",
            "100%|██████████| 73/73 [00:31<00:00,  2.30it/s]\n"
          ]
        },
        {
          "output_type": "stream",
          "name": "stdout",
          "text": [
            "epoch 80 training loss: 1.2031; validation loss: 1.3505; Dice metric: 0.2242\n",
            "saving best model\n"
          ]
        },
        {
          "output_type": "stream",
          "name": "stderr",
          "text": [
            "100%|██████████| 291/291 [02:16<00:00,  2.14it/s]\n",
            "100%|██████████| 73/73 [00:31<00:00,  2.30it/s]\n"
          ]
        },
        {
          "output_type": "stream",
          "name": "stdout",
          "text": [
            "epoch 81 training loss: 1.2147; validation loss: 1.3435; Dice metric: 0.2181\n"
          ]
        },
        {
          "output_type": "stream",
          "name": "stderr",
          "text": [
            "100%|██████████| 291/291 [02:14<00:00,  2.16it/s]\n",
            "100%|██████████| 73/73 [00:32<00:00,  2.21it/s]\n"
          ]
        },
        {
          "output_type": "stream",
          "name": "stdout",
          "text": [
            "epoch 82 training loss: 1.1849; validation loss: 1.3422; Dice metric: 0.2192\n"
          ]
        },
        {
          "output_type": "stream",
          "name": "stderr",
          "text": [
            "100%|██████████| 291/291 [02:15<00:00,  2.14it/s]\n",
            "100%|██████████| 73/73 [00:31<00:00,  2.29it/s]\n"
          ]
        },
        {
          "output_type": "stream",
          "name": "stdout",
          "text": [
            "epoch 83 training loss: 1.1876; validation loss: 1.3472; Dice metric: 0.2168\n"
          ]
        },
        {
          "output_type": "stream",
          "name": "stderr",
          "text": [
            "100%|██████████| 291/291 [02:16<00:00,  2.13it/s]\n",
            "100%|██████████| 73/73 [00:31<00:00,  2.30it/s]\n"
          ]
        },
        {
          "output_type": "stream",
          "name": "stdout",
          "text": [
            "epoch 84 training loss: 1.1788; validation loss: 1.3385; Dice metric: 0.2174\n"
          ]
        },
        {
          "output_type": "stream",
          "name": "stderr",
          "text": [
            "100%|██████████| 291/291 [02:16<00:00,  2.13it/s]\n",
            "100%|██████████| 73/73 [00:31<00:00,  2.30it/s]\n"
          ]
        },
        {
          "output_type": "stream",
          "name": "stdout",
          "text": [
            "epoch 85 training loss: 1.1830; validation loss: 1.3332; Dice metric: 0.2124\n"
          ]
        },
        {
          "output_type": "stream",
          "name": "stderr",
          "text": [
            "100%|██████████| 291/291 [02:16<00:00,  2.13it/s]\n",
            "100%|██████████| 73/73 [00:31<00:00,  2.30it/s]\n"
          ]
        },
        {
          "output_type": "stream",
          "name": "stdout",
          "text": [
            "epoch 86 training loss: 1.1581; validation loss: 1.3379; Dice metric: 0.2158\n"
          ]
        },
        {
          "output_type": "stream",
          "name": "stderr",
          "text": [
            "100%|██████████| 291/291 [02:14<00:00,  2.16it/s]\n",
            "100%|██████████| 73/73 [00:31<00:00,  2.31it/s]\n"
          ]
        },
        {
          "output_type": "stream",
          "name": "stdout",
          "text": [
            "epoch 87 training loss: 1.1674; validation loss: 1.3261; Dice metric: 0.2197\n"
          ]
        },
        {
          "output_type": "stream",
          "name": "stderr",
          "text": [
            "100%|██████████| 291/291 [02:15<00:00,  2.14it/s]\n",
            "100%|██████████| 73/73 [00:31<00:00,  2.30it/s]\n"
          ]
        },
        {
          "output_type": "stream",
          "name": "stdout",
          "text": [
            "epoch 88 training loss: 1.1722; validation loss: 1.3260; Dice metric: 0.2205\n"
          ]
        },
        {
          "output_type": "stream",
          "name": "stderr",
          "text": [
            "100%|██████████| 291/291 [02:15<00:00,  2.14it/s]\n",
            "100%|██████████| 73/73 [00:31<00:00,  2.30it/s]\n"
          ]
        },
        {
          "output_type": "stream",
          "name": "stdout",
          "text": [
            "epoch 89 training loss: 1.1582; validation loss: 1.3208; Dice metric: 0.2197\n"
          ]
        },
        {
          "output_type": "stream",
          "name": "stderr",
          "text": [
            "100%|██████████| 291/291 [02:16<00:00,  2.12it/s]\n",
            "100%|██████████| 73/73 [00:31<00:00,  2.28it/s]\n"
          ]
        },
        {
          "output_type": "stream",
          "name": "stdout",
          "text": [
            "epoch 90 training loss: 1.1678; validation loss: 1.3069; Dice metric: 0.2225\n"
          ]
        },
        {
          "output_type": "stream",
          "name": "stderr",
          "text": [
            "100%|██████████| 291/291 [02:14<00:00,  2.16it/s]\n",
            "100%|██████████| 73/73 [00:32<00:00,  2.22it/s]\n"
          ]
        },
        {
          "output_type": "stream",
          "name": "stdout",
          "text": [
            "epoch 91 training loss: 1.1576; validation loss: 1.3303; Dice metric: 0.2144\n"
          ]
        },
        {
          "output_type": "stream",
          "name": "stderr",
          "text": [
            "100%|██████████| 291/291 [02:15<00:00,  2.15it/s]\n",
            "100%|██████████| 73/73 [00:32<00:00,  2.27it/s]\n"
          ]
        },
        {
          "output_type": "stream",
          "name": "stdout",
          "text": [
            "epoch 92 training loss: 1.1384; validation loss: 1.3360; Dice metric: 0.2147\n"
          ]
        },
        {
          "output_type": "stream",
          "name": "stderr",
          "text": [
            "100%|██████████| 291/291 [02:15<00:00,  2.14it/s]\n",
            "100%|██████████| 73/73 [00:31<00:00,  2.29it/s]\n"
          ]
        },
        {
          "output_type": "stream",
          "name": "stdout",
          "text": [
            "epoch 93 training loss: 1.1849; validation loss: 1.3408; Dice metric: 0.2206\n"
          ]
        },
        {
          "output_type": "stream",
          "name": "stderr",
          "text": [
            "100%|██████████| 291/291 [02:15<00:00,  2.14it/s]\n",
            "100%|██████████| 73/73 [00:31<00:00,  2.30it/s]\n"
          ]
        },
        {
          "output_type": "stream",
          "name": "stdout",
          "text": [
            "epoch 94 training loss: 1.1582; validation loss: 1.3184; Dice metric: 0.2204\n"
          ]
        },
        {
          "output_type": "stream",
          "name": "stderr",
          "text": [
            "100%|██████████| 291/291 [02:16<00:00,  2.13it/s]\n",
            "100%|██████████| 73/73 [00:31<00:00,  2.31it/s]\n"
          ]
        },
        {
          "output_type": "stream",
          "name": "stdout",
          "text": [
            "epoch 95 training loss: 1.1650; validation loss: 1.3139; Dice metric: 0.2166\n"
          ]
        },
        {
          "output_type": "stream",
          "name": "stderr",
          "text": [
            "100%|██████████| 291/291 [02:14<00:00,  2.16it/s]\n",
            "100%|██████████| 73/73 [00:32<00:00,  2.22it/s]\n"
          ]
        },
        {
          "output_type": "stream",
          "name": "stdout",
          "text": [
            "epoch 96 training loss: 1.1388; validation loss: 1.3238; Dice metric: 0.2162\n"
          ]
        },
        {
          "output_type": "stream",
          "name": "stderr",
          "text": [
            "100%|██████████| 291/291 [02:14<00:00,  2.17it/s]\n",
            "100%|██████████| 73/73 [00:31<00:00,  2.30it/s]\n"
          ]
        },
        {
          "output_type": "stream",
          "name": "stdout",
          "text": [
            "epoch 97 training loss: 1.1546; validation loss: 1.3159; Dice metric: 0.2159\n"
          ]
        },
        {
          "output_type": "stream",
          "name": "stderr",
          "text": [
            "100%|██████████| 291/291 [02:15<00:00,  2.14it/s]\n",
            "100%|██████████| 73/73 [00:31<00:00,  2.29it/s]\n"
          ]
        },
        {
          "output_type": "stream",
          "name": "stdout",
          "text": [
            "epoch 98 training loss: 1.1383; validation loss: 1.3243; Dice metric: 0.2201\n"
          ]
        },
        {
          "output_type": "stream",
          "name": "stderr",
          "text": [
            "100%|██████████| 291/291 [02:16<00:00,  2.14it/s]\n",
            "100%|██████████| 73/73 [00:31<00:00,  2.30it/s]\n"
          ]
        },
        {
          "output_type": "stream",
          "name": "stdout",
          "text": [
            "epoch 99 training loss: 1.1446; validation loss: 1.3033; Dice metric: 0.2195\n"
          ]
        },
        {
          "output_type": "stream",
          "name": "stderr",
          "text": [
            "100%|██████████| 291/291 [02:16<00:00,  2.14it/s]\n",
            "100%|██████████| 73/73 [00:31<00:00,  2.30it/s]"
          ]
        },
        {
          "output_type": "stream",
          "name": "stdout",
          "text": [
            "epoch 100 training loss: 1.1256; validation loss: 1.3217; Dice metric: 0.2169\n",
            "CPU times: user 20min 20s, sys: 1min 23s, total: 21min 44s\n",
            "Wall time: 4h 38min 58s\n"
          ]
        },
        {
          "output_type": "stream",
          "name": "stderr",
          "text": [
            "\n"
          ]
        }
      ],
      "source": [
        "%%time\n",
        "best_metric = 0\n",
        "train_losses = []\n",
        "val_losses = []\n",
        "val_metrics = []\n",
        "for epoch in range(epochs):\n",
        "    # training pass\n",
        "    train_loss = train_epoch(net, loss_fn, dl_train, optimizer)\n",
        "\n",
        "    # validation pass\n",
        "    val_loss, metric = validate_epoch(net, loss_fn, dl_val, metric)\n",
        "    val_metric = metric.aggregate().item()\n",
        "    metric.reset()\n",
        "\n",
        "    # update learning rate\n",
        "    lr_scheduler.step(val_loss)\n",
        "\n",
        "    # output\n",
        "    print(f\"epoch {epoch + 1} training loss: {train_loss:.4f}; \"\n",
        "          f\"validation loss: {val_loss:.4f}; Dice metric: {val_metric:.4f}\")\n",
        "    train_losses.append(train_loss)\n",
        "    val_losses.append(val_loss)\n",
        "    val_metrics.append(val_metric)\n",
        "    if val_metric >= best_metric:\n",
        "      best_metric = val_metric\n",
        "      torch.save(net.state_dict(), 'model.pth')\n",
        "      print('saving best model')"
      ]
    },
    {
      "cell_type": "code",
      "execution_count": 45,
      "id": "mKOdWWaT_tnF",
      "metadata": {
        "id": "mKOdWWaT_tnF",
        "colab": {
          "base_uri": "https://localhost:8080/",
          "height": 338
        },
        "outputId": "52662e01-7ea2-4b72-c91c-cb683880afa8"
      },
      "outputs": [
        {
          "output_type": "execute_result",
          "data": {
            "text/plain": [
              "[<matplotlib.lines.Line2D at 0x7f1c834cc850>]"
            ]
          },
          "metadata": {},
          "execution_count": 45
        },
        {
          "output_type": "display_data",
          "data": {
            "text/plain": [
              "<Figure size 720x360 with 1 Axes>"
            ],
            "image/png": "[encoded data removed]"
          },
          "metadata": {
            "needs_background": "light"
          }
        }
      ],
      "source": [
        "plt.figure(figsize=(10, 5))\n",
        "plt.plot(train_losses,'r')\n",
        "plt.plot(val_losses, 'b')"
      ]
    },
    {
      "cell_type": "code",
      "execution_count": 46,
      "id": "mETS8S-1IuGb",
      "metadata": {
        "id": "mETS8S-1IuGb",
        "colab": {
          "base_uri": "https://localhost:8080/",
          "height": 338
        },
        "outputId": "0f864c48-0ea6-4b15-8762-097a8c4e94db"
      },
      "outputs": [
        {
          "output_type": "execute_result",
          "data": {
            "text/plain": [
              "[<matplotlib.lines.Line2D at 0x7f1c836bf110>]"
            ]
          },
          "metadata": {},
          "execution_count": 46
        },
        {
          "output_type": "display_data",
          "data": {
            "text/plain": [
              "<Figure size 720x360 with 1 Axes>"
            ],
            "image/png": "[encoded data removed]"
          },
          "metadata": {
            "needs_background": "light"
          }
        }
      ],
      "source": [
        "plt.figure(figsize=(10, 5))\n",
        "plt.plot(val_metrics,'r')"
      ]
    },
    {
      "cell_type": "markdown",
      "id": "W_EsaEYQHDq9",
      "metadata": {
        "id": "W_EsaEYQHDq9"
      },
      "source": [
        "## Set up the loaders and model for evaluation"
      ]
    },
    {
      "cell_type": "code",
      "execution_count": 47,
      "id": "uOsnCaZaYKDI",
      "metadata": {
        "id": "uOsnCaZaYKDI"
      },
      "outputs": [],
      "source": [
        "class AgriDatasetTest(torch.utils.data.Dataset):\n",
        "\n",
        "  def __init__(self, df, band_names=BAND_NAMES, size=64):\n",
        "    self.band_names = band_names\n",
        "    self.df = df\n",
        "    self.size = size\n",
        "\n",
        "  def __getitem__(self, index):\n",
        "    imgs = []\n",
        "    for band in self.band_names:\n",
        "      source_fn = rf\"{self.df.iloc[index]['source_path']}{band}.tif\"\n",
        "      with rasterio.open(source_fn) as src:\n",
        "        imgs.append(src.read()[0].astype(np.float64)/255.)\n",
        "\n",
        "    with rasterio.open(self.df.iloc[index]['field_path']) as src:\n",
        "      labels = src.read()[0].astype(np.int64)\n",
        "\n",
        "    labels = torch.tensor(labels)\n",
        "    imgs = torch.tensor(np.array(imgs))\n",
        "\n",
        "    hs = int(self.size/2)\n",
        "    ind = [self.df.iloc[index]['center_y'], self.df.iloc[index]['center_x']]\n",
        "    ind = np.max(np.array([[hs, hs], ind]), axis=0)\n",
        "    ind = np.int_(np.min(np.array([np.array(imgs.shape[-2:])-hs-1, ind]), axis=0))\n",
        "\n",
        "    imgs = imgs[:, ind[0]-hs:ind[0]+hs, ind[1]-hs:ind[1]+hs]\n",
        "    labels = labels[ind[0]-hs:ind[0]+hs, ind[1]-hs:ind[1]+hs]\n",
        "\n",
        "    if 'label_path' in self.df.columns and os.path.exists(self.df.iloc[index]['label_path']):\n",
        "      with rasterio.open(self.df.iloc[index]['label_path']) as src:\n",
        "        gt = src.read()[0].astype(np.int64)\n",
        "        gt = torch.tensor(gt)[ind[0]-hs:ind[0]+hs, ind[1]-hs:ind[1]+hs]\n",
        "    else:\n",
        "      gt = labels\n",
        "\n",
        "\n",
        "    return imgs.float(), labels, gt\n",
        "\n",
        "  def __len__(self):\n",
        "    return len(self.df)"
      ]
    },
    {
      "cell_type": "code",
      "execution_count": 48,
      "id": "EQ2FgI1kCGBn",
      "metadata": {
        "id": "EQ2FgI1kCGBn"
      },
      "outputs": [],
      "source": [
        "dl_test = torch.utils.data.DataLoader(\n",
        "    AgriDatasetTest(df_val),\n",
        "    shuffle=False, batch_size=batch_size, num_workers=2\n",
        "    )"
      ]
    },
    {
      "cell_type": "code",
      "execution_count": 49,
      "id": "XeTOSV7iCQ9x",
      "metadata": {
        "id": "XeTOSV7iCQ9x"
      },
      "outputs": [],
      "source": [
        "net.load_state_dict(torch.load('model.pth'))\n",
        "net.eval();"
      ]
    },
    {
      "cell_type": "markdown",
      "id": "8aOuTw8HCAbA",
      "metadata": {
        "id": "8aOuTw8HCAbA"
      },
      "source": [
        "## Evaluate the model on the validation set"
      ]
    },
    {
      "cell_type": "code",
      "execution_count": 50,
      "id": "o0qp7CVjCZ_g",
      "metadata": {
        "id": "o0qp7CVjCZ_g"
      },
      "outputs": [],
      "source": [
        "def evaluate(dl_test, net):\n",
        "  field_data = dict()\n",
        "  gt_labels = dict()\n",
        "  with torch.no_grad():\n",
        "    for imgs, labels, gt in tqdm(dl_test):\n",
        "      output = net(imgs.cuda()).cpu()\n",
        "      output = output.numpy()\n",
        "      labels = labels.numpy()\n",
        "      output = np.moveaxis(output, 1, -1)\n",
        "\n",
        "      llist = np.unique(labels)[1:]\n",
        "      for lb in llist:\n",
        "        ind = np.where(labels == lb)\n",
        "        data = output[ind]\n",
        "        if lb in field_data.keys():\n",
        "          field_data[lb] = np.concatenate([field_data[lb], data], axis=0)\n",
        "        else:\n",
        "          field_data[lb] = data\n",
        "\n",
        "        data = gt[ind]\n",
        "        if lb in gt_labels.keys():\n",
        "          gt_labels[lb] = np.concatenate([gt_labels[lb], data], axis=0)\n",
        "        else:\n",
        "          gt_labels[lb] = data\n",
        "        \n",
        "  field_ids = []\n",
        "  probs = []\n",
        "  gt = []\n",
        "  for key in field_data.keys():\n",
        "    field_ids.append(key)\n",
        "    prob = field_data[key].mean(0)[list(np.int_(crop_labels))]\n",
        "    prob = prob - np.min(prob)\n",
        "    prob = prob / np.sum(prob)\n",
        "    probs.append(prob)\n",
        "    gt.append(gt_labels[key][0].item())\n",
        "  probs = np.array(probs)\n",
        "  return probs, field_ids, gt"
      ]
    },
    {
      "cell_type": "code",
      "execution_count": 51,
      "id": "7fV5Ce5uC9S2",
      "metadata": {
        "id": "7fV5Ce5uC9S2",
        "colab": {
          "base_uri": "https://localhost:8080/"
        },
        "outputId": "d1cab7d8-a0ec-4075-dec8-27bf9db21c6d"
      },
      "outputs": [
        {
          "output_type": "stream",
          "name": "stderr",
          "text": [
            "100%|██████████| 73/73 [00:34<00:00,  2.10it/s]\n"
          ]
        }
      ],
      "source": [
        "probs, field_ids, gt = evaluate(dl_test, net)"
      ]
    },
    {
      "cell_type": "code",
      "execution_count": 52,
      "id": "Ux-2ff1cC_sx",
      "metadata": {
        "id": "Ux-2ff1cC_sx",
        "colab": {
          "base_uri": "https://localhost:8080/"
        },
        "outputId": "46b88c6e-fa6f-4849-dfa4-33f2fb89d228"
      },
      "outputs": [
        {
          "output_type": "stream",
          "name": "stdout",
          "text": [
            "              precision    recall  f1-score   support\n",
            "\n",
            "           1       0.77      0.49      0.60      1104\n",
            "           2       0.47      0.28      0.35       524\n",
            "           3       0.11      0.63      0.19        52\n",
            "           4       0.96      0.60      0.74      1034\n",
            "           5       0.22      0.85      0.34        13\n",
            "           6       0.20      0.84      0.32        79\n",
            "           8       0.18      0.85      0.30        26\n",
            "           9       0.55      0.84      0.67       134\n",
            "          13       0.22      0.70      0.34        30\n",
            "          14       0.22      0.89      0.35         9\n",
            "          15       0.11      0.56      0.18        16\n",
            "          16       0.15      1.00      0.26         6\n",
            "          36       0.33      0.74      0.46        74\n",
            "\n",
            "    accuracy                           0.53      3101\n",
            "   macro avg       0.34      0.71      0.39      3101\n",
            "weighted avg       0.72      0.53      0.58      3101\n",
            "\n"
          ]
        }
      ],
      "source": [
        "from sklearn.metrics import classification_report\n",
        "\n",
        "print(classification_report(gt, np.array(crop_labels)[np.argmax(probs, axis=1)]))"
      ]
    },
    {
      "cell_type": "code",
      "execution_count": 53,
      "id": "O3aOekbmFEOF",
      "metadata": {
        "id": "O3aOekbmFEOF"
      },
      "outputs": [],
      "source": [
        "def to_one_hot(x):\n",
        "    y = np.zeros((x.size, x.max() + 1))\n",
        "    y[np.arange(x.size), x] = 1\n",
        "    return y\n",
        "\n",
        "def cross_entropy(predictions, targets):\n",
        "    return -np.sum(np.sum(np.log(predictions + 10**(-10)) * targets, axis=1))/len(targets)\n"
      ]
    },
    {
      "cell_type": "code",
      "execution_count": 54,
      "id": "QYxNVMHfHRld",
      "metadata": {
        "id": "QYxNVMHfHRld"
      },
      "outputs": [],
      "source": [
        "targets = to_one_hot(np.array(gt))\n",
        "targets = targets[:, np.where(targets.sum(axis=0) > 0)[0]]"
      ]
    },
    {
      "cell_type": "code",
      "execution_count": 55,
      "id": "pcoDvgg0Hd8T",
      "metadata": {
        "id": "pcoDvgg0Hd8T",
        "colab": {
          "base_uri": "https://localhost:8080/"
        },
        "outputId": "f2963cad-20bf-4f80-e40f-b9af08da691c"
      },
      "outputs": [
        {
          "output_type": "execute_result",
          "data": {
            "text/plain": [
              "1.8717653993174785"
            ]
          },
          "metadata": {},
          "execution_count": 55
        }
      ],
      "source": [
        "cross_entropy(probs, targets)"
      ]
    },
    {
      "cell_type": "markdown",
      "id": "yCvvWdPUH5yU",
      "metadata": {
        "id": "yCvvWdPUH5yU"
      },
      "source": [
        "## Prepare the test dataset"
      ]
    },
    {
      "cell_type": "code",
      "execution_count": 56,
      "id": "8OkzF6RDHedl",
      "metadata": {
        "id": "8OkzF6RDHedl"
      },
      "outputs": [],
      "source": [
        "test_paths = os.listdir(os.path.join(data_dir, test_label_collection))\n",
        "test_ids = [fn.split('_')[-1] for fn in test_paths if 'labels_test' in fn]\n",
        "\n",
        "field_paths = [f'{data_dir}/{test_label_collection}/{test_label_collection}_{i}/field_ids.tif' \n",
        "               for i in test_ids]\n",
        "label_paths = [f'{data_dir}/{test_label_collection}/{test_label_collection}_{i}/raster_labels.tif' \n",
        "               for i in test_ids]\n",
        "source_paths = [f'{data_dir}/{source_collection}/{source_collection}_{i}/' \n",
        "               for i in test_ids]"
      ]
    },
    {
      "cell_type": "code",
      "execution_count": 57,
      "id": "BBrtOyDsIvct",
      "metadata": {
        "id": "BBrtOyDsIvct",
        "colab": {
          "base_uri": "https://localhost:8080/",
          "height": 206
        },
        "outputId": "f506f68c-edf5-44c4-de0c-039531626375"
      },
      "outputs": [
        {
          "output_type": "execute_result",
          "data": {
            "text/plain": [
              "  folder_id                                         field_path  \\\n",
              "0     1cf43  data/ref_agrifieldnet_competition_v1_labels_te...   \n",
              "1     86e43  data/ref_agrifieldnet_competition_v1_labels_te...   \n",
              "2     15785  data/ref_agrifieldnet_competition_v1_labels_te...   \n",
              "3     7ee61  data/ref_agrifieldnet_competition_v1_labels_te...   \n",
              "4     06d05  data/ref_agrifieldnet_competition_v1_labels_te...   \n",
              "\n",
              "                                          label_path  \\\n",
              "0  data/ref_agrifieldnet_competition_v1_labels_te...   \n",
              "1  data/ref_agrifieldnet_competition_v1_labels_te...   \n",
              "2  data/ref_agrifieldnet_competition_v1_labels_te...   \n",
              "3  data/ref_agrifieldnet_competition_v1_labels_te...   \n",
              "4  data/ref_agrifieldnet_competition_v1_labels_te...   \n",
              "\n",
              "                                         source_path  \n",
              "0  data/ref_agrifieldnet_competition_v1_source/re...  \n",
              "1  data/ref_agrifieldnet_competition_v1_source/re...  \n",
              "2  data/ref_agrifieldnet_competition_v1_source/re...  \n",
              "3  data/ref_agrifieldnet_competition_v1_source/re...  \n",
              "4  data/ref_agrifieldnet_competition_v1_source/re...  "
            ],
            "text/html": [
              "\n",
              "  <div id=\"df-f26d9d53-8776-4613-a29f-64b93bc0644c\">\n",
              "    <div class=\"colab-df-container\">\n",
              "      <div>\n",
              "<style scoped>\n",
              "    .dataframe tbody tr th:only-of-type {\n",
              "        vertical-align: middle;\n",
              "    }\n",
              "\n",
              "    .dataframe tbody tr th {\n",
              "        vertical-align: top;\n",
              "    }\n",
              "\n",
              "    .dataframe thead th {\n",
              "        text-align: right;\n",
              "    }\n",
              "</style>\n",
              "<table border=\"1\" class=\"dataframe\">\n",
              "  <thead>\n",
              "    <tr style=\"text-align: right;\">\n",
              "      <th></th>\n",
              "      <th>folder_id</th>\n",
              "      <th>field_path</th>\n",
              "      <th>label_path</th>\n",
              "      <th>source_path</th>\n",
              "    </tr>\n",
              "  </thead>\n",
              "  <tbody>\n",
              "    <tr>\n",
              "      <th>0</th>\n",
              "      <td>1cf43</td>\n",
              "      <td>data/ref_agrifieldnet_competition_v1_labels_te...</td>\n",
              "      <td>data/ref_agrifieldnet_competition_v1_labels_te...</td>\n",
              "      <td>data/ref_agrifieldnet_competition_v1_source/re...</td>\n",
              "    </tr>\n",
              "    <tr>\n",
              "      <th>1</th>\n",
              "      <td>86e43</td>\n",
              "      <td>data/ref_agrifieldnet_competition_v1_labels_te...</td>\n",
              "      <td>data/ref_agrifieldnet_competition_v1_labels_te...</td>\n",
              "      <td>data/ref_agrifieldnet_competition_v1_source/re...</td>\n",
              "    </tr>\n",
              "    <tr>\n",
              "      <th>2</th>\n",
              "      <td>15785</td>\n",
              "      <td>data/ref_agrifieldnet_competition_v1_labels_te...</td>\n",
              "      <td>data/ref_agrifieldnet_competition_v1_labels_te...</td>\n",
              "      <td>data/ref_agrifieldnet_competition_v1_source/re...</td>\n",
              "    </tr>\n",
              "    <tr>\n",
              "      <th>3</th>\n",
              "      <td>7ee61</td>\n",
              "      <td>data/ref_agrifieldnet_competition_v1_labels_te...</td>\n",
              "      <td>data/ref_agrifieldnet_competition_v1_labels_te...</td>\n",
              "      <td>data/ref_agrifieldnet_competition_v1_source/re...</td>\n",
              "    </tr>\n",
              "    <tr>\n",
              "      <th>4</th>\n",
              "      <td>06d05</td>\n",
              "      <td>data/ref_agrifieldnet_competition_v1_labels_te...</td>\n",
              "      <td>data/ref_agrifieldnet_competition_v1_labels_te...</td>\n",
              "      <td>data/ref_agrifieldnet_competition_v1_source/re...</td>\n",
              "    </tr>\n",
              "  </tbody>\n",
              "</table>\n",
              "</div>\n",
              "      <button class=\"colab-df-convert\" onclick=\"convertToInteractive('df-f26d9d53-8776-4613-a29f-64b93bc0644c')\"\n",
              "              title=\"Convert this dataframe to an interactive table.\"\n",
              "              style=\"display:none;\">\n",
              "        \n",
              "  <svg xmlns=\"http://www.w3.org/2000/svg\" height=\"24px\"viewBox=\"0 0 24 24\"\n",
              "       width=\"24px\">\n",
              "    <path d=\"M0 0h24v24H0V0z\" fill=\"none\"/>\n",
              "    <path d=\"M18.56 5.44l.94 2.06.94-2.06 2.06-.94-2.06-.94-.94-2.06-.94 2.06-2.06.94zm-11 1L8.5 8.5l.94-2.06 2.06-.94-2.06-.94L8.5 2.5l-.94 2.06-2.06.94zm10 10l.94 2.06.94-2.06 2.06-.94-2.06-.94-.94-2.06-.94 2.06-2.06.94z\"/><path d=\"M17.41 7.96l-1.37-1.37c-.4-.4-.92-.59-1.43-.59-.52 0-1.04.2-1.43.59L10.3 9.45l-7.72 7.72c-.78.78-.78 2.05 0 2.83L4 21.41c.39.39.9.59 1.41.59.51 0 1.02-.2 1.41-.59l7.78-7.78 2.81-2.81c.8-.78.8-2.07 0-2.86zM5.41 20L4 18.59l7.72-7.72 1.47 1.35L5.41 20z\"/>\n",
              "  </svg>\n",
              "      </button>\n",
              "      \n",
              "  <style>\n",
              "    .colab-df-container {\n",
              "      display:flex;\n",
              "      flex-wrap:wrap;\n",
              "      gap: 12px;\n",
              "    }\n",
              "\n",
              "    .colab-df-convert {\n",
              "      background-color: #E8F0FE;\n",
              "      border: none;\n",
              "      border-radius: 50%;\n",
              "      cursor: pointer;\n",
              "      display: none;\n",
              "      fill: #1967D2;\n",
              "      height: 32px;\n",
              "      padding: 0 0 0 0;\n",
              "      width: 32px;\n",
              "    }\n",
              "\n",
              "    .colab-df-convert:hover {\n",
              "      background-color: #E2EBFA;\n",
              "      box-shadow: 0px 1px 2px rgba(60, 64, 67, 0.3), 0px 1px 3px 1px rgba(60, 64, 67, 0.15);\n",
              "      fill: #174EA6;\n",
              "    }\n",
              "\n",
              "    [theme=dark] .colab-df-convert {\n",
              "      background-color: #3B4455;\n",
              "      fill: #D2E3FC;\n",
              "    }\n",
              "\n",
              "    [theme=dark] .colab-df-convert:hover {\n",
              "      background-color: #434B5C;\n",
              "      box-shadow: 0px 1px 3px 1px rgba(0, 0, 0, 0.15);\n",
              "      filter: drop-shadow(0px 1px 2px rgba(0, 0, 0, 0.3));\n",
              "      fill: #FFFFFF;\n",
              "    }\n",
              "  </style>\n",
              "\n",
              "      <script>\n",
              "        const buttonEl =\n",
              "          document.querySelector('#df-f26d9d53-8776-4613-a29f-64b93bc0644c button.colab-df-convert');\n",
              "        buttonEl.style.display =\n",
              "          google.colab.kernel.accessAllowed ? 'block' : 'none';\n",
              "\n",
              "        async function convertToInteractive(key) {\n",
              "          const element = document.querySelector('#df-f26d9d53-8776-4613-a29f-64b93bc0644c');\n",
              "          const dataTable =\n",
              "            await google.colab.kernel.invokeFunction('convertToInteractive',\n",
              "                                                     [key], {});\n",
              "          if (!dataTable) return;\n",
              "\n",
              "          const docLinkHtml = 'Like what you see? Visit the ' +\n",
              "            '<a target=\"_blank\" href=https://colab.research.google.com/notebooks/data_table.ipynb>data table notebook</a>'\n",
              "            + ' to learn more about interactive tables.';\n",
              "          element.innerHTML = '';\n",
              "          dataTable['output_type'] = 'display_data';\n",
              "          await google.colab.output.renderOutput(dataTable, element);\n",
              "          const docLink = document.createElement('div');\n",
              "          docLink.innerHTML = docLinkHtml;\n",
              "          element.appendChild(docLink);\n",
              "        }\n",
              "      </script>\n",
              "    </div>\n",
              "  </div>\n",
              "  "
            ]
          },
          "metadata": {},
          "execution_count": 57
        }
      ],
      "source": [
        "test_data = pd.DataFrame(np.array([test_ids, field_paths, label_paths, source_paths]).transpose(), \n",
        "                          columns=['folder_id', 'field_path', 'label_path', 'source_path'])\n",
        "test_data.head()"
      ]
    },
    {
      "cell_type": "code",
      "source": [
        "def extract_field_crop_data_test(data):\n",
        "  field_ids = []\n",
        "  field_center_x = []\n",
        "  field_center_y = []\n",
        "  field_paths = []\n",
        "  source_paths = []\n",
        "\n",
        "  for i in tqdm(range(len(data))):\n",
        "      with rasterio.open(data['field_path'].iloc[i]) as src:\n",
        "          field_data = src.read()[0]\n",
        "\n",
        "      for field_id in np.unique(field_data)[1:]:\n",
        "          ind = np.where(field_data == field_id)\n",
        "          field_ids.append(field_id)\n",
        "          field_center_y.append(np.mean(ind[0]))\n",
        "          field_center_x.append(np.mean(ind[1]))\n",
        "          field_paths.append(data['field_path'].iloc[i])\n",
        "          source_paths.append(data['source_path'].iloc[i])\n",
        "\n",
        "  df = pd.DataFrame(np.array([field_ids, field_center_x, \n",
        "                              field_center_y]).transpose(),\n",
        "                    columns=['field_id', 'center_x', 'center_y'])\n",
        "  df['field_path'] = field_paths\n",
        "  df['source_path'] = source_paths\n",
        "  return df"
      ],
      "metadata": {
        "id": "QKB4bUL4FCT3"
      },
      "id": "QKB4bUL4FCT3",
      "execution_count": 58,
      "outputs": []
    },
    {
      "cell_type": "code",
      "source": [
        "test_df = extract_field_crop_data_test(test_data)"
      ],
      "metadata": {
        "id": "ues-moZF_JHx",
        "colab": {
          "base_uri": "https://localhost:8080/"
        },
        "outputId": "c3d0e9be-371d-4481-9b0e-b64bbe01a97c"
      },
      "id": "ues-moZF_JHx",
      "execution_count": 59,
      "outputs": [
        {
          "output_type": "stream",
          "name": "stderr",
          "text": [
            "100%|██████████| 707/707 [00:02<00:00, 290.72it/s]\n"
          ]
        }
      ]
    },
    {
      "cell_type": "markdown",
      "id": "rZ6YdR1sI1V6",
      "metadata": {
        "id": "rZ6YdR1sI1V6"
      },
      "source": [
        "## Evaluate the model on the test set"
      ]
    },
    {
      "cell_type": "code",
      "execution_count": 60,
      "id": "VrvH7yEwIxE_",
      "metadata": {
        "id": "VrvH7yEwIxE_"
      },
      "outputs": [],
      "source": [
        "dl_test = torch.utils.data.DataLoader(\n",
        "    AgriDatasetTest(test_df), shuffle=False, batch_size=batch_size, num_workers=2\n",
        "    )"
      ]
    },
    {
      "cell_type": "code",
      "execution_count": 61,
      "id": "4pyJFKOXJGah",
      "metadata": {
        "id": "4pyJFKOXJGah",
        "colab": {
          "base_uri": "https://localhost:8080/"
        },
        "outputId": "470b6157-2463-4741-892f-b530fd58d739"
      },
      "outputs": [
        {
          "output_type": "stream",
          "name": "stderr",
          "text": [
            "100%|██████████| 101/101 [00:43<00:00,  2.33it/s]\n"
          ]
        }
      ],
      "source": [
        "probs, field_ids, gt = evaluate(dl_test, net)"
      ]
    },
    {
      "cell_type": "code",
      "execution_count": 62,
      "id": "TIQlKqmlJJjD",
      "metadata": {
        "id": "TIQlKqmlJJjD"
      },
      "outputs": [],
      "source": [
        "def labeler(labeled):\n",
        "    crop_label = np.array([crop_dict.get(f'{int(i)}') for i in labeled])\n",
        "    return crop_label"
      ]
    },
    {
      "cell_type": "code",
      "execution_count": 63,
      "id": "qPHNGNQlJaDj",
      "metadata": {
        "id": "qPHNGNQlJaDj"
      },
      "outputs": [],
      "source": [
        "crop_columns = [crop_dict[key] for key in crop_labels]\n",
        "\n",
        "output_df  = pd.DataFrame(columns=['field_id'] + crop_columns)\n",
        "\n",
        "output_df['field_id'] = field_ids\n",
        "\n",
        "output_df[crop_columns] = probs \n",
        "output_df.to_csv('submission.csv', index=False)"
      ]
    },
    {
      "cell_type": "code",
      "execution_count": 64,
      "id": "4yM_v1NaJkJc",
      "metadata": {
        "id": "4yM_v1NaJkJc",
        "colab": {
          "base_uri": "https://localhost:8080/",
          "height": 17
        },
        "outputId": "46c5a39d-18f9-4663-fbd6-e00fbac820fa"
      },
      "outputs": [
        {
          "output_type": "display_data",
          "data": {
            "text/plain": [
              "<IPython.core.display.Javascript object>"
            ],
            "application/javascript": [
              "\n",
              "    async function download(id, filename, size) {\n",
              "      if (!google.colab.kernel.accessAllowed) {\n",
              "        return;\n",
              "      }\n",
              "      const div = document.createElement('div');\n",
              "      const label = document.createElement('label');\n",
              "      label.textContent = `Downloading \"${filename}\": `;\n",
              "      div.appendChild(label);\n",
              "      const progress = document.createElement('progress');\n",
              "      progress.max = size;\n",
              "      div.appendChild(progress);\n",
              "      document.body.appendChild(div);\n",
              "\n",
              "      const buffers = [];\n",
              "      let downloaded = 0;\n",
              "\n",
              "      const channel = await google.colab.kernel.comms.open(id);\n",
              "      // Send a message to notify the kernel that we're ready.\n",
              "      channel.send({})\n",
              "\n",
              "      for await (const message of channel.messages) {\n",
              "        // Send a message to notify the kernel that we're ready.\n",
              "        channel.send({})\n",
              "        if (message.buffers) {\n",
              "          for (const buffer of message.buffers) {\n",
              "            buffers.push(buffer);\n",
              "            downloaded += buffer.byteLength;\n",
              "            progress.value = downloaded;\n",
              "          }\n",
              "        }\n",
              "      }\n",
              "      const blob = new Blob(buffers, {type: 'application/binary'});\n",
              "      const a = document.createElement('a');\n",
              "      a.href = window.URL.createObjectURL(blob);\n",
              "      a.download = filename;\n",
              "      div.appendChild(a);\n",
              "      a.click();\n",
              "      div.remove();\n",
              "    }\n",
              "  "
            ]
          },
          "metadata": {}
        },
        {
          "output_type": "display_data",
          "data": {
            "text/plain": [
              "<IPython.core.display.Javascript object>"
            ],
            "application/javascript": [
              "download(\"download_43a5698c-d4f4-4179-ba85-875e654363c5\", \"submission.csv\", 221705)"
            ]
          },
          "metadata": {}
        }
      ],
      "source": [
        "from google.colab import files\n",
        "files.download('submission.csv')"
      ]
    },
    {
      "cell_type": "code",
      "execution_count": 64,
      "id": "Fm8SWnsLJ3v2",
      "metadata": {
        "id": "Fm8SWnsLJ3v2"
      },
      "outputs": [],
      "source": []
    }
  ],
  "metadata": {
    "accelerator": "GPU",
    "colab": {
      "collapsed_sections": [
        "nN70MBjGzOUH",
        "TMWu0HGHLciF"
      ],
      "provenance": [],
      "include_colab_link": true
    },
    "gpuClass": "standard",
    "kernelspec": {
      "display_name": "Python 3 (ipykernel)",
      "language": "python",
      "name": "python3"
    },
    "language_info": {
      "codemirror_mode": {
        "name": "ipython",
        "version": 3
      },
      "file_extension": ".py",
      "mimetype": "text/x-python",
      "name": "python",
      "nbconvert_exporter": "python",
      "pygments_lexer": "ipython3",
      "version": "3.7.13"
    },
    "widgets": {
      "application/vnd.jupyter.widget-state+json": {
        "fee447acd1f54886a03beb2a2635a669": {
          "model_module": "@jupyter-widgets/controls",
          "model_name": "HBoxModel",
          "model_module_version": "1.5.0",
          "state": {
            "_dom_classes": [],
            "_model_module": "@jupyter-widgets/controls",
            "_model_module_version": "1.5.0",
            "_model_name": "HBoxModel",
            "_view_count": null,
            "_view_module": "@jupyter-widgets/controls",
            "_view_module_version": "1.5.0",
            "_view_name": "HBoxView",
            "box_style": "",
            "children": [
              "IPY_MODEL_2206311d138a4b2190c41520e56ff289",
              "IPY_MODEL_60090273cf1541419501003b36b19ebd",
              "IPY_MODEL_d04911a819414d65bb82c34abb258a9d"
            ],
            "layout": "IPY_MODEL_cc6d7aa92abb4d01a666fe63c0a1e686"
          }
        },
        "2206311d138a4b2190c41520e56ff289": {
          "model_module": "@jupyter-widgets/controls",
          "model_name": "HTMLModel",
          "model_module_version": "1.5.0",
          "state": {
            "_dom_classes": [],
            "_model_module": "@jupyter-widgets/controls",
            "_model_module_version": "1.5.0",
            "_model_name": "HTMLModel",
            "_view_count": null,
            "_view_module": "@jupyter-widgets/controls",
            "_view_module_version": "1.5.0",
            "_view_name": "HTMLView",
            "description": "",
            "description_tooltip": null,
            "layout": "IPY_MODEL_d8ff33b211c942a1805cadd59a9383f6",
            "placeholder": "​",
            "style": "IPY_MODEL_2ce88ef3b18c4d5ab08a8bf175fd30b0",
            "value": ""
          }
        },
        "60090273cf1541419501003b36b19ebd": {
          "model_module": "@jupyter-widgets/controls",
          "model_name": "FloatProgressModel",
          "model_module_version": "1.5.0",
          "state": {
            "_dom_classes": [],
            "_model_module": "@jupyter-widgets/controls",
            "_model_module_version": "1.5.0",
            "_model_name": "FloatProgressModel",
            "_view_count": null,
            "_view_module": "@jupyter-widgets/controls",
            "_view_module_version": "1.5.0",
            "_view_name": "ProgressView",
            "bar_style": "success",
            "description": "",
            "description_tooltip": null,
            "layout": "IPY_MODEL_889a44b39cc3470b817c6615343548c6",
            "max": 0.5,
            "min": 0,
            "orientation": "horizontal",
            "style": "IPY_MODEL_5933d14e92b241529e180f477a0b9b1a",
            "value": 0.5
          }
        },
        "d04911a819414d65bb82c34abb258a9d": {
          "model_module": "@jupyter-widgets/controls",
          "model_name": "HTMLModel",
          "model_module_version": "1.5.0",
          "state": {
            "_dom_classes": [],
            "_model_module": "@jupyter-widgets/controls",
            "_model_module_version": "1.5.0",
            "_model_name": "HTMLModel",
            "_view_count": null,
            "_view_module": "@jupyter-widgets/controls",
            "_view_module_version": "1.5.0",
            "_view_name": "HTMLView",
            "description": "",
            "description_tooltip": null,
            "layout": "IPY_MODEL_2918f0e2be1e4fe092928d153430f7c9",
            "placeholder": "​",
            "style": "IPY_MODEL_6d10c043f070497c9d6d2df6532fdcf0",
            "value": " 5.0/? [00:01&lt;00:00,  4.01M/s]"
          }
        },
        "cc6d7aa92abb4d01a666fe63c0a1e686": {
          "model_module": "@jupyter-widgets/base",
          "model_name": "LayoutModel",
          "model_module_version": "1.2.0",
          "state": {
            "_model_module": "@jupyter-widgets/base",
            "_model_module_version": "1.2.0",
            "_model_name": "LayoutModel",
            "_view_count": null,
            "_view_module": "@jupyter-widgets/base",
            "_view_module_version": "1.2.0",
            "_view_name": "LayoutView",
            "align_content": null,
            "align_items": null,
            "align_self": null,
            "border": null,
            "bottom": null,
            "display": null,
            "flex": null,
            "flex_flow": null,
            "grid_area": null,
            "grid_auto_columns": null,
            "grid_auto_flow": null,
            "grid_auto_rows": null,
            "grid_column": null,
            "grid_gap": null,
            "grid_row": null,
            "grid_template_areas": null,
            "grid_template_columns": null,
            "grid_template_rows": null,
            "height": null,
            "justify_content": null,
            "justify_items": null,
            "left": null,
            "margin": null,
            "max_height": null,
            "max_width": null,
            "min_height": null,
            "min_width": null,
            "object_fit": null,
            "object_position": null,
            "order": null,
            "overflow": null,
            "overflow_x": null,
            "overflow_y": null,
            "padding": null,
            "right": null,
            "top": null,
            "visibility": null,
            "width": null
          }
        },
        "d8ff33b211c942a1805cadd59a9383f6": {
          "model_module": "@jupyter-widgets/base",
          "model_name": "LayoutModel",
          "model_module_version": "1.2.0",
          "state": {
            "_model_module": "@jupyter-widgets/base",
            "_model_module_version": "1.2.0",
            "_model_name": "LayoutModel",
            "_view_count": null,
            "_view_module": "@jupyter-widgets/base",
            "_view_module_version": "1.2.0",
            "_view_name": "LayoutView",
            "align_content": null,
            "align_items": null,
            "align_self": null,
            "border": null,
            "bottom": null,
            "display": null,
            "flex": null,
            "flex_flow": null,
            "grid_area": null,
            "grid_auto_columns": null,
            "grid_auto_flow": null,
            "grid_auto_rows": null,
            "grid_column": null,
            "grid_gap": null,
            "grid_row": null,
            "grid_template_areas": null,
            "grid_template_columns": null,
            "grid_template_rows": null,
            "height": null,
            "justify_content": null,
            "justify_items": null,
            "left": null,
            "margin": null,
            "max_height": null,
            "max_width": null,
            "min_height": null,
            "min_width": null,
            "object_fit": null,
            "object_position": null,
            "order": null,
            "overflow": null,
            "overflow_x": null,
            "overflow_y": null,
            "padding": null,
            "right": null,
            "top": null,
            "visibility": null,
            "width": null
          }
        },
        "2ce88ef3b18c4d5ab08a8bf175fd30b0": {
          "model_module": "@jupyter-widgets/controls",
          "model_name": "DescriptionStyleModel",
          "model_module_version": "1.5.0",
          "state": {
            "_model_module": "@jupyter-widgets/controls",
            "_model_module_version": "1.5.0",
            "_model_name": "DescriptionStyleModel",
            "_view_count": null,
            "_view_module": "@jupyter-widgets/base",
            "_view_module_version": "1.2.0",
            "_view_name": "StyleView",
            "description_width": ""
          }
        },
        "889a44b39cc3470b817c6615343548c6": {
          "model_module": "@jupyter-widgets/base",
          "model_name": "LayoutModel",
          "model_module_version": "1.2.0",
          "state": {
            "_model_module": "@jupyter-widgets/base",
            "_model_module_version": "1.2.0",
            "_model_name": "LayoutModel",
            "_view_count": null,
            "_view_module": "@jupyter-widgets/base",
            "_view_module_version": "1.2.0",
            "_view_name": "LayoutView",
            "align_content": null,
            "align_items": null,
            "align_self": null,
            "border": null,
            "bottom": null,
            "display": null,
            "flex": null,
            "flex_flow": null,
            "grid_area": null,
            "grid_auto_columns": null,
            "grid_auto_flow": null,
            "grid_auto_rows": null,
            "grid_column": null,
            "grid_gap": null,
            "grid_row": null,
            "grid_template_areas": null,
            "grid_template_columns": null,
            "grid_template_rows": null,
            "height": null,
            "justify_content": null,
            "justify_items": null,
            "left": null,
            "margin": null,
            "max_height": null,
            "max_width": null,
            "min_height": null,
            "min_width": null,
            "object_fit": null,
            "object_position": null,
            "order": null,
            "overflow": null,
            "overflow_x": null,
            "overflow_y": null,
            "padding": null,
            "right": null,
            "top": null,
            "visibility": null,
            "width": null
          }
        },
        "5933d14e92b241529e180f477a0b9b1a": {
          "model_module": "@jupyter-widgets/controls",
          "model_name": "ProgressStyleModel",
          "model_module_version": "1.5.0",
          "state": {
            "_model_module": "@jupyter-widgets/controls",
            "_model_module_version": "1.5.0",
            "_model_name": "ProgressStyleModel",
            "_view_count": null,
            "_view_module": "@jupyter-widgets/base",
            "_view_module_version": "1.2.0",
            "_view_name": "StyleView",
            "bar_color": null,
            "description_width": ""
          }
        },
        "2918f0e2be1e4fe092928d153430f7c9": {
          "model_module": "@jupyter-widgets/base",
          "model_name": "LayoutModel",
          "model_module_version": "1.2.0",
          "state": {
            "_model_module": "@jupyter-widgets/base",
            "_model_module_version": "1.2.0",
            "_model_name": "LayoutModel",
            "_view_count": null,
            "_view_module": "@jupyter-widgets/base",
            "_view_module_version": "1.2.0",
            "_view_name": "LayoutView",
            "align_content": null,
            "align_items": null,
            "align_self": null,
            "border": null,
            "bottom": null,
            "display": null,
            "flex": null,
            "flex_flow": null,
            "grid_area": null,
            "grid_auto_columns": null,
            "grid_auto_flow": null,
            "grid_auto_rows": null,
            "grid_column": null,
            "grid_gap": null,
            "grid_row": null,
            "grid_template_areas": null,
            "grid_template_columns": null,
            "grid_template_rows": null,
            "height": null,
            "justify_content": null,
            "justify_items": null,
            "left": null,
            "margin": null,
            "max_height": null,
            "max_width": null,
            "min_height": null,
            "min_width": null,
            "object_fit": null,
            "object_position": null,
            "order": null,
            "overflow": null,
            "overflow_x": null,
            "overflow_y": null,
            "padding": null,
            "right": null,
            "top": null,
            "visibility": null,
            "width": null
          }
        },
        "6d10c043f070497c9d6d2df6532fdcf0": {
          "model_module": "@jupyter-widgets/controls",
          "model_name": "DescriptionStyleModel",
          "model_module_version": "1.5.0",
          "state": {
            "_model_module": "@jupyter-widgets/controls",
            "_model_module_version": "1.5.0",
            "_model_name": "DescriptionStyleModel",
            "_view_count": null,
            "_view_module": "@jupyter-widgets/base",
            "_view_module_version": "1.2.0",
            "_view_name": "StyleView",
            "description_width": ""
          }
        },
        "e4c54c4001934e75b7ab0f97f0477930": {
          "model_module": "@jupyter-widgets/controls",
          "model_name": "HBoxModel",
          "model_module_version": "1.5.0",
          "state": {
            "_dom_classes": [],
            "_model_module": "@jupyter-widgets/controls",
            "_model_module_version": "1.5.0",
            "_model_name": "HBoxModel",
            "_view_count": null,
            "_view_module": "@jupyter-widgets/controls",
            "_view_module_version": "1.5.0",
            "_view_name": "HBoxView",
            "box_style": "",
            "children": [
              "IPY_MODEL_6c8e94b71ce24d998c6dac604b49752f",
              "IPY_MODEL_e73b5b61e52b44fabd0e56b7cf09373d",
              "IPY_MODEL_c0eee4e1f0544fcb8731d404a9922c75"
            ],
            "layout": "IPY_MODEL_0a34c1901c314ea5969b1f34e3f58300"
          }
        },
        "6c8e94b71ce24d998c6dac604b49752f": {
          "model_module": "@jupyter-widgets/controls",
          "model_name": "HTMLModel",
          "model_module_version": "1.5.0",
          "state": {
            "_dom_classes": [],
            "_model_module": "@jupyter-widgets/controls",
            "_model_module_version": "1.5.0",
            "_model_name": "HTMLModel",
            "_view_count": null,
            "_view_module": "@jupyter-widgets/controls",
            "_view_module_version": "1.5.0",
            "_view_name": "HTMLView",
            "description": "",
            "description_tooltip": null,
            "layout": "IPY_MODEL_bb0007703dd049eca70525aa78fed8bf",
            "placeholder": "​",
            "style": "IPY_MODEL_48723e54325a4d6b8beadd787ebd45f3",
            "value": ""
          }
        },
        "e73b5b61e52b44fabd0e56b7cf09373d": {
          "model_module": "@jupyter-widgets/controls",
          "model_name": "FloatProgressModel",
          "model_module_version": "1.5.0",
          "state": {
            "_dom_classes": [],
            "_model_module": "@jupyter-widgets/controls",
            "_model_module_version": "1.5.0",
            "_model_name": "FloatProgressModel",
            "_view_count": null,
            "_view_module": "@jupyter-widgets/controls",
            "_view_module_version": "1.5.0",
            "_view_name": "ProgressView",
            "bar_style": "success",
            "description": "",
            "description_tooltip": null,
            "layout": "IPY_MODEL_c071850774d145f6b273ab169370ff33",
            "max": 324.3,
            "min": 0,
            "orientation": "horizontal",
            "style": "IPY_MODEL_3c80d1db3da8427d84569f2f7cda6b13",
            "value": 324.3
          }
        },
        "c0eee4e1f0544fcb8731d404a9922c75": {
          "model_module": "@jupyter-widgets/controls",
          "model_name": "HTMLModel",
          "model_module_version": "1.5.0",
          "state": {
            "_dom_classes": [],
            "_model_module": "@jupyter-widgets/controls",
            "_model_module_version": "1.5.0",
            "_model_name": "HTMLModel",
            "_view_count": null,
            "_view_module": "@jupyter-widgets/controls",
            "_view_module_version": "1.5.0",
            "_view_name": "HTMLView",
            "description": "",
            "description_tooltip": null,
            "layout": "IPY_MODEL_401a6b83cc304d2b8f097d36b08e131a",
            "placeholder": "​",
            "style": "IPY_MODEL_bbffa92b99684c2183e1359911e0bd7d",
            "value": " 325.0/? [00:05&lt;00:00, 110.10M/s]"
          }
        },
        "0a34c1901c314ea5969b1f34e3f58300": {
          "model_module": "@jupyter-widgets/base",
          "model_name": "LayoutModel",
          "model_module_version": "1.2.0",
          "state": {
            "_model_module": "@jupyter-widgets/base",
            "_model_module_version": "1.2.0",
            "_model_name": "LayoutModel",
            "_view_count": null,
            "_view_module": "@jupyter-widgets/base",
            "_view_module_version": "1.2.0",
            "_view_name": "LayoutView",
            "align_content": null,
            "align_items": null,
            "align_self": null,
            "border": null,
            "bottom": null,
            "display": null,
            "flex": null,
            "flex_flow": null,
            "grid_area": null,
            "grid_auto_columns": null,
            "grid_auto_flow": null,
            "grid_auto_rows": null,
            "grid_column": null,
            "grid_gap": null,
            "grid_row": null,
            "grid_template_areas": null,
            "grid_template_columns": null,
            "grid_template_rows": null,
            "height": null,
            "justify_content": null,
            "justify_items": null,
            "left": null,
            "margin": null,
            "max_height": null,
            "max_width": null,
            "min_height": null,
            "min_width": null,
            "object_fit": null,
            "object_position": null,
            "order": null,
            "overflow": null,
            "overflow_x": null,
            "overflow_y": null,
            "padding": null,
            "right": null,
            "top": null,
            "visibility": null,
            "width": null
          }
        },
        "bb0007703dd049eca70525aa78fed8bf": {
          "model_module": "@jupyter-widgets/base",
          "model_name": "LayoutModel",
          "model_module_version": "1.2.0",
          "state": {
            "_model_module": "@jupyter-widgets/base",
            "_model_module_version": "1.2.0",
            "_model_name": "LayoutModel",
            "_view_count": null,
            "_view_module": "@jupyter-widgets/base",
            "_view_module_version": "1.2.0",
            "_view_name": "LayoutView",
            "align_content": null,
            "align_items": null,
            "align_self": null,
            "border": null,
            "bottom": null,
            "display": null,
            "flex": null,
            "flex_flow": null,
            "grid_area": null,
            "grid_auto_columns": null,
            "grid_auto_flow": null,
            "grid_auto_rows": null,
            "grid_column": null,
            "grid_gap": null,
            "grid_row": null,
            "grid_template_areas": null,
            "grid_template_columns": null,
            "grid_template_rows": null,
            "height": null,
            "justify_content": null,
            "justify_items": null,
            "left": null,
            "margin": null,
            "max_height": null,
            "max_width": null,
            "min_height": null,
            "min_width": null,
            "object_fit": null,
            "object_position": null,
            "order": null,
            "overflow": null,
            "overflow_x": null,
            "overflow_y": null,
            "padding": null,
            "right": null,
            "top": null,
            "visibility": null,
            "width": null
          }
        },
        "48723e54325a4d6b8beadd787ebd45f3": {
          "model_module": "@jupyter-widgets/controls",
          "model_name": "DescriptionStyleModel",
          "model_module_version": "1.5.0",
          "state": {
            "_model_module": "@jupyter-widgets/controls",
            "_model_module_version": "1.5.0",
            "_model_name": "DescriptionStyleModel",
            "_view_count": null,
            "_view_module": "@jupyter-widgets/base",
            "_view_module_version": "1.2.0",
            "_view_name": "StyleView",
            "description_width": ""
          }
        },
        "c071850774d145f6b273ab169370ff33": {
          "model_module": "@jupyter-widgets/base",
          "model_name": "LayoutModel",
          "model_module_version": "1.2.0",
          "state": {
            "_model_module": "@jupyter-widgets/base",
            "_model_module_version": "1.2.0",
            "_model_name": "LayoutModel",
            "_view_count": null,
            "_view_module": "@jupyter-widgets/base",
            "_view_module_version": "1.2.0",
            "_view_name": "LayoutView",
            "align_content": null,
            "align_items": null,
            "align_self": null,
            "border": null,
            "bottom": null,
            "display": null,
            "flex": null,
            "flex_flow": null,
            "grid_area": null,
            "grid_auto_columns": null,
            "grid_auto_flow": null,
            "grid_auto_rows": null,
            "grid_column": null,
            "grid_gap": null,
            "grid_row": null,
            "grid_template_areas": null,
            "grid_template_columns": null,
            "grid_template_rows": null,
            "height": null,
            "justify_content": null,
            "justify_items": null,
            "left": null,
            "margin": null,
            "max_height": null,
            "max_width": null,
            "min_height": null,
            "min_width": null,
            "object_fit": null,
            "object_position": null,
            "order": null,
            "overflow": null,
            "overflow_x": null,
            "overflow_y": null,
            "padding": null,
            "right": null,
            "top": null,
            "visibility": null,
            "width": null
          }
        },
        "3c80d1db3da8427d84569f2f7cda6b13": {
          "model_module": "@jupyter-widgets/controls",
          "model_name": "ProgressStyleModel",
          "model_module_version": "1.5.0",
          "state": {
            "_model_module": "@jupyter-widgets/controls",
            "_model_module_version": "1.5.0",
            "_model_name": "ProgressStyleModel",
            "_view_count": null,
            "_view_module": "@jupyter-widgets/base",
            "_view_module_version": "1.2.0",
            "_view_name": "StyleView",
            "bar_color": null,
            "description_width": ""
          }
        },
        "401a6b83cc304d2b8f097d36b08e131a": {
          "model_module": "@jupyter-widgets/base",
          "model_name": "LayoutModel",
          "model_module_version": "1.2.0",
          "state": {
            "_model_module": "@jupyter-widgets/base",
            "_model_module_version": "1.2.0",
            "_model_name": "LayoutModel",
            "_view_count": null,
            "_view_module": "@jupyter-widgets/base",
            "_view_module_version": "1.2.0",
            "_view_name": "LayoutView",
            "align_content": null,
            "align_items": null,
            "align_self": null,
            "border": null,
            "bottom": null,
            "display": null,
            "flex": null,
            "flex_flow": null,
            "grid_area": null,
            "grid_auto_columns": null,
            "grid_auto_flow": null,
            "grid_auto_rows": null,
            "grid_column": null,
            "grid_gap": null,
            "grid_row": null,
            "grid_template_areas": null,
            "grid_template_columns": null,
            "grid_template_rows": null,
            "height": null,
            "justify_content": null,
            "justify_items": null,
            "left": null,
            "margin": null,
            "max_height": null,
            "max_width": null,
            "min_height": null,
            "min_width": null,
            "object_fit": null,
            "object_position": null,
            "order": null,
            "overflow": null,
            "overflow_x": null,
            "overflow_y": null,
            "padding": null,
            "right": null,
            "top": null,
            "visibility": null,
            "width": null
          }
        },
        "bbffa92b99684c2183e1359911e0bd7d": {
          "model_module": "@jupyter-widgets/controls",
          "model_name": "DescriptionStyleModel",
          "model_module_version": "1.5.0",
          "state": {
            "_model_module": "@jupyter-widgets/controls",
            "_model_module_version": "1.5.0",
            "_model_name": "DescriptionStyleModel",
            "_view_count": null,
            "_view_module": "@jupyter-widgets/base",
            "_view_module_version": "1.2.0",
            "_view_name": "StyleView",
            "description_width": ""
          }
        },
        "065cd905615949eea3f1dc6473d1d9da": {
          "model_module": "@jupyter-widgets/controls",
          "model_name": "HBoxModel",
          "model_module_version": "1.5.0",
          "state": {
            "_dom_classes": [],
            "_model_module": "@jupyter-widgets/controls",
            "_model_module_version": "1.5.0",
            "_model_name": "HBoxModel",
            "_view_count": null,
            "_view_module": "@jupyter-widgets/controls",
            "_view_module_version": "1.5.0",
            "_view_name": "HBoxView",
            "box_style": "",
            "children": [
              "IPY_MODEL_670204182fbc4782abf0243f97c6be4e",
              "IPY_MODEL_00babe19ae144c0c9c194c9ad6102aaa",
              "IPY_MODEL_1783cd71649046229606cc26c7fe0001"
            ],
            "layout": "IPY_MODEL_95c25bb7de3241d3b38c7b03f91cc8d0"
          }
        },
        "670204182fbc4782abf0243f97c6be4e": {
          "model_module": "@jupyter-widgets/controls",
          "model_name": "HTMLModel",
          "model_module_version": "1.5.0",
          "state": {
            "_dom_classes": [],
            "_model_module": "@jupyter-widgets/controls",
            "_model_module_version": "1.5.0",
            "_model_name": "HTMLModel",
            "_view_count": null,
            "_view_module": "@jupyter-widgets/controls",
            "_view_module_version": "1.5.0",
            "_view_name": "HTMLView",
            "description": "",
            "description_tooltip": null,
            "layout": "IPY_MODEL_52b58b11e9ed4aecb8577fb4ed66d78f",
            "placeholder": "​",
            "style": "IPY_MODEL_f943c178c920436c9844eddcd2eb4277",
            "value": ""
          }
        },
        "00babe19ae144c0c9c194c9ad6102aaa": {
          "model_module": "@jupyter-widgets/controls",
          "model_name": "FloatProgressModel",
          "model_module_version": "1.5.0",
          "state": {
            "_dom_classes": [],
            "_model_module": "@jupyter-widgets/controls",
            "_model_module_version": "1.5.0",
            "_model_name": "FloatProgressModel",
            "_view_count": null,
            "_view_module": "@jupyter-widgets/controls",
            "_view_module_version": "1.5.0",
            "_view_name": "ProgressView",
            "bar_style": "success",
            "description": "",
            "description_tooltip": null,
            "layout": "IPY_MODEL_73eb28b4a52a48dd946ce3641ab985e5",
            "max": 1.3,
            "min": 0,
            "orientation": "horizontal",
            "style": "IPY_MODEL_19ecb5b9a8c2473a8fc7bd68fe7763ef",
            "value": 1.3
          }
        },
        "1783cd71649046229606cc26c7fe0001": {
          "model_module": "@jupyter-widgets/controls",
          "model_name": "HTMLModel",
          "model_module_version": "1.5.0",
          "state": {
            "_dom_classes": [],
            "_model_module": "@jupyter-widgets/controls",
            "_model_module_version": "1.5.0",
            "_model_name": "HTMLModel",
            "_view_count": null,
            "_view_module": "@jupyter-widgets/controls",
            "_view_module_version": "1.5.0",
            "_view_name": "HTMLView",
            "description": "",
            "description_tooltip": null,
            "layout": "IPY_MODEL_717f943a3462441bb67e2f7a0ad8e84e",
            "placeholder": "​",
            "style": "IPY_MODEL_00ca2007d09044a3b381fa9b962b7303",
            "value": " 5.0/? [00:01&lt;00:00,  3.23M/s]"
          }
        },
        "95c25bb7de3241d3b38c7b03f91cc8d0": {
          "model_module": "@jupyter-widgets/base",
          "model_name": "LayoutModel",
          "model_module_version": "1.2.0",
          "state": {
            "_model_module": "@jupyter-widgets/base",
            "_model_module_version": "1.2.0",
            "_model_name": "LayoutModel",
            "_view_count": null,
            "_view_module": "@jupyter-widgets/base",
            "_view_module_version": "1.2.0",
            "_view_name": "LayoutView",
            "align_content": null,
            "align_items": null,
            "align_self": null,
            "border": null,
            "bottom": null,
            "display": null,
            "flex": null,
            "flex_flow": null,
            "grid_area": null,
            "grid_auto_columns": null,
            "grid_auto_flow": null,
            "grid_auto_rows": null,
            "grid_column": null,
            "grid_gap": null,
            "grid_row": null,
            "grid_template_areas": null,
            "grid_template_columns": null,
            "grid_template_rows": null,
            "height": null,
            "justify_content": null,
            "justify_items": null,
            "left": null,
            "margin": null,
            "max_height": null,
            "max_width": null,
            "min_height": null,
            "min_width": null,
            "object_fit": null,
            "object_position": null,
            "order": null,
            "overflow": null,
            "overflow_x": null,
            "overflow_y": null,
            "padding": null,
            "right": null,
            "top": null,
            "visibility": null,
            "width": null
          }
        },
        "52b58b11e9ed4aecb8577fb4ed66d78f": {
          "model_module": "@jupyter-widgets/base",
          "model_name": "LayoutModel",
          "model_module_version": "1.2.0",
          "state": {
            "_model_module": "@jupyter-widgets/base",
            "_model_module_version": "1.2.0",
            "_model_name": "LayoutModel",
            "_view_count": null,
            "_view_module": "@jupyter-widgets/base",
            "_view_module_version": "1.2.0",
            "_view_name": "LayoutView",
            "align_content": null,
            "align_items": null,
            "align_self": null,
            "border": null,
            "bottom": null,
            "display": null,
            "flex": null,
            "flex_flow": null,
            "grid_area": null,
            "grid_auto_columns": null,
            "grid_auto_flow": null,
            "grid_auto_rows": null,
            "grid_column": null,
            "grid_gap": null,
            "grid_row": null,
            "grid_template_areas": null,
            "grid_template_columns": null,
            "grid_template_rows": null,
            "height": null,
            "justify_content": null,
            "justify_items": null,
            "left": null,
            "margin": null,
            "max_height": null,
            "max_width": null,
            "min_height": null,
            "min_width": null,
            "object_fit": null,
            "object_position": null,
            "order": null,
            "overflow": null,
            "overflow_x": null,
            "overflow_y": null,
            "padding": null,
            "right": null,
            "top": null,
            "visibility": null,
            "width": null
          }
        },
        "f943c178c920436c9844eddcd2eb4277": {
          "model_module": "@jupyter-widgets/controls",
          "model_name": "DescriptionStyleModel",
          "model_module_version": "1.5.0",
          "state": {
            "_model_module": "@jupyter-widgets/controls",
            "_model_module_version": "1.5.0",
            "_model_name": "DescriptionStyleModel",
            "_view_count": null,
            "_view_module": "@jupyter-widgets/base",
            "_view_module_version": "1.2.0",
            "_view_name": "StyleView",
            "description_width": ""
          }
        },
        "73eb28b4a52a48dd946ce3641ab985e5": {
          "model_module": "@jupyter-widgets/base",
          "model_name": "LayoutModel",
          "model_module_version": "1.2.0",
          "state": {
            "_model_module": "@jupyter-widgets/base",
            "_model_module_version": "1.2.0",
            "_model_name": "LayoutModel",
            "_view_count": null,
            "_view_module": "@jupyter-widgets/base",
            "_view_module_version": "1.2.0",
            "_view_name": "LayoutView",
            "align_content": null,
            "align_items": null,
            "align_self": null,
            "border": null,
            "bottom": null,
            "display": null,
            "flex": null,
            "flex_flow": null,
            "grid_area": null,
            "grid_auto_columns": null,
            "grid_auto_flow": null,
            "grid_auto_rows": null,
            "grid_column": null,
            "grid_gap": null,
            "grid_row": null,
            "grid_template_areas": null,
            "grid_template_columns": null,
            "grid_template_rows": null,
            "height": null,
            "justify_content": null,
            "justify_items": null,
            "left": null,
            "margin": null,
            "max_height": null,
            "max_width": null,
            "min_height": null,
            "min_width": null,
            "object_fit": null,
            "object_position": null,
            "order": null,
            "overflow": null,
            "overflow_x": null,
            "overflow_y": null,
            "padding": null,
            "right": null,
            "top": null,
            "visibility": null,
            "width": null
          }
        },
        "19ecb5b9a8c2473a8fc7bd68fe7763ef": {
          "model_module": "@jupyter-widgets/controls",
          "model_name": "ProgressStyleModel",
          "model_module_version": "1.5.0",
          "state": {
            "_model_module": "@jupyter-widgets/controls",
            "_model_module_version": "1.5.0",
            "_model_name": "ProgressStyleModel",
            "_view_count": null,
            "_view_module": "@jupyter-widgets/base",
            "_view_module_version": "1.2.0",
            "_view_name": "StyleView",
            "bar_color": null,
            "description_width": ""
          }
        },
        "717f943a3462441bb67e2f7a0ad8e84e": {
          "model_module": "@jupyter-widgets/base",
          "model_name": "LayoutModel",
          "model_module_version": "1.2.0",
          "state": {
            "_model_module": "@jupyter-widgets/base",
            "_model_module_version": "1.2.0",
            "_model_name": "LayoutModel",
            "_view_count": null,
            "_view_module": "@jupyter-widgets/base",
            "_view_module_version": "1.2.0",
            "_view_name": "LayoutView",
            "align_content": null,
            "align_items": null,
            "align_self": null,
            "border": null,
            "bottom": null,
            "display": null,
            "flex": null,
            "flex_flow": null,
            "grid_area": null,
            "grid_auto_columns": null,
            "grid_auto_flow": null,
            "grid_auto_rows": null,
            "grid_column": null,
            "grid_gap": null,
            "grid_row": null,
            "grid_template_areas": null,
            "grid_template_columns": null,
            "grid_template_rows": null,
            "height": null,
            "justify_content": null,
            "justify_items": null,
            "left": null,
            "margin": null,
            "max_height": null,
            "max_width": null,
            "min_height": null,
            "min_width": null,
            "object_fit": null,
            "object_position": null,
            "order": null,
            "overflow": null,
            "overflow_x": null,
            "overflow_y": null,
            "padding": null,
            "right": null,
            "top": null,
            "visibility": null,
            "width": null
          }
        },
        "00ca2007d09044a3b381fa9b962b7303": {
          "model_module": "@jupyter-widgets/controls",
          "model_name": "DescriptionStyleModel",
          "model_module_version": "1.5.0",
          "state": {
            "_model_module": "@jupyter-widgets/controls",
            "_model_module_version": "1.5.0",
            "_model_name": "DescriptionStyleModel",
            "_view_count": null,
            "_view_module": "@jupyter-widgets/base",
            "_view_module_version": "1.2.0",
            "_view_name": "StyleView",
            "description_width": ""
          }
        }
      }
    }
  },
  "nbformat": 4,
  "nbformat_minor": 5
}