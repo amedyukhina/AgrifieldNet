{
 "cells": [
  {
   "cell_type": "markdown",
   "id": "8aef023e",
   "metadata": {
    "colab_type": "text",
    "id": "view-in-github"
   },
   "source": [
    "<a href=\"https://colab.research.google.com/github/amedyukhina/AgrifieldNet/blob/main/agrinet.ipynb\" target=\"_parent\"><img src=\"https://colab.research.google.com/assets/colab-badge.svg\" alt=\"Open In Colab\"/></a>"
   ]
  },
  {
   "cell_type": "markdown",
   "id": "77b4743b",
   "metadata": {
    "id": "77b4743b"
   },
   "source": [
    "# AgrifieldNet India Competition"
   ]
  },
  {
   "cell_type": "markdown",
   "id": "be36e335",
   "metadata": {
    "id": "be36e335"
   },
   "source": [
    "## Install and import dependencies\n"
   ]
  },
  {
   "cell_type": "code",
   "execution_count": 1,
   "id": "KiwG2IraDe6h",
   "metadata": {
    "colab": {
     "base_uri": "https://localhost:8080/"
    },
    "id": "KiwG2IraDe6h",
    "outputId": "f458cb99-c30d-436b-db6f-b65fb9ec1d2b"
   },
   "outputs": [
    {
     "name": "stdout",
     "output_type": "stream",
     "text": [
      "Overwriting requirements.txt\n"
     ]
    }
   ],
   "source": [
    "%%writefile requirements.txt\n",
    "\n",
    "pandas==1.3.5\n",
    "scikit-learn==1.0.2\n",
    "tqdm==4.64.0\n",
    "rasterio==1.2.0\n",
    "numpy==1.21.6\n",
    "radiant_mlhub==0.4.1\n",
    "torch==1.12.1\n",
    "torchvision==0.13.1\n",
    "scikit-image==0.18.3\n",
    "matplotlib==3.2.2\n",
    "pillow==7.1.2\n",
    "monai==0.9.1\n",
    "tensorboard==2.8.0"
   ]
  },
  {
   "cell_type": "code",
   "execution_count": 2,
   "id": "qafN0lN8D-_N",
   "metadata": {
    "colab": {
     "base_uri": "https://localhost:8080/"
    },
    "id": "qafN0lN8D-_N",
    "outputId": "7d41e684-01a7-4939-c717-2bc78b92d851"
   },
   "outputs": [
    {
     "name": "stdout",
     "output_type": "stream",
     "text": [
      "Requirement already satisfied: pandas==1.3.5 in /home/anna/anaconda3/envs/agri/lib/python3.7/site-packages (from -r requirements.txt (line 2)) (1.3.5)\n",
      "Requirement already satisfied: scikit-learn==1.0.2 in /home/anna/anaconda3/envs/agri/lib/python3.7/site-packages (from -r requirements.txt (line 3)) (1.0.2)\n",
      "Requirement already satisfied: tqdm==4.64.0 in /home/anna/anaconda3/envs/agri/lib/python3.7/site-packages (from -r requirements.txt (line 4)) (4.64.0)\n",
      "Requirement already satisfied: rasterio==1.2.0 in /home/anna/anaconda3/envs/agri/lib/python3.7/site-packages (from -r requirements.txt (line 5)) (1.2.0)\n",
      "Requirement already satisfied: numpy==1.21.6 in /home/anna/anaconda3/envs/agri/lib/python3.7/site-packages (from -r requirements.txt (line 6)) (1.21.6)\n",
      "Requirement already satisfied: radiant_mlhub==0.4.1 in /home/anna/anaconda3/envs/agri/lib/python3.7/site-packages (from -r requirements.txt (line 7)) (0.4.1)\n",
      "Requirement already satisfied: torch==1.12.1 in /home/anna/anaconda3/envs/agri/lib/python3.7/site-packages (from -r requirements.txt (line 8)) (1.12.1)\n",
      "Requirement already satisfied: torchvision==0.13.1 in /home/anna/anaconda3/envs/agri/lib/python3.7/site-packages (from -r requirements.txt (line 9)) (0.13.1)\n",
      "Requirement already satisfied: scikit-image==0.18.3 in /home/anna/anaconda3/envs/agri/lib/python3.7/site-packages (from -r requirements.txt (line 10)) (0.18.3)\n",
      "Requirement already satisfied: matplotlib==3.2.2 in /home/anna/anaconda3/envs/agri/lib/python3.7/site-packages (from -r requirements.txt (line 11)) (3.2.2)\n",
      "Requirement already satisfied: pillow==7.1.2 in /home/anna/anaconda3/envs/agri/lib/python3.7/site-packages (from -r requirements.txt (line 12)) (7.1.2)\n",
      "Requirement already satisfied: monai==0.9.1 in /home/anna/anaconda3/envs/agri/lib/python3.7/site-packages (from -r requirements.txt (line 13)) (0.9.1)\n",
      "Requirement already satisfied: tensorboard==2.8.0 in /home/anna/anaconda3/envs/agri/lib/python3.7/site-packages (from -r requirements.txt (line 14)) (2.8.0)\n",
      "Requirement already satisfied: python-dateutil>=2.7.3 in /home/anna/anaconda3/envs/agri/lib/python3.7/site-packages (from pandas==1.3.5->-r requirements.txt (line 2)) (2.8.2)\n",
      "Requirement already satisfied: pytz>=2017.3 in /home/anna/anaconda3/envs/agri/lib/python3.7/site-packages (from pandas==1.3.5->-r requirements.txt (line 2)) (2022.2.1)\n",
      "Requirement already satisfied: joblib>=0.11 in /home/anna/anaconda3/envs/agri/lib/python3.7/site-packages (from scikit-learn==1.0.2->-r requirements.txt (line 3)) (1.1.0)\n",
      "Requirement already satisfied: scipy>=1.1.0 in /home/anna/anaconda3/envs/agri/lib/python3.7/site-packages (from scikit-learn==1.0.2->-r requirements.txt (line 3)) (1.7.3)\n",
      "Requirement already satisfied: threadpoolctl>=2.0.0 in /home/anna/anaconda3/envs/agri/lib/python3.7/site-packages (from scikit-learn==1.0.2->-r requirements.txt (line 3)) (3.1.0)\n",
      "Requirement already satisfied: affine in /home/anna/anaconda3/envs/agri/lib/python3.7/site-packages (from rasterio==1.2.0->-r requirements.txt (line 5)) (2.3.1)\n",
      "Requirement already satisfied: attrs in /home/anna/anaconda3/envs/agri/lib/python3.7/site-packages (from rasterio==1.2.0->-r requirements.txt (line 5)) (22.1.0)\n",
      "Requirement already satisfied: cligj>=0.5 in /home/anna/anaconda3/envs/agri/lib/python3.7/site-packages (from rasterio==1.2.0->-r requirements.txt (line 5)) (0.7.2)\n",
      "Requirement already satisfied: certifi in /home/anna/anaconda3/envs/agri/lib/python3.7/site-packages (from rasterio==1.2.0->-r requirements.txt (line 5)) (2022.6.15)\n",
      "Requirement already satisfied: click<8,>=4.0 in /home/anna/anaconda3/envs/agri/lib/python3.7/site-packages (from rasterio==1.2.0->-r requirements.txt (line 5)) (7.1.2)\n",
      "Requirement already satisfied: click-plugins in /home/anna/anaconda3/envs/agri/lib/python3.7/site-packages (from rasterio==1.2.0->-r requirements.txt (line 5)) (1.1.1)\n",
      "Requirement already satisfied: snuggs>=1.4.1 in /home/anna/anaconda3/envs/agri/lib/python3.7/site-packages (from rasterio==1.2.0->-r requirements.txt (line 5)) (1.4.7)\n",
      "Requirement already satisfied: typing-extensions>=3.7 in /home/anna/anaconda3/envs/agri/lib/python3.7/site-packages (from radiant_mlhub==0.4.1->-r requirements.txt (line 7)) (4.3.0)\n",
      "Requirement already satisfied: requests~=2.25 in /home/anna/anaconda3/envs/agri/lib/python3.7/site-packages (from radiant_mlhub==0.4.1->-r requirements.txt (line 7)) (2.28.1)\n",
      "Requirement already satisfied: pystac~=1.1 in /home/anna/anaconda3/envs/agri/lib/python3.7/site-packages (from radiant_mlhub==0.4.1->-r requirements.txt (line 7)) (1.5.0)\n",
      "Requirement already satisfied: tifffile>=2019.7.26 in /home/anna/anaconda3/envs/agri/lib/python3.7/site-packages (from scikit-image==0.18.3->-r requirements.txt (line 10)) (2021.11.2)\n",
      "Requirement already satisfied: networkx>=2.0 in /home/anna/anaconda3/envs/agri/lib/python3.7/site-packages (from scikit-image==0.18.3->-r requirements.txt (line 10)) (2.6.3)\n",
      "Requirement already satisfied: PyWavelets>=1.1.1 in /home/anna/anaconda3/envs/agri/lib/python3.7/site-packages (from scikit-image==0.18.3->-r requirements.txt (line 10)) (1.3.0)\n",
      "Requirement already satisfied: imageio>=2.3.0 in /home/anna/anaconda3/envs/agri/lib/python3.7/site-packages (from scikit-image==0.18.3->-r requirements.txt (line 10)) (2.9.0)\n",
      "Requirement already satisfied: kiwisolver>=1.0.1 in /home/anna/anaconda3/envs/agri/lib/python3.7/site-packages (from matplotlib==3.2.2->-r requirements.txt (line 11)) (1.4.4)\n",
      "Requirement already satisfied: pyparsing!=2.0.4,!=2.1.2,!=2.1.6,>=2.0.1 in /home/anna/anaconda3/envs/agri/lib/python3.7/site-packages (from matplotlib==3.2.2->-r requirements.txt (line 11)) (3.0.9)\n",
      "Requirement already satisfied: cycler>=0.10 in /home/anna/anaconda3/envs/agri/lib/python3.7/site-packages (from matplotlib==3.2.2->-r requirements.txt (line 11)) (0.11.0)\n",
      "Requirement already satisfied: google-auth-oauthlib<0.5,>=0.4.1 in /home/anna/anaconda3/envs/agri/lib/python3.7/site-packages (from tensorboard==2.8.0->-r requirements.txt (line 14)) (0.4.6)\n",
      "Requirement already satisfied: tensorboard-data-server<0.7.0,>=0.6.0 in /home/anna/anaconda3/envs/agri/lib/python3.7/site-packages (from tensorboard==2.8.0->-r requirements.txt (line 14)) (0.6.1)\n",
      "Requirement already satisfied: markdown>=2.6.8 in /home/anna/anaconda3/envs/agri/lib/python3.7/site-packages (from tensorboard==2.8.0->-r requirements.txt (line 14)) (3.4.1)\n",
      "Requirement already satisfied: google-auth<3,>=1.6.3 in /home/anna/anaconda3/envs/agri/lib/python3.7/site-packages (from tensorboard==2.8.0->-r requirements.txt (line 14)) (2.11.0)\n",
      "Requirement already satisfied: absl-py>=0.4 in /home/anna/anaconda3/envs/agri/lib/python3.7/site-packages (from tensorboard==2.8.0->-r requirements.txt (line 14)) (1.2.0)\n",
      "Requirement already satisfied: protobuf>=3.6.0 in /home/anna/anaconda3/envs/agri/lib/python3.7/site-packages (from tensorboard==2.8.0->-r requirements.txt (line 14)) (4.21.5)\n",
      "Requirement already satisfied: wheel>=0.26 in /home/anna/anaconda3/envs/agri/lib/python3.7/site-packages (from tensorboard==2.8.0->-r requirements.txt (line 14)) (0.37.1)\n",
      "Requirement already satisfied: setuptools>=41.0.0 in /home/anna/anaconda3/envs/agri/lib/python3.7/site-packages (from tensorboard==2.8.0->-r requirements.txt (line 14)) (63.4.1)\n",
      "Requirement already satisfied: werkzeug>=0.11.15 in /home/anna/anaconda3/envs/agri/lib/python3.7/site-packages (from tensorboard==2.8.0->-r requirements.txt (line 14)) (2.2.2)\n",
      "Requirement already satisfied: tensorboard-plugin-wit>=1.6.0 in /home/anna/anaconda3/envs/agri/lib/python3.7/site-packages (from tensorboard==2.8.0->-r requirements.txt (line 14)) (1.8.1)\n",
      "Requirement already satisfied: grpcio>=1.24.3 in /home/anna/anaconda3/envs/agri/lib/python3.7/site-packages (from tensorboard==2.8.0->-r requirements.txt (line 14)) (1.48.1)\n",
      "Requirement already satisfied: six>=1.9.0 in /home/anna/anaconda3/envs/agri/lib/python3.7/site-packages (from google-auth<3,>=1.6.3->tensorboard==2.8.0->-r requirements.txt (line 14)) (1.16.0)\n",
      "Requirement already satisfied: rsa<5,>=3.1.4 in /home/anna/anaconda3/envs/agri/lib/python3.7/site-packages (from google-auth<3,>=1.6.3->tensorboard==2.8.0->-r requirements.txt (line 14)) (4.9)\n",
      "Requirement already satisfied: cachetools<6.0,>=2.0.0 in /home/anna/anaconda3/envs/agri/lib/python3.7/site-packages (from google-auth<3,>=1.6.3->tensorboard==2.8.0->-r requirements.txt (line 14)) (5.2.0)\n",
      "Requirement already satisfied: pyasn1-modules>=0.2.1 in /home/anna/anaconda3/envs/agri/lib/python3.7/site-packages (from google-auth<3,>=1.6.3->tensorboard==2.8.0->-r requirements.txt (line 14)) (0.2.8)\n",
      "Requirement already satisfied: requests-oauthlib>=0.7.0 in /home/anna/anaconda3/envs/agri/lib/python3.7/site-packages (from google-auth-oauthlib<0.5,>=0.4.1->tensorboard==2.8.0->-r requirements.txt (line 14)) (1.3.1)\n",
      "Requirement already satisfied: importlib-metadata>=4.4 in /home/anna/anaconda3/envs/agri/lib/python3.7/site-packages (from markdown>=2.6.8->tensorboard==2.8.0->-r requirements.txt (line 14)) (4.12.0)\n",
      "Requirement already satisfied: charset-normalizer<3,>=2 in /home/anna/anaconda3/envs/agri/lib/python3.7/site-packages (from requests~=2.25->radiant_mlhub==0.4.1->-r requirements.txt (line 7)) (2.1.1)\n",
      "Requirement already satisfied: idna<4,>=2.5 in /home/anna/anaconda3/envs/agri/lib/python3.7/site-packages (from requests~=2.25->radiant_mlhub==0.4.1->-r requirements.txt (line 7)) (3.3)\n",
      "Requirement already satisfied: urllib3<1.27,>=1.21.1 in /home/anna/anaconda3/envs/agri/lib/python3.7/site-packages (from requests~=2.25->radiant_mlhub==0.4.1->-r requirements.txt (line 7)) (1.26.12)\n",
      "Requirement already satisfied: MarkupSafe>=2.1.1 in /home/anna/anaconda3/envs/agri/lib/python3.7/site-packages (from werkzeug>=0.11.15->tensorboard==2.8.0->-r requirements.txt (line 14)) (2.1.1)\n",
      "Requirement already satisfied: zipp>=0.5 in /home/anna/anaconda3/envs/agri/lib/python3.7/site-packages (from importlib-metadata>=4.4->markdown>=2.6.8->tensorboard==2.8.0->-r requirements.txt (line 14)) (3.8.1)\n",
      "Requirement already satisfied: pyasn1<0.5.0,>=0.4.6 in /home/anna/anaconda3/envs/agri/lib/python3.7/site-packages (from pyasn1-modules>=0.2.1->google-auth<3,>=1.6.3->tensorboard==2.8.0->-r requirements.txt (line 14)) (0.4.8)\n",
      "Requirement already satisfied: oauthlib>=3.0.0 in /home/anna/anaconda3/envs/agri/lib/python3.7/site-packages (from requests-oauthlib>=0.7.0->google-auth-oauthlib<0.5,>=0.4.1->tensorboard==2.8.0->-r requirements.txt (line 14)) (3.2.1)\n"
     ]
    }
   ],
   "source": [
    "!pip install -r requirements.txt"
   ]
  },
  {
   "cell_type": "code",
   "execution_count": 75,
   "id": "28ea6e7d",
   "metadata": {
    "id": "28ea6e7d"
   },
   "outputs": [],
   "source": [
    "import os\n",
    "import json\n",
    "import getpass\n",
    "import rasterio\n",
    "import numpy as np\n",
    "import pandas as pd\n",
    "from tqdm import tqdm\n",
    "from radiant_mlhub import Dataset\n",
    "import tarfile\n",
    "import shutil\n",
    "import numpy as np\n",
    "import pandas as pd\n",
    "import torch\n",
    "import torch.utils.data\n",
    "from torch import nn\n",
    "from skimage import io\n",
    "from torchvision import transforms as torch_transforms\n",
    "import pylab as plt\n",
    "from PIL import Image\n",
    "from skimage.segmentation import mark_boundaries\n",
    "from monai.networks.layers import Norm\n",
    "from monai.networks.nets import UNet\n",
    "from monai.losses import DiceLoss, DiceCELoss, MaskedDiceLoss\n",
    "from monai.metrics import DiceMetric\n",
    "# from torch.utils.tensorboard import SummaryWriter"
   ]
  },
  {
   "cell_type": "markdown",
   "id": "fQpDLC79m5A4",
   "metadata": {
    "id": "fQpDLC79m5A4"
   },
   "source": [
    "## Specify global parameters"
   ]
  },
  {
   "cell_type": "code",
   "execution_count": 4,
   "id": "rKuZKO3em_Av",
   "metadata": {
    "id": "rKuZKO3em_Av"
   },
   "outputs": [],
   "source": [
    "data_dir = 'data'\n",
    "random_seed = 42\n",
    "\n",
    "train_df_path = 'train_data.csv'\n",
    "\n",
    "BAND_NAMES = ['B01', 'B02', 'B03', 'B04','B05', 'B06', 'B07', 'B08','B8A', 'B09', 'B11', 'B12']"
   ]
  },
  {
   "cell_type": "code",
   "execution_count": 5,
   "id": "S-_SPonZnI8f",
   "metadata": {
    "id": "S-_SPonZnI8f"
   },
   "outputs": [],
   "source": [
    "np.random.seed(random_seed)"
   ]
  },
  {
   "cell_type": "markdown",
   "id": "835834a1",
   "metadata": {
    "id": "835834a1"
   },
   "source": [
    "## Download data from MLHUB\n"
   ]
  },
  {
   "cell_type": "code",
   "execution_count": 6,
   "id": "v6t8zd3bJB51",
   "metadata": {
    "id": "v6t8zd3bJB51"
   },
   "outputs": [],
   "source": [
    "collection_name = 'ref_agrifieldnet_competition_v1'\n",
    "\n",
    "source_collection = f'{collection_name}_source'\n",
    "train_label_collection = f'{collection_name}_labels_train'\n",
    "test_label_collection = f'{collection_name}_labels_test'"
   ]
  },
  {
   "cell_type": "code",
   "execution_count": 7,
   "id": "cb1f3921",
   "metadata": {
    "colab": {
     "base_uri": "https://localhost:8080/",
     "height": 310,
     "referenced_widgets": [
      "24207ebbe13b4bdc8f6810bb004e8769",
      "032f6c67de004f1b927426e714061b1a",
      "11a0d359ef1c42429cc3f1abbaa67f34",
      "1e52500ce9854904bc22a8fff28960f9",
      "931fe5ed1fac4f468a64f04b3e4846a2",
      "90dc6c5efd5c48089cc0065715dba68e",
      "e0cfd1056f3d475b904ac595e84be158",
      "2909a3de4de443aaab53e3625077b12c",
      "7cebb25bfb6043bdb528194f3496e3a3",
      "1dcb36cf99a245c0a1cacb30f6692335",
      "0859e23566194074a0524ea407644119",
      "6c65f1caf23f462693a2ba7a0dd875a7",
      "1961cd3c7c60469ba7fe2f28a1a51ee2",
      "56b38b036ca24325bc26853bff8b9b80",
      "21c32511bd904e4592ce08d40377d716",
      "94b82aea913e4fc093fd0652a9226b88",
      "d10ea3df038f41a9b65dd781d50aef24",
      "91698ddb9b034c398e3cbc1d38eaf225",
      "70aaf09b7b5f4504bfdd00819fd523d8",
      "0460f6a5d1db4d72a1dd2ae8deffa9af",
      "0f40d3a82d304d27923028d4eca0ad2a",
      "62af1f13f6a742a99b069dbb33a000e5",
      "972a0807d80a4bc2a47197509ac831d4",
      "6a515afb59144c0f96fc0980b7a2bc82",
      "5f60ef8d2627487a8e5e625081214e0f",
      "e65654a899bb4c32bbd21ec0ce255c94",
      "a29c7a8db3c1471db396f6b1342af56a",
      "63e476535b6b410faacc36b4626f8849",
      "f13571d59cef4845937b2989b5b63490",
      "46c7a9901ece4d96a2b1471d7b4edc19",
      "725fc334d33f431486fbe6ea59274ec6",
      "e823cc89ac994cfb9feaa8973687a46f",
      "20e9ff5838594819876eeeb1797cca02"
     ]
    },
    "id": "cb1f3921",
    "outputId": "8ce367e0-a52e-43fa-eb9a-a0ed846da2ca",
    "scrolled": true
   },
   "outputs": [
    {
     "name": "stdout",
     "output_type": "stream",
     "text": [
      "Dataset already exists\n"
     ]
    }
   ],
   "source": [
    "if not os.path.exists(data_dir):\n",
    "  os.environ['MLHUB_API_KEY'] =  getpass.getpass(prompt=\"MLHub API Key: \")\n",
    "\n",
    "  dataset = Dataset.fetch(collection_name)\n",
    "  dataset.download(output_dir=data_dir)\n",
    "  for fn in os.listdir(data_dir):\n",
    "    with tarfile.open(os.path.join(data_dir, fn)) as f:\n",
    "      f.extractall(data_dir + '/') \n",
    "    os.remove(os.path.join(data_dir, fn))\n",
    "else:\n",
    "  print(\"Dataset already exists\")"
   ]
  },
  {
   "cell_type": "markdown",
   "id": "c2b7152b",
   "metadata": {
    "id": "c2b7152b"
   },
   "source": [
    "## Prepare Training data\n"
   ]
  },
  {
   "cell_type": "markdown",
   "id": "HjvBEfBWmYY0",
   "metadata": {
    "id": "HjvBEfBWmYY0"
   },
   "source": [
    "### Create training dataframe"
   ]
  },
  {
   "cell_type": "code",
   "execution_count": 8,
   "id": "GV9mPA1VTqt4",
   "metadata": {
    "id": "GV9mPA1VTqt4"
   },
   "outputs": [],
   "source": [
    "train_paths = os.listdir(os.path.join(data_dir, train_label_collection))\n",
    "train_ids = [fn.split('_')[-1] for fn in train_paths if 'labels_train' in fn]\n",
    "\n",
    "field_paths = [f'{data_dir}/{train_label_collection}/{train_label_collection}_{i}/field_ids.tif' \n",
    "               for i in train_ids]\n",
    "label_paths = [f'{data_dir}/{train_label_collection}/{train_label_collection}_{i}/raster_labels.tif' \n",
    "               for i in train_ids]\n",
    "source_paths = [f'{data_dir}/{source_collection}/{source_collection}_{i}/' \n",
    "               for i in train_ids]"
   ]
  },
  {
   "cell_type": "code",
   "execution_count": 9,
   "id": "d158c3e9",
   "metadata": {
    "colab": {
     "base_uri": "https://localhost:8080/",
     "height": 270
    },
    "id": "d158c3e9",
    "outputId": "3c832f93-816e-4ebf-be6a-36b876ed29c3"
   },
   "outputs": [
    {
     "data": {
      "text/html": [
       "<div>\n",
       "<style scoped>\n",
       "    .dataframe tbody tr th:only-of-type {\n",
       "        vertical-align: middle;\n",
       "    }\n",
       "\n",
       "    .dataframe tbody tr th {\n",
       "        vertical-align: top;\n",
       "    }\n",
       "\n",
       "    .dataframe thead th {\n",
       "        text-align: right;\n",
       "    }\n",
       "</style>\n",
       "<table border=\"1\" class=\"dataframe\">\n",
       "  <thead>\n",
       "    <tr style=\"text-align: right;\">\n",
       "      <th></th>\n",
       "      <th>folder_id</th>\n",
       "      <th>field_path</th>\n",
       "      <th>label_path</th>\n",
       "      <th>source_path</th>\n",
       "    </tr>\n",
       "  </thead>\n",
       "  <tbody>\n",
       "    <tr>\n",
       "      <th>0</th>\n",
       "      <td>485ab</td>\n",
       "      <td>data/ref_agrifieldnet_competition_v1_labels_tr...</td>\n",
       "      <td>data/ref_agrifieldnet_competition_v1_labels_tr...</td>\n",
       "      <td>data/ref_agrifieldnet_competition_v1_source/re...</td>\n",
       "    </tr>\n",
       "    <tr>\n",
       "      <th>1</th>\n",
       "      <td>47271</td>\n",
       "      <td>data/ref_agrifieldnet_competition_v1_labels_tr...</td>\n",
       "      <td>data/ref_agrifieldnet_competition_v1_labels_tr...</td>\n",
       "      <td>data/ref_agrifieldnet_competition_v1_source/re...</td>\n",
       "    </tr>\n",
       "    <tr>\n",
       "      <th>2</th>\n",
       "      <td>1c08c</td>\n",
       "      <td>data/ref_agrifieldnet_competition_v1_labels_tr...</td>\n",
       "      <td>data/ref_agrifieldnet_competition_v1_labels_tr...</td>\n",
       "      <td>data/ref_agrifieldnet_competition_v1_source/re...</td>\n",
       "    </tr>\n",
       "    <tr>\n",
       "      <th>3</th>\n",
       "      <td>5c4fa</td>\n",
       "      <td>data/ref_agrifieldnet_competition_v1_labels_tr...</td>\n",
       "      <td>data/ref_agrifieldnet_competition_v1_labels_tr...</td>\n",
       "      <td>data/ref_agrifieldnet_competition_v1_source/re...</td>\n",
       "    </tr>\n",
       "    <tr>\n",
       "      <th>4</th>\n",
       "      <td>200d3</td>\n",
       "      <td>data/ref_agrifieldnet_competition_v1_labels_tr...</td>\n",
       "      <td>data/ref_agrifieldnet_competition_v1_labels_tr...</td>\n",
       "      <td>data/ref_agrifieldnet_competition_v1_source/re...</td>\n",
       "    </tr>\n",
       "  </tbody>\n",
       "</table>\n",
       "</div>"
      ],
      "text/plain": [
       "  folder_id                                         field_path  \\\n",
       "0     485ab  data/ref_agrifieldnet_competition_v1_labels_tr...   \n",
       "1     47271  data/ref_agrifieldnet_competition_v1_labels_tr...   \n",
       "2     1c08c  data/ref_agrifieldnet_competition_v1_labels_tr...   \n",
       "3     5c4fa  data/ref_agrifieldnet_competition_v1_labels_tr...   \n",
       "4     200d3  data/ref_agrifieldnet_competition_v1_labels_tr...   \n",
       "\n",
       "                                          label_path  \\\n",
       "0  data/ref_agrifieldnet_competition_v1_labels_tr...   \n",
       "1  data/ref_agrifieldnet_competition_v1_labels_tr...   \n",
       "2  data/ref_agrifieldnet_competition_v1_labels_tr...   \n",
       "3  data/ref_agrifieldnet_competition_v1_labels_tr...   \n",
       "4  data/ref_agrifieldnet_competition_v1_labels_tr...   \n",
       "\n",
       "                                         source_path  \n",
       "0  data/ref_agrifieldnet_competition_v1_source/re...  \n",
       "1  data/ref_agrifieldnet_competition_v1_source/re...  \n",
       "2  data/ref_agrifieldnet_competition_v1_source/re...  \n",
       "3  data/ref_agrifieldnet_competition_v1_source/re...  \n",
       "4  data/ref_agrifieldnet_competition_v1_source/re...  "
      ]
     },
     "execution_count": 9,
     "metadata": {},
     "output_type": "execute_result"
    }
   ],
   "source": [
    "train_data = pd.DataFrame(np.array([train_ids, field_paths, label_paths, source_paths]).transpose(), \n",
    "                          columns=['folder_id', 'field_path', 'label_path', 'source_path'])\n",
    "train_data.head()"
   ]
  },
  {
   "cell_type": "markdown",
   "id": "45b0528d-12b9-4c3d-9349-b87d0125452b",
   "metadata": {},
   "source": [
    "## Extract field-crop data"
   ]
  },
  {
   "cell_type": "code",
   "execution_count": 118,
   "id": "bb718754-8b9d-41dc-af37-785f08813783",
   "metadata": {},
   "outputs": [
    {
     "name": "stderr",
     "output_type": "stream",
     "text": [
      "100%|██████████████████████████████████████████████████| 1165/1165 [00:07<00:00, 156.11it/s]\n"
     ]
    }
   ],
   "source": [
    "field_ids = []\n",
    "crop_type = []\n",
    "field_area = []\n",
    "field_max_dim = []\n",
    "field_center_x = []\n",
    "field_center_y = []\n",
    "label_paths = []\n",
    "field_paths = []\n",
    "source_paths = []\n",
    "\n",
    "for i in tqdm(range(len(train_data))):\n",
    "    with rasterio.open(train_data['field_path'].iloc[i]) as src:\n",
    "        field_data = src.read()[0]\n",
    "    with rasterio.open(train_data['label_path'].iloc[i]) as src:\n",
    "        crop_data = src.read()[0]\n",
    "\n",
    "    for field_id in np.unique(field_data)[1:]:\n",
    "        ind = np.where(field_data == field_id)\n",
    "        field_ids.append(field_id)\n",
    "        crop_type.append(np.unique(crop_data[ind])[-1])\n",
    "        field_area.append(len(ind[0]))\n",
    "        field_max_dim.append(np.max(np.array(ind).max(1) - np.array(ind).min(1) + 1))\n",
    "        field_center_y.append(np.mean(ind[0]))\n",
    "        field_center_x.append(np.mean(ind[1]))\n",
    "        label_paths.append(train_data['label_path'].iloc[i])\n",
    "        field_paths.append(train_data['field_path'].iloc[i])\n",
    "        source_paths.append(train_data['source_path'].iloc[i])"
   ]
  },
  {
   "cell_type": "code",
   "execution_count": 126,
   "id": "5183ef75-0a19-49a4-a743-787bf98990f4",
   "metadata": {},
   "outputs": [],
   "source": [
    "df = pd.DataFrame(np.array([field_ids, crop_type, field_area, \n",
    "                            field_max_dim, field_center_x, field_center_y]).transpose(),\n",
    "                  columns=['field_id', 'crop_type', 'field_area', \n",
    "                           'field_max_dim', 'center_x', 'center_y'])\n",
    "df['label_path'] = label_paths\n",
    "df['field_path'] = field_paths\n",
    "df['source_path'] = source_paths"
   ]
  },
  {
   "cell_type": "code",
   "execution_count": 135,
   "id": "82363a48-77b1-43d9-9b4b-30399290ec97",
   "metadata": {},
   "outputs": [
    {
     "data": {
      "text/plain": [
       "54.0"
      ]
     },
     "execution_count": 135,
     "metadata": {},
     "output_type": "execute_result"
    }
   ],
   "source": [
    "maxdim = df['field_max_dim'].max()\n",
    "maxdim"
   ]
  },
  {
   "cell_type": "code",
   "execution_count": 136,
   "id": "cb8235d3-3f09-4bb7-b32b-3e5c7ba966fc",
   "metadata": {},
   "outputs": [],
   "source": [
    "size = 64"
   ]
  },
  {
   "cell_type": "code",
   "execution_count": 165,
   "id": "6a60b82a-1292-43f1-b16d-36964250029c",
   "metadata": {},
   "outputs": [
    {
     "data": {
      "text/plain": [
       "0.0004934933587038231"
      ]
     },
     "execution_count": 165,
     "metadata": {},
     "output_type": "execute_result"
    }
   ],
   "source": [
    "mean_area_fraction = np.mean(df['field_area']) / 256**2\n",
    "mean_area_fraction"
   ]
  },
  {
   "cell_type": "code",
   "execution_count": 127,
   "id": "b01506ef-4bbb-4a12-8d56-2f7f705d21d8",
   "metadata": {},
   "outputs": [],
   "source": [
    "df = df.sort_values(['crop_type', 'field_id']).reset_index(drop=True)\n",
    "df['count'] = 1"
   ]
  },
  {
   "cell_type": "code",
   "execution_count": 128,
   "id": "45cc2bcb-44bd-4688-b0e0-fbfb3991f559",
   "metadata": {},
   "outputs": [
    {
     "data": {
      "text/html": [
       "<div>\n",
       "<style scoped>\n",
       "    .dataframe tbody tr th:only-of-type {\n",
       "        vertical-align: middle;\n",
       "    }\n",
       "\n",
       "    .dataframe tbody tr th {\n",
       "        vertical-align: top;\n",
       "    }\n",
       "\n",
       "    .dataframe thead th {\n",
       "        text-align: right;\n",
       "    }\n",
       "</style>\n",
       "<table border=\"1\" class=\"dataframe\">\n",
       "  <thead>\n",
       "    <tr style=\"text-align: right;\">\n",
       "      <th></th>\n",
       "      <th>field_id</th>\n",
       "      <th>field_area</th>\n",
       "      <th>field_max_dim</th>\n",
       "      <th>center_x</th>\n",
       "      <th>center_y</th>\n",
       "      <th>count</th>\n",
       "    </tr>\n",
       "    <tr>\n",
       "      <th>crop_type</th>\n",
       "      <th></th>\n",
       "      <th></th>\n",
       "      <th></th>\n",
       "      <th></th>\n",
       "      <th></th>\n",
       "      <th></th>\n",
       "    </tr>\n",
       "  </thead>\n",
       "  <tbody>\n",
       "    <tr>\n",
       "      <th>1.0</th>\n",
       "      <td>6241369.0</td>\n",
       "      <td>75118.0</td>\n",
       "      <td>17357.0</td>\n",
       "      <td>268141.027810</td>\n",
       "      <td>272345.129440</td>\n",
       "      <td>2148</td>\n",
       "    </tr>\n",
       "    <tr>\n",
       "      <th>2.0</th>\n",
       "      <td>3951325.0</td>\n",
       "      <td>46818.0</td>\n",
       "      <td>9542.0</td>\n",
       "      <td>134534.280499</td>\n",
       "      <td>135859.037956</td>\n",
       "      <td>1041</td>\n",
       "    </tr>\n",
       "    <tr>\n",
       "      <th>3.0</th>\n",
       "      <td>197850.0</td>\n",
       "      <td>2883.0</td>\n",
       "      <td>786.0</td>\n",
       "      <td>14378.647796</td>\n",
       "      <td>13225.595171</td>\n",
       "      <td>105</td>\n",
       "    </tr>\n",
       "    <tr>\n",
       "      <th>4.0</th>\n",
       "      <td>6633376.0</td>\n",
       "      <td>36397.0</td>\n",
       "      <td>10366.0</td>\n",
       "      <td>214265.322749</td>\n",
       "      <td>221002.721353</td>\n",
       "      <td>1707</td>\n",
       "    </tr>\n",
       "    <tr>\n",
       "      <th>5.0</th>\n",
       "      <td>53102.0</td>\n",
       "      <td>531.0</td>\n",
       "      <td>177.0</td>\n",
       "      <td>3473.416281</td>\n",
       "      <td>3866.649834</td>\n",
       "      <td>25</td>\n",
       "    </tr>\n",
       "    <tr>\n",
       "      <th>6.0</th>\n",
       "      <td>279015.0</td>\n",
       "      <td>5820.0</td>\n",
       "      <td>1451.0</td>\n",
       "      <td>22128.328845</td>\n",
       "      <td>21726.170139</td>\n",
       "      <td>173</td>\n",
       "    </tr>\n",
       "    <tr>\n",
       "      <th>8.0</th>\n",
       "      <td>255632.0</td>\n",
       "      <td>3150.0</td>\n",
       "      <td>526.0</td>\n",
       "      <td>5984.146869</td>\n",
       "      <td>6461.463742</td>\n",
       "      <td>49</td>\n",
       "    </tr>\n",
       "    <tr>\n",
       "      <th>9.0</th>\n",
       "      <td>2000157.0</td>\n",
       "      <td>8773.0</td>\n",
       "      <td>2275.0</td>\n",
       "      <td>37997.718876</td>\n",
       "      <td>38870.447163</td>\n",
       "      <td>304</td>\n",
       "    </tr>\n",
       "    <tr>\n",
       "      <th>13.0</th>\n",
       "      <td>360261.0</td>\n",
       "      <td>3503.0</td>\n",
       "      <td>647.0</td>\n",
       "      <td>6351.534183</td>\n",
       "      <td>7946.557215</td>\n",
       "      <td>64</td>\n",
       "    </tr>\n",
       "    <tr>\n",
       "      <th>14.0</th>\n",
       "      <td>43859.0</td>\n",
       "      <td>678.0</td>\n",
       "      <td>117.0</td>\n",
       "      <td>1816.976855</td>\n",
       "      <td>1851.925902</td>\n",
       "      <td>14</td>\n",
       "    </tr>\n",
       "    <tr>\n",
       "      <th>15.0</th>\n",
       "      <td>201531.0</td>\n",
       "      <td>886.0</td>\n",
       "      <td>268.0</td>\n",
       "      <td>5912.969947</td>\n",
       "      <td>5916.743522</td>\n",
       "      <td>43</td>\n",
       "    </tr>\n",
       "    <tr>\n",
       "      <th>16.0</th>\n",
       "      <td>42092.0</td>\n",
       "      <td>261.0</td>\n",
       "      <td>84.0</td>\n",
       "      <td>2209.161892</td>\n",
       "      <td>2083.167741</td>\n",
       "      <td>16</td>\n",
       "    </tr>\n",
       "    <tr>\n",
       "      <th>36.0</th>\n",
       "      <td>660043.0</td>\n",
       "      <td>3410.0</td>\n",
       "      <td>811.0</td>\n",
       "      <td>17219.239273</td>\n",
       "      <td>17613.762107</td>\n",
       "      <td>131</td>\n",
       "    </tr>\n",
       "  </tbody>\n",
       "</table>\n",
       "</div>"
      ],
      "text/plain": [
       "            field_id  field_area  field_max_dim       center_x       center_y  \\\n",
       "crop_type                                                                       \n",
       "1.0        6241369.0     75118.0        17357.0  268141.027810  272345.129440   \n",
       "2.0        3951325.0     46818.0         9542.0  134534.280499  135859.037956   \n",
       "3.0         197850.0      2883.0          786.0   14378.647796   13225.595171   \n",
       "4.0        6633376.0     36397.0        10366.0  214265.322749  221002.721353   \n",
       "5.0          53102.0       531.0          177.0    3473.416281    3866.649834   \n",
       "6.0         279015.0      5820.0         1451.0   22128.328845   21726.170139   \n",
       "8.0         255632.0      3150.0          526.0    5984.146869    6461.463742   \n",
       "9.0        2000157.0      8773.0         2275.0   37997.718876   38870.447163   \n",
       "13.0        360261.0      3503.0          647.0    6351.534183    7946.557215   \n",
       "14.0         43859.0       678.0          117.0    1816.976855    1851.925902   \n",
       "15.0        201531.0       886.0          268.0    5912.969947    5916.743522   \n",
       "16.0         42092.0       261.0           84.0    2209.161892    2083.167741   \n",
       "36.0        660043.0      3410.0          811.0   17219.239273   17613.762107   \n",
       "\n",
       "           count  \n",
       "crop_type         \n",
       "1.0         2148  \n",
       "2.0         1041  \n",
       "3.0          105  \n",
       "4.0         1707  \n",
       "5.0           25  \n",
       "6.0          173  \n",
       "8.0           49  \n",
       "9.0          304  \n",
       "13.0          64  \n",
       "14.0          14  \n",
       "15.0          43  \n",
       "16.0          16  \n",
       "36.0         131  "
      ]
     },
     "execution_count": 128,
     "metadata": {},
     "output_type": "execute_result"
    }
   ],
   "source": [
    "df.groupby('crop_type').sum()"
   ]
  },
  {
   "cell_type": "markdown",
   "id": "tXq1MIEveISx",
   "metadata": {
    "id": "tXq1MIEveISx"
   },
   "source": [
    "### Split the data into train and validation"
   ]
  },
  {
   "cell_type": "code",
   "execution_count": 129,
   "id": "a2602227-d512-4688-8f3d-f4db60a7e8ac",
   "metadata": {},
   "outputs": [],
   "source": [
    "val_fraction = 0.2"
   ]
  },
  {
   "cell_type": "code",
   "execution_count": 130,
   "id": "25140a45-6438-481e-8b13-a79af4ee368b",
   "metadata": {},
   "outputs": [],
   "source": [
    "df_train = []\n",
    "df_val = []\n",
    "for crop in df['crop_type'].unique():\n",
    "    cur_df = df[df['crop_type'] == crop].reset_index(drop=True)\n",
    "    unique_field_ids = cur_df['field_id'].unique()\n",
    "    ind = np.arange(len(unique_field_ids))\n",
    "    np.random.shuffle(ind)\n",
    "    n_val = int(round(val_fraction * len(ind)))\n",
    "    df_val.append(cur_df[cur_df['field_id'].isin(unique_field_ids[ind[:n_val]])])\n",
    "    df_train.append(cur_df[cur_df['field_id'].isin(unique_field_ids[ind[n_val:]])])\n",
    "df_train = pd.concat(df_train, ignore_index=True)\n",
    "df_val = pd.concat(df_val, ignore_index=True)"
   ]
  },
  {
   "cell_type": "code",
   "execution_count": 131,
   "id": "e39b9856-01db-4d36-9864-b94c5fb6e94c",
   "metadata": {},
   "outputs": [],
   "source": [
    "n_fields = np.array(df_train.groupby('crop_type').sum()['count'])\n",
    "weights = np.max(n_fields) / n_fields\n",
    "crop_labels = np.unique(df_train['crop_type'])"
   ]
  },
  {
   "cell_type": "code",
   "execution_count": 132,
   "id": "7ec96419-52ff-4639-af1a-8e67bf9c22f6",
   "metadata": {},
   "outputs": [
    {
     "data": {
      "text/plain": [
       "(array([ 1.,  2.,  3.,  4.,  5.,  6.,  8.,  9., 13., 14., 15., 16., 36.]),\n",
       " array([  1.        ,   2.06954436,  20.79518072,   1.26169591,\n",
       "         90.84210526,  12.50724638,  44.25641026,   7.07377049,\n",
       "         33.19230769, 156.90909091,  50.76470588, 132.76923077,\n",
       "         16.43809524]))"
      ]
     },
     "execution_count": 132,
     "metadata": {},
     "output_type": "execute_result"
    }
   ],
   "source": [
    "crop_labels, weights"
   ]
  },
  {
   "cell_type": "code",
   "execution_count": 169,
   "id": "01d13012-267b-4c53-9f8e-43c3bea62c1e",
   "metadata": {},
   "outputs": [
    {
     "data": {
      "text/plain": [
       "array([4.93493359e-04, 1.00000000e+00, 2.06954436e+00, 2.07951807e+01,\n",
       "       1.26169591e+00, 9.08421053e+01, 1.25072464e+01, 0.00000000e+00,\n",
       "       4.42564103e+01, 7.07377049e+00, 0.00000000e+00, 0.00000000e+00,\n",
       "       0.00000000e+00, 3.31923077e+01, 1.56909091e+02, 5.07647059e+01,\n",
       "       1.32769231e+02, 0.00000000e+00, 0.00000000e+00, 0.00000000e+00,\n",
       "       0.00000000e+00, 0.00000000e+00, 0.00000000e+00, 0.00000000e+00,\n",
       "       0.00000000e+00, 0.00000000e+00, 0.00000000e+00, 0.00000000e+00,\n",
       "       0.00000000e+00, 0.00000000e+00, 0.00000000e+00, 0.00000000e+00,\n",
       "       0.00000000e+00, 0.00000000e+00, 0.00000000e+00, 0.00000000e+00,\n",
       "       1.64380952e+01])"
      ]
     },
     "execution_count": 169,
     "metadata": {},
     "output_type": "execute_result"
    }
   ],
   "source": [
    "loss_weights = np.zeros(int(crop_labels.max()) + 1)\n",
    "loss_weights[0] = mean_area_fraction\n",
    "loss_weights[list(np.int_(crop_labels))] = weights\n",
    "loss_weights"
   ]
  },
  {
   "cell_type": "markdown",
   "id": "lLqI5XgBOyxE",
   "metadata": {
    "id": "lLqI5XgBOyxE"
   },
   "source": [
    "## Extract labels"
   ]
  },
  {
   "cell_type": "code",
   "execution_count": 133,
   "id": "p9s-spgZO12F",
   "metadata": {
    "id": "p9s-spgZO12F"
   },
   "outputs": [],
   "source": [
    "with open(f'{data_dir}/{train_label_collection}/{train_label_collection}'\n",
    "          f'_{train_data.iloc[0][\"folder_id\"]}/stac.json') as ll:\n",
    "    label_json = json.load(ll)"
   ]
  },
  {
   "cell_type": "code",
   "execution_count": 134,
   "id": "7rjt5idSPvjH",
   "metadata": {
    "colab": {
     "base_uri": "https://localhost:8080/"
    },
    "id": "7rjt5idSPvjH",
    "outputId": "3d461d06-c404-4392-b461-79929f41d73f"
   },
   "outputs": [
    {
     "data": {
      "text/plain": [
       "{1: 'Wheat',\n",
       " 2: 'Mustard',\n",
       " 3: 'Lentil',\n",
       " 4: 'No Crop',\n",
       " 6: 'Sugarcane',\n",
       " 8: 'Garlic',\n",
       " 15: 'Potato',\n",
       " 5: 'Green pea',\n",
       " 16: 'Bersem',\n",
       " 14: 'Coriander',\n",
       " 13: 'Gram',\n",
       " 9: 'Maize',\n",
       " 36: 'Rice'}"
      ]
     },
     "execution_count": 134,
     "metadata": {},
     "output_type": "execute_result"
    }
   ],
   "source": [
    "crop_dict = {asset.get('values')[0]:asset.get('summary') \n",
    "  for asset in label_json['assets']['raster_labels']['file:values']}\n",
    "crop_dict"
   ]
  },
  {
   "cell_type": "markdown",
   "id": "Etysg8Y8m0H5",
   "metadata": {
    "id": "Etysg8Y8m0H5"
   },
   "source": [
    "## Specify Data Loading pipeline"
   ]
  },
  {
   "cell_type": "markdown",
   "id": "GmmFMzALqPcQ",
   "metadata": {
    "id": "GmmFMzALqPcQ"
   },
   "source": [
    "### Specify parameters"
   ]
  },
  {
   "cell_type": "code",
   "execution_count": 16,
   "id": "6bZsIvgBqRer",
   "metadata": {
    "id": "6bZsIvgBqRer"
   },
   "outputs": [],
   "source": [
    "batch_size = 16"
   ]
  },
  {
   "cell_type": "markdown",
   "id": "1EVJPEqbnr_J",
   "metadata": {
    "id": "1EVJPEqbnr_J"
   },
   "source": [
    "### Specify the Dataset"
   ]
  },
  {
   "cell_type": "code",
   "execution_count": 153,
   "id": "2hX7SpwQe0H5",
   "metadata": {
    "id": "2hX7SpwQe0H5"
   },
   "outputs": [],
   "source": [
    "class AgriDataset(torch.utils.data.Dataset):\n",
    "\n",
    "  def __init__(self, df, transforms=None, \n",
    "               band_names=BAND_NAMES, size=64):\n",
    "    self.df = df\n",
    "    self.transforms = transforms\n",
    "    self.band_names = band_names\n",
    "    self.size = size\n",
    "\n",
    "  def __getitem__(self, index):\n",
    "    imgs = []\n",
    "    for band in self.band_names:\n",
    "      source_fn = rf\"{self.df.iloc[index]['source_path']}{band}.tif\"\n",
    "      with rasterio.open(source_fn) as src:\n",
    "        imgs.append(src.read()[0].astype(np.float64)/255.)\n",
    "    with rasterio.open(self.df.iloc[index]['label_path']) as src:\n",
    "      labels = src.read()[0].astype(np.int64)\n",
    "\n",
    "    labels = torch.tensor(labels).unsqueeze(0)\n",
    "    imgs = torch.tensor(np.array(imgs))\n",
    "    \n",
    "    hs = int(self.size/2)\n",
    "    ind = [self.df.iloc[index]['center_y'], self.df.iloc[index]['center_x']]\n",
    "    ind = np.max(np.array([[hs, hs], ind]), axis=0)\n",
    "    ind = np.int_(np.min(np.array([np.array(imgs.shape[-2:])-hs-1, ind]), axis=0))\n",
    "    labels = labels[:, ind[0]-hs:ind[0]+hs, ind[1]-hs:ind[1]+hs]\n",
    "    imgs = imgs[:, ind[0]-hs:ind[0]+hs, ind[1]-hs:ind[1]+hs]\n",
    "      \n",
    "    if self.transforms:\n",
    "      seed = np.random.randint(np.iinfo('int32').max)\n",
    "      torch.manual_seed(seed)\n",
    "      labels = self.transforms(labels)\n",
    "      torch.manual_seed(seed)\n",
    "      imgs = self.transforms(imgs)\n",
    "\n",
    "    return imgs.float(), labels\n",
    "    \n",
    "\n",
    "  def __len__(self):\n",
    "    return len(self.df)"
   ]
  },
  {
   "cell_type": "markdown",
   "id": "nN70MBjGzOUH",
   "metadata": {
    "id": "nN70MBjGzOUH"
   },
   "source": [
    "### Specify transforms"
   ]
  },
  {
   "cell_type": "code",
   "execution_count": 154,
   "id": "4MbR7RMSzRpO",
   "metadata": {
    "id": "4MbR7RMSzRpO"
   },
   "outputs": [],
   "source": [
    "train_transforms = torch_transforms.Compose([\n",
    "        torch_transforms.RandomHorizontalFlip(),\n",
    "        torch_transforms.RandomVerticalFlip(),\n",
    "        torch_transforms.RandomRotation(degrees=30),\n",
    "    ])\n",
    "\n",
    "validation_transforms = torch_transforms.Compose([\n",
    "        torch_transforms.RandomHorizontalFlip(),\n",
    "        torch_transforms.RandomVerticalFlip(),\n",
    "    ])"
   ]
  },
  {
   "cell_type": "markdown",
   "id": "TMWu0HGHLciF",
   "metadata": {
    "id": "TMWu0HGHLciF"
   },
   "source": [
    "### Test the loaders"
   ]
  },
  {
   "cell_type": "code",
   "execution_count": 155,
   "id": "CF_RmPV7mywU",
   "metadata": {
    "id": "CF_RmPV7mywU"
   },
   "outputs": [],
   "source": [
    "np.random.seed(random_seed)\n",
    "dl_train0 = torch.utils.data.DataLoader(\n",
    "    AgriDataset(df_train, size=size,\n",
    "                # transforms=train_transforms\n",
    "                ), \n",
    "    shuffle=False, batch_size=batch_size, num_workers=2\n",
    "    )\n",
    "dl_train = torch.utils.data.DataLoader(\n",
    "    AgriDataset(df_train, size=size,\n",
    "                transforms=train_transforms\n",
    "                ), \n",
    "    shuffle=False, batch_size=batch_size, num_workers=2\n",
    "    )\n",
    "dl_val = torch.utils.data.DataLoader(\n",
    "    AgriDataset(df_val, size=size,\n",
    "                transforms=validation_transforms\n",
    "                ), \n",
    "    shuffle=False, batch_size=batch_size, num_workers=2\n",
    "    )"
   ]
  },
  {
   "cell_type": "code",
   "execution_count": 156,
   "id": "-im5bMRLr8Zq",
   "metadata": {
    "id": "-im5bMRLr8Zq"
   },
   "outputs": [],
   "source": [
    "imgs, labels = next(iter(dl_train))\n",
    "imgs0, labels0 = next(iter(dl_train0))"
   ]
  },
  {
   "cell_type": "code",
   "execution_count": 157,
   "id": "u9iid9I7sPsF",
   "metadata": {
    "colab": {
     "base_uri": "https://localhost:8080/"
    },
    "id": "u9iid9I7sPsF",
    "outputId": "d95115f1-0f4a-4042-fed2-1890fb91ea74"
   },
   "outputs": [
    {
     "data": {
      "text/plain": [
       "(torch.Size([16, 12, 64, 64]), torch.Size([16, 1, 64, 64]))"
      ]
     },
     "execution_count": 157,
     "metadata": {},
     "output_type": "execute_result"
    }
   ],
   "source": [
    "imgs.shape, labels.shape"
   ]
  },
  {
   "cell_type": "code",
   "execution_count": 160,
   "id": "Q4mkN3NawctR",
   "metadata": {
    "id": "Q4mkN3NawctR"
   },
   "outputs": [],
   "source": [
    "ind = 0\n",
    "s = 3"
   ]
  },
  {
   "cell_type": "code",
   "execution_count": 161,
   "id": "dq3HRgpFydDU",
   "metadata": {
    "colab": {
     "base_uri": "https://localhost:8080/",
     "height": 0
    },
    "id": "dq3HRgpFydDU",
    "outputId": "9a33684c-6e0f-43ef-d574-f2fe251d1d77"
   },
   "outputs": [
    {
     "data": {
      "text/plain": [
       "<matplotlib.image.AxesImage at 0x7f9652128dd0>"
      ]
     },
     "execution_count": 161,
     "metadata": {},
     "output_type": "execute_result"
    },
    {
     "data": {
      "image/png": "[encoded data removed]",
      "text/plain": [
       "<Figure size 300x300 with 2 Axes>"
      ]
     },
     "metadata": {},
     "output_type": "display_data"
    }
   ],
   "source": [
    "plt.figure(figsize=(s,s))\n",
    "io.imshow(labels[ind][0].numpy())"
   ]
  },
  {
   "cell_type": "code",
   "execution_count": 162,
   "id": "juddfw_xIVX_",
   "metadata": {
    "colab": {
     "base_uri": "https://localhost:8080/",
     "height": 0
    },
    "id": "juddfw_xIVX_",
    "outputId": "06da8adb-0d01-405a-9cd0-77318e8b304d"
   },
   "outputs": [
    {
     "data": {
      "text/plain": [
       "<matplotlib.image.AxesImage at 0x7f96519d55d0>"
      ]
     },
     "execution_count": 162,
     "metadata": {},
     "output_type": "execute_result"
    },
    {
     "data": {
      "image/png": "[encoded data removed]",
      "text/plain": [
       "<Figure size 300x300 with 2 Axes>"
      ]
     },
     "metadata": {},
     "output_type": "display_data"
    }
   ],
   "source": [
    "plt.figure(figsize=(s,s))\n",
    "io.imshow(labels0[ind][0].numpy())"
   ]
  },
  {
   "cell_type": "code",
   "execution_count": 163,
   "id": "L3ssR_ibGyeG",
   "metadata": {
    "colab": {
     "base_uri": "https://localhost:8080/",
     "height": 0
    },
    "id": "L3ssR_ibGyeG",
    "outputId": "5c855e35-acaa-41fa-ec29-4de39dc7b072"
   },
   "outputs": [
    {
     "data": {
      "image/png": "[encoded data removed]",
      "text/plain": [
       "<Figure size 1200x900 with 12 Axes>"
      ]
     },
     "metadata": {},
     "output_type": "display_data"
    }
   ],
   "source": [
    "fig, axes = plt.subplots(3, 4, figsize=(s*4, s*3))\n",
    "for ax, img in zip(axes.ravel(), imgs[ind]):\n",
    "  plt.sca(ax)\n",
    "  im = img.numpy()\n",
    "  im = im / np.max(im)\n",
    "  io.imshow(mark_boundaries(im, labels[ind][0].numpy(), \n",
    "                            mode='outer'))"
   ]
  },
  {
   "cell_type": "code",
   "execution_count": 164,
   "id": "2zh4jKUlB_85",
   "metadata": {
    "colab": {
     "base_uri": "https://localhost:8080/",
     "height": 0
    },
    "id": "2zh4jKUlB_85",
    "outputId": "7bc9756a-15a8-469e-8cd6-8beb9635d46a"
   },
   "outputs": [
    {
     "data": {
      "image/png": "[encoded data removed]",
      "text/plain": [
       "<Figure size 1200x900 with 13 Axes>"
      ]
     },
     "metadata": {},
     "output_type": "display_data"
    }
   ],
   "source": [
    "fig, axes = plt.subplots(3, 4, figsize=(s*4, s*3))\n",
    "for ax, img in zip(axes.ravel(), imgs0[ind]):\n",
    "  plt.sca(ax)\n",
    "  im = img.numpy()\n",
    "  im = im / np.max(im)\n",
    "  io.imshow(mark_boundaries(im, labels0[ind][0].numpy(), \n",
    "                            mode='outer'))"
   ]
  },
  {
   "cell_type": "markdown",
   "id": "zrW5YsCYLkei",
   "metadata": {
    "id": "zrW5YsCYLkei"
   },
   "source": [
    "### Specify the loaders"
   ]
  },
  {
   "cell_type": "code",
   "execution_count": 170,
   "id": "Oo8c96-bFVaT",
   "metadata": {
    "id": "Oo8c96-bFVaT"
   },
   "outputs": [],
   "source": [
    "np.random.seed(random_seed)\n",
    "\n",
    "dl_train = torch.utils.data.DataLoader(\n",
    "    AgriDataset(df_train, size=size,\n",
    "                transforms=train_transforms\n",
    "                ), \n",
    "    shuffle=True, batch_size=batch_size, num_workers=2\n",
    "    )\n",
    "dl_val = torch.utils.data.DataLoader(\n",
    "    AgriDataset(df_val, size=size,\n",
    "                transforms=validation_transforms\n",
    "                ), \n",
    "    shuffle=False, batch_size=batch_size, num_workers=2\n",
    "    )"
   ]
  },
  {
   "cell_type": "markdown",
   "id": "ewYce_-h3SaV",
   "metadata": {
    "id": "ewYce_-h3SaV"
   },
   "source": [
    "## Specify the training pipeline"
   ]
  },
  {
   "cell_type": "markdown",
   "id": "7BS58Jm4Ak8z",
   "metadata": {
    "id": "7BS58Jm4Ak8z"
   },
   "source": [
    "### Parameters"
   ]
  },
  {
   "cell_type": "code",
   "execution_count": 171,
   "id": "4ylw-WU030cZ",
   "metadata": {
    "id": "4ylw-WU030cZ"
   },
   "outputs": [],
   "source": [
    "out_channels = np.max(crop_labels) + 1\n",
    "n_channels = (32, 64, 128, 256)\n",
    "lr = 0.0001\n",
    "weight_decay = 0.0005\n",
    "factor = 0.1\n",
    "patience = 20\n",
    "epochs = 100"
   ]
  },
  {
   "cell_type": "markdown",
   "id": "0St9WaOKAEYu",
   "metadata": {
    "id": "0St9WaOKAEYu"
   },
   "source": [
    "### Model and loss"
   ]
  },
  {
   "cell_type": "code",
   "execution_count": null,
   "id": "ys4O47yKLsyo",
   "metadata": {
    "id": "ys4O47yKLsyo"
   },
   "outputs": [],
   "source": [
    "net = UNet(\n",
    "    spatial_dims=2,\n",
    "    in_channels=len(BAND_NAMES),\n",
    "    out_channels=out_channels,\n",
    "    channels=n_channels,\n",
    "    strides=(2,) * (len(n_channels) - 1),\n",
    "    num_res_units=2,\n",
    "    norm=Norm.BATCH,\n",
    ").cuda()"
   ]
  },
  {
   "cell_type": "code",
   "execution_count": null,
   "id": "z4Xoi7ZkTBDA",
   "metadata": {
    "id": "z4Xoi7ZkTBDA"
   },
   "outputs": [],
   "source": [
    "# class MaskedDiceCELoss(nn.Module):\n",
    "\n",
    "#   def __init__(self, include_background=False, to_onehot_y=True, softmax=True,\n",
    "#                dice_ce_weight=1, dice_mask_weight=1):\n",
    "    \n",
    "#     super().__init__()\n",
    "#     self.diceCELoss = DiceCELoss(include_background=include_background, \n",
    "#                                  to_onehot_y=to_onehot_y, \n",
    "#                                  softmax=softmax)\n",
    "#     self.diceMasked = MaskedDiceLoss(include_background=include_background, \n",
    "#                                        to_onehot_y=to_onehot_y, \n",
    "#                                        softmax=softmax)\n",
    "#     self.dice_ce_weight = dice_ce_weight\n",
    "#     self.dice_mask_weight = dice_mask_weight\n",
    "\n",
    "#   def forward(self, input, target, mask):\n",
    "#     loss1 = self.diceCELoss(input, target)*self.dice_ce_weight \n",
    "#     loss2 = self.diceMasked(input, target, mask)*self.dice_mask_weight\n",
    "#     return loss1 + loss2"
   ]
  },
  {
   "cell_type": "code",
   "execution_count": null,
   "id": "5_Rns_Wa41hR",
   "metadata": {
    "id": "5_Rns_Wa41hR"
   },
   "outputs": [],
   "source": [
    "# loss_fn = MaskedDiceCELoss(include_background=False, \n",
    "#                            to_onehot_y=True, softmax=True).cuda()\n",
    "loss_fn = DiceCELoss(include_background=True,\n",
    "                     to_onehot_y=True, softmax=True,\n",
    "                     ce_weight=loss_weights).cuda()\n",
    "metric = DiceMetric(include_background=False, reduction=\"mean\")"
   ]
  },
  {
   "cell_type": "markdown",
   "id": "4Ez9CUTN9cYo",
   "metadata": {
    "id": "4Ez9CUTN9cYo"
   },
   "source": [
    "### Optimizer and scheduler"
   ]
  },
  {
   "cell_type": "code",
   "execution_count": null,
   "id": "69pKnisc4nyy",
   "metadata": {
    "id": "69pKnisc4nyy"
   },
   "outputs": [],
   "source": [
    "optimizer = torch.optim.AdamW(\n",
    "    params=[{\"params\": [p for p in net.parameters() if p.requires_grad]}],\n",
    "            lr=lr, weight_decay=weight_decay\n",
    "            )"
   ]
  },
  {
   "cell_type": "code",
   "execution_count": null,
   "id": "k5qk5WcZ4SD1",
   "metadata": {
    "id": "k5qk5WcZ4SD1"
   },
   "outputs": [],
   "source": [
    "lr_scheduler = torch.optim.lr_scheduler.ReduceLROnPlateau(\n",
    "    optimizer, mode='min', factor=factor, patience=patience\n",
    "    )"
   ]
  },
  {
   "cell_type": "markdown",
   "id": "bkfDGGNQBg4G",
   "metadata": {
    "id": "bkfDGGNQBg4G"
   },
   "source": [
    "### Training step"
   ]
  },
  {
   "cell_type": "code",
   "execution_count": null,
   "id": "xsBjaMOWDh1r",
   "metadata": {
    "id": "xsBjaMOWDh1r"
   },
   "outputs": [],
   "source": [
    "def train_epoch(net, loss_fn, dl_train, optimizer):\n",
    "  net.train()\n",
    "  loss_fn.train()\n",
    "  epoch_loss = 0\n",
    "  step = 0\n",
    "  for imgs, targets in tqdm(dl_train):\n",
    "    step += 1\n",
    "    optimizer.zero_grad()\n",
    "    outputs = net(imgs.cuda())\n",
    "    losses = loss_fn(outputs, targets.cuda(), targets.cuda() > 0)\n",
    "    losses.backward()\n",
    "    optimizer.step()\n",
    "    epoch_loss += losses.item()\n",
    "  epoch_loss /= step\n",
    "  return epoch_loss"
   ]
  },
  {
   "cell_type": "markdown",
   "id": "J04gxD4jBmvj",
   "metadata": {
    "id": "J04gxD4jBmvj"
   },
   "source": [
    "### Validation step"
   ]
  },
  {
   "cell_type": "code",
   "execution_count": null,
   "id": "NDl3BucGGCVn",
   "metadata": {
    "id": "NDl3BucGGCVn"
   },
   "outputs": [],
   "source": [
    "def validate_epoch(net, loss_fn, dl_val, metric):\n",
    "  net.eval()\n",
    "  loss_fn.eval()\n",
    "  epoch_loss = 0\n",
    "  step = 0\n",
    "\n",
    "  with torch.no_grad():\n",
    "    for imgs, targets in tqdm(dl_val):\n",
    "      step += 1\n",
    "      outputs = net(imgs.cuda())\n",
    "      losses = loss_fn(outputs, targets.cuda(), targets.cuda() > 0)\n",
    "      epoch_loss += losses.item()\n",
    "      metric(outputs.argmax(1).unsqueeze(1), targets.cuda())\n",
    "  epoch_loss /= step\n",
    "  return epoch_loss, metric"
   ]
  },
  {
   "cell_type": "markdown",
   "id": "1Vyi8pDqG_xg",
   "metadata": {
    "id": "1Vyi8pDqG_xg"
   },
   "source": [
    "## Train the model"
   ]
  },
  {
   "cell_type": "code",
   "execution_count": null,
   "id": "gCL8_nUXG_GS",
   "metadata": {
    "colab": {
     "base_uri": "https://localhost:8080/"
    },
    "id": "gCL8_nUXG_GS",
    "outputId": "a26748d2-9a7c-497f-fc54-1988f90ef2f3"
   },
   "outputs": [],
   "source": [
    "%%time\n",
    "train_losses = []\n",
    "val_losses = []\n",
    "val_metrics = []\n",
    "for epoch in range(epochs):\n",
    "    # training pass\n",
    "    train_loss = train_epoch(net, loss_fn, dl_train, optimizer)\n",
    "\n",
    "    # validation pass\n",
    "    val_loss, metric = validate_epoch(net, loss_fn, dl_val, metric)\n",
    "    val_metric = metric.aggregate().item()\n",
    "    metric.reset()\n",
    "\n",
    "    # update learning rate\n",
    "    lr_scheduler.step(val_loss)\n",
    "\n",
    "    # output\n",
    "    print(f\"epoch {epoch + 1} training loss: {train_loss:.4f}; \"\n",
    "          f\"validation loss: {val_loss:.4f}; Dice metric: {val_metric:.4f}\")\n",
    "    train_losses.append(train_loss)\n",
    "    val_losses.append(val_loss)\n",
    "    val_metrics.append(val_metric)"
   ]
  },
  {
   "cell_type": "code",
   "execution_count": null,
   "id": "mKOdWWaT_tnF",
   "metadata": {
    "colab": {
     "base_uri": "https://localhost:8080/",
     "height": 338
    },
    "id": "mKOdWWaT_tnF",
    "outputId": "a18e8dbc-1125-4dea-e9fd-f3db38332f0e"
   },
   "outputs": [],
   "source": [
    "plt.figure(figsize=(10, 5))\n",
    "plt.plot(train_losses,'r')\n",
    "plt.plot(val_losses, 'b')"
   ]
  },
  {
   "cell_type": "code",
   "execution_count": null,
   "id": "mETS8S-1IuGb",
   "metadata": {
    "colab": {
     "base_uri": "https://localhost:8080/",
     "height": 338
    },
    "id": "mETS8S-1IuGb",
    "outputId": "bddd3ebf-7d2e-475f-f58a-0ee6c9e83811"
   },
   "outputs": [],
   "source": [
    "plt.figure(figsize=(10, 5))\n",
    "plt.plot(val_metrics,'r')"
   ]
  },
  {
   "cell_type": "code",
   "execution_count": null,
   "id": "FEzwkj2-I81N",
   "metadata": {
    "id": "FEzwkj2-I81N"
   },
   "outputs": [],
   "source": [
    "torch.save(net.state_dict(), 'model.pth')"
   ]
  },
  {
   "cell_type": "code",
   "execution_count": null,
   "id": "TlhWFZaFYDzZ",
   "metadata": {
    "colab": {
     "base_uri": "https://localhost:8080/",
     "height": 17
    },
    "id": "TlhWFZaFYDzZ",
    "outputId": "8c660975-ea50-433b-dfd3-f4154a9c4fdd"
   },
   "outputs": [],
   "source": [
    "from google.colab import files\n",
    "files.download('model.pth')"
   ]
  },
  {
   "cell_type": "markdown",
   "id": "W_EsaEYQHDq9",
   "metadata": {
    "id": "W_EsaEYQHDq9"
   },
   "source": [
    "## Set up the loaders and model for evaluation"
   ]
  },
  {
   "cell_type": "code",
   "execution_count": null,
   "id": "uOsnCaZaYKDI",
   "metadata": {
    "id": "uOsnCaZaYKDI"
   },
   "outputs": [],
   "source": [
    "class AgriDatasetTest(torch.utils.data.Dataset):\n",
    "\n",
    "  def __init__(self, df, band_names=BAND_NAMES):\n",
    "    self.band_names = band_names\n",
    "    self.df = df\n",
    "\n",
    "  def __getitem__(self, index):\n",
    "    imgs = []\n",
    "    for band in self.band_names:\n",
    "      source_fn = rf\"{self.df.iloc[index]['source_path']}{band}.tif\"\n",
    "      with rasterio.open(source_fn) as src:\n",
    "        imgs.append(src.read()[0].astype(np.float64)/255.)\n",
    "    \n",
    "    with rasterio.open(self.df.iloc[index]['field_path']) as src:\n",
    "      labels = src.read()[0].astype(np.int64)\n",
    "\n",
    "    if os.path.exists(self.df.iloc[index]['label_path']):\n",
    "      with rasterio.open(self.df.iloc[index]['label_path']) as src:\n",
    "        gt = src.read()[0].astype(np.int64)\n",
    "        gt = torch.tensor(gt)\n",
    "    else:\n",
    "      gt = labels\n",
    "\n",
    "    labels = torch.tensor(labels)\n",
    "    imgs = torch.tensor(np.array(imgs))\n",
    "\n",
    "    return imgs.float(), labels, gt\n",
    "\n",
    "  def __len__(self):\n",
    "    return len(self.df)"
   ]
  },
  {
   "cell_type": "code",
   "execution_count": null,
   "id": "EQ2FgI1kCGBn",
   "metadata": {
    "id": "EQ2FgI1kCGBn"
   },
   "outputs": [],
   "source": [
    "dl_test = torch.utils.data.DataLoader(\n",
    "    AgriDatasetTest(train_data[train_data['split'] == 'validation']),\n",
    "    shuffle=False, batch_size=batch_size, num_workers=2\n",
    "    )"
   ]
  },
  {
   "cell_type": "code",
   "execution_count": null,
   "id": "XeTOSV7iCQ9x",
   "metadata": {
    "id": "XeTOSV7iCQ9x"
   },
   "outputs": [],
   "source": [
    "net.load_state_dict(torch.load('model.pth'))\n",
    "net.eval();"
   ]
  },
  {
   "cell_type": "markdown",
   "id": "8aOuTw8HCAbA",
   "metadata": {
    "id": "8aOuTw8HCAbA"
   },
   "source": [
    "## Evaluate the model on the validation set"
   ]
  },
  {
   "cell_type": "code",
   "execution_count": null,
   "id": "o0qp7CVjCZ_g",
   "metadata": {
    "id": "o0qp7CVjCZ_g"
   },
   "outputs": [],
   "source": [
    "def evaluate(dl_test, net):\n",
    "  field_data = dict()\n",
    "  gt_labels = dict()\n",
    "  with torch.no_grad():\n",
    "    for imgs, labels, gt in tqdm(dl_test):\n",
    "      output = net(imgs.cuda()).cpu()\n",
    "      output = output.numpy()\n",
    "      labels = labels.numpy()\n",
    "      output = np.moveaxis(output, 1, -1)\n",
    "\n",
    "      llist = np.unique(labels)[1:]\n",
    "      for lb in llist:\n",
    "        ind = np.where(labels == lb)\n",
    "        data = output[ind]\n",
    "        if lb in field_data.keys():\n",
    "          field_data[lb] = np.concatenate([field_data[lb], data], axis=0)\n",
    "        else:\n",
    "          field_data[lb] = data\n",
    "\n",
    "        data = gt[ind]\n",
    "        if lb in gt_labels.keys():\n",
    "          gt_labels[lb] = np.concatenate([gt_labels[lb], data], axis=0)\n",
    "        else:\n",
    "          gt_labels[lb] = data\n",
    "        \n",
    "  field_ids = []\n",
    "  probs = []\n",
    "  gt = []\n",
    "  for key in field_data.keys():\n",
    "    field_ids.append(key)\n",
    "    prob = field_data[key].mean(0)[crop_labels]\n",
    "    prob = prob - np.min(prob)\n",
    "    prob = prob / np.sum(prob)\n",
    "    probs.append(prob)\n",
    "    gt.append(gt_labels[key][0].item())\n",
    "  probs = np.array(probs)\n",
    "  return probs, field_ids, gt"
   ]
  },
  {
   "cell_type": "code",
   "execution_count": null,
   "id": "7fV5Ce5uC9S2",
   "metadata": {
    "colab": {
     "base_uri": "https://localhost:8080/"
    },
    "id": "7fV5Ce5uC9S2",
    "outputId": "112fea92-0d5b-4889-9b8e-8b042065a486"
   },
   "outputs": [],
   "source": [
    "probs, field_ids, gt = evaluate(dl_test, net)"
   ]
  },
  {
   "cell_type": "code",
   "execution_count": null,
   "id": "Ux-2ff1cC_sx",
   "metadata": {
    "colab": {
     "base_uri": "https://localhost:8080/"
    },
    "id": "Ux-2ff1cC_sx",
    "outputId": "49ecd104-8227-4bb4-fcf0-08de0f067d63"
   },
   "outputs": [],
   "source": [
    "from sklearn.metrics import classification_report\n",
    "\n",
    "print(classification_report(gt, np.array(crop_labels)[np.argmax(probs, axis=1)]))"
   ]
  },
  {
   "cell_type": "code",
   "execution_count": null,
   "id": "O3aOekbmFEOF",
   "metadata": {
    "id": "O3aOekbmFEOF"
   },
   "outputs": [],
   "source": [
    "def to_one_hot(x):\n",
    "    y = np.zeros((x.size, x.max() + 1))\n",
    "    y[np.arange(x.size), x] = 1\n",
    "    return y\n",
    "\n",
    "def cross_entropy(predictions, targets):\n",
    "    return -np.sum(np.sum(np.log(predictions + 10**(-10)) * targets, axis=1))/len(targets)\n"
   ]
  },
  {
   "cell_type": "code",
   "execution_count": null,
   "id": "QYxNVMHfHRld",
   "metadata": {
    "id": "QYxNVMHfHRld"
   },
   "outputs": [],
   "source": [
    "targets = to_one_hot(np.array(gt))\n",
    "targets = targets[:, np.where(targets.sum(axis=0) > 0)[0]]"
   ]
  },
  {
   "cell_type": "code",
   "execution_count": null,
   "id": "pcoDvgg0Hd8T",
   "metadata": {
    "colab": {
     "base_uri": "https://localhost:8080/"
    },
    "id": "pcoDvgg0Hd8T",
    "outputId": "f5e746b4-5e06-47a3-c537-be1af3f22a19"
   },
   "outputs": [],
   "source": [
    "cross_entropy(probs, targets)"
   ]
  },
  {
   "cell_type": "markdown",
   "id": "yCvvWdPUH5yU",
   "metadata": {
    "id": "yCvvWdPUH5yU"
   },
   "source": [
    "## Prepare the test dataset"
   ]
  },
  {
   "cell_type": "code",
   "execution_count": null,
   "id": "8OkzF6RDHedl",
   "metadata": {
    "id": "8OkzF6RDHedl"
   },
   "outputs": [],
   "source": [
    "test_paths = os.listdir(os.path.join(data_dir, test_label_collection))\n",
    "test_ids = [fn.split('_')[-1] for fn in test_paths if 'labels_test' in fn]\n",
    "\n",
    "field_paths = [f'{data_dir}/{test_label_collection}/{test_label_collection}_{i}/field_ids.tif' \n",
    "               for i in test_ids]\n",
    "label_paths = [f'{data_dir}/{test_label_collection}/{test_label_collection}_{i}/raster_labels.tif' \n",
    "               for i in test_ids]\n",
    "source_paths = [f'{data_dir}/{source_collection}/{source_collection}_{i}/' \n",
    "               for i in test_ids]"
   ]
  },
  {
   "cell_type": "code",
   "execution_count": null,
   "id": "BBrtOyDsIvct",
   "metadata": {
    "colab": {
     "base_uri": "https://localhost:8080/",
     "height": 270
    },
    "id": "BBrtOyDsIvct",
    "outputId": "eabf95b5-a221-49da-b9d4-07d66c3f3e4d"
   },
   "outputs": [],
   "source": [
    "test_data = pd.DataFrame(np.array([test_ids, field_paths, label_paths, source_paths]).transpose(), \n",
    "                          columns=['folder_id', 'field_path', 'label_path', 'source_path'])\n",
    "test_data.head()"
   ]
  },
  {
   "cell_type": "markdown",
   "id": "rZ6YdR1sI1V6",
   "metadata": {
    "id": "rZ6YdR1sI1V6"
   },
   "source": [
    "## Evaluate the model on the test set"
   ]
  },
  {
   "cell_type": "code",
   "execution_count": null,
   "id": "VrvH7yEwIxE_",
   "metadata": {
    "id": "VrvH7yEwIxE_"
   },
   "outputs": [],
   "source": [
    "dl_test = torch.utils.data.DataLoader(\n",
    "    AgriDatasetTest(test_data), shuffle=False, batch_size=batch_size, num_workers=2\n",
    "    )"
   ]
  },
  {
   "cell_type": "code",
   "execution_count": null,
   "id": "4pyJFKOXJGah",
   "metadata": {
    "colab": {
     "base_uri": "https://localhost:8080/"
    },
    "id": "4pyJFKOXJGah",
    "outputId": "742d1c25-9b5c-465b-cfbe-c036507e461e"
   },
   "outputs": [],
   "source": [
    "probs, field_ids, gt = evaluate(dl_test, net)"
   ]
  },
  {
   "cell_type": "code",
   "execution_count": null,
   "id": "TIQlKqmlJJjD",
   "metadata": {
    "id": "TIQlKqmlJJjD"
   },
   "outputs": [],
   "source": [
    "def labeler(labeled):\n",
    "    crop_label = np.array([crop_dict.get(f'{int(i)}') for i in labeled])\n",
    "    return crop_label"
   ]
  },
  {
   "cell_type": "code",
   "execution_count": null,
   "id": "qPHNGNQlJaDj",
   "metadata": {
    "id": "qPHNGNQlJaDj"
   },
   "outputs": [],
   "source": [
    "crop_columns = [crop_dict[key] for key in crop_labels]\n",
    "\n",
    "test_df  = pd.DataFrame(columns=['field_id'] + crop_columns)\n",
    "\n",
    "test_df['field_id'] = field_ids\n",
    "\n",
    "test_df[crop_columns] = probs \n",
    "test_df.to_csv('submission.csv', index=False)"
   ]
  },
  {
   "cell_type": "code",
   "execution_count": null,
   "id": "4yM_v1NaJkJc",
   "metadata": {
    "colab": {
     "base_uri": "https://localhost:8080/",
     "height": 17
    },
    "id": "4yM_v1NaJkJc",
    "outputId": "739d4969-d400-4d9f-ad86-6a839a6971ca"
   },
   "outputs": [],
   "source": [
    "from google.colab import files\n",
    "files.download('submission.csv')"
   ]
  },
  {
   "cell_type": "code",
   "execution_count": null,
   "id": "Fm8SWnsLJ3v2",
   "metadata": {
    "id": "Fm8SWnsLJ3v2"
   },
   "outputs": [],
   "source": []
  }
 ],
 "metadata": {
  "accelerator": "GPU",
  "colab": {
   "collapsed_sections": [
    "nN70MBjGzOUH",
    "TMWu0HGHLciF"
   ],
   "include_colab_link": true,
   "provenance": [],
   "toc_visible": true
  },
  "gpuClass": "standard",
  "kernelspec": {
   "display_name": "Python 3 (ipykernel)",
   "language": "python",
   "name": "python3"
  },
  "language_info": {
   "codemirror_mode": {
    "name": "ipython",
    "version": 3
   },
   "file_extension": ".py",
   "mimetype": "text/x-python",
   "name": "python",
   "nbconvert_exporter": "python",
   "pygments_lexer": "ipython3",
   "version": "3.7.13"
  },
  "widgets": {
   "application/vnd.jupyter.widget-state+json": {
    "032f6c67de004f1b927426e714061b1a": {
     "model_module": "@jupyter-widgets/controls",
     "model_module_version": "1.5.0",
     "model_name": "HTMLModel",
     "state": {
      "_dom_classes": [],
      "_model_module": "@jupyter-widgets/controls",
      "_model_module_version": "1.5.0",
      "_model_name": "HTMLModel",
      "_view_count": null,
      "_view_module": "@jupyter-widgets/controls",
      "_view_module_version": "1.5.0",
      "_view_name": "HTMLView",
      "description": "",
      "description_tooltip": null,
      "layout": "IPY_MODEL_90dc6c5efd5c48089cc0065715dba68e",
      "placeholder": "​",
      "style": "IPY_MODEL_e0cfd1056f3d475b904ac595e84be158",
      "value": ""
     }
    },
    "0460f6a5d1db4d72a1dd2ae8deffa9af": {
     "model_module": "@jupyter-widgets/controls",
     "model_module_version": "1.5.0",
     "model_name": "ProgressStyleModel",
     "state": {
      "_model_module": "@jupyter-widgets/controls",
      "_model_module_version": "1.5.0",
      "_model_name": "ProgressStyleModel",
      "_view_count": null,
      "_view_module": "@jupyter-widgets/base",
      "_view_module_version": "1.2.0",
      "_view_name": "StyleView",
      "bar_color": null,
      "description_width": ""
     }
    },
    "0859e23566194074a0524ea407644119": {
     "model_module": "@jupyter-widgets/controls",
     "model_module_version": "1.5.0",
     "model_name": "DescriptionStyleModel",
     "state": {
      "_model_module": "@jupyter-widgets/controls",
      "_model_module_version": "1.5.0",
      "_model_name": "DescriptionStyleModel",
      "_view_count": null,
      "_view_module": "@jupyter-widgets/base",
      "_view_module_version": "1.2.0",
      "_view_name": "StyleView",
      "description_width": ""
     }
    },
    "0f40d3a82d304d27923028d4eca0ad2a": {
     "model_module": "@jupyter-widgets/base",
     "model_module_version": "1.2.0",
     "model_name": "LayoutModel",
     "state": {
      "_model_module": "@jupyter-widgets/base",
      "_model_module_version": "1.2.0",
      "_model_name": "LayoutModel",
      "_view_count": null,
      "_view_module": "@jupyter-widgets/base",
      "_view_module_version": "1.2.0",
      "_view_name": "LayoutView",
      "align_content": null,
      "align_items": null,
      "align_self": null,
      "border": null,
      "bottom": null,
      "display": null,
      "flex": null,
      "flex_flow": null,
      "grid_area": null,
      "grid_auto_columns": null,
      "grid_auto_flow": null,
      "grid_auto_rows": null,
      "grid_column": null,
      "grid_gap": null,
      "grid_row": null,
      "grid_template_areas": null,
      "grid_template_columns": null,
      "grid_template_rows": null,
      "height": null,
      "justify_content": null,
      "justify_items": null,
      "left": null,
      "margin": null,
      "max_height": null,
      "max_width": null,
      "min_height": null,
      "min_width": null,
      "object_fit": null,
      "object_position": null,
      "order": null,
      "overflow": null,
      "overflow_x": null,
      "overflow_y": null,
      "padding": null,
      "right": null,
      "top": null,
      "visibility": null,
      "width": null
     }
    },
    "11a0d359ef1c42429cc3f1abbaa67f34": {
     "model_module": "@jupyter-widgets/controls",
     "model_module_version": "1.5.0",
     "model_name": "FloatProgressModel",
     "state": {
      "_dom_classes": [],
      "_model_module": "@jupyter-widgets/controls",
      "_model_module_version": "1.5.0",
      "_model_name": "FloatProgressModel",
      "_view_count": null,
      "_view_module": "@jupyter-widgets/controls",
      "_view_module_version": "1.5.0",
      "_view_name": "ProgressView",
      "bar_style": "success",
      "description": "",
      "description_tooltip": null,
      "layout": "IPY_MODEL_2909a3de4de443aaab53e3625077b12c",
      "max": 0.5,
      "min": 0,
      "orientation": "horizontal",
      "style": "IPY_MODEL_7cebb25bfb6043bdb528194f3496e3a3",
      "value": 0.5
     }
    },
    "1961cd3c7c60469ba7fe2f28a1a51ee2": {
     "model_module": "@jupyter-widgets/controls",
     "model_module_version": "1.5.0",
     "model_name": "HTMLModel",
     "state": {
      "_dom_classes": [],
      "_model_module": "@jupyter-widgets/controls",
      "_model_module_version": "1.5.0",
      "_model_name": "HTMLModel",
      "_view_count": null,
      "_view_module": "@jupyter-widgets/controls",
      "_view_module_version": "1.5.0",
      "_view_name": "HTMLView",
      "description": "",
      "description_tooltip": null,
      "layout": "IPY_MODEL_d10ea3df038f41a9b65dd781d50aef24",
      "placeholder": "​",
      "style": "IPY_MODEL_91698ddb9b034c398e3cbc1d38eaf225",
      "value": ""
     }
    },
    "1dcb36cf99a245c0a1cacb30f6692335": {
     "model_module": "@jupyter-widgets/base",
     "model_module_version": "1.2.0",
     "model_name": "LayoutModel",
     "state": {
      "_model_module": "@jupyter-widgets/base",
      "_model_module_version": "1.2.0",
      "_model_name": "LayoutModel",
      "_view_count": null,
      "_view_module": "@jupyter-widgets/base",
      "_view_module_version": "1.2.0",
      "_view_name": "LayoutView",
      "align_content": null,
      "align_items": null,
      "align_self": null,
      "border": null,
      "bottom": null,
      "display": null,
      "flex": null,
      "flex_flow": null,
      "grid_area": null,
      "grid_auto_columns": null,
      "grid_auto_flow": null,
      "grid_auto_rows": null,
      "grid_column": null,
      "grid_gap": null,
      "grid_row": null,
      "grid_template_areas": null,
      "grid_template_columns": null,
      "grid_template_rows": null,
      "height": null,
      "justify_content": null,
      "justify_items": null,
      "left": null,
      "margin": null,
      "max_height": null,
      "max_width": null,
      "min_height": null,
      "min_width": null,
      "object_fit": null,
      "object_position": null,
      "order": null,
      "overflow": null,
      "overflow_x": null,
      "overflow_y": null,
      "padding": null,
      "right": null,
      "top": null,
      "visibility": null,
      "width": null
     }
    },
    "1e52500ce9854904bc22a8fff28960f9": {
     "model_module": "@jupyter-widgets/controls",
     "model_module_version": "1.5.0",
     "model_name": "HTMLModel",
     "state": {
      "_dom_classes": [],
      "_model_module": "@jupyter-widgets/controls",
      "_model_module_version": "1.5.0",
      "_model_name": "HTMLModel",
      "_view_count": null,
      "_view_module": "@jupyter-widgets/controls",
      "_view_module_version": "1.5.0",
      "_view_name": "HTMLView",
      "description": "",
      "description_tooltip": null,
      "layout": "IPY_MODEL_1dcb36cf99a245c0a1cacb30f6692335",
      "placeholder": "​",
      "style": "IPY_MODEL_0859e23566194074a0524ea407644119",
      "value": " 5.0/? [00:01&lt;00:00,  3.89M/s]"
     }
    },
    "20e9ff5838594819876eeeb1797cca02": {
     "model_module": "@jupyter-widgets/controls",
     "model_module_version": "1.5.0",
     "model_name": "DescriptionStyleModel",
     "state": {
      "_model_module": "@jupyter-widgets/controls",
      "_model_module_version": "1.5.0",
      "_model_name": "DescriptionStyleModel",
      "_view_count": null,
      "_view_module": "@jupyter-widgets/base",
      "_view_module_version": "1.2.0",
      "_view_name": "StyleView",
      "description_width": ""
     }
    },
    "21c32511bd904e4592ce08d40377d716": {
     "model_module": "@jupyter-widgets/controls",
     "model_module_version": "1.5.0",
     "model_name": "HTMLModel",
     "state": {
      "_dom_classes": [],
      "_model_module": "@jupyter-widgets/controls",
      "_model_module_version": "1.5.0",
      "_model_name": "HTMLModel",
      "_view_count": null,
      "_view_module": "@jupyter-widgets/controls",
      "_view_module_version": "1.5.0",
      "_view_name": "HTMLView",
      "description": "",
      "description_tooltip": null,
      "layout": "IPY_MODEL_0f40d3a82d304d27923028d4eca0ad2a",
      "placeholder": "​",
      "style": "IPY_MODEL_62af1f13f6a742a99b069dbb33a000e5",
      "value": " 325.0/? [00:06&lt;00:00, 168.29M/s]"
     }
    },
    "24207ebbe13b4bdc8f6810bb004e8769": {
     "model_module": "@jupyter-widgets/controls",
     "model_module_version": "1.5.0",
     "model_name": "HBoxModel",
     "state": {
      "_dom_classes": [],
      "_model_module": "@jupyter-widgets/controls",
      "_model_module_version": "1.5.0",
      "_model_name": "HBoxModel",
      "_view_count": null,
      "_view_module": "@jupyter-widgets/controls",
      "_view_module_version": "1.5.0",
      "_view_name": "HBoxView",
      "box_style": "",
      "children": [
       "IPY_MODEL_032f6c67de004f1b927426e714061b1a",
       "IPY_MODEL_11a0d359ef1c42429cc3f1abbaa67f34",
       "IPY_MODEL_1e52500ce9854904bc22a8fff28960f9"
      ],
      "layout": "IPY_MODEL_931fe5ed1fac4f468a64f04b3e4846a2"
     }
    },
    "2909a3de4de443aaab53e3625077b12c": {
     "model_module": "@jupyter-widgets/base",
     "model_module_version": "1.2.0",
     "model_name": "LayoutModel",
     "state": {
      "_model_module": "@jupyter-widgets/base",
      "_model_module_version": "1.2.0",
      "_model_name": "LayoutModel",
      "_view_count": null,
      "_view_module": "@jupyter-widgets/base",
      "_view_module_version": "1.2.0",
      "_view_name": "LayoutView",
      "align_content": null,
      "align_items": null,
      "align_self": null,
      "border": null,
      "bottom": null,
      "display": null,
      "flex": null,
      "flex_flow": null,
      "grid_area": null,
      "grid_auto_columns": null,
      "grid_auto_flow": null,
      "grid_auto_rows": null,
      "grid_column": null,
      "grid_gap": null,
      "grid_row": null,
      "grid_template_areas": null,
      "grid_template_columns": null,
      "grid_template_rows": null,
      "height": null,
      "justify_content": null,
      "justify_items": null,
      "left": null,
      "margin": null,
      "max_height": null,
      "max_width": null,
      "min_height": null,
      "min_width": null,
      "object_fit": null,
      "object_position": null,
      "order": null,
      "overflow": null,
      "overflow_x": null,
      "overflow_y": null,
      "padding": null,
      "right": null,
      "top": null,
      "visibility": null,
      "width": null
     }
    },
    "46c7a9901ece4d96a2b1471d7b4edc19": {
     "model_module": "@jupyter-widgets/base",
     "model_module_version": "1.2.0",
     "model_name": "LayoutModel",
     "state": {
      "_model_module": "@jupyter-widgets/base",
      "_model_module_version": "1.2.0",
      "_model_name": "LayoutModel",
      "_view_count": null,
      "_view_module": "@jupyter-widgets/base",
      "_view_module_version": "1.2.0",
      "_view_name": "LayoutView",
      "align_content": null,
      "align_items": null,
      "align_self": null,
      "border": null,
      "bottom": null,
      "display": null,
      "flex": null,
      "flex_flow": null,
      "grid_area": null,
      "grid_auto_columns": null,
      "grid_auto_flow": null,
      "grid_auto_rows": null,
      "grid_column": null,
      "grid_gap": null,
      "grid_row": null,
      "grid_template_areas": null,
      "grid_template_columns": null,
      "grid_template_rows": null,
      "height": null,
      "justify_content": null,
      "justify_items": null,
      "left": null,
      "margin": null,
      "max_height": null,
      "max_width": null,
      "min_height": null,
      "min_width": null,
      "object_fit": null,
      "object_position": null,
      "order": null,
      "overflow": null,
      "overflow_x": null,
      "overflow_y": null,
      "padding": null,
      "right": null,
      "top": null,
      "visibility": null,
      "width": null
     }
    },
    "56b38b036ca24325bc26853bff8b9b80": {
     "model_module": "@jupyter-widgets/controls",
     "model_module_version": "1.5.0",
     "model_name": "FloatProgressModel",
     "state": {
      "_dom_classes": [],
      "_model_module": "@jupyter-widgets/controls",
      "_model_module_version": "1.5.0",
      "_model_name": "FloatProgressModel",
      "_view_count": null,
      "_view_module": "@jupyter-widgets/controls",
      "_view_module_version": "1.5.0",
      "_view_name": "ProgressView",
      "bar_style": "success",
      "description": "",
      "description_tooltip": null,
      "layout": "IPY_MODEL_70aaf09b7b5f4504bfdd00819fd523d8",
      "max": 324.3,
      "min": 0,
      "orientation": "horizontal",
      "style": "IPY_MODEL_0460f6a5d1db4d72a1dd2ae8deffa9af",
      "value": 324.3
     }
    },
    "5f60ef8d2627487a8e5e625081214e0f": {
     "model_module": "@jupyter-widgets/controls",
     "model_module_version": "1.5.0",
     "model_name": "FloatProgressModel",
     "state": {
      "_dom_classes": [],
      "_model_module": "@jupyter-widgets/controls",
      "_model_module_version": "1.5.0",
      "_model_name": "FloatProgressModel",
      "_view_count": null,
      "_view_module": "@jupyter-widgets/controls",
      "_view_module_version": "1.5.0",
      "_view_name": "ProgressView",
      "bar_style": "success",
      "description": "",
      "description_tooltip": null,
      "layout": "IPY_MODEL_46c7a9901ece4d96a2b1471d7b4edc19",
      "max": 1.3,
      "min": 0,
      "orientation": "horizontal",
      "style": "IPY_MODEL_725fc334d33f431486fbe6ea59274ec6",
      "value": 1.3
     }
    },
    "62af1f13f6a742a99b069dbb33a000e5": {
     "model_module": "@jupyter-widgets/controls",
     "model_module_version": "1.5.0",
     "model_name": "DescriptionStyleModel",
     "state": {
      "_model_module": "@jupyter-widgets/controls",
      "_model_module_version": "1.5.0",
      "_model_name": "DescriptionStyleModel",
      "_view_count": null,
      "_view_module": "@jupyter-widgets/base",
      "_view_module_version": "1.2.0",
      "_view_name": "StyleView",
      "description_width": ""
     }
    },
    "63e476535b6b410faacc36b4626f8849": {
     "model_module": "@jupyter-widgets/base",
     "model_module_version": "1.2.0",
     "model_name": "LayoutModel",
     "state": {
      "_model_module": "@jupyter-widgets/base",
      "_model_module_version": "1.2.0",
      "_model_name": "LayoutModel",
      "_view_count": null,
      "_view_module": "@jupyter-widgets/base",
      "_view_module_version": "1.2.0",
      "_view_name": "LayoutView",
      "align_content": null,
      "align_items": null,
      "align_self": null,
      "border": null,
      "bottom": null,
      "display": null,
      "flex": null,
      "flex_flow": null,
      "grid_area": null,
      "grid_auto_columns": null,
      "grid_auto_flow": null,
      "grid_auto_rows": null,
      "grid_column": null,
      "grid_gap": null,
      "grid_row": null,
      "grid_template_areas": null,
      "grid_template_columns": null,
      "grid_template_rows": null,
      "height": null,
      "justify_content": null,
      "justify_items": null,
      "left": null,
      "margin": null,
      "max_height": null,
      "max_width": null,
      "min_height": null,
      "min_width": null,
      "object_fit": null,
      "object_position": null,
      "order": null,
      "overflow": null,
      "overflow_x": null,
      "overflow_y": null,
      "padding": null,
      "right": null,
      "top": null,
      "visibility": null,
      "width": null
     }
    },
    "6a515afb59144c0f96fc0980b7a2bc82": {
     "model_module": "@jupyter-widgets/controls",
     "model_module_version": "1.5.0",
     "model_name": "HTMLModel",
     "state": {
      "_dom_classes": [],
      "_model_module": "@jupyter-widgets/controls",
      "_model_module_version": "1.5.0",
      "_model_name": "HTMLModel",
      "_view_count": null,
      "_view_module": "@jupyter-widgets/controls",
      "_view_module_version": "1.5.0",
      "_view_name": "HTMLView",
      "description": "",
      "description_tooltip": null,
      "layout": "IPY_MODEL_63e476535b6b410faacc36b4626f8849",
      "placeholder": "​",
      "style": "IPY_MODEL_f13571d59cef4845937b2989b5b63490",
      "value": ""
     }
    },
    "6c65f1caf23f462693a2ba7a0dd875a7": {
     "model_module": "@jupyter-widgets/controls",
     "model_module_version": "1.5.0",
     "model_name": "HBoxModel",
     "state": {
      "_dom_classes": [],
      "_model_module": "@jupyter-widgets/controls",
      "_model_module_version": "1.5.0",
      "_model_name": "HBoxModel",
      "_view_count": null,
      "_view_module": "@jupyter-widgets/controls",
      "_view_module_version": "1.5.0",
      "_view_name": "HBoxView",
      "box_style": "",
      "children": [
       "IPY_MODEL_1961cd3c7c60469ba7fe2f28a1a51ee2",
       "IPY_MODEL_56b38b036ca24325bc26853bff8b9b80",
       "IPY_MODEL_21c32511bd904e4592ce08d40377d716"
      ],
      "layout": "IPY_MODEL_94b82aea913e4fc093fd0652a9226b88"
     }
    },
    "70aaf09b7b5f4504bfdd00819fd523d8": {
     "model_module": "@jupyter-widgets/base",
     "model_module_version": "1.2.0",
     "model_name": "LayoutModel",
     "state": {
      "_model_module": "@jupyter-widgets/base",
      "_model_module_version": "1.2.0",
      "_model_name": "LayoutModel",
      "_view_count": null,
      "_view_module": "@jupyter-widgets/base",
      "_view_module_version": "1.2.0",
      "_view_name": "LayoutView",
      "align_content": null,
      "align_items": null,
      "align_self": null,
      "border": null,
      "bottom": null,
      "display": null,
      "flex": null,
      "flex_flow": null,
      "grid_area": null,
      "grid_auto_columns": null,
      "grid_auto_flow": null,
      "grid_auto_rows": null,
      "grid_column": null,
      "grid_gap": null,
      "grid_row": null,
      "grid_template_areas": null,
      "grid_template_columns": null,
      "grid_template_rows": null,
      "height": null,
      "justify_content": null,
      "justify_items": null,
      "left": null,
      "margin": null,
      "max_height": null,
      "max_width": null,
      "min_height": null,
      "min_width": null,
      "object_fit": null,
      "object_position": null,
      "order": null,
      "overflow": null,
      "overflow_x": null,
      "overflow_y": null,
      "padding": null,
      "right": null,
      "top": null,
      "visibility": null,
      "width": null
     }
    },
    "725fc334d33f431486fbe6ea59274ec6": {
     "model_module": "@jupyter-widgets/controls",
     "model_module_version": "1.5.0",
     "model_name": "ProgressStyleModel",
     "state": {
      "_model_module": "@jupyter-widgets/controls",
      "_model_module_version": "1.5.0",
      "_model_name": "ProgressStyleModel",
      "_view_count": null,
      "_view_module": "@jupyter-widgets/base",
      "_view_module_version": "1.2.0",
      "_view_name": "StyleView",
      "bar_color": null,
      "description_width": ""
     }
    },
    "7cebb25bfb6043bdb528194f3496e3a3": {
     "model_module": "@jupyter-widgets/controls",
     "model_module_version": "1.5.0",
     "model_name": "ProgressStyleModel",
     "state": {
      "_model_module": "@jupyter-widgets/controls",
      "_model_module_version": "1.5.0",
      "_model_name": "ProgressStyleModel",
      "_view_count": null,
      "_view_module": "@jupyter-widgets/base",
      "_view_module_version": "1.2.0",
      "_view_name": "StyleView",
      "bar_color": null,
      "description_width": ""
     }
    },
    "90dc6c5efd5c48089cc0065715dba68e": {
     "model_module": "@jupyter-widgets/base",
     "model_module_version": "1.2.0",
     "model_name": "LayoutModel",
     "state": {
      "_model_module": "@jupyter-widgets/base",
      "_model_module_version": "1.2.0",
      "_model_name": "LayoutModel",
      "_view_count": null,
      "_view_module": "@jupyter-widgets/base",
      "_view_module_version": "1.2.0",
      "_view_name": "LayoutView",
      "align_content": null,
      "align_items": null,
      "align_self": null,
      "border": null,
      "bottom": null,
      "display": null,
      "flex": null,
      "flex_flow": null,
      "grid_area": null,
      "grid_auto_columns": null,
      "grid_auto_flow": null,
      "grid_auto_rows": null,
      "grid_column": null,
      "grid_gap": null,
      "grid_row": null,
      "grid_template_areas": null,
      "grid_template_columns": null,
      "grid_template_rows": null,
      "height": null,
      "justify_content": null,
      "justify_items": null,
      "left": null,
      "margin": null,
      "max_height": null,
      "max_width": null,
      "min_height": null,
      "min_width": null,
      "object_fit": null,
      "object_position": null,
      "order": null,
      "overflow": null,
      "overflow_x": null,
      "overflow_y": null,
      "padding": null,
      "right": null,
      "top": null,
      "visibility": null,
      "width": null
     }
    },
    "91698ddb9b034c398e3cbc1d38eaf225": {
     "model_module": "@jupyter-widgets/controls",
     "model_module_version": "1.5.0",
     "model_name": "DescriptionStyleModel",
     "state": {
      "_model_module": "@jupyter-widgets/controls",
      "_model_module_version": "1.5.0",
      "_model_name": "DescriptionStyleModel",
      "_view_count": null,
      "_view_module": "@jupyter-widgets/base",
      "_view_module_version": "1.2.0",
      "_view_name": "StyleView",
      "description_width": ""
     }
    },
    "931fe5ed1fac4f468a64f04b3e4846a2": {
     "model_module": "@jupyter-widgets/base",
     "model_module_version": "1.2.0",
     "model_name": "LayoutModel",
     "state": {
      "_model_module": "@jupyter-widgets/base",
      "_model_module_version": "1.2.0",
      "_model_name": "LayoutModel",
      "_view_count": null,
      "_view_module": "@jupyter-widgets/base",
      "_view_module_version": "1.2.0",
      "_view_name": "LayoutView",
      "align_content": null,
      "align_items": null,
      "align_self": null,
      "border": null,
      "bottom": null,
      "display": null,
      "flex": null,
      "flex_flow": null,
      "grid_area": null,
      "grid_auto_columns": null,
      "grid_auto_flow": null,
      "grid_auto_rows": null,
      "grid_column": null,
      "grid_gap": null,
      "grid_row": null,
      "grid_template_areas": null,
      "grid_template_columns": null,
      "grid_template_rows": null,
      "height": null,
      "justify_content": null,
      "justify_items": null,
      "left": null,
      "margin": null,
      "max_height": null,
      "max_width": null,
      "min_height": null,
      "min_width": null,
      "object_fit": null,
      "object_position": null,
      "order": null,
      "overflow": null,
      "overflow_x": null,
      "overflow_y": null,
      "padding": null,
      "right": null,
      "top": null,
      "visibility": null,
      "width": null
     }
    },
    "94b82aea913e4fc093fd0652a9226b88": {
     "model_module": "@jupyter-widgets/base",
     "model_module_version": "1.2.0",
     "model_name": "LayoutModel",
     "state": {
      "_model_module": "@jupyter-widgets/base",
      "_model_module_version": "1.2.0",
      "_model_name": "LayoutModel",
      "_view_count": null,
      "_view_module": "@jupyter-widgets/base",
      "_view_module_version": "1.2.0",
      "_view_name": "LayoutView",
      "align_content": null,
      "align_items": null,
      "align_self": null,
      "border": null,
      "bottom": null,
      "display": null,
      "flex": null,
      "flex_flow": null,
      "grid_area": null,
      "grid_auto_columns": null,
      "grid_auto_flow": null,
      "grid_auto_rows": null,
      "grid_column": null,
      "grid_gap": null,
      "grid_row": null,
      "grid_template_areas": null,
      "grid_template_columns": null,
      "grid_template_rows": null,
      "height": null,
      "justify_content": null,
      "justify_items": null,
      "left": null,
      "margin": null,
      "max_height": null,
      "max_width": null,
      "min_height": null,
      "min_width": null,
      "object_fit": null,
      "object_position": null,
      "order": null,
      "overflow": null,
      "overflow_x": null,
      "overflow_y": null,
      "padding": null,
      "right": null,
      "top": null,
      "visibility": null,
      "width": null
     }
    },
    "972a0807d80a4bc2a47197509ac831d4": {
     "model_module": "@jupyter-widgets/controls",
     "model_module_version": "1.5.0",
     "model_name": "HBoxModel",
     "state": {
      "_dom_classes": [],
      "_model_module": "@jupyter-widgets/controls",
      "_model_module_version": "1.5.0",
      "_model_name": "HBoxModel",
      "_view_count": null,
      "_view_module": "@jupyter-widgets/controls",
      "_view_module_version": "1.5.0",
      "_view_name": "HBoxView",
      "box_style": "",
      "children": [
       "IPY_MODEL_6a515afb59144c0f96fc0980b7a2bc82",
       "IPY_MODEL_5f60ef8d2627487a8e5e625081214e0f",
       "IPY_MODEL_e65654a899bb4c32bbd21ec0ce255c94"
      ],
      "layout": "IPY_MODEL_a29c7a8db3c1471db396f6b1342af56a"
     }
    },
    "a29c7a8db3c1471db396f6b1342af56a": {
     "model_module": "@jupyter-widgets/base",
     "model_module_version": "1.2.0",
     "model_name": "LayoutModel",
     "state": {
      "_model_module": "@jupyter-widgets/base",
      "_model_module_version": "1.2.0",
      "_model_name": "LayoutModel",
      "_view_count": null,
      "_view_module": "@jupyter-widgets/base",
      "_view_module_version": "1.2.0",
      "_view_name": "LayoutView",
      "align_content": null,
      "align_items": null,
      "align_self": null,
      "border": null,
      "bottom": null,
      "display": null,
      "flex": null,
      "flex_flow": null,
      "grid_area": null,
      "grid_auto_columns": null,
      "grid_auto_flow": null,
      "grid_auto_rows": null,
      "grid_column": null,
      "grid_gap": null,
      "grid_row": null,
      "grid_template_areas": null,
      "grid_template_columns": null,
      "grid_template_rows": null,
      "height": null,
      "justify_content": null,
      "justify_items": null,
      "left": null,
      "margin": null,
      "max_height": null,
      "max_width": null,
      "min_height": null,
      "min_width": null,
      "object_fit": null,
      "object_position": null,
      "order": null,
      "overflow": null,
      "overflow_x": null,
      "overflow_y": null,
      "padding": null,
      "right": null,
      "top": null,
      "visibility": null,
      "width": null
     }
    },
    "d10ea3df038f41a9b65dd781d50aef24": {
     "model_module": "@jupyter-widgets/base",
     "model_module_version": "1.2.0",
     "model_name": "LayoutModel",
     "state": {
      "_model_module": "@jupyter-widgets/base",
      "_model_module_version": "1.2.0",
      "_model_name": "LayoutModel",
      "_view_count": null,
      "_view_module": "@jupyter-widgets/base",
      "_view_module_version": "1.2.0",
      "_view_name": "LayoutView",
      "align_content": null,
      "align_items": null,
      "align_self": null,
      "border": null,
      "bottom": null,
      "display": null,
      "flex": null,
      "flex_flow": null,
      "grid_area": null,
      "grid_auto_columns": null,
      "grid_auto_flow": null,
      "grid_auto_rows": null,
      "grid_column": null,
      "grid_gap": null,
      "grid_row": null,
      "grid_template_areas": null,
      "grid_template_columns": null,
      "grid_template_rows": null,
      "height": null,
      "justify_content": null,
      "justify_items": null,
      "left": null,
      "margin": null,
      "max_height": null,
      "max_width": null,
      "min_height": null,
      "min_width": null,
      "object_fit": null,
      "object_position": null,
      "order": null,
      "overflow": null,
      "overflow_x": null,
      "overflow_y": null,
      "padding": null,
      "right": null,
      "top": null,
      "visibility": null,
      "width": null
     }
    },
    "e0cfd1056f3d475b904ac595e84be158": {
     "model_module": "@jupyter-widgets/controls",
     "model_module_version": "1.5.0",
     "model_name": "DescriptionStyleModel",
     "state": {
      "_model_module": "@jupyter-widgets/controls",
      "_model_module_version": "1.5.0",
      "_model_name": "DescriptionStyleModel",
      "_view_count": null,
      "_view_module": "@jupyter-widgets/base",
      "_view_module_version": "1.2.0",
      "_view_name": "StyleView",
      "description_width": ""
     }
    },
    "e65654a899bb4c32bbd21ec0ce255c94": {
     "model_module": "@jupyter-widgets/controls",
     "model_module_version": "1.5.0",
     "model_name": "HTMLModel",
     "state": {
      "_dom_classes": [],
      "_model_module": "@jupyter-widgets/controls",
      "_model_module_version": "1.5.0",
      "_model_name": "HTMLModel",
      "_view_count": null,
      "_view_module": "@jupyter-widgets/controls",
      "_view_module_version": "1.5.0",
      "_view_name": "HTMLView",
      "description": "",
      "description_tooltip": null,
      "layout": "IPY_MODEL_e823cc89ac994cfb9feaa8973687a46f",
      "placeholder": "​",
      "style": "IPY_MODEL_20e9ff5838594819876eeeb1797cca02",
      "value": " 5.0/? [00:01&lt;00:00,  2.86M/s]"
     }
    },
    "e823cc89ac994cfb9feaa8973687a46f": {
     "model_module": "@jupyter-widgets/base",
     "model_module_version": "1.2.0",
     "model_name": "LayoutModel",
     "state": {
      "_model_module": "@jupyter-widgets/base",
      "_model_module_version": "1.2.0",
      "_model_name": "LayoutModel",
      "_view_count": null,
      "_view_module": "@jupyter-widgets/base",
      "_view_module_version": "1.2.0",
      "_view_name": "LayoutView",
      "align_content": null,
      "align_items": null,
      "align_self": null,
      "border": null,
      "bottom": null,
      "display": null,
      "flex": null,
      "flex_flow": null,
      "grid_area": null,
      "grid_auto_columns": null,
      "grid_auto_flow": null,
      "grid_auto_rows": null,
      "grid_column": null,
      "grid_gap": null,
      "grid_row": null,
      "grid_template_areas": null,
      "grid_template_columns": null,
      "grid_template_rows": null,
      "height": null,
      "justify_content": null,
      "justify_items": null,
      "left": null,
      "margin": null,
      "max_height": null,
      "max_width": null,
      "min_height": null,
      "min_width": null,
      "object_fit": null,
      "object_position": null,
      "order": null,
      "overflow": null,
      "overflow_x": null,
      "overflow_y": null,
      "padding": null,
      "right": null,
      "top": null,
      "visibility": null,
      "width": null
     }
    },
    "f13571d59cef4845937b2989b5b63490": {
     "model_module": "@jupyter-widgets/controls",
     "model_module_version": "1.5.0",
     "model_name": "DescriptionStyleModel",
     "state": {
      "_model_module": "@jupyter-widgets/controls",
      "_model_module_version": "1.5.0",
      "_model_name": "DescriptionStyleModel",
      "_view_count": null,
      "_view_module": "@jupyter-widgets/base",
      "_view_module_version": "1.2.0",
      "_view_name": "StyleView",
      "description_width": ""
     }
    }
   }
  }
 },
 "nbformat": 4,
 "nbformat_minor": 5
}
