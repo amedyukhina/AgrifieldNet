{
  "cells": [
    {
      "cell_type": "markdown",
      "metadata": {
        "id": "view-in-github",
        "colab_type": "text"
      },
      "source": [
        "<a href=\"https://colab.research.google.com/github/amedyukhina/AgrifieldNet/blob/main/agrinet.ipynb\" target=\"_parent\"><img src=\"https://colab.research.google.com/assets/colab-badge.svg\" alt=\"Open In Colab\"/></a>"
      ]
    },
    {
      "cell_type": "markdown",
      "id": "77b4743b",
      "metadata": {
        "id": "77b4743b"
      },
      "source": [
        "# AgrifieldNet India Competition"
      ]
    },
    {
      "cell_type": "markdown",
      "id": "be36e335",
      "metadata": {
        "id": "be36e335"
      },
      "source": [
        "## Install and import dependencies\n"
      ]
    },
    {
      "cell_type": "code",
      "execution_count": 1,
      "id": "KiwG2IraDe6h",
      "metadata": {
        "colab": {
          "base_uri": "https://localhost:8080/"
        },
        "id": "KiwG2IraDe6h",
        "outputId": "e99fe22c-1be3-4bd7-9965-ba6af53ddfb4"
      },
      "outputs": [
        {
          "output_type": "stream",
          "name": "stdout",
          "text": [
            "Overwriting requirements.txt\n"
          ]
        }
      ],
      "source": [
        "%%writefile requirements.txt\n",
        "\n",
        "pandas==1.3.5\n",
        "scikit-learn==1.0.2\n",
        "tqdm==4.64.0\n",
        "rasterio==1.2.0\n",
        "numpy==1.21.6\n",
        "radiant_mlhub==0.4.1\n",
        "torch==1.12.1\n",
        "torchvision==0.13.1\n",
        "scikit-image==0.18.3\n",
        "matplotlib==3.2.2\n",
        "pillow==7.1.2\n",
        "monai==0.9.1\n",
        "tensorboard==2.8.0"
      ]
    },
    {
      "cell_type": "code",
      "execution_count": 2,
      "id": "qafN0lN8D-_N",
      "metadata": {
        "colab": {
          "base_uri": "https://localhost:8080/"
        },
        "id": "qafN0lN8D-_N",
        "outputId": "b69c2885-1da4-46da-aae0-e0c7e2240016"
      },
      "outputs": [
        {
          "output_type": "stream",
          "name": "stdout",
          "text": [
            "Looking in indexes: https://pypi.org/simple, https://us-python.pkg.dev/colab-wheels/public/simple/\n",
            "Requirement already satisfied: pandas==1.3.5 in /usr/local/lib/python3.7/dist-packages (from -r requirements.txt (line 2)) (1.3.5)\n",
            "Requirement already satisfied: scikit-learn==1.0.2 in /usr/local/lib/python3.7/dist-packages (from -r requirements.txt (line 3)) (1.0.2)\n",
            "Requirement already satisfied: tqdm==4.64.0 in /usr/local/lib/python3.7/dist-packages (from -r requirements.txt (line 4)) (4.64.0)\n",
            "Requirement already satisfied: rasterio==1.2.0 in /usr/local/lib/python3.7/dist-packages (from -r requirements.txt (line 5)) (1.2.0)\n",
            "Requirement already satisfied: numpy==1.21.6 in /usr/local/lib/python3.7/dist-packages (from -r requirements.txt (line 6)) (1.21.6)\n",
            "Requirement already satisfied: radiant_mlhub==0.4.1 in /usr/local/lib/python3.7/dist-packages (from -r requirements.txt (line 7)) (0.4.1)\n",
            "Requirement already satisfied: torch==1.12.1 in /usr/local/lib/python3.7/dist-packages (from -r requirements.txt (line 8)) (1.12.1+cu113)\n",
            "Requirement already satisfied: torchvision==0.13.1 in /usr/local/lib/python3.7/dist-packages (from -r requirements.txt (line 9)) (0.13.1+cu113)\n",
            "Requirement already satisfied: scikit-image==0.18.3 in /usr/local/lib/python3.7/dist-packages (from -r requirements.txt (line 10)) (0.18.3)\n",
            "Requirement already satisfied: matplotlib==3.2.2 in /usr/local/lib/python3.7/dist-packages (from -r requirements.txt (line 11)) (3.2.2)\n",
            "Requirement already satisfied: pillow==7.1.2 in /usr/local/lib/python3.7/dist-packages (from -r requirements.txt (line 12)) (7.1.2)\n",
            "Requirement already satisfied: monai==0.9.1 in /usr/local/lib/python3.7/dist-packages (from -r requirements.txt (line 13)) (0.9.1)\n",
            "Requirement already satisfied: tensorboard==2.8.0 in /usr/local/lib/python3.7/dist-packages (from -r requirements.txt (line 14)) (2.8.0)\n",
            "Requirement already satisfied: python-dateutil>=2.7.3 in /usr/local/lib/python3.7/dist-packages (from pandas==1.3.5->-r requirements.txt (line 2)) (2.8.2)\n",
            "Requirement already satisfied: pytz>=2017.3 in /usr/local/lib/python3.7/dist-packages (from pandas==1.3.5->-r requirements.txt (line 2)) (2022.4)\n",
            "Requirement already satisfied: joblib>=0.11 in /usr/local/lib/python3.7/dist-packages (from scikit-learn==1.0.2->-r requirements.txt (line 3)) (1.2.0)\n",
            "Requirement already satisfied: scipy>=1.1.0 in /usr/local/lib/python3.7/dist-packages (from scikit-learn==1.0.2->-r requirements.txt (line 3)) (1.7.3)\n",
            "Requirement already satisfied: threadpoolctl>=2.0.0 in /usr/local/lib/python3.7/dist-packages (from scikit-learn==1.0.2->-r requirements.txt (line 3)) (3.1.0)\n",
            "Requirement already satisfied: certifi in /usr/local/lib/python3.7/dist-packages (from rasterio==1.2.0->-r requirements.txt (line 5)) (2022.9.24)\n",
            "Requirement already satisfied: click-plugins in /usr/local/lib/python3.7/dist-packages (from rasterio==1.2.0->-r requirements.txt (line 5)) (1.1.1)\n",
            "Requirement already satisfied: snuggs>=1.4.1 in /usr/local/lib/python3.7/dist-packages (from rasterio==1.2.0->-r requirements.txt (line 5)) (1.4.7)\n",
            "Requirement already satisfied: cligj>=0.5 in /usr/local/lib/python3.7/dist-packages (from rasterio==1.2.0->-r requirements.txt (line 5)) (0.7.2)\n",
            "Requirement already satisfied: attrs in /usr/local/lib/python3.7/dist-packages (from rasterio==1.2.0->-r requirements.txt (line 5)) (22.1.0)\n",
            "Requirement already satisfied: affine in /usr/local/lib/python3.7/dist-packages (from rasterio==1.2.0->-r requirements.txt (line 5)) (2.3.1)\n",
            "Requirement already satisfied: click<8,>=4.0 in /usr/local/lib/python3.7/dist-packages (from rasterio==1.2.0->-r requirements.txt (line 5)) (7.1.2)\n",
            "Requirement already satisfied: pystac~=1.1 in /usr/local/lib/python3.7/dist-packages (from radiant_mlhub==0.4.1->-r requirements.txt (line 7)) (1.5.0)\n",
            "Requirement already satisfied: requests~=2.25 in /usr/local/lib/python3.7/dist-packages (from radiant_mlhub==0.4.1->-r requirements.txt (line 7)) (2.28.1)\n",
            "Requirement already satisfied: typing-extensions>=3.7 in /usr/local/lib/python3.7/dist-packages (from radiant_mlhub==0.4.1->-r requirements.txt (line 7)) (4.1.1)\n",
            "Requirement already satisfied: imageio>=2.3.0 in /usr/local/lib/python3.7/dist-packages (from scikit-image==0.18.3->-r requirements.txt (line 10)) (2.9.0)\n",
            "Requirement already satisfied: tifffile>=2019.7.26 in /usr/local/lib/python3.7/dist-packages (from scikit-image==0.18.3->-r requirements.txt (line 10)) (2021.11.2)\n",
            "Requirement already satisfied: PyWavelets>=1.1.1 in /usr/local/lib/python3.7/dist-packages (from scikit-image==0.18.3->-r requirements.txt (line 10)) (1.3.0)\n",
            "Requirement already satisfied: networkx>=2.0 in /usr/local/lib/python3.7/dist-packages (from scikit-image==0.18.3->-r requirements.txt (line 10)) (2.6.3)\n",
            "Requirement already satisfied: kiwisolver>=1.0.1 in /usr/local/lib/python3.7/dist-packages (from matplotlib==3.2.2->-r requirements.txt (line 11)) (1.4.4)\n",
            "Requirement already satisfied: pyparsing!=2.0.4,!=2.1.2,!=2.1.6,>=2.0.1 in /usr/local/lib/python3.7/dist-packages (from matplotlib==3.2.2->-r requirements.txt (line 11)) (3.0.9)\n",
            "Requirement already satisfied: cycler>=0.10 in /usr/local/lib/python3.7/dist-packages (from matplotlib==3.2.2->-r requirements.txt (line 11)) (0.11.0)\n",
            "Requirement already satisfied: tensorboard-data-server<0.7.0,>=0.6.0 in /usr/local/lib/python3.7/dist-packages (from tensorboard==2.8.0->-r requirements.txt (line 14)) (0.6.1)\n",
            "Requirement already satisfied: markdown>=2.6.8 in /usr/local/lib/python3.7/dist-packages (from tensorboard==2.8.0->-r requirements.txt (line 14)) (3.4.1)\n",
            "Requirement already satisfied: grpcio>=1.24.3 in /usr/local/lib/python3.7/dist-packages (from tensorboard==2.8.0->-r requirements.txt (line 14)) (1.49.1)\n",
            "Requirement already satisfied: setuptools>=41.0.0 in /usr/local/lib/python3.7/dist-packages (from tensorboard==2.8.0->-r requirements.txt (line 14)) (57.4.0)\n",
            "Requirement already satisfied: werkzeug>=0.11.15 in /usr/local/lib/python3.7/dist-packages (from tensorboard==2.8.0->-r requirements.txt (line 14)) (1.0.1)\n",
            "Requirement already satisfied: google-auth<3,>=1.6.3 in /usr/local/lib/python3.7/dist-packages (from tensorboard==2.8.0->-r requirements.txt (line 14)) (1.35.0)\n",
            "Requirement already satisfied: tensorboard-plugin-wit>=1.6.0 in /usr/local/lib/python3.7/dist-packages (from tensorboard==2.8.0->-r requirements.txt (line 14)) (1.8.1)\n",
            "Requirement already satisfied: protobuf>=3.6.0 in /usr/local/lib/python3.7/dist-packages (from tensorboard==2.8.0->-r requirements.txt (line 14)) (3.17.3)\n",
            "Requirement already satisfied: absl-py>=0.4 in /usr/local/lib/python3.7/dist-packages (from tensorboard==2.8.0->-r requirements.txt (line 14)) (1.2.0)\n",
            "Requirement already satisfied: wheel>=0.26 in /usr/local/lib/python3.7/dist-packages (from tensorboard==2.8.0->-r requirements.txt (line 14)) (0.37.1)\n",
            "Requirement already satisfied: google-auth-oauthlib<0.5,>=0.4.1 in /usr/local/lib/python3.7/dist-packages (from tensorboard==2.8.0->-r requirements.txt (line 14)) (0.4.6)\n",
            "Requirement already satisfied: pyasn1-modules>=0.2.1 in /usr/local/lib/python3.7/dist-packages (from google-auth<3,>=1.6.3->tensorboard==2.8.0->-r requirements.txt (line 14)) (0.2.8)\n",
            "Requirement already satisfied: rsa<5,>=3.1.4 in /usr/local/lib/python3.7/dist-packages (from google-auth<3,>=1.6.3->tensorboard==2.8.0->-r requirements.txt (line 14)) (4.9)\n",
            "Requirement already satisfied: cachetools<5.0,>=2.0.0 in /usr/local/lib/python3.7/dist-packages (from google-auth<3,>=1.6.3->tensorboard==2.8.0->-r requirements.txt (line 14)) (4.2.4)\n",
            "Requirement already satisfied: six>=1.9.0 in /usr/local/lib/python3.7/dist-packages (from google-auth<3,>=1.6.3->tensorboard==2.8.0->-r requirements.txt (line 14)) (1.15.0)\n",
            "Requirement already satisfied: requests-oauthlib>=0.7.0 in /usr/local/lib/python3.7/dist-packages (from google-auth-oauthlib<0.5,>=0.4.1->tensorboard==2.8.0->-r requirements.txt (line 14)) (1.3.1)\n",
            "Requirement already satisfied: importlib-metadata>=4.4 in /usr/local/lib/python3.7/dist-packages (from markdown>=2.6.8->tensorboard==2.8.0->-r requirements.txt (line 14)) (5.0.0)\n",
            "Requirement already satisfied: zipp>=0.5 in /usr/local/lib/python3.7/dist-packages (from importlib-metadata>=4.4->markdown>=2.6.8->tensorboard==2.8.0->-r requirements.txt (line 14)) (3.8.1)\n",
            "Requirement already satisfied: pyasn1<0.5.0,>=0.4.6 in /usr/local/lib/python3.7/dist-packages (from pyasn1-modules>=0.2.1->google-auth<3,>=1.6.3->tensorboard==2.8.0->-r requirements.txt (line 14)) (0.4.8)\n",
            "Requirement already satisfied: urllib3<1.27,>=1.21.1 in /usr/local/lib/python3.7/dist-packages (from requests~=2.25->radiant_mlhub==0.4.1->-r requirements.txt (line 7)) (1.24.3)\n",
            "Requirement already satisfied: idna<4,>=2.5 in /usr/local/lib/python3.7/dist-packages (from requests~=2.25->radiant_mlhub==0.4.1->-r requirements.txt (line 7)) (2.10)\n",
            "Requirement already satisfied: charset-normalizer<3,>=2 in /usr/local/lib/python3.7/dist-packages (from requests~=2.25->radiant_mlhub==0.4.1->-r requirements.txt (line 7)) (2.1.1)\n",
            "Requirement already satisfied: oauthlib>=3.0.0 in /usr/local/lib/python3.7/dist-packages (from requests-oauthlib>=0.7.0->google-auth-oauthlib<0.5,>=0.4.1->tensorboard==2.8.0->-r requirements.txt (line 14)) (3.2.1)\n"
          ]
        }
      ],
      "source": [
        "!pip install -r requirements.txt"
      ]
    },
    {
      "cell_type": "code",
      "execution_count": 3,
      "id": "28ea6e7d",
      "metadata": {
        "id": "28ea6e7d"
      },
      "outputs": [],
      "source": [
        "import os\n",
        "import json\n",
        "import getpass\n",
        "import rasterio\n",
        "import numpy as np\n",
        "import pandas as pd\n",
        "from tqdm import tqdm\n",
        "from radiant_mlhub import Dataset\n",
        "import tarfile\n",
        "import shutil\n",
        "import numpy as np\n",
        "import pandas as pd\n",
        "import torch\n",
        "import torch.utils.data\n",
        "from torch import nn\n",
        "from skimage import io\n",
        "from torchvision import transforms as torch_transforms\n",
        "from torchvision import models\n",
        "import pylab as plt\n",
        "from PIL import Image\n",
        "from skimage.segmentation import mark_boundaries\n",
        "from monai.networks.layers import Norm\n",
        "from monai.networks.nets import UNet\n",
        "from monai.losses import DiceLoss, DiceCELoss, MaskedDiceLoss\n",
        "from monai.metrics import DiceMetric\n",
        "from google.colab import drive"
      ]
    },
    {
      "cell_type": "markdown",
      "id": "fQpDLC79m5A4",
      "metadata": {
        "id": "fQpDLC79m5A4"
      },
      "source": [
        "## Specify global parameters"
      ]
    },
    {
      "cell_type": "code",
      "source": [
        "# drive.mount('/content/gdrive')\n",
        "# path = 'gdrive/MyDrive/Colab Notebooks/'"
      ],
      "metadata": {
        "id": "XaKPrmT7mK4X"
      },
      "id": "XaKPrmT7mK4X",
      "execution_count": 4,
      "outputs": []
    },
    {
      "cell_type": "code",
      "execution_count": 5,
      "id": "rKuZKO3em_Av",
      "metadata": {
        "id": "rKuZKO3em_Av"
      },
      "outputs": [],
      "source": [
        "random_seed = 42\n",
        "\n",
        "train_df_path = 'train_data.csv'\n",
        "\n",
        "# BAND_NAMES = ['B01', 'B02', 'B03', 'B04','B05', 'B06', 'B07', 'B08','B8A', 'B09', 'B11', 'B12']\n",
        "BAND_NAMES = ['B02', 'B03', 'B04', 'B08']"
      ]
    },
    {
      "cell_type": "code",
      "execution_count": 6,
      "id": "S-_SPonZnI8f",
      "metadata": {
        "id": "S-_SPonZnI8f"
      },
      "outputs": [],
      "source": [
        "np.random.seed(random_seed)"
      ]
    },
    {
      "cell_type": "markdown",
      "id": "835834a1",
      "metadata": {
        "id": "835834a1"
      },
      "source": [
        "## Download data from MLHUB\n"
      ]
    },
    {
      "cell_type": "code",
      "execution_count": 7,
      "id": "v6t8zd3bJB51",
      "metadata": {
        "id": "v6t8zd3bJB51"
      },
      "outputs": [],
      "source": [
        "collection_name = 'ref_agrifieldnet_competition_v1'\n",
        "data_dir = 'data'\n",
        "# data_dir = path + collection_name\n",
        "\n",
        "source_collection = f'{collection_name}_source'\n",
        "train_label_collection = f'{collection_name}_labels_train'\n",
        "test_label_collection = f'{collection_name}_labels_test'"
      ]
    },
    {
      "cell_type": "code",
      "execution_count": 8,
      "id": "cb1f3921",
      "metadata": {
        "colab": {
          "base_uri": "https://localhost:8080/"
        },
        "id": "cb1f3921",
        "outputId": "cb73ffc5-345a-42f3-9b50-c0d0feb0bba0",
        "scrolled": true
      },
      "outputs": [
        {
          "output_type": "stream",
          "name": "stdout",
          "text": [
            "Dataset already exists\n"
          ]
        }
      ],
      "source": [
        "if not os.path.exists(data_dir):\n",
        "  os.environ['MLHUB_API_KEY'] =  getpass.getpass(prompt=\"MLHub API Key: \")\n",
        "\n",
        "  dataset = Dataset.fetch(collection_name)\n",
        "  dataset.download(output_dir=data_dir)\n",
        "  for fn in os.listdir(data_dir):\n",
        "    with tarfile.open(os.path.join(data_dir, fn)) as f:\n",
        "      f.extractall(data_dir + '/') \n",
        "    os.remove(os.path.join(data_dir, fn))\n",
        "else:\n",
        "  print(\"Dataset already exists\")"
      ]
    },
    {
      "cell_type": "markdown",
      "id": "c2b7152b",
      "metadata": {
        "id": "c2b7152b"
      },
      "source": [
        "## Prepare Training data\n"
      ]
    },
    {
      "cell_type": "markdown",
      "id": "HjvBEfBWmYY0",
      "metadata": {
        "id": "HjvBEfBWmYY0"
      },
      "source": [
        "### Create training dataframe"
      ]
    },
    {
      "cell_type": "code",
      "execution_count": 9,
      "id": "GV9mPA1VTqt4",
      "metadata": {
        "id": "GV9mPA1VTqt4"
      },
      "outputs": [],
      "source": [
        "train_paths = os.listdir(os.path.join(data_dir, train_label_collection))\n",
        "train_ids = [fn.split('_')[-1] for fn in train_paths if 'labels_train' in fn]\n",
        "\n",
        "field_paths = [f'{data_dir}/{train_label_collection}/{train_label_collection}_{i}/field_ids.tif' \n",
        "               for i in train_ids]\n",
        "label_paths = [f'{data_dir}/{train_label_collection}/{train_label_collection}_{i}/raster_labels.tif' \n",
        "               for i in train_ids]\n",
        "source_paths = [f'{data_dir}/{source_collection}/{source_collection}_{i}/' \n",
        "               for i in train_ids]"
      ]
    },
    {
      "cell_type": "code",
      "execution_count": 10,
      "id": "d158c3e9",
      "metadata": {
        "colab": {
          "base_uri": "https://localhost:8080/",
          "height": 250
        },
        "id": "d158c3e9",
        "outputId": "b06929df-28d7-4197-ec9f-25e65c57d2de"
      },
      "outputs": [
        {
          "output_type": "execute_result",
          "data": {
            "text/plain": [
              "  folder_id                                         field_path  \\\n",
              "0     84579  data/ref_agrifieldnet_competition_v1_labels_tr...   \n",
              "1     76dff  data/ref_agrifieldnet_competition_v1_labels_tr...   \n",
              "2     2f851  data/ref_agrifieldnet_competition_v1_labels_tr...   \n",
              "3     740a4  data/ref_agrifieldnet_competition_v1_labels_tr...   \n",
              "4     17e25  data/ref_agrifieldnet_competition_v1_labels_tr...   \n",
              "\n",
              "                                          label_path  \\\n",
              "0  data/ref_agrifieldnet_competition_v1_labels_tr...   \n",
              "1  data/ref_agrifieldnet_competition_v1_labels_tr...   \n",
              "2  data/ref_agrifieldnet_competition_v1_labels_tr...   \n",
              "3  data/ref_agrifieldnet_competition_v1_labels_tr...   \n",
              "4  data/ref_agrifieldnet_competition_v1_labels_tr...   \n",
              "\n",
              "                                         source_path  \n",
              "0  data/ref_agrifieldnet_competition_v1_source/re...  \n",
              "1  data/ref_agrifieldnet_competition_v1_source/re...  \n",
              "2  data/ref_agrifieldnet_competition_v1_source/re...  \n",
              "3  data/ref_agrifieldnet_competition_v1_source/re...  \n",
              "4  data/ref_agrifieldnet_competition_v1_source/re...  "
            ],
            "text/html": [
              "\n",
              "  <div id=\"df-9c76d4ec-2fc9-4dbc-9682-09fc4afdade0\">\n",
              "    <div class=\"colab-df-container\">\n",
              "      <div>\n",
              "<style scoped>\n",
              "    .dataframe tbody tr th:only-of-type {\n",
              "        vertical-align: middle;\n",
              "    }\n",
              "\n",
              "    .dataframe tbody tr th {\n",
              "        vertical-align: top;\n",
              "    }\n",
              "\n",
              "    .dataframe thead th {\n",
              "        text-align: right;\n",
              "    }\n",
              "</style>\n",
              "<table border=\"1\" class=\"dataframe\">\n",
              "  <thead>\n",
              "    <tr style=\"text-align: right;\">\n",
              "      <th></th>\n",
              "      <th>folder_id</th>\n",
              "      <th>field_path</th>\n",
              "      <th>label_path</th>\n",
              "      <th>source_path</th>\n",
              "    </tr>\n",
              "  </thead>\n",
              "  <tbody>\n",
              "    <tr>\n",
              "      <th>0</th>\n",
              "      <td>84579</td>\n",
              "      <td>data/ref_agrifieldnet_competition_v1_labels_tr...</td>\n",
              "      <td>data/ref_agrifieldnet_competition_v1_labels_tr...</td>\n",
              "      <td>data/ref_agrifieldnet_competition_v1_source/re...</td>\n",
              "    </tr>\n",
              "    <tr>\n",
              "      <th>1</th>\n",
              "      <td>76dff</td>\n",
              "      <td>data/ref_agrifieldnet_competition_v1_labels_tr...</td>\n",
              "      <td>data/ref_agrifieldnet_competition_v1_labels_tr...</td>\n",
              "      <td>data/ref_agrifieldnet_competition_v1_source/re...</td>\n",
              "    </tr>\n",
              "    <tr>\n",
              "      <th>2</th>\n",
              "      <td>2f851</td>\n",
              "      <td>data/ref_agrifieldnet_competition_v1_labels_tr...</td>\n",
              "      <td>data/ref_agrifieldnet_competition_v1_labels_tr...</td>\n",
              "      <td>data/ref_agrifieldnet_competition_v1_source/re...</td>\n",
              "    </tr>\n",
              "    <tr>\n",
              "      <th>3</th>\n",
              "      <td>740a4</td>\n",
              "      <td>data/ref_agrifieldnet_competition_v1_labels_tr...</td>\n",
              "      <td>data/ref_agrifieldnet_competition_v1_labels_tr...</td>\n",
              "      <td>data/ref_agrifieldnet_competition_v1_source/re...</td>\n",
              "    </tr>\n",
              "    <tr>\n",
              "      <th>4</th>\n",
              "      <td>17e25</td>\n",
              "      <td>data/ref_agrifieldnet_competition_v1_labels_tr...</td>\n",
              "      <td>data/ref_agrifieldnet_competition_v1_labels_tr...</td>\n",
              "      <td>data/ref_agrifieldnet_competition_v1_source/re...</td>\n",
              "    </tr>\n",
              "  </tbody>\n",
              "</table>\n",
              "</div>\n",
              "      <button class=\"colab-df-convert\" onclick=\"convertToInteractive('df-9c76d4ec-2fc9-4dbc-9682-09fc4afdade0')\"\n",
              "              title=\"Convert this dataframe to an interactive table.\"\n",
              "              style=\"display:none;\">\n",
              "        \n",
              "  <svg xmlns=\"http://www.w3.org/2000/svg\" height=\"24px\"viewBox=\"0 0 24 24\"\n",
              "       width=\"24px\">\n",
              "    <path d=\"M0 0h24v24H0V0z\" fill=\"none\"/>\n",
              "    <path d=\"M18.56 5.44l.94 2.06.94-2.06 2.06-.94-2.06-.94-.94-2.06-.94 2.06-2.06.94zm-11 1L8.5 8.5l.94-2.06 2.06-.94-2.06-.94L8.5 2.5l-.94 2.06-2.06.94zm10 10l.94 2.06.94-2.06 2.06-.94-2.06-.94-.94-2.06-.94 2.06-2.06.94z\"/><path d=\"M17.41 7.96l-1.37-1.37c-.4-.4-.92-.59-1.43-.59-.52 0-1.04.2-1.43.59L10.3 9.45l-7.72 7.72c-.78.78-.78 2.05 0 2.83L4 21.41c.39.39.9.59 1.41.59.51 0 1.02-.2 1.41-.59l7.78-7.78 2.81-2.81c.8-.78.8-2.07 0-2.86zM5.41 20L4 18.59l7.72-7.72 1.47 1.35L5.41 20z\"/>\n",
              "  </svg>\n",
              "      </button>\n",
              "      \n",
              "  <style>\n",
              "    .colab-df-container {\n",
              "      display:flex;\n",
              "      flex-wrap:wrap;\n",
              "      gap: 12px;\n",
              "    }\n",
              "\n",
              "    .colab-df-convert {\n",
              "      background-color: #E8F0FE;\n",
              "      border: none;\n",
              "      border-radius: 50%;\n",
              "      cursor: pointer;\n",
              "      display: none;\n",
              "      fill: #1967D2;\n",
              "      height: 32px;\n",
              "      padding: 0 0 0 0;\n",
              "      width: 32px;\n",
              "    }\n",
              "\n",
              "    .colab-df-convert:hover {\n",
              "      background-color: #E2EBFA;\n",
              "      box-shadow: 0px 1px 2px rgba(60, 64, 67, 0.3), 0px 1px 3px 1px rgba(60, 64, 67, 0.15);\n",
              "      fill: #174EA6;\n",
              "    }\n",
              "\n",
              "    [theme=dark] .colab-df-convert {\n",
              "      background-color: #3B4455;\n",
              "      fill: #D2E3FC;\n",
              "    }\n",
              "\n",
              "    [theme=dark] .colab-df-convert:hover {\n",
              "      background-color: #434B5C;\n",
              "      box-shadow: 0px 1px 3px 1px rgba(0, 0, 0, 0.15);\n",
              "      filter: drop-shadow(0px 1px 2px rgba(0, 0, 0, 0.3));\n",
              "      fill: #FFFFFF;\n",
              "    }\n",
              "  </style>\n",
              "\n",
              "      <script>\n",
              "        const buttonEl =\n",
              "          document.querySelector('#df-9c76d4ec-2fc9-4dbc-9682-09fc4afdade0 button.colab-df-convert');\n",
              "        buttonEl.style.display =\n",
              "          google.colab.kernel.accessAllowed ? 'block' : 'none';\n",
              "\n",
              "        async function convertToInteractive(key) {\n",
              "          const element = document.querySelector('#df-9c76d4ec-2fc9-4dbc-9682-09fc4afdade0');\n",
              "          const dataTable =\n",
              "            await google.colab.kernel.invokeFunction('convertToInteractive',\n",
              "                                                     [key], {});\n",
              "          if (!dataTable) return;\n",
              "\n",
              "          const docLinkHtml = 'Like what you see? Visit the ' +\n",
              "            '<a target=\"_blank\" href=https://colab.research.google.com/notebooks/data_table.ipynb>data table notebook</a>'\n",
              "            + ' to learn more about interactive tables.';\n",
              "          element.innerHTML = '';\n",
              "          dataTable['output_type'] = 'display_data';\n",
              "          await google.colab.output.renderOutput(dataTable, element);\n",
              "          const docLink = document.createElement('div');\n",
              "          docLink.innerHTML = docLinkHtml;\n",
              "          element.appendChild(docLink);\n",
              "        }\n",
              "      </script>\n",
              "    </div>\n",
              "  </div>\n",
              "  "
            ]
          },
          "metadata": {},
          "execution_count": 10
        }
      ],
      "source": [
        "train_data = pd.DataFrame(np.array([train_ids, field_paths, label_paths, source_paths]).transpose(), \n",
        "                          columns=['folder_id', 'field_path', 'label_path', 'source_path'])\n",
        "train_data.head()"
      ]
    },
    {
      "cell_type": "markdown",
      "source": [
        "## Extract band mean and std"
      ],
      "metadata": {
        "id": "3nUIadAoPzzF"
      },
      "id": "3nUIadAoPzzF"
    },
    {
      "cell_type": "code",
      "source": [
        "source_paths = [fn for fn in os.listdir(os.path.join(data_dir, \n",
        "                                                     source_collection)) \n",
        "if not fn.endswith('json')]"
      ],
      "metadata": {
        "id": "8SyckvzbP0yR"
      },
      "id": "8SyckvzbP0yR",
      "execution_count": 11,
      "outputs": []
    },
    {
      "cell_type": "code",
      "source": [
        "means = []\n",
        "stds = []\n",
        "for source_path in tqdm(source_paths):\n",
        "  m = []\n",
        "  s = []\n",
        "  for band in BAND_NAMES:\n",
        "    with rasterio.open(os.path.join(data_dir, source_collection, source_path) + rf\"/{band}.tif\") as src:\n",
        "      img = src.read()[0]\n",
        "      m.append(np.mean(img))\n",
        "      s.append(np.std(img))\n",
        "  means.append(m)\n",
        "  stds.append(s)\n",
        "means = np.array(means).mean(0)\n",
        "stds = np.array(stds).mean(0)"
      ],
      "metadata": {
        "colab": {
          "base_uri": "https://localhost:8080/"
        },
        "id": "4EruyrJaP01u",
        "outputId": "da913453-08ee-46c0-d72a-ea658364063b"
      },
      "id": "4EruyrJaP01u",
      "execution_count": 12,
      "outputs": [
        {
          "output_type": "stream",
          "name": "stderr",
          "text": [
            "100%|██████████| 1217/1217 [00:19<00:00, 61.42it/s]\n"
          ]
        }
      ]
    },
    {
      "cell_type": "markdown",
      "id": "45b0528d-12b9-4c3d-9349-b87d0125452b",
      "metadata": {
        "id": "45b0528d-12b9-4c3d-9349-b87d0125452b"
      },
      "source": [
        "\n",
        "## Extract field-crop data"
      ]
    },
    {
      "cell_type": "code",
      "execution_count": 13,
      "id": "bb718754-8b9d-41dc-af37-785f08813783",
      "metadata": {
        "id": "bb718754-8b9d-41dc-af37-785f08813783"
      },
      "outputs": [],
      "source": [
        "def extract_field_crop_data(data):\n",
        "  field_ids = []\n",
        "  crop_type = []\n",
        "  field_area = []\n",
        "  field_max_dim = []\n",
        "  field_center_x = []\n",
        "  field_center_y = []\n",
        "  label_paths = []\n",
        "  field_paths = []\n",
        "  source_paths = []\n",
        "\n",
        "  for i in tqdm(range(len(data))):\n",
        "      with rasterio.open(data['field_path'].iloc[i]) as src:\n",
        "          field_data = src.read()[0]\n",
        "      with rasterio.open(data['label_path'].iloc[i]) as src:\n",
        "          crop_data = src.read()[0]\n",
        "\n",
        "      for field_id in np.unique(field_data)[1:]:\n",
        "          ind = np.where(field_data == field_id)\n",
        "          field_ids.append(field_id)\n",
        "          crop_type.append(np.unique(crop_data[ind])[-1])\n",
        "          field_area.append(len(ind[0]))\n",
        "          field_max_dim.append(np.max(np.array(ind).max(1) - np.array(ind).min(1) + 1))\n",
        "          field_center_y.append(np.mean(ind[0]))\n",
        "          field_center_x.append(np.mean(ind[1]))\n",
        "          label_paths.append(data['label_path'].iloc[i])\n",
        "          field_paths.append(data['field_path'].iloc[i])\n",
        "          source_paths.append(data['source_path'].iloc[i])\n",
        "\n",
        "  df = pd.DataFrame(np.array([field_ids, crop_type, field_area, \n",
        "                              field_max_dim, field_center_x, \n",
        "                              field_center_y]).transpose(),\n",
        "                    columns=['field_id', 'crop_type', 'field_area', \n",
        "                            'field_max_dim', 'center_x', 'center_y'])\n",
        "  df['label_path'] = label_paths\n",
        "  df['field_path'] = field_paths\n",
        "  df['source_path'] = source_paths\n",
        "  return df"
      ]
    },
    {
      "cell_type": "code",
      "source": [
        "df = extract_field_crop_data(train_data)"
      ],
      "metadata": {
        "id": "x01ngTzLAFU3",
        "outputId": "0d896ecf-9ec2-41d2-f27c-3969f5808872",
        "colab": {
          "base_uri": "https://localhost:8080/"
        }
      },
      "id": "x01ngTzLAFU3",
      "execution_count": 14,
      "outputs": [
        {
          "output_type": "stream",
          "name": "stderr",
          "text": [
            "100%|██████████| 1165/1165 [00:10<00:00, 113.04it/s]\n"
          ]
        }
      ]
    },
    {
      "cell_type": "code",
      "source": [
        "crop_labels = np.unique(df['crop_type'])\n",
        "df['crop_ind'] = df['crop_type'].apply(lambda x: np.where(crop_labels == x)[0][0])"
      ],
      "metadata": {
        "id": "4dhiNZ3onwia"
      },
      "id": "4dhiNZ3onwia",
      "execution_count": 15,
      "outputs": []
    },
    {
      "cell_type": "code",
      "source": [
        "(df['crop_type'] == crop_labels[df['crop_ind']]).unique()"
      ],
      "metadata": {
        "colab": {
          "base_uri": "https://localhost:8080/"
        },
        "id": "hrsIYUMloBZH",
        "outputId": "bd544e4b-1be5-49b2-d669-e43b24ff20e7"
      },
      "id": "hrsIYUMloBZH",
      "execution_count": 16,
      "outputs": [
        {
          "output_type": "execute_result",
          "data": {
            "text/plain": [
              "array([ True])"
            ]
          },
          "metadata": {},
          "execution_count": 16
        }
      ]
    },
    {
      "cell_type": "code",
      "execution_count": 17,
      "id": "82363a48-77b1-43d9-9b4b-30399290ec97",
      "metadata": {
        "id": "82363a48-77b1-43d9-9b4b-30399290ec97",
        "outputId": "30cba2d5-cfa3-4e3d-e648-2d14ff65f916",
        "colab": {
          "base_uri": "https://localhost:8080/"
        }
      },
      "outputs": [
        {
          "output_type": "execute_result",
          "data": {
            "text/plain": [
              "54.0"
            ]
          },
          "metadata": {},
          "execution_count": 17
        }
      ],
      "source": [
        "maxdim = df['field_max_dim'].max()\n",
        "maxdim"
      ]
    },
    {
      "cell_type": "code",
      "execution_count": 18,
      "id": "cb8235d3-3f09-4bb7-b32b-3e5c7ba966fc",
      "metadata": {
        "id": "cb8235d3-3f09-4bb7-b32b-3e5c7ba966fc"
      },
      "outputs": [],
      "source": [
        "size = 64"
      ]
    },
    {
      "cell_type": "markdown",
      "id": "tXq1MIEveISx",
      "metadata": {
        "id": "tXq1MIEveISx"
      },
      "source": [
        "### Split the data into train and validation"
      ]
    },
    {
      "cell_type": "code",
      "execution_count": 19,
      "id": "a2602227-d512-4688-8f3d-f4db60a7e8ac",
      "metadata": {
        "id": "a2602227-d512-4688-8f3d-f4db60a7e8ac"
      },
      "outputs": [],
      "source": [
        "val_fraction = 0.2"
      ]
    },
    {
      "cell_type": "code",
      "execution_count": 20,
      "id": "25140a45-6438-481e-8b13-a79af4ee368b",
      "metadata": {
        "id": "25140a45-6438-481e-8b13-a79af4ee368b"
      },
      "outputs": [],
      "source": [
        "np.random.seed(random_seed)\n",
        "df_train = []\n",
        "df_val = []\n",
        "for crop in df['crop_type'].unique():\n",
        "    cur_df = df[df['crop_type'] == crop].reset_index(drop=True)\n",
        "    unique_field_ids = cur_df['field_id'].unique()\n",
        "    ind = np.arange(len(unique_field_ids))\n",
        "    np.random.shuffle(ind)\n",
        "    n_val = int(round(val_fraction * len(ind)))\n",
        "    df_val.append(cur_df[cur_df['field_id'].isin(unique_field_ids[ind[:n_val]])])\n",
        "    df_train.append(cur_df[cur_df['field_id'].isin(unique_field_ids[ind[n_val:]])])\n",
        "df_train = pd.concat(df_train, ignore_index=True)\n",
        "df_val = pd.concat(df_val, ignore_index=True)"
      ]
    },
    {
      "cell_type": "code",
      "execution_count": 21,
      "id": "e39b9856-01db-4d36-9864-b94c5fb6e94c",
      "metadata": {
        "id": "e39b9856-01db-4d36-9864-b94c5fb6e94c",
        "colab": {
          "base_uri": "https://localhost:8080/"
        },
        "outputId": "b4418789-da3d-4f0a-d710-8d7268f3281a"
      },
      "outputs": [
        {
          "output_type": "execute_result",
          "data": {
            "text/plain": [
              "(array([ 1.,  2.,  3.,  4.,  5.,  6.,  8.,  9., 13., 14., 15., 16., 36.]),\n",
              " array([1721,  831,   84, 1362,   20,  139,   39,  244,   52,   11,   35,\n",
              "          13,  105]),\n",
              " array([  1.        ,   2.0709988 ,  20.48809524,   1.26358297,\n",
              "         86.05      ,  12.38129496,  44.12820513,   7.05327869,\n",
              "         33.09615385, 156.45454545,  49.17142857, 132.38461538,\n",
              "         16.39047619]))"
            ]
          },
          "metadata": {},
          "execution_count": 21
        }
      ],
      "source": [
        "n_fields = np.array(df_train.groupby('crop_type').count()['field_id'])\n",
        "weights = np.max(n_fields) / n_fields\n",
        "crop_labels, n_fields, weights"
      ]
    },
    {
      "cell_type": "code",
      "execution_count": 22,
      "id": "01d13012-267b-4c53-9f8e-43c3bea62c1e",
      "metadata": {
        "id": "01d13012-267b-4c53-9f8e-43c3bea62c1e",
        "outputId": "4d1a1231-a38e-4ed2-d7ee-af855b7ba5e7",
        "colab": {
          "base_uri": "https://localhost:8080/"
        }
      },
      "outputs": [
        {
          "output_type": "execute_result",
          "data": {
            "text/plain": [
              "array([  0.        ,   1.        ,   2.0709988 ,  20.48809524,\n",
              "         1.26358297,  86.05      ,  12.38129496,   0.        ,\n",
              "        44.12820513,   7.05327869,   0.        ,   0.        ,\n",
              "         0.        ,  33.09615385, 156.45454545,  49.17142857,\n",
              "       132.38461538,   0.        ,   0.        ,   0.        ,\n",
              "         0.        ,   0.        ,   0.        ,   0.        ,\n",
              "         0.        ,   0.        ,   0.        ,   0.        ,\n",
              "         0.        ,   0.        ,   0.        ,   0.        ,\n",
              "         0.        ,   0.        ,   0.        ,   0.        ,\n",
              "        16.39047619])"
            ]
          },
          "metadata": {},
          "execution_count": 22
        }
      ],
      "source": [
        "loss_weights = np.zeros(int(crop_labels.max()) + 1)\n",
        "loss_weights[list(np.int_(crop_labels))] = weights\n",
        "loss_weights"
      ]
    },
    {
      "cell_type": "code",
      "source": [
        "df_train['weight'] = df_train['crop_type'].apply(lambda x: loss_weights[int(x)])\n",
        "df_val['weight'] = df_val['crop_type'].apply(lambda x: loss_weights[int(x)])"
      ],
      "metadata": {
        "id": "NOlbf1L885z_"
      },
      "id": "NOlbf1L885z_",
      "execution_count": 23,
      "outputs": []
    },
    {
      "cell_type": "markdown",
      "id": "lLqI5XgBOyxE",
      "metadata": {
        "id": "lLqI5XgBOyxE"
      },
      "source": [
        "## Extract labels"
      ]
    },
    {
      "cell_type": "code",
      "execution_count": 24,
      "id": "p9s-spgZO12F",
      "metadata": {
        "id": "p9s-spgZO12F"
      },
      "outputs": [],
      "source": [
        "with open(f'{data_dir}/{train_label_collection}/{train_label_collection}'\n",
        "          f'_{train_data.iloc[0][\"folder_id\"]}/stac.json') as ll:\n",
        "    label_json = json.load(ll)"
      ]
    },
    {
      "cell_type": "code",
      "execution_count": 25,
      "id": "7rjt5idSPvjH",
      "metadata": {
        "colab": {
          "base_uri": "https://localhost:8080/"
        },
        "id": "7rjt5idSPvjH",
        "outputId": "75111504-e4ca-425e-ac87-885ecc1980eb"
      },
      "outputs": [
        {
          "output_type": "execute_result",
          "data": {
            "text/plain": [
              "{1: 'Wheat',\n",
              " 2: 'Mustard',\n",
              " 3: 'Lentil',\n",
              " 4: 'No Crop',\n",
              " 6: 'Sugarcane',\n",
              " 8: 'Garlic',\n",
              " 15: 'Potato',\n",
              " 5: 'Green pea',\n",
              " 16: 'Bersem',\n",
              " 14: 'Coriander',\n",
              " 13: 'Gram',\n",
              " 9: 'Maize',\n",
              " 36: 'Rice'}"
            ]
          },
          "metadata": {},
          "execution_count": 25
        }
      ],
      "source": [
        "crop_dict = {asset.get('values')[0]:asset.get('summary') \n",
        "  for asset in label_json['assets']['raster_labels']['file:values']}\n",
        "crop_dict"
      ]
    },
    {
      "cell_type": "markdown",
      "id": "Etysg8Y8m0H5",
      "metadata": {
        "id": "Etysg8Y8m0H5"
      },
      "source": [
        "## Specify Data Loading pipeline"
      ]
    },
    {
      "cell_type": "markdown",
      "id": "GmmFMzALqPcQ",
      "metadata": {
        "id": "GmmFMzALqPcQ"
      },
      "source": [
        "### Specify parameters"
      ]
    },
    {
      "cell_type": "code",
      "execution_count": 26,
      "id": "6bZsIvgBqRer",
      "metadata": {
        "id": "6bZsIvgBqRer"
      },
      "outputs": [],
      "source": [
        "batch_size = 1024"
      ]
    },
    {
      "cell_type": "markdown",
      "id": "1EVJPEqbnr_J",
      "metadata": {
        "id": "1EVJPEqbnr_J"
      },
      "source": [
        "### Specify the Dataset"
      ]
    },
    {
      "cell_type": "code",
      "execution_count": 27,
      "id": "2hX7SpwQe0H5",
      "metadata": {
        "id": "2hX7SpwQe0H5"
      },
      "outputs": [],
      "source": [
        "class AgriDataset(torch.utils.data.Dataset):\n",
        "\n",
        "  def __init__(self, df, transforms=None, \n",
        "               band_names=BAND_NAMES, size=64,\n",
        "               means=None, stds=None):\n",
        "    self.df = df\n",
        "    self.transforms = transforms\n",
        "    self.band_names = band_names\n",
        "    self.size = size\n",
        "    self.means = means\n",
        "    self.stds = stds\n",
        "\n",
        "  def __getitem__(self, index):\n",
        "    imgs = []\n",
        "    for band in self.band_names:\n",
        "      source_fn = rf\"{self.df.iloc[index]['source_path']}{band}.tif\"\n",
        "      with rasterio.open(source_fn) as src:\n",
        "        imgs.append(src.read()[0].astype(np.float64))\n",
        "    \n",
        "    label = torch.tensor(self.df.iloc[index]['crop_ind'], dtype=torch.int64)\n",
        "    # label = torch.tensor(self.df.iloc[index]['crop_type'], dtype=torch.int64)\n",
        "    field_id = torch.tensor(self.df.iloc[index]['field_id'], dtype=torch.int64)\n",
        "\n",
        "    with rasterio.open(self.df.iloc[index]['field_path']) as src:\n",
        "      fields = src.read()[0].astype(np.int64)\n",
        "      imgs.append(fields)\n",
        "    imgs = np.array(imgs)\n",
        "    if self.means is not None and self.stds is not None:\n",
        "      imgs[:-1] = (imgs[:-1] - self.means.reshape(-1,1,1)) / self.stds.reshape(-1,1,1)\n",
        "    else:\n",
        "      imgs[:-1] = imgs[:-1] / 255.\n",
        "    imgs = torch.tensor(imgs).float()\n",
        "\n",
        "    # crop around field center\n",
        "    hs = int(self.size/2)\n",
        "    ind = [self.df.iloc[index]['center_y'], self.df.iloc[index]['center_x']]\n",
        "    ind = np.max(np.array([[hs, hs], ind]), axis=0)\n",
        "    ind = np.int_(np.min(np.array([np.array(imgs.shape[-2:])-hs-1, ind]), \n",
        "                         axis=0))\n",
        "    imgs = imgs[:, ind[0]-hs:ind[0]+hs, ind[1]-hs:ind[1]+hs]\n",
        "    imgs[-1] = (imgs[-1] == field_id)*1\n",
        "      \n",
        "    if self.transforms:\n",
        "      imgs = self.transforms(imgs)\n",
        "\n",
        "    return imgs.float(), label, field_id\n",
        "    \n",
        "\n",
        "  def __len__(self):\n",
        "    return len(self.df)"
      ]
    },
    {
      "cell_type": "markdown",
      "id": "nN70MBjGzOUH",
      "metadata": {
        "id": "nN70MBjGzOUH"
      },
      "source": [
        "### Specify transforms"
      ]
    },
    {
      "cell_type": "code",
      "execution_count": 28,
      "id": "4MbR7RMSzRpO",
      "metadata": {
        "id": "4MbR7RMSzRpO"
      },
      "outputs": [],
      "source": [
        "train_transforms = torch_transforms.Compose([\n",
        "        torch_transforms.RandomHorizontalFlip(),\n",
        "        torch_transforms.RandomVerticalFlip(),\n",
        "        torch_transforms.RandomRotation(degrees=30),\n",
        "    ])\n",
        "\n",
        "validation_transforms = torch_transforms.Compose([\n",
        "        torch_transforms.RandomHorizontalFlip(),\n",
        "        torch_transforms.RandomVerticalFlip(),\n",
        "    ])"
      ]
    },
    {
      "cell_type": "markdown",
      "id": "TMWu0HGHLciF",
      "metadata": {
        "id": "TMWu0HGHLciF"
      },
      "source": [
        "### Test the loaders"
      ]
    },
    {
      "cell_type": "code",
      "execution_count": 29,
      "id": "CF_RmPV7mywU",
      "metadata": {
        "id": "CF_RmPV7mywU"
      },
      "outputs": [],
      "source": [
        "np.random.seed(random_seed)\n",
        "torch.manual_seed(random_seed)\n",
        "sampler_tr = torch.utils.data.WeightedRandomSampler(df_train['weight'], \n",
        "                                                    len(df_train))\n",
        "sampler_val = torch.utils.data.WeightedRandomSampler(df_val['weight'],\n",
        "                                                     len(df_val))\n",
        "dl_train0 = torch.utils.data.DataLoader(\n",
        "    AgriDataset(df_train, size=size,\n",
        "                # transforms=train_transforms,\n",
        "                means=means, stds=stds\n",
        "                ), \n",
        "    shuffle=False, batch_size=batch_size, num_workers=2,\n",
        "    # sampler=sampler_tr\n",
        "    )\n",
        "dl_train = torch.utils.data.DataLoader(\n",
        "    AgriDataset(df_train, size=size,\n",
        "                transforms=train_transforms,\n",
        "                means=means, stds=stds\n",
        "                ), \n",
        "    shuffle=False, batch_size=batch_size, num_workers=2,\n",
        "    # sampler=sampler_tr\n",
        "    )\n",
        "dl_val = torch.utils.data.DataLoader(\n",
        "    AgriDataset(df_val, size=size,\n",
        "                transforms=validation_transforms,\n",
        "                means=means, stds=stds\n",
        "                ), \n",
        "    shuffle=False, batch_size=batch_size, num_workers=2,\n",
        "    # sampler=sampler_val\n",
        "    )"
      ]
    },
    {
      "cell_type": "code",
      "execution_count": 30,
      "id": "-im5bMRLr8Zq",
      "metadata": {
        "id": "-im5bMRLr8Zq"
      },
      "outputs": [],
      "source": [
        "# torch.manual_seed(random_seed)\n",
        "# imgs, labels, _ = next(iter(dl_train))\n",
        "# torch.manual_seed(random_seed)\n",
        "# imgs0, labels0, _ = next(iter(dl_train0))"
      ]
    },
    {
      "cell_type": "code",
      "execution_count": 31,
      "id": "u9iid9I7sPsF",
      "metadata": {
        "id": "u9iid9I7sPsF"
      },
      "outputs": [],
      "source": [
        "# imgs.shape, labels.shape"
      ]
    },
    {
      "cell_type": "code",
      "execution_count": 32,
      "id": "Q4mkN3NawctR",
      "metadata": {
        "id": "Q4mkN3NawctR"
      },
      "outputs": [],
      "source": [
        "# ind = 0\n",
        "# s = 3"
      ]
    },
    {
      "cell_type": "code",
      "execution_count": 33,
      "id": "L3ssR_ibGyeG",
      "metadata": {
        "id": "L3ssR_ibGyeG"
      },
      "outputs": [],
      "source": [
        "# fig, axes = plt.subplots(4, 4, figsize=(s*4, s*3))\n",
        "# print(labels[ind], crop_dict[crop_labels[labels[ind].item()]])\n",
        "# # print(labels[ind], crop_dict[labels[ind].item()])\n",
        "# for ax, img in zip(axes.ravel(), imgs[ind]):\n",
        "#   plt.sca(ax)\n",
        "#   im = img.numpy()\n",
        "#   im = im / np.max(im)\n",
        "#   io.imshow(im)"
      ]
    },
    {
      "cell_type": "code",
      "execution_count": 34,
      "id": "2zh4jKUlB_85",
      "metadata": {
        "id": "2zh4jKUlB_85"
      },
      "outputs": [],
      "source": [
        "# fig, axes = plt.subplots(4, 4, figsize=(s*4, s*3))\n",
        "# print(labels0[ind], crop_dict[crop_labels[labels0[ind].item()]])\n",
        "# # print(labels0[ind], crop_dict[labels0[ind].item()])\n",
        "# for ax, img in zip(axes.ravel(), imgs0[ind]):\n",
        "#   plt.sca(ax)\n",
        "#   im = img.numpy()\n",
        "#   im = im / np.max(im)\n",
        "#   io.imshow(im)"
      ]
    },
    {
      "cell_type": "markdown",
      "id": "zrW5YsCYLkei",
      "metadata": {
        "id": "zrW5YsCYLkei"
      },
      "source": [
        "### Specify the loaders"
      ]
    },
    {
      "cell_type": "code",
      "execution_count": 35,
      "id": "Oo8c96-bFVaT",
      "metadata": {
        "id": "Oo8c96-bFVaT"
      },
      "outputs": [],
      "source": [
        "np.random.seed(random_seed)\n",
        "torch.manual_seed(random_seed)\n",
        "\n",
        "dl_train = torch.utils.data.DataLoader(\n",
        "    AgriDataset(df_train, size=size,\n",
        "                transforms=train_transforms,\n",
        "                means=means, stds=stds\n",
        "                ), \n",
        "    batch_size=batch_size, num_workers=2,\n",
        "    # shuffle=True,\n",
        "    drop_last=False,\n",
        "    sampler=sampler_tr\n",
        "    )\n",
        "dl_val = torch.utils.data.DataLoader(\n",
        "    AgriDataset(df_val, size=size,\n",
        "                transforms=validation_transforms,\n",
        "                means=means, stds=stds\n",
        "                ), \n",
        "    batch_size=batch_size, num_workers=2,\n",
        "    shuffle=False,\n",
        "    drop_last=False,\n",
        "    sampler=sampler_val\n",
        "    )"
      ]
    },
    {
      "cell_type": "markdown",
      "id": "ewYce_-h3SaV",
      "metadata": {
        "id": "ewYce_-h3SaV"
      },
      "source": [
        "## Specify the training pipeline"
      ]
    },
    {
      "cell_type": "markdown",
      "id": "7BS58Jm4Ak8z",
      "metadata": {
        "id": "7BS58Jm4Ak8z"
      },
      "source": [
        "### Parameters"
      ]
    },
    {
      "cell_type": "code",
      "execution_count": 36,
      "id": "4ylw-WU030cZ",
      "metadata": {
        "id": "4ylw-WU030cZ"
      },
      "outputs": [],
      "source": [
        "lr = 0.0001\n",
        "weight_decay = 0.0005\n",
        "epochs = 30\n",
        "patience = 3\n",
        "factor = 0.1"
      ]
    },
    {
      "cell_type": "markdown",
      "id": "0St9WaOKAEYu",
      "metadata": {
        "id": "0St9WaOKAEYu"
      },
      "source": [
        "### Model and loss"
      ]
    },
    {
      "cell_type": "code",
      "source": [
        "net = models.efficientnet_b0(weights=models.EfficientNet_B0_Weights.IMAGENET1K_V1)\n",
        "rgbweights = list(net.features[0].parameters())[0].detach()"
      ],
      "metadata": {
        "id": "REEAZBU07Py_"
      },
      "id": "REEAZBU07Py_",
      "execution_count": 37,
      "outputs": []
    },
    {
      "cell_type": "code",
      "source": [
        "from torchvision.ops.misc import Conv2dNormActivation"
      ],
      "metadata": {
        "id": "NphaUcan__0Y"
      },
      "id": "NphaUcan__0Y",
      "execution_count": 38,
      "outputs": []
    },
    {
      "cell_type": "code",
      "source": [
        "nch = len(BAND_NAMES) + 1\n",
        "net.features[0] =  Conv2dNormActivation(\n",
        "    nch, 32, kernel_size=3, stride=2, \n",
        "    norm_layer=nn.BatchNorm2d, activation_layer=nn.SiLU\n",
        "    )\n",
        "\n",
        "first_layer = list(net.features[0].children())[0]\n",
        "with torch.no_grad():\n",
        "  for i in range(nch):\n",
        "    first_layer.weight[:, i] = rgbweights.mean(1)\n",
        "  for i, j in zip([0, 1, 2], [2, 1, 0]):\n",
        "    first_layer.weight[:, i] = rgbweights[:, j]\n",
        "  first_layer.weight[:] = first_layer.weight[:] * 3 / nch\n",
        "\n",
        "net.classifier[1] = nn.Linear(in_features=1280, \n",
        "                              out_features=len(crop_labels), \n",
        "                              # out_features=int(crop_labels.max()) + 1, \n",
        "                              bias=True)\n",
        "net.cuda();"
      ],
      "metadata": {
        "id": "vvsxjXrz7P2B"
      },
      "id": "vvsxjXrz7P2B",
      "execution_count": 39,
      "outputs": []
    },
    {
      "cell_type": "code",
      "execution_count": 40,
      "id": "5_Rns_Wa41hR",
      "metadata": {
        "id": "5_Rns_Wa41hR"
      },
      "outputs": [],
      "source": [
        "# loss_fn = nn.CrossEntropyLoss(weight=torch.tensor(weights).float()).cuda()\n",
        "# loss_fn = nn.CrossEntropyLoss(weight=torch.tensor(loss_weights).float()).cuda()\n",
        "loss_fn = nn.CrossEntropyLoss().cuda()"
      ]
    },
    {
      "cell_type": "markdown",
      "id": "4Ez9CUTN9cYo",
      "metadata": {
        "id": "4Ez9CUTN9cYo"
      },
      "source": [
        "### Optimizer and scheduler"
      ]
    },
    {
      "cell_type": "markdown",
      "source": [],
      "metadata": {
        "id": "OBk7ucXJiw65"
      },
      "id": "OBk7ucXJiw65"
    },
    {
      "cell_type": "code",
      "execution_count": 41,
      "id": "69pKnisc4nyy",
      "metadata": {
        "id": "69pKnisc4nyy"
      },
      "outputs": [],
      "source": [
        "optimizer = torch.optim.AdamW(\n",
        "    params=[{\"params\": [p for p in net.parameters() if p.requires_grad]}],\n",
        "            lr=lr, weight_decay=weight_decay\n",
        "            )\n",
        "lr_scheduler = torch.optim.lr_scheduler.OneCycleLR(\n",
        "    optimizer, max_lr=lr, steps_per_epoch=len(dl_train), epochs=epochs\n",
        "    )\n",
        "# lr_scheduler = torch.optim.lr_scheduler.ReduceLROnPlateau(\n",
        "#     optimizer, mode='min', factor=factor, patience=patience\n",
        "#     )"
      ]
    },
    {
      "cell_type": "markdown",
      "id": "bkfDGGNQBg4G",
      "metadata": {
        "id": "bkfDGGNQBg4G"
      },
      "source": [
        "### Training step"
      ]
    },
    {
      "cell_type": "code",
      "execution_count": 42,
      "id": "xsBjaMOWDh1r",
      "metadata": {
        "id": "xsBjaMOWDh1r"
      },
      "outputs": [],
      "source": [
        "def train_epoch(net, loss_fn, dl_train, optimizer, lr_scheduler):\n",
        "  net.train()\n",
        "  loss_fn.train()\n",
        "  epoch_loss = 0\n",
        "  step = 0\n",
        "  for imgs, targets, _ in tqdm(dl_train):\n",
        "    step += 1\n",
        "    optimizer.zero_grad()\n",
        "    outputs = net(imgs.cuda())\n",
        "    losses = loss_fn(outputs, targets.cuda())\n",
        "    losses.backward()\n",
        "    optimizer.step()\n",
        "    epoch_loss += losses.item()\n",
        "    lr_scheduler.step()\n",
        "  epoch_loss /= step\n",
        "  return epoch_loss"
      ]
    },
    {
      "cell_type": "markdown",
      "id": "J04gxD4jBmvj",
      "metadata": {
        "id": "J04gxD4jBmvj"
      },
      "source": [
        "### Validation step"
      ]
    },
    {
      "cell_type": "code",
      "execution_count": 43,
      "id": "NDl3BucGGCVn",
      "metadata": {
        "id": "NDl3BucGGCVn"
      },
      "outputs": [],
      "source": [
        "def validate_epoch(net, loss_fn, dl_val):\n",
        "  net.eval()\n",
        "  loss_fn.eval()\n",
        "  epoch_loss = 0\n",
        "  step = 0\n",
        "\n",
        "  with torch.no_grad():\n",
        "    for imgs, targets, _ in tqdm(dl_val):\n",
        "      step += 1\n",
        "      outputs = net(imgs.cuda())\n",
        "      losses = loss_fn(outputs, targets.cuda())\n",
        "      epoch_loss += losses.item()\n",
        "  epoch_loss /= step\n",
        "  return epoch_loss"
      ]
    },
    {
      "cell_type": "markdown",
      "id": "1Vyi8pDqG_xg",
      "metadata": {
        "id": "1Vyi8pDqG_xg"
      },
      "source": [
        "## Train the model"
      ]
    },
    {
      "cell_type": "code",
      "execution_count": null,
      "id": "gCL8_nUXG_GS",
      "metadata": {
        "colab": {
          "base_uri": "https://localhost:8080/"
        },
        "id": "gCL8_nUXG_GS",
        "outputId": "e7126c24-2c28-406b-e943-c434d199aaf5"
      },
      "outputs": [
        {
          "output_type": "stream",
          "name": "stderr",
          "text": [
            " 40%|████      | 2/5 [00:29<00:36, 12.20s/it]"
          ]
        }
      ],
      "source": [
        "%%time\n",
        "torch.manual_seed(random_seed)\n",
        "np.random.seed(random_seed)\n",
        "best_loss = 10**10\n",
        "train_losses = []\n",
        "val_losses = []\n",
        "for epoch in range(epochs):\n",
        "    # training pass\n",
        "    train_loss = train_epoch(net, loss_fn, dl_train, optimizer, lr_scheduler)\n",
        "    # train_loss = train_epoch(net, loss_fn, dl_val, optimizer, lr_scheduler)\n",
        "\n",
        "    # validation pass\n",
        "    val_loss = validate_epoch(net, loss_fn, dl_val)\n",
        "    # lr_scheduler.step(val_loss)\n",
        "\n",
        "    # output\n",
        "    print(f\"epoch {epoch + 1} training loss: {train_loss:.4f}; \"\n",
        "          f\"validation loss: {val_loss:.4f}; \"\n",
        "          f\"lr: {optimizer.param_groups[0]['lr']}\")\n",
        "    train_losses.append(train_loss)\n",
        "    val_losses.append(val_loss)\n",
        "    if val_loss <= best_loss:\n",
        "      best_loss = val_loss\n",
        "      torch.save(net.state_dict(), 'model.pth')\n",
        "      print('saving best model')"
      ]
    },
    {
      "cell_type": "code",
      "execution_count": null,
      "id": "mKOdWWaT_tnF",
      "metadata": {
        "id": "mKOdWWaT_tnF"
      },
      "outputs": [],
      "source": [
        "plt.figure(figsize=(10, 5))\n",
        "plt.plot(train_losses,'r')\n",
        "plt.plot(val_losses, 'b')"
      ]
    },
    {
      "cell_type": "markdown",
      "id": "W_EsaEYQHDq9",
      "metadata": {
        "id": "W_EsaEYQHDq9"
      },
      "source": [
        "## Set up the loaders and model for evaluation"
      ]
    },
    {
      "cell_type": "code",
      "execution_count": null,
      "id": "EQ2FgI1kCGBn",
      "metadata": {
        "id": "EQ2FgI1kCGBn"
      },
      "outputs": [],
      "source": [
        "dl_test = torch.utils.data.DataLoader(\n",
        "    AgriDataset(df_val,\n",
        "                means=means, stds=stds),\n",
        "    shuffle=False, drop_last=False, batch_size=batch_size, num_workers=2\n",
        "    )"
      ]
    },
    {
      "cell_type": "code",
      "execution_count": null,
      "id": "XeTOSV7iCQ9x",
      "metadata": {
        "id": "XeTOSV7iCQ9x"
      },
      "outputs": [],
      "source": [
        "net.load_state_dict(torch.load('model.pth'))\n",
        "net.eval();"
      ]
    },
    {
      "cell_type": "markdown",
      "id": "8aOuTw8HCAbA",
      "metadata": {
        "id": "8aOuTw8HCAbA"
      },
      "source": [
        "## Evaluate the model on the validation set"
      ]
    },
    {
      "cell_type": "code",
      "execution_count": null,
      "id": "o0qp7CVjCZ_g",
      "metadata": {
        "id": "o0qp7CVjCZ_g"
      },
      "outputs": [],
      "source": [
        "def evaluate(dl_test, net, crop_labels, df_val):\n",
        "  field_data = []\n",
        "  outputs = []\n",
        "  with torch.no_grad():\n",
        "    for imgs, gt, field_id in tqdm(dl_test):\n",
        "      output = net(imgs.cuda()).softmax(-1).cpu().numpy()\n",
        "      # output = output[:, np.int_(crop_labels)]\n",
        "      field_id = field_id.numpy()\n",
        "      field_data.append(field_id)\n",
        "      outputs.append(output)\n",
        "  outputs = np.concatenate(outputs, axis=0)\n",
        "  outputs = outputs * df_val['field_area'].values.reshape(-1, 1)\n",
        "\n",
        "  df_out = pd.DataFrame(outputs, columns=crop_labels)\n",
        "  df_out['field_id'] = df_val['field_id']\n",
        "  df_out['crop_type'] = df_val['crop_type']\n",
        "  df_sm = df_out.groupby('field_id').sum().reset_index()\n",
        "  probs = df_sm[crop_labels].values\n",
        "  probs = probs / np.sum(probs, axis=1).reshape(-1,1)\n",
        "  crop_types = df_out.groupby('field_id').mean().reset_index()['crop_type'].values\n",
        "        \n",
        "  return probs, np.int_(df_sm['field_id'].values), crop_types"
      ]
    },
    {
      "cell_type": "code",
      "execution_count": null,
      "id": "7fV5Ce5uC9S2",
      "metadata": {
        "id": "7fV5Ce5uC9S2"
      },
      "outputs": [],
      "source": [
        "probs, field_ids, gt = evaluate(dl_test, net, crop_labels, df_val)"
      ]
    },
    {
      "cell_type": "code",
      "source": [
        "probs.shape, field_ids.shape, gt.shape"
      ],
      "metadata": {
        "id": "7CByPPyyQBit"
      },
      "id": "7CByPPyyQBit",
      "execution_count": null,
      "outputs": []
    },
    {
      "cell_type": "code",
      "execution_count": null,
      "id": "Ux-2ff1cC_sx",
      "metadata": {
        "id": "Ux-2ff1cC_sx"
      },
      "outputs": [],
      "source": [
        "from sklearn.metrics import classification_report\n",
        "\n",
        "print(classification_report(gt, np.array(crop_labels)[np.argmax(probs, axis=1)]))"
      ]
    },
    {
      "cell_type": "code",
      "execution_count": null,
      "id": "O3aOekbmFEOF",
      "metadata": {
        "id": "O3aOekbmFEOF"
      },
      "outputs": [],
      "source": [
        "def to_one_hot(x):\n",
        "    y = np.zeros((x.size, x.max() + 1))\n",
        "    y[np.arange(x.size), x] = 1\n",
        "    return y\n",
        "\n",
        "def cross_entropy(predictions, targets):\n",
        "    return -np.sum(np.sum(np.log(predictions + 10**(-10)) * targets, axis=1))/len(targets)\n"
      ]
    },
    {
      "cell_type": "code",
      "execution_count": null,
      "id": "QYxNVMHfHRld",
      "metadata": {
        "id": "QYxNVMHfHRld"
      },
      "outputs": [],
      "source": [
        "# targets = to_one_hot(np.int_([np.where(crop_labels == lb)[0][0] for lb in gt]))\n",
        "targets = to_one_hot(np.int_(gt))\n",
        "targets = targets[:, np.where(targets.sum(axis=0) > 0)[0]]"
      ]
    },
    {
      "cell_type": "code",
      "execution_count": null,
      "id": "pcoDvgg0Hd8T",
      "metadata": {
        "id": "pcoDvgg0Hd8T"
      },
      "outputs": [],
      "source": [
        "cross_entropy(probs, targets)"
      ]
    },
    {
      "cell_type": "markdown",
      "id": "yCvvWdPUH5yU",
      "metadata": {
        "id": "yCvvWdPUH5yU"
      },
      "source": [
        "## Prepare the test dataset"
      ]
    },
    {
      "cell_type": "code",
      "execution_count": null,
      "id": "8OkzF6RDHedl",
      "metadata": {
        "id": "8OkzF6RDHedl"
      },
      "outputs": [],
      "source": [
        "test_paths = os.listdir(os.path.join(data_dir, test_label_collection))\n",
        "test_ids = [fn.split('_')[-1] for fn in test_paths if 'labels_test' in fn]\n",
        "\n",
        "field_paths = [f'{data_dir}/{test_label_collection}/{test_label_collection}_{i}/field_ids.tif' \n",
        "               for i in test_ids]\n",
        "label_paths = [f'{data_dir}/{test_label_collection}/{test_label_collection}_{i}/raster_labels.tif' \n",
        "               for i in test_ids]\n",
        "source_paths = [f'{data_dir}/{source_collection}/{source_collection}_{i}/' \n",
        "               for i in test_ids]"
      ]
    },
    {
      "cell_type": "code",
      "execution_count": null,
      "id": "BBrtOyDsIvct",
      "metadata": {
        "id": "BBrtOyDsIvct"
      },
      "outputs": [],
      "source": [
        "test_data = pd.DataFrame(np.array([test_ids, field_paths, label_paths, source_paths]).transpose(), \n",
        "                          columns=['folder_id', 'field_path', 'label_path', 'source_path'])\n",
        "test_data.head()"
      ]
    },
    {
      "cell_type": "code",
      "source": [
        "def extract_field_crop_data_test(data):\n",
        "  field_ids = []\n",
        "  field_center_x = []\n",
        "  field_center_y = []\n",
        "  field_paths = []\n",
        "  source_paths = []\n",
        "  field_area = []\n",
        "\n",
        "  for i in tqdm(range(len(data))):\n",
        "      with rasterio.open(data['field_path'].iloc[i]) as src:\n",
        "          field_data = src.read()[0]\n",
        "\n",
        "      for field_id in np.unique(field_data)[1:]:\n",
        "          ind = np.where(field_data == field_id)\n",
        "          field_ids.append(field_id)\n",
        "          field_area.append(len(ind[0]))\n",
        "          field_center_y.append(np.mean(ind[0]))\n",
        "          field_center_x.append(np.mean(ind[1]))\n",
        "          field_paths.append(data['field_path'].iloc[i])\n",
        "          source_paths.append(data['source_path'].iloc[i])\n",
        "\n",
        "  df = pd.DataFrame(np.array([field_ids, field_center_x, \n",
        "                              field_center_y, field_area]).transpose(),\n",
        "                    columns=['field_id', 'center_x', 'center_y', 'field_area'])\n",
        "  df['field_path'] = field_paths\n",
        "  df['source_path'] = source_paths\n",
        "  return df"
      ],
      "metadata": {
        "id": "QKB4bUL4FCT3"
      },
      "id": "QKB4bUL4FCT3",
      "execution_count": null,
      "outputs": []
    },
    {
      "cell_type": "code",
      "source": [
        "test_df = extract_field_crop_data_test(test_data)\n",
        "test_df['crop_ind'] = 0\n",
        "test_df['crop_type'] = 1"
      ],
      "metadata": {
        "id": "ues-moZF_JHx"
      },
      "id": "ues-moZF_JHx",
      "execution_count": null,
      "outputs": []
    },
    {
      "cell_type": "markdown",
      "id": "rZ6YdR1sI1V6",
      "metadata": {
        "id": "rZ6YdR1sI1V6"
      },
      "source": [
        "## Evaluate the model on the test set"
      ]
    },
    {
      "cell_type": "code",
      "execution_count": null,
      "id": "VrvH7yEwIxE_",
      "metadata": {
        "id": "VrvH7yEwIxE_"
      },
      "outputs": [],
      "source": [
        "dl_test = torch.utils.data.DataLoader(\n",
        "    AgriDataset(test_df,\n",
        "                means=means, stds=stds), shuffle=False, drop_last=False, \n",
        "    batch_size=batch_size, num_workers=2\n",
        "    )"
      ]
    },
    {
      "cell_type": "code",
      "execution_count": null,
      "id": "4pyJFKOXJGah",
      "metadata": {
        "id": "4pyJFKOXJGah"
      },
      "outputs": [],
      "source": [
        "probs, field_ids, _ = evaluate(dl_test, net, crop_labels, test_df)"
      ]
    },
    {
      "cell_type": "code",
      "execution_count": null,
      "id": "qPHNGNQlJaDj",
      "metadata": {
        "id": "qPHNGNQlJaDj"
      },
      "outputs": [],
      "source": [
        "crop_columns = [crop_dict[key] for key in crop_labels]\n",
        "\n",
        "output_df = pd.DataFrame(columns=['field_id'] + crop_columns)\n",
        "\n",
        "output_df['field_id'] = field_ids\n",
        "\n",
        "output_df[crop_columns] = probs \n",
        "output_df.to_csv('submission.csv', index=False)"
      ]
    },
    {
      "cell_type": "code",
      "execution_count": null,
      "id": "4yM_v1NaJkJc",
      "metadata": {
        "id": "4yM_v1NaJkJc"
      },
      "outputs": [],
      "source": [
        "from google.colab import files\n",
        "files.download('submission.csv')"
      ]
    },
    {
      "cell_type": "code",
      "source": [],
      "metadata": {
        "id": "GjHJWuxDFiWx"
      },
      "id": "GjHJWuxDFiWx",
      "execution_count": null,
      "outputs": []
    }
  ],
  "metadata": {
    "accelerator": "GPU",
    "colab": {
      "collapsed_sections": [],
      "provenance": [],
      "include_colab_link": true
    },
    "gpuClass": "standard",
    "kernelspec": {
      "display_name": "Python 3 (ipykernel)",
      "language": "python",
      "name": "python3"
    },
    "language_info": {
      "codemirror_mode": {
        "name": "ipython",
        "version": 3
      },
      "file_extension": ".py",
      "mimetype": "text/x-python",
      "name": "python",
      "nbconvert_exporter": "python",
      "pygments_lexer": "ipython3",
      "version": "3.7.13"
    }
  },
  "nbformat": 4,
  "nbformat_minor": 5
}